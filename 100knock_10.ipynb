{
 "cells": [
  {
   "cell_type": "markdown",
   "metadata": {},
   "source": [
    "KFTT http://www.phontron.com/kftt/index-ja.html#data"
   ]
  },
  {
   "cell_type": "markdown",
   "metadata": {},
   "source": [
    "# 90 データの準備\n",
    "#### 機械翻訳のデータセットをダウンロードせよ．訓練データ，開発データ，評価データを整形し，必要に応じてトークン化などの前処理を行うこと．ただし，この段階ではトークンの単位として形態素（日本語）および単語（英語）を採用せよ．"
   ]
  },
  {
   "cell_type": "code",
   "execution_count": 3,
   "metadata": {},
   "outputs": [
    {
     "name": "stdout",
     "output_type": "stream",
     "text": [
      "--2022-02-14 01:17:20--  http://www.phontron.com/kftt/download/kftt-data-1.0.tar.gz\n",
      "Resolving www.phontron.com (www.phontron.com)... 208.113.196.149\n",
      "Connecting to www.phontron.com (www.phontron.com)|208.113.196.149|:80... connected.\n",
      "HTTP request sent, awaiting response... 200 OK\n",
      "Length: 99246893 (95M) [application/gzip]\n",
      "Saving to: ‘kftt-data-1.0.tar.gz’\n",
      "\n",
      "kftt-data-1.0.tar.g 100%[===================>]  94.65M  16.6MB/s    in 6.8s    \n",
      "\n",
      "2022-02-14 01:17:28 (13.8 MB/s) - ‘kftt-data-1.0.tar.gz’ saved [99246893/99246893]\n",
      "\n"
     ]
    }
   ],
   "source": [
    "!wget http://www.phontron.com/kftt/download/kftt-data-1.0.tar.gz"
   ]
  },
  {
   "cell_type": "code",
   "execution_count": 4,
   "metadata": {},
   "outputs": [
    {
     "name": "stdout",
     "output_type": "stream",
     "text": [
      "kftt-data-1.0/\n",
      "kftt-data-1.0/data/\n",
      "kftt-data-1.0/data/orig/\n",
      "kftt-data-1.0/data/orig/kyoto-tune.en\n",
      "kftt-data-1.0/data/orig/kyoto-dev.ja\n",
      "kftt-data-1.0/data/orig/kyoto-dev.en\n",
      "kftt-data-1.0/data/orig/kyoto-train.en\n",
      "kftt-data-1.0/data/orig/kyoto-tune.ja\n",
      "kftt-data-1.0/data/orig/kyoto-train.ja\n",
      "kftt-data-1.0/data/orig/kyoto-test.ja\n",
      "kftt-data-1.0/data/orig/kyoto-test.en\n",
      "kftt-data-1.0/data/tok/\n",
      "kftt-data-1.0/data/tok/kyoto-tune.en\n",
      "kftt-data-1.0/data/tok/kyoto-dev.ja\n",
      "kftt-data-1.0/data/tok/kyoto-train.cln.en\n",
      "kftt-data-1.0/data/tok/kyoto-dev.en\n",
      "kftt-data-1.0/data/tok/kyoto-train.en\n",
      "kftt-data-1.0/data/tok/kyoto-tune.ja\n",
      "kftt-data-1.0/data/tok/kyoto-train.cln.ja\n",
      "kftt-data-1.0/data/tok/kyoto-train.ja\n",
      "kftt-data-1.0/data/tok/kyoto-test.ja\n",
      "kftt-data-1.0/data/tok/kyoto-test.en\n",
      "kftt-data-1.0/README.txt\n"
     ]
    }
   ],
   "source": [
    "!tar zxvf kftt-data-1.0.tar.gz"
   ]
  },
  {
   "cell_type": "markdown",
   "metadata": {},
   "source": [
    "#### ginzaについて https://megagonlabs.github.io/ginza/"
   ]
  },
  {
   "cell_type": "code",
   "execution_count": 1,
   "metadata": {},
   "outputs": [
    {
     "name": "stdout",
     "output_type": "stream",
     "text": [
      "\u001b[33mWARNING: Value for scheme.headers does not match. Please report this to <https://github.com/pypa/pip/issues/9617>\n",
      "distutils: /opt/conda/include/python3.8/UNKNOWN\n",
      "sysconfig: /opt/conda/include/python3.8\u001b[0m\n",
      "\u001b[33mWARNING: Additional context:\n",
      "user = False\n",
      "home = None\n",
      "root = None\n",
      "prefix = None\u001b[0m\n",
      "Collecting ginza\n",
      "  Downloading ginza-5.1.0.tar.gz (25 kB)\n",
      "Collecting spacy<3.3.0,>=3.2.0\n",
      "  Downloading spacy-3.2.2-cp38-cp38-manylinux_2_17_x86_64.manylinux2014_x86_64.whl (6.2 MB)\n",
      "\u001b[K     |████████████████████████████████| 6.2 MB 8.5 MB/s eta 0:00:01\n",
      "\u001b[?25hCollecting plac>=1.3.3\n",
      "  Downloading plac-1.3.4-py2.py3-none-any.whl (22 kB)\n",
      "Collecting SudachiPy<0.7.0,>=0.5.4\n",
      "  Downloading SudachiPy-0.6.3-cp38-cp38-manylinux_2_5_x86_64.manylinux1_x86_64.manylinux_2_12_x86_64.manylinux2010_x86_64.whl (2.2 MB)\n",
      "\u001b[K     |████████████████████████████████| 2.2 MB 55.8 MB/s eta 0:00:01\n",
      "\u001b[?25hCollecting SudachiDict-core>=20210802\n",
      "  Downloading SudachiDict-core-20211220.tar.gz (9.1 kB)\n",
      "Collecting spacy-loggers<2.0.0,>=1.0.0\n",
      "  Downloading spacy_loggers-1.0.1-py3-none-any.whl (7.0 kB)\n",
      "Collecting pathy>=0.3.5\n",
      "  Downloading pathy-0.6.1-py3-none-any.whl (42 kB)\n",
      "\u001b[K     |████████████████████████████████| 42 kB 3.8 MB/s  eta 0:00:01\n",
      "\u001b[?25hRequirement already satisfied: setuptools in /opt/conda/lib/python3.8/site-packages (from spacy<3.3.0,>=3.2.0->ginza) (49.6.0.post20210108)\n",
      "Collecting langcodes<4.0.0,>=3.2.0\n",
      "  Downloading langcodes-3.3.0-py3-none-any.whl (181 kB)\n",
      "\u001b[K     |████████████████████████████████| 181 kB 68.6 MB/s eta 0:00:01\n",
      "\u001b[?25hCollecting blis<0.8.0,>=0.4.0\n",
      "  Downloading blis-0.7.5-cp38-cp38-manylinux_2_17_x86_64.manylinux2014_x86_64.whl (9.9 MB)\n",
      "\u001b[K     |████████████████████████████████| 9.9 MB 66.1 MB/s eta 0:00:01\n",
      "\u001b[?25hRequirement already satisfied: jinja2 in /opt/conda/lib/python3.8/site-packages (from spacy<3.3.0,>=3.2.0->ginza) (2.11.3)\n",
      "Collecting thinc<8.1.0,>=8.0.12\n",
      "  Downloading thinc-8.0.13-cp38-cp38-manylinux_2_17_x86_64.manylinux2014_x86_64.whl (636 kB)\n",
      "\u001b[K     |████████████████████████████████| 636 kB 78.3 MB/s eta 0:00:01\n",
      "\u001b[?25hRequirement already satisfied: numpy>=1.15.0 in /opt/conda/lib/python3.8/site-packages (from spacy<3.3.0,>=3.2.0->ginza) (1.19.5)\n",
      "Collecting spacy-legacy<3.1.0,>=3.0.8\n",
      "  Downloading spacy_legacy-3.0.8-py2.py3-none-any.whl (14 kB)\n",
      "Collecting typer<0.5.0,>=0.3.0\n",
      "  Downloading typer-0.4.0-py3-none-any.whl (27 kB)\n",
      "Collecting pydantic!=1.8,!=1.8.1,<1.9.0,>=1.7.4\n",
      "  Downloading pydantic-1.8.2-cp38-cp38-manylinux2014_x86_64.whl (13.7 MB)\n",
      "\u001b[K     |████████████████████████████████| 13.7 MB 80.4 MB/s eta 0:00:01\n",
      "\u001b[?25hCollecting cymem<2.1.0,>=2.0.2\n",
      "  Downloading cymem-2.0.6-cp38-cp38-manylinux_2_17_x86_64.manylinux2014_x86_64.whl (36 kB)\n",
      "Collecting murmurhash<1.1.0,>=0.28.0\n",
      "  Downloading murmurhash-1.0.6-cp38-cp38-manylinux_2_5_x86_64.manylinux1_x86_64.manylinux_2_17_x86_64.manylinux2014_x86_64.whl (21 kB)\n",
      "Requirement already satisfied: requests<3.0.0,>=2.13.0 in /opt/conda/lib/python3.8/site-packages (from spacy<3.3.0,>=3.2.0->ginza) (2.25.1)\n",
      "Collecting srsly<3.0.0,>=2.4.1\n",
      "  Downloading srsly-2.4.2-cp38-cp38-manylinux_2_17_x86_64.manylinux2014_x86_64.whl (454 kB)\n",
      "\u001b[K     |████████████████████████████████| 454 kB 79.6 MB/s eta 0:00:01\n",
      "\u001b[?25hCollecting wasabi<1.1.0,>=0.8.1\n",
      "  Downloading wasabi-0.9.0-py3-none-any.whl (25 kB)\n",
      "Requirement already satisfied: tqdm<5.0.0,>=4.38.0 in /opt/conda/lib/python3.8/site-packages (from spacy<3.3.0,>=3.2.0->ginza) (4.60.0)\n",
      "Requirement already satisfied: packaging>=20.0 in /opt/conda/lib/python3.8/site-packages (from spacy<3.3.0,>=3.2.0->ginza) (20.9)\n",
      "Collecting catalogue<2.1.0,>=2.0.6\n",
      "  Downloading catalogue-2.0.6-py3-none-any.whl (17 kB)\n",
      "Collecting preshed<3.1.0,>=3.0.2\n",
      "  Downloading preshed-3.0.6-cp38-cp38-manylinux_2_5_x86_64.manylinux1_x86_64.manylinux_2_17_x86_64.manylinux2014_x86_64.whl (130 kB)\n",
      "\u001b[K     |████████████████████████████████| 130 kB 68.4 MB/s eta 0:00:01\n",
      "\u001b[?25hRequirement already satisfied: pyparsing>=2.0.2 in /opt/conda/lib/python3.8/site-packages (from packaging>=20.0->spacy<3.3.0,>=3.2.0->ginza) (2.4.7)\n",
      "Collecting smart-open<6.0.0,>=5.0.0\n",
      "  Downloading smart_open-5.2.1-py3-none-any.whl (58 kB)\n",
      "\u001b[K     |████████████████████████████████| 58 kB 19.2 MB/s eta 0:00:01\n",
      "\u001b[?25hRequirement already satisfied: typing-extensions>=3.7.4.3 in /opt/conda/lib/python3.8/site-packages (from pydantic!=1.8,!=1.8.1,<1.9.0,>=1.7.4->spacy<3.3.0,>=3.2.0->ginza) (3.7.4.3)\n",
      "Requirement already satisfied: chardet<5,>=3.0.2 in /opt/conda/lib/python3.8/site-packages (from requests<3.0.0,>=2.13.0->spacy<3.3.0,>=3.2.0->ginza) (4.0.0)\n",
      "Requirement already satisfied: urllib3<1.27,>=1.21.1 in /opt/conda/lib/python3.8/site-packages (from requests<3.0.0,>=2.13.0->spacy<3.3.0,>=3.2.0->ginza) (1.26.4)\n",
      "Requirement already satisfied: certifi>=2017.4.17 in /opt/conda/lib/python3.8/site-packages (from requests<3.0.0,>=2.13.0->spacy<3.3.0,>=3.2.0->ginza) (2020.12.5)\n",
      "Requirement already satisfied: idna<3,>=2.5 in /opt/conda/lib/python3.8/site-packages (from requests<3.0.0,>=2.13.0->spacy<3.3.0,>=3.2.0->ginza) (2.10)\n",
      "Requirement already satisfied: click<9.0.0,>=7.1.1 in /opt/conda/lib/python3.8/site-packages (from typer<0.5.0,>=0.3.0->spacy<3.3.0,>=3.2.0->ginza) (7.1.2)\n",
      "Requirement already satisfied: MarkupSafe>=0.23 in /opt/conda/lib/python3.8/site-packages (from jinja2->spacy<3.3.0,>=3.2.0->ginza) (1.1.1)\n",
      "Building wheels for collected packages: ginza, SudachiDict-core\n",
      "  Building wheel for ginza (setup.py) ... \u001b[?25ldone\n",
      "\u001b[?25h  Created wheel for ginza: filename=ginza-5.1.0-py3-none-any.whl size=20090 sha256=f83fcf918ed58d14031b13507a3a9a5de5f8ecf4dd5631fa143f96d18ee11c8b\n",
      "  Stored in directory: /home/jovyan/.cache/pip/wheels/32/8f/d3/896c669c92aa43d2d3f094681c39c0c2c376f07aa5c654007f\n",
      "  Building wheel for SudachiDict-core (setup.py) ... \u001b[?25ldone\n",
      "\u001b[?25h  Created wheel for SudachiDict-core: filename=SudachiDict_core-20211220-py3-none-any.whl size=71565332 sha256=a3c828461308199edbdea65c0b823e024106899d3676b19aeaf68da7eddbe65b\n",
      "  Stored in directory: /home/jovyan/.cache/pip/wheels/01/b5/b9/a18f424b45892ca02ca5762b844ad49be1f638e913e8e625fa\n",
      "Successfully built ginza SudachiDict-core\n",
      "Installing collected packages: murmurhash, cymem, catalogue, wasabi, typer, srsly, smart-open, pydantic, preshed, blis, thinc, SudachiPy, spacy-loggers, spacy-legacy, pathy, langcodes, SudachiDict-core, spacy, plac, ginza\n",
      "\u001b[33mWARNING: Value for scheme.headers does not match. Please report this to <https://github.com/pypa/pip/issues/9617>\n",
      "distutils: /opt/conda/include/python3.8/UNKNOWN\n",
      "sysconfig: /opt/conda/include/python3.8\u001b[0m\n",
      "\u001b[33mWARNING: Additional context:\n",
      "user = False\n",
      "home = None\n",
      "root = None\n",
      "prefix = None\u001b[0m\n",
      "Successfully installed SudachiDict-core-20211220 SudachiPy-0.6.3 blis-0.7.5 catalogue-2.0.6 cymem-2.0.6 ginza-5.1.0 langcodes-3.3.0 murmurhash-1.0.6 pathy-0.6.1 plac-1.3.4 preshed-3.0.6 pydantic-1.8.2 smart-open-5.2.1 spacy-3.2.2 spacy-legacy-3.0.8 spacy-loggers-1.0.1 srsly-2.4.2 thinc-8.0.13 typer-0.4.0 wasabi-0.9.0\n"
     ]
    }
   ],
   "source": [
    "!pip install -U ginza"
   ]
  },
  {
   "cell_type": "code",
   "execution_count": 55,
   "metadata": {},
   "outputs": [],
   "source": [
    "!cat kftt-data-1.0/data/orig/kyoto-train.ja | sed 's/\\s+/ /g' | ginzame > train.ginza.ja\n",
    "!cat kftt-data-1.0/data/orig/kyoto-dev.ja | sed 's/\\s+/ /g' | ginzame > dev.ginza.ja\n",
    "!cat kftt-data-1.0/data/orig/kyoto-test.ja | sed 's/\\s+/ /g' | ginzame > test.ginza.ja"
   ]
  },
  {
   "cell_type": "code",
   "execution_count": 5,
   "metadata": {},
   "outputs": [],
   "source": [
    "for src, dst in [\n",
    "    ('train.ginza.ja', 'train.ja'),\n",
    "    ('dev.ginza.ja', 'dev.ja'),\n",
    "    ('test.ginza.ja', 'test.ja'),\n",
    "]:\n",
    "    with open(src) as f:\n",
    "        lst = []\n",
    "        tmp = []\n",
    "        for x in f:\n",
    "            x = x.strip()\n",
    "            if x == 'EOS':\n",
    "                lst.append(' '.join(tmp))\n",
    "                tmp = []\n",
    "            elif x != '':\n",
    "                tmp.append(x.split('\\t')[0])\n",
    "    with open(dst, 'w') as f:\n",
    "        for line in lst:\n",
    "            print(line, file=f)"
   ]
  },
  {
   "cell_type": "code",
   "execution_count": 33,
   "metadata": {},
   "outputs": [
    {
     "name": "stdout",
     "output_type": "stream",
     "text": [
      "雪舟 （ せっ しゅう 、 1420 年 （ 応永 27 年 ） - 1506 年 （ 永正 3 年 ） ） は 号 で 、 15 世紀 後半 室町 時代 に 活躍 し た 水墨 画家 ・ 禅僧 で 、 画聖 と も 称え られる 。\n",
      "日本 の 水墨 画 を 一変 さ せ た 。\n",
      "諱 は 「 等楊（とうよう） 」 、 もしくは 「 拙 宗 （ せっ しゅう ） 」 と 号し た 。\n",
      "備中 国 に 生まれ 、 京都 ・ 相国 寺 に 入っ て から 周防 国 に 移る 。\n",
      "その 後 遣明 使 に 随行 し て 中国 （ 明 ） に 渡っ て 中国 の 水墨 画 を 学ん だ 。\n",
      "作品 は 数多く 、 中国 風 の 山水 画 だけ で なく 人物 画 や 花鳥 画 も よく し た 。\n",
      "大胆 な 構図 と 力強い 筆線 は 非常 に 個性 的 な 画風 を 作り 出し て いる 。\n",
      "現存 する 作品 の うち 6 点 が 国宝 に 指定 さ れ て おり 、 日本 の 画家 の なか で も 別格 の 評価 を 受け て いる と いえる 。\n",
      "この ため 、 花鳥 図 屏風 など に 「 伝 雪舟 筆 」 さ れる 作品 は 大変 多い 。\n",
      "真筆 で ある か 専門 家 の 間 で も 意見 の 分かれる もの も 多々 ある 。\n"
     ]
    }
   ],
   "source": [
    "!head train.ja"
   ]
  },
  {
   "cell_type": "code",
   "execution_count": 2,
   "metadata": {},
   "outputs": [
    {
     "name": "stdout",
     "output_type": "stream",
     "text": [
      "2022-02-20 04:12:26.325377: I tensorflow/stream_executor/platform/default/dso_loader.cc:49] Successfully opened dynamic library libcudart.so.11.0\n",
      "\u001b[33mWARNING: Value for scheme.headers does not match. Please report this to <https://github.com/pypa/pip/issues/9617>\n",
      "distutils: /opt/conda/include/python3.8/UNKNOWN\n",
      "sysconfig: /opt/conda/include/python3.8\u001b[0m\n",
      "\u001b[33mWARNING: Additional context:\n",
      "user = False\n",
      "home = None\n",
      "root = None\n",
      "prefix = None\u001b[0m\n",
      "Collecting en-core-web-sm==3.2.0\n",
      "  Downloading https://github.com/explosion/spacy-models/releases/download/en_core_web_sm-3.2.0/en_core_web_sm-3.2.0-py3-none-any.whl (13.9 MB)\n",
      "\u001b[K     |████████████████████████████████| 13.9 MB 311 kB/s eta 0:00:01\n",
      "\u001b[?25hRequirement already satisfied: spacy<3.3.0,>=3.2.0 in /opt/conda/lib/python3.8/site-packages (from en-core-web-sm==3.2.0) (3.2.2)\n",
      "Requirement already satisfied: spacy-loggers<2.0.0,>=1.0.0 in /opt/conda/lib/python3.8/site-packages (from spacy<3.3.0,>=3.2.0->en-core-web-sm==3.2.0) (1.0.1)\n",
      "Requirement already satisfied: jinja2 in /opt/conda/lib/python3.8/site-packages (from spacy<3.3.0,>=3.2.0->en-core-web-sm==3.2.0) (2.11.3)\n",
      "Requirement already satisfied: srsly<3.0.0,>=2.4.1 in /opt/conda/lib/python3.8/site-packages (from spacy<3.3.0,>=3.2.0->en-core-web-sm==3.2.0) (2.4.2)\n",
      "Requirement already satisfied: numpy>=1.15.0 in /opt/conda/lib/python3.8/site-packages (from spacy<3.3.0,>=3.2.0->en-core-web-sm==3.2.0) (1.19.5)\n",
      "Requirement already satisfied: packaging>=20.0 in /opt/conda/lib/python3.8/site-packages (from spacy<3.3.0,>=3.2.0->en-core-web-sm==3.2.0) (20.9)\n",
      "Requirement already satisfied: setuptools in /opt/conda/lib/python3.8/site-packages (from spacy<3.3.0,>=3.2.0->en-core-web-sm==3.2.0) (49.6.0.post20210108)\n",
      "Requirement already satisfied: preshed<3.1.0,>=3.0.2 in /opt/conda/lib/python3.8/site-packages (from spacy<3.3.0,>=3.2.0->en-core-web-sm==3.2.0) (3.0.6)\n",
      "Requirement already satisfied: langcodes<4.0.0,>=3.2.0 in /opt/conda/lib/python3.8/site-packages (from spacy<3.3.0,>=3.2.0->en-core-web-sm==3.2.0) (3.3.0)\n",
      "Requirement already satisfied: cymem<2.1.0,>=2.0.2 in /opt/conda/lib/python3.8/site-packages (from spacy<3.3.0,>=3.2.0->en-core-web-sm==3.2.0) (2.0.6)\n",
      "Requirement already satisfied: requests<3.0.0,>=2.13.0 in /opt/conda/lib/python3.8/site-packages (from spacy<3.3.0,>=3.2.0->en-core-web-sm==3.2.0) (2.25.1)\n",
      "Requirement already satisfied: typer<0.5.0,>=0.3.0 in /opt/conda/lib/python3.8/site-packages (from spacy<3.3.0,>=3.2.0->en-core-web-sm==3.2.0) (0.4.0)\n",
      "Requirement already satisfied: wasabi<1.1.0,>=0.8.1 in /opt/conda/lib/python3.8/site-packages (from spacy<3.3.0,>=3.2.0->en-core-web-sm==3.2.0) (0.9.0)\n",
      "Requirement already satisfied: catalogue<2.1.0,>=2.0.6 in /opt/conda/lib/python3.8/site-packages (from spacy<3.3.0,>=3.2.0->en-core-web-sm==3.2.0) (2.0.6)\n",
      "Requirement already satisfied: tqdm<5.0.0,>=4.38.0 in /opt/conda/lib/python3.8/site-packages (from spacy<3.3.0,>=3.2.0->en-core-web-sm==3.2.0) (4.60.0)\n",
      "Requirement already satisfied: thinc<8.1.0,>=8.0.12 in /opt/conda/lib/python3.8/site-packages (from spacy<3.3.0,>=3.2.0->en-core-web-sm==3.2.0) (8.0.13)\n",
      "Requirement already satisfied: spacy-legacy<3.1.0,>=3.0.8 in /opt/conda/lib/python3.8/site-packages (from spacy<3.3.0,>=3.2.0->en-core-web-sm==3.2.0) (3.0.8)\n",
      "Requirement already satisfied: pydantic!=1.8,!=1.8.1,<1.9.0,>=1.7.4 in /opt/conda/lib/python3.8/site-packages (from spacy<3.3.0,>=3.2.0->en-core-web-sm==3.2.0) (1.8.2)\n",
      "Requirement already satisfied: murmurhash<1.1.0,>=0.28.0 in /opt/conda/lib/python3.8/site-packages (from spacy<3.3.0,>=3.2.0->en-core-web-sm==3.2.0) (1.0.6)\n",
      "Requirement already satisfied: pathy>=0.3.5 in /opt/conda/lib/python3.8/site-packages (from spacy<3.3.0,>=3.2.0->en-core-web-sm==3.2.0) (0.6.1)\n",
      "Requirement already satisfied: blis<0.8.0,>=0.4.0 in /opt/conda/lib/python3.8/site-packages (from spacy<3.3.0,>=3.2.0->en-core-web-sm==3.2.0) (0.7.5)\n",
      "Requirement already satisfied: pyparsing>=2.0.2 in /opt/conda/lib/python3.8/site-packages (from packaging>=20.0->spacy<3.3.0,>=3.2.0->en-core-web-sm==3.2.0) (2.4.7)\n",
      "Requirement already satisfied: smart-open<6.0.0,>=5.0.0 in /opt/conda/lib/python3.8/site-packages (from pathy>=0.3.5->spacy<3.3.0,>=3.2.0->en-core-web-sm==3.2.0) (5.2.1)\n",
      "Requirement already satisfied: typing-extensions>=3.7.4.3 in /opt/conda/lib/python3.8/site-packages (from pydantic!=1.8,!=1.8.1,<1.9.0,>=1.7.4->spacy<3.3.0,>=3.2.0->en-core-web-sm==3.2.0) (3.7.4.3)\n",
      "Requirement already satisfied: chardet<5,>=3.0.2 in /opt/conda/lib/python3.8/site-packages (from requests<3.0.0,>=2.13.0->spacy<3.3.0,>=3.2.0->en-core-web-sm==3.2.0) (4.0.0)\n",
      "Requirement already satisfied: idna<3,>=2.5 in /opt/conda/lib/python3.8/site-packages (from requests<3.0.0,>=2.13.0->spacy<3.3.0,>=3.2.0->en-core-web-sm==3.2.0) (2.10)\n",
      "Requirement already satisfied: urllib3<1.27,>=1.21.1 in /opt/conda/lib/python3.8/site-packages (from requests<3.0.0,>=2.13.0->spacy<3.3.0,>=3.2.0->en-core-web-sm==3.2.0) (1.26.4)\n",
      "Requirement already satisfied: certifi>=2017.4.17 in /opt/conda/lib/python3.8/site-packages (from requests<3.0.0,>=2.13.0->spacy<3.3.0,>=3.2.0->en-core-web-sm==3.2.0) (2020.12.5)\n",
      "Requirement already satisfied: click<9.0.0,>=7.1.1 in /opt/conda/lib/python3.8/site-packages (from typer<0.5.0,>=0.3.0->spacy<3.3.0,>=3.2.0->en-core-web-sm==3.2.0) (7.1.2)\n",
      "Requirement already satisfied: MarkupSafe>=0.23 in /opt/conda/lib/python3.8/site-packages (from jinja2->spacy<3.3.0,>=3.2.0->en-core-web-sm==3.2.0) (1.1.1)\n",
      "Installing collected packages: en-core-web-sm\n",
      "\u001b[33mWARNING: Value for scheme.headers does not match. Please report this to <https://github.com/pypa/pip/issues/9617>\n",
      "distutils: /opt/conda/include/python3.8/UNKNOWN\n",
      "sysconfig: /opt/conda/include/python3.8\u001b[0m\n",
      "\u001b[33mWARNING: Additional context:\n",
      "user = False\n",
      "home = None\n",
      "root = None\n",
      "prefix = None\u001b[0m\n",
      "Successfully installed en-core-web-sm-3.2.0\n",
      "\u001b[38;5;2m✔ Download and installation successful\u001b[0m\n",
      "You can now load the package via spacy.load('en_core_web_sm')\n"
     ]
    }
   ],
   "source": [
    "!python -m spacy download en_core_web_sm"
   ]
  },
  {
   "cell_type": "code",
   "execution_count": 3,
   "metadata": {},
   "outputs": [],
   "source": [
    "import re\n",
    "import spacy\n",
    "\n",
    "nlp = spacy.load(\"en_core_web_sm\")\n",
    "for src, dst in [\n",
    "    ('kftt-data-1.0/data/orig/kyoto-train.en', 'train.en'),\n",
    "    ('kftt-data-1.0/data/orig/kyoto-dev.en', 'dev.en'),\n",
    "    ('kftt-data-1.0/data/orig/kyoto-test.en', 'test.en'),\n",
    "]:\n",
    "    with open(src) as f, open(dst, 'w') as g:\n",
    "        for x in f:\n",
    "            x = x.strip()\n",
    "            x = re.sub(r'\\s+', ' ', x)\n",
    "            x = nlp.make_doc(x)\n",
    "            x = ' '.join([doc.text for doc in x])\n",
    "            print(x, file=g)"
   ]
  },
  {
   "cell_type": "code",
   "execution_count": 32,
   "metadata": {},
   "outputs": [
    {
     "name": "stdout",
     "output_type": "stream",
     "text": [
      "Known as Sesshu ( 1420 - 1506 ) , he was an ink painter and Zen monk active in the Muromachi period in the latter half of the 15th century , and was called a master painter .\n",
      "He revolutionized the Japanese ink painting .\n",
      "He was given the posthumous name \" Toyo \" or \" Sesshu ( 拙宗 ) . \"\n",
      "Born in Bicchu Province , he moved to Suo Province after entering SShokoku - ji Temple in Kyoto .\n",
      "Later he accompanied a mission to Ming Dynasty China and learned Chinese ink painting .\n",
      "His works were many , including not only Chinese - style landscape paintings , but also portraits and pictures of flowers and birds .\n",
      "His bold compositions and strong brush strokes constituted an extremely distinctive style .\n",
      "6 of his extant works are designated national treasures . Indeed , he is considered to be extraordinary among Japanese painters .\n",
      "For this reason , there are a great many artworks that are attributed to him , such as folding screens with pictures of flowers and that birds are painted on them .\n",
      "There are many works that even experts can not agree if they are really his work or not .\n"
     ]
    }
   ],
   "source": [
    "!head train.en"
   ]
  },
  {
   "cell_type": "markdown",
   "metadata": {},
   "source": [
    "# 91 機械翻訳モデルの訓練 \n",
    "#### 90で準備したデータを用いて，ニューラル機械翻訳のモデルを学習せよ（ニューラルネットワークのモデルはTransformerやLSTMなど適当に選んでよい）．"
   ]
  },
  {
   "cell_type": "markdown",
   "metadata": {
    "tags": []
   },
   "source": [
    "fairseqを用いる.  \n",
    "https://qiita.com/keita_M/items/3a7401ef48df3ec92b6f fairseqの使い方  \n",
    "command https://fairseq.readthedocs.io/en/latest/command_line_tools.html  \n",
    "https://torch.classcat.com/category/fairseq/"
   ]
  },
  {
   "cell_type": "code",
   "execution_count": 4,
   "metadata": {},
   "outputs": [
    {
     "name": "stdout",
     "output_type": "stream",
     "text": [
      "\u001b[33mWARNING: Value for scheme.headers does not match. Please report this to <https://github.com/pypa/pip/issues/9617>\n",
      "distutils: /opt/conda/include/python3.8/UNKNOWN\n",
      "sysconfig: /opt/conda/include/python3.8\u001b[0m\n",
      "\u001b[33mWARNING: Additional context:\n",
      "user = False\n",
      "home = None\n",
      "root = None\n",
      "prefix = None\u001b[0m\n",
      "Collecting fairseq==0.10.2\n",
      "  Downloading fairseq-0.10.2-cp38-cp38-manylinux1_x86_64.whl (1.7 MB)\n",
      "\u001b[K     |████████████████████████████████| 1.7 MB 6.7 MB/s eta 0:00:01\n",
      "\u001b[?25hCollecting regex\n",
      "  Downloading regex-2022.1.18-cp38-cp38-manylinux_2_17_x86_64.manylinux2014_x86_64.whl (764 kB)\n",
      "\u001b[K     |████████████████████████████████| 764 kB 56.2 MB/s eta 0:00:01\n",
      "\u001b[?25hRequirement already satisfied: cffi in /opt/conda/lib/python3.8/site-packages (from fairseq==0.10.2) (1.14.5)\n",
      "Collecting sacrebleu>=1.4.12\n",
      "  Downloading sacrebleu-2.0.0-py3-none-any.whl (90 kB)\n",
      "\u001b[K     |████████████████████████████████| 90 kB 25.7 MB/s eta 0:00:01\n",
      "\u001b[?25hRequirement already satisfied: cython in /opt/conda/lib/python3.8/site-packages (from fairseq==0.10.2) (0.29.23)\n",
      "Requirement already satisfied: torch in /opt/conda/lib/python3.8/site-packages (from fairseq==0.10.2) (1.8.1)\n",
      "Requirement already satisfied: tqdm in /opt/conda/lib/python3.8/site-packages (from fairseq==0.10.2) (4.60.0)\n",
      "Collecting hydra-core\n",
      "  Downloading hydra_core-1.1.1-py3-none-any.whl (145 kB)\n",
      "\u001b[K     |████████████████████████████████| 145 kB 65.8 MB/s eta 0:00:01\n",
      "\u001b[?25hRequirement already satisfied: numpy in /opt/conda/lib/python3.8/site-packages (from fairseq==0.10.2) (1.19.5)\n",
      "Collecting dataclasses\n",
      "  Downloading dataclasses-0.6-py3-none-any.whl (14 kB)\n",
      "Collecting tabulate>=0.8.9\n",
      "  Downloading tabulate-0.8.9-py3-none-any.whl (25 kB)\n",
      "Collecting colorama\n",
      "  Downloading colorama-0.4.4-py2.py3-none-any.whl (16 kB)\n",
      "Collecting portalocker\n",
      "  Downloading portalocker-2.4.0-py2.py3-none-any.whl (16 kB)\n",
      "Requirement already satisfied: pycparser in /opt/conda/lib/python3.8/site-packages (from cffi->fairseq==0.10.2) (2.20)\n",
      "Collecting omegaconf==2.1.*\n",
      "  Downloading omegaconf-2.1.1-py3-none-any.whl (74 kB)\n",
      "\u001b[K     |████████████████████████████████| 74 kB 9.2 MB/s  eta 0:00:01\n",
      "\u001b[?25hCollecting antlr4-python3-runtime==4.8\n",
      "  Downloading antlr4-python3-runtime-4.8.tar.gz (112 kB)\n",
      "\u001b[K     |████████████████████████████████| 112 kB 39.6 MB/s eta 0:00:01\n",
      "\u001b[?25hCollecting importlib-resources\n",
      "  Downloading importlib_resources-5.4.0-py3-none-any.whl (28 kB)\n",
      "Requirement already satisfied: PyYAML>=5.1.0 in /opt/conda/lib/python3.8/site-packages (from omegaconf==2.1.*->hydra-core->fairseq==0.10.2) (5.4.1)\n",
      "Requirement already satisfied: zipp>=3.1.0 in /opt/conda/lib/python3.8/site-packages (from importlib-resources->hydra-core->fairseq==0.10.2) (3.4.1)\n",
      "Requirement already satisfied: typing-extensions in /opt/conda/lib/python3.8/site-packages (from torch->fairseq==0.10.2) (3.7.4.3)\n",
      "Building wheels for collected packages: antlr4-python3-runtime\n",
      "  Building wheel for antlr4-python3-runtime (setup.py) ... \u001b[?25ldone\n",
      "\u001b[?25h  Created wheel for antlr4-python3-runtime: filename=antlr4_python3_runtime-4.8-py3-none-any.whl size=141230 sha256=46aac8d333e46c5fef11fbfe5524161fd616de719288ad2e9d4452069640fbcb\n",
      "  Stored in directory: /home/jovyan/.cache/pip/wheels/c8/d0/ab/d43c02eaddc5b9004db86950802442ad9a26f279c619e28da0\n",
      "Successfully built antlr4-python3-runtime\n",
      "Installing collected packages: antlr4-python3-runtime, tabulate, regex, portalocker, omegaconf, importlib-resources, colorama, sacrebleu, hydra-core, dataclasses, fairseq\n",
      "\u001b[33mWARNING: Value for scheme.headers does not match. Please report this to <https://github.com/pypa/pip/issues/9617>\n",
      "distutils: /opt/conda/include/python3.8/UNKNOWN\n",
      "sysconfig: /opt/conda/include/python3.8\u001b[0m\n",
      "\u001b[33mWARNING: Additional context:\n",
      "user = False\n",
      "home = None\n",
      "root = None\n",
      "prefix = None\u001b[0m\n",
      "Successfully installed antlr4-python3-runtime-4.8 colorama-0.4.4 dataclasses-0.6 fairseq-0.10.2 hydra-core-1.1.1 importlib-resources-5.4.0 omegaconf-2.1.1 portalocker-2.4.0 regex-2022.1.18 sacrebleu-2.0.0 tabulate-0.8.9\n"
     ]
    }
   ],
   "source": [
    "!pip install fairseq==0.10.2"
   ]
  },
  {
   "cell_type": "markdown",
   "metadata": {},
   "source": [
    "##### gitからインストール"
   ]
  },
  {
   "cell_type": "code",
   "execution_count": 1,
   "metadata": {
    "collapsed": true,
    "jupyter": {
     "outputs_hidden": true,
     "source_hidden": true
    },
    "tags": []
   },
   "outputs": [
    {
     "name": "stdout",
     "output_type": "stream",
     "text": [
      "Cloning into 'fairseq'...\n",
      "remote: Enumerating objects: 30878, done.\u001b[K\n",
      "remote: Counting objects: 100% (510/510), done.\u001b[K\n",
      "remote: Compressing objects: 100% (307/307), done.\u001b[K\n",
      "remote: Total 30878 (delta 217), reused 399 (delta 196), pack-reused 30368\u001b[K\n",
      "Receiving objects: 100% (30878/30878), 21.18 MiB | 14.73 MiB/s, done.\n",
      "Resolving deltas: 100% (22912/22912), done.\n"
     ]
    }
   ],
   "source": [
    "!git clone https://github.com/pytorch/fairseq"
   ]
  },
  {
   "cell_type": "code",
   "execution_count": 2,
   "metadata": {
    "collapsed": true,
    "jupyter": {
     "outputs_hidden": true,
     "source_hidden": true
    },
    "tags": []
   },
   "outputs": [
    {
     "name": "stdout",
     "output_type": "stream",
     "text": [
      "/home/jovyan/code/10/fairseq\n"
     ]
    }
   ],
   "source": [
    "cd fairseq"
   ]
  },
  {
   "cell_type": "code",
   "execution_count": 3,
   "metadata": {
    "collapsed": true,
    "jupyter": {
     "outputs_hidden": true,
     "source_hidden": true
    },
    "tags": []
   },
   "outputs": [
    {
     "name": "stdout",
     "output_type": "stream",
     "text": [
      "\u001b[33mWARNING: Value for scheme.headers does not match. Please report this to <https://github.com/pypa/pip/issues/9617>\n",
      "distutils: /opt/conda/include/python3.8/UNKNOWN\n",
      "sysconfig: /opt/conda/include/python3.8\u001b[0m\n",
      "\u001b[33mWARNING: Additional context:\n",
      "user = False\n",
      "home = None\n",
      "root = None\n",
      "prefix = None\u001b[0m\n",
      "Obtaining file:///home/jovyan/code/10/fairseq\n",
      "  Installing build dependencies ... \u001b[?25ldone\n",
      "\u001b[?25h  Getting requirements to build wheel ... \u001b[?25ldone\n",
      "\u001b[?25h  Installing backend dependencies ... \u001b[?25ldone\n",
      "\u001b[?25h    Preparing wheel metadata ... \u001b[?25ldone\n",
      "\u001b[?25hRequirement already satisfied: hydra-core<1.1,>=1.0.7 in /opt/conda/lib/python3.8/site-packages (from fairseq==1.0.0a0+5f2515e) (1.0.7)\n",
      "Requirement already satisfied: cffi in /opt/conda/lib/python3.8/site-packages (from fairseq==1.0.0a0+5f2515e) (1.14.5)\n",
      "Requirement already satisfied: cython in /opt/conda/lib/python3.8/site-packages (from fairseq==1.0.0a0+5f2515e) (0.29.23)\n",
      "Requirement already satisfied: torchaudio>=0.8.0 in /opt/conda/lib/python3.8/site-packages (from fairseq==1.0.0a0+5f2515e) (0.8.1)\n",
      "Requirement already satisfied: omegaconf<2.1 in /opt/conda/lib/python3.8/site-packages (from fairseq==1.0.0a0+5f2515e) (2.0.6)\n",
      "Requirement already satisfied: bitarray in /opt/conda/lib/python3.8/site-packages (from fairseq==1.0.0a0+5f2515e) (2.3.6)\n",
      "Requirement already satisfied: numpy in /opt/conda/lib/python3.8/site-packages (from fairseq==1.0.0a0+5f2515e) (1.19.5)\n",
      "Requirement already satisfied: sacrebleu>=1.4.12 in /opt/conda/lib/python3.8/site-packages (from fairseq==1.0.0a0+5f2515e) (2.0.0)\n",
      "Requirement already satisfied: tqdm in /opt/conda/lib/python3.8/site-packages (from fairseq==1.0.0a0+5f2515e) (4.60.0)\n",
      "Requirement already satisfied: torch in /opt/conda/lib/python3.8/site-packages (from fairseq==1.0.0a0+5f2515e) (1.8.1)\n",
      "Requirement already satisfied: regex in /opt/conda/lib/python3.8/site-packages (from fairseq==1.0.0a0+5f2515e) (2022.1.18)\n",
      "Requirement already satisfied: importlib-resources in /opt/conda/lib/python3.8/site-packages (from hydra-core<1.1,>=1.0.7->fairseq==1.0.0a0+5f2515e) (5.4.0)\n",
      "Requirement already satisfied: antlr4-python3-runtime==4.8 in /opt/conda/lib/python3.8/site-packages (from hydra-core<1.1,>=1.0.7->fairseq==1.0.0a0+5f2515e) (4.8)\n",
      "Requirement already satisfied: PyYAML>=5.1.* in /opt/conda/lib/python3.8/site-packages (from omegaconf<2.1->fairseq==1.0.0a0+5f2515e) (5.4.1)\n",
      "Requirement already satisfied: typing-extensions in /opt/conda/lib/python3.8/site-packages (from omegaconf<2.1->fairseq==1.0.0a0+5f2515e) (3.7.4.3)\n",
      "Requirement already satisfied: portalocker in /opt/conda/lib/python3.8/site-packages (from sacrebleu>=1.4.12->fairseq==1.0.0a0+5f2515e) (2.3.2)\n",
      "Requirement already satisfied: tabulate>=0.8.9 in /opt/conda/lib/python3.8/site-packages (from sacrebleu>=1.4.12->fairseq==1.0.0a0+5f2515e) (0.8.9)\n",
      "Requirement already satisfied: colorama in /opt/conda/lib/python3.8/site-packages (from sacrebleu>=1.4.12->fairseq==1.0.0a0+5f2515e) (0.4.4)\n",
      "Requirement already satisfied: pycparser in /opt/conda/lib/python3.8/site-packages (from cffi->fairseq==1.0.0a0+5f2515e) (2.20)\n",
      "Requirement already satisfied: zipp>=3.1.0 in /opt/conda/lib/python3.8/site-packages (from importlib-resources->hydra-core<1.1,>=1.0.7->fairseq==1.0.0a0+5f2515e) (3.4.1)\n",
      "Installing collected packages: fairseq\n",
      "  Attempting uninstall: fairseq\n",
      "    Found existing installation: fairseq 0.10.2\n",
      "    Uninstalling fairseq-0.10.2:\n",
      "      Successfully uninstalled fairseq-0.10.2\n",
      "  Running setup.py develop for fairseq\n",
      "\u001b[33mWARNING: Value for scheme.headers does not match. Please report this to <https://github.com/pypa/pip/issues/9617>\n",
      "distutils: /opt/conda/include/python3.8/UNKNOWN\n",
      "sysconfig: /opt/conda/include/python3.8\u001b[0m\n",
      "\u001b[33mWARNING: Additional context:\n",
      "user = False\n",
      "home = None\n",
      "root = None\n",
      "prefix = None\u001b[0m\n",
      "Successfully installed fairseq-1.0.0a0+5f2515e\n"
     ]
    }
   ],
   "source": [
    "!pip install --editable ./"
   ]
  },
  {
   "cell_type": "code",
   "execution_count": 4,
   "metadata": {
    "collapsed": true,
    "jupyter": {
     "outputs_hidden": true,
     "source_hidden": true
    },
    "tags": []
   },
   "outputs": [
    {
     "name": "stdout",
     "output_type": "stream",
     "text": [
      "/home/jovyan/code/10\n"
     ]
    }
   ],
   "source": [
    "cd ../"
   ]
  },
  {
   "cell_type": "markdown",
   "metadata": {},
   "source": [
    "##### ここまでインストール"
   ]
  },
  {
   "cell_type": "code",
   "execution_count": 14,
   "metadata": {},
   "outputs": [
    {
     "name": "stdout",
     "output_type": "stream",
     "text": [
      "2022-02-14 05:44:16 | INFO | fairseq_cli.preprocess | Namespace(align_suffix=None, alignfile=None, all_gather_list_size=16384, bf16=False, bpe=None, checkpoint_shard_count=1, checkpoint_suffix='', cpu=False, criterion='cross_entropy', dataset_impl='mmap', destdir='data91', empty_cache_freq=0, fp16=False, fp16_init_scale=128, fp16_no_flatten_grads=False, fp16_scale_tolerance=0.0, fp16_scale_window=None, joined_dictionary=False, log_format=None, log_interval=100, lr_scheduler='fixed', memory_efficient_bf16=False, memory_efficient_fp16=False, min_loss_scale=0.0001, model_parallel_size=8, no_progress_bar=False, nwordssrc=-1, nwordstgt=-1, only_source=False, optimizer=None, padding_factor=8, profile=False, quantization_config_path=None, scoring='bleu', seed=1, source_lang='ja', srcdict=None, target_lang='en', task='translation', tensorboard_logdir=None, testpref=None, tgtdict=None, threshold_loss_scale=None, thresholdsrc=5, thresholdtgt=5, tokenizer=None, tpu=False, trainpref='train', user_dir=None, validpref='dev', workers=30)\n",
      "2022-02-14 05:44:25 | INFO | fairseq_cli.preprocess | [ja] Dictionary: 53928 types\n",
      "2022-02-14 05:44:34 | INFO | fairseq_cli.preprocess | [ja] train.ja: 440288 sents, 11550262 tokens, 1.24% replaced by <unk>\n",
      "2022-02-14 05:44:34 | INFO | fairseq_cli.preprocess | [ja] Dictionary: 53928 types\n",
      "2022-02-14 05:44:35 | INFO | fairseq_cli.preprocess | [ja] dev.ja: 1166 sents, 26468 tokens, 1.24% replaced by <unk>\n",
      "2022-02-14 05:44:35 | INFO | fairseq_cli.preprocess | [en] Dictionary: 55472 types\n",
      "2022-02-14 05:44:43 | INFO | fairseq_cli.preprocess | [en] train.en: 440288 sents, 12321279 tokens, 1.56% replaced by <unk>\n",
      "2022-02-14 05:44:43 | INFO | fairseq_cli.preprocess | [en] Dictionary: 55472 types\n",
      "2022-02-14 05:44:44 | INFO | fairseq_cli.preprocess | [en] dev.en: 1166 sents, 26101 tokens, 2.83% replaced by <unk>\n",
      "2022-02-14 05:44:44 | INFO | fairseq_cli.preprocess | Wrote preprocessed data to data91\n"
     ]
    }
   ],
   "source": [
    "!fairseq-preprocess -s ja -t en \\\n",
    "    --trainpref train \\\n",
    "    --validpref dev \\\n",
    "    --destdir data91  \\\n",
    "    --model-parallel-size 8 \\\n",
    "    --thresholdsrc 5 \\\n",
    "    --thresholdtgt 5 \\\n",
    "    --workers 30"
   ]
  },
  {
   "cell_type": "code",
   "execution_count": 15,
   "metadata": {
    "collapsed": true,
    "jupyter": {
     "outputs_hidden": true
    },
    "tags": []
   },
   "outputs": [
    {
     "name": "stdout",
     "output_type": "stream",
     "text": [
      "Mon Feb 14 05:45:02 2022       \n",
      "+-----------------------------------------------------------------------------+\n",
      "| NVIDIA-SMI 470.82.00    Driver Version: 470.82.00    CUDA Version: 11.4     |\n",
      "|-------------------------------+----------------------+----------------------+\n",
      "| GPU  Name        Persistence-M| Bus-Id        Disp.A | Volatile Uncorr. ECC |\n",
      "| Fan  Temp  Perf  Pwr:Usage/Cap|         Memory-Usage | GPU-Util  Compute M. |\n",
      "|                               |                      |               MIG M. |\n",
      "|===============================+======================+======================|\n",
      "|   0  NVIDIA TITAN X ...  On   | 00000000:04:00.0 Off |                  N/A |\n",
      "| 23%   22C    P8    11W / 250W |      6MiB / 12196MiB |      0%      Default |\n",
      "|                               |                      |                  N/A |\n",
      "+-------------------------------+----------------------+----------------------+\n",
      "|   1  NVIDIA TITAN X ...  On   | 00000000:05:00.0 Off |                  N/A |\n",
      "| 23%   25C    P8    10W / 250W |      6MiB / 12196MiB |      0%      Default |\n",
      "|                               |                      |                  N/A |\n",
      "+-------------------------------+----------------------+----------------------+\n",
      "|   2  NVIDIA TITAN X ...  On   | 00000000:08:00.0 Off |                  N/A |\n",
      "| 23%   22C    P8     7W / 250W |      6MiB / 12196MiB |      0%      Default |\n",
      "|                               |                      |                  N/A |\n",
      "+-------------------------------+----------------------+----------------------+\n",
      "|   3  NVIDIA TITAN X ...  On   | 00000000:09:00.0 Off |                  N/A |\n",
      "| 23%   24C    P8     8W / 250W |      6MiB / 12196MiB |      0%      Default |\n",
      "|                               |                      |                  N/A |\n",
      "+-------------------------------+----------------------+----------------------+\n",
      "|   4  NVIDIA TITAN X ...  On   | 00000000:84:00.0 Off |                  N/A |\n",
      "| 23%   26C    P8     8W / 250W |      6MiB / 12196MiB |      0%      Default |\n",
      "|                               |                      |                  N/A |\n",
      "+-------------------------------+----------------------+----------------------+\n",
      "|   5  NVIDIA TITAN X ...  On   | 00000000:85:00.0 Off |                  N/A |\n",
      "| 23%   24C    P8     8W / 250W |      6MiB / 12196MiB |      0%      Default |\n",
      "|                               |                      |                  N/A |\n",
      "+-------------------------------+----------------------+----------------------+\n",
      "|   6  NVIDIA TITAN X ...  On   | 00000000:88:00.0 Off |                  N/A |\n",
      "| 23%   23C    P8     8W / 250W |      6MiB / 12196MiB |      0%      Default |\n",
      "|                               |                      |                  N/A |\n",
      "+-------------------------------+----------------------+----------------------+\n",
      "|   7  NVIDIA TITAN X ...  On   | 00000000:89:00.0 Off |                  N/A |\n",
      "| 23%   24C    P8     8W / 250W |      6MiB / 12196MiB |      0%      Default |\n",
      "|                               |                      |                  N/A |\n",
      "+-------------------------------+----------------------+----------------------+\n",
      "                                                                               \n",
      "+-----------------------------------------------------------------------------+\n",
      "| Processes:                                                                  |\n",
      "|  GPU   GI   CI        PID   Type   Process name                  GPU Memory |\n",
      "|        ID   ID                                                   Usage      |\n",
      "|=============================================================================|\n",
      "+-----------------------------------------------------------------------------+\n"
     ]
    }
   ],
   "source": [
    "!nvidia-smi"
   ]
  },
  {
   "cell_type": "code",
   "execution_count": 19,
   "metadata": {
    "collapsed": true,
    "jupyter": {
     "outputs_hidden": true,
     "source_hidden": true
    },
    "tags": []
   },
   "outputs": [
    {
     "name": "stdout",
     "output_type": "stream",
     "text": [
      "error: pathspec 'fairseq/model_parallel/megatron' did not match any file(s) known to git\n"
     ]
    }
   ],
   "source": [
    "!git submodule update --init fairseq/model_parallel/megatron"
   ]
  },
  {
   "cell_type": "code",
   "execution_count": 20,
   "metadata": {},
   "outputs": [
    {
     "name": "stdout",
     "output_type": "stream",
     "text": [
      "/opt/conda/lib/python3.8/site-packages/torch/nn/parallel/distributed.py:425: UserWarning: The `check_reduction` argument in `DistributedDataParallel` module is deprecated. Please avoid using it.\n",
      "  warnings.warn(\n",
      "/opt/conda/lib/python3.8/site-packages/torch/nn/parallel/distributed.py:425: UserWarning: The `check_reduction` argument in `DistributedDataParallel` module is deprecated. Please avoid using it.\n",
      "  warnings.warn(\n",
      "/opt/conda/lib/python3.8/site-packages/torch/nn/parallel/distributed.py:425: UserWarning: The `check_reduction` argument in `DistributedDataParallel` module is deprecated. Please avoid using it.\n",
      "  warnings.warn(\n",
      "/opt/conda/lib/python3.8/site-packages/torch/nn/parallel/distributed.py:425: UserWarning: The `check_reduction` argument in `DistributedDataParallel` module is deprecated. Please avoid using it.\n",
      "  warnings.warn(\n",
      "/opt/conda/lib/python3.8/site-packages/torch/nn/parallel/distributed.py:425: UserWarning: The `check_reduction` argument in `DistributedDataParallel` module is deprecated. Please avoid using it.\n",
      "  warnings.warn(\n",
      "/opt/conda/lib/python3.8/site-packages/torch/nn/parallel/distributed.py:425: UserWarning: The `check_reduction` argument in `DistributedDataParallel` module is deprecated. Please avoid using it.\n",
      "  warnings.warn(\n",
      "/opt/conda/lib/python3.8/site-packages/torch/nn/parallel/distributed.py:425: UserWarning: The `check_reduction` argument in `DistributedDataParallel` module is deprecated. Please avoid using it.\n",
      "  warnings.warn(\n",
      "/opt/conda/lib/python3.8/site-packages/torch/nn/parallel/distributed.py:425: UserWarning: The `check_reduction` argument in `DistributedDataParallel` module is deprecated. Please avoid using it.\n",
      "  warnings.warn(\n",
      "epoch 002:   0%|                                        | 0/228 [00:00<?, ?it/s]/opt/conda/lib/python3.8/site-packages/fairseq/utils.py:341: UserWarning: amp_C fused kernels unavailable, disabling multi_tensor_l2norm; you may get better performance by installing NVIDIA's apex library\n",
      "  warnings.warn(\n",
      "/opt/conda/lib/python3.8/site-packages/fairseq/utils.py:341: UserWarning: amp_C fused kernels unavailable, disabling multi_tensor_l2norm; you may get better performance by installing NVIDIA's apex library\n",
      "  warnings.warn(\n",
      "/opt/conda/lib/python3.8/site-packages/fairseq/utils.py:341: UserWarning: amp_C fused kernels unavailable, disabling multi_tensor_l2norm; you may get better performance by installing NVIDIA's apex library\n",
      "  warnings.warn(\n",
      "/opt/conda/lib/python3.8/site-packages/fairseq/utils.py:341: UserWarning: amp_C fused kernels unavailable, disabling multi_tensor_l2norm; you may get better performance by installing NVIDIA's apex library\n",
      "  warnings.warn(\n",
      "/opt/conda/lib/python3.8/site-packages/fairseq/utils.py:341: UserWarning: amp_C fused kernels unavailable, disabling multi_tensor_l2norm; you may get better performance by installing NVIDIA's apex library\n",
      "  warnings.warn(\n",
      "/opt/conda/lib/python3.8/site-packages/fairseq/utils.py:341: UserWarning: amp_C fused kernels unavailable, disabling multi_tensor_l2norm; you may get better performance by installing NVIDIA's apex library\n",
      "  warnings.warn(\n",
      "/opt/conda/lib/python3.8/site-packages/fairseq/utils.py:341: UserWarning: amp_C fused kernels unavailable, disabling multi_tensor_l2norm; you may get better performance by installing NVIDIA's apex library\n",
      "  warnings.warn(\n",
      "/opt/conda/lib/python3.8/site-packages/fairseq/utils.py:341: UserWarning: amp_C fused kernels unavailable, disabling multi_tensor_l2norm; you may get better performance by installing NVIDIA's apex library\n",
      "  warnings.warn(\n",
      "epoch 002: 100%|▉| 227/228 [02:57<00:00,  1.31it/s, loss=8.945, nll_loss=7.917, \n",
      "epoch 002 | valid on 'valid' subset:   0%|                | 0/1 [00:00<?, ?it/s]\u001b[A\n",
      "epoch 002 | valid on 'valid' subset: 100%|████████| 1/1 [00:02<00:00,  2.15s/it]\u001b[A\n",
      "epoch 003: 100%|▉| 227/228 [02:54<00:00,  1.32it/s, loss=8.015, nll_loss=6.84, p\u001b[A\n",
      "epoch 003 | valid on 'valid' subset:   0%|                | 0/1 [00:00<?, ?it/s]\u001b[A\n",
      "epoch 003 | valid on 'valid' subset: 100%|████████| 1/1 [00:02<00:00,  2.13s/it]\u001b[A\n",
      "epoch 004: 100%|▉| 227/228 [02:54<00:00,  1.31it/s, loss=7.106, nll_loss=5.775, \u001b[A\n",
      "epoch 004 | valid on 'valid' subset:   0%|                | 0/1 [00:00<?, ?it/s]\u001b[A\n",
      "epoch 004 | valid on 'valid' subset: 100%|████████| 1/1 [00:02<00:00,  2.16s/it]\u001b[A\n",
      "epoch 005: 100%|▉| 227/228 [02:54<00:00,  1.31it/s, loss=6.528, nll_loss=5.1, pp\u001b[A\n",
      "epoch 005 | valid on 'valid' subset:   0%|                | 0/1 [00:00<?, ?it/s]\u001b[A\n",
      "epoch 005 | valid on 'valid' subset: 100%|████████| 1/1 [00:02<00:00,  2.08s/it]\u001b[A\n",
      "epoch 006: 100%|▉| 227/228 [02:54<00:00,  1.31it/s, loss=6.076, nll_loss=4.572, \u001b[A\n",
      "epoch 006 | valid on 'valid' subset:   0%|                | 0/1 [00:00<?, ?it/s]\u001b[A\n",
      "epoch 006 | valid on 'valid' subset: 100%|████████| 1/1 [00:02<00:00,  2.08s/it]\u001b[A\n",
      "epoch 007: 100%|▉| 227/228 [02:55<00:00,  1.30it/s, loss=5.609, nll_loss=4.03, p\u001b[A\n",
      "epoch 007 | valid on 'valid' subset:   0%|                | 0/1 [00:00<?, ?it/s]\u001b[A\n",
      "epoch 007 | valid on 'valid' subset: 100%|████████| 1/1 [00:02<00:00,  2.14s/it]\u001b[A\n",
      "epoch 008: 100%|▉| 227/228 [02:54<00:00,  1.29it/s, loss=5.205, nll_loss=3.558, \u001b[A\n",
      "epoch 008 | valid on 'valid' subset:   0%|                | 0/1 [00:00<?, ?it/s]\u001b[A\n",
      "epoch 008 | valid on 'valid' subset: 100%|████████| 1/1 [00:02<00:00,  2.09s/it]\u001b[A\n",
      "epoch 009: 100%|▉| 227/228 [02:54<00:00,  1.32it/s, loss=4.974, nll_loss=3.292, \u001b[A\n",
      "epoch 009 | valid on 'valid' subset:   0%|                | 0/1 [00:00<?, ?it/s]\u001b[A\n",
      "epoch 009 | valid on 'valid' subset: 100%|████████| 1/1 [00:02<00:00,  2.11s/it]\u001b[A\n",
      "epoch 010: 100%|▉| 227/228 [02:55<00:00,  1.30it/s, loss=4.802, nll_loss=3.096, \u001b[A\n",
      "epoch 010 | valid on 'valid' subset:   0%|                | 0/1 [00:00<?, ?it/s]\u001b[A\n",
      "epoch 010 | valid on 'valid' subset: 100%|████████| 1/1 [00:02<00:00,  2.09s/it]\u001b[A\n",
      "/opt/conda/lib/python3.8/multiprocessing/resource_tracker.py:216: UserWarning: resource_tracker: There appear to be 144 leaked semaphore objects to clean up at shutdown\n",
      "  warnings.warn('resource_tracker: There appear to be %d '\n"
     ]
    }
   ],
   "source": [
    "!fairseq-train data91 \\\n",
    "    --memory-efficient-fp16 \\\n",
    "    --save-dir save91 \\\n",
    "    --max-epoch 10 \\\n",
    "    --arch transformer --share-decoder-input-output-embed \\\n",
    "    --optimizer adam --clip-norm 1.0 \\\n",
    "    --lr 1e-3 --lr-scheduler inverse_sqrt --warmup-updates 2000 \\\n",
    "    --update-freq 1 \\\n",
    "    --dropout 0.2 --weight-decay 0.0001 \\\n",
    "    --criterion label_smoothed_cross_entropy --label-smoothing 0.1 \\\n",
    "    --max-tokens 8000 > 91.log"
   ]
  },
  {
   "cell_type": "markdown",
   "metadata": {},
   "source": [
    "# 92 機械翻訳モデルの適用"
   ]
  },
  {
   "cell_type": "code",
   "execution_count": 21,
   "metadata": {},
   "outputs": [],
   "source": [
    "!fairseq-interactive --path save91/checkpoint10.pt data91 < test.ja | grep '^H' | cut -f3 > 92.out"
   ]
  },
  {
   "cell_type": "markdown",
   "metadata": {},
   "source": [
    "# 93 BLEUスコアの計測"
   ]
  },
  {
   "cell_type": "code",
   "execution_count": 25,
   "metadata": {},
   "outputs": [
    {
     "name": "stdout",
     "output_type": "stream",
     "text": [
      "Namespace(ignore_case=False, order=4, ref='test.en', sacrebleu=False, sentence_bleu=False, sys='92.out')\n",
      "BLEU4 = 22.08, 52.9/27.2/16.1/10.3 (BP=1.000, ratio=1.026, syslen=28367, reflen=27636)\n"
     ]
    }
   ],
   "source": [
    "!fairseq-score --sys 92.out --ref test.en"
   ]
  },
  {
   "cell_type": "markdown",
   "metadata": {},
   "source": [
    "# 94 ビーム探索"
   ]
  },
  {
   "cell_type": "code",
   "execution_count": 27,
   "metadata": {},
   "outputs": [],
   "source": [
    "%%bash\n",
    "for N in `seq 1 20` ; do\n",
    "    fairseq-interactive --path save91/checkpoint10.pt --beam $N data91 < test.ja | grep '^H' | cut -f3 > 94.$N.out\n",
    "done"
   ]
  },
  {
   "cell_type": "code",
   "execution_count": 28,
   "metadata": {},
   "outputs": [],
   "source": [
    "%%bash\n",
    "for N in `seq 1 20` ; do\n",
    "    fairseq-score --sys 94.$N.out --ref test.en > 94.$N.score\n",
    "done"
   ]
  },
  {
   "cell_type": "code",
   "execution_count": 53,
   "metadata": {},
   "outputs": [],
   "source": [
    "import matplotlib.pyplot as plt\n",
    "import re"
   ]
  },
  {
   "cell_type": "code",
   "execution_count": 51,
   "metadata": {},
   "outputs": [],
   "source": [
    "def read_score(filename):\n",
    "    with open(filename) as f:\n",
    "        x = f.readlines()[1]\n",
    "        x = re.search(r'(?<=BLEU4 = )\\d*\\.\\d*(?=,)', x)\n",
    "        return float(x.group())"
   ]
  },
  {
   "cell_type": "code",
   "execution_count": 32,
   "metadata": {},
   "outputs": [
    {
     "data": {
      "image/png": "[encoded data removed]",
      "text/plain": [
       "<Figure size 432x288 with 1 Axes>"
      ]
     },
     "metadata": {
      "needs_background": "light"
     },
     "output_type": "display_data"
    }
   ],
   "source": [
    "xs = range(1, 21)\n",
    "ys = [read_score(f'94.{x}.score') for x in xs]\n",
    "plt.plot(xs, ys)\n",
    "plt.show()"
   ]
  },
  {
   "cell_type": "markdown",
   "metadata": {},
   "source": [
    "## 95. サブワード化"
   ]
  },
  {
   "cell_type": "code",
   "execution_count": 51,
   "metadata": {},
   "outputs": [
    {
     "name": "stdout",
     "output_type": "stream",
     "text": [
      "\u001b[33mWARNING: Value for scheme.headers does not match. Please report this to <https://github.com/pypa/pip/issues/9617>\n",
      "distutils: /opt/conda/include/python3.8/UNKNOWN\n",
      "sysconfig: /opt/conda/include/python3.8\u001b[0m\n",
      "\u001b[33mWARNING: Additional context:\n",
      "user = False\n",
      "home = None\n",
      "root = None\n",
      "prefix = None\u001b[0m\n",
      "Collecting sentencepiece\n",
      "  Downloading sentencepiece-0.1.96-cp38-cp38-manylinux_2_17_x86_64.manylinux2014_x86_64.whl (1.2 MB)\n",
      "\u001b[K     |████████████████████████████████| 1.2 MB 6.1 MB/s eta 0:00:01\n",
      "\u001b[?25hInstalling collected packages: sentencepiece\n",
      "\u001b[33mWARNING: Value for scheme.headers does not match. Please report this to <https://github.com/pypa/pip/issues/9617>\n",
      "distutils: /opt/conda/include/python3.8/UNKNOWN\n",
      "sysconfig: /opt/conda/include/python3.8\u001b[0m\n",
      "\u001b[33mWARNING: Additional context:\n",
      "user = False\n",
      "home = None\n",
      "root = None\n",
      "prefix = None\u001b[0m\n",
      "Successfully installed sentencepiece-0.1.96\n"
     ]
    }
   ],
   "source": [
    "!pip install sentencepiece"
   ]
  },
  {
   "cell_type": "code",
   "execution_count": 52,
   "metadata": {},
   "outputs": [
    {
     "name": "stdout",
     "output_type": "stream",
     "text": [
      "\u001b[33mWARNING: Value for scheme.headers does not match. Please report this to <https://github.com/pypa/pip/issues/9617>\n",
      "distutils: /opt/conda/include/python3.8/UNKNOWN\n",
      "sysconfig: /opt/conda/include/python3.8\u001b[0m\n",
      "\u001b[33mWARNING: Additional context:\n",
      "user = False\n",
      "home = None\n",
      "root = None\n",
      "prefix = None\u001b[0m\n",
      "Collecting subword-nmt\n",
      "  Downloading subword_nmt-0.3.8-py3-none-any.whl (27 kB)\n",
      "Requirement already satisfied: mock in /opt/conda/lib/python3.8/site-packages (from subword-nmt) (4.0.3)\n",
      "Requirement already satisfied: tqdm in /opt/conda/lib/python3.8/site-packages (from subword-nmt) (4.60.0)\n",
      "Installing collected packages: subword-nmt\n",
      "\u001b[33mWARNING: Value for scheme.headers does not match. Please report this to <https://github.com/pypa/pip/issues/9617>\n",
      "distutils: /opt/conda/include/python3.8/UNKNOWN\n",
      "sysconfig: /opt/conda/include/python3.8\u001b[0m\n",
      "\u001b[33mWARNING: Additional context:\n",
      "user = False\n",
      "home = None\n",
      "root = None\n",
      "prefix = None\u001b[0m\n",
      "Successfully installed subword-nmt-0.3.8\n"
     ]
    }
   ],
   "source": [
    "!pip install subword-nmt"
   ]
  },
  {
   "cell_type": "code",
   "execution_count": 53,
   "metadata": {},
   "outputs": [],
   "source": [
    "import sentencepiece as spm\n",
    "import re"
   ]
  },
  {
   "cell_type": "code",
   "execution_count": 54,
   "metadata": {},
   "outputs": [],
   "source": [
    "spm.SentencePieceTrainer.Train('--input=kftt-data-1.0/data/orig/kyoto-train.ja --model_prefix=kyoto_ja --vocab_size=16000 --character_coverage=1.0')"
   ]
  },
  {
   "cell_type": "code",
   "execution_count": 55,
   "metadata": {},
   "outputs": [
    {
     "data": {
      "text/plain": [
       "True"
      ]
     },
     "execution_count": 55,
     "metadata": {},
     "output_type": "execute_result"
    }
   ],
   "source": [
    "sp = spm.SentencePieceProcessor()\n",
    "sp.Load('kyoto_ja.model')"
   ]
  },
  {
   "cell_type": "code",
   "execution_count": 8,
   "metadata": {},
   "outputs": [],
   "source": [
    "for src, dst in [\n",
    "    ('kftt-data-1.0/data/orig/kyoto-train.ja', 'train.sub.ja'),\n",
    "    ('kftt-data-1.0/data/orig/kyoto-dev.ja', 'dev.sub.ja'),\n",
    "    ('kftt-data-1.0/data/orig/kyoto-test.ja', 'test.sub.ja'),\n",
    "]:\n",
    "    with open(src) as f, open(dst, 'w') as g:\n",
    "        for x in f:\n",
    "            x = x.strip()\n",
    "            x = re.sub(r'\\s+', ' ', x)\n",
    "            x = sp.encode_as_pieces(x)\n",
    "            x = ' '.join(x)\n",
    "            print(x, file=g)"
   ]
  },
  {
   "cell_type": "code",
   "execution_count": 9,
   "metadata": {},
   "outputs": [
    {
     "name": "stdout",
     "output_type": "stream",
     "text": [
      "▁ 雪 舟 ( せ っ しゅう 、 14 20 年 ( 応永 27 年 )- 150 6 年 ( 永正 3 年 ) ) は 号 で 、 15 世紀後半 室町時代に 活躍した 水墨画 家 ・ 禅僧 で 、 画 聖 とも 称え られる 。\n",
      "▁日本の 水墨画 を 一 変 させた 。\n",
      "▁諱は 「 等 楊 ( とう よう ) 」 、 もしくは 「 拙 宗 ( せ っ しゅう ) 」 と号した 。\n",
      "▁ 備中国 に 生まれ 、 京都 ・ 相国寺 に入って から 周防国 に移る 。\n",
      "▁その後 遣 明 使 に 随行 して 中国 ( 明 ) に渡って 中国の 水墨画 を学んだ 。\n",
      "▁ 作品 は 数多く 、 中国 風の 山 水 画 だけでなく 人物 画 や 花鳥 画 も よく した 。\n",
      "▁大 胆 な 構図 と 力 強い 筆 線 は非常に 個 性 的な 画 風 を作り 出している 。\n",
      "▁ 現存する 作品 のうち 6 点 が 国宝 に指定され ており 、 日本の 画家 のなかで も 別 格 の 評価 を受けている といえる 。\n",
      "▁このため 、 花鳥 図屏風 などに 「 伝 雪 舟 筆 」 される 作品 は 大変 多い 。\n",
      "▁ 真 筆 である か 専門 家 の間で も 意見 の 分かれ るもの も 多 々 ある 。\n"
     ]
    }
   ],
   "source": [
    "!head train.sub.ja"
   ]
  },
  {
   "cell_type": "code",
   "execution_count": 18,
   "metadata": {},
   "outputs": [
    {
     "name": "stdout",
     "output_type": "stream",
     "text": [
      "100%|####################################| 16000/16000 [01:01<00:00, 258.79it/s]\n"
     ]
    }
   ],
   "source": [
    "!subword-nmt learn-bpe -s 16000 < kftt-data-1.0/data/orig/kyoto-train.en > kyoto_en.codes"
   ]
  },
  {
   "cell_type": "code",
   "execution_count": 19,
   "metadata": {},
   "outputs": [],
   "source": [
    "!subword-nmt apply-bpe -c kyoto_en.codes < kftt-data-1.0/data/orig/kyoto-train.en > train.sub.en\n",
    "!subword-nmt apply-bpe -c kyoto_en.codes < kftt-data-1.0/data/orig/kyoto-dev.en > dev.sub.en\n",
    "!subword-nmt apply-bpe -c kyoto_en.codes < kftt-data-1.0/data/orig/kyoto-test.en > test.sub.en"
   ]
  },
  {
   "cell_type": "code",
   "execution_count": 20,
   "metadata": {},
   "outputs": [
    {
     "name": "stdout",
     "output_type": "stream",
     "text": [
      "K@@ n@@ own as Ses@@ shu (14@@ 20 - 150@@ 6@@ ), he was an ink painter and Zen monk active in the Muromachi period in the latter half of the 15th century, and was called a master pain@@ ter.\n",
      "He revol@@ ut@@ ion@@ ized the Japanese ink paint@@ ing.\n",
      "He was given the posthumous name \"@@ Toyo@@ \" or \"S@@ es@@ shu (@@ 拙@@ 宗@@ ).\"\n",
      "Born in Bicchu Province, he moved to Suo Province after entering S@@ Shokoku-ji Temple in Kyoto.\n",
      "Later he accompanied a mission to Ming Dynasty China and learned Chinese ink paint@@ ing.\n",
      "His works were man@@ y, including not only Chinese-style landscape paintings, but also portraits and pictures of flowers and bird@@ s.\n",
      "His b@@ old compos@@ itions and strong brush st@@ rok@@ es const@@ ituted an extremely distinctive style.\n",
      "6 of his ext@@ ant works are designated national treasu@@ res. In@@ de@@ ed, he is considered to be extraordinary among Japanese pain@@ ters.\n",
      "For this reason, there are a great many art@@ works that are attributed to him, such as folding scre@@ ens with pictures of flowers and that birds are painted on them.\n",
      "There are many works that even experts cannot ag@@ ree if they are really his work or not.\n"
     ]
    }
   ],
   "source": [
    "!head train.sub.en"
   ]
  },
  {
   "cell_type": "code",
   "execution_count": 17,
   "metadata": {},
   "outputs": [
    {
     "name": "stdout",
     "output_type": "stream",
     "text": [
      "2022-02-20 04:37:58 | INFO | fairseq_cli.preprocess | Namespace(align_suffix=None, alignfile=None, all_gather_list_size=16384, bf16=False, bpe=None, checkpoint_shard_count=1, checkpoint_suffix='', cpu=False, criterion='cross_entropy', dataset_impl='mmap', destdir='data95', empty_cache_freq=0, fp16=False, fp16_init_scale=128, fp16_no_flatten_grads=False, fp16_scale_tolerance=0.0, fp16_scale_window=None, joined_dictionary=False, log_format=None, log_interval=100, lr_scheduler='fixed', memory_efficient_bf16=False, memory_efficient_fp16=False, min_loss_scale=0.0001, model_parallel_size=8, no_progress_bar=False, nwordssrc=-1, nwordstgt=-1, only_source=False, optimizer=None, padding_factor=8, profile=False, quantization_config_path=None, scoring='bleu', seed=1, source_lang='ja', srcdict=None, target_lang='en', task='translation', tensorboard_logdir=None, testpref=None, tgtdict=None, threshold_loss_scale=None, thresholdsrc=0, thresholdtgt=0, tokenizer=None, tpu=False, trainpref='train.sub', user_dir=None, validpref='dev.sub', workers=30)\n",
      "Traceback (most recent call last):\n",
      "  File \"/opt/conda/bin/fairseq-preprocess\", line 8, in <module>\n",
      "    sys.exit(cli_main())\n",
      "  File \"/opt/conda/lib/python3.8/site-packages/fairseq_cli/preprocess.py\", line 394, in cli_main\n",
      "    main(args)\n",
      "  File \"/opt/conda/lib/python3.8/site-packages/fairseq_cli/preprocess.py\", line 74, in main\n",
      "    raise FileExistsError(dict_path(args.source_lang))\n",
      "FileExistsError: data95/dict.ja.txt\n"
     ]
    }
   ],
   "source": [
    "!fairseq-preprocess -s ja -t en \\\n",
    "    --trainpref train.sub \\\n",
    "    --validpref dev.sub \\\n",
    "    --model-parallel-size 8 \\\n",
    "    --destdir data95  \\\n",
    "    --workers 30"
   ]
  },
  {
   "cell_type": "code",
   "execution_count": 27,
   "metadata": {},
   "outputs": [
    {
     "name": "stdout",
     "output_type": "stream",
     "text": [
      "/opt/conda/lib/python3.8/site-packages/torch/nn/parallel/distributed.py:425: UserWarning: The `check_reduction` argument in `DistributedDataParallel` module is deprecated. Please avoid using it.\n",
      "  warnings.warn(\n",
      "/opt/conda/lib/python3.8/site-packages/torch/nn/parallel/distributed.py:425: UserWarning: The `check_reduction` argument in `DistributedDataParallel` module is deprecated. Please avoid using it.\n",
      "  warnings.warn(\n",
      "/opt/conda/lib/python3.8/site-packages/torch/nn/parallel/distributed.py:425: UserWarning: The `check_reduction` argument in `DistributedDataParallel` module is deprecated. Please avoid using it.\n",
      "  warnings.warn(\n",
      "/opt/conda/lib/python3.8/site-packages/torch/nn/parallel/distributed.py:425: UserWarning: The `check_reduction` argument in `DistributedDataParallel` module is deprecated. Please avoid using it.\n",
      "  warnings.warn(\n",
      "/opt/conda/lib/python3.8/site-packages/torch/nn/parallel/distributed.py:425: UserWarning: The `check_reduction` argument in `DistributedDataParallel` module is deprecated. Please avoid using it.\n",
      "  warnings.warn(\n",
      "/opt/conda/lib/python3.8/site-packages/torch/nn/parallel/distributed.py:425: UserWarning: The `check_reduction` argument in `DistributedDataParallel` module is deprecated. Please avoid using it.\n",
      "  warnings.warn(\n",
      "/opt/conda/lib/python3.8/site-packages/torch/nn/parallel/distributed.py:425: UserWarning: The `check_reduction` argument in `DistributedDataParallel` module is deprecated. Please avoid using it.\n",
      "  warnings.warn(\n",
      "/opt/conda/lib/python3.8/site-packages/torch/nn/parallel/distributed.py:425: UserWarning: The `check_reduction` argument in `DistributedDataParallel` module is deprecated. Please avoid using it.\n",
      "  warnings.warn(\n",
      "epoch 001:   0%|                                        | 0/235 [00:00<?, ?it/s]/opt/conda/lib/python3.8/site-packages/fairseq/utils.py:341: UserWarning: amp_C fused kernels unavailable, disabling multi_tensor_l2norm; you may get better performance by installing NVIDIA's apex library\n",
      "  warnings.warn(\n",
      "/opt/conda/lib/python3.8/site-packages/fairseq/utils.py:341: UserWarning: amp_C fused kernels unavailable, disabling multi_tensor_l2norm; you may get better performance by installing NVIDIA's apex library\n",
      "  warnings.warn(\n",
      "/opt/conda/lib/python3.8/site-packages/fairseq/utils.py:341: UserWarning: amp_C fused kernels unavailable, disabling multi_tensor_l2norm; you may get better performance by installing NVIDIA's apex library\n",
      "  warnings.warn(\n",
      "/opt/conda/lib/python3.8/site-packages/fairseq/utils.py:341: UserWarning: amp_C fused kernels unavailable, disabling multi_tensor_l2norm; you may get better performance by installing NVIDIA's apex library\n",
      "  warnings.warn(\n",
      "/opt/conda/lib/python3.8/site-packages/fairseq/utils.py:341: UserWarning: amp_C fused kernels unavailable, disabling multi_tensor_l2norm; you may get better performance by installing NVIDIA's apex library\n",
      "  warnings.warn(\n",
      "/opt/conda/lib/python3.8/site-packages/fairseq/utils.py:341: UserWarning: amp_C fused kernels unavailable, disabling multi_tensor_l2norm; you may get better performance by installing NVIDIA's apex library\n",
      "  warnings.warn(\n",
      "/opt/conda/lib/python3.8/site-packages/fairseq/utils.py:341: UserWarning: amp_C fused kernels unavailable, disabling multi_tensor_l2norm; you may get better performance by installing NVIDIA's apex library\n",
      "  warnings.warn(\n",
      "/opt/conda/lib/python3.8/site-packages/fairseq/utils.py:341: UserWarning: amp_C fused kernels unavailable, disabling multi_tensor_l2norm; you may get better performance by installing NVIDIA's apex library\n",
      "  warnings.warn(\n",
      "epoch 001: 100%|▉| 234/235 [02:24<00:00,  1.66it/s, loss=11.596, nll_loss=11.16,\n",
      "epoch 001 | valid on 'valid' subset:   0%|                | 0/1 [00:00<?, ?it/s]\u001b[A\n",
      "epoch 001 | valid on 'valid' subset: 100%|████████| 1/1 [00:01<00:00,  1.96s/it]\u001b[A\n",
      "epoch 002: 100%|▉| 234/235 [02:21<00:00,  1.67it/s, loss=10.216, nll_loss=9.545,\u001b[A\n",
      "epoch 002 | valid on 'valid' subset:   0%|                | 0/1 [00:00<?, ?it/s]\u001b[A\n",
      "epoch 002 | valid on 'valid' subset: 100%|████████| 1/1 [00:01<00:00,  1.94s/it]\u001b[A\n",
      "epoch 003: 100%|▉| 234/235 [02:22<00:00,  1.65it/s, loss=8.674, nll_loss=7.729, \u001b[A\n",
      "epoch 003 | valid on 'valid' subset:   0%|                | 0/1 [00:00<?, ?it/s]\u001b[A\n",
      "epoch 003 | valid on 'valid' subset: 100%|████████| 1/1 [00:01<00:00,  1.96s/it]\u001b[A\n",
      "epoch 004: 100%|▉| 234/235 [02:22<00:00,  1.67it/s, loss=8, nll_loss=6.938, ppl=\u001b[A\n",
      "epoch 004 | valid on 'valid' subset:   0%|                | 0/1 [00:00<?, ?it/s]\u001b[A\n",
      "epoch 004 | valid on 'valid' subset: 100%|████████| 1/1 [00:02<00:00,  2.02s/it]\u001b[A\n",
      "epoch 005: 100%|▉| 234/235 [02:22<00:00,  1.67it/s, loss=7.452, nll_loss=6.299, \u001b[A\n",
      "epoch 005 | valid on 'valid' subset:   0%|                | 0/1 [00:00<?, ?it/s]\u001b[A\n",
      "epoch 005 | valid on 'valid' subset: 100%|████████| 1/1 [00:01<00:00,  2.00s/it]\u001b[A\n",
      "epoch 006: 100%|▉| 234/235 [02:22<00:00,  1.65it/s, loss=6.721, nll_loss=5.452, \u001b[A\n",
      "epoch 006 | valid on 'valid' subset:   0%|                | 0/1 [00:00<?, ?it/s]\u001b[A\n",
      "epoch 006 | valid on 'valid' subset: 100%|████████| 1/1 [00:01<00:00,  1.99s/it]\u001b[A\n",
      "epoch 007: 100%|▉| 234/235 [02:21<00:00,  1.67it/s, loss=6.303, nll_loss=4.969, \u001b[A\n",
      "epoch 007 | valid on 'valid' subset:   0%|                | 0/1 [00:00<?, ?it/s]\u001b[A\n",
      "epoch 007 | valid on 'valid' subset: 100%|████████| 1/1 [00:02<00:00,  2.01s/it]\u001b[A\n",
      "epoch 008: 100%|▉| 234/235 [02:22<00:00,  1.64it/s, loss=5.92, nll_loss=4.528, p\u001b[A\n",
      "epoch 008 | valid on 'valid' subset:   0%|                | 0/1 [00:00<?, ?it/s]\u001b[A\n",
      "epoch 008 | valid on 'valid' subset: 100%|████████| 1/1 [00:01<00:00,  1.93s/it]\u001b[A\n",
      "epoch 009: 100%|▉| 234/235 [02:21<00:00,  1.67it/s, loss=5.501, nll_loss=4.046, \u001b[A\n",
      "epoch 009 | valid on 'valid' subset:   0%|                | 0/1 [00:00<?, ?it/s]\u001b[A\n",
      "epoch 009 | valid on 'valid' subset: 100%|████████| 1/1 [00:01<00:00,  1.96s/it]\u001b[A\n",
      "epoch 010: 100%|▉| 234/235 [02:21<00:00,  1.67it/s, loss=5.285, nll_loss=3.799, \u001b[A\n",
      "epoch 010 | valid on 'valid' subset:   0%|                | 0/1 [00:00<?, ?it/s]\u001b[A\n",
      "epoch 010 | valid on 'valid' subset: 100%|████████| 1/1 [00:01<00:00,  1.99s/it]\u001b[A\n",
      "/opt/conda/lib/python3.8/multiprocessing/resource_tracker.py:216: UserWarning: resource_tracker: There appear to be 160 leaked semaphore objects to clean up at shutdown\n",
      "  warnings.warn('resource_tracker: There appear to be %d '\n"
     ]
    }
   ],
   "source": [
    "!fairseq-train data95 \\\n",
    "    --memory-efficient-fp16 \\\n",
    "    --save-dir save95 \\\n",
    "    --max-epoch 10 \\\n",
    "    --arch transformer --share-decoder-input-output-embed \\\n",
    "    --optimizer adam --clip-norm 1.0 \\\n",
    "    --lr 1e-3 --lr-scheduler inverse_sqrt --warmup-updates 2000 \\\n",
    "    --update-freq 1 \\\n",
    "    --dropout 0.2 --weight-decay 0.0001 \\\n",
    "    --criterion label_smoothed_cross_entropy --label-smoothing 0.1 \\\n",
    "    --max-tokens 8000 > 95.log"
   ]
  },
  {
   "cell_type": "code",
   "execution_count": 28,
   "metadata": {},
   "outputs": [],
   "source": [
    "!fairseq-interactive --path save95/checkpoint10.pt data95 < test.sub.ja | grep '^H' | cut -f3 | sed -r 's/(@@ )|(@@ ?$)//g' > 95.out"
   ]
  },
  {
   "cell_type": "code",
   "execution_count": 5,
   "metadata": {},
   "outputs": [],
   "source": [
    "def spacy_tokenize(src, dst):\n",
    "    with open(src) as f, open(dst, 'w') as g:\n",
    "        for x in f:\n",
    "            x = x.strip()\n",
    "            x = ' '.join([doc.text for doc in nlp(x)])\n",
    "            print(x, file=g)"
   ]
  },
  {
   "cell_type": "code",
   "execution_count": 39,
   "metadata": {},
   "outputs": [],
   "source": [
    "spacy_tokenize('95.out', '95.out.spacy')"
   ]
  },
  {
   "cell_type": "code",
   "execution_count": 46,
   "metadata": {},
   "outputs": [
    {
     "name": "stdout",
     "output_type": "stream",
     "text": [
      "Namespace(ignore_case=False, order=4, ref='test.en', sacrebleu=False, sentence_bleu=False, sys='95.out.spacy')\n",
      "BLEU4 = 18.95, 48.9/23.7/13.5/8.3 (BP=1.000, ratio=1.070, syslen=29576, reflen=27636)\n"
     ]
    }
   ],
   "source": [
    "!fairseq-score --sys 95.out.spacy --ref test.en"
   ]
  },
  {
   "cell_type": "code",
   "execution_count": 47,
   "metadata": {},
   "outputs": [],
   "source": [
    "%%bash\n",
    "for N in `seq 1 10` ; do\n",
    "    fairseq-interactive --path save95/checkpoint10.pt --beam $N data95 < test.sub.ja | grep '^H' | cut -f3 | sed -r 's/(@@ )|(@@ ?$)//g' > 95.$N.out\n",
    "done"
   ]
  },
  {
   "cell_type": "code",
   "execution_count": 48,
   "metadata": {},
   "outputs": [],
   "source": [
    "for i in range(1, 11):\n",
    "    spacy_tokenize(f'95.{i}.out', f'95.{i}.out.spacy')"
   ]
  },
  {
   "cell_type": "code",
   "execution_count": 49,
   "metadata": {},
   "outputs": [],
   "source": [
    "%%bash\n",
    "for N in `seq 1 10` ; do\n",
    "    fairseq-score --sys 95.$N.out.spacy --ref test.en > 95.$N.score\n",
    "done"
   ]
  },
  {
   "cell_type": "code",
   "execution_count": 54,
   "metadata": {},
   "outputs": [
    {
     "data": {
      "image/png": "[encoded data removed]",
      "text/plain": [
       "<Figure size 432x288 with 1 Axes>"
      ]
     },
     "metadata": {
      "needs_background": "light"
     },
     "output_type": "display_data"
    }
   ],
   "source": [
    "xs = range(1, 11)\n",
    "ys = [read_score(f'95.{x}.score') for x in xs]\n",
    "plt.plot(xs, ys)\n",
    "plt.show()"
   ]
  },
  {
   "cell_type": "markdown",
   "metadata": {},
   "source": [
    "## 96 学習過程の可視化"
   ]
  },
  {
   "cell_type": "code",
   "execution_count": 6,
   "metadata": {
    "tags": []
   },
   "outputs": [
    {
     "name": "stdout",
     "output_type": "stream",
     "text": [
      "\u001b[33mWARNING: Value for scheme.headers does not match. Please report this to <https://github.com/pypa/pip/issues/9617>\n",
      "distutils: /opt/conda/include/python3.8/UNKNOWN\n",
      "sysconfig: /opt/conda/include/python3.8\u001b[0m\n",
      "\u001b[33mWARNING: Additional context:\n",
      "user = False\n",
      "home = None\n",
      "root = None\n",
      "prefix = None\u001b[0m\n",
      "Requirement already satisfied: tensorflow in /opt/conda/lib/python3.8/site-packages (2.4.1)\n",
      "Collecting tensorflow\n",
      "  Downloading tensorflow-2.8.0-cp38-cp38-manylinux2010_x86_64.whl (497.6 MB)\n",
      "\u001b[K     |███████████████████▋            | 304.7 MB 96.4 MB/s eta 0:00:03"
     ]
    },
    {
     "name": "stderr",
     "output_type": "stream",
     "text": [
      "IOPub data rate exceeded.\n",
      "The Jupyter server will temporarily stop sending output\n",
      "to the client in order to avoid crashing it.\n",
      "To change this limit, set the config variable\n",
      "`--ServerApp.iopub_data_rate_limit`.\n",
      "\n",
      "Current values:\n",
      "ServerApp.iopub_data_rate_limit=1000000.0 (bytes/sec)\n",
      "ServerApp.rate_limit_window=3.0 (secs)\n",
      "\n"
     ]
    },
    {
     "name": "stdout",
     "output_type": "stream",
     "text": [
      "\u001b[K     |████████████████████████████████| 497.6 MB 2.1 kB/s s eta 0:00:01\n",
      "\u001b[?25hCollecting tensorflow-io-gcs-filesystem>=0.23.1\n",
      "  Downloading tensorflow_io_gcs_filesystem-0.24.0-cp38-cp38-manylinux_2_12_x86_64.manylinux2010_x86_64.whl (2.1 MB)\n",
      "\u001b[K     |████████████████████████████████| 2.1 MB 64.3 MB/s eta 0:00:01\n",
      "\u001b[?25hRequirement already satisfied: absl-py>=0.4.0 in /opt/conda/lib/python3.8/site-packages (from tensorflow) (0.12.0)\n",
      "Requirement already satisfied: wrapt>=1.11.0 in /opt/conda/lib/python3.8/site-packages (from tensorflow) (1.12.1)\n",
      "Requirement already satisfied: typing-extensions>=3.6.6 in /opt/conda/lib/python3.8/site-packages (from tensorflow) (3.7.4.3)\n",
      "Requirement already satisfied: flatbuffers>=1.12 in /opt/conda/lib/python3.8/site-packages (from tensorflow) (1.12)\n",
      "Collecting tf-estimator-nightly==2.8.0.dev2021122109\n",
      "  Downloading tf_estimator_nightly-2.8.0.dev2021122109-py2.py3-none-any.whl (462 kB)\n",
      "\u001b[K     |████████████████████████████████| 462 kB 80.7 MB/s eta 0:00:01\n",
      "\u001b[?25hCollecting libclang>=9.0.1\n",
      "  Downloading libclang-13.0.0-py2.py3-none-manylinux1_x86_64.whl (14.5 MB)\n",
      "\u001b[K     |████████████████████████████████| 14.5 MB 34.6 MB/s eta 0:00:01\n",
      "\u001b[?25hRequirement already satisfied: six>=1.12.0 in /opt/conda/lib/python3.8/site-packages (from tensorflow) (1.15.0)\n",
      "Requirement already satisfied: google-pasta>=0.1.1 in /opt/conda/lib/python3.8/site-packages (from tensorflow) (0.2.0)\n",
      "Collecting tensorboard<2.9,>=2.8\n",
      "  Downloading tensorboard-2.8.0-py3-none-any.whl (5.8 MB)\n",
      "\u001b[K     |████████████████████████████████| 5.8 MB 37.4 MB/s eta 0:00:01\n",
      "\u001b[?25hRequirement already satisfied: astunparse>=1.6.0 in /opt/conda/lib/python3.8/site-packages (from tensorflow) (1.6.3)\n",
      "Requirement already satisfied: termcolor>=1.1.0 in /opt/conda/lib/python3.8/site-packages (from tensorflow) (1.1.0)\n",
      "Requirement already satisfied: gast>=0.2.1 in /opt/conda/lib/python3.8/site-packages (from tensorflow) (0.3.3)\n",
      "Requirement already satisfied: opt-einsum>=2.3.2 in /opt/conda/lib/python3.8/site-packages (from tensorflow) (3.3.0)\n",
      "Collecting numpy>=1.20\n",
      "  Downloading numpy-1.22.2-cp38-cp38-manylinux_2_17_x86_64.manylinux2014_x86_64.whl (16.8 MB)\n",
      "\u001b[K     |████████████████████████████████| 16.8 MB 69.0 MB/s eta 0:00:01\n",
      "\u001b[?25hRequirement already satisfied: h5py>=2.9.0 in /opt/conda/lib/python3.8/site-packages (from tensorflow) (2.10.0)\n",
      "Requirement already satisfied: grpcio<2.0,>=1.24.3 in /opt/conda/lib/python3.8/site-packages (from tensorflow) (1.32.0)\n",
      "Requirement already satisfied: keras-preprocessing>=1.1.1 in /opt/conda/lib/python3.8/site-packages (from tensorflow) (1.1.2)\n",
      "Requirement already satisfied: setuptools in /opt/conda/lib/python3.8/site-packages (from tensorflow) (49.6.0.post20210108)\n",
      "Collecting keras<2.9,>=2.8.0rc0\n",
      "  Downloading keras-2.8.0-py2.py3-none-any.whl (1.4 MB)\n",
      "\u001b[K     |████████████████████████████████| 1.4 MB 61.1 MB/s eta 0:00:01\n",
      "\u001b[?25hRequirement already satisfied: protobuf>=3.9.2 in /opt/conda/lib/python3.8/site-packages (from tensorflow) (3.15.8)\n",
      "Requirement already satisfied: wheel<1.0,>=0.23.0 in /opt/conda/lib/python3.8/site-packages (from astunparse>=1.6.0->tensorflow) (0.36.2)\n",
      "Requirement already satisfied: tensorboard-plugin-wit>=1.6.0 in /opt/conda/lib/python3.8/site-packages (from tensorboard<2.9,>=2.8->tensorflow) (1.8.0)\n",
      "Requirement already satisfied: markdown>=2.6.8 in /opt/conda/lib/python3.8/site-packages (from tensorboard<2.9,>=2.8->tensorflow) (3.3.4)\n",
      "Requirement already satisfied: tensorboard-data-server<0.7.0,>=0.6.0 in /opt/conda/lib/python3.8/site-packages (from tensorboard<2.9,>=2.8->tensorflow) (0.6.0)\n",
      "Requirement already satisfied: google-auth<3,>=1.6.3 in /opt/conda/lib/python3.8/site-packages (from tensorboard<2.9,>=2.8->tensorflow) (1.29.0)\n",
      "Requirement already satisfied: werkzeug>=0.11.15 in /opt/conda/lib/python3.8/site-packages (from tensorboard<2.9,>=2.8->tensorflow) (1.0.1)\n",
      "Requirement already satisfied: requests<3,>=2.21.0 in /opt/conda/lib/python3.8/site-packages (from tensorboard<2.9,>=2.8->tensorflow) (2.25.1)\n",
      "Requirement already satisfied: google-auth-oauthlib<0.5,>=0.4.1 in /opt/conda/lib/python3.8/site-packages (from tensorboard<2.9,>=2.8->tensorflow) (0.4.4)\n",
      "Requirement already satisfied: cachetools<5.0,>=2.0.0 in /opt/conda/lib/python3.8/site-packages (from google-auth<3,>=1.6.3->tensorboard<2.9,>=2.8->tensorflow) (4.2.1)\n",
      "Requirement already satisfied: pyasn1-modules>=0.2.1 in /opt/conda/lib/python3.8/site-packages (from google-auth<3,>=1.6.3->tensorboard<2.9,>=2.8->tensorflow) (0.2.8)\n",
      "Requirement already satisfied: rsa<5,>=3.1.4 in /opt/conda/lib/python3.8/site-packages (from google-auth<3,>=1.6.3->tensorboard<2.9,>=2.8->tensorflow) (4.7.2)\n",
      "Requirement already satisfied: requests-oauthlib>=0.7.0 in /opt/conda/lib/python3.8/site-packages (from google-auth-oauthlib<0.5,>=0.4.1->tensorboard<2.9,>=2.8->tensorflow) (1.3.0)\n",
      "Requirement already satisfied: pyasn1<0.5.0,>=0.4.6 in /opt/conda/lib/python3.8/site-packages (from pyasn1-modules>=0.2.1->google-auth<3,>=1.6.3->tensorboard<2.9,>=2.8->tensorflow) (0.4.8)\n",
      "Requirement already satisfied: chardet<5,>=3.0.2 in /opt/conda/lib/python3.8/site-packages (from requests<3,>=2.21.0->tensorboard<2.9,>=2.8->tensorflow) (4.0.0)\n",
      "Requirement already satisfied: certifi>=2017.4.17 in /opt/conda/lib/python3.8/site-packages (from requests<3,>=2.21.0->tensorboard<2.9,>=2.8->tensorflow) (2020.12.5)\n",
      "Requirement already satisfied: idna<3,>=2.5 in /opt/conda/lib/python3.8/site-packages (from requests<3,>=2.21.0->tensorboard<2.9,>=2.8->tensorflow) (2.10)\n",
      "Requirement already satisfied: urllib3<1.27,>=1.21.1 in /opt/conda/lib/python3.8/site-packages (from requests<3,>=2.21.0->tensorboard<2.9,>=2.8->tensorflow) (1.26.4)\n",
      "Requirement already satisfied: oauthlib>=3.0.0 in /opt/conda/lib/python3.8/site-packages (from requests-oauthlib>=0.7.0->google-auth-oauthlib<0.5,>=0.4.1->tensorboard<2.9,>=2.8->tensorflow) (3.0.1)\n",
      "Installing collected packages: numpy, tf-estimator-nightly, tensorflow-io-gcs-filesystem, tensorboard, libclang, keras, tensorflow\n",
      "  Attempting uninstall: numpy\n",
      "    Found existing installation: numpy 1.19.5\n",
      "    Uninstalling numpy-1.19.5:\n",
      "      Successfully uninstalled numpy-1.19.5\n",
      "  Attempting uninstall: tensorboard\n",
      "    Found existing installation: tensorboard 2.5.0\n",
      "    Uninstalling tensorboard-2.5.0:\n",
      "      Successfully uninstalled tensorboard-2.5.0\n",
      "  Attempting uninstall: keras\n",
      "    Found existing installation: Keras 2.4.3\n",
      "    Uninstalling Keras-2.4.3:\n",
      "      Successfully uninstalled Keras-2.4.3\n",
      "  Attempting uninstall: tensorflow\n",
      "    Found existing installation: tensorflow 2.4.1\n",
      "    Uninstalling tensorflow-2.4.1:\n",
      "      Successfully uninstalled tensorflow-2.4.1\n",
      "\u001b[33mWARNING: Value for scheme.headers does not match. Please report this to <https://github.com/pypa/pip/issues/9617>\n",
      "distutils: /opt/conda/include/python3.8/UNKNOWN\n",
      "sysconfig: /opt/conda/include/python3.8\u001b[0m\n",
      "\u001b[33mWARNING: Additional context:\n",
      "user = False\n",
      "home = None\n",
      "root = None\n",
      "prefix = None\u001b[0m\n",
      "Successfully installed keras-2.8.0 libclang-13.0.0 numpy-1.22.2 tensorboard-2.8.0 tensorflow-2.8.0 tensorflow-io-gcs-filesystem-0.24.0 tf-estimator-nightly-2.8.0.dev2021122109\n"
     ]
    }
   ],
   "source": [
    "!pip install --upgrade tensorflow"
   ]
  },
  {
   "cell_type": "code",
   "execution_count": 7,
   "metadata": {
    "tags": []
   },
   "outputs": [
    {
     "name": "stdout",
     "output_type": "stream",
     "text": [
      "\u001b[33mWARNING: Value for scheme.headers does not match. Please report this to <https://github.com/pypa/pip/issues/9617>\n",
      "distutils: /opt/conda/include/python3.8/UNKNOWN\n",
      "sysconfig: /opt/conda/include/python3.8\u001b[0m\n",
      "\u001b[33mWARNING: Additional context:\n",
      "user = False\n",
      "home = None\n",
      "root = None\n",
      "prefix = None\u001b[0m\n",
      "Requirement already satisfied: tensorboard in /opt/conda/lib/python3.8/site-packages (2.8.0)\n",
      "Requirement already satisfied: werkzeug>=0.11.15 in /opt/conda/lib/python3.8/site-packages (from tensorboard) (1.0.1)\n",
      "Requirement already satisfied: tensorboard-data-server<0.7.0,>=0.6.0 in /opt/conda/lib/python3.8/site-packages (from tensorboard) (0.6.0)\n",
      "Requirement already satisfied: tensorboard-plugin-wit>=1.6.0 in /opt/conda/lib/python3.8/site-packages (from tensorboard) (1.8.0)\n",
      "Requirement already satisfied: grpcio>=1.24.3 in /opt/conda/lib/python3.8/site-packages (from tensorboard) (1.32.0)\n",
      "Requirement already satisfied: numpy>=1.12.0 in /opt/conda/lib/python3.8/site-packages (from tensorboard) (1.22.2)\n",
      "Requirement already satisfied: setuptools>=41.0.0 in /opt/conda/lib/python3.8/site-packages (from tensorboard) (49.6.0.post20210108)\n",
      "Requirement already satisfied: google-auth-oauthlib<0.5,>=0.4.1 in /opt/conda/lib/python3.8/site-packages (from tensorboard) (0.4.4)\n",
      "Requirement already satisfied: markdown>=2.6.8 in /opt/conda/lib/python3.8/site-packages (from tensorboard) (3.3.4)\n",
      "Requirement already satisfied: google-auth<3,>=1.6.3 in /opt/conda/lib/python3.8/site-packages (from tensorboard) (1.29.0)\n",
      "Requirement already satisfied: requests<3,>=2.21.0 in /opt/conda/lib/python3.8/site-packages (from tensorboard) (2.25.1)\n",
      "Requirement already satisfied: wheel>=0.26 in /opt/conda/lib/python3.8/site-packages (from tensorboard) (0.36.2)\n",
      "Requirement already satisfied: absl-py>=0.4 in /opt/conda/lib/python3.8/site-packages (from tensorboard) (0.12.0)\n",
      "Requirement already satisfied: protobuf>=3.6.0 in /opt/conda/lib/python3.8/site-packages (from tensorboard) (3.15.8)\n",
      "Requirement already satisfied: six in /opt/conda/lib/python3.8/site-packages (from absl-py>=0.4->tensorboard) (1.15.0)\n",
      "Requirement already satisfied: cachetools<5.0,>=2.0.0 in /opt/conda/lib/python3.8/site-packages (from google-auth<3,>=1.6.3->tensorboard) (4.2.1)\n",
      "Requirement already satisfied: rsa<5,>=3.1.4 in /opt/conda/lib/python3.8/site-packages (from google-auth<3,>=1.6.3->tensorboard) (4.7.2)\n",
      "Requirement already satisfied: pyasn1-modules>=0.2.1 in /opt/conda/lib/python3.8/site-packages (from google-auth<3,>=1.6.3->tensorboard) (0.2.8)\n",
      "Requirement already satisfied: requests-oauthlib>=0.7.0 in /opt/conda/lib/python3.8/site-packages (from google-auth-oauthlib<0.5,>=0.4.1->tensorboard) (1.3.0)\n",
      "Requirement already satisfied: pyasn1<0.5.0,>=0.4.6 in /opt/conda/lib/python3.8/site-packages (from pyasn1-modules>=0.2.1->google-auth<3,>=1.6.3->tensorboard) (0.4.8)\n",
      "Requirement already satisfied: chardet<5,>=3.0.2 in /opt/conda/lib/python3.8/site-packages (from requests<3,>=2.21.0->tensorboard) (4.0.0)\n",
      "Requirement already satisfied: urllib3<1.27,>=1.21.1 in /opt/conda/lib/python3.8/site-packages (from requests<3,>=2.21.0->tensorboard) (1.26.4)\n",
      "Requirement already satisfied: idna<3,>=2.5 in /opt/conda/lib/python3.8/site-packages (from requests<3,>=2.21.0->tensorboard) (2.10)\n",
      "Requirement already satisfied: certifi>=2017.4.17 in /opt/conda/lib/python3.8/site-packages (from requests<3,>=2.21.0->tensorboard) (2020.12.5)\n",
      "Requirement already satisfied: oauthlib>=3.0.0 in /opt/conda/lib/python3.8/site-packages (from requests-oauthlib>=0.7.0->google-auth-oauthlib<0.5,>=0.4.1->tensorboard) (3.0.1)\n",
      "\u001b[33mWARNING: Value for scheme.headers does not match. Please report this to <https://github.com/pypa/pip/issues/9617>\n",
      "distutils: /opt/conda/include/python3.8/UNKNOWN\n",
      "sysconfig: /opt/conda/include/python3.8\u001b[0m\n",
      "\u001b[33mWARNING: Additional context:\n",
      "user = False\n",
      "home = None\n",
      "root = None\n",
      "prefix = None\u001b[0m\n"
     ]
    }
   ],
   "source": [
    "!pip install --upgrade tensorboard"
   ]
  },
  {
   "cell_type": "code",
   "execution_count": 8,
   "metadata": {
    "tags": []
   },
   "outputs": [
    {
     "name": "stdout",
     "output_type": "stream",
     "text": [
      "\u001b[33mWARNING: Value for scheme.headers does not match. Please report this to <https://github.com/pypa/pip/issues/9617>\n",
      "distutils: /opt/conda/include/python3.8/UNKNOWN\n",
      "sysconfig: /opt/conda/include/python3.8\u001b[0m\n",
      "\u001b[33mWARNING: Additional context:\n",
      "user = False\n",
      "home = None\n",
      "root = None\n",
      "prefix = None\u001b[0m\n",
      "Requirement already satisfied: tensorboard in /opt/conda/lib/python3.8/site-packages (2.8.0)\n",
      "Collecting tensorboardX\n",
      "  Downloading tensorboardX-2.4.1-py2.py3-none-any.whl (124 kB)\n",
      "\u001b[K     |████████████████████████████████| 124 kB 6.7 MB/s eta 0:00:01\n",
      "\u001b[?25hRequirement already satisfied: google-auth<3,>=1.6.3 in /opt/conda/lib/python3.8/site-packages (from tensorboard) (1.29.0)\n",
      "Requirement already satisfied: absl-py>=0.4 in /opt/conda/lib/python3.8/site-packages (from tensorboard) (0.12.0)\n",
      "Requirement already satisfied: numpy>=1.12.0 in /opt/conda/lib/python3.8/site-packages (from tensorboard) (1.22.2)\n",
      "Requirement already satisfied: google-auth-oauthlib<0.5,>=0.4.1 in /opt/conda/lib/python3.8/site-packages (from tensorboard) (0.4.4)\n",
      "Requirement already satisfied: setuptools>=41.0.0 in /opt/conda/lib/python3.8/site-packages (from tensorboard) (49.6.0.post20210108)\n",
      "Requirement already satisfied: tensorboard-data-server<0.7.0,>=0.6.0 in /opt/conda/lib/python3.8/site-packages (from tensorboard) (0.6.0)\n",
      "Requirement already satisfied: tensorboard-plugin-wit>=1.6.0 in /opt/conda/lib/python3.8/site-packages (from tensorboard) (1.8.0)\n",
      "Requirement already satisfied: protobuf>=3.6.0 in /opt/conda/lib/python3.8/site-packages (from tensorboard) (3.15.8)\n",
      "Requirement already satisfied: markdown>=2.6.8 in /opt/conda/lib/python3.8/site-packages (from tensorboard) (3.3.4)\n",
      "Requirement already satisfied: werkzeug>=0.11.15 in /opt/conda/lib/python3.8/site-packages (from tensorboard) (1.0.1)\n",
      "Requirement already satisfied: grpcio>=1.24.3 in /opt/conda/lib/python3.8/site-packages (from tensorboard) (1.32.0)\n",
      "Requirement already satisfied: requests<3,>=2.21.0 in /opt/conda/lib/python3.8/site-packages (from tensorboard) (2.25.1)\n",
      "Requirement already satisfied: wheel>=0.26 in /opt/conda/lib/python3.8/site-packages (from tensorboard) (0.36.2)\n",
      "Requirement already satisfied: six in /opt/conda/lib/python3.8/site-packages (from absl-py>=0.4->tensorboard) (1.15.0)\n",
      "Requirement already satisfied: cachetools<5.0,>=2.0.0 in /opt/conda/lib/python3.8/site-packages (from google-auth<3,>=1.6.3->tensorboard) (4.2.1)\n",
      "Requirement already satisfied: pyasn1-modules>=0.2.1 in /opt/conda/lib/python3.8/site-packages (from google-auth<3,>=1.6.3->tensorboard) (0.2.8)\n",
      "Requirement already satisfied: rsa<5,>=3.1.4 in /opt/conda/lib/python3.8/site-packages (from google-auth<3,>=1.6.3->tensorboard) (4.7.2)\n",
      "Requirement already satisfied: requests-oauthlib>=0.7.0 in /opt/conda/lib/python3.8/site-packages (from google-auth-oauthlib<0.5,>=0.4.1->tensorboard) (1.3.0)\n",
      "Requirement already satisfied: pyasn1<0.5.0,>=0.4.6 in /opt/conda/lib/python3.8/site-packages (from pyasn1-modules>=0.2.1->google-auth<3,>=1.6.3->tensorboard) (0.4.8)\n",
      "Requirement already satisfied: idna<3,>=2.5 in /opt/conda/lib/python3.8/site-packages (from requests<3,>=2.21.0->tensorboard) (2.10)\n",
      "Requirement already satisfied: certifi>=2017.4.17 in /opt/conda/lib/python3.8/site-packages (from requests<3,>=2.21.0->tensorboard) (2020.12.5)\n",
      "Requirement already satisfied: urllib3<1.27,>=1.21.1 in /opt/conda/lib/python3.8/site-packages (from requests<3,>=2.21.0->tensorboard) (1.26.4)\n",
      "Requirement already satisfied: chardet<5,>=3.0.2 in /opt/conda/lib/python3.8/site-packages (from requests<3,>=2.21.0->tensorboard) (4.0.0)\n",
      "Requirement already satisfied: oauthlib>=3.0.0 in /opt/conda/lib/python3.8/site-packages (from requests-oauthlib>=0.7.0->google-auth-oauthlib<0.5,>=0.4.1->tensorboard) (3.0.1)\n",
      "Installing collected packages: tensorboardX\n",
      "\u001b[33mWARNING: Value for scheme.headers does not match. Please report this to <https://github.com/pypa/pip/issues/9617>\n",
      "distutils: /opt/conda/include/python3.8/UNKNOWN\n",
      "sysconfig: /opt/conda/include/python3.8\u001b[0m\n",
      "\u001b[33mWARNING: Additional context:\n",
      "user = False\n",
      "home = None\n",
      "root = None\n",
      "prefix = None\u001b[0m\n",
      "Successfully installed tensorboardX-2.4.1\n"
     ]
    }
   ],
   "source": [
    "!pip install tensorboard tensorboardX"
   ]
  },
  {
   "cell_type": "code",
   "execution_count": 16,
   "metadata": {},
   "outputs": [
    {
     "name": "stdout",
     "output_type": "stream",
     "text": [
      "/opt/conda/lib/python3.8/site-packages/torch/nn/parallel/distributed.py:425: UserWarning: The `check_reduction` argument in `DistributedDataParallel` module is deprecated. Please avoid using it.\n",
      "  warnings.warn(\n",
      "/opt/conda/lib/python3.8/site-packages/torch/nn/parallel/distributed.py:425: UserWarning: The `check_reduction` argument in `DistributedDataParallel` module is deprecated. Please avoid using it.\n",
      "  warnings.warn(\n",
      "/opt/conda/lib/python3.8/site-packages/torch/nn/parallel/distributed.py:425: UserWarning: The `check_reduction` argument in `DistributedDataParallel` module is deprecated. Please avoid using it.\n",
      "  warnings.warn(\n",
      "/opt/conda/lib/python3.8/site-packages/torch/nn/parallel/distributed.py:425: UserWarning: The `check_reduction` argument in `DistributedDataParallel` module is deprecated. Please avoid using it.\n",
      "  warnings.warn(\n",
      "/opt/conda/lib/python3.8/site-packages/torch/nn/parallel/distributed.py:425: UserWarning: The `check_reduction` argument in `DistributedDataParallel` module is deprecated. Please avoid using it.\n",
      "  warnings.warn(\n",
      "/opt/conda/lib/python3.8/site-packages/torch/nn/parallel/distributed.py:425: UserWarning: The `check_reduction` argument in `DistributedDataParallel` module is deprecated. Please avoid using it.\n",
      "  warnings.warn(\n",
      "/opt/conda/lib/python3.8/site-packages/torch/nn/parallel/distributed.py:425: UserWarning: The `check_reduction` argument in `DistributedDataParallel` module is deprecated. Please avoid using it.\n",
      "  warnings.warn(\n",
      "/opt/conda/lib/python3.8/site-packages/torch/nn/parallel/distributed.py:425: UserWarning: The `check_reduction` argument in `DistributedDataParallel` module is deprecated. Please avoid using it.\n",
      "  warnings.warn(\n"
     ]
    }
   ],
   "source": [
    "!fairseq-train data95 \\\n",
    "    --fp16 \\\n",
    "    --tensorboard-logdir log96 \\\n",
    "    --save-dir save96 \\\n",
    "    --max-epoch 5 \\\n",
    "    --arch transformer --share-decoder-input-output-embed \\\n",
    "    --optimizer adam --clip-norm 1.0 \\\n",
    "    --lr 1e-3 --lr-scheduler inverse_sqrt --warmup-updates 2000 \\\n",
    "    --dropout 0.2 --weight-decay 0.0001 \\\n",
    "    --update-freq 1 \\\n",
    "    --criterion label_smoothed_cross_entropy --label-smoothing 0.1 \\\n",
    "    --max-tokens 8000 > 96.log"
   ]
  },
  {
   "cell_type": "code",
   "execution_count": 9,
   "metadata": {},
   "outputs": [],
   "source": [
    "%load_ext tensorboard"
   ]
  },
  {
   "cell_type": "code",
   "execution_count": 10,
   "metadata": {},
   "outputs": [
    {
     "data": {
      "text/html": [
       "\n",
       "      <iframe id=\"tensorboard-frame-62eb935df33dce11\" width=\"100%\" height=\"800\" frameborder=\"0\">\n",
       "      </iframe>\n",
       "      <script>\n",
       "        (function() {\n",
       "          const frame = document.getElementById(\"tensorboard-frame-62eb935df33dce11\");\n",
       "          const url = new URL(\"/\", window.location);\n",
       "          const port = 6006;\n",
       "          if (port) {\n",
       "            url.port = port;\n",
       "          }\n",
       "          frame.src = url;\n",
       "        })();\n",
       "      </script>\n",
       "    "
      ],
      "text/plain": [
       "<IPython.core.display.HTML object>"
      ]
     },
     "metadata": {},
     "output_type": "display_data"
    }
   ],
   "source": [
    "%tensorboard --logdir log96 --bind_all"
   ]
  },
  {
   "cell_type": "markdown",
   "metadata": {},
   "source": [
    "http://localhost:6006/ でTensorflowの可視化を閲覧できる"
   ]
  },
  {
   "cell_type": "markdown",
   "metadata": {},
   "source": [
    "## 97 ハイパー・パラメータの調整  \n",
    "とりあえずドロップアウト率をいじってみる"
   ]
  },
  {
   "cell_type": "code",
   "execution_count": 27,
   "metadata": {},
   "outputs": [
    {
     "name": "stdout",
     "output_type": "stream",
     "text": [
      "/opt/conda/lib/python3.8/site-packages/torch/nn/parallel/distributed.py:425: UserWarning: The `check_reduction` argument in `DistributedDataParallel` module is deprecated. Please avoid using it.\n",
      "  warnings.warn(\n",
      "/opt/conda/lib/python3.8/site-packages/torch/nn/parallel/distributed.py:425: UserWarning: The `check_reduction` argument in `DistributedDataParallel` module is deprecated. Please avoid using it.\n",
      "  warnings.warn(\n",
      "/opt/conda/lib/python3.8/site-packages/torch/nn/parallel/distributed.py:425: UserWarning: The `check_reduction` argument in `DistributedDataParallel` module is deprecated. Please avoid using it.\n",
      "  warnings.warn(\n",
      "/opt/conda/lib/python3.8/site-packages/torch/nn/parallel/distributed.py:425: UserWarning: The `check_reduction` argument in `DistributedDataParallel` module is deprecated. Please avoid using it.\n",
      "  warnings.warn(\n",
      "/opt/conda/lib/python3.8/site-packages/torch/nn/parallel/distributed.py:425: UserWarning: The `check_reduction` argument in `DistributedDataParallel` module is deprecated. Please avoid using it.\n",
      "  warnings.warn(\n",
      "/opt/conda/lib/python3.8/site-packages/torch/nn/parallel/distributed.py:425: UserWarning: The `check_reduction` argument in `DistributedDataParallel` module is deprecated. Please avoid using it.\n",
      "  warnings.warn(\n",
      "/opt/conda/lib/python3.8/site-packages/torch/nn/parallel/distributed.py:425: UserWarning: The `check_reduction` argument in `DistributedDataParallel` module is deprecated. Please avoid using it.\n",
      "  warnings.warn(\n",
      "/opt/conda/lib/python3.8/site-packages/torch/nn/parallel/distributed.py:425: UserWarning: The `check_reduction` argument in `DistributedDataParallel` module is deprecated. Please avoid using it.\n",
      "  warnings.warn(\n",
      "epoch 001: 100%|▉| 234/235 [02:16<00:00,  1.74it/s, loss=11.52, nll_loss=11.076,\n",
      "epoch 001 | valid on 'valid' subset:   0%|                | 0/1 [00:00<?, ?it/s]\u001b[A\n",
      "epoch 001 | valid on 'valid' subset: 100%|████████| 1/1 [00:01<00:00,  1.95s/it]\u001b[A\n",
      "epoch 002: 100%|▉| 234/235 [02:14<00:00,  1.74it/s, loss=9.983, nll_loss=9.279, \u001b[A\n",
      "epoch 002 | valid on 'valid' subset:   0%|                | 0/1 [00:00<?, ?it/s]\u001b[A\n",
      "epoch 002 | valid on 'valid' subset: 100%|████████| 1/1 [00:01<00:00,  1.98s/it]\u001b[A\n",
      "epoch 003: 100%|▉| 234/235 [02:15<00:00,  1.74it/s, loss=8.415, nll_loss=7.427, \u001b[A\n",
      "epoch 003 | valid on 'valid' subset:   0%|                | 0/1 [00:00<?, ?it/s]\u001b[A\n",
      "epoch 003 | valid on 'valid' subset: 100%|████████| 1/1 [00:01<00:00,  1.87s/it]\u001b[A\n",
      "epoch 004: 100%|▉| 234/235 [02:14<00:00,  1.76it/s, loss=7.607, nll_loss=6.478, \u001b[A\n",
      "epoch 004 | valid on 'valid' subset:   0%|                | 0/1 [00:00<?, ?it/s]\u001b[A\n",
      "epoch 004 | valid on 'valid' subset: 100%|████████| 1/1 [00:01<00:00,  2.00s/it]\u001b[A\n",
      "epoch 005: 100%|▉| 234/235 [02:14<00:00,  1.77it/s, loss=6.91, nll_loss=5.664, p\u001b[A\n",
      "epoch 005 | valid on 'valid' subset:   0%|                | 0/1 [00:00<?, ?it/s]\u001b[A\n",
      "epoch 005 | valid on 'valid' subset: 100%|████████| 1/1 [00:01<00:00,  1.92s/it]\u001b[A\n",
      "epoch 006: 100%|▉| 234/235 [02:14<00:00,  1.74it/s, loss=6.222, nll_loss=4.868, \u001b[A\n",
      "epoch 006 | valid on 'valid' subset:   0%|                | 0/1 [00:00<?, ?it/s]\u001b[A\n",
      "epoch 006 | valid on 'valid' subset: 100%|████████| 1/1 [00:01<00:00,  1.97s/it]\u001b[A\n",
      "epoch 007: 100%|▉| 234/235 [02:15<00:00,  1.75it/s, loss=5.808, nll_loss=4.392, \u001b[A\n",
      "epoch 007 | valid on 'valid' subset:   0%|                | 0/1 [00:00<?, ?it/s]\u001b[A\n",
      "epoch 007 | valid on 'valid' subset: 100%|████████| 1/1 [00:01<00:00,  1.89s/it]\u001b[A\n",
      "epoch 008: 100%|▉| 234/235 [02:14<00:00,  1.74it/s, loss=5.476, nll_loss=4.011, \u001b[A\n",
      "epoch 008 | valid on 'valid' subset:   0%|                | 0/1 [00:00<?, ?it/s]\u001b[A\n",
      "epoch 008 | valid on 'valid' subset: 100%|████████| 1/1 [00:01<00:00,  1.94s/it]\u001b[A\n",
      "epoch 009: 100%|▉| 234/235 [02:14<00:00,  1.77it/s, loss=5.146, nll_loss=3.638, \u001b[A\n",
      "epoch 009 | valid on 'valid' subset:   0%|                | 0/1 [00:00<?, ?it/s]\u001b[A\n",
      "epoch 009 | valid on 'valid' subset: 100%|████████| 1/1 [00:01<00:00,  1.86s/it]\u001b[A\n",
      "epoch 010: 100%|▉| 234/235 [02:14<00:00,  1.76it/s, loss=4.95, nll_loss=3.416, p\u001b[A\n",
      "epoch 010 | valid on 'valid' subset:   0%|                | 0/1 [00:00<?, ?it/s]\u001b[A\n",
      "epoch 010 | valid on 'valid' subset: 100%|████████| 1/1 [00:01<00:00,  1.91s/it]\u001b[A\n",
      "/opt/conda/lib/python3.8/multiprocessing/resource_tracker.py:216: UserWarning: resource_tracker: There appear to be 160 leaked semaphore objects to clean up at shutdown\n",
      "  warnings.warn('resource_tracker: There appear to be %d '\n"
     ]
    }
   ],
   "source": [
    "!fairseq-train data95 \\\n",
    "    --fp16 \\\n",
    "    --save-dir save97_1 \\\n",
    "    --max-epoch 10 \\\n",
    "    --arch transformer --share-decoder-input-output-embed \\\n",
    "    --optimizer adam --clip-norm 1.0 \\\n",
    "    --lr 1e-3 --lr-scheduler inverse_sqrt --warmup-updates 2000 \\\n",
    "    --dropout 0.1 --weight-decay 0.0001 \\\n",
    "    --update-freq 1 \\\n",
    "    --criterion label_smoothed_cross_entropy --label-smoothing 0.1 \\\n",
    "    --max-tokens 8000 > 97_1.log"
   ]
  },
  {
   "cell_type": "code",
   "execution_count": 28,
   "metadata": {},
   "outputs": [
    {
     "name": "stdout",
     "output_type": "stream",
     "text": [
      "/opt/conda/lib/python3.8/site-packages/torch/nn/parallel/distributed.py:425: UserWarning: The `check_reduction` argument in `DistributedDataParallel` module is deprecated. Please avoid using it.\n",
      "  warnings.warn(\n",
      "/opt/conda/lib/python3.8/site-packages/torch/nn/parallel/distributed.py:425: UserWarning: The `check_reduction` argument in `DistributedDataParallel` module is deprecated. Please avoid using it.\n",
      "  warnings.warn(\n",
      "/opt/conda/lib/python3.8/site-packages/torch/nn/parallel/distributed.py:425: UserWarning: The `check_reduction` argument in `DistributedDataParallel` module is deprecated. Please avoid using it.\n",
      "  warnings.warn(\n",
      "/opt/conda/lib/python3.8/site-packages/torch/nn/parallel/distributed.py:425: UserWarning: The `check_reduction` argument in `DistributedDataParallel` module is deprecated. Please avoid using it.\n",
      "  warnings.warn(\n",
      "/opt/conda/lib/python3.8/site-packages/torch/nn/parallel/distributed.py:425: UserWarning: The `check_reduction` argument in `DistributedDataParallel` module is deprecated. Please avoid using it.\n",
      "  warnings.warn(\n",
      "/opt/conda/lib/python3.8/site-packages/torch/nn/parallel/distributed.py:425: UserWarning: The `check_reduction` argument in `DistributedDataParallel` module is deprecated. Please avoid using it.\n",
      "  warnings.warn(\n",
      "/opt/conda/lib/python3.8/site-packages/torch/nn/parallel/distributed.py:425: UserWarning: The `check_reduction` argument in `DistributedDataParallel` module is deprecated. Please avoid using it.\n",
      "  warnings.warn(\n",
      "/opt/conda/lib/python3.8/site-packages/torch/nn/parallel/distributed.py:425: UserWarning: The `check_reduction` argument in `DistributedDataParallel` module is deprecated. Please avoid using it.\n",
      "  warnings.warn(\n",
      "epoch 001: 100%|▉| 234/235 [02:17<00:00,  1.74it/s, loss=11.654, nll_loss=11.223\n",
      "epoch 001 | valid on 'valid' subset:   0%|                | 0/1 [00:00<?, ?it/s]\u001b[A\n",
      "epoch 001 | valid on 'valid' subset: 100%|████████| 1/1 [00:01<00:00,  1.90s/it]\u001b[A\n",
      "epoch 002: 100%|▉| 234/235 [02:15<00:00,  1.73it/s, loss=10.388, nll_loss=9.74, \u001b[A\n",
      "epoch 002 | valid on 'valid' subset:   0%|                | 0/1 [00:00<?, ?it/s]\u001b[A\n",
      "epoch 002 | valid on 'valid' subset: 100%|████████| 1/1 [00:01<00:00,  1.90s/it]\u001b[A\n",
      "epoch 003: 100%|▉| 234/235 [02:15<00:00,  1.74it/s, loss=8.881, nll_loss=7.957, \u001b[A\n",
      "epoch 003 | valid on 'valid' subset:   0%|                | 0/1 [00:00<?, ?it/s]\u001b[A\n",
      "epoch 003 | valid on 'valid' subset: 100%|████████| 1/1 [00:01<00:00,  1.90s/it]\u001b[A\n",
      "epoch 004: 100%|▉| 234/235 [02:14<00:00,  1.76it/s, loss=8.234, nll_loss=7.192, \u001b[A\n",
      "epoch 004 | valid on 'valid' subset:   0%|                | 0/1 [00:00<?, ?it/s]\u001b[A\n",
      "epoch 004 | valid on 'valid' subset: 100%|████████| 1/1 [00:01<00:00,  1.92s/it]\u001b[A\n",
      "epoch 005: 100%|▉| 234/235 [02:15<00:00,  1.77it/s, loss=7.756, nll_loss=6.629, \u001b[A\n",
      "epoch 005 | valid on 'valid' subset:   0%|                | 0/1 [00:00<?, ?it/s]\u001b[A\n",
      "epoch 005 | valid on 'valid' subset: 100%|████████| 1/1 [00:01<00:00,  1.94s/it]\u001b[A\n",
      "epoch 006: 100%|▉| 234/235 [02:15<00:00,  1.74it/s, loss=7.236, nll_loss=6.024, \u001b[A\n",
      "epoch 006 | valid on 'valid' subset:   0%|                | 0/1 [00:00<?, ?it/s]\u001b[A\n",
      "epoch 006 | valid on 'valid' subset: 100%|████████| 1/1 [00:01<00:00,  1.97s/it]\u001b[A\n",
      "epoch 007: 100%|▉| 234/235 [02:14<00:00,  1.76it/s, loss=6.961, nll_loss=5.705, \u001b[A\n",
      "epoch 007 | valid on 'valid' subset:   0%|                | 0/1 [00:00<?, ?it/s]\u001b[A\n",
      "epoch 007 | valid on 'valid' subset: 100%|████████| 1/1 [00:01<00:00,  1.99s/it]\u001b[A\n",
      "epoch 008: 100%|▉| 234/235 [02:15<00:00,  1.73it/s, loss=6.695, nll_loss=5.399, \u001b[A\n",
      "epoch 008 | valid on 'valid' subset:   0%|                | 0/1 [00:00<?, ?it/s]\u001b[A\n",
      "epoch 008 | valid on 'valid' subset: 100%|████████| 1/1 [00:01<00:00,  1.87s/it]\u001b[A\n",
      "epoch 009: 100%|▉| 234/235 [02:14<00:00,  1.78it/s, loss=6.271, nll_loss=4.916, \u001b[A\n",
      "epoch 009 | valid on 'valid' subset:   0%|                | 0/1 [00:00<?, ?it/s]\u001b[A\n",
      "epoch 009 | valid on 'valid' subset: 100%|████████| 1/1 [00:01<00:00,  1.96s/it]\u001b[A\n",
      "epoch 010: 100%|▉| 234/235 [02:14<00:00,  1.77it/s, loss=5.962, nll_loss=4.565, \u001b[A\n",
      "epoch 010 | valid on 'valid' subset:   0%|                | 0/1 [00:00<?, ?it/s]\u001b[A\n",
      "epoch 010 | valid on 'valid' subset: 100%|████████| 1/1 [00:01<00:00,  1.96s/it]\u001b[A\n",
      "/opt/conda/lib/python3.8/multiprocessing/resource_tracker.py:216: UserWarning: resource_tracker: There appear to be 160 leaked semaphore objects to clean up at shutdown\n",
      "  warnings.warn('resource_tracker: There appear to be %d '\n"
     ]
    }
   ],
   "source": [
    "!fairseq-train data95 \\\n",
    "    --fp16 \\\n",
    "    --save-dir save97_3 \\\n",
    "    --max-epoch 10 \\\n",
    "    --arch transformer --share-decoder-input-output-embed \\\n",
    "    --optimizer adam --clip-norm 1.0 \\\n",
    "    --lr 1e-3 --lr-scheduler inverse_sqrt --warmup-updates 2000 \\\n",
    "    --dropout 0.3 --weight-decay 0.0001 \\\n",
    "    --update-freq 1 \\\n",
    "    --criterion label_smoothed_cross_entropy --label-smoothing 0.1 \\\n",
    "    --max-tokens 8000 > 97_3.log"
   ]
  },
  {
   "cell_type": "code",
   "execution_count": 29,
   "metadata": {},
   "outputs": [
    {
     "name": "stdout",
     "output_type": "stream",
     "text": [
      "/opt/conda/lib/python3.8/site-packages/torch/nn/parallel/distributed.py:425: UserWarning: The `check_reduction` argument in `DistributedDataParallel` module is deprecated. Please avoid using it.\n",
      "  warnings.warn(\n",
      "/opt/conda/lib/python3.8/site-packages/torch/nn/parallel/distributed.py:425: UserWarning: The `check_reduction` argument in `DistributedDataParallel` module is deprecated. Please avoid using it.\n",
      "  warnings.warn(\n",
      "/opt/conda/lib/python3.8/site-packages/torch/nn/parallel/distributed.py:425: UserWarning: The `check_reduction` argument in `DistributedDataParallel` module is deprecated. Please avoid using it.\n",
      "  warnings.warn(\n",
      "/opt/conda/lib/python3.8/site-packages/torch/nn/parallel/distributed.py:425: UserWarning: The `check_reduction` argument in `DistributedDataParallel` module is deprecated. Please avoid using it.\n",
      "  warnings.warn(\n",
      "/opt/conda/lib/python3.8/site-packages/torch/nn/parallel/distributed.py:425: UserWarning: The `check_reduction` argument in `DistributedDataParallel` module is deprecated. Please avoid using it.\n",
      "  warnings.warn(\n",
      "/opt/conda/lib/python3.8/site-packages/torch/nn/parallel/distributed.py:425: UserWarning: The `check_reduction` argument in `DistributedDataParallel` module is deprecated. Please avoid using it.\n",
      "  warnings.warn(\n",
      "/opt/conda/lib/python3.8/site-packages/torch/nn/parallel/distributed.py:425: UserWarning: The `check_reduction` argument in `DistributedDataParallel` module is deprecated. Please avoid using it.\n",
      "  warnings.warn(\n",
      "/opt/conda/lib/python3.8/site-packages/torch/nn/parallel/distributed.py:425: UserWarning: The `check_reduction` argument in `DistributedDataParallel` module is deprecated. Please avoid using it.\n",
      "  warnings.warn(\n",
      "epoch 001: 100%|▉| 234/235 [02:17<00:00,  1.75it/s, loss=11.776, nll_loss=11.357\n",
      "epoch 001 | valid on 'valid' subset:   0%|                | 0/1 [00:00<?, ?it/s]\u001b[A\n",
      "epoch 001 | valid on 'valid' subset: 100%|████████| 1/1 [00:01<00:00,  1.90s/it]\u001b[A\n",
      "epoch 002: 100%|▉| 234/235 [02:14<00:00,  1.74it/s, loss=11.017, nll_loss=10.461\u001b[A\n",
      "epoch 002 | valid on 'valid' subset:   0%|                | 0/1 [00:00<?, ?it/s]\u001b[A\n",
      "epoch 002 | valid on 'valid' subset: 100%|████████| 1/1 [00:01<00:00,  1.96s/it]\u001b[A\n",
      "epoch 003: 100%|▉| 234/235 [02:15<00:00,  1.73it/s, loss=9.428, nll_loss=8.586, \u001b[A\n",
      "epoch 003 | valid on 'valid' subset:   0%|                | 0/1 [00:00<?, ?it/s]\u001b[A\n",
      "epoch 003 | valid on 'valid' subset: 100%|████████| 1/1 [00:01<00:00,  1.93s/it]\u001b[A\n",
      "epoch 004: 100%|▉| 234/235 [02:15<00:00,  1.76it/s, loss=8.801, nll_loss=7.847, \u001b[A\n",
      "epoch 004 | valid on 'valid' subset:   0%|                | 0/1 [00:00<?, ?it/s]\u001b[A\n",
      "epoch 004 | valid on 'valid' subset: 100%|████████| 1/1 [00:01<00:00,  1.95s/it]\u001b[A\n",
      "epoch 005: 100%|▉| 234/235 [02:15<00:00,  1.77it/s, loss=8.347, nll_loss=7.312, \u001b[A\n",
      "epoch 005 | valid on 'valid' subset:   0%|                | 0/1 [00:00<?, ?it/s]\u001b[A\n",
      "epoch 005 | valid on 'valid' subset: 100%|████████| 1/1 [00:01<00:00,  1.92s/it]\u001b[A\n",
      "epoch 006: 100%|▉| 234/235 [02:15<00:00,  1.75it/s, loss=7.823, nll_loss=6.703, \u001b[A\n",
      "epoch 006 | valid on 'valid' subset:   0%|                | 0/1 [00:00<?, ?it/s]\u001b[A\n",
      "epoch 006 | valid on 'valid' subset: 100%|████████| 1/1 [00:01<00:00,  1.98s/it]\u001b[A\n",
      "epoch 007: 100%|▉| 234/235 [02:14<00:00,  1.75it/s, loss=7.519, nll_loss=6.351, \u001b[A\n",
      "epoch 007 | valid on 'valid' subset:   0%|                | 0/1 [00:00<?, ?it/s]\u001b[A\n",
      "epoch 007 | valid on 'valid' subset: 100%|████████| 1/1 [00:01<00:00,  1.94s/it]\u001b[A\n",
      "epoch 008: 100%|▉| 234/235 [02:14<00:00,  1.74it/s, loss=7.303, nll_loss=6.103, \u001b[A\n",
      "epoch 008 | valid on 'valid' subset:   0%|                | 0/1 [00:00<?, ?it/s]\u001b[A\n",
      "epoch 008 | valid on 'valid' subset: 100%|████████| 1/1 [00:01<00:00,  1.97s/it]\u001b[A\n",
      "epoch 009: 100%|▉| 234/235 [02:14<00:00,  1.78it/s, loss=7.042, nll_loss=5.806, \u001b[A\n",
      "epoch 009 | valid on 'valid' subset:   0%|                | 0/1 [00:00<?, ?it/s]\u001b[A\n",
      "epoch 009 | valid on 'valid' subset: 100%|████████| 1/1 [00:01<00:00,  1.94s/it]\u001b[A\n",
      "epoch 010: 100%|▉| 234/235 [02:14<00:00,  1.77it/s, loss=6.893, nll_loss=5.635, \u001b[A\n",
      "epoch 010 | valid on 'valid' subset:   0%|                | 0/1 [00:00<?, ?it/s]\u001b[A\n",
      "epoch 010 | valid on 'valid' subset: 100%|████████| 1/1 [00:01<00:00,  1.88s/it]\u001b[A\n",
      "/opt/conda/lib/python3.8/multiprocessing/resource_tracker.py:216: UserWarning: resource_tracker: There appear to be 160 leaked semaphore objects to clean up at shutdown\n",
      "  warnings.warn('resource_tracker: There appear to be %d '\n"
     ]
    }
   ],
   "source": [
    "!fairseq-train data95 \\\n",
    "    --fp16 \\\n",
    "    --save-dir save97_5 \\\n",
    "    --max-epoch 10 \\\n",
    "    --arch transformer --share-decoder-input-output-embed \\\n",
    "    --optimizer adam --clip-norm 1.0 \\\n",
    "    --lr 1e-3 --lr-scheduler inverse_sqrt --warmup-updates 2000 \\\n",
    "    --dropout 0.5 --weight-decay 0.0001 \\\n",
    "    --update-freq 1 \\\n",
    "    --criterion label_smoothed_cross_entropy --label-smoothing 0.1 \\\n",
    "    --max-tokens 8000 > 97_5.log"
   ]
  },
  {
   "cell_type": "code",
   "execution_count": 30,
   "metadata": {},
   "outputs": [],
   "source": [
    "!fairseq-interactive --path save97_1/checkpoint10.pt data95 < test.sub.ja | grep '^H' | cut -f3 | sed -r 's/(@@ )|(@@ ?$)//g' > 97_1.out\n",
    "!fairseq-interactive --path save97_3/checkpoint10.pt data95 < test.sub.ja | grep '^H' | cut -f3 | sed -r 's/(@@ )|(@@ ?$)//g' > 97_3.out\n",
    "!fairseq-interactive --path save97_5/checkpoint10.pt data95 < test.sub.ja | grep '^H' | cut -f3 | sed -r 's/(@@ )|(@@ ?$)//g' > 97_5.out"
   ]
  },
  {
   "cell_type": "code",
   "execution_count": 40,
   "metadata": {},
   "outputs": [],
   "source": [
    "spacy_tokenize('97_1.out', '97_1.out.spacy')\n",
    "spacy_tokenize('97_3.out', '97_3.out.spacy')\n",
    "spacy_tokenize('97_5.out', '97_5.out.spacy')"
   ]
  },
  {
   "cell_type": "code",
   "execution_count": 41,
   "metadata": {},
   "outputs": [
    {
     "name": "stdout",
     "output_type": "stream",
     "text": [
      "Namespace(ignore_case=False, order=4, ref='test.en', sacrebleu=False, sentence_bleu=False, sys='97_1.out.spacy')\n",
      "BLEU4 = 19.97, 50.7/24.6/14.3/8.9 (BP=1.000, ratio=1.041, syslen=28782, reflen=27636)\n",
      "Namespace(ignore_case=False, order=4, ref='test.en', sacrebleu=False, sentence_bleu=False, sys='97_3.out.spacy')\n",
      "BLEU4 = 14.57, 41.0/18.3/10.1/6.0 (BP=1.000, ratio=1.159, syslen=32021, reflen=27636)\n",
      "Namespace(ignore_case=False, order=4, ref='test.en', sacrebleu=False, sentence_bleu=False, sys='97_5.out.spacy')\n",
      "BLEU4 = 4.13, 21.8/5.7/2.2/1.0 (BP=1.000, ratio=1.419, syslen=39210, reflen=27636)\n"
     ]
    }
   ],
   "source": [
    "!fairseq-score --sys 97_1.out.spacy --ref test.en\n",
    "!fairseq-score --sys 97_3.out.spacy --ref test.en\n",
    "!fairseq-score --sys 97_5.out.spacy --ref test.en"
   ]
  },
  {
   "cell_type": "markdown",
   "metadata": {},
   "source": [
    "### 学習率をいじる"
   ]
  },
  {
   "cell_type": "code",
   "execution_count": 89,
   "metadata": {},
   "outputs": [
    {
     "name": "stdout",
     "output_type": "stream",
     "text": [
      "/opt/conda/lib/python3.8/site-packages/torch/nn/parallel/distributed.py:425: UserWarning: The `check_reduction` argument in `DistributedDataParallel` module is deprecated. Please avoid using it.\n",
      "  warnings.warn(\n",
      "/opt/conda/lib/python3.8/site-packages/torch/nn/parallel/distributed.py:425: UserWarning: The `check_reduction` argument in `DistributedDataParallel` module is deprecated. Please avoid using it.\n",
      "  warnings.warn(\n",
      "/opt/conda/lib/python3.8/site-packages/torch/nn/parallel/distributed.py:425: UserWarning: The `check_reduction` argument in `DistributedDataParallel` module is deprecated. Please avoid using it.\n",
      "  warnings.warn(\n",
      "/opt/conda/lib/python3.8/site-packages/torch/nn/parallel/distributed.py:425: UserWarning: The `check_reduction` argument in `DistributedDataParallel` module is deprecated. Please avoid using it.\n",
      "  warnings.warn(\n",
      "/opt/conda/lib/python3.8/site-packages/torch/nn/parallel/distributed.py:425: UserWarning: The `check_reduction` argument in `DistributedDataParallel` module is deprecated. Please avoid using it.\n",
      "  warnings.warn(\n",
      "/opt/conda/lib/python3.8/site-packages/torch/nn/parallel/distributed.py:425: UserWarning: The `check_reduction` argument in `DistributedDataParallel` module is deprecated. Please avoid using it.\n",
      "  warnings.warn(\n",
      "/opt/conda/lib/python3.8/site-packages/torch/nn/parallel/distributed.py:425: UserWarning: The `check_reduction` argument in `DistributedDataParallel` module is deprecated. Please avoid using it.\n",
      "  warnings.warn(\n",
      "/opt/conda/lib/python3.8/site-packages/torch/nn/parallel/distributed.py:425: UserWarning: The `check_reduction` argument in `DistributedDataParallel` module is deprecated. Please avoid using it.\n",
      "  warnings.warn(\n",
      "epoch 001: 100%|▉| 234/235 [02:20<00:00,  1.71it/s, loss=11.862, nll_loss=11.488\n",
      "epoch 001 | valid on 'valid' subset:   0%|                | 0/1 [00:00<?, ?it/s]\u001b[A\n",
      "epoch 001 | valid on 'valid' subset: 100%|████████| 1/1 [00:02<00:00,  2.17s/it]\u001b[A\n",
      "epoch 002: 100%|▉| 234/235 [02:18<00:00,  1.70it/s, loss=10.674, nll_loss=10.088\u001b[A\n",
      "epoch 002 | valid on 'valid' subset:   0%|                | 0/1 [00:00<?, ?it/s]\u001b[A\n",
      "epoch 002 | valid on 'valid' subset: 100%|████████| 1/1 [00:02<00:00,  2.22s/it]\u001b[A\n",
      "epoch 003: 100%|▉| 234/235 [02:18<00:00,  1.70it/s, loss=9.152, nll_loss=8.303, \u001b[A\n",
      "epoch 003 | valid on 'valid' subset:   0%|                | 0/1 [00:00<?, ?it/s]\u001b[A\n",
      "epoch 003 | valid on 'valid' subset: 100%|████████| 1/1 [00:02<00:00,  2.19s/it]\u001b[A\n",
      "epoch 004: 100%|▉| 234/235 [02:18<00:00,  1.72it/s, loss=8.458, nll_loss=7.485, \u001b[A\n",
      "epoch 004 | valid on 'valid' subset:   0%|                | 0/1 [00:00<?, ?it/s]\u001b[A\n",
      "epoch 004 | valid on 'valid' subset: 100%|████████| 1/1 [00:02<00:00,  2.18s/it]\u001b[A\n",
      "epoch 005: 100%|▉| 234/235 [02:18<00:00,  1.73it/s, loss=7.834, nll_loss=6.752, \u001b[A\n",
      "epoch 005 | valid on 'valid' subset:   0%|                | 0/1 [00:00<?, ?it/s]\u001b[A\n",
      "epoch 005 | valid on 'valid' subset: 100%|████████| 1/1 [00:02<00:00,  2.26s/it]\u001b[A\n",
      "epoch 006: 100%|▉| 234/235 [02:18<00:00,  1.70it/s, loss=7.027, nll_loss=5.805, \u001b[A\n",
      "epoch 006 | valid on 'valid' subset:   0%|                | 0/1 [00:00<?, ?it/s]\u001b[A\n",
      "epoch 006 | valid on 'valid' subset: 100%|████████| 1/1 [00:02<00:00,  2.25s/it]\u001b[A\n",
      "epoch 007: 100%|▉| 234/235 [02:18<00:00,  1.71it/s, loss=6.581, nll_loss=5.286, \u001b[A\n",
      "epoch 007 | valid on 'valid' subset:   0%|                | 0/1 [00:00<?, ?it/s]\u001b[A\n",
      "epoch 007 | valid on 'valid' subset: 100%|████████| 1/1 [00:02<00:00,  2.17s/it]\u001b[A\n",
      "epoch 008: 100%|▉| 234/235 [02:18<00:00,  1.70it/s, loss=6.201, nll_loss=4.846, \u001b[A\n",
      "epoch 008 | valid on 'valid' subset:   0%|                | 0/1 [00:00<?, ?it/s]\u001b[A\n",
      "epoch 008 | valid on 'valid' subset: 100%|████████| 1/1 [00:02<00:00,  2.21s/it]\u001b[A\n",
      "epoch 009: 100%|▉| 234/235 [02:17<00:00,  1.73it/s, loss=5.756, nll_loss=4.334, \u001b[A\n",
      "epoch 009 | valid on 'valid' subset:   0%|                | 0/1 [00:00<?, ?it/s]\u001b[A\n",
      "epoch 009 | valid on 'valid' subset: 100%|████████| 1/1 [00:02<00:00,  2.22s/it]\u001b[A\n",
      "epoch 010: 100%|▉| 234/235 [02:17<00:00,  1.74it/s, loss=5.502, nll_loss=4.042, \u001b[A\n",
      "epoch 010 | valid on 'valid' subset:   0%|                | 0/1 [00:00<?, ?it/s]\u001b[A\n",
      "epoch 010 | valid on 'valid' subset: 100%|████████| 1/1 [00:02<00:00,  2.23s/it]\u001b[A\n",
      "/opt/conda/lib/python3.8/multiprocessing/resource_tracker.py:216: UserWarning: resource_tracker: There appear to be 160 leaked semaphore objects to clean up at shutdown\n",
      "  warnings.warn('resource_tracker: There appear to be %d '\n"
     ]
    }
   ],
   "source": [
    "!fairseq-train data95 \\\n",
    "    --fp16 \\\n",
    "    --save-dir save97a \\\n",
    "    --max-epoch 10 \\\n",
    "    --arch transformer --share-decoder-input-output-embed \\\n",
    "    --optimizer adam --clip-norm 1.0 \\\n",
    "    --lr 5e-4 --lr-scheduler inverse_sqrt --warmup-updates 2000 \\\n",
    "    --dropout 0.1 --weight-decay 0.0001 \\\n",
    "    --update-freq 1 \\\n",
    "    --criterion label_smoothed_cross_entropy --label-smoothing 0.1 \\\n",
    "    --max-tokens 8000 > 97a.log"
   ]
  },
  {
   "cell_type": "code",
   "execution_count": null,
   "metadata": {},
   "outputs": [],
   "source": [
    "!fairseq-interactive --path save97a/checkpoint10.pt data95 < test.sub.ja | grep '^H' | cut -f3 | sed -r 's/(@@ )|(@@ ?$)//g' > 97a.out"
   ]
  },
  {
   "cell_type": "code",
   "execution_count": null,
   "metadata": {},
   "outputs": [],
   "source": [
    "spacy_tokenize('97a.out', '97a.out.spacy')"
   ]
  },
  {
   "cell_type": "code",
   "execution_count": null,
   "metadata": {},
   "outputs": [],
   "source": [
    "!fairseq-score --sys 97a.out.spacy --ref test.en"
   ]
  },
  {
   "cell_type": "code",
   "execution_count": 90,
   "metadata": {},
   "outputs": [
    {
     "name": "stdout",
     "output_type": "stream",
     "text": [
      "/opt/conda/lib/python3.8/site-packages/torch/nn/parallel/distributed.py:425: UserWarning: The `check_reduction` argument in `DistributedDataParallel` module is deprecated. Please avoid using it.\n",
      "  warnings.warn(\n",
      "/opt/conda/lib/python3.8/site-packages/torch/nn/parallel/distributed.py:425: UserWarning: The `check_reduction` argument in `DistributedDataParallel` module is deprecated. Please avoid using it.\n",
      "  warnings.warn(\n",
      "/opt/conda/lib/python3.8/site-packages/torch/nn/parallel/distributed.py:425: UserWarning: The `check_reduction` argument in `DistributedDataParallel` module is deprecated. Please avoid using it.\n",
      "  warnings.warn(\n",
      "/opt/conda/lib/python3.8/site-packages/torch/nn/parallel/distributed.py:425: UserWarning: The `check_reduction` argument in `DistributedDataParallel` module is deprecated. Please avoid using it.\n",
      "  warnings.warn(\n",
      "/opt/conda/lib/python3.8/site-packages/torch/nn/parallel/distributed.py:425: UserWarning: The `check_reduction` argument in `DistributedDataParallel` module is deprecated. Please avoid using it.\n",
      "  warnings.warn(\n",
      "/opt/conda/lib/python3.8/site-packages/torch/nn/parallel/distributed.py:425: UserWarning: The `check_reduction` argument in `DistributedDataParallel` module is deprecated. Please avoid using it.\n",
      "  warnings.warn(\n",
      "/opt/conda/lib/python3.8/site-packages/torch/nn/parallel/distributed.py:425: UserWarning: The `check_reduction` argument in `DistributedDataParallel` module is deprecated. Please avoid using it.\n",
      "  warnings.warn(\n",
      "/opt/conda/lib/python3.8/site-packages/torch/nn/parallel/distributed.py:425: UserWarning: The `check_reduction` argument in `DistributedDataParallel` module is deprecated. Please avoid using it.\n",
      "  warnings.warn(\n",
      "epoch 001: 100%|▉| 234/235 [02:18<00:00,  1.73it/s, loss=12.437, nll_loss=12.142\n",
      "epoch 001 | valid on 'valid' subset:   0%|                | 0/1 [00:00<?, ?it/s]\u001b[A\n",
      "epoch 001 | valid on 'valid' subset: 100%|████████| 1/1 [00:02<00:00,  2.24s/it]\u001b[A\n",
      "epoch 002: 100%|▉| 234/235 [02:16<00:00,  1.74it/s, loss=11.327, nll_loss=10.857\u001b[A\n",
      "epoch 002 | valid on 'valid' subset:   0%|                | 0/1 [00:00<?, ?it/s]\u001b[A\n",
      "epoch 002 | valid on 'valid' subset: 100%|████████| 1/1 [00:02<00:00,  2.21s/it]\u001b[A\n",
      "epoch 003: 100%|▉| 234/235 [02:16<00:00,  1.73it/s, loss=10.176, nll_loss=9.512,\u001b[A\n",
      "epoch 003 | valid on 'valid' subset:   0%|                | 0/1 [00:00<?, ?it/s]\u001b[A\n",
      "epoch 003 | valid on 'valid' subset: 100%|████████| 1/1 [00:02<00:00,  2.17s/it]\u001b[A\n",
      "epoch 004: 100%|▉| 234/235 [02:15<00:00,  1.74it/s, loss=9.483, nll_loss=8.701, \u001b[A\n",
      "epoch 004 | valid on 'valid' subset:   0%|                | 0/1 [00:00<?, ?it/s]\u001b[A\n",
      "epoch 004 | valid on 'valid' subset: 100%|████████| 1/1 [00:02<00:00,  2.18s/it]\u001b[A\n",
      "epoch 005: 100%|▉| 234/235 [02:16<00:00,  1.76it/s, loss=8.967, nll_loss=8.091, \u001b[A\n",
      "epoch 005 | valid on 'valid' subset:   0%|                | 0/1 [00:00<?, ?it/s]\u001b[A\n",
      "epoch 005 | valid on 'valid' subset: 100%|████████| 1/1 [00:02<00:00,  2.20s/it]\u001b[A\n",
      "epoch 006: 100%|▉| 234/235 [02:15<00:00,  1.73it/s, loss=8.337, nll_loss=7.347, \u001b[A\n",
      "epoch 006 | valid on 'valid' subset:   0%|                | 0/1 [00:00<?, ?it/s]\u001b[A\n",
      "epoch 006 | valid on 'valid' subset: 100%|████████| 1/1 [00:02<00:00,  2.18s/it]\u001b[A\n",
      "                                                                                \u001b[Aterminate called after throwing an instance of 'c10::Error'\n",
      "  what():  [enforce fail at inline_container.cc:274] . unexpected pos 397839616 vs 397839504\n",
      "frame #0: c10::ThrowEnforceNotMet(char const*, int, char const*, std::string const&, void const*) + 0x47 (0x7fd465b4c0e7 in /opt/conda/lib/python3.8/site-packages/torch/lib/libc10.so)\n",
      "frame #1: <unknown function> + 0x206a420 (0x7fd435073420 in /opt/conda/lib/python3.8/site-packages/torch/lib/libtorch_cpu.so)\n",
      "frame #2: <unknown function> + 0x20665f3 (0x7fd43506f5f3 in /opt/conda/lib/python3.8/site-packages/torch/lib/libtorch_cpu.so)\n",
      "frame #3: caffe2::serialize::PyTorchStreamWriter::writeRecord(std::string const&, void const*, unsigned long, bool) + 0xa9 (0x7fd435073d99 in /opt/conda/lib/python3.8/site-packages/torch/lib/libtorch_cpu.so)\n",
      "frame #4: caffe2::serialize::PyTorchStreamWriter::writeEndOfFile() + 0xe1 (0x7fd4350748d1 in /opt/conda/lib/python3.8/site-packages/torch/lib/libtorch_cpu.so)\n",
      "frame #5: caffe2::serialize::PyTorchStreamWriter::~PyTorchStreamWriter() + 0x115 (0x7fd4350750c5 in /opt/conda/lib/python3.8/site-packages/torch/lib/libtorch_cpu.so)\n",
      "frame #6: <unknown function> + 0x737903 (0x7fd4666f6903 in /opt/conda/lib/python3.8/site-packages/torch/lib/libtorch_python.so)\n",
      "frame #7: <unknown function> + 0x369b90 (0x7fd466328b90 in /opt/conda/lib/python3.8/site-packages/torch/lib/libtorch_python.so)\n",
      "frame #8: <unknown function> + 0x36adfe (0x7fd466329dfe in /opt/conda/lib/python3.8/site-packages/torch/lib/libtorch_python.so)\n",
      "frame #9: <unknown function> + 0xfb138 (0x560d01c6b138 in /opt/conda/bin/python3.8)\n",
      "frame #10: <unknown function> + 0xfd788 (0x560d01c6d788 in /opt/conda/bin/python3.8)\n",
      "frame #11: <unknown function> + 0xfd829 (0x560d01c6d829 in /opt/conda/bin/python3.8)\n",
      "frame #12: _PyEval_EvalFrameDefault + 0x2724 (0x560d01d42344 in /opt/conda/bin/python3.8)\n",
      "frame #13: _PyFunction_Vectorcall + 0x1a6 (0x560d01d21706 in /opt/conda/bin/python3.8)\n",
      "frame #14: _PyEval_EvalFrameDefault + 0x92f (0x560d01d4054f in /opt/conda/bin/python3.8)\n",
      "frame #15: _PyEval_EvalCodeWithName + 0x2c3 (0x560d01d20503 in /opt/conda/bin/python3.8)\n",
      "frame #16: _PyFunction_Vectorcall + 0x378 (0x560d01d218d8 in /opt/conda/bin/python3.8)\n",
      "frame #17: _PyEval_EvalFrameDefault + 0x4ca3 (0x560d01d448c3 in /opt/conda/bin/python3.8)\n",
      "frame #18: _PyFunction_Vectorcall + 0x1a6 (0x560d01d21706 in /opt/conda/bin/python3.8)\n",
      "frame #19: _PyEval_EvalFrameDefault + 0xa4b (0x560d01d4066b in /opt/conda/bin/python3.8)\n",
      "frame #20: _PyEval_EvalCodeWithName + 0x2c3 (0x560d01d20503 in /opt/conda/bin/python3.8)\n",
      "frame #21: _PyFunction_Vectorcall + 0x378 (0x560d01d218d8 in /opt/conda/bin/python3.8)\n",
      "frame #22: _PyEval_EvalFrameDefault + 0x4ca3 (0x560d01d448c3 in /opt/conda/bin/python3.8)\n",
      "frame #23: _PyFunction_Vectorcall + 0x1a6 (0x560d01d21706 in /opt/conda/bin/python3.8)\n",
      "frame #24: _PyEval_EvalFrameDefault + 0x92f (0x560d01d4054f in /opt/conda/bin/python3.8)\n",
      "frame #25: _PyFunction_Vectorcall + 0x1a6 (0x560d01d21706 in /opt/conda/bin/python3.8)\n",
      "frame #26: PyObject_Call + 0x5e (0x560d01c950be in /opt/conda/bin/python3.8)\n",
      "frame #27: _PyEval_EvalFrameDefault + 0x21c1 (0x560d01d41de1 in /opt/conda/bin/python3.8)\n",
      "frame #28: _PyEval_EvalCodeWithName + 0x2c3 (0x560d01d20503 in /opt/conda/bin/python3.8)\n",
      "frame #29: _PyFunction_Vectorcall + 0x378 (0x560d01d218d8 in /opt/conda/bin/python3.8)\n",
      "frame #30: _PyEval_EvalFrameDefault + 0x92f (0x560d01d4054f in /opt/conda/bin/python3.8)\n",
      "frame #31: _PyFunction_Vectorcall + 0x1a6 (0x560d01d21706 in /opt/conda/bin/python3.8)\n",
      "frame #32: PyObject_Call + 0x5e (0x560d01c950be in /opt/conda/bin/python3.8)\n",
      "frame #33: _PyEval_EvalFrameDefault + 0x21c1 (0x560d01d41de1 in /opt/conda/bin/python3.8)\n",
      "frame #34: _PyFunction_Vectorcall + 0x1a6 (0x560d01d21706 in /opt/conda/bin/python3.8)\n",
      "frame #35: PyObject_Call + 0x5e (0x560d01c950be in /opt/conda/bin/python3.8)\n",
      "frame #36: _PyEval_EvalFrameDefault + 0x21c1 (0x560d01d41de1 in /opt/conda/bin/python3.8)\n",
      "frame #37: _PyFunction_Vectorcall + 0x1a6 (0x560d01d21706 in /opt/conda/bin/python3.8)\n",
      "frame #38: PyObject_Call + 0x5e (0x560d01c950be in /opt/conda/bin/python3.8)\n",
      "frame #39: _PyEval_EvalFrameDefault + 0x21c1 (0x560d01d41de1 in /opt/conda/bin/python3.8)\n",
      "frame #40: _PyFunction_Vectorcall + 0x1a6 (0x560d01d21706 in /opt/conda/bin/python3.8)\n",
      "frame #41: _PyEval_EvalFrameDefault + 0xa4b (0x560d01d4066b in /opt/conda/bin/python3.8)\n",
      "frame #42: _PyEval_EvalCodeWithName + 0x2c3 (0x560d01d20503 in /opt/conda/bin/python3.8)\n",
      "frame #43: _PyFunction_Vectorcall + 0x378 (0x560d01d218d8 in /opt/conda/bin/python3.8)\n",
      "frame #44: _PyEval_EvalFrameDefault + 0xa4b (0x560d01d4066b in /opt/conda/bin/python3.8)\n",
      "frame #45: _PyFunction_Vectorcall + 0x1a6 (0x560d01d21706 in /opt/conda/bin/python3.8)\n",
      "frame #46: _PyEval_EvalFrameDefault + 0x92f (0x560d01d4054f in /opt/conda/bin/python3.8)\n",
      "frame #47: _PyEval_EvalCodeWithName + 0x2c3 (0x560d01d20503 in /opt/conda/bin/python3.8)\n",
      "frame #48: _PyFunction_Vectorcall + 0x378 (0x560d01d218d8 in /opt/conda/bin/python3.8)\n",
      "frame #49: _PyEval_EvalFrameDefault + 0x1782 (0x560d01d413a2 in /opt/conda/bin/python3.8)\n",
      "frame #50: _PyEval_EvalCodeWithName + 0x2c3 (0x560d01d20503 in /opt/conda/bin/python3.8)\n",
      "frame #51: PyEval_EvalCodeEx + 0x39 (0x560d01d21559 in /opt/conda/bin/python3.8)\n",
      "frame #52: PyEval_EvalCode + 0x1b (0x560d01dc49ab in /opt/conda/bin/python3.8)\n",
      "frame #53: <unknown function> + 0x254a43 (0x560d01dc4a43 in /opt/conda/bin/python3.8)\n",
      "frame #54: <unknown function> + 0x26e6b3 (0x560d01dde6b3 in /opt/conda/bin/python3.8)\n",
      "frame #55: PyRun_StringFlags + 0x7d (0x560d01de2dfd in /opt/conda/bin/python3.8)\n",
      "frame #56: PyRun_SimpleStringFlags + 0x3d (0x560d01de2e5d in /opt/conda/bin/python3.8)\n",
      "frame #57: Py_RunMain + 0x158 (0x560d01de3af8 in /opt/conda/bin/python3.8)\n",
      "frame #58: Py_BytesMain + 0x39 (0x560d01de3ec9 in /opt/conda/bin/python3.8)\n",
      "frame #59: __libc_start_main + 0xf3 (0x7fd46deab0b3 in /usr/lib/x86_64-linux-gnu/libc.so.6)\n",
      "frame #60: <unknown function> + 0x1e9369 (0x560d01d59369 in /opt/conda/bin/python3.8)\n",
      "\n",
      "Traceback (most recent call last):\n",
      "  File \"/opt/conda/bin/fairseq-train\", line 8, in <module>\n",
      "    sys.exit(cli_main())\n",
      "  File \"/opt/conda/lib/python3.8/site-packages/fairseq_cli/train.py\", line 352, in cli_main\n",
      "    distributed_utils.call_main(args, main)\n",
      "  File \"/opt/conda/lib/python3.8/site-packages/fairseq/distributed_utils.py\", line 283, in call_main\n",
      "    torch.multiprocessing.spawn(\n",
      "  File \"/opt/conda/lib/python3.8/site-packages/torch/multiprocessing/spawn.py\", line 230, in spawn\n",
      "    return start_processes(fn, args, nprocs, join, daemon, start_method='spawn')\n",
      "  File \"/opt/conda/lib/python3.8/site-packages/torch/multiprocessing/spawn.py\", line 188, in start_processes\n",
      "    while not context.join():\n",
      "  File \"/opt/conda/lib/python3.8/site-packages/torch/multiprocessing/spawn.py\", line 130, in join\n",
      "    raise ProcessExitedException(\n",
      "torch.multiprocessing.spawn.ProcessExitedException: process 0 terminated with signal SIGABRT\n"
     ]
    }
   ],
   "source": [
    "!fairseq-train data95 \\\n",
    "    --fp16 \\\n",
    "    --save-dir save97b \\\n",
    "    --max-epoch 10 \\\n",
    "    --arch transformer --share-decoder-input-output-embed \\\n",
    "    --optimizer adam --clip-norm 1.0 \\\n",
    "    --lr 2e-4 --lr-scheduler inverse_sqrt --warmup-updates 2000 \\\n",
    "    --dropout 0.1 --weight-decay 0.0001 \\\n",
    "    --update-freq 1 \\\n",
    "    --criterion label_smoothed_cross_entropy --label-smoothing 0.1 \\\n",
    "    --max-tokens 8000 > 97b.log"
   ]
  },
  {
   "cell_type": "code",
   "execution_count": null,
   "metadata": {},
   "outputs": [],
   "source": [
    "!fairseq-interactive --path save97b/checkpoint10.pt data95 < test.sub.ja | grep '^H' | cut -f3 | sed -r 's/(@@ )|(@@ ?$)//g' > 97b.out"
   ]
  },
  {
   "cell_type": "code",
   "execution_count": null,
   "metadata": {},
   "outputs": [],
   "source": [
    "spacy_tokenize('97b.out', '97b.out.spacy')"
   ]
  },
  {
   "cell_type": "code",
   "execution_count": null,
   "metadata": {},
   "outputs": [],
   "source": [
    "!fairseq-score --sys 97b.out.spacy --ref test.en"
   ]
  },
  {
   "cell_type": "code",
   "execution_count": 91,
   "metadata": {},
   "outputs": [
    {
     "name": "stdout",
     "output_type": "stream",
     "text": [
      "/opt/conda/lib/python3.8/site-packages/torch/nn/parallel/distributed.py:425: UserWarning: The `check_reduction` argument in `DistributedDataParallel` module is deprecated. Please avoid using it.\n",
      "  warnings.warn(\n",
      "/opt/conda/lib/python3.8/site-packages/torch/nn/parallel/distributed.py:425: UserWarning: The `check_reduction` argument in `DistributedDataParallel` module is deprecated. Please avoid using it.\n",
      "  warnings.warn(\n",
      "/opt/conda/lib/python3.8/site-packages/torch/nn/parallel/distributed.py:425: UserWarning: The `check_reduction` argument in `DistributedDataParallel` module is deprecated. Please avoid using it.\n",
      "  warnings.warn(\n",
      "/opt/conda/lib/python3.8/site-packages/torch/nn/parallel/distributed.py:425: UserWarning: The `check_reduction` argument in `DistributedDataParallel` module is deprecated. Please avoid using it.\n",
      "  warnings.warn(\n",
      "/opt/conda/lib/python3.8/site-packages/torch/nn/parallel/distributed.py:425: UserWarning: The `check_reduction` argument in `DistributedDataParallel` module is deprecated. Please avoid using it.\n",
      "  warnings.warn(\n",
      "/opt/conda/lib/python3.8/site-packages/torch/nn/parallel/distributed.py:425: UserWarning: The `check_reduction` argument in `DistributedDataParallel` module is deprecated. Please avoid using it.\n",
      "  warnings.warn(\n",
      "/opt/conda/lib/python3.8/site-packages/torch/nn/parallel/distributed.py:425: UserWarning: The `check_reduction` argument in `DistributedDataParallel` module is deprecated. Please avoid using it.\n",
      "  warnings.warn(\n",
      "/opt/conda/lib/python3.8/site-packages/torch/nn/parallel/distributed.py:425: UserWarning: The `check_reduction` argument in `DistributedDataParallel` module is deprecated. Please avoid using it.\n",
      "  warnings.warn(\n",
      "epoch 001: 100%|▉| 234/235 [02:20<00:00,  1.72it/s, loss=12.796, nll_loss=12.539\n",
      "epoch 001 | valid on 'valid' subset:   0%|                | 0/1 [00:00<?, ?it/s]\u001b[A\n",
      "epoch 001 | valid on 'valid' subset: 100%|████████| 1/1 [00:02<00:00,  2.21s/it]\u001b[A\n",
      "                                                                                \u001b[Aterminate called after throwing an instance of 'c10::Error'\n",
      "  what():  [enforce fail at inline_container.cc:274] . unexpected pos 1109568 vs 1109456\n",
      "frame #0: c10::ThrowEnforceNotMet(char const*, int, char const*, std::string const&, void const*) + 0x47 (0x7fac299a60e7 in /opt/conda/lib/python3.8/site-packages/torch/lib/libc10.so)\n",
      "frame #1: <unknown function> + 0x206a420 (0x7fabf6e78420 in /opt/conda/lib/python3.8/site-packages/torch/lib/libtorch_cpu.so)\n",
      "frame #2: <unknown function> + 0x20665f3 (0x7fabf6e745f3 in /opt/conda/lib/python3.8/site-packages/torch/lib/libtorch_cpu.so)\n",
      "frame #3: caffe2::serialize::PyTorchStreamWriter::writeRecord(std::string const&, void const*, unsigned long, bool) + 0xa9 (0x7fabf6e78d99 in /opt/conda/lib/python3.8/site-packages/torch/lib/libtorch_cpu.so)\n",
      "frame #4: caffe2::serialize::PyTorchStreamWriter::writeEndOfFile() + 0xe1 (0x7fabf6e798d1 in /opt/conda/lib/python3.8/site-packages/torch/lib/libtorch_cpu.so)\n",
      "frame #5: caffe2::serialize::PyTorchStreamWriter::~PyTorchStreamWriter() + 0x115 (0x7fabf6e7a0c5 in /opt/conda/lib/python3.8/site-packages/torch/lib/libtorch_cpu.so)\n",
      "frame #6: <unknown function> + 0x737903 (0x7fac2a96b903 in /opt/conda/lib/python3.8/site-packages/torch/lib/libtorch_python.so)\n",
      "frame #7: <unknown function> + 0x369b90 (0x7fac2a59db90 in /opt/conda/lib/python3.8/site-packages/torch/lib/libtorch_python.so)\n",
      "frame #8: <unknown function> + 0x36adfe (0x7fac2a59edfe in /opt/conda/lib/python3.8/site-packages/torch/lib/libtorch_python.so)\n",
      "frame #9: <unknown function> + 0xfb138 (0x5623f80cf138 in /opt/conda/bin/python3.8)\n",
      "frame #10: <unknown function> + 0xfd788 (0x5623f80d1788 in /opt/conda/bin/python3.8)\n",
      "frame #11: <unknown function> + 0xfd829 (0x5623f80d1829 in /opt/conda/bin/python3.8)\n",
      "frame #12: _PyEval_EvalFrameDefault + 0x2724 (0x5623f81a6344 in /opt/conda/bin/python3.8)\n",
      "frame #13: _PyFunction_Vectorcall + 0x1a6 (0x5623f8185706 in /opt/conda/bin/python3.8)\n",
      "frame #14: _PyEval_EvalFrameDefault + 0x92f (0x5623f81a454f in /opt/conda/bin/python3.8)\n",
      "frame #15: _PyEval_EvalCodeWithName + 0x2c3 (0x5623f8184503 in /opt/conda/bin/python3.8)\n",
      "frame #16: _PyFunction_Vectorcall + 0x378 (0x5623f81858d8 in /opt/conda/bin/python3.8)\n",
      "frame #17: _PyEval_EvalFrameDefault + 0x4ca3 (0x5623f81a88c3 in /opt/conda/bin/python3.8)\n",
      "frame #18: _PyFunction_Vectorcall + 0x1a6 (0x5623f8185706 in /opt/conda/bin/python3.8)\n",
      "frame #19: _PyEval_EvalFrameDefault + 0xa4b (0x5623f81a466b in /opt/conda/bin/python3.8)\n",
      "frame #20: _PyEval_EvalCodeWithName + 0x2c3 (0x5623f8184503 in /opt/conda/bin/python3.8)\n",
      "frame #21: _PyFunction_Vectorcall + 0x378 (0x5623f81858d8 in /opt/conda/bin/python3.8)\n",
      "frame #22: _PyEval_EvalFrameDefault + 0x4ca3 (0x5623f81a88c3 in /opt/conda/bin/python3.8)\n",
      "frame #23: _PyFunction_Vectorcall + 0x1a6 (0x5623f8185706 in /opt/conda/bin/python3.8)\n",
      "frame #24: _PyEval_EvalFrameDefault + 0x92f (0x5623f81a454f in /opt/conda/bin/python3.8)\n",
      "frame #25: _PyFunction_Vectorcall + 0x1a6 (0x5623f8185706 in /opt/conda/bin/python3.8)\n",
      "frame #26: PyObject_Call + 0x5e (0x5623f80f90be in /opt/conda/bin/python3.8)\n",
      "frame #27: _PyEval_EvalFrameDefault + 0x21c1 (0x5623f81a5de1 in /opt/conda/bin/python3.8)\n",
      "frame #28: _PyEval_EvalCodeWithName + 0x2c3 (0x5623f8184503 in /opt/conda/bin/python3.8)\n",
      "frame #29: _PyFunction_Vectorcall + 0x378 (0x5623f81858d8 in /opt/conda/bin/python3.8)\n",
      "frame #30: _PyEval_EvalFrameDefault + 0x92f (0x5623f81a454f in /opt/conda/bin/python3.8)\n",
      "frame #31: _PyFunction_Vectorcall + 0x1a6 (0x5623f8185706 in /opt/conda/bin/python3.8)\n",
      "frame #32: PyObject_Call + 0x5e (0x5623f80f90be in /opt/conda/bin/python3.8)\n",
      "frame #33: _PyEval_EvalFrameDefault + 0x21c1 (0x5623f81a5de1 in /opt/conda/bin/python3.8)\n",
      "frame #34: _PyFunction_Vectorcall + 0x1a6 (0x5623f8185706 in /opt/conda/bin/python3.8)\n",
      "frame #35: PyObject_Call + 0x5e (0x5623f80f90be in /opt/conda/bin/python3.8)\n",
      "frame #36: _PyEval_EvalFrameDefault + 0x21c1 (0x5623f81a5de1 in /opt/conda/bin/python3.8)\n",
      "frame #37: _PyFunction_Vectorcall + 0x1a6 (0x5623f8185706 in /opt/conda/bin/python3.8)\n",
      "frame #38: PyObject_Call + 0x5e (0x5623f80f90be in /opt/conda/bin/python3.8)\n",
      "frame #39: _PyEval_EvalFrameDefault + 0x21c1 (0x5623f81a5de1 in /opt/conda/bin/python3.8)\n",
      "frame #40: _PyFunction_Vectorcall + 0x1a6 (0x5623f8185706 in /opt/conda/bin/python3.8)\n",
      "frame #41: _PyEval_EvalFrameDefault + 0xa4b (0x5623f81a466b in /opt/conda/bin/python3.8)\n",
      "frame #42: _PyEval_EvalCodeWithName + 0x2c3 (0x5623f8184503 in /opt/conda/bin/python3.8)\n",
      "frame #43: _PyFunction_Vectorcall + 0x378 (0x5623f81858d8 in /opt/conda/bin/python3.8)\n",
      "frame #44: _PyEval_EvalFrameDefault + 0xa4b (0x5623f81a466b in /opt/conda/bin/python3.8)\n",
      "frame #45: _PyFunction_Vectorcall + 0x1a6 (0x5623f8185706 in /opt/conda/bin/python3.8)\n",
      "frame #46: _PyEval_EvalFrameDefault + 0x92f (0x5623f81a454f in /opt/conda/bin/python3.8)\n",
      "frame #47: _PyEval_EvalCodeWithName + 0x2c3 (0x5623f8184503 in /opt/conda/bin/python3.8)\n",
      "frame #48: _PyFunction_Vectorcall + 0x378 (0x5623f81858d8 in /opt/conda/bin/python3.8)\n",
      "frame #49: _PyEval_EvalFrameDefault + 0x1782 (0x5623f81a53a2 in /opt/conda/bin/python3.8)\n",
      "frame #50: _PyEval_EvalCodeWithName + 0x2c3 (0x5623f8184503 in /opt/conda/bin/python3.8)\n",
      "frame #51: PyEval_EvalCodeEx + 0x39 (0x5623f8185559 in /opt/conda/bin/python3.8)\n",
      "frame #52: PyEval_EvalCode + 0x1b (0x5623f82289ab in /opt/conda/bin/python3.8)\n",
      "frame #53: <unknown function> + 0x254a43 (0x5623f8228a43 in /opt/conda/bin/python3.8)\n",
      "frame #54: <unknown function> + 0x26e6b3 (0x5623f82426b3 in /opt/conda/bin/python3.8)\n",
      "frame #55: PyRun_StringFlags + 0x7d (0x5623f8246dfd in /opt/conda/bin/python3.8)\n",
      "frame #56: PyRun_SimpleStringFlags + 0x3d (0x5623f8246e5d in /opt/conda/bin/python3.8)\n",
      "frame #57: Py_RunMain + 0x158 (0x5623f8247af8 in /opt/conda/bin/python3.8)\n",
      "frame #58: Py_BytesMain + 0x39 (0x5623f8247ec9 in /opt/conda/bin/python3.8)\n",
      "frame #59: __libc_start_main + 0xf3 (0x7fac2fcb00b3 in /usr/lib/x86_64-linux-gnu/libc.so.6)\n",
      "frame #60: <unknown function> + 0x1e9369 (0x5623f81bd369 in /opt/conda/bin/python3.8)\n",
      "\n",
      "Traceback (most recent call last):\n",
      "  File \"<string>\", line 1, in <module>\n",
      "  File \"/opt/conda/lib/python3.8/multiprocessing/spawn.py\", line 116, in spawn_main\n",
      "    exitcode = _main(fd, parent_sentinel)\n",
      "  File \"/opt/conda/lib/python3.8/multiprocessing/spawn.py\", line 126, in _main\n",
      "    self = reduction.pickle.load(from_parent)\n",
      "_pickle.UnpicklingError: pickle data was truncated\n",
      "Traceback (most recent call last):\n",
      "  File \"/opt/conda/bin/fairseq-train\", line 8, in <module>\n",
      "    sys.exit(cli_main())\n",
      "  File \"/opt/conda/lib/python3.8/site-packages/fairseq_cli/train.py\", line 352, in cli_main\n",
      "    distributed_utils.call_main(args, main)\n",
      "  File \"/opt/conda/lib/python3.8/site-packages/fairseq/distributed_utils.py\", line 283, in call_main\n",
      "    torch.multiprocessing.spawn(\n",
      "  File \"/opt/conda/lib/python3.8/site-packages/torch/multiprocessing/spawn.py\", line 230, in spawn\n",
      "    return start_processes(fn, args, nprocs, join, daemon, start_method='spawn')\n",
      "  File \"/opt/conda/lib/python3.8/site-packages/torch/multiprocessing/spawn.py\", line 188, in start_processes\n",
      "    while not context.join():\n",
      "  File \"/opt/conda/lib/python3.8/site-packages/torch/multiprocessing/spawn.py\", line 130, in join\n",
      "    raise ProcessExitedException(\n",
      "torch.multiprocessing.spawn.ProcessExitedException: process 0 terminated with signal SIGABRT\n"
     ]
    }
   ],
   "source": [
    "!fairseq-train data95 \\\n",
    "    --fp16 \\\n",
    "    --save-dir save97c \\\n",
    "    --max-epoch 10 \\\n",
    "    --arch transformer --share-decoder-input-output-embed \\\n",
    "    --optimizer adam --clip-norm 1.0 \\\n",
    "    --lr 1e-4 --lr-scheduler inverse_sqrt --warmup-updates 2000 \\\n",
    "    --dropout 0.1 --weight-decay 0.0001 \\\n",
    "    --update-freq 1 \\\n",
    "    --criterion label_smoothed_cross_entropy --label-smoothing 0.1 \\\n",
    "    --max-tokens 8000 > 97c.log"
   ]
  },
  {
   "cell_type": "code",
   "execution_count": 92,
   "metadata": {},
   "outputs": [
    {
     "name": "stdout",
     "output_type": "stream",
     "text": [
      "Traceback (most recent call last):\n",
      "  File \"/opt/conda/bin/fairseq-interactive\", line 8, in <module>\n",
      "    sys.exit(cli_main())\n",
      "  File \"/opt/conda/lib/python3.8/site-packages/fairseq_cli/interactive.py\", line 307, in cli_main\n",
      "    distributed_utils.call_main(args, main)\n",
      "  File \"/opt/conda/lib/python3.8/site-packages/fairseq/distributed_utils.py\", line 301, in call_main\n",
      "    main(args, **kwargs)\n",
      "  File \"/opt/conda/lib/python3.8/site-packages/fairseq_cli/interactive.py\", line 143, in main\n",
      "    models, _model_args = checkpoint_utils.load_model_ensemble(\n",
      "  File \"/opt/conda/lib/python3.8/site-packages/fairseq/checkpoint_utils.py\", line 250, in load_model_ensemble\n",
      "    ensemble, args, _task = load_model_ensemble_and_task(\n",
      "  File \"/opt/conda/lib/python3.8/site-packages/fairseq/checkpoint_utils.py\", line 278, in load_model_ensemble_and_task\n",
      "    raise IOError(\"Model file not found: {}\".format(filename))\n",
      "OSError: Model file not found: save97b/checkpoint10.pt\n",
      "Traceback (most recent call last):\n",
      "  File \"/opt/conda/bin/fairseq-interactive\", line 8, in <module>\n",
      "    sys.exit(cli_main())\n",
      "  File \"/opt/conda/lib/python3.8/site-packages/fairseq_cli/interactive.py\", line 307, in cli_main\n",
      "    distributed_utils.call_main(args, main)\n",
      "  File \"/opt/conda/lib/python3.8/site-packages/fairseq/distributed_utils.py\", line 301, in call_main\n",
      "    main(args, **kwargs)\n",
      "  File \"/opt/conda/lib/python3.8/site-packages/fairseq_cli/interactive.py\", line 143, in main\n",
      "    models, _model_args = checkpoint_utils.load_model_ensemble(\n",
      "  File \"/opt/conda/lib/python3.8/site-packages/fairseq/checkpoint_utils.py\", line 250, in load_model_ensemble\n",
      "    ensemble, args, _task = load_model_ensemble_and_task(\n",
      "  File \"/opt/conda/lib/python3.8/site-packages/fairseq/checkpoint_utils.py\", line 278, in load_model_ensemble_and_task\n",
      "    raise IOError(\"Model file not found: {}\".format(filename))\n",
      "OSError: Model file not found: save97c/checkpoint10.pt\n"
     ]
    }
   ],
   "source": [
    "!fairseq-interactive --path save97c/checkpoint10.pt data95 < test.sub.ja | grep '^H' | cut -f3 | sed -r 's/(@@ )|(@@ ?$)//g' > 97c.out"
   ]
  },
  {
   "cell_type": "code",
   "execution_count": 93,
   "metadata": {},
   "outputs": [],
   "source": [
    "spacy_tokenize('97c.out', '97c.out.spacy')"
   ]
  },
  {
   "cell_type": "code",
   "execution_count": 94,
   "metadata": {},
   "outputs": [
    {
     "name": "stdout",
     "output_type": "stream",
     "text": [
      "Namespace(ignore_case=False, order=4, ref='test.en', sacrebleu=False, sentence_bleu=False, sys='97a.out.spacy')\n",
      "BLEU4 = 17.94, 47.4/22.3/12.6/7.8 (BP=1.000, ratio=1.054, syslen=29116, reflen=27636)\n",
      "Namespace(ignore_case=False, order=4, ref='test.en', sacrebleu=False, sentence_bleu=False, sys='97b.out.spacy')\n",
      "Traceback (most recent call last):\n",
      "  File \"/opt/conda/bin/fairseq-score\", line 8, in <module>\n",
      "    sys.exit(cli_main())\n",
      "  File \"/opt/conda/lib/python3.8/site-packages/fairseq_cli/score.py\", line 92, in cli_main\n",
      "    score(f)\n",
      "  File \"/opt/conda/lib/python3.8/site-packages/fairseq_cli/score.py\", line 86, in score\n",
      "    print(scorer.result_string(args.order))\n",
      "  File \"/opt/conda/lib/python3.8/site-packages/fairseq/scoring/bleu.py\", line 151, in result_string\n",
      "    self.score(order=order),\n",
      "  File \"/opt/conda/lib/python3.8/site-packages/fairseq/scoring/bleu.py\", line 125, in score\n",
      "    return self.brevity() * math.exp(psum / order) * 100\n",
      "  File \"/opt/conda/lib/python3.8/site-packages/fairseq/scoring/bleu.py\", line 139, in brevity\n",
      "    r = self.stat.reflen / self.stat.predlen\n",
      "ZeroDivisionError: division by zero\n",
      "Namespace(ignore_case=False, order=4, ref='test.en', sacrebleu=False, sentence_bleu=False, sys='97c.out.spacy')\n",
      "Traceback (most recent call last):\n",
      "  File \"/opt/conda/bin/fairseq-score\", line 8, in <module>\n",
      "    sys.exit(cli_main())\n",
      "  File \"/opt/conda/lib/python3.8/site-packages/fairseq_cli/score.py\", line 92, in cli_main\n",
      "    score(f)\n",
      "  File \"/opt/conda/lib/python3.8/site-packages/fairseq_cli/score.py\", line 86, in score\n",
      "    print(scorer.result_string(args.order))\n",
      "  File \"/opt/conda/lib/python3.8/site-packages/fairseq/scoring/bleu.py\", line 151, in result_string\n",
      "    self.score(order=order),\n",
      "  File \"/opt/conda/lib/python3.8/site-packages/fairseq/scoring/bleu.py\", line 125, in score\n",
      "    return self.brevity() * math.exp(psum / order) * 100\n",
      "  File \"/opt/conda/lib/python3.8/site-packages/fairseq/scoring/bleu.py\", line 139, in brevity\n",
      "    r = self.stat.reflen / self.stat.predlen\n",
      "ZeroDivisionError: division by zero\n"
     ]
    }
   ],
   "source": [
    "!fairseq-score --sys 97c.out.spacy --ref test.en"
   ]
  },
  {
   "cell_type": "code",
   "execution_count": null,
   "metadata": {},
   "outputs": [],
   "source": [
    "!nvidia-smi"
   ]
  },
  {
   "cell_type": "markdown",
   "metadata": {},
   "source": [
    "## 98 ドメイン適応"
   ]
  },
  {
   "cell_type": "code",
   "execution_count": 72,
   "metadata": {},
   "outputs": [
    {
     "name": "stdout",
     "output_type": "stream",
     "text": [
      "--2022-02-20 14:55:46--  http://www.kecl.ntt.co.jp/icl/lirg/jparacrawl/release/2.0/bitext/en-ja.tar.gz\n",
      "Resolving www.kecl.ntt.co.jp (www.kecl.ntt.co.jp)... 163.137.218.58\n",
      "Connecting to www.kecl.ntt.co.jp (www.kecl.ntt.co.jp)|163.137.218.58|:80... connected.\n",
      "HTTP request sent, awaiting response... 200 OK\n",
      "Length: 1294917545 (1.2G) [application/x-gzip]\n",
      "Saving to: ‘en-ja.tar.gz’\n",
      "\n",
      "en-ja.tar.gz        100%[===================>]   1.21G  2.30MB/s    in 6m 38s  \n",
      "\n",
      "2022-02-20 15:02:23 (3.10 MB/s) - ‘en-ja.tar.gz’ saved [1294917545/1294917545]\n",
      "\n"
     ]
    }
   ],
   "source": [
    "!wget http://www.kecl.ntt.co.jp/icl/lirg/jparacrawl/release/2.0/bitext/en-ja.tar.gz"
   ]
  },
  {
   "cell_type": "code",
   "execution_count": 78,
   "metadata": {},
   "outputs": [],
   "source": [
    "import tarfile"
   ]
  },
  {
   "cell_type": "code",
   "execution_count": 79,
   "metadata": {
    "tags": []
   },
   "outputs": [],
   "source": [
    "with tarfile.open('en-ja.tar.gz') as tar:\n",
    "    for f in tar.getmembers():\n",
    "        if f.name.endswith('txt'):\n",
    "            text = tar.extractfile(f).read().decode('utf-8')\n",
    "            break"
   ]
  },
  {
   "cell_type": "code",
   "execution_count": 80,
   "metadata": {
    "tags": []
   },
   "outputs": [],
   "source": [
    "data = text.splitlines()\n",
    "data = [x.split('\\t') for x in data]\n",
    "data = [x for x in data if len(x) == 4]\n",
    "data = [[x[3], x[2]] for x in data]"
   ]
  },
  {
   "cell_type": "code",
   "execution_count": 81,
   "metadata": {},
   "outputs": [],
   "source": [
    "with open('jparacrawl.ja', 'w') as f, open('jparacrawl.en', 'w') as g:\n",
    "    for j, e in data:\n",
    "        print(j, file=f)\n",
    "        print(e, file=g)"
   ]
  },
  {
   "cell_type": "code",
   "execution_count": 82,
   "metadata": {},
   "outputs": [],
   "source": [
    "with open('jparacrawl.ja') as f, open('train.jparacrawl.ja', 'w') as g:\n",
    "    for x in f:\n",
    "        x = x.strip()\n",
    "        x = re.sub(r'\\s+', ' ', x)\n",
    "        x = sp.encode_as_pieces(x)\n",
    "        x = ' '.join(x)\n",
    "        print(x, file=g)"
   ]
  },
  {
   "cell_type": "code",
   "execution_count": 83,
   "metadata": {},
   "outputs": [],
   "source": [
    "!subword-nmt apply-bpe -c kyoto_en.codes < jparacrawl.en > train.jparacrawl.en"
   ]
  },
  {
   "cell_type": "code",
   "execution_count": 97,
   "metadata": {},
   "outputs": [
    {
     "name": "stdout",
     "output_type": "stream",
     "text": [
      "2022-02-21 13:02:48 | INFO | fairseq_cli.preprocess | Namespace(align_suffix=None, alignfile=None, all_gather_list_size=16384, bf16=False, bpe=None, checkpoint_shard_count=1, checkpoint_suffix='', cpu=False, criterion='cross_entropy', dataset_impl='mmap', destdir='data98', empty_cache_freq=0, fp16=False, fp16_init_scale=128, fp16_no_flatten_grads=False, fp16_scale_tolerance=0.0, fp16_scale_window=None, joined_dictionary=False, log_format=None, log_interval=100, lr_scheduler='fixed', memory_efficient_bf16=False, memory_efficient_fp16=False, min_loss_scale=0.0001, model_parallel_size=8, no_progress_bar=False, nwordssrc=-1, nwordstgt=-1, only_source=False, optimizer=None, padding_factor=8, profile=False, quantization_config_path=None, scoring='bleu', seed=1, source_lang='ja', srcdict=None, target_lang='en', task='translation', tensorboard_logdir=None, testpref=None, tgtdict=None, threshold_loss_scale=None, thresholdsrc=0, thresholdtgt=0, tokenizer=None, tpu=False, trainpref='train.jparacrawl', user_dir=None, validpref='dev.sub', workers=30)\n",
      "2022-02-21 13:06:18 | INFO | fairseq_cli.preprocess | [ja] Dictionary: 31144 types\n",
      "2022-02-21 13:11:51 | INFO | fairseq_cli.preprocess | [ja] train.jparacrawl.ja: 10120012 sents, 458025194 tokens, 0.0% replaced by <unk>\n",
      "2022-02-21 13:11:51 | INFO | fairseq_cli.preprocess | [ja] Dictionary: 31144 types\n",
      "2022-02-21 13:11:52 | INFO | fairseq_cli.preprocess | [ja] dev.sub.ja: 1166 sents, 24825 tokens, 0.29% replaced by <unk>\n",
      "2022-02-21 13:11:52 | INFO | fairseq_cli.preprocess | [en] Dictionary: 29424 types\n",
      "2022-02-21 13:15:40 | INFO | fairseq_cli.preprocess | [en] train.jparacrawl.en: 10120012 sents, 386654564 tokens, 0.0% replaced by <unk>\n",
      "2022-02-21 13:15:40 | INFO | fairseq_cli.preprocess | [en] Dictionary: 29424 types\n",
      "2022-02-21 13:15:40 | INFO | fairseq_cli.preprocess | [en] dev.sub.en: 1166 sents, 29011 tokens, 0.279% replaced by <unk>\n",
      "2022-02-21 13:15:40 | INFO | fairseq_cli.preprocess | Wrote preprocessed data to data98\n"
     ]
    }
   ],
   "source": [
    "!fairseq-preprocess -s ja -t en \\\n",
    "    --trainpref train.jparacrawl \\\n",
    "    --validpref dev.sub \\\n",
    "    --model-parallel-size 8 \\\n",
    "    --destdir data98  \\\n",
    "    --workers 30"
   ]
  },
  {
   "cell_type": "code",
   "execution_count": 98,
   "metadata": {},
   "outputs": [
    {
     "name": "stdout",
     "output_type": "stream",
     "text": [
      "/opt/conda/lib/python3.8/site-packages/torch/nn/parallel/distributed.py:425: UserWarning: The `check_reduction` argument in `DistributedDataParallel` module is deprecated. Please avoid using it.\n",
      "  warnings.warn(\n",
      "/opt/conda/lib/python3.8/site-packages/torch/nn/parallel/distributed.py:425: UserWarning: The `check_reduction` argument in `DistributedDataParallel` module is deprecated. Please avoid using it.\n",
      "  warnings.warn(\n",
      "/opt/conda/lib/python3.8/site-packages/torch/nn/parallel/distributed.py:425: UserWarning: The `check_reduction` argument in `DistributedDataParallel` module is deprecated. Please avoid using it.\n",
      "  warnings.warn(\n",
      "/opt/conda/lib/python3.8/site-packages/torch/nn/parallel/distributed.py:425: UserWarning: The `check_reduction` argument in `DistributedDataParallel` module is deprecated. Please avoid using it.\n",
      "  warnings.warn(\n",
      "/opt/conda/lib/python3.8/site-packages/torch/nn/parallel/distributed.py:425: UserWarning: The `check_reduction` argument in `DistributedDataParallel` module is deprecated. Please avoid using it.\n",
      "  warnings.warn(\n",
      "/opt/conda/lib/python3.8/site-packages/torch/nn/parallel/distributed.py:425: UserWarning: The `check_reduction` argument in `DistributedDataParallel` module is deprecated. Please avoid using it.\n",
      "  warnings.warn(\n",
      "/opt/conda/lib/python3.8/site-packages/torch/nn/parallel/distributed.py:425: UserWarning: The `check_reduction` argument in `DistributedDataParallel` module is deprecated. Please avoid using it.\n",
      "  warnings.warn(\n",
      "/opt/conda/lib/python3.8/site-packages/torch/nn/parallel/distributed.py:425: UserWarning: The `check_reduction` argument in `DistributedDataParallel` module is deprecated. Please avoid using it.\n",
      "  warnings.warn(\n",
      "epoch 001: 100%|▉| 7796/7797 [1:20:44<00:00,  1.59it/s, loss=6.125, nll_loss=4.7\n",
      "epoch 001 | valid on 'valid' subset:   0%|                | 0/1 [00:00<?, ?it/s]\u001b[A\n",
      "epoch 001 | valid on 'valid' subset: 100%|████████| 1/1 [00:02<00:00,  2.29s/it]\u001b[A\n",
      "epoch 002: 100%|▉| 7796/7797 [1:20:46<00:00,  1.56it/s, loss=5.14, nll_loss=3.62\u001b[A\n",
      "epoch 002 | valid on 'valid' subset:   0%|                | 0/1 [00:00<?, ?it/s]\u001b[A\n",
      "epoch 002 | valid on 'valid' subset: 100%|████████| 1/1 [00:02<00:00,  2.29s/it]\u001b[A\n",
      "epoch 003: 100%|▉| 7796/7797 [1:20:50<00:00,  1.61it/s, loss=4.784, nll_loss=3.2\u001b[A\n",
      "epoch 003 | valid on 'valid' subset:   0%|                | 0/1 [00:00<?, ?it/s]\u001b[A\n",
      "epoch 003 | valid on 'valid' subset: 100%|████████| 1/1 [00:02<00:00,  2.31s/it]\u001b[A\n",
      "/opt/conda/lib/python3.8/multiprocessing/resource_tracker.py:216: UserWarning: resource_tracker: There appear to be 48 leaked semaphore objects to clean up at shutdown\n",
      "  warnings.warn('resource_tracker: There appear to be %d '\n"
     ]
    }
   ],
   "source": [
    "!fairseq-train data98 \\\n",
    "    --fp16 \\\n",
    "    --save-dir save98_1 \\\n",
    "    --max-epoch 3 \\\n",
    "    --arch transformer --share-decoder-input-output-embed \\\n",
    "    --optimizer adam --clip-norm 1.0 \\\n",
    "    --lr 1e-4 --lr-scheduler inverse_sqrt --warmup-updates 4000 \\\n",
    "    --dropout 0.1 --weight-decay 0.0001 \\\n",
    "    --criterion label_smoothed_cross_entropy --label-smoothing 0.1 \\\n",
    "    --max-tokens 8000 > 98_1.log"
   ]
  },
  {
   "cell_type": "code",
   "execution_count": 99,
   "metadata": {},
   "outputs": [],
   "source": [
    "!fairseq-interactive --path save98_1/checkpoint3.pt data98 < test.sub.ja | grep '^H' | cut -f3 | sed -r 's/(@@ )|(@@ ?$)//g' > 98_1.out"
   ]
  },
  {
   "cell_type": "code",
   "execution_count": 100,
   "metadata": {},
   "outputs": [],
   "source": [
    "spacy_tokenize('98_1.out', '98_1.out.spacy')"
   ]
  },
  {
   "cell_type": "code",
   "execution_count": 101,
   "metadata": {},
   "outputs": [
    {
     "name": "stdout",
     "output_type": "stream",
     "text": [
      "Namespace(ignore_case=False, order=4, ref='test.en', sacrebleu=False, sentence_bleu=False, sys='98_1.out.spacy')\n",
      "BLEU4 = 8.57, 41.4/13.8/5.7/2.6 (BP=0.895, ratio=0.900, syslen=24878, reflen=27636)\n"
     ]
    }
   ],
   "source": [
    "!fairseq-score --sys 98_1.out.spacy --ref test.en"
   ]
  },
  {
   "cell_type": "code",
   "execution_count": 112,
   "metadata": {},
   "outputs": [
    {
     "name": "stdout",
     "output_type": "stream",
     "text": [
      "2022-02-21 17:46:04 | INFO | fairseq_cli.preprocess | Namespace(align_suffix=None, alignfile=None, all_gather_list_size=16384, bf16=False, bpe=None, checkpoint_shard_count=1, checkpoint_suffix='', cpu=False, criterion='cross_entropy', dataset_impl='mmap', destdir='data98_2', empty_cache_freq=0, fp16=False, fp16_init_scale=128, fp16_no_flatten_grads=False, fp16_scale_tolerance=0.0, fp16_scale_window=None, joined_dictionary=False, log_format=None, log_interval=100, lr_scheduler='fixed', memory_efficient_bf16=False, memory_efficient_fp16=False, min_loss_scale=0.0001, model_parallel_size=8, no_progress_bar=False, nwordssrc=-1, nwordstgt=-1, only_source=False, optimizer=None, padding_factor=8, profile=False, quantization_config_path=None, scoring='bleu', seed=1, source_lang='ja', srcdict='data98/dict.ja.txt', target_lang='en', task='translation', tensorboard_logdir=None, testpref=None, tgtdict='data98/dict.en.txt', threshold_loss_scale=None, thresholdsrc=0, thresholdtgt=0, tokenizer=None, tpu=False, trainpref='train.sub', user_dir=None, validpref='dev.sub', workers=30)\n",
      "2022-02-21 17:46:05 | INFO | fairseq_cli.preprocess | [ja] Dictionary: 31144 types\n",
      "2022-02-21 17:46:15 | INFO | fairseq_cli.preprocess | [ja] train.sub.ja: 440288 sents, 10735573 tokens, 0.239% replaced by <unk>\n",
      "2022-02-21 17:46:15 | INFO | fairseq_cli.preprocess | [ja] Dictionary: 31144 types\n",
      "2022-02-21 17:46:16 | INFO | fairseq_cli.preprocess | [ja] dev.sub.ja: 1166 sents, 24825 tokens, 0.29% replaced by <unk>\n",
      "2022-02-21 17:46:16 | INFO | fairseq_cli.preprocess | [en] Dictionary: 29424 types\n",
      "2022-02-21 17:46:25 | INFO | fairseq_cli.preprocess | [en] train.sub.en: 440288 sents, 13280091 tokens, 0.222% replaced by <unk>\n",
      "2022-02-21 17:46:25 | INFO | fairseq_cli.preprocess | [en] Dictionary: 29424 types\n",
      "2022-02-21 17:46:25 | INFO | fairseq_cli.preprocess | [en] dev.sub.en: 1166 sents, 29011 tokens, 0.279% replaced by <unk>\n",
      "2022-02-21 17:46:25 | INFO | fairseq_cli.preprocess | Wrote preprocessed data to data98_2\n"
     ]
    }
   ],
   "source": [
    "!fairseq-preprocess -s ja -t en \\\n",
    "    --trainpref train.sub \\\n",
    "    --validpref dev.sub \\\n",
    "    --tgtdict data98/dict.en.txt \\\n",
    "    --srcdict data98/dict.ja.txt \\\n",
    "    --model-parallel-size 8 \\\n",
    "    --destdir data98_2  \\\n",
    "    --workers 30"
   ]
  },
  {
   "cell_type": "code",
   "execution_count": 113,
   "metadata": {},
   "outputs": [
    {
     "name": "stdout",
     "output_type": "stream",
     "text": [
      "/opt/conda/lib/python3.8/site-packages/torch/nn/parallel/distributed.py:425: UserWarning: The `check_reduction` argument in `DistributedDataParallel` module is deprecated. Please avoid using it.\n",
      "  warnings.warn(\n",
      "/opt/conda/lib/python3.8/site-packages/torch/nn/parallel/distributed.py:425: UserWarning: The `check_reduction` argument in `DistributedDataParallel` module is deprecated. Please avoid using it.\n",
      "  warnings.warn(\n",
      "/opt/conda/lib/python3.8/site-packages/torch/nn/parallel/distributed.py:425: UserWarning: The `check_reduction` argument in `DistributedDataParallel` module is deprecated. Please avoid using it.\n",
      "  warnings.warn(\n",
      "/opt/conda/lib/python3.8/site-packages/torch/nn/parallel/distributed.py:425: UserWarning: The `check_reduction` argument in `DistributedDataParallel` module is deprecated. Please avoid using it.\n",
      "  warnings.warn(\n",
      "/opt/conda/lib/python3.8/site-packages/torch/nn/parallel/distributed.py:425: UserWarning: The `check_reduction` argument in `DistributedDataParallel` module is deprecated. Please avoid using it.\n",
      "  warnings.warn(\n",
      "/opt/conda/lib/python3.8/site-packages/torch/nn/parallel/distributed.py:425: UserWarning: The `check_reduction` argument in `DistributedDataParallel` module is deprecated. Please avoid using it.\n",
      "  warnings.warn(\n",
      "/opt/conda/lib/python3.8/site-packages/torch/nn/parallel/distributed.py:425: UserWarning: The `check_reduction` argument in `DistributedDataParallel` module is deprecated. Please avoid using it.\n",
      "  warnings.warn(\n",
      "/opt/conda/lib/python3.8/site-packages/torch/nn/parallel/distributed.py:425: UserWarning: The `check_reduction` argument in `DistributedDataParallel` module is deprecated. Please avoid using it.\n",
      "  warnings.warn(\n",
      "epoch 004: 100%|▉| 234/235 [02:27<00:00,  1.62it/s, loss=5.825, nll_loss=4.389, \n",
      "epoch 004 | valid on 'valid' subset:   0%|                | 0/1 [00:00<?, ?it/s]\u001b[A\n",
      "epoch 004 | valid on 'valid' subset: 100%|████████| 1/1 [00:02<00:00,  2.26s/it]\u001b[A\n",
      "epoch 005: 100%|▉| 234/235 [02:26<00:00,  1.64it/s, loss=5.38, nll_loss=3.878, p\u001b[A\n",
      "epoch 005 | valid on 'valid' subset:   0%|                | 0/1 [00:00<?, ?it/s]\u001b[A\n",
      "epoch 005 | valid on 'valid' subset: 100%|████████| 1/1 [00:02<00:00,  2.26s/it]\u001b[A\n",
      "epoch 006: 100%|▉| 234/235 [02:26<00:00,  1.61it/s, loss=5.132, nll_loss=3.594, \u001b[A\n",
      "epoch 006 | valid on 'valid' subset:   0%|                | 0/1 [00:00<?, ?it/s]\u001b[A\n",
      "epoch 006 | valid on 'valid' subset: 100%|████████| 1/1 [00:02<00:00,  2.20s/it]\u001b[A\n",
      "epoch 007: 100%|▉| 234/235 [02:27<00:00,  1.61it/s, loss=4.93, nll_loss=3.363, p\u001b[A\n",
      "epoch 007 | valid on 'valid' subset:   0%|                | 0/1 [00:00<?, ?it/s]\u001b[A\n",
      "epoch 007 | valid on 'valid' subset: 100%|████████| 1/1 [00:02<00:00,  2.28s/it]\u001b[A\n",
      "epoch 008: 100%|▉| 234/235 [02:27<00:00,  1.60it/s, loss=4.805, nll_loss=3.221, \u001b[A\n",
      "epoch 008 | valid on 'valid' subset:   0%|                | 0/1 [00:00<?, ?it/s]\u001b[A\n",
      "epoch 008 | valid on 'valid' subset: 100%|████████| 1/1 [00:02<00:00,  2.22s/it]\u001b[A\n",
      "epoch 009: 100%|▉| 234/235 [02:27<00:00,  1.63it/s, loss=4.698, nll_loss=3.098, \u001b[A\n",
      "epoch 009 | valid on 'valid' subset:   0%|                | 0/1 [00:00<?, ?it/s]\u001b[A\n",
      "epoch 009 | valid on 'valid' subset: 100%|████████| 1/1 [00:02<00:00,  2.27s/it]\u001b[A\n",
      "epoch 010: 100%|▉| 234/235 [02:27<00:00,  1.63it/s, loss=4.603, nll_loss=2.99, p\u001b[A\n",
      "epoch 010 | valid on 'valid' subset:   0%|                | 0/1 [00:00<?, ?it/s]\u001b[A\n",
      "epoch 010 | valid on 'valid' subset: 100%|████████| 1/1 [00:02<00:00,  2.24s/it]\u001b[A\n",
      "/opt/conda/lib/python3.8/multiprocessing/resource_tracker.py:216: UserWarning: resource_tracker: There appear to be 112 leaked semaphore objects to clean up at shutdown\n",
      "  warnings.warn('resource_tracker: There appear to be %d '\n"
     ]
    }
   ],
   "source": [
    "!fairseq-train data98_2 \\\n",
    "    --fp16 \\\n",
    "    --restore-file save98_1/checkpoint3.pt \\\n",
    "    --save-dir save98_2 \\\n",
    "    --max-epoch 10 \\\n",
    "    --arch transformer --share-decoder-input-output-embed \\\n",
    "    --optimizer adam --clip-norm 1.0 \\\n",
    "    --lr 1e-3 --lr-scheduler inverse_sqrt --warmup-updates 2000 \\\n",
    "    --dropout 0.1 --weight-decay 0.0001 \\\n",
    "    --criterion label_smoothed_cross_entropy --label-smoothing 0.1 \\\n",
    "    --max-tokens 8000 > 98_2.log"
   ]
  },
  {
   "cell_type": "code",
   "execution_count": 114,
   "metadata": {},
   "outputs": [],
   "source": [
    "!fairseq-interactive --path save98_2/checkpoint10.pt data98_2 < test.sub.ja | grep '^H' | cut -f3 | sed -r 's/(@@ )|(@@ ?$)//g' > 98_2.out"
   ]
  },
  {
   "cell_type": "code",
   "execution_count": 115,
   "metadata": {},
   "outputs": [],
   "source": [
    "spacy_tokenize('98_2.out', '98_2.out.spacy')"
   ]
  },
  {
   "cell_type": "code",
   "execution_count": 116,
   "metadata": {},
   "outputs": [
    {
     "name": "stdout",
     "output_type": "stream",
     "text": [
      "Namespace(ignore_case=False, order=4, ref='test.en', sacrebleu=False, sentence_bleu=False, sys='98_2.out.spacy')\n",
      "BLEU4 = 22.27, 53.2/27.1/16.4/10.4 (BP=1.000, ratio=1.042, syslen=28802, reflen=27636)\n"
     ]
    }
   ],
   "source": [
    "!fairseq-score --sys 98_2.out.spacy --ref test.en"
   ]
  },
  {
   "cell_type": "code",
   "execution_count": null,
   "metadata": {},
   "outputs": [],
   "source": []
  }
 ],
 "metadata": {
  "kernelspec": {
   "display_name": "Python 3",
   "language": "python",
   "name": "python3"
  },
  "language_info": {
   "codemirror_mode": {
    "name": "ipython",
    "version": 3
   },
   "file_extension": ".py",
   "mimetype": "text/x-python",
   "name": "python",
   "nbconvert_exporter": "python",
   "pygments_lexer": "ipython3",
   "version": "3.8.8"
  }
 },
 "nbformat": 4,
 "nbformat_minor": 4
}
