{
 "cells": [
  {
   "cell_type": "markdown",
   "metadata": {
    "id": "6lt7aty4qSRW"
   },
   "source": [
    "翻訳器の作成．\n",
    "英⇒日はwebから引用したものを利用.\n",
    "日⇒英は100本ノック98で作ったものを利用する.\n",
    "\n",
    "まずは必要なデータやライブラリをそろえます．\n",
    "\n",
    "参考 \n",
    "https://qiita.com/nymwa/items/2f39a34982aa9d71f10d  \n",
    "https://gist.github.com/nymwa/d584be8ed36b9513a31e31f5b8f50112  \n",
    "https://qiita.com/O-Kazu-O/items/5c0781913a1d033bea39"
   ]
  },
  {
   "cell_type": "markdown",
   "metadata": {},
   "source": [
    "## ここから英→日の訓練　訓練は別サーバで行った"
   ]
  },
  {
   "cell_type": "code",
   "execution_count": null,
   "metadata": {
    "colab": {
     "base_uri": "https://localhost:8080/",
     "height": 1000
    },
    "executionInfo": {
     "elapsed": 113063,
     "status": "ok",
     "timestamp": 1645978400837,
     "user": {
      "displayName": "小笠雄也",
      "photoUrl": "https://lh3.googleusercontent.com/a-/AOh14Gj3-7lYEXBfIfaYmq_UtMxNULG57MqI8cexF-rY=s64",
      "userId": "11557424356353414933"
     },
     "user_tz": -540
    },
    "id": "RmV_ca5uafqf",
    "outputId": "2c60a0db-70ad-486e-cd09-4d4b6f1a2890"
   },
   "outputs": [],
   "source": [
    "!git clone https://github.com/nymwa/light_enja2.git"
   ]
  },
  {
   "cell_type": "code",
   "execution_count": null,
   "metadata": {},
   "outputs": [],
   "source": [
    "!mv light_enja2/* ."
   ]
  },
  {
   "cell_type": "code",
   "execution_count": null,
   "metadata": {},
   "outputs": [],
   "source": [
    "!pip install -r requirements.txt"
   ]
  },
  {
   "cell_type": "markdown",
   "metadata": {
    "id": "QgFZmYSHqdld"
   },
   "source": [
    "データに対して前処理を行います\n",
    "\n",
    "ダウンロードした時点でデータセットは単語分割やトークン化がすでに施されています．\n",
    "マージ数8000のBPEでサブワードに分割します．"
   ]
  },
  {
   "cell_type": "code",
   "execution_count": null,
   "metadata": {
    "colab": {
     "base_uri": "https://localhost:8080/"
    },
    "executionInfo": {
     "elapsed": 41959,
     "status": "ok",
     "timestamp": 1645978442789,
     "user": {
      "displayName": "小笠雄也",
      "photoUrl": "https://lh3.googleusercontent.com/a-/AOh14Gj3-7lYEXBfIfaYmq_UtMxNULG57MqI8cexF-rY=s64",
      "userId": "11557424356353414933"
     },
     "user_tz": -540
    },
    "id": "-VQQIdbqaxkJ",
    "outputId": "33615c07-292c-4c66-8826-a622f7a1cab2"
   },
   "outputs": [],
   "source": [
    "! bash preproc.sh"
   ]
  },
  {
   "cell_type": "markdown",
   "metadata": {
    "id": "Sr70ETxTq2Pg"
   },
   "source": [
    "学習を行います．\n",
    "\n",
    "少ないデータでかつかなり軽量なモデルでの学習ですが，10分ぐらいかかります．"
   ]
  },
  {
   "cell_type": "code",
   "execution_count": null,
   "metadata": {
    "colab": {
     "base_uri": "https://localhost:8080/"
    },
    "executionInfo": {
     "elapsed": 791930,
     "status": "ok",
     "timestamp": 1645979234709,
     "user": {
      "displayName": "小笠雄也",
      "photoUrl": "https://lh3.googleusercontent.com/a-/AOh14Gj3-7lYEXBfIfaYmq_UtMxNULG57MqI8cexF-rY=s64",
      "userId": "11557424356353414933"
     },
     "user_tz": -540
    },
    "id": "6VyE7idzbARO",
    "outputId": "b5913755-3d4c-4a32-9774-bb626d002558",
    "scrolled": true
   },
   "outputs": [],
   "source": [
    "!fairseq-train \\\n",
    "    data-bin \\\n",
    "    --save-interval 10 \\\n",
    "    --max-epoch 10 \\\n",
    "    --update-freq 1 \\\n",
    "    --max-tokens 4000 \\\n",
    "    --arch transformer \\\n",
    "    --encoder-normalize-before \\\n",
    "    --decoder-normalize-before \\\n",
    "    --encoder-embed-dim 512 \\\n",
    "    --encoder-ffn-embed-dim 1024 \\\n",
    "    --encoder-attention-heads 4 \\\n",
    "    --encoder-layers 4 \\\n",
    "    --decoder-embed-dim 512 \\\n",
    "    --decoder-ffn-embed-dim 1024 \\\n",
    "    --decoder-attention-heads 4 \\\n",
    "    --decoder-layers 4 \\\n",
    "    --share-all-embeddings \\\n",
    "    --dropout 0.3 \\\n",
    "    --optimizer adam \\\n",
    "    --adam-betas '(0.9, 0.999)' \\\n",
    "    --lr 0.002 \\\n",
    "    --lr-scheduler inverse_sqrt \\\n",
    "    --warmup-updates 2000 \\\n",
    "    --warmup-init-lr 1e-07 \\\n",
    "    --clip-norm 1.0 \\\n",
    "    --weight-decay 0.01 \\\n",
    "    --criterion label_smoothed_cross_entropy \\\n",
    "    --label-smoothing 0.6"
   ]
  },
  {
   "cell_type": "markdown",
   "metadata": {
    "id": "zMGSzREErEqV"
   },
   "source": [
    "テストデータで翻訳を行い，その性能を評価します．\n",
    "\n",
    "評価尺度BLEUで30ぐらい出ると思います．"
   ]
  },
  {
   "cell_type": "code",
   "execution_count": null,
   "metadata": {
    "colab": {
     "base_uri": "https://localhost:8080/"
    },
    "executionInfo": {
     "elapsed": 29747,
     "status": "ok",
     "timestamp": 1645979264452,
     "user": {
      "displayName": "小笠雄也",
      "photoUrl": "https://lh3.googleusercontent.com/a-/AOh14Gj3-7lYEXBfIfaYmq_UtMxNULG57MqI8cexF-rY=s64",
      "userId": "11557424356353414933"
     },
     "user_tz": -540
    },
    "id": "H989es1arIyX",
    "outputId": "c9eda6cd-d694-46e7-edb4-da88270d594c"
   },
   "outputs": [],
   "source": [
    "! fairseq-interactive data-bin \\\n",
    "    --buffer-size 1024 \\\n",
    "    --batch-size 128 \\\n",
    "    --path checkpoints/checkpoint10.pt \\\n",
    "    --beam 5 \\\n",
    "    --lenpen 0.6 \\\n",
    "    < test.en \\\n",
    "    | grep '^H' \\\n",
    "    | cut -f 3 \\\n",
    "    | python src/decode.py \\\n",
    "    | tee output.txt \\\n",
    "    | sacrebleu corpus/test.ja"
   ]
  },
  {
   "cell_type": "markdown",
   "metadata": {
    "id": "dGx0a5Vxrlgb"
   },
   "source": [
    "翻訳結果と正解データの冒頭10文です．"
   ]
  },
  {
   "cell_type": "code",
   "execution_count": null,
   "metadata": {
    "colab": {
     "base_uri": "https://localhost:8080/"
    },
    "executionInfo": {
     "elapsed": 4,
     "status": "ok",
     "timestamp": 1645979264452,
     "user": {
      "displayName": "小笠雄也",
      "photoUrl": "https://lh3.googleusercontent.com/a-/AOh14Gj3-7lYEXBfIfaYmq_UtMxNULG57MqI8cexF-rY=s64",
      "userId": "11557424356353414933"
     },
     "user_tz": -540
    },
    "id": "h7neQQskrNRl",
    "outputId": "45efe2c3-a43e-4842-8c11-83df622dad50"
   },
   "outputs": [],
   "source": [
    "! head output.txt corpus/test.ja"
   ]
  },
  {
   "cell_type": "markdown",
   "metadata": {
    "id": "fXH6CjmZrzKH"
   },
   "source": [
    "## ここまで訓練\n",
    "### ここからlocalで実行するために必要なものをインストールする"
   ]
  },
  {
   "cell_type": "code",
   "execution_count": null,
   "metadata": {},
   "outputs": [],
   "source": [
    "pip install fairseq==0.10.0"
   ]
  },
  {
   "cell_type": "code",
   "execution_count": null,
   "metadata": {},
   "outputs": [],
   "source": [
    "pip install -U sacremoses"
   ]
  },
  {
   "cell_type": "code",
   "execution_count": null,
   "metadata": {},
   "outputs": [],
   "source": [
    "pip install sentencepiece"
   ]
  },
  {
   "cell_type": "code",
   "execution_count": null,
   "metadata": {},
   "outputs": [],
   "source": [
    "pip install --upgrade --user numpy"
   ]
  },
  {
   "cell_type": "markdown",
   "metadata": {},
   "source": [
    "# 実践(localで)"
   ]
  },
  {
   "cell_type": "code",
   "execution_count": null,
   "metadata": {
    "id": "3ldTDx2FrjLp"
   },
   "outputs": [],
   "source": [
    "import re\n",
    "import unicodedata\n",
    "from sacremoses import MosesTokenizer\n",
    "import sentencepiece as spm\n",
    "from fairseq.models.transformer import TransformerModel"
   ]
  },
  {
   "cell_type": "code",
   "execution_count": null,
   "metadata": {
    "id": "5jg6rlaqr9Ax"
   },
   "outputs": [],
   "source": [
    "mt = MosesTokenizer(lang = 'en')\n",
    "sp = spm.SentencePieceProcessor(model_file='bpe.model')\n",
    "ejmodel = TransformerModel.from_pretrained('./checkpoints/', checkpoint_file='checkpoint10.pt', data_name_or_path='data-bin')\n",
    "\n",
    "def preproc_en(x):\n",
    "  x = unicodedata.normalize('NFKC', x)\n",
    "  x = re.sub(mt.AGGRESSIVE_HYPHEN_SPLIT[0], r'\\1 - ', x)\n",
    "  x = mt.tokenize(x, escape = False)\n",
    "  x = ' '.join(x)\n",
    "  x = x.lower()\n",
    "  x = ' '.join(sp.encode(x, out_type = 'str'))\n",
    "  return x\n",
    "\n",
    "def ejtranslate(x):\n",
    "  x = preproc_en(x)\n",
    "  x = ejmodel.translate(x, beam = 5, lenpen = 0.6)\n",
    "  x = ''.join(x.split()).replace('▁', '').strip()\n",
    "  return x"
   ]
  },
  {
   "cell_type": "code",
   "execution_count": null,
   "metadata": {
    "colab": {
     "base_uri": "https://localhost:8080/"
    },
    "executionInfo": {
     "elapsed": 13965,
     "status": "ok",
     "timestamp": 1645979280613,
     "user": {
      "displayName": "小笠雄也",
      "photoUrl": "https://lh3.googleusercontent.com/a-/AOh14Gj3-7lYEXBfIfaYmq_UtMxNULG57MqI8cexF-rY=s64",
      "userId": "11557424356353414933"
     },
     "user_tz": -540
    },
    "id": "GZiI1ffvswHT",
    "outputId": "6d9f11ff-5015-428d-d619-02e88c646895"
   },
   "outputs": [],
   "source": [
    "while True:\n",
    "  x = input('英文を入力 > ')\n",
    "  if not x:\n",
    "    break\n",
    "  x = ejtranslate(x)\n",
    "  print('翻訳結果 > ' + x)"
   ]
  },
  {
   "cell_type": "code",
   "execution_count": null,
   "metadata": {},
   "outputs": [],
   "source": [
    "from fairseq.models.transformer import TransformerModel"
   ]
  },
  {
   "cell_type": "code",
   "execution_count": null,
   "metadata": {},
   "outputs": [],
   "source": [
    "jemodel = TransformerModel.from_pretrained('./save98_2/', checkpoint_file='checkpoint10.pt', data_name_or_path='data98_2')"
   ]
  },
  {
   "cell_type": "code",
   "execution_count": null,
   "metadata": {},
   "outputs": [],
   "source": [
    "import MeCab\n",
    "import sys\n",
    "import re "
   ]
  },
  {
   "cell_type": "code",
   "execution_count": null,
   "metadata": {},
   "outputs": [],
   "source": [
    "def jetranslate(x):\n",
    "    wakati = MeCab.Tagger('-Owakati')\n",
    "    wakati = ' '.join(wakati.parse(x).split())\n",
    "    x = jemodel.translate(wakati, beam = 5, lenpen = 0.6) \n",
    "    x = re.sub('@@ ?$', '', x)\n",
    "    x = re.sub('@@ ', '', x)\n",
    "    return x"
   ]
  },
  {
   "cell_type": "code",
   "execution_count": null,
   "metadata": {},
   "outputs": [],
   "source": [
    "text = \"私は、道元です。\"\n",
    "print(jetranslate(text))"
   ]
  },
  {
   "cell_type": "code",
   "execution_count": null,
   "metadata": {
    "colab": {
     "background_save": true
    },
    "id": "CJtunXu9-3WE"
   },
   "outputs": [],
   "source": [
    "from flask import Flask, render_template, request"
   ]
  },
  {
   "cell_type": "markdown",
   "metadata": {},
   "source": [
    "# WEBサーバ　翻訳機\n",
    "jupyter notebookでプログラム実行後\n",
    "\n",
    "`ngrok http 5000`\n",
    "\n",
    "をpowershellなどで実行する"
   ]
  },
  {
   "cell_type": "code",
   "execution_count": null,
   "metadata": {
    "code_folding": [],
    "colab": {
     "base_uri": "https://localhost:8080/",
     "height": 131
    },
    "executionInfo": {
     "elapsed": 239,
     "status": "error",
     "timestamp": 1645980755965,
     "user": {
      "displayName": "小笠雄也",
      "photoUrl": "https://lh3.googleusercontent.com/a-/AOh14Gj3-7lYEXBfIfaYmq_UtMxNULG57MqI8cexF-rY=s64",
      "userId": "11557424356353414933"
     },
     "user_tz": -540
    },
    "id": "mWiSyEMu-52i",
    "outputId": "9910c396-13b4-4f85-e55b-1e69a6d826d5"
   },
   "outputs": [],
   "source": [
    "app = Flask(__name__)\n",
    "\n",
    "@app.route(\"/\", methods=[\"GET\"])\n",
    "def get():\n",
    "    return render_template(\"index.html\", \\\n",
    "        title = \"日⇔英翻訳機\", \\\n",
    "        message = \"Please enter the text you want to translate here.(翻訳したい文を入れてください)\",\\\n",
    "        ejmessage = \"\",\\\n",
    "        jemessage = \"\")\n",
    "\n",
    "@app.route(\"/\", methods=[\"POST\"])\n",
    "def post():\n",
    "    ejtext = request.form[\"ejname\"]\n",
    "    #if re.compile(\\s*).search(ejtext):\n",
    "    if ejtext ==\"\":\n",
    "     ejoutput =\"\"\n",
    "    else:\n",
    "     ejoutput = ejtranslate(ejtext)\n",
    "    jetext = request.form[\"jename\"]\n",
    "    if jetext ==\"\":\n",
    "     jeoutput =\"\"\n",
    "    else:    \n",
    "     jeoutput = jetranslate(jetext)\n",
    "    return render_template(\"index.html\",\\\n",
    "        title = \"日⇔英翻訳機(出力結果)\",\\\n",
    "        message = \"翻訳完了\",\\\n",
    "        ejmessage = \"英→日結果:　　\"+ejtext+\"　　→　　\"+ejoutput ,\\\n",
    "        jemessage = \"日→英結果:　　\"+jetext+\"　　→　　\"+jeoutput)\n",
    "        \n",
    "\n",
    "app.run()"
   ]
  },
  {
   "cell_type": "markdown",
   "metadata": {},
   "source": [
    "## test用"
   ]
  },
  {
   "cell_type": "code",
   "execution_count": null,
   "metadata": {
    "colab": {
     "base_uri": "https://localhost:8080/"
    },
    "id": "V3TCZakJGWnc",
    "outputId": "8f250005-97d7-4e82-a156-c1fbcc07b92a"
   },
   "outputs": [],
   "source": [
    "from flask import Flask\n",
    "\n",
    "app = Flask(__name__)\n",
    "\n",
    "@app.route('/')\n",
    "def hello():\n",
    "  return 'Hello World!'\n",
    "\n",
    "if __name__ == '__main__':\n",
    "  app.run()"
   ]
  }
 ],
 "metadata": {
  "accelerator": "GPU",
  "colab": {
   "name": "light_enja2.ipynb",
   "version": ""
  },
  "kernelspec": {
   "display_name": "Python 3",
   "language": "python",
   "name": "python3"
  },
  "language_info": {
   "codemirror_mode": {
    "name": "ipython",
    "version": 3
   },
   "file_extension": ".py",
   "mimetype": "text/x-python",
   "name": "python",
   "nbconvert_exporter": "python",
   "pygments_lexer": "ipython3",
   "version": "3.8.5"
  }
 },
 "nbformat": 4,
 "nbformat_minor": 1
}
