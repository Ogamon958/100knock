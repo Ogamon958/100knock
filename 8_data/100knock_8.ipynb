{
 "cells": [
  {
   "cell_type": "code",
   "execution_count": 1,
   "metadata": {
    "colab": {
     "base_uri": "https://localhost:8080/"
    },
    "id": "JfV5-mY1wz6z",
    "outputId": "d99f5e22-7175-4c28-fbb6-51feb5027c7b"
   },
   "outputs": [
    {
     "name": "stdout",
     "output_type": "stream",
     "text": [
      "--2021-12-20 01:44:59--  https://archive.ics.uci.edu/ml/machine-learning-databases/00359/NewsAggregatorDataset.zip\n",
      "Resolving archive.ics.uci.edu (archive.ics.uci.edu)... 128.195.10.252\n",
      "Connecting to archive.ics.uci.edu (archive.ics.uci.edu)|128.195.10.252|:443... connected.\n",
      "HTTP request sent, awaiting response... 200 OK\n",
      "Length: 29224203 (28M) [application/x-httpd-php]\n",
      "Saving to: ‘NewsAggregatorDataset.zip’\n",
      "\n",
      "NewsAggregatorDatas 100%[===================>]  27.87M  15.7MB/s    in 1.8s    \n",
      "\n",
      "2021-12-20 01:45:02 (15.7 MB/s) - ‘NewsAggregatorDataset.zip’ saved [29224203/29224203]\n",
      "\n",
      "Archive:  NewsAggregatorDataset.zip\n",
      "  inflating: 2pageSessions.csv       \n",
      "   creating: __MACOSX/\n",
      "  inflating: __MACOSX/._2pageSessions.csv  \n",
      "  inflating: newsCorpora.csv         \n",
      "  inflating: __MACOSX/._newsCorpora.csv  \n",
      "  inflating: readme.txt              \n",
      "  inflating: __MACOSX/._readme.txt   \n"
     ]
    }
   ],
   "source": [
    "#70\n",
    "#途中まで50と同じ\n",
    "\n",
    "#データダウンロード\n",
    "!wget https://archive.ics.uci.edu/ml/machine-learning-databases/00359/NewsAggregatorDataset.zip\n",
    "!unzip NewsAggregatorDataset.zip"
   ]
  },
  {
   "cell_type": "code",
   "execution_count": 2,
   "metadata": {
    "colab": {
     "base_uri": "https://localhost:8080/"
    },
    "id": "KKLkxv7GA3ga",
    "outputId": "779b7472-1d6d-4bc6-c0cb-1763f32b8ff9"
   },
   "outputs": [
    {
     "name": "stdout",
     "output_type": "stream",
     "text": [
      "SUMMARY: Dataset of references (urls) to news web pages\n",
      "\n",
      "DESCRIPTION: Dataset of references to news web pages collected from an online aggregator in the period from March 10 to August 10 of 2014. The resources are grouped into clusters that represent pages discussing the same news story. The dataset includes also references to web pages that point (has a link to) one of the news page in the collection.\n",
      "\n",
      "TAGS: web pages, news, aggregator, classification, clustering\n",
      "\n",
      "LICENSE: Public domain - Due to restrictions on content and use of the news sources, the corpus is limited to web references (urls) to web pages and does not include any text content. The references have been retrieved from the news aggregator through traditional web browsers. \n",
      "\n",
      "FILE ENCODING: UTF-8\n",
      "\n",
      "FORMAT: Tab delimited CSV files. \n",
      "\n",
      "DATA SHAPE AND STATS: 422937 news pages and divided up into:\n",
      "\n",
      "152746 \tnews of business category\n",
      "108465 \tnews of science and technology category\n",
      "115920 \tnews of business category\n",
      " 45615 \tnews of health category\n",
      "\n",
      "2076 clusters of similar news for entertainment category\n",
      "1789 clusters of similar news for science and technology category\n",
      "2019 clusters of similar news for business category\n",
      "1347 clusters of similar news for health category\n",
      "\n",
      "References to web pages containing a link to one news included in the collection are also included. They are represented as pairs of urls corresponding to 2-page browsing sessions. The collection includes 15516 2-page browsing sessions covering 946 distinct clusters divided up into:\n",
      "\n",
      "6091 2-page sessions for business category\n",
      "9425 2-page sessions for entertainment category\n",
      "\n",
      " \n",
      "\n",
      "CONTENT\n",
      "=======\n",
      "\n",
      "FILENAME #1: newsCorpora.csv (102.297.000 bytes)\n",
      "DESCRIPTION: News pages\n",
      "FORMAT: ID \\t TITLE \\t URL \\t PUBLISHER \\t CATEGORY \\t STORY \\t HOSTNAME \\t TIMESTAMP\n",
      "\n",
      "where:\n",
      "ID\t\tNumeric ID\n",
      "TITLE\t\tNews title \n",
      "URL\t\tUrl\n",
      "PUBLISHER\tPublisher name\n",
      "CATEGORY\tNews category (b = business, t = science and technology, e = entertainment, m = health)\n",
      "STORY\t\tAlphanumeric ID of the cluster that includes news about the same story\n",
      "HOSTNAME\tUrl hostname\n",
      "TIMESTAMP \tApproximate time the news was published, as the number of milliseconds since the epoch 00:00:00 GMT, January 1, 1970\n",
      "\n",
      "\n",
      "FILENAME #2: 2pageSessions.csv (3.049.986 bytes)\n",
      "DESCRIPTION: 2-page sessions\n",
      "FORMAT: STORY \\t HOSTNAME \\t CATEGORY \\t URL\n",
      "\n",
      "where:\n",
      "STORY\t\tAlphanumeric ID of the cluster that includes news about the same story\n",
      "HOSTNAME\tUrl hostname\n",
      "CATEGORY\tNews category (b = business, t = science and technology, e = entertainment, m = health)\n",
      "URL\t\tTwo space-delimited urls representing a browsing session\n"
     ]
    }
   ],
   "source": [
    "!cat ./readme.txt"
   ]
  },
  {
   "cell_type": "code",
   "execution_count": 3,
   "metadata": {
    "colab": {
     "base_uri": "https://localhost:8080/"
    },
    "id": "CMCS_njh-l7s",
    "outputId": "e20ad656-aef4-4415-8ce4-370a022faaeb"
   },
   "outputs": [
    {
     "name": "stdout",
     "output_type": "stream",
     "text": [
      "422937 ./newsCorpora.csv\n"
     ]
    }
   ],
   "source": [
    "# 行数の確認\n",
    "!wc -l ./newsCorpora.csv"
   ]
  },
  {
   "cell_type": "code",
   "execution_count": 4,
   "metadata": {
    "colab": {
     "base_uri": "https://localhost:8080/"
    },
    "id": "tdfMbnpu-qiL",
    "outputId": "871f21d5-2bca-40df-8d3d-29446198ed1d"
   },
   "outputs": [
    {
     "name": "stdout",
     "output_type": "stream",
     "text": [
      "1\tFed official says weak data caused by weather, should not slow taper\thttp://www.latimes.com/business/money/la-fi-mo-federal-reserve-plosser-stimulus-economy-20140310,0,1312750.story\\?track=rss\tLos Angeles Times\tb\tddUyU0VZz0BRneMioxUPQVP6sIxvM\twww.latimes.com\t1394470370698\n",
      "2\tFed's Charles Plosser sees high bar for change in pace of tapering\thttp://www.livemint.com/Politics/H2EvwJSK2VE6OF7iK1g3PP/Feds-Charles-Plosser-sees-high-bar-for-change-in-pace-of-ta.html\tLivemint\tb\tddUyU0VZz0BRneMioxUPQVP6sIxvM\twww.livemint.com\t1394470371207\n",
      "3\tUS open: Stocks fall after Fed official hints at accelerated tapering\thttp://www.ifamagazine.com/news/us-open-stocks-fall-after-fed-official-hints-at-accelerated-tapering-294436\tIFA Magazine\tb\tddUyU0VZz0BRneMioxUPQVP6sIxvM\twww.ifamagazine.com\t1394470371550\n",
      "4\tFed risks falling 'behind the curve', Charles Plosser says\thttp://www.ifamagazine.com/news/fed-risks-falling-behind-the-curve-charles-plosser-says-294430\tIFA Magazine\tb\tddUyU0VZz0BRneMioxUPQVP6sIxvM\twww.ifamagazine.com\t1394470371793\n",
      "5\tFed's Plosser: Nasty Weather Has Curbed Job Growth\thttp://www.moneynews.com/Economy/federal-reserve-charles-plosser-weather-job-growth/2014/03/10/id/557011\tMoneynews\tb\tddUyU0VZz0BRneMioxUPQVP6sIxvM\twww.moneynews.com\t1394470372027\n",
      "6\tPlosser: Fed May Have to Accelerate Tapering Pace\thttp://www.nasdaq.com/article/plosser-fed-may-have-to-accelerate-tapering-pace-20140310-00371\tNASDAQ\tb\tddUyU0VZz0BRneMioxUPQVP6sIxvM\twww.nasdaq.com\t1394470372212\n",
      "7\tFed's Plosser: Taper pace may be too slow\thttp://www.marketwatch.com/story/feds-plosser-taper-pace-may-be-too-slow-2014-03-10\\?reflink=MW_news_stmp\tMarketWatch\tb\tddUyU0VZz0BRneMioxUPQVP6sIxvM\twww.marketwatch.com\t1394470372405\n",
      "8\tFed's Plosser expects US unemployment to fall to 6.2% by the end of 2014\thttp://www.fxstreet.com/news/forex-news/article.aspx\\?storyid=23285020-b1b5-47ed-a8c4-96124bb91a39\tFXstreet.com\tb\tddUyU0VZz0BRneMioxUPQVP6sIxvM\twww.fxstreet.com\t1394470372615\n",
      "9\tUS jobs growth last month hit by weather:Fed President Charles Plosser\thttp://economictimes.indiatimes.com/news/international/business/us-jobs-growth-last-month-hit-by-weatherfed-president-charles-plosser/articleshow/31788000.cms\tEconomic Times\tb\tddUyU0VZz0BRneMioxUPQVP6sIxvM\teconomictimes.indiatimes.com\t1394470372792\n",
      "10\tECB unlikely to end sterilisation of SMP purchases - traders\thttp://www.iii.co.uk/news-opinion/reuters/news/152615\tInteractive Investor\tb\tdPhGU51DcrolUIMxbRm0InaHGA2XM\twww.iii.co.uk\t1394470501265\n",
      "11\tECB unlikely to end sterilization of SMP purchases: traders\thttp://in.reuters.com/article/2014/03/10/us-ecb-refi-poll-idINBREA290VH20140310\tReuters India\tb\tdPhGU51DcrolUIMxbRm0InaHGA2XM\tin.reuters.com\t1394470501410\n",
      "12\tEU's half-baked bank union could work\thttp://blogs.reuters.com/hugo-dixon/2014/03/10/eus-half-baked-bank-union-could-work/\tReuters UK \\(blog\\)\tb\tdPhGU51DcrolUIMxbRm0InaHGA2XM\tblogs.reuters.com\t1394470501587\n",
      "13\tEurope reaches crunch point on banking union\thttp://in.reuters.com/article/2014/03/10/eu-banks-resoluton-idINL6N0M71NJ20140310\tReuters\tb\tdPhGU51DcrolUIMxbRm0InaHGA2XM\tin.reuters.com\t1394470501755\n",
      "14\tECB FOCUS-Stronger euro drowns out ECB's message to keep rates low for  ...\thttp://in.reuters.com/article/2014/03/10/ecb-policy-idINL6N0M71K320140310\tReuters\tb\tdPhGU51DcrolUIMxbRm0InaHGA2XM\tin.reuters.com\t1394470501948\n",
      "15\tEU aims for deal on tackling failing banks\thttp://main.omanobserver.om/\\?p=63376\tOman Daily Observer\tb\tdPhGU51DcrolUIMxbRm0InaHGA2XM\tmain.omanobserver.om\t1394470502141\n"
     ]
    }
   ],
   "source": [
    "# 先頭15行の確認\n",
    "!head -15 ./newsCorpora.csv"
   ]
  },
  {
   "cell_type": "code",
   "execution_count": 5,
   "metadata": {
    "colab": {
     "base_uri": "https://localhost:8080/"
    },
    "id": "LzEY-tUx-xQR",
    "outputId": "39173f95-6a20-468e-a84a-10886f7608cf"
   },
   "outputs": [
    {
     "name": "stdout",
     "output_type": "stream",
     "text": [
      "422923\tBritish Ebola sufferer gets new drug\thttp://www.echo.net.au/2014/08/british-ebola-sufferer-gets-new-drug/\tEchonetdaily\tm\tdhhnSHVoyA7ENBM3boDX_D_-3PV6M\twww.echo.net.au\t1409228456773\n",
      "422924\tAFDB Boss Says Ebola Infected Countries May Lose1.5% GDP\thttp://leadership.ng/business/382219/afdb-boss-says-ebola-infected-countries-may-lose1-5-gdp\tLeadership Newspapers\tm\tdhhnSHVoyA7ENBM3boDX_D_-3PV6M\tleadership.ng\t1409228457129\n",
      "422925\tCincinnati Children's to rebuild boy's throat using his rib (Video)\thttp://www.bizjournals.com/cincinnati/news/2014/08/27/cincinnati-children-s-to-rebuild-boy-s-throat.html\tCincinnati Business Courier\tm\tdpcLMoJD69UYMXMxaoEFnWql9YjQM\twww.bizjournals.com\t1409229187092\n",
      "422926\tCincinnati doctors use child's rib to rebuild his throat\thttp://www.jrn.com/kgun9/now-trending/Cincinnati-doctors-use-childs-rib-to-rebuild-his-throat-272896791.html\tKGUN 9\tm\tdpcLMoJD69UYMXMxaoEFnWql9YjQM\twww.jrn.com\t1409229187393\n",
      "422927\tCincinnati Children's surgeons rebuild throat of 4-year-old who swallowed battery\thttp://www.kptv.com/story/26378648/surgeons-remove-4-year-olds-rib-to-rebuild-damaged-throat\tKPTV.com\tm\tdpcLMoJD69UYMXMxaoEFnWql9YjQM\twww.kptv.com\t1409229187741\n",
      "422928\tSurgeons remove 4-year-old's rib to rebuild damaged throat - WNEM TV 5\thttp://www.wnem.com/story/26378648/surgeons-remove-4-year-olds-rib-to-rebuild-damaged-throat\tWNEM Saginaw\tm\tdpcLMoJD69UYMXMxaoEFnWql9YjQM\twww.wnem.com\t1409229188173\n",
      "422929\tSurgery update for boy who swallowed battery\thttp://www.local12.com/news/features/top-stories/stories/surgery-update-boy-swallowed-battery-16741.shtml\tWKRC TV Cincinnati\tm\tdpcLMoJD69UYMXMxaoEFnWql9YjQM\twww.local12.com\t1409229188577\n",
      "422930\tBoy who swallowed battery headed for surgery\thttp://www.kgns.tv/health/headlines/Boy-who-swallowed-battery-headed-for-surgery-272903281.html\tKGNS.tv\tm\tdpcLMoJD69UYMXMxaoEFnWql9YjQM\twww.kgns.tv\t1409229188921\n",
      "422931\tOhio Boy's Throat Rebuilt After Being Burned By Battery\thttp://www.keyetv.com/news/features/top-stories/stories/ohio-boys-throat-rebuilt-after-being-burned-battery-20397.shtml\tKEYE TV\tm\tdpcLMoJD69UYMXMxaoEFnWql9YjQM\twww.keyetv.com\t1409229189229\n",
      "422932\tCincinnati Children's surgeons to rebuild throat of 4-year-old who swallowed  ...\thttp://www.wsmv.com/story/26378648/surgeons-removed-4-year-olds-rib-to-rebuild-his-damaged-throat\tWSMV Nashville\tm\tdpcLMoJD69UYMXMxaoEFnWql9YjQM\twww.wsmv.com\t1409229189743\n",
      "422933\tSurgeons to remove 4-year-old's rib to rebuild damaged throat - CBS 3  ...\thttp://www.cbs3springfield.com/story/26378648/surgeons-removed-4-year-olds-rib-to-rebuild-his-damaged-throat\tWSHM-TV\tm\tdpcLMoJD69UYMXMxaoEFnWql9YjQM\twww.cbs3springfield.com\t1409229190251\n",
      "422934\tBoy to have surgery on esophagus after battery burns hole in throat\thttp://www.wlwt.com/news/boy-to-have-surgery-on-esophagus-after-battery-burns-hole-in-throat/27741396\tWLWT Cincinnati\tm\tdpcLMoJD69UYMXMxaoEFnWql9YjQM\twww.wlwt.com\t1409229190508\n",
      "422935\tChild who swallowed battery to have reconstructive surgery at Cincinnati  ...\thttp://www.newsnet5.com/news/local-news/child-who-swallowed-battery-to-have-reconstructive-surgery-at-cincinnati-childrens-hospital\tNewsNet5.com\tm\tdpcLMoJD69UYMXMxaoEFnWql9YjQM\twww.newsnet5.com\t1409229190771\n",
      "422936\tPhoenix boy undergoes surgery to repair throat damage - WFSB 3 Connecticut\thttp://www.wfsb.com/story/26368078/phoenix-boy-undergoes-surgery-to-repair-throat-damage-from-button-battery\tWFSB\tm\tdpcLMoJD69UYMXMxaoEFnWql9YjQM\twww.wfsb.com\t1409229191071\n",
      "422937\tPhoenix boy undergoes surgery to repair throat damage - CBS 3 Springfield  ...\thttp://www.cbs3springfield.com/story/26368078/phoenix-boy-undergoes-surgery-to-repair-throat-damage-from-button-battery\tWSHM-TV\tm\tdpcLMoJD69UYMXMxaoEFnWql9YjQM\twww.cbs3springfield.com\t1409229191565\n"
     ]
    }
   ],
   "source": [
    "  #最後15行の確認\n",
    "  !tail -15 ./newsCorpora.csv"
   ]
  },
  {
   "cell_type": "code",
   "execution_count": 6,
   "metadata": {
    "id": "p-dPb-zAKSbE"
   },
   "outputs": [],
   "source": [
    "# 読込時のエラー回避のためダブルクォーテーションをシングルクォーテーションに置換\n",
    "!sed -e 's/\"/'\\''/g' ./newsCorpora.csv > ./newsCorpora_re.csv"
   ]
  },
  {
   "cell_type": "code",
   "execution_count": 7,
   "metadata": {
    "colab": {
     "base_uri": "https://localhost:8080/"
    },
    "id": "Kp7hXril-95V",
    "outputId": "c47bf413-ef4d-4d4d-e546-f27caf72bd27"
   },
   "outputs": [
    {
     "name": "stdout",
     "output_type": "stream",
     "text": [
      "【学習データ】\n",
      "b    4501\n",
      "e    4235\n",
      "t    1220\n",
      "m     728\n",
      "Name: CATEGORY, dtype: int64\n",
      "【検証データ】\n",
      "b    563\n",
      "e    529\n",
      "t    153\n",
      "m     91\n",
      "Name: CATEGORY, dtype: int64\n",
      "【評価データ】\n",
      "b    563\n",
      "e    530\n",
      "t    152\n",
      "m     91\n",
      "Name: CATEGORY, dtype: int64\n"
     ]
    }
   ],
   "source": [
    "import pandas as pd\n",
    "from sklearn.model_selection import train_test_split\n",
    "\n",
    "# データの読込\n",
    "df = pd.read_csv('./newsCorpora_re.csv', header=None, sep='\\t', names=['ID', 'TITLE', 'URL', 'PUBLISHER', 'CATEGORY', 'STORY', 'HOSTNAME', 'TIMESTAMP']) #具体例からこのように分ける\n",
    "\n",
    "# データの抽出\n",
    "df = df.loc[df['PUBLISHER'].isin(['Reuters', 'Huffington Post', 'Businessweek', 'Contactmusic.com', 'Daily Mail']), ['TITLE', 'CATEGORY']] #publisherが”Reuters”, “Huffington Post”, “Businessweek”, “Contactmusic.com”, “Daily Mail”であるものの、そのカテゴリ名と記事見出しを抽出 isin https://vector-ium.com/pandas-isin/  loc(列ラベル) https://note.nkmk.me/python-pandas-at-iat-loc-iloc/\n",
    "\n",
    "# データの分割\n",
    "train, valid_test = train_test_split(df, test_size=0.2, shuffle=True, random_state=42, stratify=df['CATEGORY']) #学習データ80%とその他20%に分ける train_test_splitについて https://qiita.com/KyleKatarn/items/2afa6787f04f28e2cd2d\n",
    "valid, test = train_test_split(valid_test, test_size=0.5, shuffle=True, random_state=42, stratify=valid_test['CATEGORY']) #その他に分けられたデータを半分ずつ検証データと評価データに分類(全体から見ると10%,10%)\n",
    "\n",
    "# データの保存\n",
    "train.to_csv('./train.txt', sep='\\t', index=False)\n",
    "valid.to_csv('./valid.txt', sep='\\t', index=False)\n",
    "test.to_csv('./test.txt', sep='\\t', index=False)\n",
    "\n",
    "# 事例数の確認\n",
    "print('【学習データ】')\n",
    "print(train['CATEGORY'].value_counts())\n",
    "print('【検証データ】')\n",
    "print(valid['CATEGORY'].value_counts())\n",
    "print('【評価データ】')\n",
    "print(test['CATEGORY'].value_counts())"
   ]
  },
  {
   "cell_type": "markdown",
   "metadata": {
    "id": "4COs391MWR_g"
   },
   "source": [
    "b: ビジネス → 0 \\\n",
    "e: エンターテイメント → 2 \\\n",
    "t: 科学技術 → 1 \\\n",
    "m: 健康 → 3"
   ]
  },
  {
   "cell_type": "code",
   "execution_count": 8,
   "metadata": {
    "colab": {
     "base_uri": "https://localhost:8080/"
    },
    "id": "Lv6U3WeA1Ecr",
    "outputId": "c4995f12-8432-4ba3-965f-b0ba66b6ebed",
    "tags": []
   },
   "outputs": [
    {
     "name": "stdout",
     "output_type": "stream",
     "text": [
      "TITLE\tCATEGORY\n",
      "UPDATE 1-Sandwich chain Quiznos files for bankruptcy protection\tb\n",
      "Iraq concerns lift top-rated euro zone bonds but Fed limits gains\tb\n",
      "China Manufacturing Gauge Rises in Stabilization Sign: Economy\tb\n",
      "Crucifixion: A New Way to Think About Jesus' Death\te\n",
      "Tracy Morgan still critical but 'doing better' following deadly crash which killed his  ...\te\n",
      "FOREX-Dollar off to slow start in event-packed week\tb\n",
      "Alstom should be a good investment for France, says CEO Kron\tb\n",
      "Diabetes-Related Problems Have Decreased Over Last 20 Years\tm\n",
      "2 Cases Of Ebola Confirmed In Liberia\tm\n",
      "'You Are Not Pregnant. We're Pregnant!' Mila Kunis Tells Off Overeager Fathers  ...\te\n",
      "Home > Justin Bieber > Justin Bieber Sends Selena Gomez $10k Flowers?\te\n",
      "Data storage firm Box files for US IPO of about $250 million\tb\n",
      "Cocaine use in U.S. cut in HALF while marijuana use jumps 30 per cent\tm\n",
      "UPDATE 1-HKMA intervenes as deals, China optimism spur Hong Kong dollar  ...\tb\n"
     ]
    }
   ],
   "source": [
    "#確認\n",
    "!head -15 ./train.txt"
   ]
  },
  {
   "cell_type": "code",
   "execution_count": 9,
   "metadata": {
    "colab": {
     "base_uri": "https://localhost:8080/"
    },
    "id": "VlJSAaXAUgnx",
    "outputId": "7b8267f8-caa7-404f-bedf-f848cee3d85b"
   },
   "outputs": [
    {
     "name": "stdout",
     "output_type": "stream",
     "text": [
      "--2021-12-20 01:45:10--  https://s3.amazonaws.com/dl4j-distribution/GoogleNews-vectors-negative300.bin.gz\n",
      "Resolving s3.amazonaws.com (s3.amazonaws.com)... 54.231.139.8\n",
      "Connecting to s3.amazonaws.com (s3.amazonaws.com)|54.231.139.8|:443... connected.\n",
      "HTTP request sent, awaiting response... 200 OK\n",
      "Length: 1647046227 (1.5G) [application/x-gzip]\n",
      "Saving to: ‘GoogleNews-vectors-negative300.bin.gz’\n",
      "\n",
      "GoogleNews-vectors- 100%[===================>]   1.53G  17.8MB/s    in 3m 32s  \n",
      "\n",
      "2021-12-20 01:48:43 (7.40 MB/s) - ‘GoogleNews-vectors-negative300.bin.gz’ saved [1647046227/1647046227]\n",
      "\n"
     ]
    }
   ],
   "source": [
    "#ここから60と同様\n",
    "#問題の指定ページからダウンロードするとエラーが発生するので、https://ja.stackoverflow.com/questions/78347/not-a-gzipped-file-b%E3%81%AE%E3%82%A8%E3%83%A9%E3%83%BC を参考にダウンロードする\n",
    "\n",
    "!wget https://s3.amazonaws.com/dl4j-distribution/GoogleNews-vectors-negative300.bin.gz"
   ]
  },
  {
   "cell_type": "code",
   "execution_count": 10,
   "metadata": {
    "id": "YS1n7uy2aYQc"
   },
   "outputs": [],
   "source": [
    "from gensim.models import KeyedVectors\n",
    "\n",
    "model = KeyedVectors.load_word2vec_format('./GoogleNews-vectors-negative300.bin.gz', binary=True)"
   ]
  },
  {
   "cell_type": "code",
   "execution_count": 11,
   "metadata": {
    "id": "ZCZlCuqWS0GF"
   },
   "outputs": [],
   "source": [
    "#ここから70新規コード\n",
    "import string\n",
    "import torch #pytorchを利用\n",
    "\n",
    "def transform_w2v(text):\n",
    "  table = str.maketrans(string.punctuation, ' '*len(string.punctuation)) #記号をスペースに変換するテーブル(string.punctuationは英数字以外のアスキー文字のこと)作成\n",
    "  words = text.translate(table).split()  # 記号をスペースに置換後、スペースで分割してリスト化\n",
    "  vec = [model[word] for word in words if word in model]  # 1語ずつベクトル化\n",
    "\n",
    "  return torch.tensor(sum(vec) / len(vec))  # 平均ベクトルをTensor型に変換して出力"
   ]
  },
  {
   "cell_type": "code",
   "execution_count": 12,
   "metadata": {
    "colab": {
     "base_uri": "https://localhost:8080/"
    },
    "id": "P3TGDoDjS06v",
    "outputId": "f45dbe5a-143d-4f7e-c3e2-029f07e4ef3c"
   },
   "outputs": [
    {
     "name": "stdout",
     "output_type": "stream",
     "text": [
      "torch.Size([10684, 300])\n",
      "tensor([[-0.0295,  0.0653, -0.0597,  ..., -0.0425,  0.0027,  0.0337],\n",
      "        [-0.0255,  0.0341,  0.0286,  ...,  0.0039,  0.0291, -0.0840],\n",
      "        [ 0.0564, -0.0839, -0.1227,  ...,  0.0672,  0.1786, -0.1000],\n",
      "        ...,\n",
      "        [ 0.1737, -0.1069, -0.1205,  ..., -0.0406,  0.1069, -0.0029],\n",
      "        [-0.0738, -0.0352, -0.0405,  ...,  0.0280,  0.0646,  0.0919],\n",
      "        [ 0.0394,  0.0317,  0.0094,  ...,  0.0160,  0.0709,  0.0104]])\n"
     ]
    }
   ],
   "source": [
    "# 特徴ベクトルの作成\n",
    "X_train = torch.stack([transform_w2v(text) for text in train['TITLE']])\n",
    "X_valid = torch.stack([transform_w2v(text) for text in valid['TITLE']])\n",
    "X_test = torch.stack([transform_w2v(text) for text in test['TITLE']])\n",
    "\n",
    "#確認\n",
    "print(X_train.size())\n",
    "print(X_train)"
   ]
  },
  {
   "cell_type": "code",
   "execution_count": 13,
   "metadata": {
    "colab": {
     "base_uri": "https://localhost:8080/"
    },
    "id": "innzO0ilS2iA",
    "outputId": "58c5bdd1-4a1b-48b8-eea4-c583492d0dff"
   },
   "outputs": [
    {
     "name": "stdout",
     "output_type": "stream",
     "text": [
      "torch.Size([10684])\n",
      "tensor([0, 0, 0,  ..., 2, 0, 0])\n"
     ]
    }
   ],
   "source": [
    "# ラベルベクトルの作成\n",
    "category_dict = {'b': 0, 't': 1, 'e':2, 'm':3}\n",
    "y_train = torch.tensor(train['CATEGORY'].map(lambda x: category_dict[x]).values) #mapについて（イテレータを利用） https://note.nkmk.me/python-map-usage/\n",
    "y_valid = torch.tensor(valid['CATEGORY'].map(lambda x: category_dict[x]).values)\n",
    "y_test = torch.tensor(test['CATEGORY'].map(lambda x: category_dict[x]).values)\n",
    "\n",
    "#確認\n",
    "print(y_train.size())\n",
    "print(y_train)"
   ]
  },
  {
   "cell_type": "code",
   "execution_count": 14,
   "metadata": {
    "id": "sQLiU2dIS57u"
   },
   "outputs": [],
   "source": [
    "# 保存\n",
    "torch.save(X_train, 'X_train.pt')\n",
    "torch.save(X_valid, 'X_valid.pt')\n",
    "torch.save(X_test, 'X_test.pt')\n",
    "torch.save(y_train, 'y_train.pt')\n",
    "torch.save(y_valid, 'y_valid.pt')\n",
    "torch.save(y_test, 'y_test.pt')"
   ]
  },
  {
   "cell_type": "code",
   "execution_count": 15,
   "metadata": {
    "id": "RNfAlxyVSC-8"
   },
   "outputs": [],
   "source": [
    "#71\n",
    "from torch import nn #pytorchのニューラルネットワークを使う\n",
    "\n",
    "class SLPNet(nn.Module): #継承する 単層ニューラルネットーワーク生成\n",
    "  def __init__(self, input_size, output_size):\n",
    "    super().__init__() #super.__init__について https://qiita.com/Anaakikutsushit/items/c67d4edb0c01a97f3130\n",
    "    self.fc = nn.Linear(input_size, output_size, bias=False)\n",
    "    nn.init.normal_(self.fc.weight, 0.0, 1.0)  # 正規乱数で重みをランダムに初期化\n",
    "\n",
    "  def forward(self, x):\n",
    "    x = self.fc(x)\n",
    "    return x"
   ]
  },
  {
   "cell_type": "code",
   "execution_count": 16,
   "metadata": {
    "colab": {
     "base_uri": "https://localhost:8080/"
    },
    "id": "pHLTU5adSEXC",
    "outputId": "f36d6c02-449a-48cc-a01d-9c31eb83ef70"
   },
   "outputs": [
    {
     "name": "stdout",
     "output_type": "stream",
     "text": [
      "tensor([[0.0094, 0.7054, 0.0413, 0.2439]], grad_fn=<SoftmaxBackward>)\n"
     ]
    }
   ],
   "source": [
    "model = SLPNet(300, 4)  # 単層ニューラルネットワークの初期化(300次元の単語ベクトルの4カテゴリ分類)\n",
    "y_hat_1 = torch.softmax(model(X_train[:1]), dim=-1) #softmax関数\n",
    "print(y_hat_1) #確認"
   ]
  },
  {
   "cell_type": "code",
   "execution_count": 17,
   "metadata": {
    "colab": {
     "base_uri": "https://localhost:8080/"
    },
    "id": "eb0P2_dOSHSp",
    "outputId": "a0c22926-050c-4aed-ad01-5b861f0a2da9"
   },
   "outputs": [
    {
     "name": "stdout",
     "output_type": "stream",
     "text": [
      "tensor([[0.0094, 0.7054, 0.0413, 0.2439],\n",
      "        [0.1124, 0.2267, 0.5051, 0.1557],\n",
      "        [0.1280, 0.0338, 0.1742, 0.6639],\n",
      "        [0.4068, 0.0418, 0.0252, 0.5261]], grad_fn=<SoftmaxBackward>)\n"
     ]
    }
   ],
   "source": [
    "Y_hat = torch.softmax(model.forward(X_train[:4]), dim=-1)\n",
    "print(Y_hat) #確認"
   ]
  },
  {
   "cell_type": "code",
   "execution_count": 18,
   "metadata": {
    "colab": {
     "base_uri": "https://localhost:8080/"
    },
    "id": "UgNG14WSTNA0",
    "outputId": "bfca9ccd-c0b1-462a-a926-1dcd8acc80d5"
   },
   "outputs": [
    {
     "name": "stdout",
     "output_type": "stream",
     "text": [
      "loss: 4.6682\n",
      "gradient: tensor([[ 0.0292, -0.0647,  0.0591,  ...,  0.0421, -0.0026, -0.0334],\n",
      "        [-0.0208,  0.0461, -0.0421,  ..., -0.0300,  0.0019,  0.0238],\n",
      "        [-0.0012,  0.0027, -0.0025,  ..., -0.0018,  0.0001,  0.0014],\n",
      "        [-0.0072,  0.0159, -0.0146,  ..., -0.0104,  0.0007,  0.0082]])\n"
     ]
    }
   ],
   "source": [
    "#72\n",
    "criterion = nn.CrossEntropyLoss() # https://qiita.com/ground0state/items/8933f9ef54d6cd005a69 CrossEntropyloss について\n",
    "l_1 = criterion(model(X_train[:1]), y_train[:1])  # 入力ベクトルはsoftmax前の値, softmax前の事例がラベル通りに分類される確率のエントロピーを求めることになる\n",
    "model.zero_grad()  # 勾配をゼロで初期化\n",
    "l_1.backward()  # 勾配の計算を行う\n",
    "print(f'loss: {l_1:.4f}')\n",
    "print(f'gradient: {model.fc.weight.grad}')"
   ]
  },
  {
   "cell_type": "code",
   "execution_count": 19,
   "metadata": {
    "colab": {
     "base_uri": "https://localhost:8080/"
    },
    "id": "sroK8ThvTTXG",
    "outputId": "4c3f1850-d7c1-4ff9-e09a-6b244413cf6c"
   },
   "outputs": [
    {
     "name": "stdout",
     "output_type": "stream",
     "text": [
      "loss: 3.1471\n",
      "gradient: tensor([[ 1.3128e-02, -8.5480e-03,  4.1308e-02,  ..., -1.1746e-02,\n",
      "         -4.6994e-02,  3.9755e-02],\n",
      "        [-4.8839e-03,  1.2420e-02, -9.3085e-03,  ..., -7.3989e-03,\n",
      "          3.5296e-03,  1.1197e-03],\n",
      "        [-3.0932e-02,  8.7503e-03, -1.7052e-02,  ...,  1.9153e-02,\n",
      "          1.3770e-02, -3.2958e-02],\n",
      "        [ 2.2689e-02, -1.2622e-02, -1.4947e-02,  ..., -8.2110e-06,\n",
      "          2.9694e-02, -7.9172e-03]])\n"
     ]
    }
   ],
   "source": [
    "l = criterion(model(X_train[:4]), y_train[:4]) #集合事例に対しても同様に行う\n",
    "model.zero_grad()\n",
    "l.backward()\n",
    "print(f'loss: {l:.4f}')\n",
    "print(f'gradient: {model.fc.weight.grad}')"
   ]
  },
  {
   "cell_type": "code",
   "execution_count": 20,
   "metadata": {
    "id": "ho-OXNnNT0Ua"
   },
   "outputs": [],
   "source": [
    "#73 https://mathwords.net/sgd 確率的勾配降下法\n",
    "from torch.utils.data import Dataset #Datasetは特徴ベクトルとラベルベクトルを合わせて保持できる型である.\n",
    "\n",
    "class CreateDataset(Dataset): #継承する\n",
    "  def __init__(self, X, y):  # datasetの構成要素を指定\n",
    "    self.X = X\n",
    "    self.y = y\n",
    "\n",
    "  def __len__(self):  # len(dataset)で返す値を指定できるようにする\n",
    "    return len(self.y)\n",
    "\n",
    "  def __getitem__(self, idx):  # dataset[idx]で返す値を指定できるようにする\n",
    "    return [self.X[idx], self.y[idx]]"
   ]
  },
  {
   "cell_type": "code",
   "execution_count": 21,
   "metadata": {
    "id": "MGwwZmJJT_Wa"
   },
   "outputs": [],
   "source": [
    "from torch.utils.data import DataLoader #https://pytorch.org/docs/stable/data.html torch.utils.dataについて\n",
    "\n",
    "# Datasetの作成\n",
    "dataset_train = CreateDataset(X_train, y_train)\n",
    "dataset_valid = CreateDataset(X_valid, y_valid)\n",
    "dataset_test = CreateDataset(X_test, y_test)\n",
    "\n",
    "# Dataloaderの作成\n",
    "dataloader_train = DataLoader(dataset_train, batch_size=1, shuffle=True) #train時のデータ読み込み順に依存しないようにshuffleをTrueにする.\n",
    "dataloader_valid = DataLoader(dataset_valid, batch_size=len(dataset_valid), shuffle=False)\n",
    "dataloader_test = DataLoader(dataset_test, batch_size=len(dataset_test), shuffle=False)"
   ]
  },
  {
   "cell_type": "code",
   "execution_count": 22,
   "metadata": {
    "colab": {
     "base_uri": "https://localhost:8080/"
    },
    "id": "HKejswmWUCWN",
    "outputId": "798edbfb-9d3e-495c-f30f-4e0aa19f9608"
   },
   "outputs": [
    {
     "name": "stdout",
     "output_type": "stream",
     "text": [
      "epoch: 1, loss_train: 0.4799, loss_valid: 0.3274\n",
      "epoch: 2, loss_train: 0.3217, loss_valid: 0.2911\n",
      "epoch: 3, loss_train: 0.2921, loss_valid: 0.2741\n",
      "epoch: 4, loss_train: 0.2763, loss_valid: 0.2679\n",
      "epoch: 5, loss_train: 0.2656, loss_valid: 0.2628\n",
      "epoch: 6, loss_train: 0.2574, loss_valid: 0.2614\n",
      "epoch: 7, loss_train: 0.2519, loss_valid: 0.2580\n",
      "epoch: 8, loss_train: 0.2471, loss_valid: 0.2591\n",
      "epoch: 9, loss_train: 0.2441, loss_valid: 0.2575\n",
      "epoch: 10, loss_train: 0.2411, loss_valid: 0.2678\n",
      "epoch: 11, loss_train: 0.2382, loss_valid: 0.2624\n",
      "epoch: 12, loss_train: 0.2358, loss_valid: 0.2598\n",
      "epoch: 13, loss_train: 0.2343, loss_valid: 0.2567\n",
      "epoch: 14, loss_train: 0.2334, loss_valid: 0.2620\n",
      "epoch: 15, loss_train: 0.2311, loss_valid: 0.2610\n",
      "epoch: 16, loss_train: 0.2299, loss_valid: 0.2596\n",
      "epoch: 17, loss_train: 0.2284, loss_valid: 0.2664\n",
      "epoch: 18, loss_train: 0.2286, loss_valid: 0.2567\n",
      "epoch: 19, loss_train: 0.2274, loss_valid: 0.2584\n",
      "epoch: 20, loss_train: 0.2266, loss_valid: 0.2611\n",
      "epoch: 21, loss_train: 0.2254, loss_valid: 0.2610\n",
      "epoch: 22, loss_train: 0.2250, loss_valid: 0.2623\n",
      "epoch: 23, loss_train: 0.2238, loss_valid: 0.2616\n",
      "epoch: 24, loss_train: 0.2236, loss_valid: 0.2629\n",
      "epoch: 25, loss_train: 0.2235, loss_valid: 0.2647\n",
      "epoch: 26, loss_train: 0.2230, loss_valid: 0.2638\n",
      "epoch: 27, loss_train: 0.2218, loss_valid: 0.2619\n",
      "epoch: 28, loss_train: 0.2214, loss_valid: 0.2645\n",
      "epoch: 29, loss_train: 0.2218, loss_valid: 0.2643\n",
      "epoch: 30, loss_train: 0.2210, loss_valid: 0.2672\n"
     ]
    }
   ],
   "source": [
    "# モデルの定義\n",
    "model = SLPNet(300, 4)\n",
    "\n",
    "# 損失関数の定義\n",
    "criterion = nn.CrossEntropyLoss()\n",
    "\n",
    "# オプティマイザの定義(SGDを用いる) https://rightcode.co.jp/blog/information-technology/torch-optim-optimizer-compare-and-verify-update-process-and-performance-of-optimization-methods\n",
    "optimizer = torch.optim.SGD(model.parameters(), lr=0.1) #学習率は0.1とする\n",
    "\n",
    "# 学習\n",
    "num_epochs = 30 #30エポックで終了\n",
    "for epoch in range(num_epochs):\n",
    "  # 訓練モードに設定\n",
    "  model.train()\n",
    "  loss_train = 0.0\n",
    "  for i, (inputs, labels) in enumerate(dataloader_train):\n",
    "    # 勾配をゼロで初期化\n",
    "    optimizer.zero_grad()\n",
    "\n",
    "    outputs = model(inputs) #順伝播\n",
    "    loss = criterion(outputs, labels) #誤差の更新\n",
    "    loss.backward() #逆誤差伝播\n",
    "    optimizer.step() #重み更新\n",
    "\n",
    "    # 損失を記録\n",
    "    loss_train += loss.item()\n",
    "\n",
    "  # バッチ単位の平均損失計算\n",
    "  loss_train = loss_train / i\n",
    "\n",
    "  # 検証データの損失計算\n",
    "  model.eval() \n",
    "  with torch.no_grad():\n",
    "    inputs, labels = next(iter(dataloader_valid))\n",
    "    outputs = model(inputs)\n",
    "    loss_valid = criterion(outputs, labels)\n",
    "\n",
    "  # ログを出力\n",
    "  print(f'epoch: {epoch + 1}, loss_train: {loss_train:.4f}, loss_valid: {loss_valid:.4f}')  "
   ]
  },
  {
   "cell_type": "code",
   "execution_count": 23,
   "metadata": {
    "id": "uhpThwbaUFO6"
   },
   "outputs": [],
   "source": [
    "#74\n",
    "def calculate_accuracy(model, loader):\n",
    "  model.eval()\n",
    "  total = 0\n",
    "  correct = 0\n",
    "  with torch.no_grad():\n",
    "    for inputs, labels in loader:\n",
    "      outputs = model(inputs)\n",
    "      pred = torch.argmax(outputs, dim=-1) #もっとも確率の高いものをその事例の予測ラベルとする\n",
    "      total += len(inputs) #事例の総数\n",
    "      correct += (pred == labels).sum().item() #予測ラベルと本来のラベルが一致しているものを正解とする\n",
    "\n",
    "  return correct / total"
   ]
  },
  {
   "cell_type": "code",
   "execution_count": 24,
   "metadata": {
    "colab": {
     "base_uri": "https://localhost:8080/"
    },
    "id": "lapJcw6yQ-5r",
    "outputId": "5815576c-e687-4366-dc36-5279bc35ceae"
   },
   "outputs": [
    {
     "name": "stdout",
     "output_type": "stream",
     "text": [
      "accuracy of train：0.925\n",
      "accuracy of test ：0.902\n"
     ]
    }
   ],
   "source": [
    "acc_train = calculate_accuracy(model, dataloader_train)\n",
    "acc_test = calculate_accuracy(model, dataloader_test)\n",
    "print(f'accuracy of train：{acc_train:.3f}')\n",
    "print(f'accuracy of test ：{acc_test:.3f}')"
   ]
  },
  {
   "cell_type": "code",
   "execution_count": 25,
   "metadata": {
    "id": "RkjbPbuNRAYu"
   },
   "outputs": [],
   "source": [
    "#75 73と74で作ったものを統合する\n",
    "def calculate_loss_and_accuracy(model, criterion, loader):\n",
    "  model.eval()\n",
    "  loss = 0.0\n",
    "  total = 0\n",
    "  correct = 0\n",
    "  with torch.no_grad():\n",
    "    for inputs, labels in loader:\n",
    "      outputs = model(inputs)\n",
    "      loss += criterion(outputs, labels).item()\n",
    "      pred = torch.argmax(outputs, dim=-1)\n",
    "      total += len(inputs)\n",
    "      correct += (pred == labels).sum().item()\n",
    "\n",
    "  return loss / len(loader), correct / total"
   ]
  },
  {
   "cell_type": "code",
   "execution_count": 26,
   "metadata": {
    "colab": {
     "base_uri": "https://localhost:8080/"
    },
    "id": "U7V2zJ7VRCka",
    "outputId": "6015b2ce-47d4-4fd0-aa6d-9e9b47aa8f3a"
   },
   "outputs": [
    {
     "name": "stdout",
     "output_type": "stream",
     "text": [
      "epoch: 1, loss_train: 0.3365, accuracy_train: 0.8814, loss_valid: 0.3276, accuracy_valid: 0.8817\n",
      "epoch: 2, loss_train: 0.2947, accuracy_train: 0.8987, loss_valid: 0.2908, accuracy_valid: 0.8975\n",
      "epoch: 3, loss_train: 0.2712, accuracy_train: 0.9070, loss_valid: 0.2737, accuracy_valid: 0.9012\n",
      "epoch: 4, loss_train: 0.2651, accuracy_train: 0.9082, loss_valid: 0.2714, accuracy_valid: 0.9049\n",
      "epoch: 5, loss_train: 0.2518, accuracy_train: 0.9131, loss_valid: 0.2615, accuracy_valid: 0.9079\n",
      "epoch: 6, loss_train: 0.2463, accuracy_train: 0.9164, loss_valid: 0.2603, accuracy_valid: 0.9087\n",
      "epoch: 7, loss_train: 0.2424, accuracy_train: 0.9173, loss_valid: 0.2642, accuracy_valid: 0.9064\n",
      "epoch: 8, loss_train: 0.2394, accuracy_train: 0.9163, loss_valid: 0.2612, accuracy_valid: 0.9072\n",
      "epoch: 9, loss_train: 0.2352, accuracy_train: 0.9187, loss_valid: 0.2606, accuracy_valid: 0.9049\n",
      "epoch: 10, loss_train: 0.2309, accuracy_train: 0.9207, loss_valid: 0.2560, accuracy_valid: 0.9079\n",
      "epoch: 11, loss_train: 0.2308, accuracy_train: 0.9184, loss_valid: 0.2597, accuracy_valid: 0.9072\n",
      "epoch: 12, loss_train: 0.2339, accuracy_train: 0.9225, loss_valid: 0.2631, accuracy_valid: 0.9064\n",
      "epoch: 13, loss_train: 0.2253, accuracy_train: 0.9242, loss_valid: 0.2556, accuracy_valid: 0.9079\n",
      "epoch: 14, loss_train: 0.2270, accuracy_train: 0.9227, loss_valid: 0.2596, accuracy_valid: 0.9124\n",
      "epoch: 15, loss_train: 0.2231, accuracy_train: 0.9253, loss_valid: 0.2559, accuracy_valid: 0.9102\n",
      "epoch: 16, loss_train: 0.2213, accuracy_train: 0.9247, loss_valid: 0.2568, accuracy_valid: 0.9079\n",
      "epoch: 17, loss_train: 0.2224, accuracy_train: 0.9251, loss_valid: 0.2576, accuracy_valid: 0.9072\n",
      "epoch: 18, loss_train: 0.2224, accuracy_train: 0.9230, loss_valid: 0.2609, accuracy_valid: 0.9087\n",
      "epoch: 19, loss_train: 0.2206, accuracy_train: 0.9230, loss_valid: 0.2589, accuracy_valid: 0.9034\n",
      "epoch: 20, loss_train: 0.2203, accuracy_train: 0.9241, loss_valid: 0.2602, accuracy_valid: 0.9064\n",
      "epoch: 21, loss_train: 0.2178, accuracy_train: 0.9262, loss_valid: 0.2566, accuracy_valid: 0.9117\n",
      "epoch: 22, loss_train: 0.2171, accuracy_train: 0.9255, loss_valid: 0.2566, accuracy_valid: 0.9087\n",
      "epoch: 23, loss_train: 0.2167, accuracy_train: 0.9262, loss_valid: 0.2591, accuracy_valid: 0.9064\n",
      "epoch: 24, loss_train: 0.2184, accuracy_train: 0.9240, loss_valid: 0.2622, accuracy_valid: 0.9072\n",
      "epoch: 25, loss_train: 0.2153, accuracy_train: 0.9249, loss_valid: 0.2597, accuracy_valid: 0.9079\n",
      "epoch: 26, loss_train: 0.2164, accuracy_train: 0.9262, loss_valid: 0.2611, accuracy_valid: 0.9102\n",
      "epoch: 27, loss_train: 0.2159, accuracy_train: 0.9239, loss_valid: 0.2618, accuracy_valid: 0.9057\n",
      "epoch: 28, loss_train: 0.2145, accuracy_train: 0.9276, loss_valid: 0.2607, accuracy_valid: 0.9072\n",
      "epoch: 29, loss_train: 0.2143, accuracy_train: 0.9271, loss_valid: 0.2614, accuracy_valid: 0.9064\n",
      "epoch: 30, loss_train: 0.2136, accuracy_train: 0.9272, loss_valid: 0.2624, accuracy_valid: 0.9087\n"
     ]
    }
   ],
   "source": [
    "# モデルの定義\n",
    "model = SLPNet(300, 4)\n",
    "\n",
    "# 損失関数の定義\n",
    "criterion = nn.CrossEntropyLoss()\n",
    "\n",
    "# オプティマイザの定義\n",
    "optimizer = torch.optim.SGD(model.parameters(), lr=0.1)\n",
    "\n",
    "# 学習\n",
    "num_epochs = 30\n",
    "log_train = [] #この後の問題のためにlogを取得できるようにする.\n",
    "log_valid = []\n",
    "for epoch in range(num_epochs):\n",
    "  # 訓練モードに設定\n",
    "  model.train()\n",
    "  for inputs, labels in dataloader_train:\n",
    "    # 勾配をゼロで初期化\n",
    "    optimizer.zero_grad()\n",
    "\n",
    "    # 順伝播 + 誤差逆伝播 + 重み更新\n",
    "    outputs = model(inputs)\n",
    "    loss = criterion(outputs, labels)\n",
    "    loss.backward()\n",
    "    optimizer.step()\n",
    "\n",
    "  # 損失と正解率の算出\n",
    "  loss_train, acc_train = calculate_loss_and_accuracy(model, criterion, dataloader_train)\n",
    "  loss_valid, acc_valid = calculate_loss_and_accuracy(model, criterion, dataloader_valid)\n",
    "  log_train.append([loss_train, acc_train]) #logを追加する\n",
    "  log_valid.append([loss_valid, acc_valid])\n",
    "\n",
    "  # ログを出力\n",
    "  print(f'epoch: {epoch + 1}, loss_train: {loss_train:.4f}, accuracy_train: {acc_train:.4f}, loss_valid: {loss_valid:.4f}, accuracy_valid: {acc_valid:.4f}')  "
   ]
  },
  {
   "cell_type": "code",
   "execution_count": 27,
   "metadata": {
    "colab": {
     "base_uri": "https://localhost:8080/",
     "height": 313
    },
    "id": "Lam7v5FSRGZX",
    "outputId": "cea80266-aca7-4c9f-83ce-f7946a76c15b"
   },
   "outputs": [
    {
     "data": {
      "image/png": "[encoded data removed]",
      "text/plain": [
       "<Figure size 1080x360 with 2 Axes>"
      ]
     },
     "metadata": {
      "needs_background": "light"
     },
     "output_type": "display_data"
    }
   ],
   "source": [
    "from matplotlib import pyplot as plt\n",
    "import numpy as np\n",
    "\n",
    "# 図示する\n",
    "fig, ax = plt.subplots(1, 2, figsize=(15, 5))\n",
    "ax[0].plot(np.array(log_train).T[0], label='train')\n",
    "ax[0].plot(np.array(log_valid).T[0], label='valid')\n",
    "ax[0].set_xlabel('epoch')\n",
    "ax[0].set_ylabel('loss')\n",
    "ax[0].legend()\n",
    "ax[1].plot(np.array(log_train).T[1], label='train')\n",
    "ax[1].plot(np.array(log_valid).T[1], label='valid')\n",
    "ax[1].set_xlabel('epoch')\n",
    "ax[1].set_ylabel('accuracy')\n",
    "ax[1].legend()\n",
    "plt.show()"
   ]
  },
  {
   "cell_type": "code",
   "execution_count": 28,
   "metadata": {
    "colab": {
     "base_uri": "https://localhost:8080/"
    },
    "id": "kqx2rl1PSWQN",
    "outputId": "ad821049-e91c-49b4-b7ef-5bb8112ffd02"
   },
   "outputs": [
    {
     "name": "stdout",
     "output_type": "stream",
     "text": [
      "epoch: 1, loss_train: 0.3352, accuracy_train: 0.8823, loss_valid: 0.3288, accuracy_valid: 0.8855\n",
      "epoch: 2, loss_train: 0.2940, accuracy_train: 0.8978, loss_valid: 0.2923, accuracy_valid: 0.9019\n",
      "epoch: 3, loss_train: 0.2710, accuracy_train: 0.9088, loss_valid: 0.2723, accuracy_valid: 0.9012\n",
      "epoch: 4, loss_train: 0.2619, accuracy_train: 0.9126, loss_valid: 0.2694, accuracy_valid: 0.9064\n",
      "epoch: 5, loss_train: 0.2515, accuracy_train: 0.9128, loss_valid: 0.2644, accuracy_valid: 0.9049\n",
      "epoch: 6, loss_train: 0.2443, accuracy_train: 0.9192, loss_valid: 0.2596, accuracy_valid: 0.9102\n",
      "epoch: 7, loss_train: 0.2410, accuracy_train: 0.9185, loss_valid: 0.2603, accuracy_valid: 0.9064\n",
      "epoch: 8, loss_train: 0.2386, accuracy_train: 0.9196, loss_valid: 0.2581, accuracy_valid: 0.9064\n",
      "epoch: 9, loss_train: 0.2337, accuracy_train: 0.9199, loss_valid: 0.2599, accuracy_valid: 0.9094\n",
      "epoch: 10, loss_train: 0.2334, accuracy_train: 0.9189, loss_valid: 0.2609, accuracy_valid: 0.9117\n",
      "epoch: 11, loss_train: 0.2281, accuracy_train: 0.9229, loss_valid: 0.2580, accuracy_valid: 0.9117\n",
      "epoch: 12, loss_train: 0.2274, accuracy_train: 0.9241, loss_valid: 0.2572, accuracy_valid: 0.9109\n",
      "epoch: 13, loss_train: 0.2249, accuracy_train: 0.9237, loss_valid: 0.2560, accuracy_valid: 0.9139\n",
      "epoch: 14, loss_train: 0.2233, accuracy_train: 0.9243, loss_valid: 0.2564, accuracy_valid: 0.9124\n",
      "epoch: 15, loss_train: 0.2243, accuracy_train: 0.9243, loss_valid: 0.2605, accuracy_valid: 0.9079\n",
      "epoch: 16, loss_train: 0.2218, accuracy_train: 0.9251, loss_valid: 0.2575, accuracy_valid: 0.9049\n",
      "epoch: 17, loss_train: 0.2235, accuracy_train: 0.9216, loss_valid: 0.2598, accuracy_valid: 0.9072\n",
      "epoch: 18, loss_train: 0.2201, accuracy_train: 0.9232, loss_valid: 0.2584, accuracy_valid: 0.9087\n",
      "epoch: 19, loss_train: 0.2223, accuracy_train: 0.9256, loss_valid: 0.2600, accuracy_valid: 0.9094\n",
      "epoch: 20, loss_train: 0.2185, accuracy_train: 0.9262, loss_valid: 0.2596, accuracy_valid: 0.9109\n",
      "epoch: 21, loss_train: 0.2178, accuracy_train: 0.9266, loss_valid: 0.2580, accuracy_valid: 0.9109\n",
      "epoch: 22, loss_train: 0.2175, accuracy_train: 0.9254, loss_valid: 0.2587, accuracy_valid: 0.9057\n",
      "epoch: 23, loss_train: 0.2178, accuracy_train: 0.9259, loss_valid: 0.2611, accuracy_valid: 0.9094\n",
      "epoch: 24, loss_train: 0.2174, accuracy_train: 0.9238, loss_valid: 0.2607, accuracy_valid: 0.9064\n",
      "epoch: 25, loss_train: 0.2161, accuracy_train: 0.9262, loss_valid: 0.2623, accuracy_valid: 0.9117\n",
      "epoch: 26, loss_train: 0.2176, accuracy_train: 0.9250, loss_valid: 0.2613, accuracy_valid: 0.9064\n",
      "epoch: 27, loss_train: 0.2144, accuracy_train: 0.9272, loss_valid: 0.2610, accuracy_valid: 0.9102\n",
      "epoch: 28, loss_train: 0.2152, accuracy_train: 0.9264, loss_valid: 0.2650, accuracy_valid: 0.9102\n",
      "epoch: 29, loss_train: 0.2212, accuracy_train: 0.9230, loss_valid: 0.2688, accuracy_valid: 0.9042\n",
      "epoch: 30, loss_train: 0.2149, accuracy_train: 0.9266, loss_valid: 0.2622, accuracy_valid: 0.9057\n"
     ]
    }
   ],
   "source": [
    "#76\n",
    "# モデルの定義\n",
    "model = SLPNet(300, 4)\n",
    "\n",
    "# 損失関数の定義\n",
    "criterion = nn.CrossEntropyLoss()\n",
    "\n",
    "# オプティマイザの定義\n",
    "optimizer = torch.optim.SGD(model.parameters(), lr=0.1)\n",
    "\n",
    "# 学習\n",
    "num_epochs = 30\n",
    "log_train = []\n",
    "log_valid = []\n",
    "for epoch in range(num_epochs):\n",
    "  # 訓練モードに設定\n",
    "  model.train()\n",
    "  for inputs, labels in dataloader_train:\n",
    "    # 勾配をゼロで初期化\n",
    "    optimizer.zero_grad()\n",
    "\n",
    "    # 順伝播 + 誤差逆伝播 + 重み更新\n",
    "    outputs = model(inputs)\n",
    "    loss = criterion(outputs, labels)\n",
    "    loss.backward()\n",
    "    optimizer.step()\n",
    "\n",
    "  # 損失と正解率の算出\n",
    "  loss_train, acc_train = calculate_loss_and_accuracy(model, criterion, dataloader_train)\n",
    "  loss_valid, acc_valid = calculate_loss_and_accuracy(model, criterion, dataloader_valid)\n",
    "  log_train.append([loss_train, acc_train])\n",
    "  log_valid.append([loss_valid, acc_valid])\n",
    "\n",
    "  # チェックポイントの保存(5エポックごとに保存)\n",
    "  if epoch % 5 == 0:\n",
    "      torch.save({'epoch': epoch, 'model_state_dict': model.state_dict(), 'optimizer_state_dict': optimizer.state_dict()}, f'checkpoint{epoch + 1}.pth')\n",
    "      #学習途中のパラメータは model.state_dict(),最適化アルゴリズムの内部状態は optimizer.state_dict()でアクセス可能のため,各エポックでエポック数と合わせて保存する処理を追加する.\n",
    "      #.pthファイルとして出力する\n",
    "\n",
    "  # ログを出力\n",
    "  print(f'epoch: {epoch + 1}, loss_train: {loss_train:.4f}, accuracy_train: {acc_train:.4f}, loss_valid: {loss_valid:.4f}, accuracy_valid: {acc_valid:.4f}')  "
   ]
  },
  {
   "cell_type": "code",
   "execution_count": 29,
   "metadata": {
    "id": "BO_unAf6S6Yz"
   },
   "outputs": [],
   "source": [
    "#77\n",
    "import time #時間を計測するためにtimeをインポート\n",
    "\n",
    "def train_model(dataset_train, dataset_valid, batch_size, model, criterion, optimizer, num_epochs):\n",
    "  # dataloaderの作成\n",
    "  dataloader_train = DataLoader(dataset_train, batch_size=batch_size, shuffle=True)\n",
    "  dataloader_valid = DataLoader(dataset_valid, batch_size=len(dataset_valid), shuffle=False)\n",
    "\n",
    "  # 学習\n",
    "  log_train = []\n",
    "  log_valid = []\n",
    "  for epoch in range(num_epochs):\n",
    "    \n",
    "    # 開始時刻 s_time\n",
    "    s_time = time.time()\n",
    "\n",
    "    # 訓練モードに設定\n",
    "    model.train()\n",
    "    for inputs, labels in dataloader_train:\n",
    "      # 勾配をゼロで初期化\n",
    "      optimizer.zero_grad()\n",
    "\n",
    "      # 順伝播 + 誤差逆伝播 + 重み更新\n",
    "      outputs = model(inputs)\n",
    "      loss = criterion(outputs, labels)\n",
    "      loss.backward()\n",
    "      optimizer.step()\n",
    "\n",
    "    # 損失と正解率の算出\n",
    "    loss_train, acc_train = calculate_loss_and_accuracy(model, criterion, dataloader_train)\n",
    "    loss_valid, acc_valid = calculate_loss_and_accuracy(model, criterion, dataloader_valid)\n",
    "    log_train.append([loss_train, acc_train])\n",
    "    log_valid.append([loss_valid, acc_valid])\n",
    "\n",
    "    # チェックポイントの保存\n",
    "    if epoch % 5 == 0:\n",
    "      torch.save({'epoch': epoch, 'model_state_dict': model.state_dict(), 'optimizer_state_dict': optimizer.state_dict()}, f'checkpoint{epoch + 1}.pth')\n",
    "    # 終了時刻 e_time\n",
    "    e_time = time.time()\n",
    "\n",
    "    # ログを出力\n",
    "    print(f'epoch: {epoch + 1}, loss_train: {loss_train:.4f}, accuracy_train: {acc_train:.4f}, loss_valid: {loss_valid:.4f}, accuracy_valid: {acc_valid:.4f}, {(e_time - s_time):.4f}sec') \n",
    "\n",
    "  return {'train': log_train, 'valid': log_valid} #logを返り値にする"
   ]
  },
  {
   "cell_type": "code",
   "execution_count": 30,
   "metadata": {
    "colab": {
     "base_uri": "https://localhost:8080/"
    },
    "id": "427ijhhWS81A",
    "outputId": "f3342b34-514b-4ab3-d882-159d06614e7f"
   },
   "outputs": [
    {
     "name": "stdout",
     "output_type": "stream",
     "text": [
      "batch size: 1\n",
      "epoch: 1, loss_train: 0.3240, accuracy_train: 0.8858, loss_valid: 0.3218, accuracy_valid: 0.8877, 4.5812sec\n",
      "batch size: 2\n",
      "epoch: 1, loss_train: 0.3000, accuracy_train: 0.8947, loss_valid: 0.3044, accuracy_valid: 0.8907, 2.4175sec\n",
      "batch size: 4\n",
      "epoch: 1, loss_train: 0.2908, accuracy_train: 0.8993, loss_valid: 0.2951, accuracy_valid: 0.8907, 1.2812sec\n",
      "batch size: 8\n",
      "epoch: 1, loss_train: 0.2867, accuracy_train: 0.9007, loss_valid: 0.2920, accuracy_valid: 0.8937, 0.7007sec\n",
      "batch size: 16\n",
      "epoch: 1, loss_train: 0.2851, accuracy_train: 0.9016, loss_valid: 0.2901, accuracy_valid: 0.8930, 0.4128sec\n",
      "batch size: 32\n",
      "epoch: 1, loss_train: 0.2841, accuracy_train: 0.9018, loss_valid: 0.2892, accuracy_valid: 0.8930, 0.3461sec\n",
      "batch size: 64\n",
      "epoch: 1, loss_train: 0.2837, accuracy_train: 0.9018, loss_valid: 0.2889, accuracy_valid: 0.8930, 0.1893sec\n",
      "batch size: 128\n",
      "epoch: 1, loss_train: 0.2832, accuracy_train: 0.9018, loss_valid: 0.2887, accuracy_valid: 0.8937, 0.1925sec\n",
      "batch size: 256\n",
      "epoch: 1, loss_train: 0.2838, accuracy_train: 0.9018, loss_valid: 0.2887, accuracy_valid: 0.8937, 0.1680sec\n",
      "batch size: 512\n",
      "epoch: 1, loss_train: 0.2831, accuracy_train: 0.9018, loss_valid: 0.2886, accuracy_valid: 0.8937, 0.1510sec\n",
      "batch size: 1024\n",
      "epoch: 1, loss_train: 0.2868, accuracy_train: 0.9018, loss_valid: 0.2886, accuracy_valid: 0.8937, 0.1344sec\n"
     ]
    }
   ],
   "source": [
    "# datasetの作成\n",
    "dataset_train = CreateDataset(X_train, y_train)\n",
    "dataset_valid = CreateDataset(X_valid, y_valid)\n",
    "\n",
    "# モデルの定義\n",
    "model = SLPNet(300, 4)\n",
    "\n",
    "# 損失関数の定義\n",
    "criterion = nn.CrossEntropyLoss()\n",
    "\n",
    "# オプティマイザの定義\n",
    "optimizer = torch.optim.SGD(model.parameters(), lr=0.1)\n",
    "\n",
    "# モデルの学習\n",
    "for batch_size in [2 ** i for i in range(11)]: #バッチサイズを2倍していく\n",
    "  print(f'batch size: {batch_size}')\n",
    "  log = train_model(dataset_train, dataset_valid, batch_size, model, criterion, optimizer, 1)"
   ]
  },
  {
   "cell_type": "code",
   "execution_count": 31,
   "metadata": {},
   "outputs": [],
   "source": [
    "#バッチサイズが大きいほど概ね計算時間は短くなっている"
   ]
  },
  {
   "cell_type": "code",
   "execution_count": 32,
   "metadata": {
    "id": "Urd3jIZ_S-vK"
   },
   "outputs": [],
   "source": [
    "#78\n",
    "def calculate_loss_and_accuracy(model, criterion, loader, device): #GPUに送る\n",
    "  model.eval()\n",
    "  loss = 0.0\n",
    "  total = 0\n",
    "  correct = 0\n",
    "  with torch.no_grad():\n",
    "    for inputs, labels in loader:\n",
    "      inputs = inputs.to(device) #to(device)でGPUに送る\n",
    "      labels = labels.to(device)\n",
    "      outputs = model(inputs)\n",
    "      loss += criterion(outputs, labels).item()\n",
    "      pred = torch.argmax(outputs, dim=-1)\n",
    "      total += len(inputs)\n",
    "      correct += (pred == labels).sum().item()\n",
    "\n",
    "  return loss / len(loader), correct / total\n",
    "\n",
    "\n",
    "def train_model(dataset_train, dataset_valid, batch_size, model, criterion, optimizer, num_epochs, device=None):\n",
    "  # GPUに送る\n",
    "  model.to(device)\n",
    "\n",
    "  # dataloaderの作成\n",
    "  dataloader_train = DataLoader(dataset_train, batch_size=batch_size, shuffle=True)\n",
    "  dataloader_valid = DataLoader(dataset_valid, batch_size=len(dataset_valid), shuffle=False)\n",
    "\n",
    "  # 学習\n",
    "  log_train = []\n",
    "  log_valid = []\n",
    "  for epoch in range(num_epochs):\n",
    "    # 開始時刻の記録\n",
    "    s_time = time.time()\n",
    "\n",
    "    # 訓練モードに設定\n",
    "    model.train()\n",
    "    for inputs, labels in dataloader_train:\n",
    "      # 勾配をゼロで初期化\n",
    "      optimizer.zero_grad()\n",
    "\n",
    "      # 順伝播 + 誤差逆伝播 + 重み更新\n",
    "      inputs = inputs.to(device)\n",
    "      labels = labels.to(device)\n",
    "      outputs = model.forward(inputs)\n",
    "      loss = criterion(outputs, labels)\n",
    "      loss.backward()\n",
    "      optimizer.step()\n",
    "\n",
    "    # 損失と正解率の算出\n",
    "    loss_train, acc_train = calculate_loss_and_accuracy(model, criterion, dataloader_train, device)\n",
    "    loss_valid, acc_valid = calculate_loss_and_accuracy(model, criterion, dataloader_valid, device)\n",
    "    log_train.append([loss_train, acc_train])\n",
    "    log_valid.append([loss_valid, acc_valid])\n",
    "\n",
    "    # チェックポイントの保存\n",
    "    if epoch % 5 == 0:\n",
    "      torch.save({'epoch': epoch, 'model_state_dict': model.state_dict(), 'optimizer_state_dict': optimizer.state_dict()}, f'checkpoint{epoch + 1}.pth')\n",
    "\n",
    "    # 終了時刻の記録\n",
    "    e_time = time.time()\n",
    "\n",
    "    # ログを出力\n",
    "    print(f'epoch: {epoch + 1}, loss_train: {loss_train:.4f}, accuracy_train: {acc_train:.4f}, loss_valid: {loss_valid:.4f}, accuracy_valid: {acc_valid:.4f}, {(e_time - s_time):.4f}sec') \n",
    "\n",
    "  return {'train': log_train, 'valid': log_valid}"
   ]
  },
  {
   "cell_type": "code",
   "execution_count": 33,
   "metadata": {
    "colab": {
     "base_uri": "https://localhost:8080/"
    },
    "id": "K7plUnn_TFJY",
    "outputId": "f8bbf556-7410-4890-bc77-3e1abd20a4c0"
   },
   "outputs": [
    {
     "name": "stdout",
     "output_type": "stream",
     "text": [
      "batch size: 1\n",
      "epoch: 1, loss_train: 0.3300, accuracy_train: 0.8856, loss_valid: 0.3360, accuracy_valid: 0.8735, 10.3896sec\n",
      "batch size: 2\n",
      "epoch: 1, loss_train: 0.3039, accuracy_train: 0.8922, loss_valid: 0.3108, accuracy_valid: 0.8810, 5.4373sec\n",
      "batch size: 4\n",
      "epoch: 1, loss_train: 0.2935, accuracy_train: 0.8969, loss_valid: 0.2998, accuracy_valid: 0.8840, 2.7015sec\n",
      "batch size: 8\n",
      "epoch: 1, loss_train: 0.2899, accuracy_train: 0.8993, loss_valid: 0.2953, accuracy_valid: 0.8892, 1.4327sec\n",
      "batch size: 16\n",
      "epoch: 1, loss_train: 0.2883, accuracy_train: 0.8996, loss_valid: 0.2944, accuracy_valid: 0.8855, 0.8746sec\n",
      "batch size: 32\n",
      "epoch: 1, loss_train: 0.2874, accuracy_train: 0.8994, loss_valid: 0.2937, accuracy_valid: 0.8840, 0.4696sec\n",
      "batch size: 64\n",
      "epoch: 1, loss_train: 0.2869, accuracy_train: 0.8992, loss_valid: 0.2933, accuracy_valid: 0.8840, 0.2873sec\n",
      "batch size: 128\n",
      "epoch: 1, loss_train: 0.2865, accuracy_train: 0.8991, loss_valid: 0.2931, accuracy_valid: 0.8847, 0.1958sec\n",
      "batch size: 256\n",
      "epoch: 1, loss_train: 0.2873, accuracy_train: 0.8990, loss_valid: 0.2930, accuracy_valid: 0.8847, 0.1535sec\n",
      "batch size: 512\n",
      "epoch: 1, loss_train: 0.2865, accuracy_train: 0.8990, loss_valid: 0.2929, accuracy_valid: 0.8847, 0.1303sec\n",
      "batch size: 1024\n",
      "epoch: 1, loss_train: 0.2842, accuracy_train: 0.8990, loss_valid: 0.2929, accuracy_valid: 0.8847, 0.1194sec\n"
     ]
    }
   ],
   "source": [
    "# datasetの作成\n",
    "dataset_train = CreateDataset(X_train, y_train)\n",
    "dataset_valid = CreateDataset(X_valid, y_valid)\n",
    "\n",
    "# モデルの定義\n",
    "model = SLPNet(300, 4)\n",
    "\n",
    "# 損失関数の定義\n",
    "criterion = nn.CrossEntropyLoss()\n",
    "\n",
    "# オプティマイザの定義\n",
    "optimizer = torch.optim.SGD(model.parameters(), lr=0.1)\n",
    "\n",
    "# デバイスの指定\n",
    "device = torch.device('cuda')\n",
    "\n",
    "# モデルの学習\n",
    "for batch_size in [2 ** i for i in range(11)]:\n",
    "  print(f'batch size: {batch_size}')\n",
    "  log = train_model(dataset_train, dataset_valid, batch_size, model, criterion, optimizer, 1, device=device)"
   ]
  },
  {
   "cell_type": "markdown",
   "metadata": {},
   "source": [
    "# #77の場合よりもGPU使用時の方が時間が短くなっていることが確認できる"
   ]
  },
  {
   "cell_type": "code",
   "execution_count": 35,
   "metadata": {
    "id": "6xmK-fkwTGc2"
   },
   "outputs": [],
   "source": [
    "#79\n",
    "from torch.nn import functional as F\n",
    "\n",
    "class MLPNet(nn.Module): #多層ニューラルネットワークの導入(入力層 -> 中間層 -> 出力層)\n",
    "  def __init__(self, input_size, mid_size, output_size, mid_layers):\n",
    "    super().__init__()\n",
    "    self.mid_layers = mid_layers\n",
    "    self.fc = nn.Linear(input_size, mid_size)\n",
    "    self.fc_mid = nn.Linear(mid_size, mid_size)\n",
    "    self.fc_out = nn.Linear(mid_size, output_size) \n",
    "    self.bn = nn.BatchNorm1d(mid_size) #バッチノーマライゼーションを行う　https://deep-learning-study.net/batch-normalization/\n",
    "\n",
    "  def forward(self, x):\n",
    "    x = F.relu(self.fc(x)) #活性化関数ReLUの導入(0未満はすべて0,その他はそのまま) https://atmarkit.itmedia.co.jp/ait/articles/2003/11/news016.html\n",
    "    for i in range(self.mid_layers):\n",
    "      x = F.relu(self.bn(self.fc_mid(x)))\n",
    "    x = F.relu(self.fc_out(x))\n",
    "\n",
    "    return x"
   ]
  },
  {
   "cell_type": "code",
   "execution_count": 41,
   "metadata": {
    "id": "oRcq5FgDTJZq"
   },
   "outputs": [],
   "source": [
    "from torch import optim\n",
    "\n",
    "def calculate_loss_and_accuracy(model, criterion, loader, device):\n",
    "  model.eval()\n",
    "  loss = 0.0\n",
    "  total = 0\n",
    "  correct = 0\n",
    "  with torch.no_grad():\n",
    "    for inputs, labels in loader:\n",
    "      inputs = inputs.to(device)\n",
    "      labels = labels.to(device)\n",
    "      outputs = model(inputs)\n",
    "      loss += criterion(outputs, labels).item()\n",
    "      pred = torch.argmax(outputs, dim=-1)\n",
    "      total += len(inputs)\n",
    "      correct += (pred == labels).sum().item()\n",
    "\n",
    "  return loss / len(loader), correct / total\n",
    "\n",
    "\n",
    "def train_model(dataset_train, dataset_valid, batch_size, model, criterion, optimizer, num_epochs, device=None):\n",
    "  # GPUに送る\n",
    "  model.to(device)\n",
    "\n",
    "  # dataloaderの作成\n",
    "  dataloader_train = DataLoader(dataset_train, batch_size=batch_size, shuffle=True)\n",
    "  dataloader_valid = DataLoader(dataset_valid, batch_size=len(dataset_valid), shuffle=False)\n",
    "\n",
    "  # スケジューラの設定\n",
    "  scheduler = optim.lr_scheduler.CosineAnnealingLR(optimizer, num_epochs, eta_min=1e-5, last_epoch=-1)\n",
    "  #学習率を少しずつ下げる(eta_minを極小値とする)\n",
    "\n",
    "  # 学習\n",
    "  log_train = []\n",
    "  log_valid = []\n",
    "  for epoch in range(num_epochs):\n",
    "    # 開始時刻の記録\n",
    "    s_time = time.time()\n",
    "\n",
    "    # 訓練モードに設定\n",
    "    model.train()\n",
    "    for inputs, labels in dataloader_train:\n",
    "      # 勾配をゼロで初期化\n",
    "      optimizer.zero_grad()\n",
    "\n",
    "      # 順伝播 + 誤差逆伝播 + 重み更新\n",
    "      inputs = inputs.to(device)\n",
    "      labels = labels.to(device)\n",
    "      outputs = model.forward(inputs)\n",
    "      loss = criterion(outputs, labels)\n",
    "      loss.backward()\n",
    "      #optimizerを1ステップ進める\n",
    "      optimizer.step()\n",
    "\n",
    "    # 損失と正解率の算出\n",
    "    loss_train, acc_train = calculate_loss_and_accuracy(model, criterion, dataloader_train, device)\n",
    "    loss_valid, acc_valid = calculate_loss_and_accuracy(model, criterion, dataloader_valid, device)\n",
    "    log_train.append([loss_train, acc_train])\n",
    "    log_valid.append([loss_valid, acc_valid])\n",
    "\n",
    "    # チェックポイントの保存\n",
    "    if epoch % 5 == 0:\n",
    "      torch.save({'epoch': epoch, 'model_state_dict': model.state_dict(), 'optimizer_state_dict': optimizer.state_dict()}, f'checkpoint{epoch + 1}.pth')\n",
    "\n",
    "    # 終了時刻の記録\n",
    "    e_time = time.time()\n",
    "\n",
    "    # ログを出力\n",
    "    print(f'epoch: {epoch + 1}, loss_train: {loss_train:.4f}, accuracy_train: {acc_train:.4f}, loss_valid: {loss_valid:.4f}, accuracy_valid: {acc_valid:.4f}, {(e_time - s_time):.4f}sec') \n",
    "\n",
    "    # 検証データの損失が3エポック連続で低下しなかった場合は学習終了(今回の学習基準)\n",
    "    if epoch > 2 and log_valid[epoch - 3][0] <= log_valid[epoch - 2][0] <= log_valid[epoch - 1][0] <= log_valid[epoch][0]:\n",
    "      break\n",
    "\n",
    "    # スケジューラを1ステップ進める\n",
    "    scheduler.step()\n",
    "\n",
    "  return {'train': log_train, 'valid': log_valid}"
   ]
  },
  {
   "cell_type": "code",
   "execution_count": 42,
   "metadata": {
    "colab": {
     "base_uri": "https://localhost:8080/"
    },
    "id": "Wsm7QXoaTLBQ",
    "outputId": "b6741c7b-4fae-4065-fef7-b4b2b3211962"
   },
   "outputs": [
    {
     "name": "stdout",
     "output_type": "stream",
     "text": [
      "epoch: 1, loss_train: 0.8515, accuracy_train: 0.7574, loss_valid: 0.8562, accuracy_valid: 0.7657, 0.5737sec\n",
      "epoch: 2, loss_train: 0.7079, accuracy_train: 0.7711, loss_valid: 0.7134, accuracy_valid: 0.7754, 0.4785sec\n",
      "epoch: 3, loss_train: 0.6406, accuracy_train: 0.7785, loss_valid: 0.6467, accuracy_valid: 0.7829, 0.4829sec\n",
      "epoch: 4, loss_train: 0.5950, accuracy_train: 0.7869, loss_valid: 0.6009, accuracy_valid: 0.7897, 0.4789sec\n",
      "epoch: 5, loss_train: 0.5580, accuracy_train: 0.8009, loss_valid: 0.5615, accuracy_valid: 0.7957, 0.4775sec\n",
      "epoch: 6, loss_train: 0.5227, accuracy_train: 0.8156, loss_valid: 0.5246, accuracy_valid: 0.8151, 0.4805sec\n",
      "epoch: 7, loss_train: 0.4921, accuracy_train: 0.8338, loss_valid: 0.4926, accuracy_valid: 0.8286, 0.4791sec\n",
      "epoch: 8, loss_train: 0.4670, accuracy_train: 0.8434, loss_valid: 0.4668, accuracy_valid: 0.8346, 0.4764sec\n",
      "epoch: 9, loss_train: 0.4462, accuracy_train: 0.8552, loss_valid: 0.4440, accuracy_valid: 0.8466, 0.4772sec\n",
      "epoch: 10, loss_train: 0.4292, accuracy_train: 0.8662, loss_valid: 0.4264, accuracy_valid: 0.8548, 0.4765sec\n",
      "epoch: 11, loss_train: 0.4109, accuracy_train: 0.8704, loss_valid: 0.4079, accuracy_valid: 0.8615, 0.4798sec\n",
      "epoch: 12, loss_train: 0.3991, accuracy_train: 0.8755, loss_valid: 0.3949, accuracy_valid: 0.8720, 0.4789sec\n",
      "epoch: 13, loss_train: 0.3841, accuracy_train: 0.8794, loss_valid: 0.3809, accuracy_valid: 0.8750, 0.5190sec\n",
      "epoch: 14, loss_train: 0.3720, accuracy_train: 0.8836, loss_valid: 0.3687, accuracy_valid: 0.8757, 0.4782sec\n",
      "epoch: 15, loss_train: 0.3636, accuracy_train: 0.8867, loss_valid: 0.3608, accuracy_valid: 0.8817, 0.5205sec\n",
      "epoch: 16, loss_train: 0.3533, accuracy_train: 0.8884, loss_valid: 0.3510, accuracy_valid: 0.8832, 0.4785sec\n",
      "epoch: 17, loss_train: 0.3460, accuracy_train: 0.8916, loss_valid: 0.3439, accuracy_valid: 0.8817, 0.4767sec\n",
      "epoch: 18, loss_train: 0.3358, accuracy_train: 0.8940, loss_valid: 0.3346, accuracy_valid: 0.8855, 0.5564sec\n",
      "epoch: 19, loss_train: 0.3291, accuracy_train: 0.8955, loss_valid: 0.3287, accuracy_valid: 0.8862, 0.4807sec\n",
      "epoch: 20, loss_train: 0.3253, accuracy_train: 0.8958, loss_valid: 0.3256, accuracy_valid: 0.8877, 0.5161sec\n",
      "epoch: 21, loss_train: 0.3184, accuracy_train: 0.8995, loss_valid: 0.3198, accuracy_valid: 0.8892, 0.5276sec\n",
      "epoch: 22, loss_train: 0.3154, accuracy_train: 0.9003, loss_valid: 0.3174, accuracy_valid: 0.8885, 0.4823sec\n",
      "epoch: 23, loss_train: 0.3074, accuracy_train: 0.9008, loss_valid: 0.3106, accuracy_valid: 0.8892, 0.4820sec\n",
      "epoch: 24, loss_train: 0.3030, accuracy_train: 0.9050, loss_valid: 0.3064, accuracy_valid: 0.8885, 0.4825sec\n",
      "epoch: 25, loss_train: 0.2992, accuracy_train: 0.9047, loss_valid: 0.3034, accuracy_valid: 0.8922, 0.4819sec\n",
      "epoch: 26, loss_train: 0.2952, accuracy_train: 0.9069, loss_valid: 0.3000, accuracy_valid: 0.8945, 0.4849sec\n",
      "epoch: 27, loss_train: 0.2909, accuracy_train: 0.9085, loss_valid: 0.2970, accuracy_valid: 0.8900, 0.4823sec\n",
      "epoch: 28, loss_train: 0.2869, accuracy_train: 0.9084, loss_valid: 0.2940, accuracy_valid: 0.8915, 0.4845sec\n",
      "epoch: 29, loss_train: 0.2843, accuracy_train: 0.9093, loss_valid: 0.2925, accuracy_valid: 0.8960, 0.4818sec\n",
      "epoch: 30, loss_train: 0.2804, accuracy_train: 0.9104, loss_valid: 0.2898, accuracy_valid: 0.8952, 0.4828sec\n",
      "epoch: 31, loss_train: 0.2764, accuracy_train: 0.9111, loss_valid: 0.2862, accuracy_valid: 0.8997, 0.4831sec\n",
      "epoch: 32, loss_train: 0.2745, accuracy_train: 0.9118, loss_valid: 0.2848, accuracy_valid: 0.8990, 0.4828sec\n",
      "epoch: 33, loss_train: 0.2701, accuracy_train: 0.9133, loss_valid: 0.2825, accuracy_valid: 0.9004, 0.4818sec\n",
      "epoch: 34, loss_train: 0.2676, accuracy_train: 0.9142, loss_valid: 0.2803, accuracy_valid: 0.9027, 0.4828sec\n",
      "epoch: 35, loss_train: 0.2655, accuracy_train: 0.9141, loss_valid: 0.2790, accuracy_valid: 0.9019, 0.4816sec\n",
      "epoch: 36, loss_train: 0.2627, accuracy_train: 0.9150, loss_valid: 0.2782, accuracy_valid: 0.9019, 0.5230sec\n",
      "epoch: 37, loss_train: 0.2595, accuracy_train: 0.9171, loss_valid: 0.2753, accuracy_valid: 0.9042, 0.4807sec\n",
      "epoch: 38, loss_train: 0.2557, accuracy_train: 0.9170, loss_valid: 0.2727, accuracy_valid: 0.9072, 0.5910sec\n",
      "epoch: 39, loss_train: 0.2542, accuracy_train: 0.9182, loss_valid: 0.2723, accuracy_valid: 0.9049, 0.5821sec\n",
      "epoch: 40, loss_train: 0.2535, accuracy_train: 0.9189, loss_valid: 0.2718, accuracy_valid: 0.9072, 0.4818sec\n",
      "epoch: 41, loss_train: 0.2500, accuracy_train: 0.9196, loss_valid: 0.2697, accuracy_valid: 0.9079, 0.4846sec\n",
      "epoch: 42, loss_train: 0.2484, accuracy_train: 0.9196, loss_valid: 0.2694, accuracy_valid: 0.9072, 0.4834sec\n",
      "epoch: 43, loss_train: 0.2456, accuracy_train: 0.9206, loss_valid: 0.2683, accuracy_valid: 0.9072, 0.4809sec\n",
      "epoch: 44, loss_train: 0.2433, accuracy_train: 0.9205, loss_valid: 0.2675, accuracy_valid: 0.9072, 0.4821sec\n",
      "epoch: 45, loss_train: 0.2418, accuracy_train: 0.9212, loss_valid: 0.2660, accuracy_valid: 0.9094, 0.4847sec\n",
      "epoch: 46, loss_train: 0.2394, accuracy_train: 0.9217, loss_valid: 0.2645, accuracy_valid: 0.9094, 0.4844sec\n",
      "epoch: 47, loss_train: 0.2370, accuracy_train: 0.9222, loss_valid: 0.2636, accuracy_valid: 0.9102, 0.5398sec\n",
      "epoch: 48, loss_train: 0.2376, accuracy_train: 0.9231, loss_valid: 0.2645, accuracy_valid: 0.9049, 0.4843sec\n",
      "epoch: 49, loss_train: 0.2341, accuracy_train: 0.9233, loss_valid: 0.2630, accuracy_valid: 0.9102, 0.5243sec\n",
      "epoch: 50, loss_train: 0.2321, accuracy_train: 0.9245, loss_valid: 0.2612, accuracy_valid: 0.9132, 0.4818sec\n",
      "epoch: 51, loss_train: 0.2314, accuracy_train: 0.9247, loss_valid: 0.2610, accuracy_valid: 0.9117, 0.4838sec\n",
      "epoch: 52, loss_train: 0.2290, accuracy_train: 0.9244, loss_valid: 0.2602, accuracy_valid: 0.9139, 0.4823sec\n",
      "epoch: 53, loss_train: 0.2278, accuracy_train: 0.9260, loss_valid: 0.2598, accuracy_valid: 0.9094, 0.4818sec\n",
      "epoch: 54, loss_train: 0.2244, accuracy_train: 0.9259, loss_valid: 0.2579, accuracy_valid: 0.9132, 0.4818sec\n",
      "epoch: 55, loss_train: 0.2239, accuracy_train: 0.9265, loss_valid: 0.2581, accuracy_valid: 0.9147, 0.4864sec\n",
      "epoch: 56, loss_train: 0.2215, accuracy_train: 0.9279, loss_valid: 0.2572, accuracy_valid: 0.9102, 0.4857sec\n",
      "epoch: 57, loss_train: 0.2201, accuracy_train: 0.9272, loss_valid: 0.2564, accuracy_valid: 0.9147, 0.4838sec\n",
      "epoch: 58, loss_train: 0.2185, accuracy_train: 0.9279, loss_valid: 0.2554, accuracy_valid: 0.9139, 0.4823sec\n",
      "epoch: 59, loss_train: 0.2169, accuracy_train: 0.9287, loss_valid: 0.2552, accuracy_valid: 0.9109, 0.4827sec\n",
      "epoch: 60, loss_train: 0.2163, accuracy_train: 0.9284, loss_valid: 0.2558, accuracy_valid: 0.9139, 0.4822sec\n",
      "epoch: 61, loss_train: 0.2132, accuracy_train: 0.9295, loss_valid: 0.2540, accuracy_valid: 0.9139, 0.4843sec\n",
      "epoch: 62, loss_train: 0.2123, accuracy_train: 0.9307, loss_valid: 0.2545, accuracy_valid: 0.9139, 0.4849sec\n",
      "epoch: 63, loss_train: 0.2123, accuracy_train: 0.9312, loss_valid: 0.2546, accuracy_valid: 0.9117, 0.4834sec\n",
      "epoch: 64, loss_train: 0.2087, accuracy_train: 0.9320, loss_valid: 0.2533, accuracy_valid: 0.9139, 0.4849sec\n",
      "epoch: 65, loss_train: 0.2094, accuracy_train: 0.9316, loss_valid: 0.2539, accuracy_valid: 0.9139, 0.4834sec\n",
      "epoch: 66, loss_train: 0.2068, accuracy_train: 0.9321, loss_valid: 0.2528, accuracy_valid: 0.9154, 0.4864sec\n",
      "epoch: 67, loss_train: 0.2051, accuracy_train: 0.9321, loss_valid: 0.2523, accuracy_valid: 0.9162, 0.4841sec\n",
      "epoch: 68, loss_train: 0.2044, accuracy_train: 0.9332, loss_valid: 0.2528, accuracy_valid: 0.9139, 0.4846sec\n",
      "epoch: 69, loss_train: 0.2033, accuracy_train: 0.9338, loss_valid: 0.2520, accuracy_valid: 0.9147, 0.4842sec\n",
      "epoch: 70, loss_train: 0.2002, accuracy_train: 0.9354, loss_valid: 0.2515, accuracy_valid: 0.9147, 0.4839sec\n",
      "epoch: 71, loss_train: 0.1992, accuracy_train: 0.9366, loss_valid: 0.2513, accuracy_valid: 0.9154, 0.4845sec\n",
      "epoch: 72, loss_train: 0.1977, accuracy_train: 0.9361, loss_valid: 0.2500, accuracy_valid: 0.9162, 0.4842sec\n",
      "epoch: 73, loss_train: 0.1961, accuracy_train: 0.9364, loss_valid: 0.2500, accuracy_valid: 0.9162, 0.4839sec\n",
      "epoch: 74, loss_train: 0.1948, accuracy_train: 0.9375, loss_valid: 0.2494, accuracy_valid: 0.9169, 0.4855sec\n",
      "epoch: 75, loss_train: 0.1945, accuracy_train: 0.9380, loss_valid: 0.2507, accuracy_valid: 0.9132, 0.4831sec\n",
      "epoch: 76, loss_train: 0.1935, accuracy_train: 0.9368, loss_valid: 0.2492, accuracy_valid: 0.9147, 0.5587sec\n",
      "epoch: 77, loss_train: 0.1914, accuracy_train: 0.9386, loss_valid: 0.2489, accuracy_valid: 0.9162, 0.4843sec\n",
      "epoch: 78, loss_train: 0.1902, accuracy_train: 0.9376, loss_valid: 0.2497, accuracy_valid: 0.9154, 0.4842sec\n",
      "epoch: 79, loss_train: 0.1891, accuracy_train: 0.9394, loss_valid: 0.2487, accuracy_valid: 0.9154, 0.4840sec\n",
      "epoch: 80, loss_train: 0.1869, accuracy_train: 0.9388, loss_valid: 0.2484, accuracy_valid: 0.9139, 0.4840sec\n",
      "epoch: 81, loss_train: 0.1861, accuracy_train: 0.9397, loss_valid: 0.2481, accuracy_valid: 0.9162, 0.4875sec\n",
      "epoch: 82, loss_train: 0.1846, accuracy_train: 0.9406, loss_valid: 0.2481, accuracy_valid: 0.9162, 0.4860sec\n",
      "epoch: 83, loss_train: 0.1836, accuracy_train: 0.9406, loss_valid: 0.2481, accuracy_valid: 0.9169, 0.4901sec\n",
      "epoch: 84, loss_train: 0.1822, accuracy_train: 0.9419, loss_valid: 0.2485, accuracy_valid: 0.9154, 0.4856sec\n",
      "epoch: 85, loss_train: 0.1821, accuracy_train: 0.9419, loss_valid: 0.2483, accuracy_valid: 0.9139, 0.4843sec\n",
      "epoch: 86, loss_train: 0.1815, accuracy_train: 0.9413, loss_valid: 0.2491, accuracy_valid: 0.9139, 0.4869sec\n",
      "epoch: 87, loss_train: 0.1787, accuracy_train: 0.9431, loss_valid: 0.2465, accuracy_valid: 0.9162, 0.4849sec\n",
      "epoch: 88, loss_train: 0.1774, accuracy_train: 0.9445, loss_valid: 0.2470, accuracy_valid: 0.9154, 0.4891sec\n",
      "epoch: 89, loss_train: 0.1761, accuracy_train: 0.9436, loss_valid: 0.2460, accuracy_valid: 0.9162, 0.4865sec\n",
      "epoch: 90, loss_train: 0.1756, accuracy_train: 0.9441, loss_valid: 0.2464, accuracy_valid: 0.9169, 0.4891sec\n",
      "epoch: 91, loss_train: 0.1739, accuracy_train: 0.9452, loss_valid: 0.2457, accuracy_valid: 0.9162, 0.4907sec\n",
      "epoch: 92, loss_train: 0.1727, accuracy_train: 0.9458, loss_valid: 0.2455, accuracy_valid: 0.9162, 0.4861sec\n",
      "epoch: 93, loss_train: 0.1727, accuracy_train: 0.9449, loss_valid: 0.2462, accuracy_valid: 0.9162, 0.4853sec\n",
      "epoch: 94, loss_train: 0.1712, accuracy_train: 0.9442, loss_valid: 0.2465, accuracy_valid: 0.9139, 0.4863sec\n",
      "epoch: 95, loss_train: 0.1696, accuracy_train: 0.9472, loss_valid: 0.2453, accuracy_valid: 0.9162, 0.4860sec\n",
      "epoch: 96, loss_train: 0.1694, accuracy_train: 0.9460, loss_valid: 0.2455, accuracy_valid: 0.9147, 0.4869sec\n",
      "epoch: 97, loss_train: 0.1668, accuracy_train: 0.9464, loss_valid: 0.2448, accuracy_valid: 0.9162, 0.4861sec\n",
      "epoch: 98, loss_train: 0.1664, accuracy_train: 0.9468, loss_valid: 0.2454, accuracy_valid: 0.9139, 0.4854sec\n",
      "epoch: 99, loss_train: 0.1653, accuracy_train: 0.9484, loss_valid: 0.2453, accuracy_valid: 0.9169, 0.4844sec\n",
      "epoch: 100, loss_train: 0.1634, accuracy_train: 0.9480, loss_valid: 0.2440, accuracy_valid: 0.9147, 0.4839sec\n",
      "epoch: 101, loss_train: 0.1625, accuracy_train: 0.9497, loss_valid: 0.2441, accuracy_valid: 0.9169, 0.4865sec\n",
      "epoch: 102, loss_train: 0.1619, accuracy_train: 0.9493, loss_valid: 0.2443, accuracy_valid: 0.9162, 0.4848sec\n",
      "epoch: 103, loss_train: 0.1609, accuracy_train: 0.9502, loss_valid: 0.2431, accuracy_valid: 0.9162, 0.4837sec\n",
      "epoch: 104, loss_train: 0.1587, accuracy_train: 0.9498, loss_valid: 0.2434, accuracy_valid: 0.9192, 0.4840sec\n",
      "epoch: 105, loss_train: 0.1582, accuracy_train: 0.9517, loss_valid: 0.2438, accuracy_valid: 0.9162, 0.4837sec\n",
      "epoch: 106, loss_train: 0.1565, accuracy_train: 0.9521, loss_valid: 0.2431, accuracy_valid: 0.9154, 0.5463sec\n",
      "epoch: 107, loss_train: 0.1571, accuracy_train: 0.9509, loss_valid: 0.2433, accuracy_valid: 0.9147, 0.4853sec\n",
      "epoch: 108, loss_train: 0.1552, accuracy_train: 0.9517, loss_valid: 0.2433, accuracy_valid: 0.9169, 0.4836sec\n",
      "epoch: 109, loss_train: 0.1535, accuracy_train: 0.9520, loss_valid: 0.2430, accuracy_valid: 0.9154, 0.4830sec\n",
      "epoch: 110, loss_train: 0.1529, accuracy_train: 0.9537, loss_valid: 0.2418, accuracy_valid: 0.9154, 0.4829sec\n",
      "epoch: 111, loss_train: 0.1520, accuracy_train: 0.9525, loss_valid: 0.2421, accuracy_valid: 0.9147, 0.4837sec\n",
      "epoch: 112, loss_train: 0.1500, accuracy_train: 0.9536, loss_valid: 0.2420, accuracy_valid: 0.9154, 0.4818sec\n",
      "epoch: 113, loss_train: 0.1491, accuracy_train: 0.9546, loss_valid: 0.2410, accuracy_valid: 0.9147, 0.4825sec\n",
      "epoch: 114, loss_train: 0.1479, accuracy_train: 0.9546, loss_valid: 0.2418, accuracy_valid: 0.9154, 0.4835sec\n",
      "epoch: 115, loss_train: 0.1470, accuracy_train: 0.9556, loss_valid: 0.2417, accuracy_valid: 0.9154, 0.4835sec\n",
      "epoch: 116, loss_train: 0.1468, accuracy_train: 0.9562, loss_valid: 0.2421, accuracy_valid: 0.9154, 0.4840sec\n",
      "epoch: 117, loss_train: 0.1454, accuracy_train: 0.9551, loss_valid: 0.2418, accuracy_valid: 0.9169, 0.4839sec\n",
      "epoch: 118, loss_train: 0.1460, accuracy_train: 0.9565, loss_valid: 0.2432, accuracy_valid: 0.9124, 0.4822sec\n",
      "epoch: 119, loss_train: 0.1425, accuracy_train: 0.9576, loss_valid: 0.2407, accuracy_valid: 0.9162, 0.4827sec\n",
      "epoch: 120, loss_train: 0.1424, accuracy_train: 0.9565, loss_valid: 0.2418, accuracy_valid: 0.9184, 0.4821sec\n",
      "epoch: 121, loss_train: 0.1405, accuracy_train: 0.9580, loss_valid: 0.2408, accuracy_valid: 0.9162, 0.4847sec\n",
      "epoch: 122, loss_train: 0.1405, accuracy_train: 0.9576, loss_valid: 0.2413, accuracy_valid: 0.9162, 0.4842sec\n",
      "epoch: 123, loss_train: 0.1386, accuracy_train: 0.9588, loss_valid: 0.2415, accuracy_valid: 0.9124, 0.4834sec\n",
      "epoch: 124, loss_train: 0.1369, accuracy_train: 0.9607, loss_valid: 0.2406, accuracy_valid: 0.9169, 0.4825sec\n",
      "epoch: 125, loss_train: 0.1358, accuracy_train: 0.9606, loss_valid: 0.2408, accuracy_valid: 0.9177, 0.4826sec\n",
      "epoch: 126, loss_train: 0.1354, accuracy_train: 0.9607, loss_valid: 0.2400, accuracy_valid: 0.9184, 0.4869sec\n",
      "epoch: 127, loss_train: 0.1353, accuracy_train: 0.9604, loss_valid: 0.2400, accuracy_valid: 0.9162, 0.4835sec\n",
      "epoch: 128, loss_train: 0.1329, accuracy_train: 0.9620, loss_valid: 0.2404, accuracy_valid: 0.9169, 0.4828sec\n",
      "epoch: 129, loss_train: 0.1330, accuracy_train: 0.9612, loss_valid: 0.2399, accuracy_valid: 0.9154, 0.4851sec\n",
      "epoch: 130, loss_train: 0.1318, accuracy_train: 0.9627, loss_valid: 0.2396, accuracy_valid: 0.9177, 0.4858sec\n",
      "epoch: 131, loss_train: 0.1322, accuracy_train: 0.9622, loss_valid: 0.2423, accuracy_valid: 0.9169, 0.4847sec\n",
      "epoch: 132, loss_train: 0.1300, accuracy_train: 0.9618, loss_valid: 0.2397, accuracy_valid: 0.9169, 0.4841sec\n",
      "epoch: 133, loss_train: 0.1297, accuracy_train: 0.9641, loss_valid: 0.2385, accuracy_valid: 0.9169, 0.5374sec\n",
      "epoch: 134, loss_train: 0.1269, accuracy_train: 0.9650, loss_valid: 0.2390, accuracy_valid: 0.9162, 0.4850sec\n",
      "epoch: 135, loss_train: 0.1267, accuracy_train: 0.9642, loss_valid: 0.2392, accuracy_valid: 0.9162, 0.4827sec\n",
      "epoch: 136, loss_train: 0.1260, accuracy_train: 0.9655, loss_valid: 0.2390, accuracy_valid: 0.9184, 0.4866sec\n",
      "epoch: 137, loss_train: 0.1254, accuracy_train: 0.9647, loss_valid: 0.2394, accuracy_valid: 0.9147, 0.4848sec\n",
      "epoch: 138, loss_train: 0.1235, accuracy_train: 0.9660, loss_valid: 0.2396, accuracy_valid: 0.9177, 0.4841sec\n",
      "epoch: 139, loss_train: 0.1227, accuracy_train: 0.9665, loss_valid: 0.2386, accuracy_valid: 0.9154, 0.4834sec\n",
      "epoch: 140, loss_train: 0.1237, accuracy_train: 0.9654, loss_valid: 0.2407, accuracy_valid: 0.9177, 0.4832sec\n",
      "epoch: 141, loss_train: 0.1220, accuracy_train: 0.9671, loss_valid: 0.2391, accuracy_valid: 0.9147, 0.4851sec\n",
      "epoch: 142, loss_train: 0.1198, accuracy_train: 0.9679, loss_valid: 0.2396, accuracy_valid: 0.9162, 0.4841sec\n",
      "epoch: 143, loss_train: 0.1192, accuracy_train: 0.9667, loss_valid: 0.2401, accuracy_valid: 0.9154, 0.4839sec\n",
      "epoch: 144, loss_train: 0.1182, accuracy_train: 0.9680, loss_valid: 0.2396, accuracy_valid: 0.9199, 0.4840sec\n",
      "epoch: 145, loss_train: 0.1171, accuracy_train: 0.9683, loss_valid: 0.2387, accuracy_valid: 0.9162, 0.4840sec\n",
      "epoch: 146, loss_train: 0.1200, accuracy_train: 0.9666, loss_valid: 0.2411, accuracy_valid: 0.9154, 0.4849sec\n",
      "epoch: 147, loss_train: 0.1152, accuracy_train: 0.9686, loss_valid: 0.2391, accuracy_valid: 0.9169, 0.4869sec\n",
      "epoch: 148, loss_train: 0.1148, accuracy_train: 0.9706, loss_valid: 0.2384, accuracy_valid: 0.9199, 0.4853sec\n",
      "epoch: 149, loss_train: 0.1124, accuracy_train: 0.9712, loss_valid: 0.2392, accuracy_valid: 0.9184, 0.4837sec\n",
      "epoch: 150, loss_train: 0.1136, accuracy_train: 0.9698, loss_valid: 0.2390, accuracy_valid: 0.9199, 0.4847sec\n",
      "epoch: 151, loss_train: 0.1119, accuracy_train: 0.9711, loss_valid: 0.2384, accuracy_valid: 0.9184, 0.4861sec\n",
      "epoch: 152, loss_train: 0.1118, accuracy_train: 0.9708, loss_valid: 0.2405, accuracy_valid: 0.9222, 0.4836sec\n",
      "epoch: 153, loss_train: 0.1113, accuracy_train: 0.9703, loss_valid: 0.2411, accuracy_valid: 0.9192, 0.4833sec\n",
      "epoch: 154, loss_train: 0.1107, accuracy_train: 0.9702, loss_valid: 0.2403, accuracy_valid: 0.9124, 0.4855sec\n",
      "epoch: 155, loss_train: 0.1087, accuracy_train: 0.9720, loss_valid: 0.2397, accuracy_valid: 0.9177, 0.4831sec\n",
      "epoch: 156, loss_train: 0.1088, accuracy_train: 0.9705, loss_valid: 0.2409, accuracy_valid: 0.9132, 0.4866sec\n",
      "epoch: 157, loss_train: 0.1062, accuracy_train: 0.9732, loss_valid: 0.2385, accuracy_valid: 0.9207, 0.4842sec\n",
      "epoch: 158, loss_train: 0.1049, accuracy_train: 0.9742, loss_valid: 0.2403, accuracy_valid: 0.9192, 0.4834sec\n",
      "epoch: 159, loss_train: 0.1045, accuracy_train: 0.9739, loss_valid: 0.2389, accuracy_valid: 0.9192, 0.4829sec\n",
      "epoch: 160, loss_train: 0.1036, accuracy_train: 0.9742, loss_valid: 0.2390, accuracy_valid: 0.9184, 0.4835sec\n",
      "epoch: 161, loss_train: 0.1046, accuracy_train: 0.9736, loss_valid: 0.2403, accuracy_valid: 0.9199, 0.4869sec\n",
      "epoch: 162, loss_train: 0.1028, accuracy_train: 0.9745, loss_valid: 0.2397, accuracy_valid: 0.9199, 0.4828sec\n",
      "epoch: 163, loss_train: 0.1011, accuracy_train: 0.9749, loss_valid: 0.2396, accuracy_valid: 0.9192, 0.5500sec\n",
      "epoch: 164, loss_train: 0.1000, accuracy_train: 0.9755, loss_valid: 0.2392, accuracy_valid: 0.9192, 0.4853sec\n",
      "epoch: 165, loss_train: 0.0992, accuracy_train: 0.9761, loss_valid: 0.2394, accuracy_valid: 0.9192, 0.4828sec\n",
      "epoch: 166, loss_train: 0.0987, accuracy_train: 0.9763, loss_valid: 0.2399, accuracy_valid: 0.9192, 0.4856sec\n",
      "epoch: 167, loss_train: 0.0988, accuracy_train: 0.9757, loss_valid: 0.2402, accuracy_valid: 0.9177, 0.4832sec\n"
     ]
    }
   ],
   "source": [
    "# datasetの作成\n",
    "dataset_train = CreateDataset(X_train, y_train)\n",
    "dataset_valid = CreateDataset(X_valid, y_valid)\n",
    "\n",
    "# モデルの定義\n",
    "model = MLPNet(300, 200, 4, 1)\n",
    "\n",
    "# 損失関数の定義\n",
    "criterion = nn.CrossEntropyLoss()\n",
    "\n",
    "# オプティマイザの定義\n",
    "optimizer = torch.optim.SGD(model.parameters(), lr=1e-3)\n",
    "\n",
    "# デバイスの指定\n",
    "device = torch.device('cuda')\n",
    "\n",
    "# モデルの学習\n",
    "log = train_model(dataset_train, dataset_valid, 64, model, criterion, optimizer, 1000, device)"
   ]
  },
  {
   "cell_type": "code",
   "execution_count": 43,
   "metadata": {
    "colab": {
     "base_uri": "https://localhost:8080/"
    },
    "id": "qv0V4iMeTMq8",
    "outputId": "f861e535-27e9-4b41-e577-bcd4c0fa03d9"
   },
   "outputs": [
    {
     "data": {
      "image/png": "[encoded data removed]",
      "text/plain": [
       "<Figure size 1080x360 with 2 Axes>"
      ]
     },
     "metadata": {
      "needs_background": "light"
     },
     "output_type": "display_data"
    }
   ],
   "source": [
    "fig, ax = plt.subplots(1, 2, figsize=(15, 5))\n",
    "ax[0].plot(np.array(log['train']).T[0], label='train')\n",
    "ax[0].plot(np.array(log['valid']).T[0], label='valid')\n",
    "ax[0].set_xlabel('epoch')\n",
    "ax[0].set_ylabel('loss')\n",
    "ax[0].legend()\n",
    "ax[1].plot(np.array(log['train']).T[1], label='train')\n",
    "ax[1].plot(np.array(log['valid']).T[1], label='valid')\n",
    "ax[1].set_xlabel('epoch')\n",
    "ax[1].set_ylabel('accuracy')\n",
    "ax[1].legend()\n",
    "plt.show()"
   ]
  },
  {
   "cell_type": "code",
   "execution_count": 44,
   "metadata": {
    "id": "NtG5_OjtTO25"
   },
   "outputs": [],
   "source": [
    "def calculate_accuracy(model, loader, device):\n",
    "  model.eval()\n",
    "  total = 0\n",
    "  correct = 0\n",
    "  with torch.no_grad():\n",
    "    for inputs, labels in loader:\n",
    "      inputs = inputs.to(device)\n",
    "      labels = labels.to(device)\n",
    "      outputs = model(inputs)\n",
    "      pred = torch.argmax(outputs, dim=-1)\n",
    "      total += len(inputs)\n",
    "      correct += (pred == labels).sum().item()\n",
    "\n",
    "  return correct / total"
   ]
  },
  {
   "cell_type": "code",
   "execution_count": 45,
   "metadata": {
    "colab": {
     "base_uri": "https://localhost:8080/"
    },
    "id": "i4fOT4FMTO9O",
    "outputId": "ac3537c5-9fa1-40c9-eb70-a5b9ebbab460"
   },
   "outputs": [
    {
     "name": "stdout",
     "output_type": "stream",
     "text": [
      "accuracy of train：0.976\n",
      "accuracy of test ：0.911\n"
     ]
    }
   ],
   "source": [
    "# 正解率の確認\n",
    "acc_train = calculate_accuracy(model, dataloader_train, device)\n",
    "acc_test = calculate_accuracy(model, dataloader_test, device)\n",
    "print(f'accuracy of train：{acc_train:.3f}')\n",
    "print(f'accuracy of test ：{acc_test:.3f}')"
   ]
  },
  {
   "cell_type": "code",
   "execution_count": null,
   "metadata": {},
   "outputs": [],
   "source": [
    "#以前のものと比べて精度がかなり良くなっている"
   ]
  },
  {
   "cell_type": "code",
   "execution_count": null,
   "metadata": {},
   "outputs": [],
   "source": []
  }
 ],
 "metadata": {
  "accelerator": "GPU",
  "colab": {
   "name": "100本ノック 8章.ipynb",
   "provenance": []
  },
  "kernelspec": {
   "display_name": "Python 3",
   "language": "python",
   "name": "python3"
  },
  "language_info": {
   "codemirror_mode": {
    "name": "ipython",
    "version": 3
   },
   "file_extension": ".py",
   "mimetype": "text/x-python",
   "name": "python",
   "nbconvert_exporter": "python",
   "pygments_lexer": "ipython3",
   "version": "3.8.8"
  }
 },
 "nbformat": 4,
 "nbformat_minor": 4
}
