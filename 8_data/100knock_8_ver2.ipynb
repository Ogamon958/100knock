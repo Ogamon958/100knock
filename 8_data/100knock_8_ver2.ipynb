{
 "cells": [
  {
   "cell_type": "code",
   "execution_count": 1,
   "metadata": {
    "colab": {
     "base_uri": "https://localhost:8080/"
    },
    "id": "JfV5-mY1wz6z",
    "outputId": "d99f5e22-7175-4c28-fbb6-51feb5027c7b"
   },
   "outputs": [
    {
     "name": "stdout",
     "output_type": "stream",
     "text": [
      "--2022-01-10 14:25:13--  https://archive.ics.uci.edu/ml/machine-learning-databases/00359/NewsAggregatorDataset.zip\n",
      "Resolving archive.ics.uci.edu (archive.ics.uci.edu)... 128.195.10.252\n",
      "Connecting to archive.ics.uci.edu (archive.ics.uci.edu)|128.195.10.252|:443... connected.\n",
      "HTTP request sent, awaiting response... 200 OK\n",
      "Length: 29224203 (28M) [application/x-httpd-php]\n",
      "Saving to: ‘NewsAggregatorDataset.zip’\n",
      "\n",
      "NewsAggregatorDatas 100%[===================>]  27.87M  15.6MB/s    in 1.8s    \n",
      "\n",
      "2022-01-10 14:25:16 (15.6 MB/s) - ‘NewsAggregatorDataset.zip’ saved [29224203/29224203]\n",
      "\n",
      "Archive:  NewsAggregatorDataset.zip\n",
      "  inflating: 2pageSessions.csv       \n",
      "   creating: __MACOSX/\n",
      "  inflating: __MACOSX/._2pageSessions.csv  \n",
      "  inflating: newsCorpora.csv         \n",
      "  inflating: __MACOSX/._newsCorpora.csv  \n",
      "  inflating: readme.txt              \n",
      "  inflating: __MACOSX/._readme.txt   \n"
     ]
    }
   ],
   "source": [
    "#70\n",
    "#途中まで50と同じ\n",
    "\n",
    "#データダウンロード\n",
    "!wget https://archive.ics.uci.edu/ml/machine-learning-databases/00359/NewsAggregatorDataset.zip\n",
    "!unzip NewsAggregatorDataset.zip"
   ]
  },
  {
   "cell_type": "code",
   "execution_count": 2,
   "metadata": {
    "colab": {
     "base_uri": "https://localhost:8080/"
    },
    "id": "KKLkxv7GA3ga",
    "outputId": "779b7472-1d6d-4bc6-c0cb-1763f32b8ff9"
   },
   "outputs": [
    {
     "name": "stdout",
     "output_type": "stream",
     "text": [
      "SUMMARY: Dataset of references (urls) to news web pages\n",
      "\n",
      "DESCRIPTION: Dataset of references to news web pages collected from an online aggregator in the period from March 10 to August 10 of 2014. The resources are grouped into clusters that represent pages discussing the same news story. The dataset includes also references to web pages that point (has a link to) one of the news page in the collection.\n",
      "\n",
      "TAGS: web pages, news, aggregator, classification, clustering\n",
      "\n",
      "LICENSE: Public domain - Due to restrictions on content and use of the news sources, the corpus is limited to web references (urls) to web pages and does not include any text content. The references have been retrieved from the news aggregator through traditional web browsers. \n",
      "\n",
      "FILE ENCODING: UTF-8\n",
      "\n",
      "FORMAT: Tab delimited CSV files. \n",
      "\n",
      "DATA SHAPE AND STATS: 422937 news pages and divided up into:\n",
      "\n",
      "152746 \tnews of business category\n",
      "108465 \tnews of science and technology category\n",
      "115920 \tnews of business category\n",
      " 45615 \tnews of health category\n",
      "\n",
      "2076 clusters of similar news for entertainment category\n",
      "1789 clusters of similar news for science and technology category\n",
      "2019 clusters of similar news for business category\n",
      "1347 clusters of similar news for health category\n",
      "\n",
      "References to web pages containing a link to one news included in the collection are also included. They are represented as pairs of urls corresponding to 2-page browsing sessions. The collection includes 15516 2-page browsing sessions covering 946 distinct clusters divided up into:\n",
      "\n",
      "6091 2-page sessions for business category\n",
      "9425 2-page sessions for entertainment category\n",
      "\n",
      " \n",
      "\n",
      "CONTENT\n",
      "=======\n",
      "\n",
      "FILENAME #1: newsCorpora.csv (102.297.000 bytes)\n",
      "DESCRIPTION: News pages\n",
      "FORMAT: ID \\t TITLE \\t URL \\t PUBLISHER \\t CATEGORY \\t STORY \\t HOSTNAME \\t TIMESTAMP\n",
      "\n",
      "where:\n",
      "ID\t\tNumeric ID\n",
      "TITLE\t\tNews title \n",
      "URL\t\tUrl\n",
      "PUBLISHER\tPublisher name\n",
      "CATEGORY\tNews category (b = business, t = science and technology, e = entertainment, m = health)\n",
      "STORY\t\tAlphanumeric ID of the cluster that includes news about the same story\n",
      "HOSTNAME\tUrl hostname\n",
      "TIMESTAMP \tApproximate time the news was published, as the number of milliseconds since the epoch 00:00:00 GMT, January 1, 1970\n",
      "\n",
      "\n",
      "FILENAME #2: 2pageSessions.csv (3.049.986 bytes)\n",
      "DESCRIPTION: 2-page sessions\n",
      "FORMAT: STORY \\t HOSTNAME \\t CATEGORY \\t URL\n",
      "\n",
      "where:\n",
      "STORY\t\tAlphanumeric ID of the cluster that includes news about the same story\n",
      "HOSTNAME\tUrl hostname\n",
      "CATEGORY\tNews category (b = business, t = science and technology, e = entertainment, m = health)\n",
      "URL\t\tTwo space-delimited urls representing a browsing session\n"
     ]
    }
   ],
   "source": [
    "!cat ./readme.txt"
   ]
  },
  {
   "cell_type": "code",
   "execution_count": 3,
   "metadata": {
    "colab": {
     "base_uri": "https://localhost:8080/"
    },
    "id": "CMCS_njh-l7s",
    "outputId": "e20ad656-aef4-4415-8ce4-370a022faaeb"
   },
   "outputs": [
    {
     "name": "stdout",
     "output_type": "stream",
     "text": [
      "422937 ./newsCorpora.csv\n"
     ]
    }
   ],
   "source": [
    "# 行数の確認\n",
    "!wc -l ./newsCorpora.csv"
   ]
  },
  {
   "cell_type": "code",
   "execution_count": 4,
   "metadata": {
    "colab": {
     "base_uri": "https://localhost:8080/"
    },
    "id": "tdfMbnpu-qiL",
    "outputId": "871f21d5-2bca-40df-8d3d-29446198ed1d"
   },
   "outputs": [
    {
     "name": "stdout",
     "output_type": "stream",
     "text": [
      "1\tFed official says weak data caused by weather, should not slow taper\thttp://www.latimes.com/business/money/la-fi-mo-federal-reserve-plosser-stimulus-economy-20140310,0,1312750.story\\?track=rss\tLos Angeles Times\tb\tddUyU0VZz0BRneMioxUPQVP6sIxvM\twww.latimes.com\t1394470370698\n",
      "2\tFed's Charles Plosser sees high bar for change in pace of tapering\thttp://www.livemint.com/Politics/H2EvwJSK2VE6OF7iK1g3PP/Feds-Charles-Plosser-sees-high-bar-for-change-in-pace-of-ta.html\tLivemint\tb\tddUyU0VZz0BRneMioxUPQVP6sIxvM\twww.livemint.com\t1394470371207\n",
      "3\tUS open: Stocks fall after Fed official hints at accelerated tapering\thttp://www.ifamagazine.com/news/us-open-stocks-fall-after-fed-official-hints-at-accelerated-tapering-294436\tIFA Magazine\tb\tddUyU0VZz0BRneMioxUPQVP6sIxvM\twww.ifamagazine.com\t1394470371550\n",
      "4\tFed risks falling 'behind the curve', Charles Plosser says\thttp://www.ifamagazine.com/news/fed-risks-falling-behind-the-curve-charles-plosser-says-294430\tIFA Magazine\tb\tddUyU0VZz0BRneMioxUPQVP6sIxvM\twww.ifamagazine.com\t1394470371793\n",
      "5\tFed's Plosser: Nasty Weather Has Curbed Job Growth\thttp://www.moneynews.com/Economy/federal-reserve-charles-plosser-weather-job-growth/2014/03/10/id/557011\tMoneynews\tb\tddUyU0VZz0BRneMioxUPQVP6sIxvM\twww.moneynews.com\t1394470372027\n",
      "6\tPlosser: Fed May Have to Accelerate Tapering Pace\thttp://www.nasdaq.com/article/plosser-fed-may-have-to-accelerate-tapering-pace-20140310-00371\tNASDAQ\tb\tddUyU0VZz0BRneMioxUPQVP6sIxvM\twww.nasdaq.com\t1394470372212\n",
      "7\tFed's Plosser: Taper pace may be too slow\thttp://www.marketwatch.com/story/feds-plosser-taper-pace-may-be-too-slow-2014-03-10\\?reflink=MW_news_stmp\tMarketWatch\tb\tddUyU0VZz0BRneMioxUPQVP6sIxvM\twww.marketwatch.com\t1394470372405\n",
      "8\tFed's Plosser expects US unemployment to fall to 6.2% by the end of 2014\thttp://www.fxstreet.com/news/forex-news/article.aspx\\?storyid=23285020-b1b5-47ed-a8c4-96124bb91a39\tFXstreet.com\tb\tddUyU0VZz0BRneMioxUPQVP6sIxvM\twww.fxstreet.com\t1394470372615\n",
      "9\tUS jobs growth last month hit by weather:Fed President Charles Plosser\thttp://economictimes.indiatimes.com/news/international/business/us-jobs-growth-last-month-hit-by-weatherfed-president-charles-plosser/articleshow/31788000.cms\tEconomic Times\tb\tddUyU0VZz0BRneMioxUPQVP6sIxvM\teconomictimes.indiatimes.com\t1394470372792\n",
      "10\tECB unlikely to end sterilisation of SMP purchases - traders\thttp://www.iii.co.uk/news-opinion/reuters/news/152615\tInteractive Investor\tb\tdPhGU51DcrolUIMxbRm0InaHGA2XM\twww.iii.co.uk\t1394470501265\n",
      "11\tECB unlikely to end sterilization of SMP purchases: traders\thttp://in.reuters.com/article/2014/03/10/us-ecb-refi-poll-idINBREA290VH20140310\tReuters India\tb\tdPhGU51DcrolUIMxbRm0InaHGA2XM\tin.reuters.com\t1394470501410\n",
      "12\tEU's half-baked bank union could work\thttp://blogs.reuters.com/hugo-dixon/2014/03/10/eus-half-baked-bank-union-could-work/\tReuters UK \\(blog\\)\tb\tdPhGU51DcrolUIMxbRm0InaHGA2XM\tblogs.reuters.com\t1394470501587\n",
      "13\tEurope reaches crunch point on banking union\thttp://in.reuters.com/article/2014/03/10/eu-banks-resoluton-idINL6N0M71NJ20140310\tReuters\tb\tdPhGU51DcrolUIMxbRm0InaHGA2XM\tin.reuters.com\t1394470501755\n",
      "14\tECB FOCUS-Stronger euro drowns out ECB's message to keep rates low for  ...\thttp://in.reuters.com/article/2014/03/10/ecb-policy-idINL6N0M71K320140310\tReuters\tb\tdPhGU51DcrolUIMxbRm0InaHGA2XM\tin.reuters.com\t1394470501948\n",
      "15\tEU aims for deal on tackling failing banks\thttp://main.omanobserver.om/\\?p=63376\tOman Daily Observer\tb\tdPhGU51DcrolUIMxbRm0InaHGA2XM\tmain.omanobserver.om\t1394470502141\n"
     ]
    }
   ],
   "source": [
    "# 先頭15行の確認\n",
    "!head -15 ./newsCorpora.csv"
   ]
  },
  {
   "cell_type": "code",
   "execution_count": 5,
   "metadata": {
    "colab": {
     "base_uri": "https://localhost:8080/"
    },
    "id": "LzEY-tUx-xQR",
    "outputId": "39173f95-6a20-468e-a84a-10886f7608cf"
   },
   "outputs": [
    {
     "name": "stdout",
     "output_type": "stream",
     "text": [
      "422923\tBritish Ebola sufferer gets new drug\thttp://www.echo.net.au/2014/08/british-ebola-sufferer-gets-new-drug/\tEchonetdaily\tm\tdhhnSHVoyA7ENBM3boDX_D_-3PV6M\twww.echo.net.au\t1409228456773\n",
      "422924\tAFDB Boss Says Ebola Infected Countries May Lose1.5% GDP\thttp://leadership.ng/business/382219/afdb-boss-says-ebola-infected-countries-may-lose1-5-gdp\tLeadership Newspapers\tm\tdhhnSHVoyA7ENBM3boDX_D_-3PV6M\tleadership.ng\t1409228457129\n",
      "422925\tCincinnati Children's to rebuild boy's throat using his rib (Video)\thttp://www.bizjournals.com/cincinnati/news/2014/08/27/cincinnati-children-s-to-rebuild-boy-s-throat.html\tCincinnati Business Courier\tm\tdpcLMoJD69UYMXMxaoEFnWql9YjQM\twww.bizjournals.com\t1409229187092\n",
      "422926\tCincinnati doctors use child's rib to rebuild his throat\thttp://www.jrn.com/kgun9/now-trending/Cincinnati-doctors-use-childs-rib-to-rebuild-his-throat-272896791.html\tKGUN 9\tm\tdpcLMoJD69UYMXMxaoEFnWql9YjQM\twww.jrn.com\t1409229187393\n",
      "422927\tCincinnati Children's surgeons rebuild throat of 4-year-old who swallowed battery\thttp://www.kptv.com/story/26378648/surgeons-remove-4-year-olds-rib-to-rebuild-damaged-throat\tKPTV.com\tm\tdpcLMoJD69UYMXMxaoEFnWql9YjQM\twww.kptv.com\t1409229187741\n",
      "422928\tSurgeons remove 4-year-old's rib to rebuild damaged throat - WNEM TV 5\thttp://www.wnem.com/story/26378648/surgeons-remove-4-year-olds-rib-to-rebuild-damaged-throat\tWNEM Saginaw\tm\tdpcLMoJD69UYMXMxaoEFnWql9YjQM\twww.wnem.com\t1409229188173\n",
      "422929\tSurgery update for boy who swallowed battery\thttp://www.local12.com/news/features/top-stories/stories/surgery-update-boy-swallowed-battery-16741.shtml\tWKRC TV Cincinnati\tm\tdpcLMoJD69UYMXMxaoEFnWql9YjQM\twww.local12.com\t1409229188577\n",
      "422930\tBoy who swallowed battery headed for surgery\thttp://www.kgns.tv/health/headlines/Boy-who-swallowed-battery-headed-for-surgery-272903281.html\tKGNS.tv\tm\tdpcLMoJD69UYMXMxaoEFnWql9YjQM\twww.kgns.tv\t1409229188921\n",
      "422931\tOhio Boy's Throat Rebuilt After Being Burned By Battery\thttp://www.keyetv.com/news/features/top-stories/stories/ohio-boys-throat-rebuilt-after-being-burned-battery-20397.shtml\tKEYE TV\tm\tdpcLMoJD69UYMXMxaoEFnWql9YjQM\twww.keyetv.com\t1409229189229\n",
      "422932\tCincinnati Children's surgeons to rebuild throat of 4-year-old who swallowed  ...\thttp://www.wsmv.com/story/26378648/surgeons-removed-4-year-olds-rib-to-rebuild-his-damaged-throat\tWSMV Nashville\tm\tdpcLMoJD69UYMXMxaoEFnWql9YjQM\twww.wsmv.com\t1409229189743\n",
      "422933\tSurgeons to remove 4-year-old's rib to rebuild damaged throat - CBS 3  ...\thttp://www.cbs3springfield.com/story/26378648/surgeons-removed-4-year-olds-rib-to-rebuild-his-damaged-throat\tWSHM-TV\tm\tdpcLMoJD69UYMXMxaoEFnWql9YjQM\twww.cbs3springfield.com\t1409229190251\n",
      "422934\tBoy to have surgery on esophagus after battery burns hole in throat\thttp://www.wlwt.com/news/boy-to-have-surgery-on-esophagus-after-battery-burns-hole-in-throat/27741396\tWLWT Cincinnati\tm\tdpcLMoJD69UYMXMxaoEFnWql9YjQM\twww.wlwt.com\t1409229190508\n",
      "422935\tChild who swallowed battery to have reconstructive surgery at Cincinnati  ...\thttp://www.newsnet5.com/news/local-news/child-who-swallowed-battery-to-have-reconstructive-surgery-at-cincinnati-childrens-hospital\tNewsNet5.com\tm\tdpcLMoJD69UYMXMxaoEFnWql9YjQM\twww.newsnet5.com\t1409229190771\n",
      "422936\tPhoenix boy undergoes surgery to repair throat damage - WFSB 3 Connecticut\thttp://www.wfsb.com/story/26368078/phoenix-boy-undergoes-surgery-to-repair-throat-damage-from-button-battery\tWFSB\tm\tdpcLMoJD69UYMXMxaoEFnWql9YjQM\twww.wfsb.com\t1409229191071\n",
      "422937\tPhoenix boy undergoes surgery to repair throat damage - CBS 3 Springfield  ...\thttp://www.cbs3springfield.com/story/26368078/phoenix-boy-undergoes-surgery-to-repair-throat-damage-from-button-battery\tWSHM-TV\tm\tdpcLMoJD69UYMXMxaoEFnWql9YjQM\twww.cbs3springfield.com\t1409229191565\n"
     ]
    }
   ],
   "source": [
    "  #最後15行の確認\n",
    "  !tail -15 ./newsCorpora.csv"
   ]
  },
  {
   "cell_type": "code",
   "execution_count": 6,
   "metadata": {
    "id": "p-dPb-zAKSbE"
   },
   "outputs": [],
   "source": [
    "# 読込時のエラー回避のためダブルクォーテーションをシングルクォーテーションに置換\n",
    "!sed -e 's/\"/'\\''/g' ./newsCorpora.csv > ./newsCorpora_re.csv"
   ]
  },
  {
   "cell_type": "code",
   "execution_count": 7,
   "metadata": {
    "colab": {
     "base_uri": "https://localhost:8080/"
    },
    "id": "Kp7hXril-95V",
    "outputId": "c47bf413-ef4d-4d4d-e546-f27caf72bd27"
   },
   "outputs": [
    {
     "name": "stdout",
     "output_type": "stream",
     "text": [
      "【学習データ】\n",
      "b    4501\n",
      "e    4235\n",
      "t    1220\n",
      "m     728\n",
      "Name: CATEGORY, dtype: int64\n",
      "【検証データ】\n",
      "b    563\n",
      "e    529\n",
      "t    153\n",
      "m     91\n",
      "Name: CATEGORY, dtype: int64\n",
      "【評価データ】\n",
      "b    563\n",
      "e    530\n",
      "t    152\n",
      "m     91\n",
      "Name: CATEGORY, dtype: int64\n"
     ]
    }
   ],
   "source": [
    "import pandas as pd\n",
    "from sklearn.model_selection import train_test_split\n",
    "\n",
    "# データの読込\n",
    "df = pd.read_csv('./newsCorpora_re.csv', header=None, sep='\\t', names=['ID', 'TITLE', 'URL', 'PUBLISHER', 'CATEGORY', 'STORY', 'HOSTNAME', 'TIMESTAMP']) #具体例からこのように分ける\n",
    "\n",
    "# データの抽出\n",
    "df = df.loc[df['PUBLISHER'].isin(['Reuters', 'Huffington Post', 'Businessweek', 'Contactmusic.com', 'Daily Mail']), ['TITLE', 'CATEGORY']] #publisherが”Reuters”, “Huffington Post”, “Businessweek”, “Contactmusic.com”, “Daily Mail”であるものの、そのカテゴリ名と記事見出しを抽出 isin https://vector-ium.com/pandas-isin/  loc(列ラベル) https://note.nkmk.me/python-pandas-at-iat-loc-iloc/\n",
    "\n",
    "# データの分割\n",
    "train, valid_test = train_test_split(df, test_size=0.2, shuffle=True, random_state=42, stratify=df['CATEGORY']) #学習データ80%とその他20%に分ける train_test_splitについて https://qiita.com/KyleKatarn/items/2afa6787f04f28e2cd2d\n",
    "valid, test = train_test_split(valid_test, test_size=0.5, shuffle=True, random_state=42, stratify=valid_test['CATEGORY']) #その他に分けられたデータを半分ずつ検証データと評価データに分類(全体から見ると10%,10%)\n",
    "\n",
    "# データの保存\n",
    "train.to_csv('./train.txt', sep='\\t', index=False)\n",
    "valid.to_csv('./valid.txt', sep='\\t', index=False)\n",
    "test.to_csv('./test.txt', sep='\\t', index=False)\n",
    "\n",
    "# 事例数の確認\n",
    "print('【学習データ】')\n",
    "print(train['CATEGORY'].value_counts())\n",
    "print('【検証データ】')\n",
    "print(valid['CATEGORY'].value_counts())\n",
    "print('【評価データ】')\n",
    "print(test['CATEGORY'].value_counts())"
   ]
  },
  {
   "cell_type": "markdown",
   "metadata": {
    "id": "4COs391MWR_g"
   },
   "source": [
    "b: ビジネス → 0 \\\n",
    "e: エンターテイメント → 2 \\\n",
    "t: 科学技術 → 1 \\\n",
    "m: 健康 → 3"
   ]
  },
  {
   "cell_type": "code",
   "execution_count": 8,
   "metadata": {
    "colab": {
     "base_uri": "https://localhost:8080/"
    },
    "id": "Lv6U3WeA1Ecr",
    "outputId": "c4995f12-8432-4ba3-965f-b0ba66b6ebed",
    "tags": []
   },
   "outputs": [
    {
     "name": "stdout",
     "output_type": "stream",
     "text": [
      "TITLE\tCATEGORY\n",
      "UPDATE 1-Sandwich chain Quiznos files for bankruptcy protection\tb\n",
      "Iraq concerns lift top-rated euro zone bonds but Fed limits gains\tb\n",
      "China Manufacturing Gauge Rises in Stabilization Sign: Economy\tb\n",
      "Crucifixion: A New Way to Think About Jesus' Death\te\n",
      "Tracy Morgan still critical but 'doing better' following deadly crash which killed his  ...\te\n",
      "FOREX-Dollar off to slow start in event-packed week\tb\n",
      "Alstom should be a good investment for France, says CEO Kron\tb\n",
      "Diabetes-Related Problems Have Decreased Over Last 20 Years\tm\n",
      "2 Cases Of Ebola Confirmed In Liberia\tm\n",
      "'You Are Not Pregnant. We're Pregnant!' Mila Kunis Tells Off Overeager Fathers  ...\te\n",
      "Home > Justin Bieber > Justin Bieber Sends Selena Gomez $10k Flowers?\te\n",
      "Data storage firm Box files for US IPO of about $250 million\tb\n",
      "Cocaine use in U.S. cut in HALF while marijuana use jumps 30 per cent\tm\n",
      "UPDATE 1-HKMA intervenes as deals, China optimism spur Hong Kong dollar  ...\tb\n"
     ]
    }
   ],
   "source": [
    "#確認\n",
    "!head -15 ./train.txt"
   ]
  },
  {
   "cell_type": "code",
   "execution_count": 9,
   "metadata": {
    "colab": {
     "base_uri": "https://localhost:8080/"
    },
    "id": "VlJSAaXAUgnx",
    "outputId": "7b8267f8-caa7-404f-bedf-f848cee3d85b"
   },
   "outputs": [
    {
     "name": "stdout",
     "output_type": "stream",
     "text": [
      "--2022-01-10 14:25:40--  https://s3.amazonaws.com/dl4j-distribution/GoogleNews-vectors-negative300.bin.gz\n",
      "Resolving s3.amazonaws.com (s3.amazonaws.com)... 52.217.99.230\n",
      "Connecting to s3.amazonaws.com (s3.amazonaws.com)|52.217.99.230|:443... connected.\n",
      "HTTP request sent, awaiting response... 200 OK\n",
      "Length: 1647046227 (1.5G) [application/x-gzip]\n",
      "Saving to: ‘GoogleNews-vectors-negative300.bin.gz’\n",
      "\n",
      "GoogleNews-vectors- 100%[===================>]   1.53G  17.9MB/s    in 1m 43s  \n",
      "\n",
      "2022-01-10 14:27:23 (15.3 MB/s) - ‘GoogleNews-vectors-negative300.bin.gz’ saved [1647046227/1647046227]\n",
      "\n"
     ]
    }
   ],
   "source": [
    "#ここから60と同様\n",
    "#問題の指定ページからダウンロードするとエラーが発生するので、https://ja.stackoverflow.com/questions/78347/not-a-gzipped-file-b%E3%81%AE%E3%82%A8%E3%83%A9%E3%83%BC を参考にダウンロードする\n",
    "\n",
    "!wget https://s3.amazonaws.com/dl4j-distribution/GoogleNews-vectors-negative300.bin.gz"
   ]
  },
  {
   "cell_type": "code",
   "execution_count": 11,
   "metadata": {},
   "outputs": [
    {
     "name": "stdout",
     "output_type": "stream",
     "text": [
      "\u001b[33mWARNING: Value for scheme.headers does not match. Please report this to <https://github.com/pypa/pip/issues/9617>\n",
      "distutils: /opt/conda/include/python3.8/UNKNOWN\n",
      "sysconfig: /opt/conda/include/python3.8\u001b[0m\n",
      "\u001b[33mWARNING: Additional context:\n",
      "user = False\n",
      "home = None\n",
      "root = None\n",
      "prefix = None\u001b[0m\n",
      "Collecting gensim\n",
      "  Downloading gensim-4.1.2-cp38-cp38-manylinux_2_12_x86_64.manylinux2010_x86_64.whl (24.1 MB)\n",
      "\u001b[K     |████████████████████████████████| 24.1 MB 6.6 MB/s eta 0:00:01\n",
      "\u001b[?25hRequirement already satisfied: numpy>=1.17.0 in /opt/conda/lib/python3.8/site-packages (from gensim) (1.19.5)\n",
      "Collecting smart-open>=1.8.1\n",
      "  Downloading smart_open-5.2.1-py3-none-any.whl (58 kB)\n",
      "\u001b[K     |████████████████████████████████| 58 kB 12.0 MB/s eta 0:00:01\n",
      "\u001b[?25hRequirement already satisfied: scipy>=0.18.1 in /opt/conda/lib/python3.8/site-packages (from gensim) (1.6.2)\n",
      "Installing collected packages: smart-open, gensim\n",
      "\u001b[33mWARNING: Value for scheme.headers does not match. Please report this to <https://github.com/pypa/pip/issues/9617>\n",
      "distutils: /opt/conda/include/python3.8/UNKNOWN\n",
      "sysconfig: /opt/conda/include/python3.8\u001b[0m\n",
      "\u001b[33mWARNING: Additional context:\n",
      "user = False\n",
      "home = None\n",
      "root = None\n",
      "prefix = None\u001b[0m\n",
      "Successfully installed gensim-4.1.2 smart-open-5.2.1\n"
     ]
    }
   ],
   "source": [
    "!pip install gensim"
   ]
  },
  {
   "cell_type": "code",
   "execution_count": 12,
   "metadata": {
    "id": "YS1n7uy2aYQc"
   },
   "outputs": [],
   "source": [
    "from gensim.models import KeyedVectors\n",
    "\n",
    "model = KeyedVectors.load_word2vec_format('./GoogleNews-vectors-negative300.bin.gz', binary=True)"
   ]
  },
  {
   "cell_type": "code",
   "execution_count": 13,
   "metadata": {
    "id": "ZCZlCuqWS0GF"
   },
   "outputs": [],
   "source": [
    "#ここから70新規コード\n",
    "import string\n",
    "import torch #pytorchを利用\n",
    "\n",
    "def transform_w2v(text):\n",
    "  table = str.maketrans(string.punctuation, ' '*len(string.punctuation)) #記号をスペースに変換するテーブル(string.punctuationは英数字以外のアスキー文字のこと)作成\n",
    "  words = text.translate(table).split()  # 記号をスペースに置換後、スペースで分割してリスト化\n",
    "  vec = [model[word] for word in words if word in model]  # 1語ずつベクトル化\n",
    "\n",
    "  return torch.tensor(sum(vec) / len(vec))  # 平均ベクトルをTensor型に変換して出力"
   ]
  },
  {
   "cell_type": "code",
   "execution_count": 14,
   "metadata": {
    "colab": {
     "base_uri": "https://localhost:8080/"
    },
    "id": "P3TGDoDjS06v",
    "outputId": "f45dbe5a-143d-4f7e-c3e2-029f07e4ef3c"
   },
   "outputs": [
    {
     "name": "stdout",
     "output_type": "stream",
     "text": [
      "torch.Size([10684, 300])\n",
      "tensor([[-0.0295,  0.0653, -0.0597,  ..., -0.0425,  0.0027,  0.0337],\n",
      "        [-0.0255,  0.0341,  0.0286,  ...,  0.0039,  0.0291, -0.0840],\n",
      "        [ 0.0564, -0.0839, -0.1227,  ...,  0.0672,  0.1786, -0.1000],\n",
      "        ...,\n",
      "        [ 0.1737, -0.1069, -0.1205,  ..., -0.0406,  0.1069, -0.0029],\n",
      "        [-0.0738, -0.0352, -0.0405,  ...,  0.0280,  0.0646,  0.0919],\n",
      "        [ 0.0394,  0.0317,  0.0094,  ...,  0.0160,  0.0709,  0.0104]])\n"
     ]
    }
   ],
   "source": [
    "# 特徴ベクトルの作成\n",
    "X_train = torch.stack([transform_w2v(text) for text in train['TITLE']])\n",
    "X_valid = torch.stack([transform_w2v(text) for text in valid['TITLE']])\n",
    "X_test = torch.stack([transform_w2v(text) for text in test['TITLE']])\n",
    "\n",
    "#確認\n",
    "print(X_train.size())\n",
    "print(X_train)"
   ]
  },
  {
   "cell_type": "code",
   "execution_count": 15,
   "metadata": {
    "colab": {
     "base_uri": "https://localhost:8080/"
    },
    "id": "innzO0ilS2iA",
    "outputId": "58c5bdd1-4a1b-48b8-eea4-c583492d0dff"
   },
   "outputs": [
    {
     "name": "stdout",
     "output_type": "stream",
     "text": [
      "torch.Size([10684])\n",
      "tensor([0, 0, 0,  ..., 2, 0, 0])\n"
     ]
    }
   ],
   "source": [
    "# ラベルベクトルの作成\n",
    "category_dict = {'b': 0, 't': 1, 'e':2, 'm':3}\n",
    "y_train = torch.tensor(train['CATEGORY'].map(lambda x: category_dict[x]).values) #mapについて（イテレータを利用） https://note.nkmk.me/python-map-usage/\n",
    "y_valid = torch.tensor(valid['CATEGORY'].map(lambda x: category_dict[x]).values)\n",
    "y_test = torch.tensor(test['CATEGORY'].map(lambda x: category_dict[x]).values)\n",
    "\n",
    "#確認\n",
    "print(y_train.size())\n",
    "print(y_train)"
   ]
  },
  {
   "cell_type": "code",
   "execution_count": 16,
   "metadata": {
    "id": "sQLiU2dIS57u"
   },
   "outputs": [],
   "source": [
    "# 保存\n",
    "torch.save(X_train, 'X_train.pt')\n",
    "torch.save(X_valid, 'X_valid.pt')\n",
    "torch.save(X_test, 'X_test.pt')\n",
    "torch.save(y_train, 'y_train.pt')\n",
    "torch.save(y_valid, 'y_valid.pt')\n",
    "torch.save(y_test, 'y_test.pt')"
   ]
  },
  {
   "cell_type": "code",
   "execution_count": 17,
   "metadata": {
    "id": "RNfAlxyVSC-8"
   },
   "outputs": [],
   "source": [
    "#71\n",
    "from torch import nn #pytorchのニューラルネットワークを使う\n",
    "\n",
    "class SLPNet(nn.Module): #継承する 単層ニューラルネットーワーク生成\n",
    "  def __init__(self, input_size, output_size):\n",
    "    super().__init__() #super.__init__について https://qiita.com/Anaakikutsushit/items/c67d4edb0c01a97f3130\n",
    "    self.fc = nn.Linear(input_size, output_size, bias=False)\n",
    "    #nn.init.normal_(self.fc.weight, 0.0, 1.0)  # 正規乱数で重みをランダムに初期化\n",
    "\n",
    "  def forward(self, x):\n",
    "    x = self.fc(x)\n",
    "    return x"
   ]
  },
  {
   "cell_type": "code",
   "execution_count": 18,
   "metadata": {
    "colab": {
     "base_uri": "https://localhost:8080/"
    },
    "id": "pHLTU5adSEXC",
    "outputId": "f36d6c02-449a-48cc-a01d-9c31eb83ef70"
   },
   "outputs": [
    {
     "name": "stdout",
     "output_type": "stream",
     "text": [
      "tensor([[0.2454, 0.2350, 0.2439, 0.2757]], grad_fn=<SoftmaxBackward>)\n"
     ]
    }
   ],
   "source": [
    "model = SLPNet(300, 4)  # 単層ニューラルネットワークの初期化(300次元の単語ベクトルの4カテゴリ分類)\n",
    "y_hat_1 = torch.softmax(model(X_train[:1]), dim=-1) #softmax関数\n",
    "print(y_hat_1) #確認"
   ]
  },
  {
   "cell_type": "code",
   "execution_count": 19,
   "metadata": {
    "colab": {
     "base_uri": "https://localhost:8080/"
    },
    "id": "eb0P2_dOSHSp",
    "outputId": "a0c22926-050c-4aed-ad01-5b861f0a2da9"
   },
   "outputs": [
    {
     "name": "stdout",
     "output_type": "stream",
     "text": [
      "tensor([[0.2454, 0.2350, 0.2439, 0.2757],\n",
      "        [0.2475, 0.2495, 0.2395, 0.2635],\n",
      "        [0.2373, 0.2350, 0.2442, 0.2836],\n",
      "        [0.2584, 0.2420, 0.2358, 0.2639]], grad_fn=<SoftmaxBackward>)\n"
     ]
    }
   ],
   "source": [
    "Y_hat = torch.softmax(model.forward(X_train[:4]), dim=-1)\n",
    "print(Y_hat) #確認"
   ]
  },
  {
   "cell_type": "code",
   "execution_count": 20,
   "metadata": {
    "colab": {
     "base_uri": "https://localhost:8080/"
    },
    "id": "UgNG14WSTNA0",
    "outputId": "bfca9ccd-c0b1-462a-a926-1dcd8acc80d5"
   },
   "outputs": [
    {
     "name": "stdout",
     "output_type": "stream",
     "text": [
      "loss: 1.4047\n",
      "gradient: tensor([[ 0.0222, -0.0493,  0.0450,  ...,  0.0321, -0.0020, -0.0254],\n",
      "        [-0.0069,  0.0153, -0.0140,  ..., -0.0100,  0.0006,  0.0079],\n",
      "        [-0.0072,  0.0159, -0.0146,  ..., -0.0104,  0.0007,  0.0082],\n",
      "        [-0.0081,  0.0180, -0.0165,  ..., -0.0117,  0.0007,  0.0093]])\n"
     ]
    }
   ],
   "source": [
    "#72\n",
    "criterion = nn.CrossEntropyLoss() # https://qiita.com/ground0state/items/8933f9ef54d6cd005a69 CrossEntropyloss について\n",
    "l_1 = criterion(model(X_train[:1]), y_train[:1])  # 入力ベクトルはsoftmax前の値, softmax前の事例がラベル通りに分類される確率のエントロピーを求めることになる\n",
    "model.zero_grad()  # 勾配をゼロで初期化\n",
    "l_1.backward()  # 勾配の計算を行う\n",
    "print(f'loss: {l_1:.4f}')\n",
    "print(f'gradient: {model.fc.weight.grad}')"
   ]
  },
  {
   "cell_type": "code",
   "execution_count": 21,
   "metadata": {
    "colab": {
     "base_uri": "https://localhost:8080/"
    },
    "id": "sroK8ThvTTXG",
    "outputId": "4c3f1850-d7c1-4ff9-e09a-6b244413cf6c"
   },
   "outputs": [
    {
     "name": "stdout",
     "output_type": "stream",
     "text": [
      "loss: 1.4212\n",
      "gradient: tensor([[ 0.0075, -0.0047,  0.0332,  ..., -0.0098, -0.0406,  0.0334],\n",
      "        [ 0.0074, -0.0008, -0.0053,  ..., -0.0023,  0.0119, -0.0046],\n",
      "        [-0.0233,  0.0067, -0.0209,  ...,  0.0144,  0.0146, -0.0235],\n",
      "        [ 0.0084, -0.0012, -0.0069,  ..., -0.0023,  0.0141, -0.0053]])\n"
     ]
    }
   ],
   "source": [
    "l = criterion(model(X_train[:4]), y_train[:4]) #集合事例に対しても同様に行う\n",
    "model.zero_grad()\n",
    "l.backward()\n",
    "print(f'loss: {l:.4f}')\n",
    "print(f'gradient: {model.fc.weight.grad}')"
   ]
  },
  {
   "cell_type": "code",
   "execution_count": 22,
   "metadata": {
    "id": "ho-OXNnNT0Ua"
   },
   "outputs": [],
   "source": [
    "#73 https://mathwords.net/sgd 確率的勾配降下法\n",
    "from torch.utils.data import Dataset #Datasetは特徴ベクトルとラベルベクトルを合わせて保持できる型である.\n",
    "\n",
    "class CreateDataset(Dataset): #継承する\n",
    "  def __init__(self, X, y):  # datasetの構成要素を指定\n",
    "    self.X = X\n",
    "    self.y = y\n",
    "\n",
    "  def __len__(self):  # len(dataset)で返す値を指定できるようにする\n",
    "    return len(self.y)\n",
    "\n",
    "  def __getitem__(self, idx):  # dataset[idx]で返す値を指定できるようにする\n",
    "    return [self.X[idx], self.y[idx]]"
   ]
  },
  {
   "cell_type": "code",
   "execution_count": 23,
   "metadata": {
    "id": "MGwwZmJJT_Wa"
   },
   "outputs": [],
   "source": [
    "from torch.utils.data import DataLoader #https://pytorch.org/docs/stable/data.html torch.utils.dataについて\n",
    "\n",
    "# Datasetの作成\n",
    "dataset_train = CreateDataset(X_train, y_train)\n",
    "dataset_valid = CreateDataset(X_valid, y_valid)\n",
    "dataset_test = CreateDataset(X_test, y_test)\n",
    "\n",
    "# Dataloaderの作成\n",
    "dataloader_train = DataLoader(dataset_train, batch_size=1, shuffle=True) #train時のデータ読み込み順に依存しないようにshuffleをTrueにする.\n",
    "dataloader_valid = DataLoader(dataset_valid, batch_size=len(dataset_valid), shuffle=False)\n",
    "dataloader_test = DataLoader(dataset_test, batch_size=len(dataset_test), shuffle=False)"
   ]
  },
  {
   "cell_type": "code",
   "execution_count": 24,
   "metadata": {
    "colab": {
     "base_uri": "https://localhost:8080/"
    },
    "id": "HKejswmWUCWN",
    "outputId": "798edbfb-9d3e-495c-f30f-4e0aa19f9608"
   },
   "outputs": [
    {
     "name": "stdout",
     "output_type": "stream",
     "text": [
      "epoch: 1, loss_train: 0.4008, loss_valid: 0.2969\n",
      "epoch: 2, loss_train: 0.2936, loss_valid: 0.2721\n",
      "epoch: 3, loss_train: 0.2732, loss_valid: 0.2635\n",
      "epoch: 4, loss_train: 0.2623, loss_valid: 0.2610\n",
      "epoch: 5, loss_train: 0.2546, loss_valid: 0.2567\n",
      "epoch: 6, loss_train: 0.2495, loss_valid: 0.2546\n",
      "epoch: 7, loss_train: 0.2456, loss_valid: 0.2563\n",
      "epoch: 8, loss_train: 0.2421, loss_valid: 0.2518\n",
      "epoch: 9, loss_train: 0.2392, loss_valid: 0.2547\n",
      "epoch: 10, loss_train: 0.2367, loss_valid: 0.2557\n",
      "epoch: 11, loss_train: 0.2351, loss_valid: 0.2541\n",
      "epoch: 12, loss_train: 0.2332, loss_valid: 0.2547\n",
      "epoch: 13, loss_train: 0.2323, loss_valid: 0.2586\n",
      "epoch: 14, loss_train: 0.2307, loss_valid: 0.2562\n",
      "epoch: 15, loss_train: 0.2289, loss_valid: 0.2541\n",
      "epoch: 16, loss_train: 0.2287, loss_valid: 0.2555\n",
      "epoch: 17, loss_train: 0.2277, loss_valid: 0.2570\n",
      "epoch: 18, loss_train: 0.2267, loss_valid: 0.2549\n",
      "epoch: 19, loss_train: 0.2262, loss_valid: 0.2576\n",
      "epoch: 20, loss_train: 0.2251, loss_valid: 0.2577\n",
      "epoch: 21, loss_train: 0.2239, loss_valid: 0.2634\n",
      "epoch: 22, loss_train: 0.2242, loss_valid: 0.2583\n",
      "epoch: 23, loss_train: 0.2239, loss_valid: 0.2606\n",
      "epoch: 24, loss_train: 0.2229, loss_valid: 0.2645\n",
      "epoch: 25, loss_train: 0.2224, loss_valid: 0.2574\n",
      "epoch: 26, loss_train: 0.2218, loss_valid: 0.2590\n",
      "epoch: 27, loss_train: 0.2219, loss_valid: 0.2609\n",
      "epoch: 28, loss_train: 0.2210, loss_valid: 0.2597\n",
      "epoch: 29, loss_train: 0.2215, loss_valid: 0.2614\n",
      "epoch: 30, loss_train: 0.2199, loss_valid: 0.2653\n"
     ]
    }
   ],
   "source": [
    "# モデルの定義\n",
    "model = SLPNet(300, 4)\n",
    "\n",
    "# 損失関数の定義\n",
    "criterion = nn.CrossEntropyLoss()\n",
    "\n",
    "# オプティマイザの定義(SGDを用いる) https://rightcode.co.jp/blog/information-technology/torch-optim-optimizer-compare-and-verify-update-process-and-performance-of-optimization-methods\n",
    "optimizer = torch.optim.SGD(model.parameters(), lr=0.1) #学習率は0.1とする\n",
    "\n",
    "# 学習\n",
    "num_epochs = 30 #30エポックで終了\n",
    "for epoch in range(num_epochs):\n",
    "  # 訓練モードに設定\n",
    "  model.train()\n",
    "  loss_train = 0.0\n",
    "  for i, (inputs, labels) in enumerate(dataloader_train):\n",
    "    # 勾配をゼロで初期化\n",
    "    optimizer.zero_grad()\n",
    "\n",
    "    outputs = model(inputs) #順伝播\n",
    "    loss = criterion(outputs, labels) #誤差の更新\n",
    "    loss.backward() #逆誤差伝播\n",
    "    optimizer.step() #重み更新\n",
    "\n",
    "    # 損失を記録\n",
    "    loss_train += loss.item()\n",
    "\n",
    "  # バッチ単位の平均損失計算\n",
    "  loss_train = loss_train / i\n",
    "\n",
    "  # 検証データの損失計算\n",
    "  model.eval() \n",
    "  with torch.no_grad():\n",
    "    inputs, labels = next(iter(dataloader_valid))\n",
    "    outputs = model(inputs)\n",
    "    loss_valid = criterion(outputs, labels)\n",
    "\n",
    "  # ログを出力\n",
    "  print(f'epoch: {epoch + 1}, loss_train: {loss_train:.4f}, loss_valid: {loss_valid:.4f}')  "
   ]
  },
  {
   "cell_type": "code",
   "execution_count": 25,
   "metadata": {
    "id": "uhpThwbaUFO6"
   },
   "outputs": [],
   "source": [
    "#74\n",
    "def calculate_accuracy(model, loader):\n",
    "  model.eval()\n",
    "  total = 0\n",
    "  correct = 0\n",
    "  with torch.no_grad():\n",
    "    for inputs, labels in loader:\n",
    "      outputs = model(inputs)\n",
    "      pred = torch.argmax(outputs, dim=-1) #もっとも確率の高いものをその事例の予測ラベルとする\n",
    "      total += len(inputs) #事例の総数\n",
    "      correct += (pred == labels).sum().item() #予測ラベルと本来のラベルが一致しているものを正解とする\n",
    "\n",
    "  return correct / total"
   ]
  },
  {
   "cell_type": "code",
   "execution_count": 26,
   "metadata": {
    "colab": {
     "base_uri": "https://localhost:8080/"
    },
    "id": "lapJcw6yQ-5r",
    "outputId": "5815576c-e687-4366-dc36-5279bc35ceae"
   },
   "outputs": [
    {
     "name": "stdout",
     "output_type": "stream",
     "text": [
      "accuracy of train：0.926\n",
      "accuracy of test ：0.911\n"
     ]
    }
   ],
   "source": [
    "acc_train = calculate_accuracy(model, dataloader_train)\n",
    "acc_test = calculate_accuracy(model, dataloader_test)\n",
    "print(f'accuracy of train：{acc_train:.3f}')\n",
    "print(f'accuracy of test ：{acc_test:.3f}')"
   ]
  },
  {
   "cell_type": "code",
   "execution_count": 27,
   "metadata": {
    "id": "RkjbPbuNRAYu"
   },
   "outputs": [],
   "source": [
    "#75 73と74で作ったものを統合する\n",
    "def calculate_loss_and_accuracy(model, criterion, loader):\n",
    "  model.eval()\n",
    "  loss = 0.0\n",
    "  total = 0\n",
    "  correct = 0\n",
    "  with torch.no_grad():\n",
    "    for inputs, labels in loader:\n",
    "      outputs = model(inputs)\n",
    "      loss += criterion(outputs, labels).item()\n",
    "      pred = torch.argmax(outputs, dim=-1)\n",
    "      total += len(inputs)\n",
    "      correct += (pred == labels).sum().item()\n",
    "\n",
    "  return loss / len(loader), correct / total"
   ]
  },
  {
   "cell_type": "code",
   "execution_count": 28,
   "metadata": {
    "colab": {
     "base_uri": "https://localhost:8080/"
    },
    "id": "U7V2zJ7VRCka",
    "outputId": "6015b2ce-47d4-4fd0-aa6d-9e9b47aa8f3a"
   },
   "outputs": [
    {
     "name": "stdout",
     "output_type": "stream",
     "text": [
      "epoch: 1, loss_train: 0.3040, accuracy_train: 0.8969, loss_valid: 0.2957, accuracy_valid: 0.8915\n",
      "epoch: 2, loss_train: 0.2736, accuracy_train: 0.9101, loss_valid: 0.2708, accuracy_valid: 0.9027\n",
      "epoch: 3, loss_train: 0.2584, accuracy_train: 0.9130, loss_valid: 0.2624, accuracy_valid: 0.9072\n",
      "epoch: 4, loss_train: 0.2502, accuracy_train: 0.9183, loss_valid: 0.2587, accuracy_valid: 0.9087\n",
      "epoch: 5, loss_train: 0.2475, accuracy_train: 0.9174, loss_valid: 0.2588, accuracy_valid: 0.9004\n",
      "epoch: 6, loss_train: 0.2403, accuracy_train: 0.9178, loss_valid: 0.2533, accuracy_valid: 0.9102\n",
      "epoch: 7, loss_train: 0.2356, accuracy_train: 0.9206, loss_valid: 0.2536, accuracy_valid: 0.9102\n",
      "epoch: 8, loss_train: 0.2343, accuracy_train: 0.9214, loss_valid: 0.2542, accuracy_valid: 0.9117\n",
      "epoch: 9, loss_train: 0.2346, accuracy_train: 0.9204, loss_valid: 0.2567, accuracy_valid: 0.9057\n",
      "epoch: 10, loss_train: 0.2282, accuracy_train: 0.9225, loss_valid: 0.2530, accuracy_valid: 0.9049\n",
      "epoch: 11, loss_train: 0.2279, accuracy_train: 0.9216, loss_valid: 0.2531, accuracy_valid: 0.9094\n",
      "epoch: 12, loss_train: 0.2257, accuracy_train: 0.9222, loss_valid: 0.2555, accuracy_valid: 0.9087\n",
      "epoch: 13, loss_train: 0.2242, accuracy_train: 0.9243, loss_valid: 0.2548, accuracy_valid: 0.9124\n",
      "epoch: 14, loss_train: 0.2225, accuracy_train: 0.9254, loss_valid: 0.2546, accuracy_valid: 0.9079\n",
      "epoch: 15, loss_train: 0.2213, accuracy_train: 0.9229, loss_valid: 0.2561, accuracy_valid: 0.9117\n",
      "epoch: 16, loss_train: 0.2199, accuracy_train: 0.9245, loss_valid: 0.2546, accuracy_valid: 0.9094\n",
      "epoch: 17, loss_train: 0.2190, accuracy_train: 0.9239, loss_valid: 0.2550, accuracy_valid: 0.9102\n",
      "epoch: 18, loss_train: 0.2244, accuracy_train: 0.9203, loss_valid: 0.2626, accuracy_valid: 0.9004\n",
      "epoch: 19, loss_train: 0.2197, accuracy_train: 0.9255, loss_valid: 0.2578, accuracy_valid: 0.9087\n",
      "epoch: 20, loss_train: 0.2165, accuracy_train: 0.9258, loss_valid: 0.2571, accuracy_valid: 0.9087\n",
      "epoch: 21, loss_train: 0.2184, accuracy_train: 0.9244, loss_valid: 0.2591, accuracy_valid: 0.9079\n",
      "epoch: 22, loss_train: 0.2159, accuracy_train: 0.9240, loss_valid: 0.2584, accuracy_valid: 0.9117\n",
      "epoch: 23, loss_train: 0.2165, accuracy_train: 0.9251, loss_valid: 0.2603, accuracy_valid: 0.9087\n",
      "epoch: 24, loss_train: 0.2149, accuracy_train: 0.9264, loss_valid: 0.2572, accuracy_valid: 0.9102\n",
      "epoch: 25, loss_train: 0.2144, accuracy_train: 0.9255, loss_valid: 0.2594, accuracy_valid: 0.9049\n",
      "epoch: 26, loss_train: 0.2141, accuracy_train: 0.9257, loss_valid: 0.2593, accuracy_valid: 0.9057\n",
      "epoch: 27, loss_train: 0.2143, accuracy_train: 0.9262, loss_valid: 0.2608, accuracy_valid: 0.9087\n",
      "epoch: 28, loss_train: 0.2140, accuracy_train: 0.9276, loss_valid: 0.2607, accuracy_valid: 0.9079\n",
      "epoch: 29, loss_train: 0.2127, accuracy_train: 0.9272, loss_valid: 0.2601, accuracy_valid: 0.9072\n",
      "epoch: 30, loss_train: 0.2145, accuracy_train: 0.9266, loss_valid: 0.2632, accuracy_valid: 0.9057\n"
     ]
    }
   ],
   "source": [
    "# モデルの定義\n",
    "model = SLPNet(300, 4)\n",
    "\n",
    "# 損失関数の定義\n",
    "criterion = nn.CrossEntropyLoss()\n",
    "\n",
    "# オプティマイザの定義\n",
    "optimizer = torch.optim.SGD(model.parameters(), lr=0.1)\n",
    "\n",
    "# 学習\n",
    "num_epochs = 30\n",
    "log_train = [] #この後の問題のためにlogを取得できるようにする.\n",
    "log_valid = []\n",
    "for epoch in range(num_epochs):\n",
    "  # 訓練モードに設定\n",
    "  model.train()\n",
    "  for inputs, labels in dataloader_train:\n",
    "    # 勾配をゼロで初期化\n",
    "    optimizer.zero_grad()\n",
    "\n",
    "    # 順伝播 + 誤差逆伝播 + 重み更新\n",
    "    outputs = model(inputs)\n",
    "    loss = criterion(outputs, labels)\n",
    "    loss.backward()\n",
    "    optimizer.step()\n",
    "\n",
    "  # 損失と正解率の算出\n",
    "  loss_train, acc_train = calculate_loss_and_accuracy(model, criterion, dataloader_train)\n",
    "  loss_valid, acc_valid = calculate_loss_and_accuracy(model, criterion, dataloader_valid)\n",
    "  log_train.append([loss_train, acc_train]) #logを追加する\n",
    "  log_valid.append([loss_valid, acc_valid])\n",
    "\n",
    "  # ログを出力\n",
    "  print(f'epoch: {epoch + 1}, loss_train: {loss_train:.4f}, accuracy_train: {acc_train:.4f}, loss_valid: {loss_valid:.4f}, accuracy_valid: {acc_valid:.4f}')  "
   ]
  },
  {
   "cell_type": "code",
   "execution_count": 29,
   "metadata": {
    "colab": {
     "base_uri": "https://localhost:8080/",
     "height": 313
    },
    "id": "Lam7v5FSRGZX",
    "outputId": "cea80266-aca7-4c9f-83ce-f7946a76c15b"
   },
   "outputs": [
    {
     "data": {
      "image/png": "[encoded data removed]",
      "text/plain": [
       "<Figure size 1080x360 with 2 Axes>"
      ]
     },
     "metadata": {
      "needs_background": "light"
     },
     "output_type": "display_data"
    }
   ],
   "source": [
    "from matplotlib import pyplot as plt\n",
    "import numpy as np\n",
    "\n",
    "# 図示する\n",
    "fig, ax = plt.subplots(1, 2, figsize=(15, 5))\n",
    "ax[0].plot(np.array(log_train).T[0], label='train')\n",
    "ax[0].plot(np.array(log_valid).T[0], label='valid')\n",
    "ax[0].set_xlabel('epoch')\n",
    "ax[0].set_ylabel('loss')\n",
    "ax[0].legend()\n",
    "ax[1].plot(np.array(log_train).T[1], label='train')\n",
    "ax[1].plot(np.array(log_valid).T[1], label='valid')\n",
    "ax[1].set_xlabel('epoch')\n",
    "ax[1].set_ylabel('accuracy')\n",
    "ax[1].legend()\n",
    "plt.show()"
   ]
  },
  {
   "cell_type": "code",
   "execution_count": 30,
   "metadata": {
    "colab": {
     "base_uri": "https://localhost:8080/"
    },
    "id": "kqx2rl1PSWQN",
    "outputId": "ad821049-e91c-49b4-b7ef-5bb8112ffd02"
   },
   "outputs": [
    {
     "name": "stdout",
     "output_type": "stream",
     "text": [
      "epoch: 1, loss_train: 0.3030, accuracy_train: 0.8995, loss_valid: 0.2970, accuracy_valid: 0.8907\n",
      "epoch: 2, loss_train: 0.2719, accuracy_train: 0.9076, loss_valid: 0.2713, accuracy_valid: 0.8975\n",
      "epoch: 3, loss_train: 0.2653, accuracy_train: 0.9089, loss_valid: 0.2687, accuracy_valid: 0.8945\n",
      "epoch: 4, loss_train: 0.2516, accuracy_train: 0.9169, loss_valid: 0.2608, accuracy_valid: 0.9072\n",
      "epoch: 5, loss_train: 0.2469, accuracy_train: 0.9172, loss_valid: 0.2579, accuracy_valid: 0.9012\n",
      "epoch: 6, loss_train: 0.2404, accuracy_train: 0.9190, loss_valid: 0.2580, accuracy_valid: 0.9064\n",
      "epoch: 7, loss_train: 0.2360, accuracy_train: 0.9205, loss_valid: 0.2543, accuracy_valid: 0.9034\n",
      "epoch: 8, loss_train: 0.2438, accuracy_train: 0.9153, loss_valid: 0.2657, accuracy_valid: 0.9027\n",
      "epoch: 9, loss_train: 0.2306, accuracy_train: 0.9210, loss_valid: 0.2559, accuracy_valid: 0.9079\n",
      "epoch: 10, loss_train: 0.2275, accuracy_train: 0.9223, loss_valid: 0.2534, accuracy_valid: 0.9057\n",
      "epoch: 11, loss_train: 0.2262, accuracy_train: 0.9219, loss_valid: 0.2539, accuracy_valid: 0.9079\n",
      "epoch: 12, loss_train: 0.2256, accuracy_train: 0.9228, loss_valid: 0.2544, accuracy_valid: 0.9094\n",
      "epoch: 13, loss_train: 0.2230, accuracy_train: 0.9236, loss_valid: 0.2561, accuracy_valid: 0.9102\n",
      "epoch: 14, loss_train: 0.2221, accuracy_train: 0.9233, loss_valid: 0.2566, accuracy_valid: 0.9064\n",
      "epoch: 15, loss_train: 0.2227, accuracy_train: 0.9226, loss_valid: 0.2580, accuracy_valid: 0.9064\n",
      "epoch: 16, loss_train: 0.2238, accuracy_train: 0.9228, loss_valid: 0.2600, accuracy_valid: 0.9064\n",
      "epoch: 17, loss_train: 0.2228, accuracy_train: 0.9238, loss_valid: 0.2609, accuracy_valid: 0.9064\n",
      "epoch: 18, loss_train: 0.2194, accuracy_train: 0.9236, loss_valid: 0.2562, accuracy_valid: 0.9064\n",
      "epoch: 19, loss_train: 0.2185, accuracy_train: 0.9242, loss_valid: 0.2595, accuracy_valid: 0.9064\n",
      "epoch: 20, loss_train: 0.2180, accuracy_train: 0.9264, loss_valid: 0.2579, accuracy_valid: 0.9094\n",
      "epoch: 21, loss_train: 0.2170, accuracy_train: 0.9262, loss_valid: 0.2578, accuracy_valid: 0.9064\n",
      "epoch: 22, loss_train: 0.2205, accuracy_train: 0.9262, loss_valid: 0.2608, accuracy_valid: 0.9094\n",
      "epoch: 23, loss_train: 0.2158, accuracy_train: 0.9257, loss_valid: 0.2604, accuracy_valid: 0.9087\n",
      "epoch: 24, loss_train: 0.2150, accuracy_train: 0.9264, loss_valid: 0.2577, accuracy_valid: 0.9087\n",
      "epoch: 25, loss_train: 0.2176, accuracy_train: 0.9248, loss_valid: 0.2614, accuracy_valid: 0.9087\n",
      "epoch: 26, loss_train: 0.2143, accuracy_train: 0.9264, loss_valid: 0.2568, accuracy_valid: 0.9124\n",
      "epoch: 27, loss_train: 0.2200, accuracy_train: 0.9267, loss_valid: 0.2636, accuracy_valid: 0.9087\n",
      "epoch: 28, loss_train: 0.2139, accuracy_train: 0.9261, loss_valid: 0.2609, accuracy_valid: 0.9094\n",
      "epoch: 29, loss_train: 0.2138, accuracy_train: 0.9267, loss_valid: 0.2607, accuracy_valid: 0.9064\n",
      "epoch: 30, loss_train: 0.2127, accuracy_train: 0.9289, loss_valid: 0.2602, accuracy_valid: 0.9094\n"
     ]
    }
   ],
   "source": [
    "#76\n",
    "# モデルの定義\n",
    "model = SLPNet(300, 4)\n",
    "\n",
    "# 損失関数の定義\n",
    "criterion = nn.CrossEntropyLoss()\n",
    "\n",
    "# オプティマイザの定義\n",
    "optimizer = torch.optim.SGD(model.parameters(), lr=0.1)\n",
    "\n",
    "# 学習\n",
    "num_epochs = 30\n",
    "log_train = []\n",
    "log_valid = []\n",
    "for epoch in range(num_epochs):\n",
    "  # 訓練モードに設定\n",
    "  model.train()\n",
    "  for inputs, labels in dataloader_train:\n",
    "    # 勾配をゼロで初期化\n",
    "    optimizer.zero_grad()\n",
    "\n",
    "    # 順伝播 + 誤差逆伝播 + 重み更新\n",
    "    outputs = model(inputs)\n",
    "    loss = criterion(outputs, labels)\n",
    "    loss.backward()\n",
    "    optimizer.step()\n",
    "\n",
    "  # 損失と正解率の算出\n",
    "  loss_train, acc_train = calculate_loss_and_accuracy(model, criterion, dataloader_train)\n",
    "  loss_valid, acc_valid = calculate_loss_and_accuracy(model, criterion, dataloader_valid)\n",
    "  log_train.append([loss_train, acc_train])\n",
    "  log_valid.append([loss_valid, acc_valid])\n",
    "\n",
    "  # チェックポイントの保存(5エポックごとに保存)\n",
    "  if epoch % 5 == 0:\n",
    "      torch.save({'epoch': epoch, 'model_state_dict': model.state_dict(), 'optimizer_state_dict': optimizer.state_dict()}, f'checkpoint{epoch + 1}.pth')\n",
    "      #学習途中のパラメータは model.state_dict(),最適化アルゴリズムの内部状態は optimizer.state_dict()でアクセス可能のため,各エポックでエポック数と合わせて保存する処理を追加する.\n",
    "      #.pthファイルとして出力する\n",
    "\n",
    "  # ログを出力\n",
    "  print(f'epoch: {epoch + 1}, loss_train: {loss_train:.4f}, accuracy_train: {acc_train:.4f}, loss_valid: {loss_valid:.4f}, accuracy_valid: {acc_valid:.4f}')  "
   ]
  },
  {
   "cell_type": "code",
   "execution_count": 31,
   "metadata": {
    "id": "BO_unAf6S6Yz"
   },
   "outputs": [],
   "source": [
    "#77\n",
    "import time #時間を計測するためにtimeをインポート\n",
    "\n",
    "def train_model(dataset_train, dataset_valid, batch_size, model, criterion, optimizer, num_epochs):\n",
    "  # dataloaderの作成\n",
    "  dataloader_train = DataLoader(dataset_train, batch_size=batch_size, shuffle=True)\n",
    "  dataloader_valid = DataLoader(dataset_valid, batch_size=len(dataset_valid), shuffle=False)\n",
    "\n",
    "  # 学習\n",
    "  log_train = []\n",
    "  log_valid = []\n",
    "  for epoch in range(num_epochs):\n",
    "    \n",
    "    # 開始時刻 s_time\n",
    "    s_time = time.time()\n",
    "\n",
    "    # 訓練モードに設定\n",
    "    model.train()\n",
    "    for inputs, labels in dataloader_train:\n",
    "      # 勾配をゼロで初期化\n",
    "      optimizer.zero_grad()\n",
    "\n",
    "      # 順伝播 + 誤差逆伝播 + 重み更新\n",
    "      outputs = model(inputs)\n",
    "      loss = criterion(outputs, labels)\n",
    "      loss.backward()\n",
    "      optimizer.step()\n",
    "\n",
    "    # 損失と正解率の算出\n",
    "    loss_train, acc_train = calculate_loss_and_accuracy(model, criterion, dataloader_train)\n",
    "    loss_valid, acc_valid = calculate_loss_and_accuracy(model, criterion, dataloader_valid)\n",
    "    log_train.append([loss_train, acc_train])\n",
    "    log_valid.append([loss_valid, acc_valid])\n",
    "\n",
    "    # チェックポイントの保存\n",
    "    if epoch % 5 == 0:\n",
    "      torch.save({'epoch': epoch, 'model_state_dict': model.state_dict(), 'optimizer_state_dict': optimizer.state_dict()}, f'checkpoint{epoch + 1}.pth')\n",
    "    # 終了時刻 e_time\n",
    "    e_time = time.time()\n",
    "\n",
    "    # ログを出力\n",
    "    print(f'epoch: {epoch + 1}, loss_train: {loss_train:.4f}, accuracy_train: {acc_train:.4f}, loss_valid: {loss_valid:.4f}, accuracy_valid: {acc_valid:.4f}, {(e_time - s_time):.4f}sec') \n",
    "\n",
    "  return {'train': log_train, 'valid': log_valid} #logを返り値にする"
   ]
  },
  {
   "cell_type": "code",
   "execution_count": 32,
   "metadata": {
    "colab": {
     "base_uri": "https://localhost:8080/"
    },
    "id": "427ijhhWS81A",
    "outputId": "f3342b34-514b-4ab3-d882-159d06614e7f"
   },
   "outputs": [
    {
     "name": "stdout",
     "output_type": "stream",
     "text": [
      "batch size: 1\n",
      "epoch: 1, loss_train: 0.3013, accuracy_train: 0.8995, loss_valid: 0.2941, accuracy_valid: 0.9019, 4.4991sec\n",
      "batch size: 2\n",
      "epoch: 1, loss_train: 0.2830, accuracy_train: 0.9057, loss_valid: 0.2771, accuracy_valid: 0.8997, 2.3889sec\n",
      "batch size: 4\n",
      "epoch: 1, loss_train: 0.2757, accuracy_train: 0.9076, loss_valid: 0.2725, accuracy_valid: 0.9012, 1.2502sec\n",
      "batch size: 8\n",
      "epoch: 1, loss_train: 0.2730, accuracy_train: 0.9086, loss_valid: 0.2709, accuracy_valid: 0.9004, 0.6854sec\n",
      "batch size: 16\n",
      "epoch: 1, loss_train: 0.2719, accuracy_train: 0.9077, loss_valid: 0.2700, accuracy_valid: 0.9012, 0.4037sec\n",
      "batch size: 32\n",
      "epoch: 1, loss_train: 0.2713, accuracy_train: 0.9089, loss_valid: 0.2694, accuracy_valid: 0.9012, 0.2635sec\n",
      "batch size: 64\n",
      "epoch: 1, loss_train: 0.2709, accuracy_train: 0.9087, loss_valid: 0.2692, accuracy_valid: 0.9012, 0.1844sec\n",
      "batch size: 128\n",
      "epoch: 1, loss_train: 0.2702, accuracy_train: 0.9091, loss_valid: 0.2690, accuracy_valid: 0.9012, 0.2065sec\n",
      "batch size: 256\n",
      "epoch: 1, loss_train: 0.2704, accuracy_train: 0.9090, loss_valid: 0.2690, accuracy_valid: 0.9004, 0.2889sec\n",
      "batch size: 512\n",
      "epoch: 1, loss_train: 0.2705, accuracy_train: 0.9091, loss_valid: 0.2690, accuracy_valid: 0.9004, 0.2384sec\n",
      "batch size: 1024\n",
      "epoch: 1, loss_train: 0.2690, accuracy_train: 0.9092, loss_valid: 0.2690, accuracy_valid: 0.9004, 0.1340sec\n"
     ]
    }
   ],
   "source": [
    "# datasetの作成\n",
    "dataset_train = CreateDataset(X_train, y_train)\n",
    "dataset_valid = CreateDataset(X_valid, y_valid)\n",
    "\n",
    "# モデルの定義\n",
    "model = SLPNet(300, 4)\n",
    "\n",
    "# 損失関数の定義\n",
    "criterion = nn.CrossEntropyLoss()\n",
    "\n",
    "# オプティマイザの定義\n",
    "optimizer = torch.optim.SGD(model.parameters(), lr=0.1)\n",
    "\n",
    "# モデルの学習\n",
    "for batch_size in [2 ** i for i in range(11)]: #バッチサイズを2倍していく\n",
    "  print(f'batch size: {batch_size}')\n",
    "  log = train_model(dataset_train, dataset_valid, batch_size, model, criterion, optimizer, 1)"
   ]
  },
  {
   "cell_type": "code",
   "execution_count": 33,
   "metadata": {},
   "outputs": [],
   "source": [
    "#バッチサイズが大きいほど概ね計算時間は短くなっている"
   ]
  },
  {
   "cell_type": "code",
   "execution_count": 34,
   "metadata": {
    "id": "Urd3jIZ_S-vK"
   },
   "outputs": [],
   "source": [
    "#78\n",
    "def calculate_loss_and_accuracy(model, criterion, loader, device): #GPUに送る\n",
    "  model.eval()\n",
    "  loss = 0.0\n",
    "  total = 0\n",
    "  correct = 0\n",
    "  with torch.no_grad():\n",
    "    for inputs, labels in loader:\n",
    "      inputs = inputs.to(device) #to(device)でGPUに送る\n",
    "      labels = labels.to(device)\n",
    "      outputs = model(inputs)\n",
    "      loss += criterion(outputs, labels).item()\n",
    "      pred = torch.argmax(outputs, dim=-1)\n",
    "      total += len(inputs)\n",
    "      correct += (pred == labels).sum().item()\n",
    "\n",
    "  return loss / len(loader), correct / total\n",
    "\n",
    "\n",
    "def train_model(dataset_train, dataset_valid, batch_size, model, criterion, optimizer, num_epochs, device=None):\n",
    "  # GPUに送る\n",
    "  model.to(device)\n",
    "\n",
    "  # dataloaderの作成\n",
    "  dataloader_train = DataLoader(dataset_train, batch_size=batch_size, shuffle=True)\n",
    "  dataloader_valid = DataLoader(dataset_valid, batch_size=len(dataset_valid), shuffle=False)\n",
    "\n",
    "  # 学習\n",
    "  log_train = []\n",
    "  log_valid = []\n",
    "  for epoch in range(num_epochs):\n",
    "    # 開始時刻の記録\n",
    "    s_time = time.time()\n",
    "\n",
    "    # 訓練モードに設定\n",
    "    model.train()\n",
    "    for inputs, labels in dataloader_train:\n",
    "      # 勾配をゼロで初期化\n",
    "      optimizer.zero_grad()\n",
    "\n",
    "      # 順伝播 + 誤差逆伝播 + 重み更新\n",
    "      inputs = inputs.to(device)\n",
    "      labels = labels.to(device)\n",
    "      outputs = model.forward(inputs)\n",
    "      loss = criterion(outputs, labels)\n",
    "      loss.backward()\n",
    "      optimizer.step()\n",
    "\n",
    "    # 損失と正解率の算出\n",
    "    loss_train, acc_train = calculate_loss_and_accuracy(model, criterion, dataloader_train, device)\n",
    "    loss_valid, acc_valid = calculate_loss_and_accuracy(model, criterion, dataloader_valid, device)\n",
    "    log_train.append([loss_train, acc_train])\n",
    "    log_valid.append([loss_valid, acc_valid])\n",
    "\n",
    "    # チェックポイントの保存\n",
    "    if epoch % 5 == 0:\n",
    "      torch.save({'epoch': epoch, 'model_state_dict': model.state_dict(), 'optimizer_state_dict': optimizer.state_dict()}, f'checkpoint{epoch + 1}.pth')\n",
    "\n",
    "    # 終了時刻の記録\n",
    "    e_time = time.time()\n",
    "\n",
    "    # ログを出力\n",
    "    print(f'epoch: {epoch + 1}, loss_train: {loss_train:.4f}, accuracy_train: {acc_train:.4f}, loss_valid: {loss_valid:.4f}, accuracy_valid: {acc_valid:.4f}, {(e_time - s_time):.4f}sec') \n",
    "\n",
    "  return {'train': log_train, 'valid': log_valid}"
   ]
  },
  {
   "cell_type": "code",
   "execution_count": 35,
   "metadata": {
    "colab": {
     "base_uri": "https://localhost:8080/"
    },
    "id": "K7plUnn_TFJY",
    "outputId": "f8bbf556-7410-4890-bc77-3e1abd20a4c0"
   },
   "outputs": [
    {
     "name": "stdout",
     "output_type": "stream",
     "text": [
      "batch size: 1\n",
      "epoch: 1, loss_train: 0.3031, accuracy_train: 0.8981, loss_valid: 0.2969, accuracy_valid: 0.8922, 10.5542sec\n",
      "batch size: 2\n",
      "epoch: 1, loss_train: 0.2827, accuracy_train: 0.9048, loss_valid: 0.2800, accuracy_valid: 0.8997, 5.2284sec\n",
      "batch size: 4\n",
      "epoch: 1, loss_train: 0.2762, accuracy_train: 0.9068, loss_valid: 0.2735, accuracy_valid: 0.9004, 2.6951sec\n",
      "batch size: 8\n",
      "epoch: 1, loss_train: 0.2732, accuracy_train: 0.9073, loss_valid: 0.2711, accuracy_valid: 0.9004, 1.4040sec\n",
      "batch size: 16\n",
      "epoch: 1, loss_train: 0.2720, accuracy_train: 0.9080, loss_valid: 0.2701, accuracy_valid: 0.9027, 0.8095sec\n",
      "batch size: 32\n",
      "epoch: 1, loss_train: 0.2714, accuracy_train: 0.9079, loss_valid: 0.2697, accuracy_valid: 0.8982, 0.5391sec\n",
      "batch size: 64\n",
      "epoch: 1, loss_train: 0.2710, accuracy_train: 0.9078, loss_valid: 0.2694, accuracy_valid: 0.9019, 0.2838sec\n",
      "batch size: 128\n",
      "epoch: 1, loss_train: 0.2703, accuracy_train: 0.9080, loss_valid: 0.2693, accuracy_valid: 0.9027, 0.1949sec\n",
      "batch size: 256\n",
      "epoch: 1, loss_train: 0.2709, accuracy_train: 0.9080, loss_valid: 0.2692, accuracy_valid: 0.9019, 0.1523sec\n",
      "batch size: 512\n",
      "epoch: 1, loss_train: 0.2706, accuracy_train: 0.9080, loss_valid: 0.2692, accuracy_valid: 0.9019, 0.1276sec\n",
      "batch size: 1024\n",
      "epoch: 1, loss_train: 0.2710, accuracy_train: 0.9079, loss_valid: 0.2692, accuracy_valid: 0.9019, 0.1181sec\n"
     ]
    }
   ],
   "source": [
    "# datasetの作成\n",
    "dataset_train = CreateDataset(X_train, y_train)\n",
    "dataset_valid = CreateDataset(X_valid, y_valid)\n",
    "\n",
    "# モデルの定義\n",
    "model = SLPNet(300, 4)\n",
    "\n",
    "# 損失関数の定義\n",
    "criterion = nn.CrossEntropyLoss()\n",
    "\n",
    "# オプティマイザの定義\n",
    "optimizer = torch.optim.SGD(model.parameters(), lr=0.1)\n",
    "\n",
    "# デバイスの指定\n",
    "device = torch.device('cuda')\n",
    "\n",
    "# モデルの学習\n",
    "for batch_size in [2 ** i for i in range(11)]:\n",
    "  print(f'batch size: {batch_size}')\n",
    "  log = train_model(dataset_train, dataset_valid, batch_size, model, criterion, optimizer, 1, device=device)"
   ]
  },
  {
   "cell_type": "markdown",
   "metadata": {},
   "source": [
    "# #77の場合よりもGPU使用時の方が時間が短くなっていることが確認できる"
   ]
  },
  {
   "cell_type": "code",
   "execution_count": 36,
   "metadata": {
    "id": "6xmK-fkwTGc2"
   },
   "outputs": [],
   "source": [
    "#79\n",
    "from torch.nn import functional as F\n",
    "\n",
    "class MLPNet(nn.Module): #多層ニューラルネットワークの導入(入力層 -> 中間層 -> 出力層)\n",
    "  def __init__(self, input_size, mid_size, output_size, mid_layers):\n",
    "    super().__init__()\n",
    "    self.mid_layers = mid_layers\n",
    "    self.fc = nn.Linear(input_size, mid_size)\n",
    "    self.fc_mid = nn.Linear(mid_size, mid_size)\n",
    "    self.fc_out = nn.Linear(mid_size, output_size) \n",
    "    self.bn = nn.BatchNorm1d(mid_size) #バッチノーマライゼーションを行う　https://deep-learning-study.net/batch-normalization/\n",
    "\n",
    "  def forward(self, x):\n",
    "    x = F.relu(self.fc(x)) #活性化関数ReLUの導入(0未満はすべて0,その他はそのまま) https://atmarkit.itmedia.co.jp/ait/articles/2003/11/news016.html\n",
    "    for i in range(self.mid_layers):\n",
    "      x = F.relu(self.bn(self.fc_mid(x)))\n",
    "    x = F.relu(self.fc_out(x))\n",
    "\n",
    "    return x"
   ]
  },
  {
   "cell_type": "code",
   "execution_count": 98,
   "metadata": {
    "id": "oRcq5FgDTJZq"
   },
   "outputs": [],
   "source": [
    "from torch import optim\n",
    "\n",
    "def calculate_loss_and_accuracy(model, criterion, loader, device):\n",
    "  model.eval()\n",
    "  loss = 0.0\n",
    "  total = 0\n",
    "  correct = 0\n",
    "  with torch.no_grad():\n",
    "    for inputs, labels in loader:\n",
    "      inputs = inputs.to(device)\n",
    "      labels = labels.to(device)\n",
    "      outputs = model(inputs)\n",
    "      loss += criterion(outputs, labels).item()\n",
    "      pred = torch.argmax(outputs, dim=-1)\n",
    "      total += len(inputs)\n",
    "      correct += (pred == labels).sum().item()\n",
    "\n",
    "  return loss / len(loader), correct / total\n",
    "\n",
    "\n",
    "def train_model(dataset_train, dataset_valid, batch_size, model, criterion, optimizer, num_epochs, num_eta_min,device=None):\n",
    "  # GPUに送る\n",
    "  model.to(device)\n",
    "\n",
    "  # dataloaderの作成\n",
    "  dataloader_train = DataLoader(dataset_train, batch_size=batch_size, shuffle=True)\n",
    "  dataloader_valid = DataLoader(dataset_valid, batch_size=len(dataset_valid), shuffle=False)\n",
    "\n",
    "  # スケジューラの設定\n",
    "  scheduler = optim.lr_scheduler.CosineAnnealingLR(optimizer, num_epochs, eta_min=num_eta_min, last_epoch=-1)\n",
    "  #学習率を少しずつ下げる(eta_minを極小値とする)\n",
    "\n",
    "  # 学習\n",
    "  log_train = []\n",
    "  log_valid = []\n",
    "  for epoch in range(num_epochs):\n",
    "\n",
    "    # 訓練モードに設定\n",
    "    model.train()\n",
    "    for inputs, labels in dataloader_train:\n",
    "      # 勾配をゼロで初期化\n",
    "      optimizer.zero_grad()\n",
    "\n",
    "      # 順伝播 + 誤差逆伝播 + 重み更新\n",
    "      inputs = inputs.to(device)\n",
    "      labels = labels.to(device)\n",
    "      outputs = model.forward(inputs)\n",
    "      loss = criterion(outputs, labels)\n",
    "      loss.backward()\n",
    "      #optimizerを1ステップ進める\n",
    "      optimizer.step()\n",
    "\n",
    "    # 損失と正解率の算出\n",
    "    loss_train, acc_train = calculate_loss_and_accuracy(model, criterion, dataloader_train, device)\n",
    "    loss_valid, acc_valid = calculate_loss_and_accuracy(model, criterion, dataloader_valid, device)\n",
    "    log_train.append([loss_train, acc_train])\n",
    "    log_valid.append([loss_valid, acc_valid])\n",
    "\n",
    "    #エポック数を捜索するため削除\n",
    "    # 検証データの損失が3エポック連続で低下しなかった場合は学習終了(今回の学習基準)\n",
    "    #if epoch > 2 and log_valid[epoch - 3][0] <= log_valid[epoch - 2][0] <= log_valid[epoch - 1][0] <= log_valid[epoch][0]:\n",
    "      #break\n",
    "        \n",
    "\n",
    "    # スケジューラを1ステップ進める\n",
    "    scheduler.step()\n",
    "\n",
    "  return log_train, log_valid"
   ]
  },
  {
   "cell_type": "code",
   "execution_count": 39,
   "metadata": {},
   "outputs": [
    {
     "name": "stdout",
     "output_type": "stream",
     "text": [
      "\u001b[33mWARNING: Value for scheme.headers does not match. Please report this to <https://github.com/pypa/pip/issues/9617>\n",
      "distutils: /opt/conda/include/python3.8/UNKNOWN\n",
      "sysconfig: /opt/conda/include/python3.8\u001b[0m\n",
      "\u001b[33mWARNING: Additional context:\n",
      "user = False\n",
      "home = None\n",
      "root = None\n",
      "prefix = None\u001b[0m\n",
      "Collecting optuna\n",
      "  Downloading optuna-2.10.0-py3-none-any.whl (308 kB)\n",
      "\u001b[K     |████████████████████████████████| 308 kB 5.9 MB/s eta 0:00:01\n",
      "\u001b[?25hRequirement already satisfied: numpy in /opt/conda/lib/python3.8/site-packages (from optuna) (1.19.5)\n",
      "Requirement already satisfied: scipy!=1.4.0 in /opt/conda/lib/python3.8/site-packages (from optuna) (1.6.2)\n",
      "Collecting cliff\n",
      "  Downloading cliff-3.10.0-py3-none-any.whl (80 kB)\n",
      "\u001b[K     |████████████████████████████████| 80 kB 23.8 MB/s eta 0:00:01\n",
      "\u001b[?25hCollecting colorlog\n",
      "  Downloading colorlog-6.6.0-py2.py3-none-any.whl (11 kB)\n",
      "Requirement already satisfied: tqdm in /opt/conda/lib/python3.8/site-packages (from optuna) (4.60.0)\n",
      "Requirement already satisfied: alembic in /opt/conda/lib/python3.8/site-packages (from optuna) (1.5.8)\n",
      "Requirement already satisfied: packaging>=20.0 in /opt/conda/lib/python3.8/site-packages (from optuna) (20.9)\n",
      "Requirement already satisfied: sqlalchemy>=1.1.0 in /opt/conda/lib/python3.8/site-packages (from optuna) (1.4.11)\n",
      "Collecting cmaes>=0.8.2\n",
      "  Downloading cmaes-0.8.2-py3-none-any.whl (15 kB)\n",
      "Requirement already satisfied: PyYAML in /opt/conda/lib/python3.8/site-packages (from optuna) (5.4.1)\n",
      "Requirement already satisfied: pyparsing>=2.0.2 in /opt/conda/lib/python3.8/site-packages (from packaging>=20.0->optuna) (2.4.7)\n",
      "Requirement already satisfied: greenlet!=0.4.17 in /opt/conda/lib/python3.8/site-packages (from sqlalchemy>=1.1.0->optuna) (1.0.0)\n",
      "Requirement already satisfied: Mako in /opt/conda/lib/python3.8/site-packages (from alembic->optuna) (1.1.4)\n",
      "Requirement already satisfied: python-dateutil in /opt/conda/lib/python3.8/site-packages (from alembic->optuna) (2.8.1)\n",
      "Requirement already satisfied: python-editor>=0.3 in /opt/conda/lib/python3.8/site-packages (from alembic->optuna) (1.0.4)\n",
      "Collecting stevedore>=2.0.1\n",
      "  Downloading stevedore-3.5.0-py3-none-any.whl (49 kB)\n",
      "\u001b[K     |████████████████████████████████| 49 kB 17.7 MB/s eta 0:00:01\n",
      "\u001b[?25hCollecting PrettyTable>=0.7.2\n",
      "  Downloading prettytable-3.0.0-py3-none-any.whl (24 kB)\n",
      "Collecting pbr!=2.1.0,>=2.0.0\n",
      "  Downloading pbr-5.8.0-py2.py3-none-any.whl (112 kB)\n",
      "\u001b[K     |████████████████████████████████| 112 kB 60.7 MB/s eta 0:00:01\n",
      "\u001b[?25hCollecting cmd2>=1.0.0\n",
      "  Downloading cmd2-2.3.3-py3-none-any.whl (149 kB)\n",
      "\u001b[K     |████████████████████████████████| 149 kB 63.7 MB/s eta 0:00:01\n",
      "\u001b[?25hCollecting autopage>=0.4.0\n",
      "  Downloading autopage-0.4.0-py3-none-any.whl (20 kB)\n",
      "Collecting pyperclip>=1.6\n",
      "  Downloading pyperclip-1.8.2.tar.gz (20 kB)\n",
      "Requirement already satisfied: wcwidth>=0.1.7 in /opt/conda/lib/python3.8/site-packages (from cmd2>=1.0.0->cliff->optuna) (0.2.5)\n",
      "Requirement already satisfied: attrs>=16.3.0 in /opt/conda/lib/python3.8/site-packages (from cmd2>=1.0.0->cliff->optuna) (20.3.0)\n",
      "Requirement already satisfied: MarkupSafe>=0.9.2 in /opt/conda/lib/python3.8/site-packages (from Mako->alembic->optuna) (1.1.1)\n",
      "Requirement already satisfied: six>=1.5 in /opt/conda/lib/python3.8/site-packages (from python-dateutil->alembic->optuna) (1.15.0)\n",
      "Building wheels for collected packages: pyperclip\n",
      "  Building wheel for pyperclip (setup.py) ... \u001b[?25ldone\n",
      "\u001b[?25h  Created wheel for pyperclip: filename=pyperclip-1.8.2-py3-none-any.whl size=11107 sha256=342c30537906926c31bc2685c2e3f9183f6664f4dbc7dac604b4d79f2ff6d9e7\n",
      "  Stored in directory: /home/jovyan/.cache/pip/wheels/7f/1a/65/84ff8c386bec21fca6d220ea1f5498a0367883a78dd5ba6122\n",
      "Successfully built pyperclip\n",
      "Installing collected packages: pyperclip, pbr, stevedore, PrettyTable, cmd2, autopage, colorlog, cmaes, cliff, optuna\n",
      "\u001b[33mWARNING: Value for scheme.headers does not match. Please report this to <https://github.com/pypa/pip/issues/9617>\n",
      "distutils: /opt/conda/include/python3.8/UNKNOWN\n",
      "sysconfig: /opt/conda/include/python3.8\u001b[0m\n",
      "\u001b[33mWARNING: Additional context:\n",
      "user = False\n",
      "home = None\n",
      "root = None\n",
      "prefix = None\u001b[0m\n",
      "Successfully installed PrettyTable-3.0.0 autopage-0.4.0 cliff-3.10.0 cmaes-0.8.2 cmd2-2.3.3 colorlog-6.6.0 optuna-2.10.0 pbr-5.8.0 pyperclip-1.8.2 stevedore-3.5.0\n"
     ]
    }
   ],
   "source": [
    "!pip install optuna"
   ]
  },
  {
   "cell_type": "code",
   "execution_count": 107,
   "metadata": {},
   "outputs": [],
   "source": [
    "def Get_Optimizer(trial, model): #optimizerの最適化関数\n",
    "    # Generate the optimizers.\n",
    "    optimizer_name = trial.suggest_categorical('optimizer', ['Adam', 'RMSprop', 'SGD']) \n",
    "    lr = trial.suggest_loguniform('lr', 1e-5, 1e-1) #学習率の初期値を変更\n",
    "    optimizer = getattr(optim, optimizer_name)(model.parameters(), lr=lr)\n",
    "    return optimizer\n",
    "\n",
    "\n",
    "def objective(trial): #中間層のニューロン数と中間層の数とオプティマイザとバッチサイズとエポック数を最適化する\n",
    "    \n",
    "    # datasetの作成\n",
    "    dataset_train = CreateDataset(X_train, y_train)\n",
    "    dataset_valid = CreateDataset(X_valid, y_valid)\n",
    "    \n",
    "    # モデルの定義\n",
    "    model = MLPNet(300,trial.suggest_int('mid_size', 10, 1000) , 4, trial.suggest_int('num_mid_layers', 1, 5) ) #中間層のニューロン数と中間層の数を変更する\n",
    "    \n",
    "    # オプティマイザの定義\n",
    "    #optimizer = torch.optim.SGD(model.parameters(), lr=1e-3)\n",
    "    optimizer = Get_Optimizer(trial,model)\n",
    "\n",
    "    # 損失関数の定義\n",
    "    criterion = nn.CrossEntropyLoss()\n",
    "    \n",
    "    #バッチサイズの定義\n",
    "    #batch_size = 2048\n",
    "    batch_size = int(trial.suggest_discrete_uniform('batch_size', 1024, 4096, 128)) #適切なバッチサイズを1024-4096の間で128刻みで探す\n",
    "    \n",
    "    #エポック数の定義\n",
    "    num_epochs = trial.suggest_int('num_epochs', 10, 200) #適切なエポック数を探す\n",
    "    #num_epochs = 1000\n",
    "    \n",
    "    #スケジューラの学習率の最小値\n",
    "    num_eta_min = trial.suggest_loguniform('min_lr', 1e-5, 1e-1)\n",
    "    \n",
    "    # デバイスの指定\n",
    "    device = torch.device('cuda')\n",
    "    \n",
    "    \n",
    "    return train_model(dataset_train, dataset_valid, batch_size, model, criterion, optimizer, num_epochs, num_eta_min, device)[1][-1][0] #log_validの最後のlossを取得\n",
    "    #return train_model(dataset_train, dataset_valid, batch_size, model, criterion, optimizer, num_epochs, num_eta_min, device)[1][-3][0] #log_validの最後から3番目のlossを取得（最小値)"
   ]
  },
  {
   "cell_type": "code",
   "execution_count": 108,
   "metadata": {},
   "outputs": [
    {
     "name": "stderr",
     "output_type": "stream",
     "text": [
      "\u001b[32m[I 2022-01-10 18:01:42,508]\u001b[0m A new study created in memory with name: no-name-7a97b0b3-8d40-4c01-97ec-0adf37d0c4ba\u001b[0m\n",
      "\u001b[32m[I 2022-01-10 18:02:04,053]\u001b[0m Trial 0 finished with value: 1.2316906452178955 and parameters: {'mid_size': 352, 'num_mid_layers': 4, 'optimizer': 'SGD', 'lr': 0.001186825963050564, 'batch_size': 2304.0, 'num_epochs': 112, 'min_lr': 2.044142055400698e-05}. Best is trial 0 with value: 1.2316906452178955.\u001b[0m\n",
      "\u001b[32m[I 2022-01-10 18:02:18,274]\u001b[0m Trial 1 finished with value: 1.2273932695388794 and parameters: {'mid_size': 470, 'num_mid_layers': 4, 'optimizer': 'SGD', 'lr': 0.0002598798895945363, 'batch_size': 2560.0, 'num_epochs': 71, 'min_lr': 0.00014823286128036537}. Best is trial 1 with value: 1.2273932695388794.\u001b[0m\n",
      "\u001b[32m[I 2022-01-10 18:02:43,478]\u001b[0m Trial 2 finished with value: 1.3299405574798584 and parameters: {'mid_size': 261, 'num_mid_layers': 4, 'optimizer': 'SGD', 'lr': 7.474540016328848e-05, 'batch_size': 2688.0, 'num_epochs': 130, 'min_lr': 0.00041855824426006993}. Best is trial 1 with value: 1.2273932695388794.\u001b[0m\n",
      "\u001b[32m[I 2022-01-10 18:03:16,064]\u001b[0m Trial 3 finished with value: 0.6834672689437866 and parameters: {'mid_size': 120, 'num_mid_layers': 1, 'optimizer': 'Adam', 'lr': 0.021048902800527767, 'batch_size': 3072.0, 'num_epochs': 172, 'min_lr': 0.0501912714453202}. Best is trial 3 with value: 0.6834672689437866.\u001b[0m\n",
      "\u001b[32m[I 2022-01-10 18:03:43,882]\u001b[0m Trial 4 finished with value: 1.3706413507461548 and parameters: {'mid_size': 31, 'num_mid_layers': 5, 'optimizer': 'SGD', 'lr': 0.0001902792338648011, 'batch_size': 2432.0, 'num_epochs': 143, 'min_lr': 8.743760769958591e-05}. Best is trial 3 with value: 0.6834672689437866.\u001b[0m\n",
      "\u001b[32m[I 2022-01-10 18:04:20,184]\u001b[0m Trial 5 finished with value: 1.3989990949630737 and parameters: {'mid_size': 64, 'num_mid_layers': 3, 'optimizer': 'SGD', 'lr': 0.06644714807769653, 'batch_size': 2176.0, 'num_epochs': 198, 'min_lr': 5.259627640156133e-05}. Best is trial 3 with value: 0.6834672689437866.\u001b[0m\n",
      "\u001b[32m[I 2022-01-10 18:04:35,205]\u001b[0m Trial 6 finished with value: 1.274413824081421 and parameters: {'mid_size': 550, 'num_mid_layers': 3, 'optimizer': 'SGD', 'lr': 0.0046915520547043885, 'batch_size': 1280.0, 'num_epochs': 83, 'min_lr': 0.002482451996896448}. Best is trial 3 with value: 0.6834672689437866.\u001b[0m\n",
      "\u001b[32m[I 2022-01-10 18:05:02,759]\u001b[0m Trial 7 finished with value: 0.5720800161361694 and parameters: {'mid_size': 686, 'num_mid_layers': 2, 'optimizer': 'Adam', 'lr': 0.0029087140864563913, 'batch_size': 1536.0, 'num_epochs': 156, 'min_lr': 1.4219536301189316e-05}. Best is trial 7 with value: 0.5720800161361694.\u001b[0m\n",
      "\u001b[32m[I 2022-01-10 18:05:26,229]\u001b[0m Trial 8 finished with value: 0.5225690007209778 and parameters: {'mid_size': 668, 'num_mid_layers': 1, 'optimizer': 'RMSprop', 'lr': 0.003874900816668667, 'batch_size': 3968.0, 'num_epochs': 120, 'min_lr': 0.05903804458784232}. Best is trial 8 with value: 0.5225690007209778.\u001b[0m\n",
      "\u001b[32m[I 2022-01-10 18:05:42,413]\u001b[0m Trial 9 finished with value: 2.33599591255188 and parameters: {'mid_size': 637, 'num_mid_layers': 2, 'optimizer': 'Adam', 'lr': 0.0066833423566449, 'batch_size': 2944.0, 'num_epochs': 84, 'min_lr': 0.001379229079867851}. Best is trial 8 with value: 0.5225690007209778.\u001b[0m\n",
      "\u001b[32m[I 2022-01-10 18:05:45,320]\u001b[0m Trial 10 finished with value: 1.386294960975647 and parameters: {'mid_size': 896, 'num_mid_layers': 1, 'optimizer': 'RMSprop', 'lr': 1.1057130805808579e-05, 'batch_size': 4096.0, 'num_epochs': 15, 'min_lr': 0.07206442368567759}. Best is trial 8 with value: 0.5225690007209778.\u001b[0m\n",
      "\u001b[32m[I 2022-01-10 18:06:13,504]\u001b[0m Trial 11 finished with value: 0.7341416478157043 and parameters: {'mid_size': 771, 'num_mid_layers': 2, 'optimizer': 'RMSprop', 'lr': 0.001957847387327994, 'batch_size': 1152.0, 'num_epochs': 156, 'min_lr': 0.009067162730913701}. Best is trial 8 with value: 0.5225690007209778.\u001b[0m\n",
      "\u001b[32m[I 2022-01-10 18:06:51,921]\u001b[0m Trial 12 finished with value: 1.0198110342025757 and parameters: {'mid_size': 997, 'num_mid_layers': 2, 'optimizer': 'RMSprop', 'lr': 0.017299215259699057, 'batch_size': 3968.0, 'num_epochs': 188, 'min_lr': 1.1533438210758924e-05}. Best is trial 8 with value: 0.5225690007209778.\u001b[0m\n",
      "\u001b[32m[I 2022-01-10 18:07:12,096]\u001b[0m Trial 13 finished with value: 0.6756537556648254 and parameters: {'mid_size': 689, 'num_mid_layers': 1, 'optimizer': 'Adam', 'lr': 0.0006178726670909448, 'batch_size': 1536.0, 'num_epochs': 119, 'min_lr': 0.014812919293678286}. Best is trial 8 with value: 0.5225690007209778.\u001b[0m\n",
      "\u001b[32m[I 2022-01-10 18:07:20,735]\u001b[0m Trial 14 finished with value: 3.006620407104492 and parameters: {'mid_size': 815, 'num_mid_layers': 2, 'optimizer': 'Adam', 'lr': 0.003833672636716372, 'batch_size': 3456.0, 'num_epochs': 42, 'min_lr': 0.00040070572801068527}. Best is trial 8 with value: 0.5225690007209778.\u001b[0m\n",
      "\u001b[32m[I 2022-01-10 18:07:48,023]\u001b[0m Trial 15 finished with value: 0.6327762007713318 and parameters: {'mid_size': 487, 'num_mid_layers': 1, 'optimizer': 'RMSprop', 'lr': 0.016058564522182375, 'batch_size': 1920.0, 'num_epochs': 159, 'min_lr': 0.005734256726741915}. Best is trial 8 with value: 0.5225690007209778.\u001b[0m\n",
      "\u001b[32m[I 2022-01-10 18:08:07,511]\u001b[0m Trial 16 finished with value: 1.3670108318328857 and parameters: {'mid_size': 653, 'num_mid_layers': 2, 'optimizer': 'RMSprop', 'lr': 0.0784806412352509, 'batch_size': 3584.0, 'num_epochs': 98, 'min_lr': 0.027895887822899396}. Best is trial 8 with value: 0.5225690007209778.\u001b[0m\n",
      "\u001b[32m[I 2022-01-10 18:08:32,311]\u001b[0m Trial 17 finished with value: 0.32243868708610535 and parameters: {'mid_size': 812, 'num_mid_layers': 1, 'optimizer': 'Adam', 'lr': 0.0005709920939510431, 'batch_size': 1792.0, 'num_epochs': 137, 'min_lr': 0.000389640024024253}. Best is trial 17 with value: 0.32243868708610535.\u001b[0m\n",
      "\u001b[32m[I 2022-01-10 18:08:55,804]\u001b[0m Trial 18 finished with value: 0.3227412700653076 and parameters: {'mid_size': 900, 'num_mid_layers': 1, 'optimizer': 'Adam', 'lr': 4.624988864415113e-05, 'batch_size': 1920.0, 'num_epochs': 133, 'min_lr': 0.0005212924954963021}. Best is trial 17 with value: 0.32243868708610535.\u001b[0m\n",
      "\u001b[32m[I 2022-01-10 18:09:21,376]\u001b[0m Trial 19 finished with value: 3.3835010528564453 and parameters: {'mid_size': 962, 'num_mid_layers': 3, 'optimizer': 'Adam', 'lr': 2.683316190815887e-05, 'batch_size': 1920.0, 'num_epochs': 134, 'min_lr': 0.0004002797234320686}. Best is trial 17 with value: 0.32243868708610535.\u001b[0m\n",
      "\u001b[32m[I 2022-01-10 18:09:32,506]\u001b[0m Trial 20 finished with value: 0.416355162858963 and parameters: {'mid_size': 838, 'num_mid_layers': 1, 'optimizer': 'Adam', 'lr': 8.378640763486327e-05, 'batch_size': 1792.0, 'num_epochs': 62, 'min_lr': 0.0023054534281335497}. Best is trial 17 with value: 0.32243868708610535.\u001b[0m\n",
      "\u001b[32m[I 2022-01-10 18:09:42,960]\u001b[0m Trial 21 finished with value: 0.4077962040901184 and parameters: {'mid_size': 828, 'num_mid_layers': 1, 'optimizer': 'Adam', 'lr': 6.288001084696286e-05, 'batch_size': 1792.0, 'num_epochs': 58, 'min_lr': 0.0029919436634599}. Best is trial 17 with value: 0.32243868708610535.\u001b[0m\n",
      "\u001b[32m[I 2022-01-10 18:09:50,347]\u001b[0m Trial 22 finished with value: 0.26268166303634644 and parameters: {'mid_size': 907, 'num_mid_layers': 1, 'optimizer': 'Adam', 'lr': 4.874224334595876e-05, 'batch_size': 1536.0, 'num_epochs': 43, 'min_lr': 0.0006654344066813095}. Best is trial 22 with value: 0.26268166303634644.\u001b[0m\n",
      "\u001b[32m[I 2022-01-10 18:09:54,147]\u001b[0m Trial 23 finished with value: 0.24125522375106812 and parameters: {'mid_size': 921, 'num_mid_layers': 1, 'optimizer': 'Adam', 'lr': 1.9739270442529386e-05, 'batch_size': 1408.0, 'num_epochs': 22, 'min_lr': 0.0006697041631593612}. Best is trial 23 with value: 0.24125522375106812.\u001b[0m\n",
      "\u001b[32m[I 2022-01-10 18:09:57,998]\u001b[0m Trial 24 finished with value: 0.9070136547088623 and parameters: {'mid_size': 932, 'num_mid_layers': 2, 'optimizer': 'Adam', 'lr': 1.3228965838734443e-05, 'batch_size': 1024.0, 'num_epochs': 21, 'min_lr': 0.00018065504646515602}. Best is trial 23 with value: 0.24125522375106812.\u001b[0m\n",
      "\u001b[32m[I 2022-01-10 18:10:04,254]\u001b[0m Trial 25 finished with value: 0.3282329738140106 and parameters: {'mid_size': 788, 'num_mid_layers': 1, 'optimizer': 'Adam', 'lr': 0.0002463153422729419, 'batch_size': 1408.0, 'num_epochs': 37, 'min_lr': 0.0009090505415652783}. Best is trial 23 with value: 0.24125522375106812.\u001b[0m\n",
      "\u001b[32m[I 2022-01-10 18:10:11,434]\u001b[0m Trial 26 finished with value: 2.6134984493255615 and parameters: {'mid_size': 749, 'num_mid_layers': 3, 'optimizer': 'Adam', 'lr': 2.6723577892623547e-05, 'batch_size': 1536.0, 'num_epochs': 39, 'min_lr': 0.001137031769536666}. Best is trial 23 with value: 0.24125522375106812.\u001b[0m\n",
      "\u001b[32m[I 2022-01-10 18:10:15,156]\u001b[0m Trial 27 finished with value: 0.23819103837013245 and parameters: {'mid_size': 896, 'num_mid_layers': 1, 'optimizer': 'Adam', 'lr': 2.2337173330481942e-05, 'batch_size': 1024.0, 'num_epochs': 21, 'min_lr': 0.00018717596451240428}. Best is trial 27 with value: 0.23819103837013245.\u001b[0m\n",
      "\u001b[32m[I 2022-01-10 18:10:19,183]\u001b[0m Trial 28 finished with value: 1.1710959672927856 and parameters: {'mid_size': 889, 'num_mid_layers': 2, 'optimizer': 'Adam', 'lr': 2.1092464106574244e-05, 'batch_size': 1024.0, 'num_epochs': 22, 'min_lr': 4.9813492508378914e-05}. Best is trial 27 with value: 0.23819103837013245.\u001b[0m\n",
      "\u001b[32m[I 2022-01-10 18:10:25,323]\u001b[0m Trial 29 finished with value: 1.1977003812789917 and parameters: {'mid_size': 359, 'num_mid_layers': 5, 'optimizer': 'Adam', 'lr': 0.00012859612203360978, 'batch_size': 2176.0, 'num_epochs': 32, 'min_lr': 0.00015548470628640976}. Best is trial 27 with value: 0.23819103837013245.\u001b[0m\n",
      "\u001b[32m[I 2022-01-10 18:10:34,020]\u001b[0m Trial 30 finished with value: 0.22945865988731384 and parameters: {'mid_size': 999, 'num_mid_layers': 1, 'optimizer': 'Adam', 'lr': 3.98929854995527e-05, 'batch_size': 1280.0, 'num_epochs': 49, 'min_lr': 2.892396854323583e-05}. Best is trial 30 with value: 0.22945865988731384.\u001b[0m\n",
      "\u001b[32m[I 2022-01-10 18:10:42,945]\u001b[0m Trial 31 finished with value: 0.23390987515449524 and parameters: {'mid_size': 997, 'num_mid_layers': 1, 'optimizer': 'Adam', 'lr': 2.8708430016420506e-05, 'batch_size': 1280.0, 'num_epochs': 50, 'min_lr': 3.0172123554895707e-05}. Best is trial 30 with value: 0.22945865988731384.\u001b[0m\n",
      "\u001b[32m[I 2022-01-10 18:10:52,499]\u001b[0m Trial 32 finished with value: 0.24857810139656067 and parameters: {'mid_size': 941, 'num_mid_layers': 1, 'optimizer': 'Adam', 'lr': 2.089253273749529e-05, 'batch_size': 1280.0, 'num_epochs': 54, 'min_lr': 2.823283720465429e-05}. Best is trial 30 with value: 0.22945865988731384.\u001b[0m\n",
      "\u001b[32m[I 2022-01-10 18:10:54,217]\u001b[0m Trial 33 finished with value: 0.34294503927230835 and parameters: {'mid_size': 983, 'num_mid_layers': 1, 'optimizer': 'Adam', 'lr': 3.487753877602354e-05, 'batch_size': 1024.0, 'num_epochs': 10, 'min_lr': 2.8005547959250234e-05}. Best is trial 30 with value: 0.22945865988731384.\u001b[0m\n",
      "\u001b[32m[I 2022-01-10 18:10:59,440]\u001b[0m Trial 34 finished with value: 1.0708823204040527 and parameters: {'mid_size': 988, 'num_mid_layers': 4, 'optimizer': 'Adam', 'lr': 0.0001103203084210594, 'batch_size': 1280.0, 'num_epochs': 26, 'min_lr': 9.48001471736616e-05}. Best is trial 30 with value: 0.22945865988731384.\u001b[0m\n",
      "\u001b[32m[I 2022-01-10 18:11:11,758]\u001b[0m Trial 35 finished with value: 1.2276828289031982 and parameters: {'mid_size': 862, 'num_mid_layers': 2, 'optimizer': 'SGD', 'lr': 1.1167270920830327e-05, 'batch_size': 1280.0, 'num_epochs': 69, 'min_lr': 0.00020457960252083713}. Best is trial 30 with value: 0.22945865988731384.\u001b[0m\n",
      "\u001b[32m[I 2022-01-10 18:11:20,347]\u001b[0m Trial 36 finished with value: 0.2666621506214142 and parameters: {'mid_size': 564, 'num_mid_layers': 1, 'optimizer': 'Adam', 'lr': 0.0003783008254655606, 'batch_size': 1024.0, 'num_epochs': 51, 'min_lr': 6.108187427608398e-05}. Best is trial 30 with value: 0.22945865988731384.\u001b[0m\n",
      "\u001b[32m[I 2022-01-10 18:11:35,919]\u001b[0m Trial 37 finished with value: 1.1970349550247192 and parameters: {'mid_size': 400, 'num_mid_layers': 1, 'optimizer': 'SGD', 'lr': 0.00014470986016440853, 'batch_size': 2688.0, 'num_epochs': 83, 'min_lr': 2.1644038981990204e-05}. Best is trial 30 with value: 0.22945865988731384.\u001b[0m\n",
      "\u001b[32m[I 2022-01-10 18:11:52,613]\u001b[0m Trial 38 finished with value: 1.0215749740600586 and parameters: {'mid_size': 179, 'num_mid_layers': 2, 'optimizer': 'Adam', 'lr': 1.6697593649668153e-05, 'batch_size': 1408.0, 'num_epochs': 99, 'min_lr': 9.99346470586017e-05}. Best is trial 30 with value: 0.22945865988731384.\u001b[0m\n",
      "\u001b[32m[I 2022-01-10 18:12:07,154]\u001b[0m Trial 39 finished with value: 1.2522855997085571 and parameters: {'mid_size': 755, 'num_mid_layers': 4, 'optimizer': 'SGD', 'lr': 3.958873603224622e-05, 'batch_size': 2304.0, 'num_epochs': 72, 'min_lr': 0.00025079915284288414}. Best is trial 30 with value: 0.22945865988731384.\u001b[0m\n",
      "\u001b[32m[I 2022-01-10 18:12:11,813]\u001b[0m Trial 40 finished with value: 0.38333067297935486 and parameters: {'mid_size': 246, 'num_mid_layers': 1, 'optimizer': 'Adam', 'lr': 7.537795126896268e-05, 'batch_size': 1664.0, 'num_epochs': 27, 'min_lr': 4.266273748780061e-05}. Best is trial 30 with value: 0.22945865988731384.\u001b[0m\n",
      "\u001b[32m[I 2022-01-10 18:12:20,564]\u001b[0m Trial 41 finished with value: 0.2518622577190399 and parameters: {'mid_size': 949, 'num_mid_layers': 1, 'optimizer': 'Adam', 'lr': 1.8777296633517323e-05, 'batch_size': 1280.0, 'num_epochs': 49, 'min_lr': 3.1345965740904536e-05}. Best is trial 30 with value: 0.22945865988731384.\u001b[0m\n",
      "\u001b[32m[I 2022-01-10 18:12:30,148]\u001b[0m Trial 42 finished with value: 0.24202527105808258 and parameters: {'mid_size': 936, 'num_mid_layers': 1, 'optimizer': 'Adam', 'lr': 2.957199078256637e-05, 'batch_size': 1152.0, 'num_epochs': 55, 'min_lr': 1.7552299142910564e-05}. Best is trial 30 with value: 0.22945865988731384.\u001b[0m\n",
      "\u001b[32m[I 2022-01-10 18:12:31,897]\u001b[0m Trial 43 finished with value: 0.44480758905410767 and parameters: {'mid_size': 873, 'num_mid_layers': 1, 'optimizer': 'Adam', 'lr': 3.1207576898968796e-05, 'batch_size': 1152.0, 'num_epochs': 10, 'min_lr': 1.780081731333247e-05}. Best is trial 30 with value: 0.22945865988731384.\u001b[0m\n",
      "\u001b[32m[I 2022-01-10 18:12:43,894]\u001b[0m Trial 44 finished with value: 0.22049514949321747 and parameters: {'mid_size': 995, 'num_mid_layers': 1, 'optimizer': 'Adam', 'lr': 5.564895032194297e-05, 'batch_size': 1152.0, 'num_epochs': 69, 'min_lr': 1.031362890554681e-05}. Best is trial 44 with value: 0.22049514949321747.\u001b[0m\n",
      "\u001b[32m[I 2022-01-10 18:12:56,355]\u001b[0m Trial 45 finished with value: 0.8555349111557007 and parameters: {'mid_size': 985, 'num_mid_layers': 2, 'optimizer': 'Adam', 'lr': 5.51886370284486e-05, 'batch_size': 1408.0, 'num_epochs': 70, 'min_lr': 1.140663408932614e-05}. Best is trial 44 with value: 0.22049514949321747.\u001b[0m\n",
      "\u001b[32m[I 2022-01-10 18:13:02,351]\u001b[0m Trial 46 finished with value: 0.9004043936729431 and parameters: {'mid_size': 711, 'num_mid_layers': 2, 'optimizer': 'Adam', 'lr': 1.0364784741299905e-05, 'batch_size': 1664.0, 'num_epochs': 33, 'min_lr': 6.490547646444116e-05}. Best is trial 44 with value: 0.22049514949321747.\u001b[0m\n",
      "\u001b[32m[I 2022-01-10 18:13:09,971]\u001b[0m Trial 47 finished with value: 1.079616665840149 and parameters: {'mid_size': 606, 'num_mid_layers': 1, 'optimizer': 'SGD', 'lr': 8.680246638536609e-05, 'batch_size': 1152.0, 'num_epochs': 46, 'min_lr': 0.0001231124611609553}. Best is trial 44 with value: 0.22049514949321747.\u001b[0m\n",
      "\u001b[32m[I 2022-01-10 18:13:25,559]\u001b[0m Trial 48 finished with value: 1.49790620803833 and parameters: {'mid_size': 1000, 'num_mid_layers': 5, 'optimizer': 'RMSprop', 'lr': 0.00017650380747530854, 'batch_size': 1408.0, 'num_epochs': 78, 'min_lr': 3.990512829537854e-05}. Best is trial 44 with value: 0.22049514949321747.\u001b[0m\n",
      "\u001b[32m[I 2022-01-10 18:13:29,041]\u001b[0m Trial 49 finished with value: 0.5160222053527832 and parameters: {'mid_size': 915, 'num_mid_layers': 1, 'optimizer': 'Adam', 'lr': 1.6805260448210944e-05, 'batch_size': 2048.0, 'num_epochs': 18, 'min_lr': 1.2208035719326338e-05}. Best is trial 44 with value: 0.22049514949321747.\u001b[0m\n",
      "\u001b[32m[I 2022-01-10 18:13:40,276]\u001b[0m Trial 50 finished with value: 1.0990509986877441 and parameters: {'mid_size': 846, 'num_mid_layers': 2, 'optimizer': 'Adam', 'lr': 0.001605070788881617, 'batch_size': 1664.0, 'num_epochs': 61, 'min_lr': 0.00029777721705349664}. Best is trial 44 with value: 0.22049514949321747.\u001b[0m\n",
      "\u001b[32m[I 2022-01-10 18:13:45,611]\u001b[0m Trial 51 finished with value: 0.2759687602519989 and parameters: {'mid_size': 936, 'num_mid_layers': 1, 'optimizer': 'Adam', 'lr': 2.838730620984104e-05, 'batch_size': 1152.0, 'num_epochs': 31, 'min_lr': 1.758392090551502e-05}. Best is trial 44 with value: 0.22049514949321747.\u001b[0m\n",
      "\u001b[32m[I 2022-01-10 18:14:01,773]\u001b[0m Trial 52 finished with value: 0.2458488494157791 and parameters: {'mid_size': 949, 'num_mid_layers': 1, 'optimizer': 'Adam', 'lr': 4.079843172651114e-05, 'batch_size': 1152.0, 'num_epochs': 92, 'min_lr': 6.689641645364933e-05}. Best is trial 44 with value: 0.22049514949321747.\u001b[0m\n",
      "\u001b[32m[I 2022-01-10 18:14:12,598]\u001b[0m Trial 53 finished with value: 0.24502144753932953 and parameters: {'mid_size': 875, 'num_mid_layers': 1, 'optimizer': 'Adam', 'lr': 1.5441667888254837e-05, 'batch_size': 1024.0, 'num_epochs': 64, 'min_lr': 2.2389358125131806e-05}. Best is trial 44 with value: 0.22049514949321747.\u001b[0m\n",
      "\u001b[32m[I 2022-01-10 18:14:22,400]\u001b[0m Trial 54 finished with value: 0.2256832718849182 and parameters: {'mid_size': 1000, 'num_mid_layers': 1, 'optimizer': 'Adam', 'lr': 6.0763841185939786e-05, 'batch_size': 1280.0, 'num_epochs': 55, 'min_lr': 1.3178489872224479e-05}. Best is trial 44 with value: 0.22049514949321747.\u001b[0m\n",
      "\u001b[32m[I 2022-01-10 18:14:30,141]\u001b[0m Trial 55 finished with value: 0.23821519315242767 and parameters: {'mid_size': 967, 'num_mid_layers': 1, 'optimizer': 'RMSprop', 'lr': 6.116197940977197e-05, 'batch_size': 3072.0, 'num_epochs': 40, 'min_lr': 1.0665863184445608e-05}. Best is trial 44 with value: 0.22049514949321747.\u001b[0m\n",
      "\u001b[32m[I 2022-01-10 18:14:38,860]\u001b[0m Trial 56 finished with value: 0.22190649807453156 and parameters: {'mid_size': 963, 'num_mid_layers': 1, 'optimizer': 'RMSprop', 'lr': 9.955808573713692e-05, 'batch_size': 3200.0, 'num_epochs': 43, 'min_lr': 1.3185809304348607e-05}. Best is trial 44 with value: 0.22049514949321747.\u001b[0m\n",
      "\u001b[32m[I 2022-01-10 18:14:48,262]\u001b[0m Trial 57 finished with value: 0.8695157170295715 and parameters: {'mid_size': 998, 'num_mid_layers': 2, 'optimizer': 'RMSprop', 'lr': 0.0002685050081347545, 'batch_size': 3584.0, 'num_epochs': 46, 'min_lr': 3.318095149840371e-05}. Best is trial 44 with value: 0.22049514949321747.\u001b[0m\n",
      "\u001b[32m[I 2022-01-10 18:15:05,229]\u001b[0m Trial 58 finished with value: 0.24422262609004974 and parameters: {'mid_size': 799, 'num_mid_layers': 1, 'optimizer': 'RMSprop', 'lr': 9.2404099263165e-05, 'batch_size': 2944.0, 'num_epochs': 90, 'min_lr': 1.57933261815042e-05}. Best is trial 44 with value: 0.22049514949321747.\u001b[0m\n",
      "\u001b[32m[I 2022-01-10 18:15:19,526]\u001b[0m Trial 59 finished with value: 0.4518226087093353 and parameters: {'mid_size': 901, 'num_mid_layers': 1, 'optimizer': 'RMSprop', 'lr': 0.03910777591571979, 'batch_size': 3072.0, 'num_epochs': 74, 'min_lr': 2.3424868535193217e-05}. Best is trial 44 with value: 0.22049514949321747.\u001b[0m\n",
      "\u001b[32m[I 2022-01-10 18:15:31,457]\u001b[0m Trial 60 finished with value: 0.8895339369773865 and parameters: {'mid_size': 452, 'num_mid_layers': 2, 'optimizer': 'RMSprop', 'lr': 0.0008777172089514421, 'batch_size': 2432.0, 'num_epochs': 63, 'min_lr': 1.4037703432611445e-05}. Best is trial 44 with value: 0.22049514949321747.\u001b[0m\n",
      "\u001b[32m[I 2022-01-10 18:15:38,985]\u001b[0m Trial 61 finished with value: 0.23371663689613342 and parameters: {'mid_size': 971, 'num_mid_layers': 1, 'optimizer': 'RMSprop', 'lr': 5.805975827275208e-05, 'batch_size': 3072.0, 'num_epochs': 39, 'min_lr': 1.4978224152867565e-05}. Best is trial 44 with value: 0.22049514949321747.\u001b[0m\n",
      "\u001b[32m[I 2022-01-10 18:15:46,200]\u001b[0m Trial 62 finished with value: 0.24726155400276184 and parameters: {'mid_size': 959, 'num_mid_layers': 1, 'optimizer': 'RMSprop', 'lr': 5.329443602077444e-05, 'batch_size': 3328.0, 'num_epochs': 37, 'min_lr': 1.0249855499809888e-05}. Best is trial 44 with value: 0.22049514949321747.\u001b[0m\n",
      "\u001b[32m[I 2022-01-10 18:15:56,607]\u001b[0m Trial 63 finished with value: 0.2468412220478058 and parameters: {'mid_size': 847, 'num_mid_layers': 1, 'optimizer': 'RMSprop', 'lr': 0.00010578239489115832, 'batch_size': 3328.0, 'num_epochs': 54, 'min_lr': 3.483733853842889e-05}. Best is trial 44 with value: 0.22049514949321747.\u001b[0m\n",
      "\u001b[32m[I 2022-01-10 18:16:02,251]\u001b[0m Trial 64 finished with value: 0.23147815465927124 and parameters: {'mid_size': 894, 'num_mid_layers': 1, 'optimizer': 'RMSprop', 'lr': 0.00020101587425639514, 'batch_size': 2816.0, 'num_epochs': 30, 'min_lr': 2.3459260052253406e-05}. Best is trial 44 with value: 0.22049514949321747.\u001b[0m\n",
      "\u001b[32m[I 2022-01-10 18:16:23,317]\u001b[0m Trial 65 finished with value: 0.29340776801109314 and parameters: {'mid_size': 967, 'num_mid_layers': 1, 'optimizer': 'RMSprop', 'lr': 0.00025259976356708526, 'batch_size': 2816.0, 'num_epochs': 112, 'min_lr': 2.4886848852623587e-05}. Best is trial 44 with value: 0.22049514949321747.\u001b[0m\n",
      "\u001b[32m[I 2022-01-10 18:16:32,184]\u001b[0m Trial 66 finished with value: 0.22684599459171295 and parameters: {'mid_size': 996, 'num_mid_layers': 1, 'optimizer': 'RMSprop', 'lr': 7.058177895761313e-05, 'batch_size': 3200.0, 'num_epochs': 45, 'min_lr': 1.5336546063568573e-05}. Best is trial 44 with value: 0.22049514949321747.\u001b[0m\n",
      "\u001b[32m[I 2022-01-10 18:16:40,351]\u001b[0m Trial 67 finished with value: 0.22680158913135529 and parameters: {'mid_size': 915, 'num_mid_layers': 1, 'optimizer': 'RMSprop', 'lr': 0.00016666766287228236, 'batch_size': 3328.0, 'num_epochs': 42, 'min_lr': 1.3747091199463203e-05}. Best is trial 44 with value: 0.22049514949321747.\u001b[0m\n",
      "\u001b[32m[I 2022-01-10 18:16:45,868]\u001b[0m Trial 68 finished with value: 0.35723817348480225 and parameters: {'mid_size': 905, 'num_mid_layers': 1, 'optimizer': 'RMSprop', 'lr': 0.00047187655337807045, 'batch_size': 3200.0, 'num_epochs': 27, 'min_lr': 4.50676478711466e-05}. Best is trial 44 with value: 0.22049514949321747.\u001b[0m\n",
      "\u001b[32m[I 2022-01-10 18:16:54,556]\u001b[0m Trial 69 finished with value: 0.22732646763324738 and parameters: {'mid_size': 827, 'num_mid_layers': 1, 'optimizer': 'RMSprop', 'lr': 0.00017618038135102035, 'batch_size': 3712.0, 'num_epochs': 44, 'min_lr': 1.013401538476695e-05}. Best is trial 44 with value: 0.22049514949321747.\u001b[0m\n",
      "\u001b[32m[I 2022-01-10 18:17:08,171]\u001b[0m Trial 70 finished with value: 0.9895420670509338 and parameters: {'mid_size': 833, 'num_mid_layers': 3, 'optimizer': 'RMSprop', 'lr': 0.00017501187262604153, 'batch_size': 3840.0, 'num_epochs': 66, 'min_lr': 1.3000899761158038e-05}. Best is trial 44 with value: 0.22049514949321747.\u001b[0m\n",
      "\u001b[32m[I 2022-01-10 18:17:16,859]\u001b[0m Trial 71 finished with value: 0.22951216995716095 and parameters: {'mid_size': 928, 'num_mid_layers': 1, 'optimizer': 'RMSprop', 'lr': 0.0003469625616316341, 'batch_size': 3584.0, 'num_epochs': 44, 'min_lr': 1.8342221441535324e-05}. Best is trial 44 with value: 0.22049514949321747.\u001b[0m\n",
      "\u001b[32m[I 2022-01-10 18:17:25,416]\u001b[0m Trial 72 finished with value: 0.2442116141319275 and parameters: {'mid_size': 926, 'num_mid_layers': 1, 'optimizer': 'RMSprop', 'lr': 0.0003549177766256524, 'batch_size': 3712.0, 'num_epochs': 43, 'min_lr': 1.0256519812888711e-05}. Best is trial 44 with value: 0.22049514949321747.\u001b[0m\n",
      "\u001b[32m[I 2022-01-10 18:17:36,670]\u001b[0m Trial 73 finished with value: 0.23179681599140167 and parameters: {'mid_size': 864, 'num_mid_layers': 1, 'optimizer': 'RMSprop', 'lr': 0.00013293644258905265, 'batch_size': 3712.0, 'num_epochs': 57, 'min_lr': 1.857663323354694e-05}. Best is trial 44 with value: 0.22049514949321747.\u001b[0m\n",
      "\u001b[32m[I 2022-01-10 18:17:46,460]\u001b[0m Trial 74 finished with value: 0.2521587908267975 and parameters: {'mid_size': 922, 'num_mid_layers': 1, 'optimizer': 'RMSprop', 'lr': 0.0003265954576421111, 'batch_size': 3456.0, 'num_epochs': 49, 'min_lr': 1.5083679140068441e-05}. Best is trial 44 with value: 0.22049514949321747.\u001b[0m\n",
      "\u001b[32m[I 2022-01-10 18:17:53,391]\u001b[0m Trial 75 finished with value: 0.2670139968395233 and parameters: {'mid_size': 960, 'num_mid_layers': 1, 'optimizer': 'RMSprop', 'lr': 0.0009247450984044657, 'batch_size': 4096.0, 'num_epochs': 35, 'min_lr': 1.0042055981793638e-05}. Best is trial 44 with value: 0.22049514949321747.\u001b[0m\n",
      "\u001b[32m[I 2022-01-10 18:18:05,087]\u001b[0m Trial 76 finished with value: 0.2268681526184082 and parameters: {'mid_size': 1000, 'num_mid_layers': 1, 'optimizer': 'RMSprop', 'lr': 7.21907507838636e-05, 'batch_size': 3456.0, 'num_epochs': 59, 'min_lr': 2.0193079749537555e-05}. Best is trial 44 with value: 0.22049514949321747.\u001b[0m\n",
      "\u001b[32m[I 2022-01-10 18:18:20,854]\u001b[0m Trial 77 finished with value: 1.0302873849868774 and parameters: {'mid_size': 1000, 'num_mid_layers': 2, 'optimizer': 'RMSprop', 'lr': 6.870150970441627e-05, 'batch_size': 3328.0, 'num_epochs': 77, 'min_lr': 1.4633210826872418e-05}. Best is trial 44 with value: 0.22049514949321747.\u001b[0m\n",
      "\u001b[32m[I 2022-01-10 18:18:32,211]\u001b[0m Trial 78 finished with value: 0.22347606718540192 and parameters: {'mid_size': 960, 'num_mid_layers': 1, 'optimizer': 'RMSprop', 'lr': 0.00010957546888788825, 'batch_size': 3456.0, 'num_epochs': 57, 'min_lr': 2.1976599691348227e-05}. Best is trial 44 with value: 0.22049514949321747.\u001b[0m\n",
      "\u001b[32m[I 2022-01-10 18:18:43,606]\u001b[0m Trial 79 finished with value: 0.22618573904037476 and parameters: {'mid_size': 815, 'num_mid_layers': 1, 'optimizer': 'RMSprop', 'lr': 0.00010494889022018256, 'batch_size': 3456.0, 'num_epochs': 58, 'min_lr': 5.1113387361372684e-05}. Best is trial 44 with value: 0.22049514949321747.\u001b[0m\n",
      "\u001b[32m[I 2022-01-10 18:18:55,384]\u001b[0m Trial 80 finished with value: 0.24663157761096954 and parameters: {'mid_size': 880, 'num_mid_layers': 1, 'optimizer': 'RMSprop', 'lr': 0.00011543982072347877, 'batch_size': 3456.0, 'num_epochs': 59, 'min_lr': 7.839277344739113e-05}. Best is trial 44 with value: 0.22049514949321747.\u001b[0m\n",
      "\u001b[32m[I 2022-01-10 18:19:08,799]\u001b[0m Trial 81 finished with value: 0.2346613109111786 and parameters: {'mid_size': 766, 'num_mid_layers': 1, 'optimizer': 'RMSprop', 'lr': 7.903341689676764e-05, 'batch_size': 3200.0, 'num_epochs': 68, 'min_lr': 2.0118431424887205e-05}. Best is trial 44 with value: 0.22049514949321747.\u001b[0m\n",
      "\u001b[32m[I 2022-01-10 18:19:19,620]\u001b[0m Trial 82 finished with value: 0.24538537859916687 and parameters: {'mid_size': 719, 'num_mid_layers': 1, 'optimizer': 'RMSprop', 'lr': 0.00013958577514755488, 'batch_size': 3200.0, 'num_epochs': 55, 'min_lr': 3.748378547281169e-05}. Best is trial 44 with value: 0.22049514949321747.\u001b[0m\n",
      "\u001b[32m[I 2022-01-10 18:19:29,713]\u001b[0m Trial 83 finished with value: 0.3312164545059204 and parameters: {'mid_size': 819, 'num_mid_layers': 1, 'optimizer': 'RMSprop', 'lr': 0.0002065378688352087, 'batch_size': 3712.0, 'num_epochs': 51, 'min_lr': 0.09459206692518496}. Best is trial 44 with value: 0.22049514949321747.\u001b[0m\n",
      "\u001b[32m[I 2022-01-10 18:19:41,623]\u001b[0m Trial 84 finished with value: 0.21745124459266663 and parameters: {'mid_size': 972, 'num_mid_layers': 1, 'optimizer': 'RMSprop', 'lr': 0.00010023988116664373, 'batch_size': 3456.0, 'num_epochs': 60, 'min_lr': 1.3121180340818413e-05}. Best is trial 84 with value: 0.21745124459266663.\u001b[0m\n",
      "\u001b[32m[I 2022-01-10 18:19:53,107]\u001b[0m Trial 85 finished with value: 0.8108569979667664 and parameters: {'mid_size': 20, 'num_mid_layers': 1, 'optimizer': 'RMSprop', 'lr': 9.981541646079924e-05, 'batch_size': 3456.0, 'num_epochs': 60, 'min_lr': 2.6511440356518066e-05}. Best is trial 84 with value: 0.21745124459266663.\u001b[0m\n",
      "\u001b[32m[I 2022-01-10 18:20:09,712]\u001b[0m Trial 86 finished with value: 0.22153742611408234 and parameters: {'mid_size': 972, 'num_mid_layers': 1, 'optimizer': 'RMSprop', 'lr': 4.1317926684548275e-05, 'batch_size': 3584.0, 'num_epochs': 84, 'min_lr': 4.923191069694228e-05}. Best is trial 84 with value: 0.21745124459266663.\u001b[0m\n",
      "\u001b[32m[I 2022-01-10 18:20:25,136]\u001b[0m Trial 87 finished with value: 0.23496182262897491 and parameters: {'mid_size': 949, 'num_mid_layers': 1, 'optimizer': 'RMSprop', 'lr': 4.734242208396487e-05, 'batch_size': 3584.0, 'num_epochs': 78, 'min_lr': 5.195449790339277e-05}. Best is trial 84 with value: 0.21745124459266663.\u001b[0m\n",
      "\u001b[32m[I 2022-01-10 18:20:42,806]\u001b[0m Trial 88 finished with value: 1.3639804124832153 and parameters: {'mid_size': 971, 'num_mid_layers': 2, 'optimizer': 'SGD', 'lr': 0.00014563985603465877, 'batch_size': 3968.0, 'num_epochs': 87, 'min_lr': 1.3265635809644025e-05}. Best is trial 84 with value: 0.21745124459266663.\u001b[0m\n",
      "\u001b[32m[I 2022-01-10 18:20:57,397]\u001b[0m Trial 89 finished with value: 0.33605384826660156 and parameters: {'mid_size': 916, 'num_mid_layers': 1, 'optimizer': 'RMSprop', 'lr': 3.509013826681853e-05, 'batch_size': 3328.0, 'num_epochs': 75, 'min_lr': 0.03090945952364199}. Best is trial 84 with value: 0.21745124459266663.\u001b[0m\n",
      "\u001b[32m[I 2022-01-10 18:21:13,172]\u001b[0m Trial 90 finished with value: 0.7981591820716858 and parameters: {'mid_size': 973, 'num_mid_layers': 3, 'optimizer': 'RMSprop', 'lr': 4.642649982509145e-05, 'batch_size': 3200.0, 'num_epochs': 66, 'min_lr': 3.0187139289223934e-05}. Best is trial 84 with value: 0.21745124459266663.\u001b[0m\n",
      "\u001b[32m[I 2022-01-10 18:21:27,124]\u001b[0m Trial 91 finished with value: 0.23523026704788208 and parameters: {'mid_size': 980, 'num_mid_layers': 1, 'optimizer': 'RMSprop', 'lr': 7.177848793647127e-05, 'batch_size': 3456.0, 'num_epochs': 70, 'min_lr': 1.945855049350004e-05}. Best is trial 84 with value: 0.21745124459266663.\u001b[0m\n",
      "\u001b[32m[I 2022-01-10 18:21:38,943]\u001b[0m Trial 92 finished with value: 0.21499933302402496 and parameters: {'mid_size': 945, 'num_mid_layers': 1, 'optimizer': 'RMSprop', 'lr': 8.953274458344511e-05, 'batch_size': 3840.0, 'num_epochs': 60, 'min_lr': 1.2695366864594345e-05}. Best is trial 92 with value: 0.21499933302402496.\u001b[0m\n",
      "\u001b[32m[I 2022-01-10 18:21:49,237]\u001b[0m Trial 93 finished with value: 0.22573226690292358 and parameters: {'mid_size': 944, 'num_mid_layers': 1, 'optimizer': 'RMSprop', 'lr': 8.807980828038375e-05, 'batch_size': 3840.0, 'num_epochs': 52, 'min_lr': 1.2685101018648322e-05}. Best is trial 92 with value: 0.21499933302402496.\u001b[0m\n",
      "\u001b[32m[I 2022-01-10 18:22:05,262]\u001b[0m Trial 94 finished with value: 0.22743237018585205 and parameters: {'mid_size': 942, 'num_mid_layers': 1, 'optimizer': 'RMSprop', 'lr': 8.8130554361593e-05, 'batch_size': 3840.0, 'num_epochs': 81, 'min_lr': 1.2463217352238217e-05}. Best is trial 92 with value: 0.21499933302402496.\u001b[0m\n",
      "\u001b[32m[I 2022-01-10 18:22:40,682]\u001b[0m Trial 95 finished with value: 0.3462880849838257 and parameters: {'mid_size': 897, 'num_mid_layers': 1, 'optimizer': 'RMSprop', 'lr': 0.00011522805549774602, 'batch_size': 3840.0, 'num_epochs': 179, 'min_lr': 0.005075303801414793}. Best is trial 92 with value: 0.21499933302402496.\u001b[0m\n",
      "\u001b[32m[I 2022-01-10 18:22:50,853]\u001b[0m Trial 96 finished with value: 0.44567161798477173 and parameters: {'mid_size': 879, 'num_mid_layers': 1, 'optimizer': 'RMSprop', 'lr': 0.01028020420422433, 'batch_size': 3968.0, 'num_epochs': 52, 'min_lr': 1.232009565723524e-05}. Best is trial 92 with value: 0.21499933302402496.\u001b[0m\n",
      "\u001b[32m[I 2022-01-10 18:23:03,280]\u001b[0m Trial 97 finished with value: 1.3248956203460693 and parameters: {'mid_size': 854, 'num_mid_layers': 1, 'optimizer': 'SGD', 'lr': 4.1562021093795235e-05, 'batch_size': 3584.0, 'num_epochs': 63, 'min_lr': 2.524325264404877e-05}. Best is trial 92 with value: 0.21499933302402496.\u001b[0m\n",
      "\u001b[32m[I 2022-01-10 18:23:42,702]\u001b[0m Trial 98 finished with value: 0.24289284646511078 and parameters: {'mid_size': 948, 'num_mid_layers': 1, 'optimizer': 'RMSprop', 'lr': 2.4395899139368404e-05, 'batch_size': 3840.0, 'num_epochs': 200, 'min_lr': 4.096323000891457e-05}. Best is trial 92 with value: 0.21499933302402496.\u001b[0m\n",
      "\u001b[32m[I 2022-01-10 18:24:01,563]\u001b[0m Trial 99 finished with value: 0.2387382984161377 and parameters: {'mid_size': 915, 'num_mid_layers': 1, 'optimizer': 'RMSprop', 'lr': 5.840199155254893e-05, 'batch_size': 3584.0, 'num_epochs': 96, 'min_lr': 5.645339997354395e-05}. Best is trial 92 with value: 0.21499933302402496.\u001b[0m\n",
      "\u001b[32m[I 2022-01-10 18:24:22,722]\u001b[0m Trial 100 finished with value: 0.26767560839653015 and parameters: {'mid_size': 792, 'num_mid_layers': 1, 'optimizer': 'RMSprop', 'lr': 0.00016351285603858785, 'batch_size': 4096.0, 'num_epochs': 107, 'min_lr': 1.659945842533332e-05}. Best is trial 92 with value: 0.21499933302402496.\u001b[0m\n",
      "\u001b[32m[I 2022-01-10 18:24:31,990]\u001b[0m Trial 101 finished with value: 0.2208722084760666 and parameters: {'mid_size': 967, 'num_mid_layers': 1, 'optimizer': 'RMSprop', 'lr': 9.333357439973471e-05, 'batch_size': 3328.0, 'num_epochs': 48, 'min_lr': 1.4283751880994345e-05}. Best is trial 92 with value: 0.21499933302402496.\u001b[0m\n",
      "\u001b[32m[I 2022-01-10 18:24:42,687]\u001b[0m Trial 102 finished with value: 0.22557960450649261 and parameters: {'mid_size': 949, 'num_mid_layers': 1, 'optimizer': 'RMSprop', 'lr': 9.088540985043292e-05, 'batch_size': 3328.0, 'num_epochs': 55, 'min_lr': 1.2836299149554422e-05}. Best is trial 92 with value: 0.21499933302402496.\u001b[0m\n",
      "\u001b[32m[I 2022-01-10 18:24:53,884]\u001b[0m Trial 103 finished with value: 0.27523839473724365 and parameters: {'mid_size': 956, 'num_mid_layers': 1, 'optimizer': 'RMSprop', 'lr': 9.242758574214549e-05, 'batch_size': 3712.0, 'num_epochs': 56, 'min_lr': 0.0016677273658163932}. Best is trial 92 with value: 0.21499933302402496.\u001b[0m\n",
      "\u001b[32m[I 2022-01-10 18:25:08,221]\u001b[0m Trial 104 finished with value: 0.23441100120544434 and parameters: {'mid_size': 976, 'num_mid_layers': 1, 'optimizer': 'RMSprop', 'lr': 0.00012395288290846136, 'batch_size': 3456.0, 'num_epochs': 72, 'min_lr': 2.1285816231216534e-05}. Best is trial 92 with value: 0.21499933302402496.\u001b[0m\n",
      "\u001b[32m[I 2022-01-10 18:25:17,859]\u001b[0m Trial 105 finished with value: 0.25793781876564026 and parameters: {'mid_size': 944, 'num_mid_layers': 1, 'optimizer': 'RMSprop', 'lr': 3.489601904818783e-05, 'batch_size': 3584.0, 'num_epochs': 49, 'min_lr': 1.2251900696674522e-05}. Best is trial 92 with value: 0.21499933302402496.\u001b[0m\n",
      "\u001b[32m[I 2022-01-10 18:25:30,375]\u001b[0m Trial 106 finished with value: 0.2285056710243225 and parameters: {'mid_size': 933, 'num_mid_layers': 1, 'optimizer': 'RMSprop', 'lr': 5.197600638682707e-05, 'batch_size': 3328.0, 'num_epochs': 64, 'min_lr': 3.483906826834063e-05}. Best is trial 92 with value: 0.21499933302402496.\u001b[0m\n",
      "\u001b[32m[I 2022-01-10 18:25:41,033]\u001b[0m Trial 107 finished with value: 0.22656485438346863 and parameters: {'mid_size': 980, 'num_mid_layers': 1, 'optimizer': 'RMSprop', 'lr': 9.881634555551209e-05, 'batch_size': 3840.0, 'num_epochs': 54, 'min_lr': 1.7094642628952798e-05}. Best is trial 92 with value: 0.21499933302402496.\u001b[0m\n",
      "\u001b[32m[I 2022-01-10 18:25:52,540]\u001b[0m Trial 108 finished with value: 0.2959938049316406 and parameters: {'mid_size': 82, 'num_mid_layers': 1, 'optimizer': 'RMSprop', 'lr': 0.00024387616122849328, 'batch_size': 3072.0, 'num_epochs': 61, 'min_lr': 2.7096509590542028e-05}. Best is trial 92 with value: 0.21499933302402496.\u001b[0m\n",
      "\u001b[32m[I 2022-01-10 18:26:06,801]\u001b[0m Trial 109 finished with value: 1.401785969734192 and parameters: {'mid_size': 881, 'num_mid_layers': 4, 'optimizer': 'SGD', 'lr': 6.3871651427884e-05, 'batch_size': 3712.0, 'num_epochs': 67, 'min_lr': 2.193170208245854e-05}. Best is trial 92 with value: 0.21499933302402496.\u001b[0m\n",
      "\u001b[32m[I 2022-01-10 18:26:16,700]\u001b[0m Trial 110 finished with value: 1.3431856632232666 and parameters: {'mid_size': 962, 'num_mid_layers': 2, 'optimizer': 'RMSprop', 'lr': 8.778565521763536e-05, 'batch_size': 3328.0, 'num_epochs': 48, 'min_lr': 0.0001136634586665882}. Best is trial 92 with value: 0.21499933302402496.\u001b[0m\n",
      "\u001b[32m[I 2022-01-10 18:26:27,137]\u001b[0m Trial 111 finished with value: 0.22572064399719238 and parameters: {'mid_size': 979, 'num_mid_layers': 1, 'optimizer': 'RMSprop', 'lr': 0.00011020052974877915, 'batch_size': 3968.0, 'num_epochs': 53, 'min_lr': 1.6281629003590552e-05}. Best is trial 92 with value: 0.21499933302402496.\u001b[0m\n",
      "\u001b[32m[I 2022-01-10 18:26:38,408]\u001b[0m Trial 112 finished with value: 0.24384193122386932 and parameters: {'mid_size': 978, 'num_mid_layers': 1, 'optimizer': 'RMSprop', 'lr': 0.00014428940077810984, 'batch_size': 3968.0, 'num_epochs': 57, 'min_lr': 1.1836418505543646e-05}. Best is trial 92 with value: 0.21499933302402496.\u001b[0m\n",
      "\u001b[32m[I 2022-01-10 18:26:45,931]\u001b[0m Trial 113 finished with value: 0.2206876128911972 and parameters: {'mid_size': 932, 'num_mid_layers': 1, 'optimizer': 'RMSprop', 'lr': 0.00010925639797138413, 'batch_size': 3584.0, 'num_epochs': 38, 'min_lr': 1.6079743575631704e-05}. Best is trial 92 with value: 0.21499933302402496.\u001b[0m\n",
      "\u001b[32m[I 2022-01-10 18:26:53,887]\u001b[0m Trial 114 finished with value: 0.23518460988998413 and parameters: {'mid_size': 933, 'num_mid_layers': 1, 'optimizer': 'RMSprop', 'lr': 7.624936989015444e-05, 'batch_size': 4096.0, 'num_epochs': 40, 'min_lr': 1.5080168476036402e-05}. Best is trial 92 with value: 0.21499933302402496.\u001b[0m\n",
      "\u001b[32m[I 2022-01-10 18:27:21,775]\u001b[0m Trial 115 finished with value: 0.23297041654586792 and parameters: {'mid_size': 530, 'num_mid_layers': 1, 'optimizer': 'RMSprop', 'lr': 5.427071752234038e-05, 'batch_size': 2944.0, 'num_epochs': 149, 'min_lr': 1.7458957027443223e-05}. Best is trial 92 with value: 0.21499933302402496.\u001b[0m\n",
      "\u001b[32m[I 2022-01-10 18:27:28,901]\u001b[0m Trial 116 finished with value: 0.22932906448841095 and parameters: {'mid_size': 903, 'num_mid_layers': 1, 'optimizer': 'RMSprop', 'lr': 0.00020216052552201355, 'batch_size': 3968.0, 'num_epochs': 36, 'min_lr': 1.022483857867356e-05}. Best is trial 92 with value: 0.21499933302402496.\u001b[0m\n",
      "\u001b[32m[I 2022-01-10 18:27:40,385]\u001b[0m Trial 117 finished with value: 1.516703486442566 and parameters: {'mid_size': 952, 'num_mid_layers': 5, 'optimizer': 'RMSprop', 'lr': 0.00012075897940066904, 'batch_size': 2560.0, 'num_epochs': 52, 'min_lr': 1.3652448154570351e-05}. Best is trial 92 with value: 0.21499933302402496.\u001b[0m\n",
      "\u001b[32m[I 2022-01-10 18:27:49,268]\u001b[0m Trial 118 finished with value: 0.24162399768829346 and parameters: {'mid_size': 981, 'num_mid_layers': 1, 'optimizer': 'RMSprop', 'lr': 4.304108641535014e-05, 'batch_size': 3840.0, 'num_epochs': 45, 'min_lr': 2.2767092881796446e-05}. Best is trial 92 with value: 0.21499933302402496.\u001b[0m\n",
      "\u001b[32m[I 2022-01-10 18:27:55,427]\u001b[0m Trial 119 finished with value: 0.25261789560317993 and parameters: {'mid_size': 925, 'num_mid_layers': 1, 'optimizer': 'RMSprop', 'lr': 6.24509232302533e-05, 'batch_size': 3584.0, 'num_epochs': 31, 'min_lr': 1.560852369716744e-05}. Best is trial 92 with value: 0.21499933302402496.\u001b[0m\n",
      "\u001b[32m[I 2022-01-10 18:28:05,955]\u001b[0m Trial 120 finished with value: 0.25844743847846985 and parameters: {'mid_size': 893, 'num_mid_layers': 1, 'optimizer': 'Adam', 'lr': 8.128305267085211e-05, 'batch_size': 3712.0, 'num_epochs': 53, 'min_lr': 2.9435745879734795e-05}. Best is trial 92 with value: 0.21499933302402496.\u001b[0m\n",
      "\u001b[32m[I 2022-01-10 18:28:15,380]\u001b[0m Trial 121 finished with value: 0.2174019068479538 and parameters: {'mid_size': 957, 'num_mid_layers': 1, 'optimizer': 'RMSprop', 'lr': 9.475564446704583e-05, 'batch_size': 3456.0, 'num_epochs': 47, 'min_lr': 1.1926746990065285e-05}. Best is trial 92 with value: 0.21499933302402496.\u001b[0m\n",
      "\u001b[32m[I 2022-01-10 18:28:23,565]\u001b[0m Trial 122 finished with value: 0.23086179792881012 and parameters: {'mid_size': 954, 'num_mid_layers': 1, 'optimizer': 'RMSprop', 'lr': 0.0001063338874114964, 'batch_size': 3456.0, 'num_epochs': 41, 'min_lr': 1.205965317475673e-05}. Best is trial 92 with value: 0.21499933302402496.\u001b[0m\n",
      "\u001b[32m[I 2022-01-10 18:28:32,904]\u001b[0m Trial 123 finished with value: 0.2265310287475586 and parameters: {'mid_size': 985, 'num_mid_layers': 1, 'optimizer': 'RMSprop', 'lr': 0.0001415632770947859, 'batch_size': 3584.0, 'num_epochs': 47, 'min_lr': 1.001637646810521e-05}. Best is trial 92 with value: 0.21499933302402496.\u001b[0m\n",
      "\u001b[32m[I 2022-01-10 18:28:44,987]\u001b[0m Trial 124 finished with value: 0.2609800100326538 and parameters: {'mid_size': 323, 'num_mid_layers': 1, 'optimizer': 'RMSprop', 'lr': 8.180124516518043e-05, 'batch_size': 3200.0, 'num_epochs': 62, 'min_lr': 1.8420582987437917e-05}. Best is trial 92 with value: 0.21499933302402496.\u001b[0m\n",
      "\u001b[32m[I 2022-01-10 18:28:51,730]\u001b[0m Trial 125 finished with value: 0.23721948266029358 and parameters: {'mid_size': 963, 'num_mid_layers': 1, 'optimizer': 'RMSprop', 'lr': 6.548480587291973e-05, 'batch_size': 3328.0, 'num_epochs': 35, 'min_lr': 1.3230922050800463e-05}. Best is trial 92 with value: 0.21499933302402496.\u001b[0m\n",
      "\u001b[32m[I 2022-01-10 18:29:01,740]\u001b[0m Trial 126 finished with value: 0.26292169094085693 and parameters: {'mid_size': 934, 'num_mid_layers': 1, 'optimizer': 'RMSprop', 'lr': 3.2790035971100294e-05, 'batch_size': 3712.0, 'num_epochs': 50, 'min_lr': 1.6240160178290903e-05}. Best is trial 92 with value: 0.21499933302402496.\u001b[0m\n",
      "\u001b[32m[I 2022-01-10 18:29:15,479]\u001b[0m Trial 127 finished with value: 0.22865082323551178 and parameters: {'mid_size': 999, 'num_mid_layers': 1, 'optimizer': 'RMSprop', 'lr': 9.766988183480178e-05, 'batch_size': 3456.0, 'num_epochs': 69, 'min_lr': 2.0428392400767477e-05}. Best is trial 92 with value: 0.21499933302402496.\u001b[0m\n",
      "\u001b[32m[I 2022-01-10 18:29:22,861]\u001b[0m Trial 128 finished with value: 0.23942819237709045 and parameters: {'mid_size': 908, 'num_mid_layers': 1, 'optimizer': 'RMSprop', 'lr': 0.00023708104331008817, 'batch_size': 2432.0, 'num_epochs': 39, 'min_lr': 1.1734014954785665e-05}. Best is trial 92 with value: 0.21499933302402496.\u001b[0m\n",
      "\u001b[32m[I 2022-01-10 18:29:34,406]\u001b[0m Trial 129 finished with value: 0.2375887632369995 and parameters: {'mid_size': 966, 'num_mid_layers': 1, 'optimizer': 'Adam', 'lr': 0.0001260464568739481, 'batch_size': 3968.0, 'num_epochs': 58, 'min_lr': 2.4358625514046504e-05}. Best is trial 92 with value: 0.21499933302402496.\u001b[0m\n",
      "\u001b[32m[I 2022-01-10 18:29:48,604]\u001b[0m Trial 130 finished with value: 0.2466932237148285 and parameters: {'mid_size': 603, 'num_mid_layers': 1, 'optimizer': 'RMSprop', 'lr': 5.121483524695942e-05, 'batch_size': 3584.0, 'num_epochs': 73, 'min_lr': 1.4264555882246014e-05}. Best is trial 92 with value: 0.21499933302402496.\u001b[0m\n",
      "\u001b[32m[I 2022-01-10 18:29:59,929]\u001b[0m Trial 131 finished with value: 0.225844144821167 and parameters: {'mid_size': 866, 'num_mid_layers': 1, 'optimizer': 'RMSprop', 'lr': 0.00010709730519290504, 'batch_size': 3456.0, 'num_epochs': 57, 'min_lr': 1.8926746630607016e-05}. Best is trial 92 with value: 0.21499933302402496.\u001b[0m\n",
      "\u001b[32m[I 2022-01-10 18:30:10,547]\u001b[0m Trial 132 finished with value: 0.22414258122444153 and parameters: {'mid_size': 939, 'num_mid_layers': 1, 'optimizer': 'RMSprop', 'lr': 7.533765379466358e-05, 'batch_size': 3328.0, 'num_epochs': 55, 'min_lr': 1.8927995670911245e-05}. Best is trial 92 with value: 0.21499933302402496.\u001b[0m\n",
      "\u001b[32m[I 2022-01-10 18:30:19,743]\u001b[0m Trial 133 finished with value: 0.22581112384796143 and parameters: {'mid_size': 936, 'num_mid_layers': 1, 'optimizer': 'RMSprop', 'lr': 7.463055142092877e-05, 'batch_size': 3328.0, 'num_epochs': 47, 'min_lr': 1.162820586666366e-05}. Best is trial 92 with value: 0.21499933302402496.\u001b[0m\n",
      "\u001b[32m[I 2022-01-10 18:30:32,462]\u001b[0m Trial 134 finished with value: 0.24721865355968475 and parameters: {'mid_size': 917, 'num_mid_layers': 1, 'optimizer': 'RMSprop', 'lr': 0.00016429109779279145, 'batch_size': 3200.0, 'num_epochs': 64, 'min_lr': 1.5194574280212957e-05}. Best is trial 92 with value: 0.21499933302402496.\u001b[0m\n",
      "\u001b[32m[I 2022-01-10 18:30:42,962]\u001b[0m Trial 135 finished with value: 0.23307877779006958 and parameters: {'mid_size': 999, 'num_mid_layers': 1, 'optimizer': 'RMSprop', 'lr': 6.193655686762041e-05, 'batch_size': 3328.0, 'num_epochs': 54, 'min_lr': 2.6669797233950756e-05}. Best is trial 92 with value: 0.21499933302402496.\u001b[0m\n",
      "\u001b[32m[I 2022-01-10 18:31:06,800]\u001b[0m Trial 136 finished with value: 1.2719579935073853 and parameters: {'mid_size': 950, 'num_mid_layers': 1, 'optimizer': 'SGD', 'lr': 4.416293459008094e-05, 'batch_size': 3456.0, 'num_epochs': 121, 'min_lr': 1.7639157180544447e-05}. Best is trial 92 with value: 0.21499933302402496.\u001b[0m\n",
      "\u001b[32m[I 2022-01-10 18:31:14,802]\u001b[0m Trial 137 finished with value: 0.22382205724716187 and parameters: {'mid_size': 979, 'num_mid_layers': 1, 'optimizer': 'RMSprop', 'lr': 8.539485259747719e-05, 'batch_size': 2048.0, 'num_epochs': 43, 'min_lr': 1.004614675772946e-05}. Best is trial 92 with value: 0.21499933302402496.\u001b[0m\n",
      "\u001b[32m[I 2022-01-10 18:31:22,439]\u001b[0m Trial 138 finished with value: 0.23467521369457245 and parameters: {'mid_size': 978, 'num_mid_layers': 1, 'optimizer': 'Adam', 'lr': 0.0001253079819567247, 'batch_size': 2048.0, 'num_epochs': 41, 'min_lr': 1.0246352020873109e-05}. Best is trial 92 with value: 0.21499933302402496.\u001b[0m\n",
      "\u001b[32m[I 2022-01-10 18:31:27,577]\u001b[0m Trial 139 finished with value: 0.2517983615398407 and parameters: {'mid_size': 967, 'num_mid_layers': 1, 'optimizer': 'RMSprop', 'lr': 5.262053588980004e-05, 'batch_size': 3200.0, 'num_epochs': 26, 'min_lr': 3.310730253483922e-05}. Best is trial 92 with value: 0.21499933302402496.\u001b[0m\n",
      "\u001b[32m[I 2022-01-10 18:31:36,046]\u001b[0m Trial 140 finished with value: 0.23782974481582642 and parameters: {'mid_size': 920, 'num_mid_layers': 1, 'optimizer': 'RMSprop', 'lr': 3.5850287943546404e-05, 'batch_size': 2176.0, 'num_epochs': 46, 'min_lr': 2.109802696539216e-05}. Best is trial 92 with value: 0.21499933302402496.\u001b[0m\n",
      "\u001b[32m[I 2022-01-10 18:31:46,335]\u001b[0m Trial 141 finished with value: 0.22397960722446442 and parameters: {'mid_size': 943, 'num_mid_layers': 1, 'optimizer': 'RMSprop', 'lr': 8.980985321474832e-05, 'batch_size': 3584.0, 'num_epochs': 52, 'min_lr': 1.356412843601971e-05}. Best is trial 92 with value: 0.21499933302402496.\u001b[0m\n",
      "\u001b[32m[I 2022-01-10 18:31:58,375]\u001b[0m Trial 142 finished with value: 0.44652050733566284 and parameters: {'mid_size': 985, 'num_mid_layers': 1, 'optimizer': 'RMSprop', 'lr': 0.0025383688598039065, 'batch_size': 3584.0, 'num_epochs': 61, 'min_lr': 1.3869476993272907e-05}. Best is trial 92 with value: 0.21499933302402496.\u001b[0m\n",
      "\u001b[32m[I 2022-01-10 18:32:07,352]\u001b[0m Trial 143 finished with value: 0.2243502289056778 and parameters: {'mid_size': 962, 'num_mid_layers': 1, 'optimizer': 'RMSprop', 'lr': 7.176897024094525e-05, 'batch_size': 1792.0, 'num_epochs': 50, 'min_lr': 1.649033566461441e-05}. Best is trial 92 with value: 0.21499933302402496.\u001b[0m\n",
      "\u001b[32m[I 2022-01-10 18:32:15,026]\u001b[0m Trial 144 finished with value: 0.22948057949543 and parameters: {'mid_size': 893, 'num_mid_layers': 1, 'optimizer': 'RMSprop', 'lr': 7.698331058535152e-05, 'batch_size': 1792.0, 'num_epochs': 43, 'min_lr': 1.1928741551777542e-05}. Best is trial 92 with value: 0.21499933302402496.\u001b[0m\n",
      "\u001b[32m[I 2022-01-10 18:32:24,097]\u001b[0m Trial 145 finished with value: 0.22271637618541718 and parameters: {'mid_size': 952, 'num_mid_layers': 1, 'optimizer': 'RMSprop', 'lr': 7.091546592595574e-05, 'batch_size': 2048.0, 'num_epochs': 49, 'min_lr': 1.4296069492042685e-05}. Best is trial 92 with value: 0.21499933302402496.\u001b[0m\n",
      "\u001b[32m[I 2022-01-10 18:32:32,496]\u001b[0m Trial 146 finished with value: 0.22150185704231262 and parameters: {'mid_size': 942, 'num_mid_layers': 1, 'optimizer': 'RMSprop', 'lr': 9.377886088696912e-05, 'batch_size': 2048.0, 'num_epochs': 45, 'min_lr': 2.2595771240753556e-05}. Best is trial 92 with value: 0.21499933302402496.\u001b[0m\n",
      "\u001b[32m[I 2022-01-10 18:32:38,334]\u001b[0m Trial 147 finished with value: 0.23865360021591187 and parameters: {'mid_size': 932, 'num_mid_layers': 1, 'optimizer': 'RMSprop', 'lr': 7.076056300223796e-05, 'batch_size': 2048.0, 'num_epochs': 32, 'min_lr': 2.364217864849045e-05}. Best is trial 92 with value: 0.21499933302402496.\u001b[0m\n",
      "\u001b[32m[I 2022-01-10 18:32:44,705]\u001b[0m Trial 148 finished with value: 0.23523171246051788 and parameters: {'mid_size': 909, 'num_mid_layers': 1, 'optimizer': 'RMSprop', 'lr': 0.00015409595020579112, 'batch_size': 2176.0, 'num_epochs': 35, 'min_lr': 1.9302251738166715e-05}. Best is trial 92 with value: 0.21499933302402496.\u001b[0m\n",
      "\u001b[32m[I 2022-01-10 18:32:53,232]\u001b[0m Trial 149 finished with value: 0.33116763830184937 and parameters: {'mid_size': 868, 'num_mid_layers': 1, 'optimizer': 'RMSprop', 'lr': 4.67697357789845e-05, 'batch_size': 1920.0, 'num_epochs': 49, 'min_lr': 0.012835104331891542}. Best is trial 92 with value: 0.21499933302402496.\u001b[0m\n",
      "\u001b[32m[I 2022-01-10 18:33:00,204]\u001b[0m Trial 150 finished with value: 0.319898396730423 and parameters: {'mid_size': 162, 'num_mid_layers': 1, 'optimizer': 'RMSprop', 'lr': 9.5998818975823e-05, 'batch_size': 2304.0, 'num_epochs': 38, 'min_lr': 2.8686224541350563e-05}. Best is trial 92 with value: 0.21499933302402496.\u001b[0m\n",
      "\u001b[32m[I 2022-01-10 18:33:08,090]\u001b[0m Trial 151 finished with value: 0.22141514718532562 and parameters: {'mid_size': 954, 'num_mid_layers': 1, 'optimizer': 'RMSprop', 'lr': 9.070839121108956e-05, 'batch_size': 2048.0, 'num_epochs': 43, 'min_lr': 1.0079782430128054e-05}. Best is trial 92 with value: 0.21499933302402496.\u001b[0m\n",
      "\u001b[32m[I 2022-01-10 18:33:15,563]\u001b[0m Trial 152 finished with value: 0.22898311913013458 and parameters: {'mid_size': 960, 'num_mid_layers': 1, 'optimizer': 'RMSprop', 'lr': 6.35057906960777e-05, 'batch_size': 1920.0, 'num_epochs': 43, 'min_lr': 1.0241636046687447e-05}. Best is trial 92 with value: 0.21499933302402496.\u001b[0m\n",
      "\u001b[32m[I 2022-01-10 18:33:23,997]\u001b[0m Trial 153 finished with value: 0.23116569221019745 and parameters: {'mid_size': 937, 'num_mid_layers': 1, 'optimizer': 'RMSprop', 'lr': 8.659760521408024e-05, 'batch_size': 1792.0, 'num_epochs': 47, 'min_lr': 1.4476340292285347e-05}. Best is trial 92 with value: 0.21499933302402496.\u001b[0m\n",
      "\u001b[32m[I 2022-01-10 18:33:32,045]\u001b[0m Trial 154 finished with value: 0.23401062190532684 and parameters: {'mid_size': 962, 'num_mid_layers': 1, 'optimizer': 'RMSprop', 'lr': 0.00011713919166254199, 'batch_size': 2048.0, 'num_epochs': 44, 'min_lr': 1.634781552610935e-05}. Best is trial 92 with value: 0.21499933302402496.\u001b[0m\n",
      "\u001b[32m[I 2022-01-10 18:33:40,636]\u001b[0m Trial 155 finished with value: 0.22828900814056396 and parameters: {'mid_size': 919, 'num_mid_layers': 1, 'optimizer': 'RMSprop', 'lr': 5.727377330774603e-05, 'batch_size': 1920.0, 'num_epochs': 49, 'min_lr': 2.102941804302625e-05}. Best is trial 92 with value: 0.21499933302402496.\u001b[0m\n",
      "\u001b[32m[I 2022-01-10 18:33:47,663]\u001b[0m Trial 156 finished with value: 0.23142483830451965 and parameters: {'mid_size': 886, 'num_mid_layers': 1, 'optimizer': 'RMSprop', 'lr': 7.450055485617894e-05, 'batch_size': 2304.0, 'num_epochs': 37, 'min_lr': 1.1947232343594313e-05}. Best is trial 92 with value: 0.21499933302402496.\u001b[0m\n",
      "\u001b[32m[I 2022-01-10 18:33:53,039]\u001b[0m Trial 157 finished with value: 0.2387036830186844 and parameters: {'mid_size': 947, 'num_mid_layers': 1, 'optimizer': 'RMSprop', 'lr': 0.00010587809741742191, 'batch_size': 2176.0, 'num_epochs': 29, 'min_lr': 1.567268592119233e-05}. Best is trial 92 with value: 0.21499933302402496.\u001b[0m\n",
      "\u001b[32m[I 2022-01-10 18:34:03,166]\u001b[0m Trial 158 finished with value: 1.1564677953720093 and parameters: {'mid_size': 982, 'num_mid_layers': 4, 'optimizer': 'RMSprop', 'lr': 0.00013443324691526123, 'batch_size': 1664.0, 'num_epochs': 51, 'min_lr': 1.0048027513762528e-05}. Best is trial 92 with value: 0.21499933302402496.\u001b[0m\n",
      "\u001b[32m[I 2022-01-10 18:34:14,008]\u001b[0m Trial 159 finished with value: 0.26411354541778564 and parameters: {'mid_size': 965, 'num_mid_layers': 1, 'optimizer': 'RMSprop', 'lr': 0.0001939561301207437, 'batch_size': 2176.0, 'num_epochs': 59, 'min_lr': 1.77196542371918e-05}. Best is trial 92 with value: 0.21499933302402496.\u001b[0m\n",
      "\u001b[32m[I 2022-01-10 18:34:26,033]\u001b[0m Trial 160 finished with value: 0.2804274559020996 and parameters: {'mid_size': 933, 'num_mid_layers': 1, 'optimizer': 'RMSprop', 'lr': 8.583504008428343e-05, 'batch_size': 2048.0, 'num_epochs': 65, 'min_lr': 0.0007566673913617717}. Best is trial 92 with value: 0.21499933302402496.\u001b[0m\n",
      "\u001b[32m[I 2022-01-10 18:34:36,641]\u001b[0m Trial 161 finished with value: 0.22427107393741608 and parameters: {'mid_size': 951, 'num_mid_layers': 1, 'optimizer': 'RMSprop', 'lr': 9.807641369138162e-05, 'batch_size': 3328.0, 'num_epochs': 54, 'min_lr': 1.3468551322488883e-05}. Best is trial 92 with value: 0.21499933302402496.\u001b[0m\n",
      "\u001b[32m[I 2022-01-10 18:34:44,597]\u001b[0m Trial 162 finished with value: 0.24838435649871826 and parameters: {'mid_size': 910, 'num_mid_layers': 1, 'optimizer': 'RMSprop', 'lr': 6.885486589495108e-05, 'batch_size': 3456.0, 'num_epochs': 40, 'min_lr': 1.3907445892156827e-05}. Best is trial 92 with value: 0.21499933302402496.\u001b[0m\n",
      "\u001b[32m[I 2022-01-10 18:34:52,468]\u001b[0m Trial 163 finished with value: 0.23325034976005554 and parameters: {'mid_size': 998, 'num_mid_layers': 1, 'optimizer': 'RMSprop', 'lr': 0.00010834659919632664, 'batch_size': 1536.0, 'num_epochs': 46, 'min_lr': 1.2008933576987883e-05}. Best is trial 92 with value: 0.21499933302402496.\u001b[0m\n",
      "\u001b[32m[I 2022-01-10 18:35:02,362]\u001b[0m Trial 164 finished with value: 0.22579732537269592 and parameters: {'mid_size': 948, 'num_mid_layers': 1, 'optimizer': 'RMSprop', 'lr': 8.355724952830287e-05, 'batch_size': 2560.0, 'num_epochs': 52, 'min_lr': 1.454421413393663e-05}. Best is trial 92 with value: 0.21499933302402496.\u001b[0m\n",
      "\u001b[32m[I 2022-01-10 18:35:12,552]\u001b[0m Trial 165 finished with value: 0.24205994606018066 and parameters: {'mid_size': 966, 'num_mid_layers': 1, 'optimizer': 'RMSprop', 'lr': 0.00013726855874368623, 'batch_size': 2048.0, 'num_epochs': 55, 'min_lr': 2.2966664394252678e-05}. Best is trial 92 with value: 0.21499933302402496.\u001b[0m\n",
      "\u001b[32m[I 2022-01-10 18:35:24,270]\u001b[0m Trial 166 finished with value: 0.2407970279455185 and parameters: {'mid_size': 981, 'num_mid_layers': 1, 'optimizer': 'RMSprop', 'lr': 5.567300489004556e-05, 'batch_size': 3584.0, 'num_epochs': 59, 'min_lr': 1.0050912532999038e-05}. Best is trial 92 with value: 0.21499933302402496.\u001b[0m\n",
      "\u001b[32m[I 2022-01-10 18:35:32,384]\u001b[0m Trial 167 finished with value: 0.24459779262542725 and parameters: {'mid_size': 924, 'num_mid_layers': 1, 'optimizer': 'RMSprop', 'lr': 4.107392659680265e-05, 'batch_size': 3328.0, 'num_epochs': 42, 'min_lr': 1.8510254825086085e-05}. Best is trial 92 with value: 0.21499933302402496.\u001b[0m\n",
      "\u001b[32m[I 2022-01-10 18:35:41,682]\u001b[0m Trial 168 finished with value: 0.2277991771697998 and parameters: {'mid_size': 949, 'num_mid_layers': 1, 'optimizer': 'RMSprop', 'lr': 8.786140260877227e-05, 'batch_size': 2688.0, 'num_epochs': 48, 'min_lr': 1.2454520510999128e-05}. Best is trial 92 with value: 0.21499933302402496.\u001b[0m\n",
      "\u001b[32m[I 2022-01-10 18:35:53,783]\u001b[0m Trial 169 finished with value: 1.3352539539337158 and parameters: {'mid_size': 1000, 'num_mid_layers': 3, 'optimizer': 'SGD', 'lr': 6.969790996436633e-05, 'batch_size': 3456.0, 'num_epochs': 56, 'min_lr': 1.6521256497333782e-05}. Best is trial 92 with value: 0.21499933302402496.\u001b[0m\n",
      "\u001b[32m[I 2022-01-10 18:36:02,489]\u001b[0m Trial 170 finished with value: 0.45427343249320984 and parameters: {'mid_size': 441, 'num_mid_layers': 1, 'optimizer': 'RMSprop', 'lr': 0.029071486748163067, 'batch_size': 1920.0, 'num_epochs': 51, 'min_lr': 2.4561432216938693e-05}. Best is trial 92 with value: 0.21499933302402496.\u001b[0m\n",
      "\u001b[32m[I 2022-01-10 18:36:13,487]\u001b[0m Trial 171 finished with value: 0.23821578919887543 and parameters: {'mid_size': 942, 'num_mid_layers': 1, 'optimizer': 'RMSprop', 'lr': 9.727525319247574e-05, 'batch_size': 3328.0, 'num_epochs': 56, 'min_lr': 1.3156240816872822e-05}. Best is trial 92 with value: 0.21499933302402496.\u001b[0m\n",
      "\u001b[32m[I 2022-01-10 18:36:25,908]\u001b[0m Trial 172 finished with value: 0.23125728964805603 and parameters: {'mid_size': 964, 'num_mid_layers': 1, 'optimizer': 'RMSprop', 'lr': 0.00012415181400583582, 'batch_size': 3456.0, 'num_epochs': 62, 'min_lr': 1.1864660315634413e-05}. Best is trial 92 with value: 0.21499933302402496.\u001b[0m\n",
      "\u001b[32m[I 2022-01-10 18:36:34,698]\u001b[0m Trial 173 finished with value: 0.22621168196201324 and parameters: {'mid_size': 899, 'num_mid_layers': 1, 'optimizer': 'RMSprop', 'lr': 0.00010315950795698914, 'batch_size': 3328.0, 'num_epochs': 45, 'min_lr': 1.4944719236299954e-05}. Best is trial 92 with value: 0.21499933302402496.\u001b[0m\n",
      "\u001b[32m[I 2022-01-10 18:36:44,959]\u001b[0m Trial 174 finished with value: 0.22289694845676422 and parameters: {'mid_size': 977, 'num_mid_layers': 1, 'optimizer': 'RMSprop', 'lr': 8.179843084708021e-05, 'batch_size': 3200.0, 'num_epochs': 52, 'min_lr': 2.0473238164792516e-05}. Best is trial 92 with value: 0.21499933302402496.\u001b[0m\n",
      "\u001b[32m[I 2022-01-10 18:36:52,617]\u001b[0m Trial 175 finished with value: 0.22957953810691833 and parameters: {'mid_size': 976, 'num_mid_layers': 1, 'optimizer': 'RMSprop', 'lr': 6.235225210348684e-05, 'batch_size': 3072.0, 'num_epochs': 39, 'min_lr': 1.888840368149997e-05}. Best is trial 92 with value: 0.21499933302402496.\u001b[0m\n",
      "\u001b[32m[I 2022-01-10 18:37:06,103]\u001b[0m Trial 176 finished with value: 0.2172904759645462 and parameters: {'mid_size': 927, 'num_mid_layers': 1, 'optimizer': 'RMSprop', 'lr': 5.084557105568519e-05, 'batch_size': 3200.0, 'num_epochs': 68, 'min_lr': 3.412236924959526e-05}. Best is trial 92 with value: 0.21499933302402496.\u001b[0m\n",
      "\u001b[32m[I 2022-01-10 18:37:21,423]\u001b[0m Trial 177 finished with value: 0.48787423968315125 and parameters: {'mid_size': 927, 'num_mid_layers': 1, 'optimizer': 'RMSprop', 'lr': 0.005991398428364706, 'batch_size': 2944.0, 'num_epochs': 80, 'min_lr': 3.488854491137327e-05}. Best is trial 92 with value: 0.21499933302402496.\u001b[0m\n",
      "\u001b[32m[I 2022-01-10 18:37:36,090]\u001b[0m Trial 178 finished with value: 0.2300538420677185 and parameters: {'mid_size': 986, 'num_mid_layers': 1, 'optimizer': 'RMSprop', 'lr': 5.4107224966981766e-05, 'batch_size': 3072.0, 'num_epochs': 76, 'min_lr': 2.8366511016230964e-05}. Best is trial 92 with value: 0.21499933302402496.\u001b[0m\n",
      "\u001b[32m[I 2022-01-10 18:37:49,777]\u001b[0m Trial 179 finished with value: 0.21561244130134583 and parameters: {'mid_size': 944, 'num_mid_layers': 1, 'optimizer': 'RMSprop', 'lr': 4.851694616203378e-05, 'batch_size': 3200.0, 'num_epochs': 69, 'min_lr': 2.1991064090426576e-05}. Best is trial 92 with value: 0.21499933302402496.\u001b[0m\n",
      "\u001b[32m[I 2022-01-10 18:38:03,139]\u001b[0m Trial 180 finished with value: 0.23361021280288696 and parameters: {'mid_size': 909, 'num_mid_layers': 1, 'optimizer': 'RMSprop', 'lr': 2.6504825430951955e-05, 'batch_size': 3200.0, 'num_epochs': 67, 'min_lr': 4.1586442969471906e-05}. Best is trial 92 with value: 0.21499933302402496.\u001b[0m\n",
      "\u001b[32m[I 2022-01-10 18:38:16,091]\u001b[0m Trial 181 finished with value: 0.2322721928358078 and parameters: {'mid_size': 944, 'num_mid_layers': 1, 'optimizer': 'RMSprop', 'lr': 3.9952347198920614e-05, 'batch_size': 3200.0, 'num_epochs': 65, 'min_lr': 2.1135863859521497e-05}. Best is trial 92 with value: 0.21499933302402496.\u001b[0m\n",
      "\u001b[32m[I 2022-01-10 18:38:30,077]\u001b[0m Trial 182 finished with value: 0.21972505748271942 and parameters: {'mid_size': 927, 'num_mid_layers': 1, 'optimizer': 'RMSprop', 'lr': 4.95636927870208e-05, 'batch_size': 3200.0, 'num_epochs': 70, 'min_lr': 2.2853629068234156e-05}. Best is trial 92 with value: 0.21499933302402496.\u001b[0m\n",
      "\u001b[32m[I 2022-01-10 18:38:44,698]\u001b[0m Trial 183 finished with value: 0.22305279970169067 and parameters: {'mid_size': 928, 'num_mid_layers': 1, 'optimizer': 'RMSprop', 'lr': 4.921797738322759e-05, 'batch_size': 3200.0, 'num_epochs': 74, 'min_lr': 3.1679036062984006e-05}. Best is trial 92 with value: 0.21499933302402496.\u001b[0m\n",
      "\u001b[32m[I 2022-01-10 18:39:01,872]\u001b[0m Trial 184 finished with value: 0.22732746601104736 and parameters: {'mid_size': 895, 'num_mid_layers': 1, 'optimizer': 'RMSprop', 'lr': 3.1858129960286475e-05, 'batch_size': 3200.0, 'num_epochs': 86, 'min_lr': 3.1872423610575466e-05}. Best is trial 92 with value: 0.21499933302402496.\u001b[0m\n",
      "\u001b[32m[I 2022-01-10 18:39:15,881]\u001b[0m Trial 185 finished with value: 0.23308296501636505 and parameters: {'mid_size': 924, 'num_mid_layers': 1, 'optimizer': 'RMSprop', 'lr': 4.657151689058387e-05, 'batch_size': 3072.0, 'num_epochs': 72, 'min_lr': 3.983542609032252e-05}. Best is trial 92 with value: 0.21499933302402496.\u001b[0m\n",
      "\u001b[32m[I 2022-01-10 18:39:29,227]\u001b[0m Trial 186 finished with value: 0.4285663068294525 and parameters: {'mid_size': 978, 'num_mid_layers': 1, 'optimizer': 'RMSprop', 'lr': 0.0011962864530443806, 'batch_size': 3072.0, 'num_epochs': 69, 'min_lr': 4.8436133021277704e-05}. Best is trial 92 with value: 0.21499933302402496.\u001b[0m\n",
      "\u001b[32m[I 2022-01-10 18:39:44,181]\u001b[0m Trial 187 finished with value: 0.22869811952114105 and parameters: {'mid_size': 969, 'num_mid_layers': 1, 'optimizer': 'RMSprop', 'lr': 3.581768657538801e-05, 'batch_size': 3200.0, 'num_epochs': 75, 'min_lr': 2.623790506703653e-05}. Best is trial 92 with value: 0.21499933302402496.\u001b[0m\n",
      "\u001b[32m[I 2022-01-10 18:39:57,993]\u001b[0m Trial 188 finished with value: 0.21888810396194458 and parameters: {'mid_size': 876, 'num_mid_layers': 1, 'optimizer': 'RMSprop', 'lr': 4.951661644766685e-05, 'batch_size': 2944.0, 'num_epochs': 73, 'min_lr': 2.4608817452026756e-05}. Best is trial 92 with value: 0.21499933302402496.\u001b[0m\n",
      "\u001b[32m[I 2022-01-10 18:40:11,464]\u001b[0m Trial 189 finished with value: 0.22099587321281433 and parameters: {'mid_size': 880, 'num_mid_layers': 1, 'optimizer': 'RMSprop', 'lr': 5.3102653065243296e-05, 'batch_size': 2944.0, 'num_epochs': 71, 'min_lr': 3.370913261696494e-05}. Best is trial 92 with value: 0.21499933302402496.\u001b[0m\n",
      "\u001b[32m[I 2022-01-10 18:40:26,970]\u001b[0m Trial 190 finished with value: 0.23723945021629333 and parameters: {'mid_size': 849, 'num_mid_layers': 1, 'optimizer': 'RMSprop', 'lr': 4.9163798169210816e-05, 'batch_size': 2816.0, 'num_epochs': 82, 'min_lr': 3.4329385244407565e-05}. Best is trial 92 with value: 0.21499933302402496.\u001b[0m\n",
      "\u001b[32m[I 2022-01-10 18:40:40,699]\u001b[0m Trial 191 finished with value: 0.23991847038269043 and parameters: {'mid_size': 890, 'num_mid_layers': 1, 'optimizer': 'RMSprop', 'lr': 4.3681496356410276e-05, 'batch_size': 2944.0, 'num_epochs': 72, 'min_lr': 7.278409622936061e-05}. Best is trial 92 with value: 0.21499933302402496.\u001b[0m\n",
      "\u001b[32m[I 2022-01-10 18:40:55,712]\u001b[0m Trial 192 finished with value: 0.22023700177669525 and parameters: {'mid_size': 883, 'num_mid_layers': 1, 'optimizer': 'RMSprop', 'lr': 5.288091980810018e-05, 'batch_size': 3072.0, 'num_epochs': 78, 'min_lr': 3.0389646343520436e-05}. Best is trial 92 with value: 0.21499933302402496.\u001b[0m\n",
      "\u001b[32m[I 2022-01-10 18:41:10,540]\u001b[0m Trial 193 finished with value: 0.22504223883152008 and parameters: {'mid_size': 874, 'num_mid_layers': 1, 'optimizer': 'RMSprop', 'lr': 3.967253049909313e-05, 'batch_size': 2944.0, 'num_epochs': 78, 'min_lr': 4.2552700724390833e-05}. Best is trial 92 with value: 0.21499933302402496.\u001b[0m\n",
      "\u001b[32m[I 2022-01-10 18:41:23,979]\u001b[0m Trial 194 finished with value: 0.21496593952178955 and parameters: {'mid_size': 838, 'num_mid_layers': 1, 'optimizer': 'RMSprop', 'lr': 5.352733704875053e-05, 'batch_size': 3072.0, 'num_epochs': 70, 'min_lr': 3.079519592884409e-05}. Best is trial 194 with value: 0.21496593952178955.\u001b[0m\n",
      "\u001b[32m[I 2022-01-10 18:41:38,482]\u001b[0m Trial 195 finished with value: 0.22449848055839539 and parameters: {'mid_size': 874, 'num_mid_layers': 1, 'optimizer': 'RMSprop', 'lr': 2.81512941748378e-05, 'batch_size': 3072.0, 'num_epochs': 75, 'min_lr': 3.0455736686890424e-05}. Best is trial 194 with value: 0.21496593952178955.\u001b[0m\n",
      "\u001b[32m[I 2022-01-10 18:41:55,345]\u001b[0m Trial 196 finished with value: 0.23117099702358246 and parameters: {'mid_size': 908, 'num_mid_layers': 1, 'optimizer': 'RMSprop', 'lr': 5.0323816358430866e-05, 'batch_size': 2816.0, 'num_epochs': 90, 'min_lr': 5.345716312879807e-05}. Best is trial 194 with value: 0.21496593952178955.\u001b[0m\n",
      "\u001b[32m[I 2022-01-10 18:42:11,909]\u001b[0m Trial 197 finished with value: 0.22854319214820862 and parameters: {'mid_size': 888, 'num_mid_layers': 1, 'optimizer': 'RMSprop', 'lr': 5.568031169461731e-05, 'batch_size': 3200.0, 'num_epochs': 83, 'min_lr': 3.529880611490391e-05}. Best is trial 194 with value: 0.21496593952178955.\u001b[0m\n",
      "\u001b[32m[I 2022-01-10 18:42:25,613]\u001b[0m Trial 198 finished with value: 0.23789900541305542 and parameters: {'mid_size': 844, 'num_mid_layers': 1, 'optimizer': 'RMSprop', 'lr': 3.523275237810888e-05, 'batch_size': 3072.0, 'num_epochs': 71, 'min_lr': 2.4877129441933547e-05}. Best is trial 194 with value: 0.21496593952178955.\u001b[0m\n",
      "\u001b[32m[I 2022-01-10 18:42:38,644]\u001b[0m Trial 199 finished with value: 1.3977972269058228 and parameters: {'mid_size': 866, 'num_mid_layers': 1, 'optimizer': 'SGD', 'lr': 5.969414153469056e-05, 'batch_size': 3072.0, 'num_epochs': 68, 'min_lr': 2.8032750668079568e-05}. Best is trial 194 with value: 0.21496593952178955.\u001b[0m\n",
      "\u001b[32m[I 2022-01-10 18:42:53,570]\u001b[0m Trial 200 finished with value: 0.222662091255188 and parameters: {'mid_size': 909, 'num_mid_layers': 1, 'optimizer': 'RMSprop', 'lr': 2.063034440110485e-05, 'batch_size': 2944.0, 'num_epochs': 78, 'min_lr': 4.577048972947264e-05}. Best is trial 194 with value: 0.21496593952178955.\u001b[0m\n",
      "\u001b[32m[I 2022-01-10 18:43:08,706]\u001b[0m Trial 201 finished with value: 0.2287403792142868 and parameters: {'mid_size': 920, 'num_mid_layers': 1, 'optimizer': 'RMSprop', 'lr': 2.3627223303261098e-05, 'batch_size': 3072.0, 'num_epochs': 78, 'min_lr': 4.5636195118586986e-05}. Best is trial 194 with value: 0.21496593952178955.\u001b[0m\n",
      "\u001b[32m[I 2022-01-10 18:43:22,559]\u001b[0m Trial 202 finished with value: 0.22585533559322357 and parameters: {'mid_size': 904, 'num_mid_layers': 1, 'optimizer': 'RMSprop', 'lr': 1.9940887359246143e-05, 'batch_size': 2944.0, 'num_epochs': 73, 'min_lr': 3.779856205523025e-05}. Best is trial 194 with value: 0.21496593952178955.\u001b[0m\n",
      "\u001b[32m[I 2022-01-10 18:43:35,558]\u001b[0m Trial 203 finished with value: 0.22708137333393097 and parameters: {'mid_size': 927, 'num_mid_layers': 1, 'optimizer': 'RMSprop', 'lr': 4.79086502302169e-05, 'batch_size': 2816.0, 'num_epochs': 69, 'min_lr': 3.0481895099401254e-05}. Best is trial 194 with value: 0.21496593952178955.\u001b[0m\n",
      "\u001b[32m[I 2022-01-10 18:43:50,924]\u001b[0m Trial 204 finished with value: 0.24048173427581787 and parameters: {'mid_size': 882, 'num_mid_layers': 1, 'optimizer': 'RMSprop', 'lr': 5.983742684869312e-05, 'batch_size': 2944.0, 'num_epochs': 81, 'min_lr': 5.477238023938979e-05}. Best is trial 194 with value: 0.21496593952178955.\u001b[0m\n",
      "\u001b[32m[I 2022-01-10 18:44:05,585]\u001b[0m Trial 205 finished with value: 0.2428523302078247 and parameters: {'mid_size': 826, 'num_mid_layers': 1, 'optimizer': 'RMSprop', 'lr': 2.9438244654260672e-05, 'batch_size': 3200.0, 'num_epochs': 74, 'min_lr': 2.328724598920465e-05}. Best is trial 194 with value: 0.21496593952178955.\u001b[0m\n",
      "\u001b[32m[I 2022-01-10 18:44:22,085]\u001b[0m Trial 206 finished with value: 0.22640450298786163 and parameters: {'mid_size': 928, 'num_mid_layers': 1, 'optimizer': 'RMSprop', 'lr': 3.781171885735051e-05, 'batch_size': 3072.0, 'num_epochs': 85, 'min_lr': 3.8400351720877214e-05}. Best is trial 194 with value: 0.21496593952178955.\u001b[0m\n",
      "\u001b[32m[I 2022-01-10 18:44:36,921]\u001b[0m Trial 207 finished with value: 0.23290899395942688 and parameters: {'mid_size': 858, 'num_mid_layers': 1, 'optimizer': 'RMSprop', 'lr': 6.638842693711208e-05, 'batch_size': 2944.0, 'num_epochs': 78, 'min_lr': 6.496230347135153e-05}. Best is trial 194 with value: 0.21496593952178955.\u001b[0m\n",
      "\u001b[32m[I 2022-01-10 18:44:50,216]\u001b[0m Trial 208 finished with value: 0.2877080738544464 and parameters: {'mid_size': 906, 'num_mid_layers': 1, 'optimizer': 'RMSprop', 'lr': 1.6223599152272562e-05, 'batch_size': 3200.0, 'num_epochs': 67, 'min_lr': 0.0036395773648686906}. Best is trial 194 with value: 0.21496593952178955.\u001b[0m\n",
      "\u001b[32m[I 2022-01-10 18:45:03,932]\u001b[0m Trial 209 finished with value: 0.27027428150177 and parameters: {'mid_size': 953, 'num_mid_layers': 1, 'optimizer': 'RMSprop', 'lr': 4.3054446107212834e-05, 'batch_size': 2688.0, 'num_epochs': 71, 'min_lr': 0.00033054896298870766}. Best is trial 194 with value: 0.21496593952178955.\u001b[0m\n",
      "\u001b[32m[I 2022-01-10 18:45:16,695]\u001b[0m Trial 210 finished with value: 0.23083612322807312 and parameters: {'mid_size': 935, 'num_mid_layers': 1, 'optimizer': 'RMSprop', 'lr': 5.0985884030780905e-05, 'batch_size': 3200.0, 'num_epochs': 64, 'min_lr': 2.5692643357091784e-05}. Best is trial 194 with value: 0.21496593952178955.\u001b[0m\n",
      "\u001b[32m[I 2022-01-10 18:45:29,335]\u001b[0m Trial 211 finished with value: 0.27302315831184387 and parameters: {'mid_size': 963, 'num_mid_layers': 1, 'optimizer': 'RMSprop', 'lr': 1.4127400374523046e-05, 'batch_size': 3200.0, 'num_epochs': 63, 'min_lr': 2.1255019715210837e-05}. Best is trial 194 with value: 0.21496593952178955.\u001b[0m\n",
      "\u001b[32m[I 2022-01-10 18:45:44,017]\u001b[0m Trial 212 finished with value: 0.23467323184013367 and parameters: {'mid_size': 951, 'num_mid_layers': 1, 'optimizer': 'RMSprop', 'lr': 7.449726933248684e-05, 'batch_size': 3072.0, 'num_epochs': 76, 'min_lr': 3.136092044545485e-05}. Best is trial 194 with value: 0.21496593952178955.\u001b[0m\n",
      "\u001b[32m[I 2022-01-10 18:45:57,688]\u001b[0m Trial 213 finished with value: 0.23023267090320587 and parameters: {'mid_size': 917, 'num_mid_layers': 1, 'optimizer': 'RMSprop', 'lr': 6.13168542110899e-05, 'batch_size': 3328.0, 'num_epochs': 70, 'min_lr': 2.2761834734079788e-05}. Best is trial 194 with value: 0.21496593952178955.\u001b[0m\n",
      "\u001b[32m[I 2022-01-10 18:46:10,295]\u001b[0m Trial 214 finished with value: 0.22716942429542542 and parameters: {'mid_size': 1000, 'num_mid_layers': 1, 'optimizer': 'RMSprop', 'lr': 6.752204159968149e-05, 'batch_size': 2944.0, 'num_epochs': 66, 'min_lr': 1.892606982312767e-05}. Best is trial 194 with value: 0.21496593952178955.\u001b[0m\n",
      "\u001b[32m[I 2022-01-10 18:46:22,343]\u001b[0m Trial 215 finished with value: 0.26895174384117126 and parameters: {'mid_size': 959, 'num_mid_layers': 1, 'optimizer': 'RMSprop', 'lr': 1.1864911567154131e-05, 'batch_size': 3328.0, 'num_epochs': 61, 'min_lr': 2.5029248504343483e-05}. Best is trial 194 with value: 0.21496593952178955.\u001b[0m\n",
      "\u001b[32m[I 2022-01-10 18:46:37,275]\u001b[0m Trial 216 finished with value: 0.23134839534759521 and parameters: {'mid_size': 937, 'num_mid_layers': 1, 'optimizer': 'Adam', 'lr': 7.691987380343614e-05, 'batch_size': 2816.0, 'num_epochs': 79, 'min_lr': 4.278551448598547e-05}. Best is trial 194 with value: 0.21496593952178955.\u001b[0m\n",
      "\u001b[32m[I 2022-01-10 18:46:51,825]\u001b[0m Trial 217 finished with value: 0.2242051512002945 and parameters: {'mid_size': 973, 'num_mid_layers': 1, 'optimizer': 'RMSprop', 'lr': 4.818926089657262e-05, 'batch_size': 3200.0, 'num_epochs': 73, 'min_lr': 3.254249056978572e-05}. Best is trial 194 with value: 0.21496593952178955.\u001b[0m\n",
      "\u001b[32m[I 2022-01-10 18:47:05,354]\u001b[0m Trial 218 finished with value: 0.23227611184120178 and parameters: {'mid_size': 895, 'num_mid_layers': 1, 'optimizer': 'RMSprop', 'lr': 8.023359925152995e-05, 'batch_size': 3456.0, 'num_epochs': 68, 'min_lr': 1.6911661733704417e-05}. Best is trial 194 with value: 0.21496593952178955.\u001b[0m\n",
      "\u001b[32m[I 2022-01-10 18:47:43,444]\u001b[0m Trial 219 finished with value: 0.2687240540981293 and parameters: {'mid_size': 919, 'num_mid_layers': 1, 'optimizer': 'RMSprop', 'lr': 5.7742047420297476e-05, 'batch_size': 3200.0, 'num_epochs': 191, 'min_lr': 2.143091568087278e-05}. Best is trial 194 with value: 0.21496593952178955.\u001b[0m\n",
      "\u001b[32m[I 2022-01-10 18:48:01,964]\u001b[0m Trial 220 finished with value: 0.26290425658226013 and parameters: {'mid_size': 952, 'num_mid_layers': 1, 'optimizer': 'RMSprop', 'lr': 0.0001193120646230035, 'batch_size': 3072.0, 'num_epochs': 96, 'min_lr': 2.804740437767601e-05}. Best is trial 194 with value: 0.21496593952178955.\u001b[0m\n",
      "\u001b[32m[I 2022-01-10 18:48:13,492]\u001b[0m Trial 221 finished with value: 0.22682377696037292 and parameters: {'mid_size': 980, 'num_mid_layers': 1, 'optimizer': 'RMSprop', 'lr': 8.564419632458622e-05, 'batch_size': 2432.0, 'num_epochs': 60, 'min_lr': 1.0062522310785512e-05}. Best is trial 194 with value: 0.21496593952178955.\u001b[0m\n",
      "\u001b[32m[I 2022-01-10 18:48:27,312]\u001b[0m Trial 222 finished with value: 0.29276514053344727 and parameters: {'mid_size': 976, 'num_mid_layers': 1, 'optimizer': 'RMSprop', 'lr': 0.00010094467696299228, 'batch_size': 2048.0, 'num_epochs': 74, 'min_lr': 0.00048185345946249775}. Best is trial 194 with value: 0.21496593952178955.\u001b[0m\n",
      "\u001b[32m[I 2022-01-10 18:48:35,659]\u001b[0m Trial 223 finished with value: 0.2254236936569214 and parameters: {'mid_size': 988, 'num_mid_layers': 1, 'optimizer': 'RMSprop', 'lr': 6.492515645391305e-05, 'batch_size': 3072.0, 'num_epochs': 43, 'min_lr': 1.5381731538820064e-05}. Best is trial 194 with value: 0.21496593952178955.\u001b[0m\n",
      "\u001b[32m[I 2022-01-10 18:48:51,679]\u001b[0m Trial 224 finished with value: 0.2284458577632904 and parameters: {'mid_size': 941, 'num_mid_layers': 1, 'optimizer': 'RMSprop', 'lr': 8.129293449947603e-05, 'batch_size': 3328.0, 'num_epochs': 82, 'min_lr': 1.1766271437307464e-05}. Best is trial 194 with value: 0.21496593952178955.\u001b[0m\n",
      "\u001b[32m[I 2022-01-10 18:49:05,725]\u001b[0m Trial 225 finished with value: 0.23648427426815033 and parameters: {'mid_size': 962, 'num_mid_layers': 1, 'optimizer': 'RMSprop', 'lr': 3.9190303811752715e-05, 'batch_size': 3456.0, 'num_epochs': 70, 'min_lr': 1.7200311778561947e-05}. Best is trial 194 with value: 0.21496593952178955.\u001b[0m\n",
      "\u001b[32m[I 2022-01-10 18:49:18,130]\u001b[0m Trial 226 finished with value: 0.23311230540275574 and parameters: {'mid_size': 935, 'num_mid_layers': 1, 'optimizer': 'RMSprop', 'lr': 5.2948618020262443e-05, 'batch_size': 3328.0, 'num_epochs': 63, 'min_lr': 1.4242830303661778e-05}. Best is trial 194 with value: 0.21496593952178955.\u001b[0m\n",
      "\u001b[32m[I 2022-01-10 18:49:25,286]\u001b[0m Trial 227 finished with value: 0.22203795611858368 and parameters: {'mid_size': 986, 'num_mid_layers': 1, 'optimizer': 'RMSprop', 'lr': 9.485558571628764e-05, 'batch_size': 3200.0, 'num_epochs': 35, 'min_lr': 2.1283843548060636e-05}. Best is trial 194 with value: 0.21496593952178955.\u001b[0m\n",
      "\u001b[32m[I 2022-01-10 18:49:43,022]\u001b[0m Trial 228 finished with value: 0.32773277163505554 and parameters: {'mid_size': 961, 'num_mid_layers': 1, 'optimizer': 'RMSprop', 'lr': 0.000711491526849646, 'batch_size': 3200.0, 'num_epochs': 89, 'min_lr': 2.1700759728241484e-05}. Best is trial 194 with value: 0.21496593952178955.\u001b[0m\n",
      "\u001b[32m[I 2022-01-10 18:49:49,989]\u001b[0m Trial 229 finished with value: 0.22374391555786133 and parameters: {'mid_size': 999, 'num_mid_layers': 1, 'optimizer': 'RMSprop', 'lr': 0.00011781169563698482, 'batch_size': 3200.0, 'num_epochs': 35, 'min_lr': 2.8238927230953195e-05}. Best is trial 194 with value: 0.21496593952178955.\u001b[0m\n",
      "\u001b[32m[I 2022-01-10 18:50:03,011]\u001b[0m Trial 230 finished with value: 0.23725929856300354 and parameters: {'mid_size': 911, 'num_mid_layers': 1, 'optimizer': 'RMSprop', 'lr': 9.701398838949807e-05, 'batch_size': 3072.0, 'num_epochs': 67, 'min_lr': 3.5903832254523806e-05}. Best is trial 194 with value: 0.21496593952178955.\u001b[0m\n",
      "\u001b[32m[I 2022-01-10 18:50:10,056]\u001b[0m Trial 231 finished with value: 0.21561899781227112 and parameters: {'mid_size': 989, 'num_mid_layers': 1, 'optimizer': 'RMSprop', 'lr': 0.00011991114355974985, 'batch_size': 3200.0, 'num_epochs': 35, 'min_lr': 2.8939186470314564e-05}. Best is trial 194 with value: 0.21496593952178955.\u001b[0m\n",
      "\u001b[32m[I 2022-01-10 18:50:16,316]\u001b[0m Trial 232 finished with value: 0.2287796586751938 and parameters: {'mid_size': 979, 'num_mid_layers': 1, 'optimizer': 'RMSprop', 'lr': 0.00013480954295495932, 'batch_size': 3200.0, 'num_epochs': 32, 'min_lr': 1.974860019859165e-05}. Best is trial 194 with value: 0.21496593952178955.\u001b[0m\n",
      "\u001b[32m[I 2022-01-10 18:50:23,791]\u001b[0m Trial 233 finished with value: 0.23875723779201508 and parameters: {'mid_size': 962, 'num_mid_layers': 1, 'optimizer': 'RMSprop', 'lr': 0.00016373309601986984, 'batch_size': 3200.0, 'num_epochs': 37, 'min_lr': 2.6895872507561527e-05}. Best is trial 194 with value: 0.21496593952178955.\u001b[0m\n",
      "\u001b[32m[I 2022-01-10 18:50:28,323]\u001b[0m Trial 234 finished with value: 0.2933070957660675 and parameters: {'mid_size': 288, 'num_mid_layers': 1, 'optimizer': 'RMSprop', 'lr': 0.00010752443300505695, 'batch_size': 2944.0, 'num_epochs': 24, 'min_lr': 4.508328823360437e-05}. Best is trial 194 with value: 0.21496593952178955.\u001b[0m\n",
      "\u001b[32m[I 2022-01-10 18:50:35,414]\u001b[0m Trial 235 finished with value: 0.22863629460334778 and parameters: {'mid_size': 944, 'num_mid_layers': 1, 'optimizer': 'RMSprop', 'lr': 6.98366602717378e-05, 'batch_size': 3328.0, 'num_epochs': 36, 'min_lr': 3.428022651925439e-05}. Best is trial 194 with value: 0.21496593952178955.\u001b[0m\n",
      "\u001b[32m[I 2022-01-10 18:50:50,465]\u001b[0m Trial 236 finished with value: 0.24064232409000397 and parameters: {'mid_size': 977, 'num_mid_layers': 1, 'optimizer': 'RMSprop', 'lr': 9.253368319300528e-05, 'batch_size': 3072.0, 'num_epochs': 77, 'min_lr': 2.3335321293326233e-05}. Best is trial 194 with value: 0.21496593952178955.\u001b[0m\n",
      "\u001b[32m[I 2022-01-10 18:50:58,497]\u001b[0m Trial 237 finished with value: 0.3111308515071869 and parameters: {'mid_size': 925, 'num_mid_layers': 1, 'optimizer': 'Adam', 'lr': 4.724877710420101e-05, 'batch_size': 3456.0, 'num_epochs': 40, 'min_lr': 1.8896588722627228e-05}. Best is trial 194 with value: 0.21496593952178955.\u001b[0m\n",
      "\u001b[32m[I 2022-01-10 18:51:12,578]\u001b[0m Trial 238 finished with value: 0.2325255274772644 and parameters: {'mid_size': 999, 'num_mid_layers': 1, 'optimizer': 'RMSprop', 'lr': 7.427043116591968e-05, 'batch_size': 3328.0, 'num_epochs': 72, 'min_lr': 2.9729292682650688e-05}. Best is trial 194 with value: 0.21496593952178955.\u001b[0m\n",
      "\u001b[32m[I 2022-01-10 18:51:21,012]\u001b[0m Trial 239 finished with value: 1.377623200416565 and parameters: {'mid_size': 953, 'num_mid_layers': 1, 'optimizer': 'SGD', 'lr': 5.9922964112100606e-05, 'batch_size': 3072.0, 'num_epochs': 44, 'min_lr': 1.768400645600368e-05}. Best is trial 194 with value: 0.21496593952178955.\u001b[0m\n",
      "\u001b[32m[I 2022-01-10 18:51:27,647]\u001b[0m Trial 240 finished with value: 0.28087157011032104 and parameters: {'mid_size': 889, 'num_mid_layers': 1, 'optimizer': 'RMSprop', 'lr': 3.327447372609198e-05, 'batch_size': 3584.0, 'num_epochs': 33, 'min_lr': 2.462140407851268e-05}. Best is trial 194 with value: 0.21496593952178955.\u001b[0m\n",
      "\u001b[32m[I 2022-01-10 18:51:34,713]\u001b[0m Trial 241 finished with value: 0.23036760091781616 and parameters: {'mid_size': 652, 'num_mid_layers': 1, 'optimizer': 'RMSprop', 'lr': 0.00011762583160448849, 'batch_size': 3200.0, 'num_epochs': 36, 'min_lr': 2.896175905255921e-05}. Best is trial 194 with value: 0.21496593952178955.\u001b[0m\n",
      "\u001b[32m[I 2022-01-10 18:51:40,637]\u001b[0m Trial 242 finished with value: 0.21301452815532684 and parameters: {'mid_size': 989, 'num_mid_layers': 1, 'optimizer': 'RMSprop', 'lr': 0.0001156932255340311, 'batch_size': 3200.0, 'num_epochs': 30, 'min_lr': 3.726603845489223e-05}. Best is trial 242 with value: 0.21301452815532684.\u001b[0m\n",
      "\u001b[32m[I 2022-01-10 18:51:46,825]\u001b[0m Trial 243 finished with value: 0.235814169049263 and parameters: {'mid_size': 984, 'num_mid_layers': 1, 'optimizer': 'RMSprop', 'lr': 0.00014362410680746716, 'batch_size': 3200.0, 'num_epochs': 30, 'min_lr': 4.0445542391324565e-05}. Best is trial 242 with value: 0.21301452815532684.\u001b[0m\n",
      "\u001b[32m[I 2022-01-10 18:51:52,400]\u001b[0m Trial 244 finished with value: 0.21780651807785034 and parameters: {'mid_size': 967, 'num_mid_layers': 1, 'optimizer': 'RMSprop', 'lr': 9.578550541239345e-05, 'batch_size': 3328.0, 'num_epochs': 28, 'min_lr': 5.835033058105528e-05}. Best is trial 242 with value: 0.21301452815532684.\u001b[0m\n",
      "\u001b[32m[I 2022-01-10 18:51:56,828]\u001b[0m Trial 245 finished with value: 0.24638721346855164 and parameters: {'mid_size': 970, 'num_mid_layers': 1, 'optimizer': 'RMSprop', 'lr': 8.780947866655958e-05, 'batch_size': 3200.0, 'num_epochs': 22, 'min_lr': 4.8273703867532784e-05}. Best is trial 242 with value: 0.21301452815532684.\u001b[0m\n",
      "\u001b[32m[I 2022-01-10 18:52:00,354]\u001b[0m Trial 246 finished with value: 0.31817498803138733 and parameters: {'mid_size': 985, 'num_mid_layers': 1, 'optimizer': 'RMSprop', 'lr': 9.802246350439036e-05, 'batch_size': 3328.0, 'num_epochs': 18, 'min_lr': 5.1289018680316005e-05}. Best is trial 242 with value: 0.21301452815532684.\u001b[0m\n",
      "\u001b[32m[I 2022-01-10 18:52:06,027]\u001b[0m Trial 247 finished with value: 0.23230095207691193 and parameters: {'mid_size': 942, 'num_mid_layers': 1, 'optimizer': 'RMSprop', 'lr': 4.2100810195020435e-05, 'batch_size': 3072.0, 'num_epochs': 29, 'min_lr': 7.808172780880364e-05}. Best is trial 242 with value: 0.21301452815532684.\u001b[0m\n",
      "\u001b[32m[I 2022-01-10 18:52:28,576]\u001b[0m Trial 248 finished with value: 1.0066291093826294 and parameters: {'mid_size': 962, 'num_mid_layers': 4, 'optimizer': 'RMSprop', 'lr': 6.96658160553032e-05, 'batch_size': 3328.0, 'num_epochs': 103, 'min_lr': 3.609746985847189e-05}. Best is trial 242 with value: 0.21301452815532684.\u001b[0m\n",
      "\u001b[32m[I 2022-01-10 18:52:34,867]\u001b[0m Trial 249 finished with value: 0.23157256841659546 and parameters: {'mid_size': 936, 'num_mid_layers': 1, 'optimizer': 'RMSprop', 'lr': 5.040216096680342e-05, 'batch_size': 3200.0, 'num_epochs': 32, 'min_lr': 5.550384950666415e-05}. Best is trial 242 with value: 0.21301452815532684.\u001b[0m\n",
      "\u001b[32m[I 2022-01-10 18:52:40,587]\u001b[0m Trial 250 finished with value: 0.23090104758739471 and parameters: {'mid_size': 995, 'num_mid_layers': 1, 'optimizer': 'RMSprop', 'lr': 8.116971443072974e-05, 'batch_size': 3200.0, 'num_epochs': 29, 'min_lr': 3.981182998386771e-05}. Best is trial 242 with value: 0.21301452815532684.\u001b[0m\n",
      "\u001b[32m[I 2022-01-10 18:52:48,867]\u001b[0m Trial 251 finished with value: 1.3585859537124634 and parameters: {'mid_size': 918, 'num_mid_layers': 3, 'optimizer': 'RMSprop', 'lr': 5.965243741670822e-05, 'batch_size': 2944.0, 'num_epochs': 41, 'min_lr': 6.162885439448424e-05}. Best is trial 242 with value: 0.21301452815532684.\u001b[0m\n",
      "\u001b[32m[I 2022-01-10 18:52:53,688]\u001b[0m Trial 252 finished with value: 0.24069945514202118 and parameters: {'mid_size': 957, 'num_mid_layers': 1, 'optimizer': 'RMSprop', 'lr': 0.00011686946352539158, 'batch_size': 3072.0, 'num_epochs': 25, 'min_lr': 1.4495394054934e-05}. Best is trial 242 with value: 0.21301452815532684.\u001b[0m\n",
      "\u001b[32m[I 2022-01-10 18:53:08,285]\u001b[0m Trial 253 finished with value: 0.24244511127471924 and parameters: {'mid_size': 974, 'num_mid_layers': 1, 'optimizer': 'RMSprop', 'lr': 9.691546964835996e-05, 'batch_size': 3328.0, 'num_epochs': 75, 'min_lr': 1.2149992785813487e-05}. Best is trial 242 with value: 0.21301452815532684.\u001b[0m\n",
      "\u001b[32m[I 2022-01-10 18:53:19,166]\u001b[0m Trial 254 finished with value: 1.282257318496704 and parameters: {'mid_size': 904, 'num_mid_layers': 5, 'optimizer': 'RMSprop', 'lr': 7.857925622311374e-05, 'batch_size': 3200.0, 'num_epochs': 48, 'min_lr': 3.4020444075240525e-05}. Best is trial 242 with value: 0.21301452815532684.\u001b[0m\n",
      "\u001b[32m[I 2022-01-10 18:53:32,807]\u001b[0m Trial 255 finished with value: 0.23171375691890717 and parameters: {'mid_size': 1000, 'num_mid_layers': 1, 'optimizer': 'Adam', 'lr': 5.218823115604021e-05, 'batch_size': 1536.0, 'num_epochs': 79, 'min_lr': 4.2874458221308746e-05}. Best is trial 242 with value: 0.21301452815532684.\u001b[0m\n",
      "\u001b[32m[I 2022-01-10 18:53:40,320]\u001b[0m Trial 256 finished with value: 0.2328788787126541 and parameters: {'mid_size': 689, 'num_mid_layers': 1, 'optimizer': 'RMSprop', 'lr': 0.00013963147258643538, 'batch_size': 3072.0, 'num_epochs': 39, 'min_lr': 1.5426581785878863e-05}. Best is trial 242 with value: 0.21301452815532684.\u001b[0m\n",
      "\u001b[32m[I 2022-01-10 18:53:52,937]\u001b[0m Trial 257 finished with value: 0.5624312162399292 and parameters: {'mid_size': 854, 'num_mid_layers': 1, 'optimizer': 'RMSprop', 'lr': 6.534574891648138e-05, 'batch_size': 2944.0, 'num_epochs': 66, 'min_lr': 0.04673894237832047}. Best is trial 242 with value: 0.21301452815532684.\u001b[0m\n",
      "\u001b[32m[I 2022-01-10 18:54:07,218]\u001b[0m Trial 258 finished with value: 0.8461878299713135 and parameters: {'mid_size': 934, 'num_mid_layers': 1, 'optimizer': 'RMSprop', 'lr': 4.3178308434230676e-05, 'batch_size': 3200.0, 'num_epochs': 71, 'min_lr': 0.0016864149383507459}. Best is trial 242 with value: 0.21301452815532684.\u001b[0m\n",
      "\u001b[32m[I 2022-01-10 18:54:16,305]\u001b[0m Trial 259 finished with value: 0.23348751664161682 and parameters: {'mid_size': 952, 'num_mid_layers': 1, 'optimizer': 'RMSprop', 'lr': 9.878057786240096e-05, 'batch_size': 3328.0, 'num_epochs': 46, 'min_lr': 9.302292512005357e-05}. Best is trial 242 with value: 0.21301452815532684.\u001b[0m\n",
      "\u001b[32m[I 2022-01-10 18:54:23,217]\u001b[0m Trial 260 finished with value: 0.2328188121318817 and parameters: {'mid_size': 972, 'num_mid_layers': 1, 'optimizer': 'RMSprop', 'lr': 7.903388381198947e-05, 'batch_size': 3712.0, 'num_epochs': 34, 'min_lr': 3.216722077725346e-05}. Best is trial 242 with value: 0.21301452815532684.\u001b[0m\n",
      "\u001b[32m[I 2022-01-10 18:54:39,885]\u001b[0m Trial 261 finished with value: 0.22434885799884796 and parameters: {'mid_size': 878, 'num_mid_layers': 1, 'optimizer': 'RMSprop', 'lr': 5.793810351915084e-05, 'batch_size': 3200.0, 'num_epochs': 84, 'min_lr': 2.1258791927905623e-05}. Best is trial 242 with value: 0.21301452815532684.\u001b[0m\n",
      "\u001b[32m[I 2022-01-10 18:54:44,958]\u001b[0m Trial 262 finished with value: 0.27951547503471375 and parameters: {'mid_size': 918, 'num_mid_layers': 1, 'optimizer': 'RMSprop', 'lr': 3.543807443123978e-05, 'batch_size': 3072.0, 'num_epochs': 26, 'min_lr': 1.2890562935740954e-05}. Best is trial 242 with value: 0.21301452815532684.\u001b[0m\n",
      "\u001b[32m[I 2022-01-10 18:55:00,192]\u001b[0m Trial 263 finished with value: 0.23591862618923187 and parameters: {'mid_size': 945, 'num_mid_layers': 1, 'optimizer': 'RMSprop', 'lr': 0.00012304461654776317, 'batch_size': 3456.0, 'num_epochs': 76, 'min_lr': 2.5376223980157662e-05}. Best is trial 242 with value: 0.21301452815532684.\u001b[0m\n",
      "\u001b[32m[I 2022-01-10 18:55:12,008]\u001b[0m Trial 264 finished with value: 0.24777217209339142 and parameters: {'mid_size': 986, 'num_mid_layers': 1, 'optimizer': 'RMSprop', 'lr': 6.907065978431812e-05, 'batch_size': 1408.0, 'num_epochs': 70, 'min_lr': 1.687631466811909e-05}. Best is trial 242 with value: 0.21301452815532684.\u001b[0m\n",
      "\u001b[32m[I 2022-01-10 18:55:19,917]\u001b[0m Trial 265 finished with value: 1.2899402379989624 and parameters: {'mid_size': 967, 'num_mid_layers': 1, 'optimizer': 'SGD', 'lr': 0.00010914740302615404, 'batch_size': 3328.0, 'num_epochs': 41, 'min_lr': 0.00015875688319958538}. Best is trial 242 with value: 0.21301452815532684.\u001b[0m\n",
      "\u001b[32m[I 2022-01-10 18:55:32,022]\u001b[0m Trial 266 finished with value: 0.24279038608074188 and parameters: {'mid_size': 612, 'num_mid_layers': 1, 'optimizer': 'RMSprop', 'lr': 4.662431109821067e-05, 'batch_size': 2816.0, 'num_epochs': 65, 'min_lr': 1.1438180600594172e-05}. Best is trial 242 with value: 0.21301452815532684.\u001b[0m\n",
      "\u001b[32m[I 2022-01-10 18:55:41,179]\u001b[0m Trial 267 finished with value: 0.31202223896980286 and parameters: {'mid_size': 928, 'num_mid_layers': 1, 'optimizer': 'Adam', 'lr': 2.473814048258168e-05, 'batch_size': 3328.0, 'num_epochs': 47, 'min_lr': 2.0173129336038873e-05}. Best is trial 242 with value: 0.21301452815532684.\u001b[0m\n",
      "\u001b[32m[I 2022-01-10 18:55:55,298]\u001b[0m Trial 268 finished with value: 0.23519621789455414 and parameters: {'mid_size': 903, 'num_mid_layers': 1, 'optimizer': 'RMSprop', 'lr': 8.162159408889805e-05, 'batch_size': 2560.0, 'num_epochs': 74, 'min_lr': 2.9774776293808143e-05}. Best is trial 242 with value: 0.21301452815532684.\u001b[0m\n",
      "\u001b[32m[I 2022-01-10 18:56:07,023]\u001b[0m Trial 269 finished with value: 0.25447046756744385 and parameters: {'mid_size': 953, 'num_mid_layers': 1, 'optimizer': 'RMSprop', 'lr': 0.00016772302266686672, 'batch_size': 3072.0, 'num_epochs': 60, 'min_lr': 1.4276671057213419e-05}. Best is trial 242 with value: 0.21301452815532684.\u001b[0m\n",
      "\u001b[32m[I 2022-01-10 18:56:23,174]\u001b[0m Trial 270 finished with value: 0.22666917741298676 and parameters: {'mid_size': 984, 'num_mid_layers': 1, 'optimizer': 'RMSprop', 'lr': 5.9756506300326346e-05, 'batch_size': 3200.0, 'num_epochs': 80, 'min_lr': 3.654169267150585e-05}. Best is trial 242 with value: 0.21301452815532684.\u001b[0m\n",
      "\u001b[32m[I 2022-01-10 18:56:36,850]\u001b[0m Trial 271 finished with value: 0.22946985065937042 and parameters: {'mid_size': 933, 'num_mid_layers': 1, 'optimizer': 'RMSprop', 'lr': 9.172628867782844e-05, 'batch_size': 3200.0, 'num_epochs': 68, 'min_lr': 4.796507195134685e-05}. Best is trial 242 with value: 0.21301452815532684.\u001b[0m\n",
      "\u001b[32m[I 2022-01-10 18:56:44,076]\u001b[0m Trial 272 finished with value: 0.2555733323097229 and parameters: {'mid_size': 871, 'num_mid_layers': 1, 'optimizer': 'RMSprop', 'lr': 3.840646206231704e-05, 'batch_size': 3456.0, 'num_epochs': 36, 'min_lr': 2.5181120343288294e-05}. Best is trial 242 with value: 0.21301452815532684.\u001b[0m\n",
      "\u001b[32m[I 2022-01-10 18:56:52,570]\u001b[0m Trial 273 finished with value: 0.25508445501327515 and parameters: {'mid_size': 961, 'num_mid_layers': 1, 'optimizer': 'RMSprop', 'lr': 3.0294706139857594e-05, 'batch_size': 2944.0, 'num_epochs': 44, 'min_lr': 1.7345584619827406e-05}. Best is trial 242 with value: 0.21301452815532684.\u001b[0m\n",
      "\u001b[32m[I 2022-01-10 18:57:15,807]\u001b[0m Trial 274 finished with value: 0.22928717732429504 and parameters: {'mid_size': 889, 'num_mid_layers': 1, 'optimizer': 'RMSprop', 'lr': 5.0171714198065215e-05, 'batch_size': 3584.0, 'num_epochs': 117, 'min_lr': 2.086649802204025e-05}. Best is trial 242 with value: 0.21301452815532684.\u001b[0m\n",
      "\u001b[32m[I 2022-01-10 18:57:25,285]\u001b[0m Trial 275 finished with value: 0.2252207100391388 and parameters: {'mid_size': 999, 'num_mid_layers': 1, 'optimizer': 'RMSprop', 'lr': 6.945779776789113e-05, 'batch_size': 2304.0, 'num_epochs': 50, 'min_lr': 1.2352629754698604e-05}. Best is trial 242 with value: 0.21301452815532684.\u001b[0m\n",
      "\u001b[32m[I 2022-01-10 18:57:32,829]\u001b[0m Trial 276 finished with value: 0.23095625638961792 and parameters: {'mid_size': 836, 'num_mid_layers': 1, 'optimizer': 'RMSprop', 'lr': 0.00010658615794478122, 'batch_size': 3072.0, 'num_epochs': 39, 'min_lr': 3.084526369283185e-05}. Best is trial 242 with value: 0.21301452815532684.\u001b[0m\n",
      "\u001b[32m[I 2022-01-10 18:57:47,089]\u001b[0m Trial 277 finished with value: 0.23350220918655396 and parameters: {'mid_size': 944, 'num_mid_layers': 1, 'optimizer': 'RMSprop', 'lr': 0.00013075145942536797, 'batch_size': 3328.0, 'num_epochs': 73, 'min_lr': 1.022036568918182e-05}. Best is trial 242 with value: 0.21301452815532684.\u001b[0m\n",
      "\u001b[32m[I 2022-01-10 18:57:50,808]\u001b[0m Trial 278 finished with value: 0.5471795201301575 and parameters: {'mid_size': 913, 'num_mid_layers': 1, 'optimizer': 'RMSprop', 'lr': 0.09426313834535535, 'batch_size': 2944.0, 'num_epochs': 19, 'min_lr': 1.521321335381851e-05}. Best is trial 242 with value: 0.21301452815532684.\u001b[0m\n",
      "\u001b[32m[I 2022-01-10 18:58:03,494]\u001b[0m Trial 279 finished with value: 0.23577430844306946 and parameters: {'mid_size': 975, 'num_mid_layers': 1, 'optimizer': 'Adam', 'lr': 8.088687904902203e-05, 'batch_size': 3200.0, 'num_epochs': 63, 'min_lr': 2.587928131033923e-05}. Best is trial 242 with value: 0.21301452815532684.\u001b[0m\n",
      "\u001b[32m[I 2022-01-10 18:58:10,057]\u001b[0m Trial 280 finished with value: 0.24934902787208557 and parameters: {'mid_size': 961, 'num_mid_layers': 1, 'optimizer': 'RMSprop', 'lr': 5.482222410450758e-05, 'batch_size': 3584.0, 'num_epochs': 33, 'min_lr': 3.614386467961477e-05}. Best is trial 242 with value: 0.21301452815532684.\u001b[0m\n",
      "\u001b[32m[I 2022-01-10 18:58:23,774]\u001b[0m Trial 281 finished with value: 0.23273485898971558 and parameters: {'mid_size': 929, 'num_mid_layers': 1, 'optimizer': 'RMSprop', 'lr': 9.280573411915355e-05, 'batch_size': 3456.0, 'num_epochs': 68, 'min_lr': 4.4217944900894765e-05}. Best is trial 242 with value: 0.21301452815532684.\u001b[0m\n",
      "\u001b[32m[I 2022-01-10 18:58:35,549]\u001b[0m Trial 282 finished with value: 0.22778327763080597 and parameters: {'mid_size': 982, 'num_mid_layers': 1, 'optimizer': 'RMSprop', 'lr': 6.104590046310973e-05, 'batch_size': 3200.0, 'num_epochs': 58, 'min_lr': 1.8288618911915114e-05}. Best is trial 242 with value: 0.21301452815532684.\u001b[0m\n",
      "\u001b[32m[I 2022-01-10 18:58:51,155]\u001b[0m Trial 283 finished with value: 0.2338775098323822 and parameters: {'mid_size': 734, 'num_mid_layers': 1, 'optimizer': 'RMSprop', 'lr': 4.4100409624148316e-05, 'batch_size': 3712.0, 'num_epochs': 78, 'min_lr': 6.031945083877821e-05}. Best is trial 242 with value: 0.21301452815532684.\u001b[0m\n",
      "\u001b[32m[I 2022-01-10 18:58:57,131]\u001b[0m Trial 284 finished with value: 0.5878727436065674 and parameters: {'mid_size': 901, 'num_mid_layers': 2, 'optimizer': 'RMSprop', 'lr': 0.01028511594967085, 'batch_size': 3328.0, 'num_epochs': 29, 'min_lr': 1.2682075657188617e-05}. Best is trial 242 with value: 0.21301452815532684.\u001b[0m\n",
      "\u001b[32m[I 2022-01-10 18:59:07,134]\u001b[0m Trial 285 finished with value: 0.223355233669281 and parameters: {'mid_size': 949, 'num_mid_layers': 1, 'optimizer': 'RMSprop', 'lr': 6.839871821305793e-05, 'batch_size': 2816.0, 'num_epochs': 53, 'min_lr': 2.5987440467129266e-05}. Best is trial 242 with value: 0.21301452815532684.\u001b[0m\n",
      "\u001b[32m[I 2022-01-10 18:59:14,756]\u001b[0m Trial 286 finished with value: 0.24192069470882416 and parameters: {'mid_size': 969, 'num_mid_layers': 1, 'optimizer': 'RMSprop', 'lr': 1.783189256747796e-05, 'batch_size': 1152.0, 'num_epochs': 44, 'min_lr': 2.2027945646781886e-05}. Best is trial 242 with value: 0.21301452815532684.\u001b[0m\n",
      "\u001b[32m[I 2022-01-10 18:59:28,652]\u001b[0m Trial 287 finished with value: 0.27563926577568054 and parameters: {'mid_size': 921, 'num_mid_layers': 1, 'optimizer': 'RMSprop', 'lr': 0.00015526448923827553, 'batch_size': 3072.0, 'num_epochs': 71, 'min_lr': 0.00021946082390851858}. Best is trial 242 with value: 0.21301452815532684.\u001b[0m\n",
      "\u001b[32m[I 2022-01-10 18:59:38,064]\u001b[0m Trial 288 finished with value: 1.3331843614578247 and parameters: {'mid_size': 950, 'num_mid_layers': 1, 'optimizer': 'SGD', 'lr': 0.00011187239423755345, 'batch_size': 2688.0, 'num_epochs': 49, 'min_lr': 1.572138886101103e-05}. Best is trial 242 with value: 0.21301452815532684.\u001b[0m\n",
      "\u001b[32m[I 2022-01-10 18:59:53,840]\u001b[0m Trial 289 finished with value: 0.2596440017223358 and parameters: {'mid_size': 998, 'num_mid_layers': 1, 'optimizer': 'RMSprop', 'lr': 8.64646362430204e-05, 'batch_size': 2176.0, 'num_epochs': 86, 'min_lr': 3.2284719557995346e-05}. Best is trial 242 with value: 0.21301452815532684.\u001b[0m\n",
      "\u001b[32m[I 2022-01-10 19:00:06,424]\u001b[0m Trial 290 finished with value: 0.23659683763980865 and parameters: {'mid_size': 938, 'num_mid_layers': 1, 'optimizer': 'RMSprop', 'lr': 4.053838161567317e-05, 'batch_size': 3328.0, 'num_epochs': 64, 'min_lr': 1.2314201597998136e-05}. Best is trial 242 with value: 0.21301452815532684.\u001b[0m\n",
      "\u001b[32m[I 2022-01-10 19:00:13,358]\u001b[0m Trial 291 finished with value: 0.2286454439163208 and parameters: {'mid_size': 974, 'num_mid_layers': 1, 'optimizer': 'RMSprop', 'lr': 5.533225577139058e-05, 'batch_size': 1664.0, 'num_epochs': 39, 'min_lr': 1.01017762558965e-05}. Best is trial 242 with value: 0.21301452815532684.\u001b[0m\n",
      "\u001b[32m[I 2022-01-10 19:00:29,364]\u001b[0m Trial 292 finished with value: 0.2360510230064392 and parameters: {'mid_size': 863, 'num_mid_layers': 1, 'optimizer': 'Adam', 'lr': 7.315809976576052e-05, 'batch_size': 3072.0, 'num_epochs': 82, 'min_lr': 2.0997774483454334e-05}. Best is trial 242 with value: 0.21301452815532684.\u001b[0m\n",
      "\u001b[32m[I 2022-01-10 19:01:01,852]\u001b[0m Trial 293 finished with value: 0.29524996876716614 and parameters: {'mid_size': 892, 'num_mid_layers': 1, 'optimizer': 'RMSprop', 'lr': 0.00012718415695576053, 'batch_size': 3200.0, 'num_epochs': 163, 'min_lr': 4.0820946824381965e-05}. Best is trial 242 with value: 0.21301452815532684.\u001b[0m\n",
      "\u001b[32m[I 2022-01-10 19:01:16,327]\u001b[0m Trial 294 finished with value: 0.2387150079011917 and parameters: {'mid_size': 916, 'num_mid_layers': 1, 'optimizer': 'RMSprop', 'lr': 9.883040081332192e-05, 'batch_size': 2944.0, 'num_epochs': 75, 'min_lr': 1.4684146710753033e-05}. Best is trial 242 with value: 0.21301452815532684.\u001b[0m\n",
      "\u001b[32m[I 2022-01-10 19:01:25,531]\u001b[0m Trial 295 finished with value: 0.26335397362709045 and parameters: {'mid_size': 521, 'num_mid_layers': 1, 'optimizer': 'RMSprop', 'lr': 5.0263153845690686e-05, 'batch_size': 3200.0, 'num_epochs': 46, 'min_lr': 2.8336763275186546e-05}. Best is trial 242 with value: 0.21301452815532684.\u001b[0m\n",
      "\u001b[32m[I 2022-01-10 19:01:39,482]\u001b[0m Trial 296 finished with value: 0.3220897912979126 and parameters: {'mid_size': 805, 'num_mid_layers': 1, 'optimizer': 'RMSprop', 'lr': 3.499572734524815e-05, 'batch_size': 3456.0, 'num_epochs': 70, 'min_lr': 0.007182102147431693}. Best is trial 242 with value: 0.21301452815532684.\u001b[0m\n",
      "\u001b[32m[I 2022-01-10 19:01:50,920]\u001b[0m Trial 297 finished with value: 0.22943668067455292 and parameters: {'mid_size': 960, 'num_mid_layers': 1, 'optimizer': 'RMSprop', 'lr': 6.693897713408269e-05, 'batch_size': 3072.0, 'num_epochs': 59, 'min_lr': 1.9105439040350737e-05}. Best is trial 242 with value: 0.21301452815532684.\u001b[0m\n"
     ]
    }
   ],
   "source": [
    "#ハイパーパラメータチューニングを行う\n",
    "import optuna\n",
    "study = optuna.create_study()\n",
    "#study.optimize(objective, n_trials=50) #50回調べる\n",
    "study.optimize(objective, timeout=3600) #1時間"
   ]
  },
  {
   "cell_type": "code",
   "execution_count": 109,
   "metadata": {},
   "outputs": [],
   "source": [
    "def display_train_model(dataset_train, dataset_valid, batch_size, model, criterion, optimizer, num_epochs, num_eta_min, device=None):\n",
    "  # GPUに送る\n",
    "  model.to(device)\n",
    "\n",
    "  # dataloaderの作成\n",
    "  dataloader_train = DataLoader(dataset_train, batch_size=batch_size, shuffle=True)\n",
    "  dataloader_valid = DataLoader(dataset_valid, batch_size=len(dataset_valid), shuffle=False)\n",
    "\n",
    "  # スケジューラの設定\n",
    "  scheduler = optim.lr_scheduler.CosineAnnealingLR(optimizer, num_epochs, eta_min=num_eta_min, last_epoch=-1)\n",
    "  #学習率を少しずつ下げる(eta_minを極小値とする)\n",
    "\n",
    "  # 学習\n",
    "  log_train = []\n",
    "  log_valid = []\n",
    "  for epoch in range(num_epochs):\n",
    "    # 開始時刻の記録\n",
    "    s_time = time.time()\n",
    "\n",
    "    # 訓練モードに設定\n",
    "    model.train()\n",
    "    for inputs, labels in dataloader_train:\n",
    "      # 勾配をゼロで初期化\n",
    "      optimizer.zero_grad()\n",
    "\n",
    "      # 順伝播 + 誤差逆伝播 + 重み更新\n",
    "      inputs = inputs.to(device)\n",
    "      labels = labels.to(device)\n",
    "      outputs = model.forward(inputs)\n",
    "      loss = criterion(outputs, labels)\n",
    "      loss.backward()\n",
    "      #optimizerを1ステップ進める\n",
    "      optimizer.step()\n",
    "\n",
    "    # 損失と正解率の算出\n",
    "    loss_train, acc_train = calculate_loss_and_accuracy(model, criterion, dataloader_train, device)\n",
    "    loss_valid, acc_valid = calculate_loss_and_accuracy(model, criterion, dataloader_valid, device)\n",
    "    log_train.append([loss_train, acc_train])\n",
    "    log_valid.append([loss_valid, acc_valid])\n",
    "\n",
    "    # チェックポイントの保存\n",
    "    torch.save({'epoch': epoch, 'model_state_dict': model.state_dict(), 'optimizer_state_dict': optimizer.state_dict()}, f'checkpoint{epoch + 1}.pth')\n",
    "\n",
    "    # 終了時刻の記録\n",
    "    e_time = time.time()\n",
    "\n",
    "    # ログを出力\n",
    "    print(f'epoch: {epoch + 1}, loss_train: {loss_train:.4f}, accuracy_train: {acc_train:.4f}, loss_valid: {loss_valid:.4f}, accuracy_valid: {acc_valid:.4f}, {(e_time - s_time):.4f}sec') \n",
    "\n",
    "    # 検証データの損失が3エポック連続で低下しなかった場合は学習終了(今回の学習基準)\n",
    "    #if epoch > 2 and log_valid[epoch - 3][0] <= log_valid[epoch - 2][0] <= log_valid[epoch - 1][0] <= log_valid[epoch][0]:\n",
    "      #break\n",
    "\n",
    "    # スケジューラを1ステップ進める\n",
    "    scheduler.step()\n",
    "\n",
    "  return {'train': log_train, 'valid': log_valid}"
   ]
  },
  {
   "cell_type": "code",
   "execution_count": 112,
   "metadata": {},
   "outputs": [
    {
     "data": {
      "text/plain": [
       "{'mid_size': 989,\n",
       " 'num_mid_layers': 1,\n",
       " 'optimizer': 'RMSprop',\n",
       " 'lr': 0.0001156932255340311,\n",
       " 'batch_size': 3200.0,\n",
       " 'num_epochs': 30,\n",
       " 'min_lr': 3.726603845489223e-05}"
      ]
     },
     "execution_count": 112,
     "metadata": {},
     "output_type": "execute_result"
    }
   ],
   "source": [
    "study.best_params"
   ]
  },
  {
   "cell_type": "code",
   "execution_count": 113,
   "metadata": {},
   "outputs": [
    {
     "data": {
      "text/plain": [
       "0.21301452815532684"
      ]
     },
     "execution_count": 113,
     "metadata": {},
     "output_type": "execute_result"
    }
   ],
   "source": [
    "study.best_value"
   ]
  },
  {
   "cell_type": "code",
   "execution_count": 114,
   "metadata": {
    "colab": {
     "base_uri": "https://localhost:8080/"
    },
    "id": "Wsm7QXoaTLBQ",
    "outputId": "b6741c7b-4fae-4065-fef7-b4b2b3211962"
   },
   "outputs": [
    {
     "name": "stdout",
     "output_type": "stream",
     "text": [
      "epoch: 1, loss_train: 0.1884, accuracy_train: 0.9421, loss_valid: 0.2495, accuracy_valid: 0.9154, 0.6267sec\n",
      "epoch: 2, loss_train: 0.1371, accuracy_train: 0.9604, loss_valid: 0.2468, accuracy_valid: 0.9132, 0.6367sec\n",
      "epoch: 3, loss_train: 0.1094, accuracy_train: 0.9737, loss_valid: 0.2454, accuracy_valid: 0.9184, 0.5742sec\n",
      "epoch: 4, loss_train: 0.0617, accuracy_train: 0.9875, loss_valid: 0.2331, accuracy_valid: 0.9207, 0.5955sec\n",
      "epoch: 5, loss_train: 0.0420, accuracy_train: 0.9929, loss_valid: 0.2334, accuracy_valid: 0.9199, 0.5761sec\n",
      "epoch: 6, loss_train: 0.0287, accuracy_train: 0.9951, loss_valid: 0.2548, accuracy_valid: 0.9222, 0.5921sec\n",
      "epoch: 7, loss_train: 0.0213, accuracy_train: 0.9956, loss_valid: 0.2564, accuracy_valid: 0.9229, 0.5733sec\n",
      "epoch: 8, loss_train: 0.0230, accuracy_train: 0.9952, loss_valid: 0.2837, accuracy_valid: 0.9222, 0.5910sec\n",
      "epoch: 9, loss_train: 0.0166, accuracy_train: 0.9959, loss_valid: 0.3019, accuracy_valid: 0.9132, 0.6727sec\n",
      "epoch: 10, loss_train: 0.0094, accuracy_train: 0.9971, loss_valid: 0.2675, accuracy_valid: 0.9266, 0.5777sec\n",
      "epoch: 11, loss_train: 0.0115, accuracy_train: 0.9973, loss_valid: 0.3032, accuracy_valid: 0.9237, 0.5966sec\n",
      "epoch: 12, loss_train: 0.0122, accuracy_train: 0.9968, loss_valid: 0.3339, accuracy_valid: 0.9117, 0.5725sec\n",
      "epoch: 13, loss_train: 0.0067, accuracy_train: 0.9978, loss_valid: 0.3007, accuracy_valid: 0.9244, 0.5684sec\n",
      "epoch: 14, loss_train: 0.0048, accuracy_train: 0.9981, loss_valid: 0.2965, accuracy_valid: 0.9259, 0.5664sec\n",
      "epoch: 15, loss_train: 0.0062, accuracy_train: 0.9983, loss_valid: 0.3339, accuracy_valid: 0.9214, 0.5708sec\n",
      "epoch: 16, loss_train: 0.0065, accuracy_train: 0.9984, loss_valid: 0.3518, accuracy_valid: 0.9177, 0.5668sec\n",
      "epoch: 17, loss_train: 0.0037, accuracy_train: 0.9986, loss_valid: 0.3245, accuracy_valid: 0.9251, 0.6159sec\n",
      "epoch: 18, loss_train: 0.0037, accuracy_train: 0.9986, loss_valid: 0.3530, accuracy_valid: 0.9199, 0.5675sec\n",
      "epoch: 19, loss_train: 0.0034, accuracy_train: 0.9988, loss_valid: 0.3338, accuracy_valid: 0.9222, 0.5690sec\n",
      "epoch: 20, loss_train: 0.0039, accuracy_train: 0.9988, loss_valid: 0.3451, accuracy_valid: 0.9199, 0.5659sec\n",
      "epoch: 21, loss_train: 0.0024, accuracy_train: 0.9990, loss_valid: 0.3467, accuracy_valid: 0.9281, 0.5649sec\n",
      "epoch: 22, loss_train: 0.0039, accuracy_train: 0.9989, loss_valid: 0.3771, accuracy_valid: 0.9147, 0.5704sec\n",
      "epoch: 23, loss_train: 0.0023, accuracy_train: 0.9991, loss_valid: 0.3486, accuracy_valid: 0.9237, 0.5673sec\n",
      "epoch: 24, loss_train: 0.0021, accuracy_train: 0.9992, loss_valid: 0.3515, accuracy_valid: 0.9274, 0.5690sec\n",
      "epoch: 25, loss_train: 0.0018, accuracy_train: 0.9992, loss_valid: 0.3551, accuracy_valid: 0.9237, 0.5739sec\n",
      "epoch: 26, loss_train: 0.0018, accuracy_train: 0.9992, loss_valid: 0.3505, accuracy_valid: 0.9244, 0.5689sec\n",
      "epoch: 27, loss_train: 0.0017, accuracy_train: 0.9992, loss_valid: 0.3431, accuracy_valid: 0.9274, 0.5669sec\n",
      "epoch: 28, loss_train: 0.0014, accuracy_train: 0.9993, loss_valid: 0.3496, accuracy_valid: 0.9274, 0.5669sec\n",
      "epoch: 29, loss_train: 0.0016, accuracy_train: 0.9992, loss_valid: 0.3494, accuracy_valid: 0.9304, 0.5690sec\n",
      "epoch: 30, loss_train: 0.0016, accuracy_train: 0.9992, loss_valid: 0.3586, accuracy_valid: 0.9266, 0.5656sec\n"
     ]
    }
   ],
   "source": [
    "# モデルの学習\n",
    "\n",
    "# datasetの作成\n",
    "dataset_train = CreateDataset(X_train, y_train)\n",
    "dataset_valid = CreateDataset(X_valid, y_valid)\n",
    "    \n",
    "# モデルの定義\n",
    "model = MLPNet(300, 989 , 4, 1) \n",
    "    \n",
    "# オプティマイザの定義\n",
    "optimizer = torch.optim.RMSprop(model.parameters(), lr=0.0001156932255340311)\n",
    "\n",
    "# 損失関数の定義\n",
    "criterion = nn.CrossEntropyLoss()\n",
    "    \n",
    "#バッチサイズの定義\n",
    "batch_size = 3200.0\n",
    "    \n",
    "#エポック数の定義\n",
    "num_epochs = 30\n",
    "\n",
    "#スケジューラの学習率の最小値\n",
    "num_eta_min = 3.726603845489223e-05\n",
    "    \n",
    "# デバイスの指定\n",
    "device = torch.device('cuda')\n",
    "\n",
    "log = display_train_model(dataset_train, dataset_valid, 64, model, criterion, optimizer, num_epochs, num_eta_min, device)"
   ]
  },
  {
   "cell_type": "code",
   "execution_count": 115,
   "metadata": {
    "colab": {
     "base_uri": "https://localhost:8080/"
    },
    "id": "qv0V4iMeTMq8",
    "outputId": "f861e535-27e9-4b41-e577-bcd4c0fa03d9"
   },
   "outputs": [
    {
     "data": {
      "image/png": "[encoded data removed]",
      "text/plain": [
       "<Figure size 1080x360 with 2 Axes>"
      ]
     },
     "metadata": {
      "needs_background": "light"
     },
     "output_type": "display_data"
    }
   ],
   "source": [
    "fig, ax = plt.subplots(1, 2, figsize=(15, 5))\n",
    "ax[0].plot(np.array(log['train']).T[0], label='train')\n",
    "ax[0].plot(np.array(log['valid']).T[0], label='valid')\n",
    "ax[0].set_xlabel('epoch')\n",
    "ax[0].set_ylabel('loss')\n",
    "ax[0].legend()\n",
    "ax[1].plot(np.array(log['train']).T[1], label='train')\n",
    "ax[1].plot(np.array(log['valid']).T[1], label='valid')\n",
    "ax[1].set_xlabel('epoch')\n",
    "ax[1].set_ylabel('accuracy')\n",
    "ax[1].legend()\n",
    "plt.show()"
   ]
  },
  {
   "cell_type": "code",
   "execution_count": 116,
   "metadata": {
    "id": "NtG5_OjtTO25"
   },
   "outputs": [],
   "source": [
    "def calculate_accuracy(model, loader, device):\n",
    "  model.eval()\n",
    "  total = 0\n",
    "  correct = 0\n",
    "  with torch.no_grad():\n",
    "    for inputs, labels in loader:\n",
    "      inputs = inputs.to(device)\n",
    "      labels = labels.to(device)\n",
    "      outputs = model(inputs)\n",
    "      pred = torch.argmax(outputs, dim=-1)\n",
    "      total += len(inputs)\n",
    "      correct += (pred == labels).sum().item()\n",
    "\n",
    "  return correct / total"
   ]
  },
  {
   "cell_type": "code",
   "execution_count": 117,
   "metadata": {
    "colab": {
     "base_uri": "https://localhost:8080/"
    },
    "id": "i4fOT4FMTO9O",
    "outputId": "ac3537c5-9fa1-40c9-eb70-a5b9ebbab460"
   },
   "outputs": [
    {
     "name": "stdout",
     "output_type": "stream",
     "text": [
      "accuracy of train：0.999\n",
      "accuracy of test ：0.920\n"
     ]
    }
   ],
   "source": [
    "# 正解率の確認\n",
    "acc_train = calculate_accuracy(model, dataloader_train, device)\n",
    "acc_test = calculate_accuracy(model, dataloader_test, device)\n",
    "print(f'accuracy of train：{acc_train:.3f}')\n",
    "print(f'accuracy of test ：{acc_test:.3f}')"
   ]
  },
  {
   "cell_type": "code",
   "execution_count": null,
   "metadata": {},
   "outputs": [],
   "source": [
    "#以前のものと比べて精度がかなり良くなっている"
   ]
  },
  {
   "cell_type": "code",
   "execution_count": null,
   "metadata": {},
   "outputs": [],
   "source": []
  }
 ],
 "metadata": {
  "accelerator": "GPU",
  "colab": {
   "name": "100本ノック 8章.ipynb",
   "provenance": []
  },
  "kernelspec": {
   "display_name": "Python 3",
   "language": "python",
   "name": "python3"
  },
  "language_info": {
   "codemirror_mode": {
    "name": "ipython",
    "version": 3
   },
   "file_extension": ".py",
   "mimetype": "text/x-python",
   "name": "python",
   "nbconvert_exporter": "python",
   "pygments_lexer": "ipython3",
   "version": "3.8.8"
  }
 },
 "nbformat": 4,
 "nbformat_minor": 4
}
