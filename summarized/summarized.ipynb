{
 "cells": [
  {
   "cell_type": "markdown",
   "metadata": {},
   "source": [
    "# 文書分類\n",
    "\n",
    "文書のタイトルからbusiness, science and technology, entertainment, health の4つのカテゴリに分類する.  \n",
    "  \n",
    "例)\n",
    "### Fed official says weak data caused by weather, should not slow taper \n",
    "#### これは business に分類されている. \n",
    "  \n",
    "このようなカテゴリのタグが付いたデータをもとに教師あり学習を行う.  \n",
    "具体的には文書をtrain_data 8割, valid_data 1割, test_data 1割に分け, 様々な方法で学習を行い test_dataで精度を確かめる.  \n",
    "学習方法別の精度を求める."
   ]
  },
  {
   "cell_type": "markdown",
   "metadata": {},
   "source": [
    "# 6章 単語バッグ"
   ]
  },
  {
   "cell_type": "markdown",
   "metadata": {},
   "source": [
    "##### C=236.51860653710773  \n",
    "##### l1_ratio= 0.37942216994373135"
   ]
  },
  {
   "cell_type": "code",
   "execution_count": null,
   "metadata": {},
   "outputs": [],
   "source": [
    "# パラメータの設定上で求めたCやl1_ratioを用いてロジスティック回帰をする\n",
    "l1_ratio = trial.params['l1_ratio']\n",
    "C = trial.params['C']\n",
    "\n",
    "# モデルの学習\n",
    "clf = LogisticRegression(random_state=42, \n",
    "                        max_iter=10000, \n",
    "                        penalty='elasticnet', \n",
    "                        solver='saga', \n",
    "                        l1_ratio=l1_ratio, \n",
    "                        C=C)\n",
    "clf.fit(X_train, train['CATEGORY'])\n",
    "\n",
    "# 予測値の取得\n",
    "train_pred = score_clf(clf, X_train)\n",
    "valid_pred = score_clf(clf, X_valid)\n",
    "test_pred = score_clf(clf, X_test)\n",
    "\n",
    "# 正解率の算出\n",
    "train_accuracy = accuracy_score(train['CATEGORY'], train_pred[1]) \n",
    "valid_accuracy = accuracy_score(valid['CATEGORY'], valid_pred[1]) \n",
    "test_accuracy = accuracy_score(test['CATEGORY'], test_pred[1]) \n",
    "\n",
    "print(f'正解率（学習データ）：{train_accuracy:.3f}')\n",
    "print(f'正解率（検証データ）：{valid_accuracy:.3f}')\n",
    "print(f'正解率（評価データ）：{test_accuracy:.3f}')"
   ]
  },
  {
   "cell_type": "raw",
   "metadata": {},
   "source": [
    "正解率（学習データ）：0.999\n",
    "正解率（検証データ）：0.905\n",
    "正解率（評価データ）：0.908"
   ]
  },
  {
   "cell_type": "markdown",
   "metadata": {},
   "source": [
    "# 8章 単層ニューラルネットワーク"
   ]
  },
  {
   "cell_type": "markdown",
   "metadata": {},
   "source": [
    "<img src=\"tansou.jpg\">"
   ]
  },
  {
   "cell_type": "raw",
   "metadata": {},
   "source": [
    "epoch: 1, loss_train: 0.3040, accuracy_train: 0.8969, loss_valid: 0.2957, accuracy_valid: 0.8915\n",
    "epoch: 2, loss_train: 0.2736, accuracy_train: 0.9101, loss_valid: 0.2708, accuracy_valid: 0.9027\n",
    "epoch: 3, loss_train: 0.2584, accuracy_train: 0.9130, loss_valid: 0.2624, accuracy_valid: 0.9072\n",
    "epoch: 4, loss_train: 0.2502, accuracy_train: 0.9183, loss_valid: 0.2587, accuracy_valid: 0.9087\n",
    "epoch: 5, loss_train: 0.2475, accuracy_train: 0.9174, loss_valid: 0.2588, accuracy_valid: 0.9004\n",
    "epoch: 6, loss_train: 0.2403, accuracy_train: 0.9178, loss_valid: 0.2533, accuracy_valid: 0.9102\n",
    "epoch: 7, loss_train: 0.2356, accuracy_train: 0.9206, loss_valid: 0.2536, accuracy_valid: 0.9102\n",
    "epoch: 8, loss_train: 0.2343, accuracy_train: 0.9214, loss_valid: 0.2542, accuracy_valid: 0.9117\n",
    "epoch: 9, loss_train: 0.2346, accuracy_train: 0.9204, loss_valid: 0.2567, accuracy_valid: 0.9057\n",
    "epoch: 10, loss_train: 0.2282, accuracy_train: 0.9225, loss_valid: 0.2530, accuracy_valid: 0.9049\n",
    "epoch: 11, loss_train: 0.2279, accuracy_train: 0.9216, loss_valid: 0.2531, accuracy_valid: 0.9094\n",
    "epoch: 12, loss_train: 0.2257, accuracy_train: 0.9222, loss_valid: 0.2555, accuracy_valid: 0.9087\n",
    "epoch: 13, loss_train: 0.2242, accuracy_train: 0.9243, loss_valid: 0.2548, accuracy_valid: 0.9124\n",
    "epoch: 14, loss_train: 0.2225, accuracy_train: 0.9254, loss_valid: 0.2546, accuracy_valid: 0.9079\n",
    "epoch: 15, loss_train: 0.2213, accuracy_train: 0.9229, loss_valid: 0.2561, accuracy_valid: 0.9117\n",
    "epoch: 16, loss_train: 0.2199, accuracy_train: 0.9245, loss_valid: 0.2546, accuracy_valid: 0.9094\n",
    "epoch: 17, loss_train: 0.2190, accuracy_train: 0.9239, loss_valid: 0.2550, accuracy_valid: 0.9102\n",
    "epoch: 18, loss_train: 0.2244, accuracy_train: 0.9203, loss_valid: 0.2626, accuracy_valid: 0.9004\n",
    "epoch: 19, loss_train: 0.2197, accuracy_train: 0.9255, loss_valid: 0.2578, accuracy_valid: 0.9087\n",
    "epoch: 20, loss_train: 0.2165, accuracy_train: 0.9258, loss_valid: 0.2571, accuracy_valid: 0.9087\n",
    "epoch: 21, loss_train: 0.2184, accuracy_train: 0.9244, loss_valid: 0.2591, accuracy_valid: 0.9079\n",
    "epoch: 22, loss_train: 0.2159, accuracy_train: 0.9240, loss_valid: 0.2584, accuracy_valid: 0.9117\n",
    "epoch: 23, loss_train: 0.2165, accuracy_train: 0.9251, loss_valid: 0.2603, accuracy_valid: 0.9087\n",
    "epoch: 24, loss_train: 0.2149, accuracy_train: 0.9264, loss_valid: 0.2572, accuracy_valid: 0.9102\n",
    "epoch: 25, loss_train: 0.2144, accuracy_train: 0.9255, loss_valid: 0.2594, accuracy_valid: 0.9049\n",
    "epoch: 26, loss_train: 0.2141, accuracy_train: 0.9257, loss_valid: 0.2593, accuracy_valid: 0.9057\n",
    "epoch: 27, loss_train: 0.2143, accuracy_train: 0.9262, loss_valid: 0.2608, accuracy_valid: 0.9087\n",
    "epoch: 28, loss_train: 0.2140, accuracy_train: 0.9276, loss_valid: 0.2607, accuracy_valid: 0.9079\n",
    "epoch: 29, loss_train: 0.2127, accuracy_train: 0.9272, loss_valid: 0.2601, accuracy_valid: 0.9072\n",
    "epoch: 30, loss_train: 0.2145, accuracy_train: 0.9266, loss_valid: 0.2632, accuracy_valid: 0.9057"
   ]
  },
  {
   "cell_type": "raw",
   "metadata": {},
   "source": [
    "正解率（学習データ）：0.926\n",
    "正解率（検証データ）：0.905\n",
    "正解率（評価データ）：0.911"
   ]
  },
  {
   "cell_type": "markdown",
   "metadata": {},
   "source": [
    "# 8章　多層ニューラルネットワーク"
   ]
  },
  {
   "cell_type": "markdown",
   "metadata": {},
   "source": [
    "<img src=\"tasou.jpg\">"
   ]
  },
  {
   "cell_type": "raw",
   "metadata": {},
   "source": [
    "epoch: 1, loss_train: 0.1884, accuracy_train: 0.9421, loss_valid: 0.2495, accuracy_valid: 0.9154, 0.6267sec\n",
    "epoch: 2, loss_train: 0.1371, accuracy_train: 0.9604, loss_valid: 0.2468, accuracy_valid: 0.9132, 0.6367sec\n",
    "epoch: 3, loss_train: 0.1094, accuracy_train: 0.9737, loss_valid: 0.2454, accuracy_valid: 0.9184, 0.5742sec\n",
    "epoch: 4, loss_train: 0.0617, accuracy_train: 0.9875, loss_valid: 0.2331, accuracy_valid: 0.9207, 0.5955sec\n",
    "epoch: 5, loss_train: 0.0420, accuracy_train: 0.9929, loss_valid: 0.2334, accuracy_valid: 0.9199, 0.5761sec\n",
    "epoch: 6, loss_train: 0.0287, accuracy_train: 0.9951, loss_valid: 0.2548, accuracy_valid: 0.9222, 0.5921sec\n",
    "epoch: 7, loss_train: 0.0213, accuracy_train: 0.9956, loss_valid: 0.2564, accuracy_valid: 0.9229, 0.5733sec\n",
    "epoch: 8, loss_train: 0.0230, accuracy_train: 0.9952, loss_valid: 0.2837, accuracy_valid: 0.9222, 0.5910sec\n",
    "epoch: 9, loss_train: 0.0166, accuracy_train: 0.9959, loss_valid: 0.3019, accuracy_valid: 0.9132, 0.6727sec\n",
    "epoch: 10, loss_train: 0.0094, accuracy_train: 0.9971, loss_valid: 0.2675, accuracy_valid: 0.9266, 0.5777sec\n",
    "epoch: 11, loss_train: 0.0115, accuracy_train: 0.9973, loss_valid: 0.3032, accuracy_valid: 0.9237, 0.5966sec\n",
    "epoch: 12, loss_train: 0.0122, accuracy_train: 0.9968, loss_valid: 0.3339, accuracy_valid: 0.9117, 0.5725sec\n",
    "epoch: 13, loss_train: 0.0067, accuracy_train: 0.9978, loss_valid: 0.3007, accuracy_valid: 0.9244, 0.5684sec\n",
    "epoch: 14, loss_train: 0.0048, accuracy_train: 0.9981, loss_valid: 0.2965, accuracy_valid: 0.9259, 0.5664sec\n",
    "epoch: 15, loss_train: 0.0062, accuracy_train: 0.9983, loss_valid: 0.3339, accuracy_valid: 0.9214, 0.5708sec\n",
    "epoch: 16, loss_train: 0.0065, accuracy_train: 0.9984, loss_valid: 0.3518, accuracy_valid: 0.9177, 0.5668sec\n",
    "epoch: 17, loss_train: 0.0037, accuracy_train: 0.9986, loss_valid: 0.3245, accuracy_valid: 0.9251, 0.6159sec\n",
    "epoch: 18, loss_train: 0.0037, accuracy_train: 0.9986, loss_valid: 0.3530, accuracy_valid: 0.9199, 0.5675sec\n",
    "epoch: 19, loss_train: 0.0034, accuracy_train: 0.9988, loss_valid: 0.3338, accuracy_valid: 0.9222, 0.5690sec\n",
    "epoch: 20, loss_train: 0.0039, accuracy_train: 0.9988, loss_valid: 0.3451, accuracy_valid: 0.9199, 0.5659sec\n",
    "epoch: 21, loss_train: 0.0024, accuracy_train: 0.9990, loss_valid: 0.3467, accuracy_valid: 0.9281, 0.5649sec\n",
    "epoch: 22, loss_train: 0.0039, accuracy_train: 0.9989, loss_valid: 0.3771, accuracy_valid: 0.9147, 0.5704sec\n",
    "epoch: 23, loss_train: 0.0023, accuracy_train: 0.9991, loss_valid: 0.3486, accuracy_valid: 0.9237, 0.5673sec\n",
    "epoch: 24, loss_train: 0.0021, accuracy_train: 0.9992, loss_valid: 0.3515, accuracy_valid: 0.9274, 0.5690sec\n",
    "epoch: 25, loss_train: 0.0018, accuracy_train: 0.9992, loss_valid: 0.3551, accuracy_valid: 0.9237, 0.5739sec\n",
    "epoch: 26, loss_train: 0.0018, accuracy_train: 0.9992, loss_valid: 0.3505, accuracy_valid: 0.9244, 0.5689sec\n",
    "epoch: 27, loss_train: 0.0017, accuracy_train: 0.9992, loss_valid: 0.3431, accuracy_valid: 0.9274, 0.5669sec\n",
    "epoch: 28, loss_train: 0.0014, accuracy_train: 0.9993, loss_valid: 0.3496, accuracy_valid: 0.9274, 0.5669sec\n",
    "epoch: 29, loss_train: 0.0016, accuracy_train: 0.9992, loss_valid: 0.3494, accuracy_valid: 0.9304, 0.5690sec\n",
    "epoch: 30, loss_train: 0.0016, accuracy_train: 0.9992, loss_valid: 0.3586, accuracy_valid: 0.9266, 0.5656sec"
   ]
  },
  {
   "cell_type": "raw",
   "metadata": {},
   "source": [
    "正解率（学習データ）：0.999\n",
    "正解率（検証データ）：0.926\n",
    "正解率（評価データ）：0.920"
   ]
  },
  {
   "cell_type": "markdown",
   "metadata": {},
   "source": [
    "# 9章 RNN"
   ]
  },
  {
   "cell_type": "markdown",
   "metadata": {},
   "source": [
    "### SGDのみ"
   ]
  },
  {
   "cell_type": "markdown",
   "metadata": {},
   "source": [
    "<img src=\"sgd.jpg\">"
   ]
  },
  {
   "cell_type": "markdown",
   "metadata": {},
   "source": [
    "### SGD+ミニバッジ化"
   ]
  },
  {
   "cell_type": "markdown",
   "metadata": {},
   "source": [
    "<img src = \"mini.jpg\">"
   ]
  },
  {
   "cell_type": "markdown",
   "metadata": {},
   "source": [
    "### 単語埋め込みをGoogleNewsのもので初期化"
   ]
  },
  {
   "cell_type": "markdown",
   "metadata": {},
   "source": [
    "<img src = \"news.jpg\">"
   ]
  },
  {
   "cell_type": "markdown",
   "metadata": {},
   "source": [
    "### 双方向化+多層化"
   ]
  },
  {
   "cell_type": "markdown",
   "metadata": {},
   "source": [
    "<img src = \"souhoukou.jpg\">"
   ]
  },
  {
   "cell_type": "markdown",
   "metadata": {},
   "source": [
    "### ↑をハイパーパラメータチューニングしたもの"
   ]
  },
  {
   "cell_type": "markdown",
   "metadata": {},
   "source": [
    "<img src = \"rnnh.jpg\">"
   ]
  },
  {
   "cell_type": "markdown",
   "metadata": {},
   "source": [
    "# CNN"
   ]
  },
  {
   "cell_type": "markdown",
   "metadata": {},
   "source": [
    "<img src = \"cnn.jpg\">"
   ]
  },
  {
   "cell_type": "markdown",
   "metadata": {},
   "source": [
    "### ↑をハイパーパラメータチューニングしたもの"
   ]
  },
  {
   "cell_type": "markdown",
   "metadata": {},
   "source": [
    "<img src = \"cnnh.jpg\">"
   ]
  },
  {
   "cell_type": "markdown",
   "metadata": {},
   "source": [
    "# 事前学習済み言語モデル（BERT）を出発点としたカテゴリ分類"
   ]
  },
  {
   "cell_type": "markdown",
   "metadata": {},
   "source": [
    "<img src = \"bert.jpg\">"
   ]
  },
  {
   "cell_type": "raw",
   "metadata": {},
   "source": [
    "正解率（学習データ）：0.993\n",
    "正解率（検証データ）：0.935\n",
    "正解率（評価データ）：0.945"
   ]
  },
  {
   "cell_type": "markdown",
   "metadata": {},
   "source": [
    "## ランキング(評価データの正解率で判定)  \n",
    "| 順位   |     名前      | 正解率 |\n",
    "| -------- | ---------------- | ----------- |\n",
    "|1位| BERT使ったもの| 0.945|\n",
    "|2位| 多層ニューラルネットワーク| 0.920|\n",
    "|3位| 単層ニューラルネットワーク| 0.911|\n",
    "|4位| 単語バッグ| 0.908|\n",
    "|5位| CNN| 0.855|\n",
    "|6位| RNN(SGDのみ)| 0.772|"
   ]
  },
  {
   "cell_type": "code",
   "execution_count": null,
   "metadata": {},
   "outputs": [],
   "source": []
  }
 ],
 "metadata": {
  "kernelspec": {
   "display_name": "Python 3",
   "language": "python",
   "name": "python3"
  },
  "language_info": {
   "codemirror_mode": {
    "name": "ipython",
    "version": 3
   },
   "file_extension": ".py",
   "mimetype": "text/x-python",
   "name": "python",
   "nbconvert_exporter": "python",
   "pygments_lexer": "ipython3",
   "version": "3.8.8"
  }
 },
 "nbformat": 4,
 "nbformat_minor": 4
}
