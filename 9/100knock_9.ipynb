{
 "cells": [
  {
   "cell_type": "code",
   "execution_count": 1,
   "metadata": {},
   "outputs": [
    {
     "name": "stdout",
     "output_type": "stream",
     "text": [
      "--2022-01-30 16:12:27--  https://archive.ics.uci.edu/ml/machine-learning-databases/00359/NewsAggregatorDataset.zip\n",
      "Resolving archive.ics.uci.edu (archive.ics.uci.edu)... 128.195.10.252\n",
      "Connecting to archive.ics.uci.edu (archive.ics.uci.edu)|128.195.10.252|:443... connected.\n",
      "HTTP request sent, awaiting response... 200 OK\n",
      "Length: 29224203 (28M) [application/x-httpd-php]\n",
      "Saving to: ‘NewsAggregatorDataset.zip’\n",
      "\n",
      "NewsAggregatorDatas 100%[===================>]  27.87M  14.8MB/s    in 1.9s    \n",
      "\n",
      "2022-01-30 16:12:29 (14.8 MB/s) - ‘NewsAggregatorDataset.zip’ saved [29224203/29224203]\n",
      "\n",
      "Archive:  NewsAggregatorDataset.zip\n",
      "  inflating: 2pageSessions.csv       \n",
      "   creating: __MACOSX/\n",
      "  inflating: __MACOSX/._2pageSessions.csv  \n",
      "  inflating: newsCorpora.csv         \n",
      "  inflating: __MACOSX/._newsCorpora.csv  \n",
      "  inflating: readme.txt              \n",
      "  inflating: __MACOSX/._readme.txt   \n"
     ]
    }
   ],
   "source": [
    "#80\n",
    "#途中まで50と同じ\n",
    "\n",
    "#データダウンロード\n",
    "!wget https://archive.ics.uci.edu/ml/machine-learning-databases/00359/NewsAggregatorDataset.zip\n",
    "!unzip NewsAggregatorDataset.zip"
   ]
  },
  {
   "cell_type": "code",
   "execution_count": 2,
   "metadata": {},
   "outputs": [],
   "source": [
    "# 読込時のエラー回避のためダブルクォーテーションをシングルクォーテーションに置換\n",
    "!sed -e 's/\"/'\\''/g' ./newsCorpora.csv > ./newsCorpora_re.csv"
   ]
  },
  {
   "cell_type": "code",
   "execution_count": 1,
   "metadata": {},
   "outputs": [
    {
     "name": "stdout",
     "output_type": "stream",
     "text": [
      "【学習データ】\n",
      "b    4501\n",
      "e    4235\n",
      "t    1220\n",
      "m     728\n",
      "Name: CATEGORY, dtype: int64\n",
      "【検証データ】\n",
      "b    563\n",
      "e    529\n",
      "t    153\n",
      "m     91\n",
      "Name: CATEGORY, dtype: int64\n",
      "【評価データ】\n",
      "b    563\n",
      "e    530\n",
      "t    152\n",
      "m     91\n",
      "Name: CATEGORY, dtype: int64\n"
     ]
    }
   ],
   "source": [
    "import pandas as pd\n",
    "from sklearn.model_selection import train_test_split\n",
    "\n",
    "# データの読込\n",
    "df = pd.read_csv('./newsCorpora_re.csv', header=None, sep='\\t', names=['ID', 'TITLE', 'URL', 'PUBLISHER', 'CATEGORY', 'STORY', 'HOSTNAME', 'TIMESTAMP']) #具体例からこのように分ける\n",
    "\n",
    "# データの抽出\n",
    "df = df.loc[df['PUBLISHER'].isin(['Reuters', 'Huffington Post', 'Businessweek', 'Contactmusic.com', 'Daily Mail']), ['TITLE', 'CATEGORY']] #publisherが”Reuters”, “Huffington Post”, “Businessweek”, “Contactmusic.com”, “Daily Mail”であるものの、そのカテゴリ名と記事見出しを抽出 isin https://vector-ium.com/pandas-isin/  loc(列ラベル) https://note.nkmk.me/python-pandas-at-iat-loc-iloc/\n",
    "\n",
    "# データの分割\n",
    "train, valid_test = train_test_split(df, test_size=0.2, shuffle=True, random_state=42, stratify=df['CATEGORY']) #学習データ80%とその他20%に分ける train_test_splitについて https://qiita.com/KyleKatarn/items/2afa6787f04f28e2cd2d\n",
    "valid, test = train_test_split(valid_test, test_size=0.5, shuffle=True, random_state=42, stratify=valid_test['CATEGORY']) #その他に分けられたデータを半分ずつ検証データと評価データに分類(全体から見ると10%,10%)\n",
    "\n",
    "train.reset_index(drop=True, inplace=True)\n",
    "valid.reset_index(drop=True, inplace=True)\n",
    "test.reset_index(drop=True, inplace=True)\n",
    "\n",
    "\n",
    "# データの保存\n",
    "train.to_csv('./train.txt', sep='\\t', index=False)\n",
    "valid.to_csv('./valid.txt', sep='\\t', index=False)\n",
    "test.to_csv('./test.txt', sep='\\t', index=False)\n",
    "\n",
    "# 事例数の確認\n",
    "print('【学習データ】')\n",
    "print(train['CATEGORY'].value_counts())\n",
    "print('【検証データ】')\n",
    "print(valid['CATEGORY'].value_counts())\n",
    "print('【評価データ】')\n",
    "print(test['CATEGORY'].value_counts())"
   ]
  },
  {
   "cell_type": "code",
   "execution_count": 41,
   "metadata": {},
   "outputs": [
    {
     "name": "stdout",
     "output_type": "stream",
     "text": [
      "ID数: 9374\n",
      "\n",
      "---頻度上位20語---\n",
      "to: 1 出現回数:2141\n",
      "s: 2 出現回数:1907\n",
      "in: 3 出現回数:1423\n",
      "UPDATE: 4 出現回数:1074\n",
      "on: 5 出現回数:1065\n",
      "as: 6 出現回数:1018\n",
      "US: 7 出現回数:998\n",
      "The: 8 出現回数:975\n",
      "of: 9 出現回数:967\n",
      "for: 10 出現回数:942\n",
      "1: 11 出現回数:860\n",
      "To: 12 出現回数:737\n",
      "2: 13 出現回数:678\n",
      "the: 14 出現回数:611\n",
      "and: 15 出現回数:577\n",
      "In: 16 出現回数:509\n",
      "Of: 17 出現回数:478\n",
      "at: 18 出現回数:466\n",
      "a: 19 出現回数:449\n",
      "A: 20 出現回数:442\n"
     ]
    }
   ],
   "source": [
    "from collections import defaultdict\n",
    "import string\n",
    "\n",
    "# 単語の頻度集計\n",
    "d = defaultdict(int)\n",
    "table = str.maketrans(string.punctuation, ' '*len(string.punctuation))  # 記号をスペースに置換するテーブル\n",
    "for text in train['TITLE']:\n",
    "  for word in text.translate(table).split():\n",
    "    d[word] += 1\n",
    "d = sorted(d.items(), key=lambda x:x[1], reverse=True)\n",
    "\n",
    "# 単語ID辞書の作成\n",
    "word2id = {word: i + 1 for i, (word, cnt) in enumerate(d) if cnt > 1}  # 出現頻度が2回以上の単語を登録\n",
    "\n",
    "print(f'ID数: {len(set(word2id.values()))}\\n')\n",
    "print('---頻度上位20語---')\n",
    "for key in list(word2id)[:20]:\n",
    "    print(f'{key}: {word2id[key]} 出現回数:{d[word2id[key]-1][1]}')"
   ]
  },
  {
   "cell_type": "markdown",
   "metadata": {},
   "source": [
    "### defaultdictについて\n",
    "https://qiita.com/xza/items/"
   ]
  },
  {
   "cell_type": "code",
   "execution_count": 42,
   "metadata": {},
   "outputs": [],
   "source": [
    "def tokenizer(text, word2id=word2id, unk=0):\n",
    "  \"\"\" 入力テキストをスペースで分割しID列に変換(辞書になければunkで指定した数字を設定)\"\"\"\n",
    "  table = str.maketrans(string.punctuation, ' '*len(string.punctuation))\n",
    "  return [word2id.get(word, unk) for word in text.translate(table).split()]"
   ]
  },
  {
   "cell_type": "code",
   "execution_count": 43,
   "metadata": {},
   "outputs": [
    {
     "name": "stdout",
     "output_type": "stream",
     "text": [
      "テキスト: UPDATE 1-Sandwich chain Quiznos files for bankruptcy protection\n",
      "ID列: [4, 11, 0, 1717, 0, 790, 10, 1238, 3532]\n"
     ]
    }
   ],
   "source": [
    "#確認\n",
    "text = train.iloc[0, train.columns.get_loc('TITLE')]\n",
    "print(f'テキスト: {text}')\n",
    "print(f'ID列: {tokenizer(text)}')"
   ]
  },
  {
   "cell_type": "code",
   "execution_count": 44,
   "metadata": {},
   "outputs": [],
   "source": [
    "#81\n",
    "import torch\n",
    "from torch import nn\n",
    "\n",
    "class RNN(nn.Module):\n",
    "  def __init__(self, vocab_size, emb_size, padding_idx, output_size, hidden_size):\n",
    "    super().__init__()\n",
    "    self.hidden_size = hidden_size\n",
    "    self.emb = nn.Embedding(vocab_size, emb_size, padding_idx=padding_idx)\n",
    "    self.rnn = nn.RNN(emb_size, hidden_size, nonlinearity='tanh', batch_first=True)\n",
    "    self.fc = nn.Linear(hidden_size, output_size)\n",
    "    \n",
    "  def forward(self, x):\n",
    "    self.batch_size = x.size()[0]\n",
    "    hidden = self.init_hidden()  # h0のゼロベクトルを作成\n",
    "    emb = self.emb(x)\n",
    "    # emb.size() = (batch_size, seq_len, emb_size)\n",
    "    out, hidden = self.rnn(emb, hidden)\n",
    "    # out.size() = (batch_size, seq_len, hidden_size)\n",
    "    out = self.fc(out[:, -1, :])\n",
    "    # out.size() = (batch_size, output_size)\n",
    "    return out\n",
    "    \n",
    "  def init_hidden(self):\n",
    "    hidden = torch.zeros(1, self.batch_size, self.hidden_size).to(device)\n",
    "    return hidden"
   ]
  },
  {
   "cell_type": "code",
   "execution_count": 45,
   "metadata": {},
   "outputs": [],
   "source": [
    "from torch.utils.data import Dataset\n",
    "\n",
    "class CreateDataset(Dataset):\n",
    "  def __init__(self, X, y, tokenizer):\n",
    "    self.X = X\n",
    "    self.y = y\n",
    "    self.tokenizer = tokenizer\n",
    "\n",
    "  def __len__(self):  # len(Dataset)で返す値を指定\n",
    "    return len(self.y)\n",
    "\n",
    "  def __getitem__(self, index):  # Dataset[index]で返す値を指定\n",
    "    text = self.X[index]\n",
    "    inputs = self.tokenizer(text)\n",
    "\n",
    "    return {\n",
    "      'inputs': torch.tensor(inputs, dtype=torch.int64),\n",
    "      'labels': torch.tensor(self.y[index], dtype=torch.int64)\n",
    "    }"
   ]
  },
  {
   "cell_type": "code",
   "execution_count": 46,
   "metadata": {},
   "outputs": [
    {
     "name": "stdout",
     "output_type": "stream",
     "text": [
      "len(Dataset)の出力: 10684\n",
      "Dataset[index]の出力:\n",
      "  inputs: tensor([ 195,  557, 1078,  389, 3022,   87,  288,  605,   94,   41, 2657,  214])\n",
      "  labels: 0\n"
     ]
    }
   ],
   "source": [
    "# ラベルベクトルの作成\n",
    "category_dict = {'b': 0, 't': 1, 'e':2, 'm':3}\n",
    "y_train = train['CATEGORY'].map(lambda x: category_dict[x]).values\n",
    "y_valid = valid['CATEGORY'].map(lambda x: category_dict[x]).values\n",
    "y_test = test['CATEGORY'].map(lambda x: category_dict[x]).values\n",
    "\n",
    "# Datasetの作成\n",
    "dataset_train = CreateDataset(train['TITLE'], y_train, tokenizer)\n",
    "dataset_valid = CreateDataset(valid['TITLE'], y_valid, tokenizer)\n",
    "dataset_test = CreateDataset(test['TITLE'], y_test, tokenizer)\n",
    "\n",
    "print(f'len(Dataset)の出力: {len(dataset_train)}')\n",
    "print('Dataset[index]の出力:')\n",
    "for var in dataset_train[1]:\n",
    "  print(f'  {var}: {dataset_train[1][var]}')"
   ]
  },
  {
   "cell_type": "code",
   "execution_count": 47,
   "metadata": {},
   "outputs": [
    {
     "name": "stdout",
     "output_type": "stream",
     "text": [
      "tensor([[0.5103, 0.1156, 0.1398, 0.2344]], grad_fn=<SoftmaxBackward>)\n",
      "tensor([[0.3001, 0.3704, 0.1276, 0.2018]], grad_fn=<SoftmaxBackward>)\n",
      "tensor([[0.2712, 0.1824, 0.2419, 0.3046]], grad_fn=<SoftmaxBackward>)\n",
      "tensor([[0.1443, 0.4161, 0.2758, 0.1638]], grad_fn=<SoftmaxBackward>)\n",
      "tensor([[0.1837, 0.2154, 0.2695, 0.3314]], grad_fn=<SoftmaxBackward>)\n",
      "tensor([[0.3584, 0.1119, 0.2466, 0.2831]], grad_fn=<SoftmaxBackward>)\n",
      "tensor([[0.2007, 0.2401, 0.2427, 0.3166]], grad_fn=<SoftmaxBackward>)\n",
      "tensor([[0.2526, 0.1897, 0.4248, 0.1329]], grad_fn=<SoftmaxBackward>)\n",
      "tensor([[0.3262, 0.3272, 0.1346, 0.2119]], grad_fn=<SoftmaxBackward>)\n",
      "tensor([[0.2603, 0.2140, 0.2783, 0.2474]], grad_fn=<SoftmaxBackward>)\n"
     ]
    }
   ],
   "source": [
    "# パラメータの設定\n",
    "VOCAB_SIZE = len(set(word2id.values())) + 1  # 辞書のID数 + パディングID\n",
    "EMB_SIZE = 300\n",
    "PADDING_IDX = len(set(word2id.values()))\n",
    "OUTPUT_SIZE = 4\n",
    "HIDDEN_SIZE = 50\n",
    "\n",
    "# デバイスの指定\n",
    "device = torch.device(\"cpu\")\n",
    "\n",
    "# モデルの定義\n",
    "model = RNN(VOCAB_SIZE, EMB_SIZE, PADDING_IDX, OUTPUT_SIZE, HIDDEN_SIZE)\n",
    "\n",
    "# 先頭10件の予測値取得\n",
    "for i in range(10):\n",
    "  X = dataset_train[i]['inputs']\n",
    "  print(torch.softmax(model(X.unsqueeze(0)), dim=-1))"
   ]
  },
  {
   "cell_type": "code",
   "execution_count": 48,
   "metadata": {},
   "outputs": [],
   "source": [
    "#82\n",
    "from torch.utils.data import DataLoader\n",
    "import time\n",
    "from torch import optim\n",
    "\n",
    "def calculate_loss_and_accuracy(model, dataset, device=None, criterion=None):\n",
    "  \"\"\"損失・正解率を計算\"\"\"\n",
    "  dataloader = DataLoader(dataset, batch_size=1, shuffle=False)\n",
    "  loss = 0.0\n",
    "  total = 0\n",
    "  correct = 0\n",
    "  with torch.no_grad():\n",
    "    for data in dataloader:\n",
    "      # デバイスの指定\n",
    "      inputs = data['inputs'].to(device)\n",
    "      labels = data['labels'].to(device)\n",
    "\n",
    "      # 順伝播\n",
    "      outputs = model(inputs)\n",
    "\n",
    "      # 損失計算\n",
    "      if criterion != None:\n",
    "        loss += criterion(outputs, labels).item()\n",
    "\n",
    "      # 正解率計算\n",
    "      pred = torch.argmax(outputs, dim=-1)\n",
    "      total += len(inputs)\n",
    "      correct += (pred == labels).sum().item()\n",
    "\n",
    "  return loss / len(dataset), correct / total\n",
    "\n",
    "\n",
    "def train_model(dataset_train, dataset_valid, batch_size, model, criterion, optimizer, num_epochs, collate_fn=None, device=None):\n",
    "  \"\"\"モデルの学習を実行し、損失・正解率のログを返す\"\"\"\n",
    "  # デバイスの指定\n",
    "  model.to(device)\n",
    "\n",
    "  # dataloaderの作成\n",
    "  dataloader_train = DataLoader(dataset_train, batch_size=batch_size, shuffle=True, collate_fn=collate_fn)\n",
    "  dataloader_valid = DataLoader(dataset_valid, batch_size=1, shuffle=False)\n",
    "\n",
    "  # スケジューラの設定\n",
    "  scheduler = optim.lr_scheduler.CosineAnnealingLR(optimizer, num_epochs, eta_min=1e-5, last_epoch=-1)\n",
    "\n",
    "  # 学習\n",
    "  log_train = []\n",
    "  log_valid = []\n",
    "  for epoch in range(num_epochs):\n",
    "    # 開始時刻の記録\n",
    "    s_time = time.time()\n",
    "\n",
    "    # 訓練モードに設定\n",
    "    model.train()\n",
    "    for data in dataloader_train:\n",
    "        \n",
    "      # 勾配をゼロで初期化\n",
    "      optimizer.zero_grad()\n",
    "\n",
    "      # 順伝播 + 誤差逆伝播 + 重み更新\n",
    "      inputs = data['inputs'].to(device)\n",
    "      labels = data['labels'].to(device)\n",
    "      outputs = model.forward(inputs)\n",
    "      loss = criterion(outputs, labels)\n",
    "      loss.backward()\n",
    "      optimizer.step()\n",
    "\n",
    "    # 評価モードに設定\n",
    "    model.eval()\n",
    "\n",
    "    # 損失と正解率の算出\n",
    "    loss_train, acc_train = calculate_loss_and_accuracy(model, dataset_train, device, criterion=criterion)\n",
    "    loss_valid, acc_valid = calculate_loss_and_accuracy(model, dataset_valid, device, criterion=criterion)\n",
    "    log_train.append([loss_train, acc_train])\n",
    "    log_valid.append([loss_valid, acc_valid])\n",
    "\n",
    "    # チェックポイントの保存\n",
    "    torch.save({'epoch': epoch, 'model_state_dict': model.state_dict(), 'optimizer_state_dict': optimizer.state_dict()}, f'checkpoint{epoch + 1}.pt')\n",
    "\n",
    "    # 終了時刻の記録\n",
    "    e_time = time.time()\n",
    "\n",
    "    # ログを出力\n",
    "    print(f'epoch: {epoch + 1}, loss_train: {loss_train:.4f}, accuracy_train: {acc_train:.4f}, loss_valid: {loss_valid:.4f}, accuracy_valid: {acc_valid:.4f}, {(e_time - s_time):.4f}sec') \n",
    "\n",
    "    # 検証データの損失が3エポック連続で低下しなかった場合は学習終了\n",
    "    if epoch > 2 and log_valid[epoch - 3][0] <= log_valid[epoch - 2][0] <= log_valid[epoch - 1][0] <= log_valid[epoch][0]:\n",
    "      break\n",
    "\n",
    "    # スケジューラを1ステップ進める\n",
    "    scheduler.step()\n",
    "\n",
    "  return {'train': log_train, 'valid': log_valid}"
   ]
  },
  {
   "cell_type": "code",
   "execution_count": 10,
   "metadata": {},
   "outputs": [],
   "source": [
    "import numpy as np\n",
    "from matplotlib import pyplot as plt\n",
    "\n",
    "def visualize_logs(log):\n",
    "  fig, ax = plt.subplots(1, 2, figsize=(15, 5))\n",
    "  ax[0].plot(np.array(log['train']).T[0], label='train')\n",
    "  ax[0].plot(np.array(log['valid']).T[0], label='valid')\n",
    "  ax[0].set_xlabel('epoch')\n",
    "  ax[0].set_ylabel('loss')\n",
    "  ax[0].legend()\n",
    "  ax[1].plot(np.array(log['train']).T[1], label='train')\n",
    "  ax[1].plot(np.array(log['valid']).T[1], label='valid')\n",
    "  ax[1].set_xlabel('epoch')\n",
    "  ax[1].set_ylabel('accuracy')\n",
    "  ax[1].legend()\n",
    "  plt.show()"
   ]
  },
  {
   "cell_type": "code",
   "execution_count": 14,
   "metadata": {},
   "outputs": [
    {
     "name": "stdout",
     "output_type": "stream",
     "text": [
      "epoch: 1, loss_train: 1.1152, accuracy_train: 0.5115, loss_valid: 1.1322, accuracy_valid: 0.4910, 65.0134sec\n",
      "epoch: 2, loss_train: 1.0356, accuracy_train: 0.5748, loss_valid: 1.0831, accuracy_valid: 0.5352, 64.0373sec\n",
      "epoch: 3, loss_train: 0.9097, accuracy_train: 0.6604, loss_valid: 0.9974, accuracy_valid: 0.6033, 65.0825sec\n",
      "epoch: 4, loss_train: 0.7619, accuracy_train: 0.7308, loss_valid: 0.8843, accuracy_valid: 0.6894, 65.3206sec\n",
      "epoch: 5, loss_train: 0.6684, accuracy_train: 0.7639, loss_valid: 0.8272, accuracy_valid: 0.7073, 65.2251sec\n",
      "epoch: 6, loss_train: 0.6004, accuracy_train: 0.7858, loss_valid: 0.7688, accuracy_valid: 0.7313, 65.8995sec\n",
      "epoch: 7, loss_train: 0.5614, accuracy_train: 0.7950, loss_valid: 0.7513, accuracy_valid: 0.7238, 65.4773sec\n",
      "epoch: 8, loss_train: 0.5238, accuracy_train: 0.8085, loss_valid: 0.7208, accuracy_valid: 0.7463, 64.5503sec\n",
      "epoch: 9, loss_train: 0.5066, accuracy_train: 0.8127, loss_valid: 0.7151, accuracy_valid: 0.7463, 65.9286sec\n",
      "epoch: 10, loss_train: 0.5018, accuracy_train: 0.8147, loss_valid: 0.7134, accuracy_valid: 0.7478, 66.7762sec\n"
     ]
    }
   ],
   "source": [
    "# パラメータの設定\n",
    "VOCAB_SIZE = len(set(word2id.values())) + 1 \n",
    "EMB_SIZE = 300\n",
    "PADDING_IDX = len(set(word2id.values()))\n",
    "OUTPUT_SIZE = 4\n",
    "HIDDEN_SIZE = 50\n",
    "LEARNING_RATE = 1e-3\n",
    "BATCH_SIZE = 1\n",
    "NUM_EPOCHS = 10\n",
    "\n",
    "# デバイスの指定\n",
    "device = torch.device(\"cpu\")\n",
    "\n",
    "# モデルの定義\n",
    "model = RNN(VOCAB_SIZE, EMB_SIZE, PADDING_IDX, OUTPUT_SIZE, HIDDEN_SIZE)\n",
    "\n",
    "# 損失関数の定義\n",
    "criterion = nn.CrossEntropyLoss()\n",
    "\n",
    "# オプティマイザの定義\n",
    "optimizer = torch.optim.SGD(model.parameters(), lr=LEARNING_RATE)\n",
    "\n",
    "# モデルの学習\n",
    "log = train_model(dataset_train, dataset_valid, BATCH_SIZE, model, criterion, optimizer, NUM_EPOCHS, device=device)"
   ]
  },
  {
   "cell_type": "code",
   "execution_count": 15,
   "metadata": {},
   "outputs": [
    {
     "data": {
      "image/png": "[encoded data removed]",
      "text/plain": [
       "<Figure size 1080x360 with 2 Axes>"
      ]
     },
     "metadata": {
      "needs_background": "light"
     },
     "output_type": "display_data"
    },
    {
     "name": "stdout",
     "output_type": "stream",
     "text": [
      "正解率（学習データ）：0.815\n",
      "正解率（評価データ）：0.772\n"
     ]
    }
   ],
   "source": [
    "# ログの可視化\n",
    "visualize_logs(log)\n",
    "\n",
    "# 正解率の算出\n",
    "_, acc_train = calculate_loss_and_accuracy(model, dataset_train)\n",
    "_, acc_test = calculate_loss_and_accuracy(model, dataset_test)\n",
    "print(f'正解率（学習データ）：{acc_train:.3f}')\n",
    "print(f'正解率（評価データ）：{acc_test:.3f}')"
   ]
  },
  {
   "cell_type": "code",
   "execution_count": 33,
   "metadata": {},
   "outputs": [],
   "source": [
    "#83\n",
    "class Padsequence():\n",
    "  \"\"\"Dataloaderからミニバッチを取り出すごとに最大系列長でパディング\"\"\"\n",
    "  def __init__(self, padding_idx):\n",
    "    self.padding_idx = padding_idx\n",
    "\n",
    "  def __call__(self, batch):\n",
    "    sorted_batch = sorted(batch, key=lambda x: x['inputs'].shape[0], reverse=True)\n",
    "    sequences = [x['inputs'] for x in sorted_batch]\n",
    "    sequences_padded = torch.nn.utils.rnn.pad_sequence(sequences, batch_first=True, padding_value=self.padding_idx)\n",
    "    labels = torch.LongTensor([x['labels'] for x in sorted_batch])\n",
    "\n",
    "    return {'inputs': sequences_padded, 'labels': labels}"
   ]
  },
  {
   "cell_type": "markdown",
   "metadata": {},
   "source": [
    "## GPUの確認"
   ]
  },
  {
   "cell_type": "code",
   "execution_count": 16,
   "metadata": {},
   "outputs": [
    {
     "name": "stdout",
     "output_type": "stream",
     "text": [
      "Sun Jan 30 16:24:14 2022       \n",
      "+-----------------------------------------------------------------------------+\n",
      "| NVIDIA-SMI 470.82.00    Driver Version: 470.82.00    CUDA Version: 11.4     |\n",
      "|-------------------------------+----------------------+----------------------+\n",
      "| GPU  Name        Persistence-M| Bus-Id        Disp.A | Volatile Uncorr. ECC |\n",
      "| Fan  Temp  Perf  Pwr:Usage/Cap|         Memory-Usage | GPU-Util  Compute M. |\n",
      "|                               |                      |               MIG M. |\n",
      "|===============================+======================+======================|\n",
      "|   0  NVIDIA TITAN X ...  On   | 00000000:04:00.0 Off |                  N/A |\n",
      "| 23%   24C    P8     8W / 250W |      8MiB / 12196MiB |      0%      Default |\n",
      "|                               |                      |                  N/A |\n",
      "+-------------------------------+----------------------+----------------------+\n",
      "|   1  NVIDIA TITAN X ...  On   | 00000000:05:00.0 Off |                  N/A |\n",
      "| 23%   27C    P8     8W / 250W |      8MiB / 12196MiB |      0%      Default |\n",
      "|                               |                      |                  N/A |\n",
      "+-------------------------------+----------------------+----------------------+\n",
      "|   2  NVIDIA TITAN X ...  On   | 00000000:08:00.0 Off |                  N/A |\n",
      "| 23%   23C    P8     7W / 250W |      8MiB / 12196MiB |      0%      Default |\n",
      "|                               |                      |                  N/A |\n",
      "+-------------------------------+----------------------+----------------------+\n",
      "|   3  NVIDIA TITAN X ...  On   | 00000000:09:00.0 Off |                  N/A |\n",
      "| 23%   26C    P8     9W / 250W |      8MiB / 12196MiB |      0%      Default |\n",
      "|                               |                      |                  N/A |\n",
      "+-------------------------------+----------------------+----------------------+\n",
      "|   4  NVIDIA TITAN X ...  On   | 00000000:84:00.0 Off |                  N/A |\n",
      "| 23%   28C    P8     8W / 250W |      8MiB / 12196MiB |      0%      Default |\n",
      "|                               |                      |                  N/A |\n",
      "+-------------------------------+----------------------+----------------------+\n",
      "|   5  NVIDIA TITAN X ...  On   | 00000000:85:00.0 Off |                  N/A |\n",
      "| 23%   25C    P8     8W / 250W |      8MiB / 12196MiB |      0%      Default |\n",
      "|                               |                      |                  N/A |\n",
      "+-------------------------------+----------------------+----------------------+\n",
      "|   6  NVIDIA TITAN X ...  On   | 00000000:88:00.0 Off |                  N/A |\n",
      "| 23%   25C    P8     8W / 250W |      8MiB / 12196MiB |      0%      Default |\n",
      "|                               |                      |                  N/A |\n",
      "+-------------------------------+----------------------+----------------------+\n",
      "|   7  NVIDIA TITAN X ...  On   | 00000000:89:00.0 Off |                  N/A |\n",
      "| 23%   25C    P8     8W / 250W |      8MiB / 12196MiB |      0%      Default |\n",
      "|                               |                      |                  N/A |\n",
      "+-------------------------------+----------------------+----------------------+\n",
      "                                                                               \n",
      "+-----------------------------------------------------------------------------+\n",
      "| Processes:                                                                  |\n",
      "|  GPU   GI   CI        PID   Type   Process name                  GPU Memory |\n",
      "|        ID   ID                                                   Usage      |\n",
      "|=============================================================================|\n",
      "+-----------------------------------------------------------------------------+\n"
     ]
    }
   ],
   "source": [
    "!nvidia-smi"
   ]
  },
  {
   "cell_type": "code",
   "execution_count": 17,
   "metadata": {},
   "outputs": [
    {
     "name": "stdout",
     "output_type": "stream",
     "text": [
      "epoch: 1, loss_train: 1.2604, accuracy_train: 0.4056, loss_valid: 1.2629, accuracy_valid: 0.4072, 10.0428sec\n",
      "epoch: 2, loss_train: 1.2696, accuracy_train: 0.4086, loss_valid: 1.2843, accuracy_valid: 0.4019, 10.0283sec\n",
      "epoch: 3, loss_train: 1.1659, accuracy_train: 0.4963, loss_valid: 1.1762, accuracy_valid: 0.4798, 9.9935sec\n",
      "epoch: 4, loss_train: 1.0956, accuracy_train: 0.5671, loss_valid: 1.1211, accuracy_valid: 0.5240, 10.1462sec\n",
      "epoch: 5, loss_train: 1.0144, accuracy_train: 0.6353, loss_valid: 1.0663, accuracy_valid: 0.5861, 10.7708sec\n",
      "epoch: 6, loss_train: 0.9934, accuracy_train: 0.6465, loss_valid: 1.0409, accuracy_valid: 0.5921, 10.7953sec\n",
      "epoch: 7, loss_train: 0.9584, accuracy_train: 0.6660, loss_valid: 1.0156, accuracy_valid: 0.6115, 10.1055sec\n",
      "epoch: 8, loss_train: 0.9278, accuracy_train: 0.6846, loss_valid: 0.9840, accuracy_valid: 0.6295, 10.0323sec\n",
      "epoch: 9, loss_train: 0.8989, accuracy_train: 0.6982, loss_valid: 0.9677, accuracy_valid: 0.6310, 10.0533sec\n",
      "epoch: 10, loss_train: 0.8862, accuracy_train: 0.7050, loss_valid: 0.9542, accuracy_valid: 0.6400, 10.0298sec\n"
     ]
    }
   ],
   "source": [
    "# パラメータの設定\n",
    "VOCAB_SIZE = len(set(word2id.values())) + 1\n",
    "EMB_SIZE = 300\n",
    "PADDING_IDX = len(set(word2id.values()))\n",
    "OUTPUT_SIZE = 4\n",
    "HIDDEN_SIZE = 50\n",
    "LEARNING_RATE = 5e-2\n",
    "BATCH_SIZE = 32\n",
    "NUM_EPOCHS = 10\n",
    "\n",
    "# デバイスの指定\n",
    "device = torch.device(\"cuda\")\n",
    "\n",
    "# モデルの定義\n",
    "model = RNN(VOCAB_SIZE, EMB_SIZE, PADDING_IDX, OUTPUT_SIZE, HIDDEN_SIZE)\n",
    "\n",
    "# 損失関数の定義\n",
    "criterion = nn.CrossEntropyLoss()\n",
    "\n",
    "# オプティマイザの定義\n",
    "optimizer = torch.optim.SGD(model.parameters(), lr=LEARNING_RATE)\n",
    "\n",
    "# モデルの学習\n",
    "log = train_model(dataset_train, dataset_valid, BATCH_SIZE, model, criterion, optimizer, NUM_EPOCHS, collate_fn=Padsequence(PADDING_IDX), device=device)"
   ]
  },
  {
   "cell_type": "code",
   "execution_count": 18,
   "metadata": {},
   "outputs": [
    {
     "data": {
      "image/png": "[encoded data removed]",
      "text/plain": [
       "<Figure size 1080x360 with 2 Axes>"
      ]
     },
     "metadata": {
      "needs_background": "light"
     },
     "output_type": "display_data"
    },
    {
     "name": "stdout",
     "output_type": "stream",
     "text": [
      "正解率（学習データ）：0.705\n",
      "正解率（評価データ）：0.661\n"
     ]
    }
   ],
   "source": [
    "# ログの可視化\n",
    "visualize_logs(log)\n",
    "\n",
    "# 正解率の算出\n",
    "_, acc_train = calculate_loss_and_accuracy(model, dataset_train, device)\n",
    "_, acc_test = calculate_loss_and_accuracy(model, dataset_test, device)\n",
    "print(f'正解率（学習データ）：{acc_train:.3f}')\n",
    "print(f'正解率（評価データ）：{acc_test:.3f}')"
   ]
  },
  {
   "cell_type": "code",
   "execution_count": 19,
   "metadata": {},
   "outputs": [
    {
     "name": "stdout",
     "output_type": "stream",
     "text": [
      "--2022-01-30 16:26:08--  https://s3.amazonaws.com/dl4j-distribution/GoogleNews-vectors-negative300.bin.gz\n",
      "Resolving s3.amazonaws.com (s3.amazonaws.com)... 52.217.73.86\n",
      "Connecting to s3.amazonaws.com (s3.amazonaws.com)|52.217.73.86|:443... connected.\n",
      "HTTP request sent, awaiting response... 200 OK\n",
      "Length: 1647046227 (1.5G) [application/x-gzip]\n",
      "Saving to: ‘GoogleNews-vectors-negative300.bin.gz’\n",
      "\n",
      "GoogleNews-vectors- 100%[===================>]   1.53G  17.4MB/s    in 1m 55s  \n",
      "\n",
      "2022-01-30 16:28:03 (13.7 MB/s) - ‘GoogleNews-vectors-negative300.bin.gz’ saved [1647046227/1647046227]\n",
      "\n"
     ]
    }
   ],
   "source": [
    "#84(準備)\n",
    "!wget https://s3.amazonaws.com/dl4j-distribution/GoogleNews-vectors-negative300.bin.gz"
   ]
  },
  {
   "cell_type": "code",
   "execution_count": 29,
   "metadata": {},
   "outputs": [
    {
     "name": "stdout",
     "output_type": "stream",
     "text": [
      "\u001b[33mWARNING: Value for scheme.headers does not match. Please report this to <https://github.com/pypa/pip/issues/9617>\n",
      "distutils: /opt/conda/include/python3.8/UNKNOWN\n",
      "sysconfig: /opt/conda/include/python3.8\u001b[0m\n",
      "\u001b[33mWARNING: Additional context:\n",
      "user = False\n",
      "home = None\n",
      "root = None\n",
      "prefix = None\u001b[0m\n",
      "Collecting gensim\n",
      "  Downloading gensim-4.1.2-cp38-cp38-manylinux_2_12_x86_64.manylinux2010_x86_64.whl (24.1 MB)\n",
      "\u001b[K     |████████████████████████████████| 24.1 MB 6.6 MB/s eta 0:00:01\n",
      "\u001b[?25hCollecting smart-open>=1.8.1\n",
      "  Downloading smart_open-5.2.1-py3-none-any.whl (58 kB)\n",
      "\u001b[K     |████████████████████████████████| 58 kB 17.2 MB/s eta 0:00:01\n",
      "\u001b[?25hRequirement already satisfied: numpy>=1.17.0 in /opt/conda/lib/python3.8/site-packages (from gensim) (1.19.5)\n",
      "Requirement already satisfied: scipy>=0.18.1 in /opt/conda/lib/python3.8/site-packages (from gensim) (1.6.2)\n",
      "Installing collected packages: smart-open, gensim\n",
      "\u001b[33mWARNING: Value for scheme.headers does not match. Please report this to <https://github.com/pypa/pip/issues/9617>\n",
      "distutils: /opt/conda/include/python3.8/UNKNOWN\n",
      "sysconfig: /opt/conda/include/python3.8\u001b[0m\n",
      "\u001b[33mWARNING: Additional context:\n",
      "user = False\n",
      "home = None\n",
      "root = None\n",
      "prefix = None\u001b[0m\n",
      "Successfully installed gensim-4.1.2 smart-open-5.2.1\n"
     ]
    }
   ],
   "source": [
    "!pip install gensim"
   ]
  },
  {
   "cell_type": "code",
   "execution_count": 50,
   "metadata": {},
   "outputs": [
    {
     "name": "stdout",
     "output_type": "stream",
     "text": [
      "学習済みベクトル利用単語数: 9130 / 9375\n",
      "torch.Size([9375, 300])\n"
     ]
    }
   ],
   "source": [
    "from gensim.models import KeyedVectors\n",
    "import numpy as np\n",
    "\n",
    "# 学習済みモデルのロード\n",
    "model = KeyedVectors.load_word2vec_format('./GoogleNews-vectors-negative300.bin.gz', binary=True)\n",
    "\n",
    "# 学習済み単語ベクトルの取得\n",
    "VOCAB_SIZE = len(set(word2id.values())) + 1\n",
    "EMB_SIZE = 300\n",
    "weights = np.zeros((VOCAB_SIZE, EMB_SIZE))\n",
    "words_in_pretrained = 0\n",
    "for i, word in enumerate(word2id.keys()):\n",
    "  try:\n",
    "    weights[i] = torch.tensor(model[word])\n",
    "    words_in_pretrained += 1\n",
    "  except KeyError:\n",
    "    weights[i] = np.random.normal(scale=0.4, size=(EMB_SIZE,))\n",
    "weights = torch.from_numpy(weights.astype((np.float32)))\n",
    "\n",
    "print(f'学習済みベクトル利用単語数: {words_in_pretrained} / {VOCAB_SIZE}')\n",
    "print(weights.size())"
   ]
  },
  {
   "cell_type": "code",
   "execution_count": 51,
   "metadata": {},
   "outputs": [],
   "source": [
    "#84\n",
    "class RNN(nn.Module):\n",
    "  def __init__(self, vocab_size, emb_size, padding_idx, output_size, hidden_size, num_layers, emb_weights=None, bidirectional=False):\n",
    "    super().__init__()\n",
    "    self.hidden_size = hidden_size\n",
    "    self.num_layers = num_layers\n",
    "    self.num_directions = bidirectional + 1  # 単方向：1、双方向：2\n",
    "    if emb_weights != None:  # 指定があれば埋め込み層の重みをemb_weightsで初期化\n",
    "      self.emb = nn.Embedding.from_pretrained(emb_weights, padding_idx=padding_idx)\n",
    "    else:\n",
    "      self.emb = nn.Embedding(vocab_size, emb_size, padding_idx=padding_idx)\n",
    "    self.rnn = nn.RNN(emb_size, hidden_size, num_layers, nonlinearity='tanh', bidirectional=bidirectional, batch_first=True)\n",
    "    self.fc = nn.Linear(hidden_size * self.num_directions, output_size)\n",
    "\n",
    "  def forward(self, x):\n",
    "    self.batch_size = x.size()[0]\n",
    "    hidden = self.init_hidden() # h0のゼロベクトルを作成\n",
    "    emb = self.emb(x)\n",
    "    # emb.size() = (batch_size, seq_len, emb_size)\n",
    "    out, hidden = self.rnn(emb, hidden)\n",
    "    # out.size() = (batch_size, seq_len, hidden_size * num_directions)\n",
    "    out = self.fc(out[:, -1, :])\n",
    "    # out.size() = (batch_size, output_size)\n",
    "    return out\n",
    "\n",
    "  def init_hidden(self):\n",
    "    hidden = torch.zeros(self.num_layers * self.num_directions, self.batch_size, self.hidden_size).to(device)\n",
    "    return hidden"
   ]
  },
  {
   "cell_type": "code",
   "execution_count": 52,
   "metadata": {},
   "outputs": [
    {
     "name": "stdout",
     "output_type": "stream",
     "text": [
      "epoch: 1, loss_train: 1.1727, accuracy_train: 0.4048, loss_valid: 1.1770, accuracy_valid: 0.4004, 10.2407sec\n",
      "epoch: 2, loss_train: 1.1675, accuracy_train: 0.4589, loss_valid: 1.2061, accuracy_valid: 0.4424, 10.3068sec\n",
      "epoch: 3, loss_train: 1.1229, accuracy_train: 0.5299, loss_valid: 1.1616, accuracy_valid: 0.4963, 10.2803sec\n",
      "epoch: 4, loss_train: 1.0831, accuracy_train: 0.5792, loss_valid: 1.1326, accuracy_valid: 0.5509, 10.2392sec\n",
      "epoch: 5, loss_train: 1.0355, accuracy_train: 0.6105, loss_valid: 1.0762, accuracy_valid: 0.5786, 10.1870sec\n",
      "epoch: 6, loss_train: 0.9867, accuracy_train: 0.6338, loss_valid: 1.0342, accuracy_valid: 0.6115, 10.1711sec\n",
      "epoch: 7, loss_train: 0.9885, accuracy_train: 0.6277, loss_valid: 1.0592, accuracy_valid: 0.5928, 10.1750sec\n",
      "epoch: 8, loss_train: 0.9354, accuracy_train: 0.6603, loss_valid: 0.9968, accuracy_valid: 0.6243, 10.1195sec\n",
      "epoch: 9, loss_train: 0.9587, accuracy_train: 0.6455, loss_valid: 1.0229, accuracy_valid: 0.6198, 10.1766sec\n",
      "epoch: 10, loss_train: 0.9415, accuracy_train: 0.6534, loss_valid: 1.0082, accuracy_valid: 0.6190, 10.1846sec\n"
     ]
    }
   ],
   "source": [
    "# パラメータの設定\n",
    "VOCAB_SIZE = len(set(word2id.values())) + 1\n",
    "EMB_SIZE = 300\n",
    "PADDING_IDX = len(set(word2id.values()))\n",
    "OUTPUT_SIZE = 4\n",
    "HIDDEN_SIZE = 50\n",
    "NUM_LAYERS = 1\n",
    "LEARNING_RATE = 5e-2\n",
    "BATCH_SIZE = 32\n",
    "NUM_EPOCHS = 10\n",
    "\n",
    "# デバイスの指定\n",
    "device = torch.device('cuda')\n",
    "\n",
    "# モデルの定義\n",
    "model = RNN(VOCAB_SIZE, EMB_SIZE, PADDING_IDX, OUTPUT_SIZE, HIDDEN_SIZE, NUM_LAYERS, emb_weights=weights)\n",
    "\n",
    "# 損失関数の定義\n",
    "criterion = nn.CrossEntropyLoss()\n",
    "\n",
    "# オプティマイザの定義\n",
    "optimizer = torch.optim.SGD(model.parameters(), lr=LEARNING_RATE)\n",
    "\n",
    "# モデルの学習\n",
    "log = train_model(dataset_train, dataset_valid, BATCH_SIZE, model, criterion, optimizer, NUM_EPOCHS, collate_fn=Padsequence(PADDING_IDX), device=device)"
   ]
  },
  {
   "cell_type": "code",
   "execution_count": 53,
   "metadata": {},
   "outputs": [
    {
     "data": {
      "image/png": "[encoded data removed]",
      "text/plain": [
       "<Figure size 1080x360 with 2 Axes>"
      ]
     },
     "metadata": {
      "needs_background": "light"
     },
     "output_type": "display_data"
    },
    {
     "name": "stdout",
     "output_type": "stream",
     "text": [
      "正解率（学習データ）：0.653\n",
      "正解率（評価データ）：0.653\n"
     ]
    }
   ],
   "source": [
    "# ログの可視化\n",
    "visualize_logs(log)\n",
    "\n",
    "# 正解率の算出\n",
    "_, acc_train = calculate_loss_and_accuracy(model, dataset_train, device)\n",
    "_, acc_test = calculate_loss_and_accuracy(model, dataset_test, device)\n",
    "print(f'正解率（学習データ）：{acc_train:.3f}')\n",
    "print(f'正解率（評価データ）：{acc_test:.3f}')"
   ]
  },
  {
   "cell_type": "code",
   "execution_count": 57,
   "metadata": {},
   "outputs": [
    {
     "name": "stdout",
     "output_type": "stream",
     "text": [
      "epoch: 1, loss_train: 1.1785, accuracy_train: 0.3981, loss_valid: 1.1797, accuracy_valid: 0.4094, 16.1610sec\n",
      "epoch: 2, loss_train: 1.1629, accuracy_train: 0.4612, loss_valid: 1.1962, accuracy_valid: 0.4543, 16.0586sec\n",
      "epoch: 3, loss_train: 1.0489, accuracy_train: 0.5956, loss_valid: 1.0856, accuracy_valid: 0.5674, 16.1191sec\n",
      "epoch: 4, loss_train: 1.1514, accuracy_train: 0.5249, loss_valid: 1.2068, accuracy_valid: 0.5045, 16.6655sec\n",
      "epoch: 5, loss_train: 0.9867, accuracy_train: 0.6403, loss_valid: 1.0199, accuracy_valid: 0.6055, 16.0653sec\n",
      "epoch: 6, loss_train: 1.1109, accuracy_train: 0.5711, loss_valid: 1.1598, accuracy_valid: 0.5539, 16.0158sec\n",
      "epoch: 7, loss_train: 1.0316, accuracy_train: 0.6023, loss_valid: 1.0918, accuracy_valid: 0.5771, 16.0690sec\n",
      "epoch: 8, loss_train: 0.9517, accuracy_train: 0.6450, loss_valid: 1.0117, accuracy_valid: 0.6198, 16.0438sec\n",
      "epoch: 9, loss_train: 0.9660, accuracy_train: 0.6373, loss_valid: 1.0258, accuracy_valid: 0.6085, 16.0734sec\n",
      "epoch: 10, loss_train: 0.9395, accuracy_train: 0.6498, loss_valid: 1.0009, accuracy_valid: 0.6272, 16.0824sec\n"
     ]
    }
   ],
   "source": [
    "#85\n",
    "# パラメータの設定\n",
    "VOCAB_SIZE = len(set(word2id.values())) + 1  # 辞書のID数 + パディングID\n",
    "EMB_SIZE = 300\n",
    "PADDING_IDX = len(set(word2id.values()))\n",
    "OUTPUT_SIZE = 4\n",
    "HIDDEN_SIZE = 50\n",
    "NUM_LAYERS = 2\n",
    "LEARNING_RATE = 5e-2\n",
    "BATCH_SIZE = 32\n",
    "NUM_EPOCHS = 10\n",
    "\n",
    "# デバイスの指定\n",
    "device = torch.device('cuda')\n",
    "\n",
    "# モデルの定義\n",
    "model = RNN(VOCAB_SIZE, EMB_SIZE, PADDING_IDX, OUTPUT_SIZE, HIDDEN_SIZE, NUM_LAYERS, emb_weights=weights, bidirectional=True)\n",
    "\n",
    "# 損失関数の定義\n",
    "criterion = nn.CrossEntropyLoss()\n",
    "\n",
    "# オプティマイザの定義\n",
    "optimizer = torch.optim.SGD(model.parameters(), lr=LEARNING_RATE)\n",
    "\n",
    "# モデルの学習\n",
    "log = train_model(dataset_train, dataset_valid, BATCH_SIZE, model, criterion, optimizer, NUM_EPOCHS, collate_fn=Padsequence(PADDING_IDX), device=device)"
   ]
  },
  {
   "cell_type": "code",
   "execution_count": null,
   "metadata": {},
   "outputs": [
    {
     "data": {
      "image/png": "[encoded data removed]",
      "text/plain": [
       "<Figure size 1080x360 with 2 Axes>"
      ]
     },
     "metadata": {
      "needs_background": "light"
     },
     "output_type": "display_data"
    }
   ],
   "source": [
    "# ログの可視化\n",
    "visualize_logs(log)\n",
    "\n",
    "# 正解率の算出\n",
    "_, acc_train = calculate_loss_and_accuracy(model, dataset_train, device)\n",
    "_, acc_test = calculate_loss_and_accuracy(model, dataset_test, device)\n",
    "print(f'正解率（学習データ）：{acc_train:.3f}')\n",
    "print(f'正解率（評価データ）：{acc_test:.3f}')"
   ]
  },
  {
   "cell_type": "code",
   "execution_count": 27,
   "metadata": {},
   "outputs": [],
   "source": [
    "#86\n",
    "\n",
    "from torch.nn import functional as F\n",
    "\n",
    "class CNN(nn.Module):\n",
    "  def __init__(self, vocab_size, emb_size, padding_idx, output_size, out_channels, kernel_heights, stride, padding, emb_weights=None):\n",
    "    super().__init__()\n",
    "    if emb_weights != None:  # 指定があれば埋め込み層の重みをemb_weightsで初期化\n",
    "      self.emb = nn.Embedding.from_pretrained(emb_weights, padding_idx=padding_idx)\n",
    "    else:\n",
    "      self.emb = nn.Embedding(vocab_size, emb_size, padding_idx=padding_idx)\n",
    "    self.conv = nn.Conv2d(1, out_channels, (kernel_heights, emb_size), stride, (padding, 0))\n",
    "    self.drop = nn.Dropout(0.3)\n",
    "    self.fc = nn.Linear(out_channels, output_size)\n",
    "    \n",
    "  def forward(self, x):\n",
    "    # x.size() = (batch_size, seq_len)\n",
    "    emb = self.emb(x).unsqueeze(1)\n",
    "    # emb.size() = (batch_size, 1, seq_len, emb_size)\n",
    "    conv = self.conv(emb)\n",
    "    # conv.size() = (batch_size, out_channels, seq_len, 1)\n",
    "    act = F.relu(conv.squeeze(3))\n",
    "    # act.size() = (batch_size, out_channels, seq_len)\n",
    "    max_pool = F.max_pool1d(act, act.size()[2])\n",
    "    # max_pool.size() = (batch_size, out_channels, 1) -> seq_len方向に最大値を取得\n",
    "    out = self.fc(self.drop(max_pool.squeeze(2)))\n",
    "    # out.size() = (batch_size, output_size)\n",
    "    return out"
   ]
  },
  {
   "cell_type": "code",
   "execution_count": 28,
   "metadata": {},
   "outputs": [
    {
     "name": "stdout",
     "output_type": "stream",
     "text": [
      "tensor([[0.2229, 0.3275, 0.1748, 0.2748]], grad_fn=<SoftmaxBackward>)\n",
      "tensor([[0.2635, 0.2269, 0.2131, 0.2965]], grad_fn=<SoftmaxBackward>)\n",
      "tensor([[0.2216, 0.2451, 0.1980, 0.3353]], grad_fn=<SoftmaxBackward>)\n",
      "tensor([[0.2412, 0.2842, 0.2107, 0.2638]], grad_fn=<SoftmaxBackward>)\n",
      "tensor([[0.2485, 0.2746, 0.2039, 0.2730]], grad_fn=<SoftmaxBackward>)\n",
      "tensor([[0.2696, 0.2742, 0.1877, 0.2684]], grad_fn=<SoftmaxBackward>)\n",
      "tensor([[0.2590, 0.2768, 0.1879, 0.2762]], grad_fn=<SoftmaxBackward>)\n",
      "tensor([[0.2565, 0.2441, 0.2106, 0.2888]], grad_fn=<SoftmaxBackward>)\n",
      "tensor([[0.2450, 0.2529, 0.2219, 0.2802]], grad_fn=<SoftmaxBackward>)\n",
      "tensor([[0.2064, 0.2359, 0.2488, 0.3089]], grad_fn=<SoftmaxBackward>)\n"
     ]
    }
   ],
   "source": [
    "# パラメータの設定\n",
    "VOCAB_SIZE = len(set(word2id.values())) + 1  # 辞書のID数 + パディングID\n",
    "EMB_SIZE = 300\n",
    "PADDING_IDX = len(set(word2id.values()))\n",
    "OUTPUT_SIZE = 4\n",
    "OUT_CHANNELS = 100\n",
    "KERNEL_HEIGHTS = 3\n",
    "STRIDE = 1\n",
    "PADDING = 1\n",
    "\n",
    "# モデルの定義\n",
    "model = CNN(VOCAB_SIZE, EMB_SIZE, PADDING_IDX, OUTPUT_SIZE, OUT_CHANNELS, KERNEL_HEIGHTS, STRIDE, PADDING, emb_weights=weights)\n",
    "\n",
    "# 先頭10件の予測値取得\n",
    "for i in range(10):\n",
    "  X = dataset_train[i]['inputs']\n",
    "  print(torch.softmax(model(X.unsqueeze(0)), dim=-1))"
   ]
  },
  {
   "cell_type": "code",
   "execution_count": 29,
   "metadata": {},
   "outputs": [
    {
     "name": "stdout",
     "output_type": "stream",
     "text": [
      "epoch: 1, loss_train: 1.0728, accuracy_train: 0.5572, loss_valid: 1.0893, accuracy_valid: 0.5531, 7.9598sec\n",
      "epoch: 2, loss_train: 0.9988, accuracy_train: 0.6246, loss_valid: 1.0329, accuracy_valid: 0.6010, 7.9088sec\n",
      "epoch: 3, loss_train: 0.9244, accuracy_train: 0.6797, loss_valid: 0.9731, accuracy_valid: 0.6400, 7.8834sec\n",
      "epoch: 4, loss_train: 0.8622, accuracy_train: 0.7085, loss_valid: 0.9268, accuracy_valid: 0.6654, 7.8559sec\n",
      "epoch: 5, loss_train: 0.8163, accuracy_train: 0.7221, loss_valid: 0.8900, accuracy_valid: 0.6744, 7.8554sec\n",
      "epoch: 6, loss_train: 0.7848, accuracy_train: 0.7367, loss_valid: 0.8710, accuracy_valid: 0.6916, 7.8573sec\n",
      "epoch: 7, loss_train: 0.7621, accuracy_train: 0.7421, loss_valid: 0.8552, accuracy_valid: 0.6976, 7.8268sec\n",
      "epoch: 8, loss_train: 0.7494, accuracy_train: 0.7459, loss_valid: 0.8458, accuracy_valid: 0.7028, 7.8381sec\n",
      "epoch: 9, loss_train: 0.7437, accuracy_train: 0.7471, loss_valid: 0.8422, accuracy_valid: 0.7028, 7.8611sec\n",
      "epoch: 10, loss_train: 0.7421, accuracy_train: 0.7477, loss_valid: 0.8411, accuracy_valid: 0.7036, 7.9816sec\n"
     ]
    }
   ],
   "source": [
    "#87\n",
    "\n",
    "# パラメータの設定\n",
    "VOCAB_SIZE = len(set(word2id.values())) + 1\n",
    "EMB_SIZE = 300\n",
    "PADDING_IDX = len(set(word2id.values()))\n",
    "OUTPUT_SIZE = 4\n",
    "OUT_CHANNELS = 100\n",
    "KERNEL_HEIGHTS = 3\n",
    "STRIDE = 1\n",
    "PADDING = 1\n",
    "LEARNING_RATE = 5e-2\n",
    "BATCH_SIZE = 64\n",
    "NUM_EPOCHS = 10\n",
    "\n",
    "# デバイスの指定\n",
    "device = torch.device('cuda')\n",
    "\n",
    "# モデルの定義\n",
    "model = CNN(VOCAB_SIZE, EMB_SIZE, PADDING_IDX, OUTPUT_SIZE, OUT_CHANNELS, KERNEL_HEIGHTS, STRIDE, PADDING, emb_weights=weights)\n",
    "\n",
    "# 損失関数の定義\n",
    "criterion = nn.CrossEntropyLoss()\n",
    "\n",
    "# オプティマイザの定義\n",
    "optimizer = torch.optim.SGD(model.parameters(), lr=LEARNING_RATE)\n",
    "\n",
    "# モデルの学習\n",
    "log = train_model(dataset_train, dataset_valid, BATCH_SIZE, model, criterion, optimizer, NUM_EPOCHS, collate_fn=Padsequence(PADDING_IDX), device=device)"
   ]
  },
  {
   "cell_type": "code",
   "execution_count": 30,
   "metadata": {},
   "outputs": [
    {
     "data": {
      "image/png": "[encoded data removed]",
      "text/plain": [
       "<Figure size 1080x360 with 2 Axes>"
      ]
     },
     "metadata": {
      "needs_background": "light"
     },
     "output_type": "display_data"
    },
    {
     "name": "stdout",
     "output_type": "stream",
     "text": [
      "正解率（学習データ）：0.748\n",
      "正解率（評価データ）：0.707\n"
     ]
    }
   ],
   "source": [
    "# ログの可視化\n",
    "visualize_logs(log)\n",
    "\n",
    "# 正解率の算出\n",
    "_, acc_train = calculate_loss_and_accuracy(model, dataset_train, device)\n",
    "_, acc_test = calculate_loss_and_accuracy(model, dataset_test, device)\n",
    "print(f'正解率（学習データ）：{acc_train:.3f}')\n",
    "print(f'正解率（評価データ）：{acc_test:.3f}')"
   ]
  },
  {
   "cell_type": "markdown",
   "metadata": {},
   "source": [
    "## #88\n",
    "まず #85のハイパーパラメータ探索を行う"
   ]
  },
  {
   "cell_type": "code",
   "execution_count": 20,
   "metadata": {},
   "outputs": [
    {
     "name": "stdout",
     "output_type": "stream",
     "text": [
      "\u001b[33mWARNING: Value for scheme.headers does not match. Please report this to <https://github.com/pypa/pip/issues/9617>\n",
      "distutils: /opt/conda/include/python3.8/UNKNOWN\n",
      "sysconfig: /opt/conda/include/python3.8\u001b[0m\n",
      "\u001b[33mWARNING: Additional context:\n",
      "user = False\n",
      "home = None\n",
      "root = None\n",
      "prefix = None\u001b[0m\n",
      "Collecting optuna\n",
      "  Downloading optuna-2.10.0-py3-none-any.whl (308 kB)\n",
      "\u001b[K     |████████████████████████████████| 308 kB 6.2 MB/s eta 0:00:01\n",
      "\u001b[?25hRequirement already satisfied: sqlalchemy>=1.1.0 in /opt/conda/lib/python3.8/site-packages (from optuna) (1.4.11)\n",
      "Collecting cliff\n",
      "  Downloading cliff-3.10.0-py3-none-any.whl (80 kB)\n",
      "\u001b[K     |████████████████████████████████| 80 kB 25.3 MB/s eta 0:00:01\n",
      "\u001b[?25hCollecting cmaes>=0.8.2\n",
      "  Downloading cmaes-0.8.2-py3-none-any.whl (15 kB)\n",
      "Requirement already satisfied: packaging>=20.0 in /opt/conda/lib/python3.8/site-packages (from optuna) (20.9)\n",
      "Requirement already satisfied: alembic in /opt/conda/lib/python3.8/site-packages (from optuna) (1.5.8)\n",
      "Requirement already satisfied: scipy!=1.4.0 in /opt/conda/lib/python3.8/site-packages (from optuna) (1.6.2)\n",
      "Requirement already satisfied: tqdm in /opt/conda/lib/python3.8/site-packages (from optuna) (4.60.0)\n",
      "Requirement already satisfied: PyYAML in /opt/conda/lib/python3.8/site-packages (from optuna) (5.4.1)\n",
      "Requirement already satisfied: numpy in /opt/conda/lib/python3.8/site-packages (from optuna) (1.19.5)\n",
      "Collecting colorlog\n",
      "  Downloading colorlog-6.6.0-py2.py3-none-any.whl (11 kB)\n",
      "Requirement already satisfied: pyparsing>=2.0.2 in /opt/conda/lib/python3.8/site-packages (from packaging>=20.0->optuna) (2.4.7)\n",
      "Requirement already satisfied: greenlet!=0.4.17 in /opt/conda/lib/python3.8/site-packages (from sqlalchemy>=1.1.0->optuna) (1.0.0)\n",
      "Requirement already satisfied: python-dateutil in /opt/conda/lib/python3.8/site-packages (from alembic->optuna) (2.8.1)\n",
      "Requirement already satisfied: python-editor>=0.3 in /opt/conda/lib/python3.8/site-packages (from alembic->optuna) (1.0.4)\n",
      "Requirement already satisfied: Mako in /opt/conda/lib/python3.8/site-packages (from alembic->optuna) (1.1.4)\n",
      "Collecting pbr!=2.1.0,>=2.0.0\n",
      "  Downloading pbr-5.8.0-py2.py3-none-any.whl (112 kB)\n",
      "\u001b[K     |████████████████████████████████| 112 kB 65.4 MB/s eta 0:00:01\n",
      "\u001b[?25hCollecting stevedore>=2.0.1\n",
      "  Downloading stevedore-3.5.0-py3-none-any.whl (49 kB)\n",
      "\u001b[K     |████████████████████████████████| 49 kB 16.1 MB/s eta 0:00:01\n",
      "\u001b[?25hCollecting PrettyTable>=0.7.2\n",
      "  Downloading prettytable-3.0.0-py3-none-any.whl (24 kB)\n",
      "Collecting autopage>=0.4.0\n",
      "  Downloading autopage-0.5.0-py3-none-any.whl (29 kB)\n",
      "Collecting cmd2>=1.0.0\n",
      "  Downloading cmd2-2.3.3-py3-none-any.whl (149 kB)\n",
      "\u001b[K     |████████████████████████████████| 149 kB 58.8 MB/s eta 0:00:01\n",
      "\u001b[?25hRequirement already satisfied: attrs>=16.3.0 in /opt/conda/lib/python3.8/site-packages (from cmd2>=1.0.0->cliff->optuna) (20.3.0)\n",
      "Collecting pyperclip>=1.6\n",
      "  Downloading pyperclip-1.8.2.tar.gz (20 kB)\n",
      "Requirement already satisfied: wcwidth>=0.1.7 in /opt/conda/lib/python3.8/site-packages (from cmd2>=1.0.0->cliff->optuna) (0.2.5)\n",
      "Requirement already satisfied: MarkupSafe>=0.9.2 in /opt/conda/lib/python3.8/site-packages (from Mako->alembic->optuna) (1.1.1)\n",
      "Requirement already satisfied: six>=1.5 in /opt/conda/lib/python3.8/site-packages (from python-dateutil->alembic->optuna) (1.15.0)\n",
      "Building wheels for collected packages: pyperclip\n",
      "  Building wheel for pyperclip (setup.py) ... \u001b[?25ldone\n",
      "\u001b[?25h  Created wheel for pyperclip: filename=pyperclip-1.8.2-py3-none-any.whl size=11107 sha256=0639f34f20ddb942b23a9aaec47cfcc5596ab785248850555e7bb7dfcc309408\n",
      "  Stored in directory: /home/jovyan/.cache/pip/wheels/7f/1a/65/84ff8c386bec21fca6d220ea1f5498a0367883a78dd5ba6122\n",
      "Successfully built pyperclip\n",
      "Installing collected packages: pyperclip, pbr, stevedore, PrettyTable, cmd2, autopage, colorlog, cmaes, cliff, optuna\n",
      "\u001b[33mWARNING: Value for scheme.headers does not match. Please report this to <https://github.com/pypa/pip/issues/9617>\n",
      "distutils: /opt/conda/include/python3.8/UNKNOWN\n",
      "sysconfig: /opt/conda/include/python3.8\u001b[0m\n",
      "\u001b[33mWARNING: Additional context:\n",
      "user = False\n",
      "home = None\n",
      "root = None\n",
      "prefix = None\u001b[0m\n",
      "Successfully installed PrettyTable-3.0.0 autopage-0.5.0 cliff-3.10.0 cmaes-0.8.2 cmd2-2.3.3 colorlog-6.6.0 optuna-2.10.0 pbr-5.8.0 pyperclip-1.8.2 stevedore-3.5.0\n"
     ]
    }
   ],
   "source": [
    "!pip install optuna"
   ]
  },
  {
   "cell_type": "code",
   "execution_count": 16,
   "metadata": {},
   "outputs": [],
   "source": [
    "class Padsequence():\n",
    "  \"\"\"Dataloaderからミニバッチを取り出すごとに最大系列長でパディング\"\"\"\n",
    "  def __init__(self, padding_idx):\n",
    "    self.padding_idx = padding_idx\n",
    "\n",
    "  def __call__(self, batch):\n",
    "    sorted_batch = sorted(batch, key=lambda x: x['inputs'].shape[0], reverse=True)\n",
    "    sequences = [x['inputs'] for x in sorted_batch]\n",
    "    sequences_padded = torch.nn.utils.rnn.pad_sequence(sequences, batch_first=True, padding_value=self.padding_idx)\n",
    "    labels = torch.LongTensor([x['labels'] for x in sorted_batch])\n",
    "\n",
    "    return {'inputs': sequences_padded, 'labels': labels}"
   ]
  },
  {
   "cell_type": "code",
   "execution_count": 49,
   "metadata": {},
   "outputs": [],
   "source": [
    "class RNN(nn.Module):\n",
    "  def __init__(self, vocab_size, emb_size, padding_idx, output_size, hidden_size, num_layers, emb_weights=None, bidirectional=False):\n",
    "    super().__init__()\n",
    "    self.hidden_size = hidden_size\n",
    "    self.num_layers = num_layers\n",
    "    self.num_directions = bidirectional + 1  # 単方向：1、双方向：2\n",
    "    if emb_weights != None:  # 指定があれば埋め込み層の重みをemb_weightsで初期化\n",
    "      self.emb = nn.Embedding.from_pretrained(emb_weights, padding_idx=padding_idx)\n",
    "    else:\n",
    "      self.emb = nn.Embedding(vocab_size, emb_size, padding_idx=padding_idx)\n",
    "    self.rnn = nn.RNN(emb_size, hidden_size, num_layers, nonlinearity='tanh', bidirectional=bidirectional, batch_first=True)\n",
    "    self.fc = nn.Linear(hidden_size * self.num_directions, output_size)\n",
    "\n",
    "  def forward(self, x):\n",
    "    self.batch_size = x.size()[0]\n",
    "    hidden = self.init_hidden() # h0のゼロベクトルを作成\n",
    "    emb = self.emb(x)\n",
    "    # emb.size() = (batch_size, seq_len, emb_size)\n",
    "    out, hidden = self.rnn(emb, hidden)\n",
    "    # out.size() = (batch_size, seq_len, hidden_size * num_directions)\n",
    "    out = self.fc(out[:, -1, :])\n",
    "    # out.size() = (batch_size, output_size)\n",
    "    return out\n",
    "\n",
    "  def init_hidden(self):\n",
    "    hidden = torch.zeros(self.num_layers * self.num_directions, self.batch_size, self.hidden_size).to(device)\n",
    "    return hidden"
   ]
  },
  {
   "cell_type": "code",
   "execution_count": 12,
   "metadata": {},
   "outputs": [],
   "source": [
    "from torch.utils.data import DataLoader\n",
    "import time\n",
    "from torch import optim\n",
    "\n",
    "def calculate_loss_and_accuracy(model, dataset, device=None, criterion=None):\n",
    "  \"\"\"損失・正解率を計算\"\"\"\n",
    "  dataloader = DataLoader(dataset, batch_size=1, shuffle=False)\n",
    "  loss = 0.0\n",
    "  total = 0\n",
    "  correct = 0\n",
    "  with torch.no_grad():\n",
    "    for data in dataloader:\n",
    "      # デバイスの指定\n",
    "      inputs = data['inputs'].to(device)\n",
    "      labels = data['labels'].to(device)\n",
    "\n",
    "      # 順伝播\n",
    "      outputs = model(inputs)\n",
    "\n",
    "      # 損失計算\n",
    "      if criterion != None:\n",
    "        loss += criterion(outputs, labels).item()\n",
    "\n",
    "      # 正解率計算\n",
    "      pred = torch.argmax(outputs, dim=-1)\n",
    "      total += len(inputs)\n",
    "      correct += (pred == labels).sum().item()\n",
    "\n",
    "  return loss / len(dataset), correct / total\n",
    "\n",
    "\n",
    "def train_model(dataset_train, dataset_valid, batch_size, model, criterion, optimizer, num_epochs, num_eta_min, collate_fn=None, device=None):\n",
    "  \"\"\"モデルの学習を実行し、損失・正解率を返す\"\"\"\n",
    "  # デバイスの指定\n",
    "  model.to(device)\n",
    "\n",
    "  # dataloaderの作成\n",
    "  dataloader_train = DataLoader(dataset_train, batch_size=batch_size, shuffle=True, collate_fn=collate_fn)\n",
    "  dataloader_valid = DataLoader(dataset_valid, batch_size=1, shuffle=False)\n",
    "\n",
    "  # スケジューラの設定\n",
    "  scheduler = optim.lr_scheduler.CosineAnnealingLR(optimizer, num_epochs, eta_min=num_eta_min, last_epoch=-1)\n",
    "\n",
    "  # 学習\n",
    "  log_train = []\n",
    "  log_valid = []\n",
    "  for epoch in range(num_epochs):\n",
    "    # 開始時刻の記録\n",
    "    s_time = time.time()\n",
    "\n",
    "    # 訓練モードに設定\n",
    "    model.train()\n",
    "    for data in dataloader_train:\n",
    "      # 勾配をゼロで初期化\n",
    "      optimizer.zero_grad()\n",
    "\n",
    "      # 順伝播 + 誤差逆伝播 + 重み更新\n",
    "      inputs = data['inputs'].to(device)\n",
    "      labels = data['labels'].to(device)\n",
    "      outputs = model.forward(inputs)\n",
    "      loss = criterion(outputs, labels)\n",
    "      loss.backward()\n",
    "      optimizer.step()\n",
    "\n",
    "    # 評価モードに設定\n",
    "    model.eval()\n",
    "\n",
    "    # 損失と正解率の算出\n",
    "    loss_train, acc_train = calculate_loss_and_accuracy(model, dataset_train, device, criterion=criterion)\n",
    "    loss_valid, acc_valid = calculate_loss_and_accuracy(model, dataset_valid, device, criterion=criterion)\n",
    "    log_train.append([loss_train, acc_train])\n",
    "    log_valid.append([loss_valid, acc_valid])\n",
    "    \n",
    "    # チェックポイントの保存\n",
    "    torch.save({'epoch': epoch, 'model_state_dict': model.state_dict(), 'optimizer_state_dict': optimizer.state_dict()}, f'checkpoint{epoch + 1}.pt')\n",
    "    \n",
    "    # 終了時刻の記録\n",
    "    e_time = time.time()\n",
    "    \n",
    "    # ログを出力\n",
    "    print(f'epoch: {epoch + 1}, loss_train: {loss_train:.4f}, accuracy_train: {acc_train:.4f}, loss_valid: {loss_valid:.4f}, accuracy_valid: {acc_valid:.4f}, {(e_time - s_time):.4f}sec') \n",
    "    \n",
    "    \n",
    "    # 検証データの損失が3エポック連続で低下しなかった場合は学習終了\n",
    "    if epoch > 2 and log_valid[epoch - 3][0] <= log_valid[epoch - 2][0] <= log_valid[epoch - 1][0] <= log_valid[epoch][0]:\n",
    "      break\n",
    "\n",
    "    # スケジューラを1ステップ進める\n",
    "    scheduler.step()\n",
    "\n",
    "  return log_train, log_valid\n",
    "\n",
    "\n",
    "\n",
    "def display_train_model(dataset_train, dataset_valid, batch_size, model, criterion, optimizer, num_epochs, num_eta_min, collate_fn=None, device=None):\n",
    "  \"\"\"モデルの学習を実行し、損失・正解率を返す\"\"\"\n",
    "  # デバイスの指定\n",
    "  model.to(device)\n",
    "\n",
    "  # dataloaderの作成\n",
    "  dataloader_train = DataLoader(dataset_train, batch_size=batch_size, shuffle=True, collate_fn=collate_fn)\n",
    "  dataloader_valid = DataLoader(dataset_valid, batch_size=1, shuffle=False)\n",
    "\n",
    "  # スケジューラの設定\n",
    "  scheduler = optim.lr_scheduler.CosineAnnealingLR(optimizer, num_epochs, eta_min=num_eta_min, last_epoch=-1)\n",
    "\n",
    "  # 学習\n",
    "  log_train = []\n",
    "  log_valid = []\n",
    "  for epoch in range(num_epochs):\n",
    "    # 開始時刻の記録\n",
    "    s_time = time.time()\n",
    "\n",
    "    # 訓練モードに設定\n",
    "    model.train()\n",
    "    for data in dataloader_train:\n",
    "      # 勾配をゼロで初期化\n",
    "      optimizer.zero_grad()\n",
    "\n",
    "      # 順伝播 + 誤差逆伝播 + 重み更新\n",
    "      inputs = data['inputs'].to(device)\n",
    "      labels = data['labels'].to(device)\n",
    "      outputs = model.forward(inputs)\n",
    "      loss = criterion(outputs, labels)\n",
    "      loss.backward()\n",
    "      optimizer.step()\n",
    "\n",
    "    # 評価モードに設定\n",
    "    model.eval()\n",
    "\n",
    "    # 損失と正解率の算出\n",
    "    loss_train, acc_train = calculate_loss_and_accuracy(model, dataset_train, device, criterion=criterion)\n",
    "    loss_valid, acc_valid = calculate_loss_and_accuracy(model, dataset_valid, device, criterion=criterion)\n",
    "    log_train.append([loss_train, acc_train])\n",
    "    log_valid.append([loss_valid, acc_valid])\n",
    "    \n",
    "    # チェックポイントの保存\n",
    "    torch.save({'epoch': epoch, 'model_state_dict': model.state_dict(), 'optimizer_state_dict': optimizer.state_dict()}, f'checkpoint{epoch + 1}.pt')\n",
    "    \n",
    "    # 終了時刻の記録\n",
    "    e_time = time.time()\n",
    "    \n",
    "    # ログを出力\n",
    "    print(f'epoch: {epoch + 1}, loss_train: {loss_train:.4f}, accuracy_train: {acc_train:.4f}, loss_valid: {loss_valid:.4f}, accuracy_valid: {acc_valid:.4f}, {(e_time - s_time):.4f}sec') \n",
    "    \n",
    "    \n",
    "    # 検証データの損失が3エポック連続で低下しなかった場合は学習終了\n",
    "    if epoch > 2 and log_valid[epoch - 3][0] <= log_valid[epoch - 2][0] <= log_valid[epoch - 1][0] <= log_valid[epoch][0]:\n",
    "      break\n",
    "\n",
    "    # スケジューラを1ステップ進める\n",
    "    scheduler.step()\n",
    "\n",
    "  return {'train': log_train, 'valid': log_valid}"
   ]
  },
  {
   "cell_type": "code",
   "execution_count": 51,
   "metadata": {},
   "outputs": [],
   "source": [
    "import optuna\n",
    "\n",
    "def Get_Optimizer(trial, model): #optimizerの最適化関数\n",
    "    # Generate the optimizers.\n",
    "    optimizer_name = trial.suggest_categorical('optimizer', ['Adam', 'RMSprop', 'SGD']) \n",
    "    lr = trial.suggest_loguniform('lr', 1e-5, 1e-1) #学習率の初期値を変更\n",
    "    optimizer = getattr(optim, optimizer_name)(model.parameters(), lr=lr)\n",
    "    return optimizer\n",
    "\n",
    "# デバイスの指定\n",
    "device = torch.device('cuda')\n",
    "\n",
    "def objective(trial): \n",
    "       \n",
    "    # デバイスの指定\n",
    "    device = torch.device('cuda')\n",
    "    \n",
    "    #パラメータの設定(小文字はハイパーパラメータチューニングを行う)\n",
    "    VOCAB_SIZE = len(set(word2id.values())) + 1\n",
    "    EMB_SIZE =300\n",
    "    PADDING_IDX = len(set(word2id.values()))\n",
    "    OUTPUT_SIZE = 4\n",
    "    hidden_size = int(trial.suggest_discrete_uniform('hidden_size', 10, 100, 10))\n",
    "    #hidden_size = 50\n",
    "    num_layers = int(trial.suggest_discrete_uniform('num_layers', 2, 5, 1))\n",
    "    batch_size = int(trial.suggest_discrete_uniform('batch_size', 64, 1024, 64)) #適切なバッチサイズを64-1024の間で64刻みで探す\n",
    "    #num_epochs = trial.suggest_int('num_epochs', 5, 50) #適切なエポック数を探す\n",
    "    num_epochs = 10\n",
    "    num_eta_min = trial.suggest_loguniform('min_lr', 1e-5, 1e-1)#スケジューラの学習率の最小値\n",
    "    \n",
    "    \n",
    "    # モデルの定義\n",
    "    model = RNN(VOCAB_SIZE, EMB_SIZE, PADDING_IDX, OUTPUT_SIZE, hidden_size, num_layers, emb_weights=weights, bidirectional=True)\n",
    "    \n",
    "    # 損失関数の定義\n",
    "    criterion = nn.CrossEntropyLoss()\n",
    "    \n",
    "    # オプティマイザの定義\n",
    "    #optimizer = torch.optim.SGD(model.parameters(), lr=1e-3)\n",
    "    optimizer = Get_Optimizer(trial,model)\n",
    "\n",
    "    \n",
    "    return train_model(dataset_train, dataset_valid, batch_size, model, criterion, optimizer, num_epochs, num_eta_min, collate_fn=Padsequence(PADDING_IDX), device=device)[1][-1][0] #log_validの最後のlossを取得\n",
    "    #return train_model(dataset_train, dataset_valid, batch_size, model, criterion, optimizer, num_epochs, num_eta_min, device)[1][-3][0] #log_validの最後から3番目のlossを取得（最小値)"
   ]
  },
  {
   "cell_type": "code",
   "execution_count": 52,
   "metadata": {
    "collapsed": true,
    "jupyter": {
     "outputs_hidden": true
    },
    "tags": []
   },
   "outputs": [
    {
     "name": "stderr",
     "output_type": "stream",
     "text": [
      "\u001b[32m[I 2022-01-30 20:16:28,431]\u001b[0m A new study created in memory with name: no-name-51016808-46a7-4980-9bd2-b10c2f3b660b\u001b[0m\n"
     ]
    },
    {
     "name": "stdout",
     "output_type": "stream",
     "text": [
      "epoch: 1, loss_train: 1.3938, accuracy_train: 0.2098, loss_valid: 1.3872, accuracy_valid: 0.2373, 20.0498sec\n",
      "epoch: 2, loss_train: 1.3848, accuracy_train: 0.2423, loss_valid: 1.3784, accuracy_valid: 0.2605, 19.9649sec\n",
      "epoch: 3, loss_train: 1.3611, accuracy_train: 0.3196, loss_valid: 1.3551, accuracy_valid: 0.3368, 19.9275sec\n",
      "epoch: 4, loss_train: 1.3209, accuracy_train: 0.3951, loss_valid: 1.3156, accuracy_valid: 0.3930, 19.9560sec\n",
      "epoch: 5, loss_train: 1.2705, accuracy_train: 0.4099, loss_valid: 1.2664, accuracy_valid: 0.4049, 20.0746sec\n",
      "epoch: 6, loss_train: 1.2228, accuracy_train: 0.4123, loss_valid: 1.2200, accuracy_valid: 0.3967, 20.0022sec\n",
      "epoch: 7, loss_train: 1.1900, accuracy_train: 0.4198, loss_valid: 1.1885, accuracy_valid: 0.3997, 19.9749sec\n",
      "epoch: 8, loss_train: 1.1742, accuracy_train: 0.4247, loss_valid: 1.1737, accuracy_valid: 0.4034, 19.9041sec\n",
      "epoch: 9, loss_train: 1.1687, accuracy_train: 0.4244, loss_valid: 1.1686, accuracy_valid: 0.4049, 19.9187sec\n"
     ]
    },
    {
     "name": "stderr",
     "output_type": "stream",
     "text": [
      "\u001b[32m[I 2022-01-30 20:19:48,240]\u001b[0m Trial 0 finished with value: 1.1670186011020296 and parameters: {'hidden_size': 90.0, 'num_layers': 3.0, 'batch_size': 384.0, 'min_lr': 0.009582366317616893, 'optimizer': 'SGD', 'lr': 0.00013013291438730018}. Best is trial 0 with value: 1.1670186011020296.\u001b[0m\n"
     ]
    },
    {
     "name": "stdout",
     "output_type": "stream",
     "text": [
      "epoch: 10, loss_train: 1.1668, accuracy_train: 0.4245, loss_valid: 1.1670, accuracy_valid: 0.4072, 19.9951sec\n",
      "epoch: 1, loss_train: 1.1632, accuracy_train: 0.4110, loss_valid: 1.1656, accuracy_valid: 0.4034, 27.8341sec\n",
      "epoch: 2, loss_train: 1.1611, accuracy_train: 0.4279, loss_valid: 1.1631, accuracy_valid: 0.4311, 27.7788sec\n",
      "epoch: 3, loss_train: 1.2134, accuracy_train: 0.4074, loss_valid: 1.2615, accuracy_valid: 0.3982, 27.7484sec\n",
      "epoch: 4, loss_train: 1.1547, accuracy_train: 0.5116, loss_valid: 1.1973, accuracy_valid: 0.4948, 27.7462sec\n",
      "epoch: 5, loss_train: 1.1688, accuracy_train: 0.5281, loss_valid: 1.1863, accuracy_valid: 0.5075, 27.8821sec\n",
      "epoch: 6, loss_train: 1.1763, accuracy_train: 0.5767, loss_valid: 1.2323, accuracy_valid: 0.5487, 27.5938sec\n",
      "epoch: 7, loss_train: 1.5317, accuracy_train: 0.3737, loss_valid: 1.5721, accuracy_valid: 0.3892, 27.8876sec\n",
      "epoch: 8, loss_train: 1.1476, accuracy_train: 0.5526, loss_valid: 1.1743, accuracy_valid: 0.5337, 27.7797sec\n",
      "epoch: 9, loss_train: 1.2437, accuracy_train: 0.5125, loss_valid: 1.2547, accuracy_valid: 0.5097, 27.9196sec\n"
     ]
    },
    {
     "name": "stderr",
     "output_type": "stream",
     "text": [
      "\u001b[32m[I 2022-01-30 20:24:26,341]\u001b[0m Trial 1 finished with value: 1.2922429468839647 and parameters: {'hidden_size': 30.0, 'num_layers': 5.0, 'batch_size': 832.0, 'min_lr': 0.012418421563891356, 'optimizer': 'Adam', 'lr': 0.0006633059248505418}. Best is trial 0 with value: 1.1670186011020296.\u001b[0m\n"
     ]
    },
    {
     "name": "stdout",
     "output_type": "stream",
     "text": [
      "epoch: 10, loss_train: 1.2401, accuracy_train: 0.5223, loss_valid: 1.2922, accuracy_valid: 0.4993, 27.9095sec\n",
      "epoch: 1, loss_train: 1.0301, accuracy_train: 0.6162, loss_valid: 1.0570, accuracy_valid: 0.5988, 25.0913sec\n",
      "epoch: 2, loss_train: 1.0765, accuracy_train: 0.5845, loss_valid: 1.0974, accuracy_valid: 0.5509, 25.2260sec\n",
      "epoch: 3, loss_train: 1.1649, accuracy_train: 0.3964, loss_valid: 1.1719, accuracy_valid: 0.3960, 25.0666sec\n",
      "epoch: 4, loss_train: 1.1393, accuracy_train: 0.4999, loss_valid: 1.1412, accuracy_valid: 0.4850, 25.2038sec\n",
      "epoch: 5, loss_train: 1.1856, accuracy_train: 0.4266, loss_valid: 1.2066, accuracy_valid: 0.4214, 25.1101sec\n",
      "epoch: 6, loss_train: 1.1751, accuracy_train: 0.3946, loss_valid: 1.1819, accuracy_valid: 0.3937, 25.0916sec\n",
      "epoch: 7, loss_train: 1.6230, accuracy_train: 0.2158, loss_valid: 1.6674, accuracy_valid: 0.1961, 25.3143sec\n",
      "epoch: 8, loss_train: 1.2415, accuracy_train: 0.4163, loss_valid: 1.2513, accuracy_valid: 0.4049, 25.1244sec\n",
      "epoch: 9, loss_train: 1.2115, accuracy_train: 0.4167, loss_valid: 1.2185, accuracy_valid: 0.4004, 25.1250sec\n"
     ]
    },
    {
     "name": "stderr",
     "output_type": "stream",
     "text": [
      "\u001b[32m[I 2022-01-30 20:28:37,898]\u001b[0m Trial 2 finished with value: 1.228107738682253 and parameters: {'hidden_size': 50.0, 'num_layers': 4.0, 'batch_size': 128.0, 'min_lr': 0.022773643002911275, 'optimizer': 'Adam', 'lr': 0.004139869635237494}. Best is trial 0 with value: 1.1670186011020296.\u001b[0m\n"
     ]
    },
    {
     "name": "stdout",
     "output_type": "stream",
     "text": [
      "epoch: 10, loss_train: 1.2459, accuracy_train: 0.4070, loss_valid: 1.2281, accuracy_valid: 0.4019, 25.1770sec\n",
      "epoch: 1, loss_train: 1.2649, accuracy_train: 0.4246, loss_valid: 1.2637, accuracy_valid: 0.4244, 27.7417sec\n",
      "epoch: 2, loss_train: 1.2101, accuracy_train: 0.4214, loss_valid: 1.2089, accuracy_valid: 0.4319, 27.7483sec\n",
      "epoch: 3, loss_train: 1.1870, accuracy_train: 0.4203, loss_valid: 1.1857, accuracy_valid: 0.4281, 27.8209sec\n",
      "epoch: 4, loss_train: 1.1772, accuracy_train: 0.4207, loss_valid: 1.1759, accuracy_valid: 0.4274, 27.7059sec\n",
      "epoch: 5, loss_train: 1.1729, accuracy_train: 0.4207, loss_valid: 1.1716, accuracy_valid: 0.4304, 27.8148sec\n",
      "epoch: 6, loss_train: 1.1707, accuracy_train: 0.4209, loss_valid: 1.1694, accuracy_valid: 0.4296, 27.7452sec\n",
      "epoch: 7, loss_train: 1.1696, accuracy_train: 0.4200, loss_valid: 1.1683, accuracy_valid: 0.4274, 27.5216sec\n",
      "epoch: 8, loss_train: 1.1690, accuracy_train: 0.4209, loss_valid: 1.1677, accuracy_valid: 0.4281, 27.8598sec\n",
      "epoch: 9, loss_train: 1.1688, accuracy_train: 0.4208, loss_valid: 1.1675, accuracy_valid: 0.4266, 27.6434sec\n"
     ]
    },
    {
     "name": "stderr",
     "output_type": "stream",
     "text": [
      "\u001b[32m[I 2022-01-30 20:33:15,320]\u001b[0m Trial 3 finished with value: 1.1674573120778193 and parameters: {'hidden_size': 80.0, 'num_layers': 5.0, 'batch_size': 1024.0, 'min_lr': 2.4240921484684552e-05, 'optimizer': 'SGD', 'lr': 0.01131922354546442}. Best is trial 0 with value: 1.1670186011020296.\u001b[0m\n"
     ]
    },
    {
     "name": "stdout",
     "output_type": "stream",
     "text": [
      "epoch: 10, loss_train: 1.1687, accuracy_train: 0.4208, loss_valid: 1.1675, accuracy_valid: 0.4266, 27.7982sec\n",
      "epoch: 1, loss_train: 1.3269, accuracy_train: 0.3693, loss_valid: 1.3276, accuracy_valid: 0.3735, 15.8640sec\n",
      "epoch: 2, loss_train: 1.2160, accuracy_train: 0.4027, loss_valid: 1.2169, accuracy_valid: 0.4019, 15.8428sec\n",
      "epoch: 3, loss_train: 1.1678, accuracy_train: 0.4223, loss_valid: 1.1667, accuracy_valid: 0.4222, 15.8502sec\n",
      "epoch: 4, loss_train: 1.1779, accuracy_train: 0.4062, loss_valid: 1.1860, accuracy_valid: 0.4132, 15.8483sec\n",
      "epoch: 5, loss_train: 1.2319, accuracy_train: 0.3915, loss_valid: 1.2507, accuracy_valid: 0.3915, 15.8518sec\n",
      "epoch: 6, loss_train: 1.1224, accuracy_train: 0.5446, loss_valid: 1.1518, accuracy_valid: 0.5210, 15.8323sec\n",
      "epoch: 7, loss_train: 1.1684, accuracy_train: 0.5408, loss_valid: 1.2154, accuracy_valid: 0.5187, 15.8221sec\n",
      "epoch: 8, loss_train: 1.1549, accuracy_train: 0.5768, loss_valid: 1.2300, accuracy_valid: 0.5404, 15.9102sec\n",
      "epoch: 9, loss_train: 1.1177, accuracy_train: 0.6025, loss_valid: 1.1960, accuracy_valid: 0.5674, 15.8667sec\n"
     ]
    },
    {
     "name": "stderr",
     "output_type": "stream",
     "text": [
      "\u001b[32m[I 2022-01-30 20:35:53,874]\u001b[0m Trial 4 finished with value: 1.1974503598594202 and parameters: {'hidden_size': 20.0, 'num_layers': 2.0, 'batch_size': 256.0, 'min_lr': 0.0032793060443160305, 'optimizer': 'Adam', 'lr': 7.74626630858388e-05}. Best is trial 0 with value: 1.1670186011020296.\u001b[0m\n"
     ]
    },
    {
     "name": "stdout",
     "output_type": "stream",
     "text": [
      "epoch: 10, loss_train: 1.1340, accuracy_train: 0.5857, loss_valid: 1.1975, accuracy_valid: 0.5599, 15.8477sec\n",
      "epoch: 1, loss_train: 1.3267, accuracy_train: 0.3837, loss_valid: 1.3364, accuracy_valid: 0.3907, 15.8184sec\n",
      "epoch: 2, loss_train: 1.2946, accuracy_train: 0.3983, loss_valid: 1.3043, accuracy_valid: 0.4094, 15.8414sec\n",
      "epoch: 3, loss_train: 1.2720, accuracy_train: 0.4031, loss_valid: 1.2816, accuracy_valid: 0.4154, 15.8122sec\n",
      "epoch: 4, loss_train: 1.2564, accuracy_train: 0.4043, loss_valid: 1.2659, accuracy_valid: 0.4169, 15.9039sec\n",
      "epoch: 5, loss_train: 1.2457, accuracy_train: 0.4043, loss_valid: 1.2551, accuracy_valid: 0.4154, 15.9198sec\n",
      "epoch: 6, loss_train: 1.2387, accuracy_train: 0.4044, loss_valid: 1.2480, accuracy_valid: 0.4132, 15.7919sec\n",
      "epoch: 7, loss_train: 1.2342, accuracy_train: 0.4053, loss_valid: 1.2435, accuracy_valid: 0.4139, 15.9527sec\n",
      "epoch: 8, loss_train: 1.2317, accuracy_train: 0.4061, loss_valid: 1.2409, accuracy_valid: 0.4132, 15.8490sec\n",
      "epoch: 9, loss_train: 1.2304, accuracy_train: 0.4065, loss_valid: 1.2396, accuracy_valid: 0.4117, 15.8928sec\n"
     ]
    },
    {
     "name": "stderr",
     "output_type": "stream",
     "text": [
      "\u001b[32m[I 2022-01-30 20:38:32,382]\u001b[0m Trial 5 finished with value: 1.2390197419567022 and parameters: {'hidden_size': 10.0, 'num_layers': 2.0, 'batch_size': 832.0, 'min_lr': 0.00028275919755516574, 'optimizer': 'SGD', 'lr': 0.010992155559429501}. Best is trial 0 with value: 1.1670186011020296.\u001b[0m\n"
     ]
    },
    {
     "name": "stdout",
     "output_type": "stream",
     "text": [
      "epoch: 10, loss_train: 1.2298, accuracy_train: 0.4068, loss_valid: 1.2390, accuracy_valid: 0.4117, 15.7092sec\n",
      "epoch: 1, loss_train: 1.4279, accuracy_train: 0.1471, loss_valid: 1.4286, accuracy_valid: 0.1557, 15.9041sec\n",
      "epoch: 2, loss_train: 1.4174, accuracy_train: 0.1700, loss_valid: 1.4183, accuracy_valid: 0.1751, 16.0307sec\n",
      "epoch: 3, loss_train: 1.3813, accuracy_train: 0.2762, loss_valid: 1.3826, accuracy_valid: 0.2829, 15.9242sec\n",
      "epoch: 4, loss_train: 1.3215, accuracy_train: 0.4053, loss_valid: 1.3236, accuracy_valid: 0.4034, 15.8937sec\n",
      "epoch: 5, loss_train: 1.2549, accuracy_train: 0.4202, loss_valid: 1.2576, accuracy_valid: 0.4229, 15.7166sec\n",
      "epoch: 6, loss_train: 1.2034, accuracy_train: 0.4199, loss_valid: 1.2060, accuracy_valid: 0.4184, 15.9548sec\n",
      "epoch: 7, loss_train: 1.1773, accuracy_train: 0.4200, loss_valid: 1.1792, accuracy_valid: 0.4259, 15.8157sec\n",
      "epoch: 8, loss_train: 1.1685, accuracy_train: 0.4208, loss_valid: 1.1698, accuracy_valid: 0.4207, 15.7988sec\n",
      "epoch: 9, loss_train: 1.1662, accuracy_train: 0.4222, loss_valid: 1.1672, accuracy_valid: 0.4207, 15.8633sec\n"
     ]
    },
    {
     "name": "stderr",
     "output_type": "stream",
     "text": [
      "\u001b[32m[I 2022-01-30 20:41:11,109]\u001b[0m Trial 6 finished with value: 1.1657964696962677 and parameters: {'hidden_size': 90.0, 'num_layers': 2.0, 'batch_size': 1024.0, 'min_lr': 0.04305117790145214, 'optimizer': 'SGD', 'lr': 1.6504128929549728e-05}. Best is trial 6 with value: 1.1657964696962677.\u001b[0m\n"
     ]
    },
    {
     "name": "stdout",
     "output_type": "stream",
     "text": [
      "epoch: 10, loss_train: 1.1651, accuracy_train: 0.4136, loss_valid: 1.1658, accuracy_valid: 0.4192, 15.8063sec\n",
      "epoch: 1, loss_train: 1.3960, accuracy_train: 0.2012, loss_valid: 1.3996, accuracy_valid: 0.1729, 24.2092sec\n",
      "epoch: 2, loss_train: 1.3911, accuracy_train: 0.2210, loss_valid: 1.3948, accuracy_valid: 0.1841, 24.3362sec\n",
      "epoch: 3, loss_train: 1.3865, accuracy_train: 0.2390, loss_valid: 1.3903, accuracy_valid: 0.2066, 24.3379sec\n",
      "epoch: 4, loss_train: 1.3822, accuracy_train: 0.2579, loss_valid: 1.3861, accuracy_valid: 0.2208, 24.2834sec\n",
      "epoch: 5, loss_train: 1.3784, accuracy_train: 0.2710, loss_valid: 1.3824, accuracy_valid: 0.2410, 24.2952sec\n",
      "epoch: 6, loss_train: 1.3750, accuracy_train: 0.2851, loss_valid: 1.3791, accuracy_valid: 0.2567, 24.3801sec\n",
      "epoch: 7, loss_train: 1.3720, accuracy_train: 0.2991, loss_valid: 1.3761, accuracy_valid: 0.2657, 24.2359sec\n",
      "epoch: 8, loss_train: 1.3694, accuracy_train: 0.3094, loss_valid: 1.3736, accuracy_valid: 0.2769, 24.3224sec\n",
      "epoch: 9, loss_train: 1.3670, accuracy_train: 0.3167, loss_valid: 1.3713, accuracy_valid: 0.2904, 24.2515sec\n"
     ]
    },
    {
     "name": "stderr",
     "output_type": "stream",
     "text": [
      "\u001b[32m[I 2022-01-30 20:45:14,123]\u001b[0m Trial 7 finished with value: 1.3691189713820726 and parameters: {'hidden_size': 60.0, 'num_layers': 4.0, 'batch_size': 256.0, 'min_lr': 4.796703483477973e-05, 'optimizer': 'SGD', 'lr': 9.618087886858199e-05}. Best is trial 6 with value: 1.1657964696962677.\u001b[0m\n"
     ]
    },
    {
     "name": "stdout",
     "output_type": "stream",
     "text": [
      "epoch: 10, loss_train: 1.3648, accuracy_train: 0.3258, loss_valid: 1.3691, accuracy_valid: 0.2979, 24.3414sec\n",
      "epoch: 1, loss_train: 6.9911, accuracy_train: 0.3790, loss_valid: 7.3350, accuracy_valid: 0.3466, 28.0645sec\n",
      "epoch: 2, loss_train: 2.6110, accuracy_train: 0.3663, loss_valid: 3.0988, accuracy_valid: 0.3466, 27.9914sec\n",
      "epoch: 3, loss_train: 5.0430, accuracy_train: 0.3911, loss_valid: 5.3964, accuracy_valid: 0.3615, 28.1530sec\n",
      "epoch: 4, loss_train: 2.5546, accuracy_train: 0.3085, loss_valid: 2.8887, accuracy_valid: 0.3001, 28.0970sec\n",
      "epoch: 5, loss_train: 2.5082, accuracy_train: 0.3913, loss_valid: 2.6948, accuracy_valid: 0.3855, 28.1682sec\n",
      "epoch: 6, loss_train: 2.1333, accuracy_train: 0.3926, loss_valid: 2.3648, accuracy_valid: 0.3885, 28.3312sec\n",
      "epoch: 7, loss_train: 1.8705, accuracy_train: 0.3911, loss_valid: 2.1740, accuracy_valid: 0.3840, 28.0563sec\n",
      "epoch: 8, loss_train: 1.7346, accuracy_train: 0.3907, loss_valid: 2.0589, accuracy_valid: 0.3593, 28.1853sec\n",
      "epoch: 9, loss_train: 1.7240, accuracy_train: 0.4049, loss_valid: 2.0457, accuracy_valid: 0.3855, 28.0636sec\n"
     ]
    },
    {
     "name": "stderr",
     "output_type": "stream",
     "text": [
      "\u001b[32m[I 2022-01-30 20:49:55,361]\u001b[0m Trial 8 finished with value: 2.0410245533443185 and parameters: {'hidden_size': 40.0, 'num_layers': 5.0, 'batch_size': 448.0, 'min_lr': 4.790282609520423e-05, 'optimizer': 'RMSprop', 'lr': 0.058667278277811624}. Best is trial 6 with value: 1.1657964696962677.\u001b[0m\n"
     ]
    },
    {
     "name": "stdout",
     "output_type": "stream",
     "text": [
      "epoch: 10, loss_train: 1.7176, accuracy_train: 0.4053, loss_valid: 2.0410, accuracy_valid: 0.3847, 28.1049sec\n",
      "epoch: 1, loss_train: 1.3977, accuracy_train: 0.2711, loss_valid: 1.4036, accuracy_valid: 0.2448, 24.0043sec\n",
      "epoch: 2, loss_train: 1.3974, accuracy_train: 0.2721, loss_valid: 1.4033, accuracy_valid: 0.2448, 23.8879sec\n",
      "epoch: 3, loss_train: 1.3971, accuracy_train: 0.2736, loss_valid: 1.4030, accuracy_valid: 0.2485, 23.9553sec\n",
      "epoch: 4, loss_train: 1.3968, accuracy_train: 0.2742, loss_valid: 1.4028, accuracy_valid: 0.2500, 23.9336sec\n",
      "epoch: 5, loss_train: 1.3965, accuracy_train: 0.2748, loss_valid: 1.4025, accuracy_valid: 0.2515, 24.0381sec\n",
      "epoch: 6, loss_train: 1.3963, accuracy_train: 0.2748, loss_valid: 1.4022, accuracy_valid: 0.2545, 23.9136sec\n",
      "epoch: 7, loss_train: 1.3960, accuracy_train: 0.2754, loss_valid: 1.4020, accuracy_valid: 0.2545, 23.9459sec\n",
      "epoch: 8, loss_train: 1.3958, accuracy_train: 0.2759, loss_valid: 1.4017, accuracy_valid: 0.2545, 24.0302sec\n",
      "epoch: 9, loss_train: 1.3955, accuracy_train: 0.2763, loss_valid: 1.4015, accuracy_valid: 0.2560, 23.7828sec\n"
     ]
    },
    {
     "name": "stderr",
     "output_type": "stream",
     "text": [
      "\u001b[32m[I 2022-01-30 20:53:54,845]\u001b[0m Trial 9 finished with value: 1.4012742790276418 and parameters: {'hidden_size': 60.0, 'num_layers': 4.0, 'batch_size': 640.0, 'min_lr': 1.1032115691574387e-05, 'optimizer': 'SGD', 'lr': 1.3653296186450255e-05}. Best is trial 6 with value: 1.1657964696962677.\u001b[0m\n"
     ]
    },
    {
     "name": "stdout",
     "output_type": "stream",
     "text": [
      "epoch: 10, loss_train: 1.3953, accuracy_train: 0.2763, loss_valid: 1.4013, accuracy_valid: 0.2567, 23.9689sec\n",
      "epoch: 1, loss_train: 1.3075, accuracy_train: 0.3984, loss_valid: 1.3041, accuracy_valid: 0.3915, 19.8458sec\n",
      "epoch: 2, loss_train: 1.7962, accuracy_train: 0.1130, loss_valid: 1.8043, accuracy_valid: 0.1078, 19.9541sec\n",
      "epoch: 3, loss_train: 2.1016, accuracy_train: 0.3011, loss_valid: 2.1826, accuracy_valid: 0.2934, 19.6893sec\n"
     ]
    },
    {
     "name": "stderr",
     "output_type": "stream",
     "text": [
      "\u001b[32m[I 2022-01-30 20:55:14,080]\u001b[0m Trial 10 finished with value: 7.317129891740782 and parameters: {'hidden_size': 100.0, 'num_layers': 3.0, 'batch_size': 1024.0, 'min_lr': 0.09771458494424784, 'optimizer': 'RMSprop', 'lr': 1.2221289376967635e-05}. Best is trial 6 with value: 1.1657964696962677.\u001b[0m\n"
     ]
    },
    {
     "name": "stdout",
     "output_type": "stream",
     "text": [
      "epoch: 4, loss_train: 7.5043, accuracy_train: 0.3204, loss_valid: 7.3171, accuracy_valid: 0.3226, 19.7089sec\n",
      "epoch: 1, loss_train: 1.3671, accuracy_train: 0.3595, loss_valid: 1.3691, accuracy_valid: 0.3555, 19.7792sec\n",
      "epoch: 2, loss_train: 1.3334, accuracy_train: 0.4137, loss_valid: 1.3352, accuracy_valid: 0.4094, 19.8333sec\n",
      "epoch: 3, loss_train: 1.2489, accuracy_train: 0.4252, loss_valid: 1.2502, accuracy_valid: 0.4207, 19.9542sec\n",
      "epoch: 4, loss_train: 1.1828, accuracy_train: 0.4282, loss_valid: 1.1832, accuracy_valid: 0.4229, 19.9006sec\n",
      "epoch: 5, loss_train: 1.1682, accuracy_train: 0.4267, loss_valid: 1.1679, accuracy_valid: 0.4237, 19.7072sec\n",
      "epoch: 6, loss_train: 1.1680, accuracy_train: 0.4273, loss_valid: 1.1676, accuracy_valid: 0.4222, 19.9376sec\n",
      "epoch: 7, loss_train: 1.1658, accuracy_train: 0.4262, loss_valid: 1.1650, accuracy_valid: 0.4237, 19.9079sec\n",
      "epoch: 8, loss_train: 1.1660, accuracy_train: 0.4189, loss_valid: 1.1651, accuracy_valid: 0.4334, 19.8532sec\n",
      "epoch: 9, loss_train: 1.1636, accuracy_train: 0.4320, loss_valid: 1.1625, accuracy_valid: 0.4379, 19.9403sec\n"
     ]
    },
    {
     "name": "stderr",
     "output_type": "stream",
     "text": [
      "\u001b[32m[I 2022-01-30 20:58:32,721]\u001b[0m Trial 11 finished with value: 1.1647830112073236 and parameters: {'hidden_size': 100.0, 'num_layers': 3.0, 'batch_size': 512.0, 'min_lr': 0.09729229268058791, 'optimizer': 'SGD', 'lr': 0.00012849810312665557}. Best is trial 11 with value: 1.1647830112073236.\u001b[0m\n"
     ]
    },
    {
     "name": "stdout",
     "output_type": "stream",
     "text": [
      "epoch: 10, loss_train: 1.1653, accuracy_train: 0.4305, loss_valid: 1.1648, accuracy_valid: 0.4356, 19.7892sec\n",
      "epoch: 1, loss_train: 1.3978, accuracy_train: 0.2719, loss_valid: 1.4012, accuracy_valid: 0.2522, 16.0407sec\n",
      "epoch: 2, loss_train: 1.3708, accuracy_train: 0.3326, loss_valid: 1.3745, accuracy_valid: 0.3166, 15.8566sec\n",
      "epoch: 3, loss_train: 1.2975, accuracy_train: 0.3816, loss_valid: 1.3018, accuracy_valid: 0.3840, 15.9731sec\n",
      "epoch: 4, loss_train: 1.2104, accuracy_train: 0.3992, loss_valid: 1.2146, accuracy_valid: 0.3772, 16.0196sec\n",
      "epoch: 5, loss_train: 1.1728, accuracy_train: 0.4063, loss_valid: 1.1757, accuracy_valid: 0.3892, 15.9917sec\n",
      "epoch: 6, loss_train: 1.1680, accuracy_train: 0.4020, loss_valid: 1.1701, accuracy_valid: 0.3900, 15.8821sec\n",
      "epoch: 7, loss_train: 1.1669, accuracy_train: 0.4073, loss_valid: 1.1689, accuracy_valid: 0.3885, 16.0282sec\n",
      "epoch: 8, loss_train: 1.1674, accuracy_train: 0.3943, loss_valid: 1.1691, accuracy_valid: 0.3757, 15.8969sec\n",
      "epoch: 9, loss_train: 1.1675, accuracy_train: 0.3999, loss_valid: 1.1695, accuracy_valid: 0.3728, 16.0215sec\n"
     ]
    },
    {
     "name": "stderr",
     "output_type": "stream",
     "text": [
      "\u001b[32m[I 2022-01-30 21:01:12,420]\u001b[0m Trial 12 finished with value: 1.169192876956777 and parameters: {'hidden_size': 80.0, 'num_layers': 2.0, 'batch_size': 640.0, 'min_lr': 0.09623484373505821, 'optimizer': 'SGD', 'lr': 0.0003881941457810236}. Best is trial 11 with value: 1.1647830112073236.\u001b[0m\n"
     ]
    },
    {
     "name": "stdout",
     "output_type": "stream",
     "text": [
      "epoch: 10, loss_train: 1.1672, accuracy_train: 0.4014, loss_valid: 1.1692, accuracy_valid: 0.3743, 15.9510sec\n",
      "epoch: 1, loss_train: 1.3709, accuracy_train: 0.3221, loss_valid: 1.3706, accuracy_valid: 0.3241, 19.8808sec\n",
      "epoch: 2, loss_train: 1.3702, accuracy_train: 0.3245, loss_valid: 1.3699, accuracy_valid: 0.3249, 19.6799sec\n",
      "epoch: 3, loss_train: 1.3687, accuracy_train: 0.3302, loss_valid: 1.3684, accuracy_valid: 0.3308, 19.7804sec\n",
      "epoch: 4, loss_train: 1.3661, accuracy_train: 0.3415, loss_valid: 1.3657, accuracy_valid: 0.3391, 19.7468sec\n",
      "epoch: 5, loss_train: 1.3620, accuracy_train: 0.3537, loss_valid: 1.3616, accuracy_valid: 0.3481, 19.7182sec\n",
      "epoch: 6, loss_train: 1.3565, accuracy_train: 0.3697, loss_valid: 1.3561, accuracy_valid: 0.3615, 19.8226sec\n",
      "epoch: 7, loss_train: 1.3497, accuracy_train: 0.3827, loss_valid: 1.3493, accuracy_valid: 0.3780, 19.7845sec\n",
      "epoch: 8, loss_train: 1.3420, accuracy_train: 0.3940, loss_valid: 1.3415, accuracy_valid: 0.3862, 19.6960sec\n",
      "epoch: 9, loss_train: 1.3336, accuracy_train: 0.3999, loss_valid: 1.3331, accuracy_valid: 0.4019, 19.7920sec\n"
     ]
    },
    {
     "name": "stderr",
     "output_type": "stream",
     "text": [
      "\u001b[32m[I 2022-01-30 21:04:30,170]\u001b[0m Trial 13 finished with value: 1.3245431232059788 and parameters: {'hidden_size': 100.0, 'num_layers': 3.0, 'batch_size': 768.0, 'min_lr': 0.0009398449117989522, 'optimizer': 'SGD', 'lr': 3.6895937331460155e-05}. Best is trial 11 with value: 1.1647830112073236.\u001b[0m\n"
     ]
    },
    {
     "name": "stdout",
     "output_type": "stream",
     "text": [
      "epoch: 10, loss_train: 1.3251, accuracy_train: 0.4032, loss_valid: 1.3245, accuracy_valid: 0.4109, 19.8104sec\n",
      "epoch: 1, loss_train: 1.3823, accuracy_train: 0.2873, loss_valid: 1.3811, accuracy_valid: 0.2799, 16.0227sec\n",
      "epoch: 2, loss_train: 1.3688, accuracy_train: 0.3307, loss_valid: 1.3676, accuracy_valid: 0.3278, 15.9798sec\n",
      "epoch: 3, loss_train: 1.3306, accuracy_train: 0.3973, loss_valid: 1.3295, accuracy_valid: 0.3982, 15.8398sec\n",
      "epoch: 4, loss_train: 1.2702, accuracy_train: 0.4076, loss_valid: 1.2691, accuracy_valid: 0.4049, 16.1646sec\n",
      "epoch: 5, loss_train: 1.2093, accuracy_train: 0.4091, loss_valid: 1.2084, accuracy_valid: 0.4049, 16.0748sec\n",
      "epoch: 6, loss_train: 1.1762, accuracy_train: 0.4118, loss_valid: 1.1754, accuracy_valid: 0.4049, 16.0621sec\n",
      "epoch: 7, loss_train: 1.1676, accuracy_train: 0.4117, loss_valid: 1.1667, accuracy_valid: 0.4042, 16.0491sec\n",
      "epoch: 8, loss_train: 1.1666, accuracy_train: 0.4087, loss_valid: 1.1657, accuracy_valid: 0.4072, 16.0638sec\n",
      "epoch: 9, loss_train: 1.1663, accuracy_train: 0.4091, loss_valid: 1.1654, accuracy_valid: 0.4064, 16.1974sec\n"
     ]
    },
    {
     "name": "stderr",
     "output_type": "stream",
     "text": [
      "\u001b[32m[I 2022-01-30 21:07:10,639]\u001b[0m Trial 14 finished with value: 1.1651050950774176 and parameters: {'hidden_size': 80.0, 'num_layers': 2.0, 'batch_size': 512.0, 'min_lr': 0.040733571544799965, 'optimizer': 'SGD', 'lr': 0.00032401117122214375}. Best is trial 11 with value: 1.1647830112073236.\u001b[0m\n"
     ]
    },
    {
     "name": "stdout",
     "output_type": "stream",
     "text": [
      "epoch: 10, loss_train: 1.1660, accuracy_train: 0.4117, loss_valid: 1.1651, accuracy_valid: 0.4019, 15.9776sec\n",
      "epoch: 1, loss_train: 1.1768, accuracy_train: 0.3913, loss_valid: 1.1765, accuracy_valid: 0.3937, 20.0095sec\n",
      "epoch: 2, loss_train: 1.1845, accuracy_train: 0.3604, loss_valid: 1.1795, accuracy_valid: 0.3698, 19.8958sec\n",
      "epoch: 3, loss_train: 1.4131, accuracy_train: 0.3458, loss_valid: 1.3802, accuracy_valid: 0.3503, 19.8473sec\n",
      "epoch: 4, loss_train: 1.1624, accuracy_train: 0.4239, loss_valid: 1.1686, accuracy_valid: 0.4139, 20.0423sec\n",
      "epoch: 5, loss_train: 1.1848, accuracy_train: 0.3990, loss_valid: 1.1893, accuracy_valid: 0.3862, 19.9751sec\n",
      "epoch: 6, loss_train: 1.1876, accuracy_train: 0.4232, loss_valid: 1.1890, accuracy_valid: 0.4222, 19.9098sec\n",
      "epoch: 7, loss_train: 1.1683, accuracy_train: 0.3902, loss_valid: 1.1722, accuracy_valid: 0.3862, 19.8468sec\n",
      "epoch: 8, loss_train: 1.1371, accuracy_train: 0.5109, loss_valid: 1.1495, accuracy_valid: 0.4820, 19.9293sec\n",
      "epoch: 9, loss_train: 1.5195, accuracy_train: 0.3552, loss_valid: 1.5289, accuracy_valid: 0.3585, 19.9361sec\n"
     ]
    },
    {
     "name": "stderr",
     "output_type": "stream",
     "text": [
      "\u001b[32m[I 2022-01-30 21:10:29,940]\u001b[0m Trial 15 finished with value: 1.2628870558685172 and parameters: {'hidden_size': 70.0, 'num_layers': 3.0, 'batch_size': 512.0, 'min_lr': 0.005158632055726088, 'optimizer': 'RMSprop', 'lr': 0.0018041288034376848}. Best is trial 11 with value: 1.1647830112073236.\u001b[0m\n"
     ]
    },
    {
     "name": "stdout",
     "output_type": "stream",
     "text": [
      "epoch: 10, loss_train: 1.2677, accuracy_train: 0.4169, loss_valid: 1.2629, accuracy_valid: 0.4184, 19.8688sec\n",
      "epoch: 1, loss_train: 1.3507, accuracy_train: 0.3798, loss_valid: 1.3476, accuracy_valid: 0.3743, 16.1604sec\n",
      "epoch: 2, loss_train: 1.3460, accuracy_train: 0.3873, loss_valid: 1.3430, accuracy_valid: 0.3757, 16.1941sec\n",
      "epoch: 3, loss_train: 1.3390, accuracy_train: 0.3952, loss_valid: 1.3361, accuracy_valid: 0.3862, 16.1671sec\n",
      "epoch: 4, loss_train: 1.3288, accuracy_train: 0.4041, loss_valid: 1.3260, accuracy_valid: 0.3967, 16.2708sec\n",
      "epoch: 5, loss_train: 1.3151, accuracy_train: 0.4115, loss_valid: 1.3126, accuracy_valid: 0.4102, 16.1544sec\n",
      "epoch: 6, loss_train: 1.2985, accuracy_train: 0.4180, loss_valid: 1.2962, accuracy_valid: 0.4192, 16.2920sec\n",
      "epoch: 7, loss_train: 1.2800, accuracy_train: 0.4191, loss_valid: 1.2781, accuracy_valid: 0.4289, 16.2170sec\n",
      "epoch: 8, loss_train: 1.2612, accuracy_train: 0.4196, loss_valid: 1.2594, accuracy_valid: 0.4311, 16.0595sec\n",
      "epoch: 9, loss_train: 1.2433, accuracy_train: 0.4192, loss_valid: 1.2417, accuracy_valid: 0.4326, 16.1302sec\n"
     ]
    },
    {
     "name": "stderr",
     "output_type": "stream",
     "text": [
      "\u001b[32m[I 2022-01-30 21:13:11,823]\u001b[0m Trial 16 finished with value: 1.2262053637358243 and parameters: {'hidden_size': 80.0, 'num_layers': 2.0, 'batch_size': 320.0, 'min_lr': 0.0024142168897395566, 'optimizer': 'SGD', 'lr': 0.0002376811713142408}. Best is trial 11 with value: 1.1647830112073236.\u001b[0m\n"
     ]
    },
    {
     "name": "stdout",
     "output_type": "stream",
     "text": [
      "epoch: 10, loss_train: 1.2277, accuracy_train: 0.4166, loss_valid: 1.2262, accuracy_valid: 0.4289, 16.2020sec\n",
      "epoch: 1, loss_train: 1.3916, accuracy_train: 0.2313, loss_valid: 1.3960, accuracy_valid: 0.2410, 19.7923sec\n",
      "epoch: 2, loss_train: 1.3628, accuracy_train: 0.3488, loss_valid: 1.3676, accuracy_valid: 0.3353, 19.8522sec\n",
      "epoch: 3, loss_train: 1.3129, accuracy_train: 0.4098, loss_valid: 1.3182, accuracy_valid: 0.3907, 19.8283sec\n",
      "epoch: 4, loss_train: 1.2487, accuracy_train: 0.4115, loss_valid: 1.2546, accuracy_valid: 0.4079, 19.8815sec\n",
      "epoch: 5, loss_train: 1.1952, accuracy_train: 0.4142, loss_valid: 1.2009, accuracy_valid: 0.4079, 19.8166sec\n",
      "epoch: 6, loss_train: 1.1712, accuracy_train: 0.4141, loss_valid: 1.1762, accuracy_valid: 0.4057, 19.7388sec\n",
      "epoch: 7, loss_train: 1.1651, accuracy_train: 0.4145, loss_valid: 1.1697, accuracy_valid: 0.4064, 19.8028sec\n",
      "epoch: 8, loss_train: 1.1645, accuracy_train: 0.4140, loss_valid: 1.1691, accuracy_valid: 0.4109, 19.8359sec\n",
      "epoch: 9, loss_train: 1.1637, accuracy_train: 0.4112, loss_valid: 1.1682, accuracy_valid: 0.4034, 19.7733sec\n"
     ]
    },
    {
     "name": "stderr",
     "output_type": "stream",
     "text": [
      "\u001b[32m[I 2022-01-30 21:16:29,938]\u001b[0m Trial 17 finished with value: 1.1692487224044201 and parameters: {'hidden_size': 100.0, 'num_layers': 3.0, 'batch_size': 640.0, 'min_lr': 0.03727598128768002, 'optimizer': 'SGD', 'lr': 0.0013947622949880873}. Best is trial 11 with value: 1.1647830112073236.\u001b[0m\n"
     ]
    },
    {
     "name": "stdout",
     "output_type": "stream",
     "text": [
      "epoch: 10, loss_train: 1.1646, accuracy_train: 0.4106, loss_valid: 1.1692, accuracy_valid: 0.3960, 19.7500sec\n",
      "epoch: 1, loss_train: 1.2363, accuracy_train: 0.4000, loss_valid: 1.2740, accuracy_valid: 0.3975, 15.8987sec\n",
      "epoch: 2, loss_train: 1.1609, accuracy_train: 0.4921, loss_valid: 1.1991, accuracy_valid: 0.4753, 16.0711sec\n",
      "epoch: 3, loss_train: 1.1120, accuracy_train: 0.5465, loss_valid: 1.1499, accuracy_valid: 0.5217, 16.0981sec\n",
      "epoch: 4, loss_train: 1.0552, accuracy_train: 0.6103, loss_valid: 1.1020, accuracy_valid: 0.5831, 16.1826sec\n",
      "epoch: 5, loss_train: 1.0791, accuracy_train: 0.6111, loss_valid: 1.1339, accuracy_valid: 0.5801, 16.0755sec\n",
      "epoch: 6, loss_train: 1.1029, accuracy_train: 0.5578, loss_valid: 1.1608, accuracy_valid: 0.5337, 16.0882sec\n",
      "epoch: 7, loss_train: 1.0041, accuracy_train: 0.6115, loss_valid: 1.0570, accuracy_valid: 0.5786, 16.1080sec\n",
      "epoch: 8, loss_train: 1.0190, accuracy_train: 0.6013, loss_valid: 1.0970, accuracy_valid: 0.5659, 15.9405sec\n",
      "epoch: 9, loss_train: 0.9733, accuracy_train: 0.6302, loss_valid: 1.0525, accuracy_valid: 0.5921, 16.0901sec\n"
     ]
    },
    {
     "name": "stderr",
     "output_type": "stream",
     "text": [
      "\u001b[32m[I 2022-01-30 21:19:10,443]\u001b[0m Trial 18 finished with value: 1.1269427166392882 and parameters: {'hidden_size': 70.0, 'num_layers': 2.0, 'batch_size': 512.0, 'min_lr': 0.0005855979649919509, 'optimizer': 'RMSprop', 'lr': 0.000290621657961563}. Best is trial 18 with value: 1.1269427166392882.\u001b[0m\n"
     ]
    },
    {
     "name": "stdout",
     "output_type": "stream",
     "text": [
      "epoch: 10, loss_train: 1.0181, accuracy_train: 0.5972, loss_valid: 1.1269, accuracy_valid: 0.5434, 15.9129sec\n",
      "epoch: 1, loss_train: 1.1653, accuracy_train: 0.4225, loss_valid: 1.1699, accuracy_valid: 0.4162, 20.7608sec\n",
      "epoch: 2, loss_train: 1.1742, accuracy_train: 0.3955, loss_valid: 1.1834, accuracy_valid: 0.3982, 20.6963sec\n",
      "epoch: 3, loss_train: 1.1899, accuracy_train: 0.4025, loss_valid: 1.2150, accuracy_valid: 0.4004, 20.7337sec\n",
      "epoch: 4, loss_train: 1.1187, accuracy_train: 0.5139, loss_valid: 1.1435, accuracy_valid: 0.5015, 20.6790sec\n",
      "epoch: 5, loss_train: 0.9923, accuracy_train: 0.6291, loss_valid: 1.0222, accuracy_valid: 0.6055, 20.7266sec\n",
      "epoch: 6, loss_train: 1.0782, accuracy_train: 0.5652, loss_valid: 1.1320, accuracy_valid: 0.5374, 20.7175sec\n",
      "epoch: 7, loss_train: 0.9847, accuracy_train: 0.6359, loss_valid: 1.0477, accuracy_valid: 0.6078, 20.7664sec\n",
      "epoch: 8, loss_train: 0.9376, accuracy_train: 0.6585, loss_valid: 1.0123, accuracy_valid: 0.6280, 20.7093sec\n",
      "epoch: 9, loss_train: 0.9601, accuracy_train: 0.6382, loss_valid: 1.0301, accuracy_valid: 0.6093, 20.6912sec\n"
     ]
    },
    {
     "name": "stderr",
     "output_type": "stream",
     "text": [
      "\u001b[32m[I 2022-01-30 21:22:37,654]\u001b[0m Trial 19 finished with value: 1.0049202118437002 and parameters: {'hidden_size': 50.0, 'num_layers': 3.0, 'batch_size': 64.0, 'min_lr': 0.0003142913328109574, 'optimizer': 'RMSprop', 'lr': 4.7847959254919e-05}. Best is trial 19 with value: 1.0049202118437002.\u001b[0m\n"
     ]
    },
    {
     "name": "stdout",
     "output_type": "stream",
     "text": [
      "epoch: 10, loss_train: 0.9117, accuracy_train: 0.6639, loss_valid: 1.0049, accuracy_valid: 0.6190, 20.6898sec\n",
      "epoch: 1, loss_train: 1.1671, accuracy_train: 0.3991, loss_valid: 1.1696, accuracy_valid: 0.3952, 25.0474sec\n",
      "epoch: 2, loss_train: 1.1725, accuracy_train: 0.4150, loss_valid: 1.1883, accuracy_valid: 0.4251, 25.1130sec\n",
      "epoch: 3, loss_train: 1.1760, accuracy_train: 0.4476, loss_valid: 1.2106, accuracy_valid: 0.4506, 25.0681sec\n",
      "epoch: 4, loss_train: 1.1488, accuracy_train: 0.5053, loss_valid: 1.1769, accuracy_valid: 0.5082, 25.1320sec\n",
      "epoch: 5, loss_train: 1.1669, accuracy_train: 0.5060, loss_valid: 1.2051, accuracy_valid: 0.5015, 25.1283sec\n",
      "epoch: 6, loss_train: 1.2521, accuracy_train: 0.4991, loss_valid: 1.2857, accuracy_valid: 0.4963, 25.1285sec\n",
      "epoch: 7, loss_train: 1.1034, accuracy_train: 0.5614, loss_valid: 1.1303, accuracy_valid: 0.5561, 25.0827sec\n",
      "epoch: 8, loss_train: 1.1013, accuracy_train: 0.5724, loss_valid: 1.1506, accuracy_valid: 0.5584, 25.0859sec\n",
      "epoch: 9, loss_train: 1.1358, accuracy_train: 0.5499, loss_valid: 1.2001, accuracy_valid: 0.5374, 25.0515sec\n"
     ]
    },
    {
     "name": "stderr",
     "output_type": "stream",
     "text": [
      "\u001b[32m[I 2022-01-30 21:26:48,625]\u001b[0m Trial 20 finished with value: 1.0687050428241491 and parameters: {'hidden_size': 50.0, 'num_layers': 4.0, 'batch_size': 64.0, 'min_lr': 0.0003289924837629117, 'optimizer': 'RMSprop', 'lr': 4.1696240585307503e-05}. Best is trial 19 with value: 1.0049202118437002.\u001b[0m\n"
     ]
    },
    {
     "name": "stdout",
     "output_type": "stream",
     "text": [
      "epoch: 10, loss_train: 0.9992, accuracy_train: 0.6176, loss_valid: 1.0687, accuracy_valid: 0.5966, 25.0945sec\n",
      "epoch: 1, loss_train: 1.1618, accuracy_train: 0.4162, loss_valid: 1.1605, accuracy_valid: 0.4341, 25.0640sec\n",
      "epoch: 2, loss_train: 1.1610, accuracy_train: 0.4339, loss_valid: 1.1705, accuracy_valid: 0.4177, 25.0381sec\n",
      "epoch: 3, loss_train: 1.1510, accuracy_train: 0.4655, loss_valid: 1.1785, accuracy_valid: 0.4499, 25.0727sec\n",
      "epoch: 4, loss_train: 1.0650, accuracy_train: 0.5728, loss_valid: 1.0876, accuracy_valid: 0.5599, 25.1020sec\n",
      "epoch: 5, loss_train: 1.0052, accuracy_train: 0.6227, loss_valid: 1.0321, accuracy_valid: 0.6055, 25.0739sec\n",
      "epoch: 6, loss_train: 1.0485, accuracy_train: 0.6047, loss_valid: 1.1211, accuracy_valid: 0.5734, 25.1117sec\n",
      "epoch: 7, loss_train: 1.2256, accuracy_train: 0.5244, loss_valid: 1.2845, accuracy_valid: 0.5150, 25.0800sec\n",
      "epoch: 8, loss_train: 1.1219, accuracy_train: 0.5723, loss_valid: 1.1820, accuracy_valid: 0.5576, 25.0871sec\n",
      "epoch: 9, loss_train: 0.9651, accuracy_train: 0.6502, loss_valid: 1.0408, accuracy_valid: 0.6093, 25.0409sec\n"
     ]
    },
    {
     "name": "stderr",
     "output_type": "stream",
     "text": [
      "\u001b[32m[I 2022-01-30 21:30:59,418]\u001b[0m Trial 21 finished with value: 1.016098532401873 and parameters: {'hidden_size': 50.0, 'num_layers': 4.0, 'batch_size': 64.0, 'min_lr': 0.0002963047609338001, 'optimizer': 'RMSprop', 'lr': 3.304788445638084e-05}. Best is trial 19 with value: 1.0049202118437002.\u001b[0m\n"
     ]
    },
    {
     "name": "stdout",
     "output_type": "stream",
     "text": [
      "epoch: 10, loss_train: 0.9609, accuracy_train: 0.6469, loss_valid: 1.0161, accuracy_valid: 0.6145, 25.0836sec\n",
      "epoch: 1, loss_train: 1.1617, accuracy_train: 0.4363, loss_valid: 1.1651, accuracy_valid: 0.4169, 25.0486sec\n",
      "epoch: 2, loss_train: 1.1719, accuracy_train: 0.4098, loss_valid: 1.1877, accuracy_valid: 0.3990, 25.0976sec\n",
      "epoch: 3, loss_train: 1.1871, accuracy_train: 0.4269, loss_valid: 1.2230, accuracy_valid: 0.4169, 25.0555sec\n",
      "epoch: 4, loss_train: 1.1214, accuracy_train: 0.5106, loss_valid: 1.1521, accuracy_valid: 0.4895, 25.0889sec\n",
      "epoch: 5, loss_train: 1.0778, accuracy_train: 0.5558, loss_valid: 1.1170, accuracy_valid: 0.5344, 25.0315sec\n",
      "epoch: 6, loss_train: 1.0868, accuracy_train: 0.5488, loss_valid: 1.1274, accuracy_valid: 0.5292, 25.1197sec\n",
      "epoch: 7, loss_train: 1.0350, accuracy_train: 0.5831, loss_valid: 1.0691, accuracy_valid: 0.5659, 25.0289sec\n",
      "epoch: 8, loss_train: 0.9952, accuracy_train: 0.6111, loss_valid: 1.0335, accuracy_valid: 0.5966, 25.0899sec\n",
      "epoch: 9, loss_train: 1.0195, accuracy_train: 0.5969, loss_valid: 1.0992, accuracy_valid: 0.5681, 25.0114sec\n"
     ]
    },
    {
     "name": "stderr",
     "output_type": "stream",
     "text": [
      "\u001b[32m[I 2022-01-30 21:35:10,052]\u001b[0m Trial 22 finished with value: 1.0487954591841486 and parameters: {'hidden_size': 40.0, 'num_layers': 4.0, 'batch_size': 64.0, 'min_lr': 0.0002497391763981589, 'optimizer': 'RMSprop', 'lr': 3.648403195729291e-05}. Best is trial 19 with value: 1.0049202118437002.\u001b[0m\n"
     ]
    },
    {
     "name": "stdout",
     "output_type": "stream",
     "text": [
      "epoch: 10, loss_train: 0.9798, accuracy_train: 0.6218, loss_valid: 1.0488, accuracy_valid: 0.5921, 25.0234sec\n",
      "epoch: 1, loss_train: 1.1672, accuracy_train: 0.4091, loss_valid: 1.1674, accuracy_valid: 0.4064, 25.1223sec\n",
      "epoch: 2, loss_train: 1.1652, accuracy_train: 0.4019, loss_valid: 1.1665, accuracy_valid: 0.3907, 25.0529sec\n",
      "epoch: 3, loss_train: 1.1661, accuracy_train: 0.4389, loss_valid: 1.1850, accuracy_valid: 0.4491, 25.1860sec\n",
      "epoch: 4, loss_train: 1.1857, accuracy_train: 0.4233, loss_valid: 1.2168, accuracy_valid: 0.4214, 25.1368sec\n",
      "epoch: 5, loss_train: 1.1883, accuracy_train: 0.4467, loss_valid: 1.2052, accuracy_valid: 0.4446, 25.1387sec\n",
      "epoch: 6, loss_train: 1.1729, accuracy_train: 0.4732, loss_valid: 1.1902, accuracy_valid: 0.4618, 25.1042sec\n",
      "epoch: 7, loss_train: 1.1843, accuracy_train: 0.4744, loss_valid: 1.2055, accuracy_valid: 0.4573, 25.1103sec\n",
      "epoch: 8, loss_train: 1.0998, accuracy_train: 0.5402, loss_valid: 1.1267, accuracy_valid: 0.5210, 25.0506sec\n",
      "epoch: 9, loss_train: 1.1940, accuracy_train: 0.5025, loss_valid: 1.2330, accuracy_valid: 0.4850, 25.0310sec\n"
     ]
    },
    {
     "name": "stderr",
     "output_type": "stream",
     "text": [
      "\u001b[32m[I 2022-01-30 21:39:21,156]\u001b[0m Trial 23 finished with value: 1.2195458532294292 and parameters: {'hidden_size': 40.0, 'num_layers': 4.0, 'batch_size': 128.0, 'min_lr': 0.00013402663018473803, 'optimizer': 'RMSprop', 'lr': 3.8374012931029676e-05}. Best is trial 19 with value: 1.0049202118437002.\u001b[0m\n"
     ]
    },
    {
     "name": "stdout",
     "output_type": "stream",
     "text": [
      "epoch: 10, loss_train: 1.1648, accuracy_train: 0.5293, loss_valid: 1.2195, accuracy_valid: 0.5112, 25.1307sec\n",
      "epoch: 1, loss_train: 1.1647, accuracy_train: 0.4346, loss_valid: 1.1635, accuracy_valid: 0.4319, 25.1568sec\n",
      "epoch: 2, loss_train: 1.1618, accuracy_train: 0.4376, loss_valid: 1.1607, accuracy_valid: 0.4259, 25.1627sec\n",
      "epoch: 3, loss_train: 1.1583, accuracy_train: 0.4290, loss_valid: 1.1579, accuracy_valid: 0.4199, 25.1160sec\n",
      "epoch: 4, loss_train: 1.1686, accuracy_train: 0.4146, loss_valid: 1.1870, accuracy_valid: 0.4087, 25.0651sec\n",
      "epoch: 5, loss_train: 1.1781, accuracy_train: 0.4410, loss_valid: 1.2162, accuracy_valid: 0.4326, 25.1351sec\n",
      "epoch: 6, loss_train: 1.1105, accuracy_train: 0.5402, loss_valid: 1.1499, accuracy_valid: 0.5269, 25.1545sec\n",
      "epoch: 7, loss_train: 1.0442, accuracy_train: 0.5887, loss_valid: 1.0828, accuracy_valid: 0.5659, 25.1206sec\n",
      "epoch: 8, loss_train: 1.0991, accuracy_train: 0.5621, loss_valid: 1.1475, accuracy_valid: 0.5449, 25.0784sec\n",
      "epoch: 9, loss_train: 1.0197, accuracy_train: 0.6065, loss_valid: 1.0720, accuracy_valid: 0.5801, 25.0132sec\n"
     ]
    },
    {
     "name": "stderr",
     "output_type": "stream",
     "text": [
      "\u001b[32m[I 2022-01-30 21:43:32,262]\u001b[0m Trial 24 finished with value: 1.0145520946557471 and parameters: {'hidden_size': 40.0, 'num_layers': 4.0, 'batch_size': 64.0, 'min_lr': 0.0001249821641370871, 'optimizer': 'RMSprop', 'lr': 3.301920659338678e-05}. Best is trial 19 with value: 1.0049202118437002.\u001b[0m\n"
     ]
    },
    {
     "name": "stdout",
     "output_type": "stream",
     "text": [
      "epoch: 10, loss_train: 0.9674, accuracy_train: 0.6418, loss_valid: 1.0146, accuracy_valid: 0.6100, 25.0640sec\n",
      "epoch: 1, loss_train: 1.2283, accuracy_train: 0.3881, loss_valid: 1.2267, accuracy_valid: 0.3660, 24.5728sec\n",
      "epoch: 2, loss_train: 1.1949, accuracy_train: 0.3920, loss_valid: 1.1938, accuracy_valid: 0.3728, 24.6185sec\n",
      "epoch: 3, loss_train: 1.1781, accuracy_train: 0.4011, loss_valid: 1.1775, accuracy_valid: 0.3892, 24.6374sec\n",
      "epoch: 4, loss_train: 1.1715, accuracy_train: 0.4064, loss_valid: 1.1713, accuracy_valid: 0.4004, 24.8602sec\n",
      "epoch: 5, loss_train: 1.1696, accuracy_train: 0.4087, loss_valid: 1.1698, accuracy_valid: 0.3952, 24.7063sec\n",
      "epoch: 6, loss_train: 1.1706, accuracy_train: 0.4075, loss_valid: 1.1711, accuracy_valid: 0.3915, 24.6727sec\n",
      "epoch: 7, loss_train: 1.1738, accuracy_train: 0.4040, loss_valid: 1.1762, accuracy_valid: 0.3952, 24.6260sec\n"
     ]
    },
    {
     "name": "stderr",
     "output_type": "stream",
     "text": [
      "\u001b[32m[I 2022-01-30 21:46:49,694]\u001b[0m Trial 25 finished with value: 1.2205702124866182 and parameters: {'hidden_size': 30.0, 'num_layers': 4.0, 'batch_size': 192.0, 'min_lr': 0.00011484717841314436, 'optimizer': 'RMSprop', 'lr': 2.3248287776695077e-05}. Best is trial 19 with value: 1.0049202118437002.\u001b[0m\n"
     ]
    },
    {
     "name": "stdout",
     "output_type": "stream",
     "text": [
      "epoch: 8, loss_train: 1.2080, accuracy_train: 0.3980, loss_valid: 1.2206, accuracy_valid: 0.3997, 24.7002sec\n",
      "epoch: 1, loss_train: 1.1758, accuracy_train: 0.3996, loss_valid: 1.1878, accuracy_valid: 0.3982, 28.6723sec\n",
      "epoch: 2, loss_train: 1.1410, accuracy_train: 0.5183, loss_valid: 1.1968, accuracy_valid: 0.4805, 28.7033sec\n",
      "epoch: 3, loss_train: 1.0744, accuracy_train: 0.5682, loss_valid: 1.1112, accuracy_valid: 0.5442, 28.7226sec\n",
      "epoch: 4, loss_train: 1.0117, accuracy_train: 0.6358, loss_valid: 1.0421, accuracy_valid: 0.6055, 28.7759sec\n",
      "epoch: 5, loss_train: 1.2228, accuracy_train: 0.5064, loss_valid: 1.2681, accuracy_valid: 0.4970, 28.7506sec\n",
      "epoch: 6, loss_train: 0.9599, accuracy_train: 0.6579, loss_valid: 1.0342, accuracy_valid: 0.6123, 28.7829sec\n",
      "epoch: 7, loss_train: 1.0368, accuracy_train: 0.5922, loss_valid: 1.1150, accuracy_valid: 0.5569, 28.7107sec\n",
      "epoch: 8, loss_train: 0.9101, accuracy_train: 0.6762, loss_valid: 0.9722, accuracy_valid: 0.6415, 28.7356sec\n",
      "epoch: 9, loss_train: 1.0773, accuracy_train: 0.5760, loss_valid: 1.0957, accuracy_valid: 0.5681, 28.7493sec\n"
     ]
    },
    {
     "name": "stderr",
     "output_type": "stream",
     "text": [
      "\u001b[32m[I 2022-01-30 21:51:37,009]\u001b[0m Trial 26 finished with value: 1.0288477940429113 and parameters: {'hidden_size': 50.0, 'num_layers': 5.0, 'batch_size': 192.0, 'min_lr': 0.0013343924185428796, 'optimizer': 'RMSprop', 'lr': 6.899367273586599e-05}. Best is trial 19 with value: 1.0049202118437002.\u001b[0m\n"
     ]
    },
    {
     "name": "stdout",
     "output_type": "stream",
     "text": [
      "epoch: 10, loss_train: 0.9448, accuracy_train: 0.6625, loss_valid: 1.0288, accuracy_valid: 0.6183, 28.6705sec\n",
      "epoch: 1, loss_train: 1.1763, accuracy_train: 0.4175, loss_valid: 1.1999, accuracy_valid: 0.4102, 25.0671sec\n",
      "epoch: 2, loss_train: 1.1148, accuracy_train: 0.5284, loss_valid: 1.1309, accuracy_valid: 0.5165, 24.9908sec\n",
      "epoch: 3, loss_train: 1.0246, accuracy_train: 0.6065, loss_valid: 1.0525, accuracy_valid: 0.5868, 25.1164sec\n",
      "epoch: 4, loss_train: 1.0801, accuracy_train: 0.5586, loss_valid: 1.1015, accuracy_valid: 0.5479, 25.0216sec\n",
      "epoch: 5, loss_train: 1.0210, accuracy_train: 0.6083, loss_valid: 1.0541, accuracy_valid: 0.5898, 25.1374sec\n",
      "epoch: 6, loss_train: 0.9981, accuracy_train: 0.6253, loss_valid: 1.0342, accuracy_valid: 0.6033, 25.0614sec\n",
      "epoch: 7, loss_train: 1.0204, accuracy_train: 0.6073, loss_valid: 1.0611, accuracy_valid: 0.5876, 24.9967sec\n",
      "epoch: 8, loss_train: 0.9863, accuracy_train: 0.6294, loss_valid: 1.0268, accuracy_valid: 0.6078, 25.0668sec\n",
      "epoch: 9, loss_train: 1.0341, accuracy_train: 0.5987, loss_valid: 1.0822, accuracy_valid: 0.5771, 25.0427sec\n"
     ]
    },
    {
     "name": "stderr",
     "output_type": "stream",
     "text": [
      "\u001b[32m[I 2022-01-30 21:55:47,683]\u001b[0m Trial 27 finished with value: 1.0666781867558728 and parameters: {'hidden_size': 30.0, 'num_layers': 4.0, 'batch_size': 64.0, 'min_lr': 0.00010119759620278743, 'optimizer': 'RMSprop', 'lr': 0.00015895765542539813}. Best is trial 19 with value: 1.0049202118437002.\u001b[0m\n"
     ]
    },
    {
     "name": "stdout",
     "output_type": "stream",
     "text": [
      "epoch: 10, loss_train: 1.0193, accuracy_train: 0.6102, loss_valid: 1.0667, accuracy_valid: 0.5906, 25.1367sec\n",
      "epoch: 1, loss_train: 1.1926, accuracy_train: 0.4196, loss_valid: 1.1932, accuracy_valid: 0.4124, 20.3423sec\n",
      "epoch: 2, loss_train: 1.1678, accuracy_train: 0.4275, loss_valid: 1.1702, accuracy_valid: 0.4259, 20.4261sec\n",
      "epoch: 3, loss_train: 1.1693, accuracy_train: 0.4588, loss_valid: 1.2109, accuracy_valid: 0.4379, 20.3803sec\n",
      "epoch: 4, loss_train: 1.0586, accuracy_train: 0.5806, loss_valid: 1.0973, accuracy_valid: 0.5576, 20.3868sec\n",
      "epoch: 5, loss_train: 1.1458, accuracy_train: 0.5050, loss_valid: 1.1959, accuracy_valid: 0.4858, 20.5123sec\n",
      "epoch: 6, loss_train: 1.1042, accuracy_train: 0.5452, loss_valid: 1.1669, accuracy_valid: 0.5180, 20.4620sec\n",
      "epoch: 7, loss_train: 1.0681, accuracy_train: 0.5749, loss_valid: 1.1330, accuracy_valid: 0.5479, 20.4185sec\n",
      "epoch: 8, loss_train: 1.0676, accuracy_train: 0.5590, loss_valid: 1.1162, accuracy_valid: 0.5314, 20.4051sec\n",
      "epoch: 9, loss_train: 1.0277, accuracy_train: 0.5907, loss_valid: 1.1335, accuracy_valid: 0.5561, 20.3738sec\n"
     ]
    },
    {
     "name": "stderr",
     "output_type": "stream",
     "text": [
      "\u001b[32m[I 2022-01-30 21:59:11,883]\u001b[0m Trial 28 finished with value: 1.1205908674077538 and parameters: {'hidden_size': 60.0, 'num_layers': 3.0, 'batch_size': 192.0, 'min_lr': 0.0006847934664648764, 'optimizer': 'RMSprop', 'lr': 2.2586991202795433e-05}. Best is trial 19 with value: 1.0049202118437002.\u001b[0m\n"
     ]
    },
    {
     "name": "stdout",
     "output_type": "stream",
     "text": [
      "epoch: 10, loss_train: 1.0115, accuracy_train: 0.5984, loss_valid: 1.1206, accuracy_valid: 0.5696, 20.4522sec\n",
      "epoch: 1, loss_train: 1.2324, accuracy_train: 0.3889, loss_valid: 1.2756, accuracy_valid: 0.3668, 24.1964sec\n",
      "epoch: 2, loss_train: 1.1372, accuracy_train: 0.5677, loss_valid: 1.1891, accuracy_valid: 0.5442, 24.1222sec\n",
      "epoch: 3, loss_train: 1.0889, accuracy_train: 0.6042, loss_valid: 1.1449, accuracy_valid: 0.5771, 24.1506sec\n",
      "epoch: 4, loss_train: 1.0353, accuracy_train: 0.6260, loss_valid: 1.0742, accuracy_valid: 0.6025, 24.0044sec\n",
      "epoch: 5, loss_train: 1.0142, accuracy_train: 0.6396, loss_valid: 1.0670, accuracy_valid: 0.6063, 24.0685sec\n",
      "epoch: 6, loss_train: 1.0533, accuracy_train: 0.6162, loss_valid: 1.1014, accuracy_valid: 0.5898, 24.1707sec\n",
      "epoch: 7, loss_train: 1.0326, accuracy_train: 0.6270, loss_valid: 1.0915, accuracy_valid: 0.6003, 24.2062sec\n",
      "epoch: 8, loss_train: 1.0143, accuracy_train: 0.6391, loss_valid: 1.0690, accuracy_valid: 0.6138, 24.1148sec\n",
      "epoch: 9, loss_train: 1.0081, accuracy_train: 0.6428, loss_valid: 1.0659, accuracy_valid: 0.6175, 24.0818sec\n"
     ]
    },
    {
     "name": "stderr",
     "output_type": "stream",
     "text": [
      "\u001b[32m[I 2022-01-30 22:03:13,159]\u001b[0m Trial 29 finished with value: 1.0653480151054744 and parameters: {'hidden_size': 20.0, 'num_layers': 4.0, 'batch_size': 384.0, 'min_lr': 4.635744700820419e-05, 'optimizer': 'RMSprop', 'lr': 0.0005839965327555538}. Best is trial 19 with value: 1.0049202118437002.\u001b[0m\n"
     ]
    },
    {
     "name": "stdout",
     "output_type": "stream",
     "text": [
      "epoch: 10, loss_train: 1.0077, accuracy_train: 0.6423, loss_valid: 1.0653, accuracy_valid: 0.6183, 24.1197sec\n",
      "epoch: 1, loss_train: 1.1865, accuracy_train: 0.4065, loss_valid: 1.1883, accuracy_valid: 0.4139, 20.0446sec\n",
      "epoch: 2, loss_train: 1.1748, accuracy_train: 0.4054, loss_valid: 1.1765, accuracy_valid: 0.4057, 20.1607sec\n",
      "epoch: 3, loss_train: 1.1745, accuracy_train: 0.4141, loss_valid: 1.1796, accuracy_valid: 0.4124, 20.0977sec\n",
      "epoch: 4, loss_train: 1.1922, accuracy_train: 0.3940, loss_valid: 1.2136, accuracy_valid: 0.3765, 20.1250sec\n"
     ]
    },
    {
     "name": "stderr",
     "output_type": "stream",
     "text": [
      "\u001b[32m[I 2022-01-30 22:04:53,672]\u001b[0m Trial 30 finished with value: 1.2375749300518435 and parameters: {'hidden_size': 40.0, 'num_layers': 3.0, 'batch_size': 320.0, 'min_lr': 0.0004102880816856885, 'optimizer': 'RMSprop', 'lr': 6.235405325277169e-05}. Best is trial 19 with value: 1.0049202118437002.\u001b[0m\n"
     ]
    },
    {
     "name": "stdout",
     "output_type": "stream",
     "text": [
      "epoch: 5, loss_train: 1.1977, accuracy_train: 0.4261, loss_valid: 1.2376, accuracy_valid: 0.4124, 20.0495sec\n",
      "epoch: 1, loss_train: 1.1680, accuracy_train: 0.4963, loss_valid: 1.2296, accuracy_valid: 0.4686, 29.2223sec\n",
      "epoch: 2, loss_train: 1.0984, accuracy_train: 0.5515, loss_valid: 1.1423, accuracy_valid: 0.5187, 29.2619sec\n",
      "epoch: 3, loss_train: 1.0693, accuracy_train: 0.5800, loss_valid: 1.1239, accuracy_valid: 0.5561, 29.1958sec\n",
      "epoch: 4, loss_train: 1.0553, accuracy_train: 0.5885, loss_valid: 1.0788, accuracy_valid: 0.5763, 29.1982sec\n",
      "epoch: 5, loss_train: 1.0614, accuracy_train: 0.5884, loss_valid: 1.0950, accuracy_valid: 0.5576, 29.2521sec\n",
      "epoch: 6, loss_train: 1.1309, accuracy_train: 0.5479, loss_valid: 1.1835, accuracy_valid: 0.5329, 29.1783sec\n",
      "epoch: 7, loss_train: 0.9984, accuracy_train: 0.6249, loss_valid: 1.0467, accuracy_valid: 0.6093, 29.2249sec\n",
      "epoch: 8, loss_train: 0.9558, accuracy_train: 0.6416, loss_valid: 1.0144, accuracy_valid: 0.6213, 29.1364sec\n",
      "epoch: 9, loss_train: 0.9748, accuracy_train: 0.6496, loss_valid: 1.0309, accuracy_valid: 0.6257, 29.0273sec\n"
     ]
    },
    {
     "name": "stderr",
     "output_type": "stream",
     "text": [
      "\u001b[32m[I 2022-01-30 22:09:45,652]\u001b[0m Trial 31 finished with value: 1.121572321894283 and parameters: {'hidden_size': 50.0, 'num_layers': 5.0, 'batch_size': 128.0, 'min_lr': 0.0015432139973985902, 'optimizer': 'RMSprop', 'lr': 0.0001532602509072845}. Best is trial 19 with value: 1.0049202118437002.\u001b[0m\n"
     ]
    },
    {
     "name": "stdout",
     "output_type": "stream",
     "text": [
      "epoch: 10, loss_train: 1.0729, accuracy_train: 0.5825, loss_valid: 1.1216, accuracy_valid: 0.5591, 29.2409sec\n",
      "epoch: 1, loss_train: 1.2853, accuracy_train: 0.4016, loss_valid: 1.2854, accuracy_valid: 0.4109, 28.8170sec\n",
      "epoch: 2, loss_train: 1.2157, accuracy_train: 0.4256, loss_valid: 1.2155, accuracy_valid: 0.4334, 28.6502sec\n",
      "epoch: 3, loss_train: 1.1732, accuracy_train: 0.4359, loss_valid: 1.1730, accuracy_valid: 0.4528, 28.7728sec\n",
      "epoch: 4, loss_train: 1.1589, accuracy_train: 0.4441, loss_valid: 1.1595, accuracy_valid: 0.4596, 28.7641sec\n",
      "epoch: 5, loss_train: 1.1592, accuracy_train: 0.4668, loss_valid: 1.1832, accuracy_valid: 0.4484, 28.5855sec\n",
      "epoch: 6, loss_train: 1.1449, accuracy_train: 0.4817, loss_valid: 1.1696, accuracy_valid: 0.4678, 28.7446sec\n",
      "epoch: 7, loss_train: 1.1105, accuracy_train: 0.5305, loss_valid: 1.1112, accuracy_valid: 0.5262, 28.7936sec\n",
      "epoch: 8, loss_train: 1.0846, accuracy_train: 0.5534, loss_valid: 1.0896, accuracy_valid: 0.5464, 28.6863sec\n",
      "epoch: 9, loss_train: 1.0508, accuracy_train: 0.5756, loss_valid: 1.0784, accuracy_valid: 0.5711, 28.7034sec\n"
     ]
    },
    {
     "name": "stderr",
     "output_type": "stream",
     "text": [
      "\u001b[32m[I 2022-01-30 22:14:33,028]\u001b[0m Trial 32 finished with value: 1.102955072348614 and parameters: {'hidden_size': 50.0, 'num_layers': 5.0, 'batch_size': 192.0, 'min_lr': 0.00017713571308050377, 'optimizer': 'RMSprop', 'lr': 1.0378010547132106e-05}. Best is trial 19 with value: 1.0049202118437002.\u001b[0m\n"
     ]
    },
    {
     "name": "stdout",
     "output_type": "stream",
     "text": [
      "epoch: 10, loss_train: 1.0782, accuracy_train: 0.5542, loss_valid: 1.1030, accuracy_valid: 0.5464, 28.8168sec\n",
      "epoch: 1, loss_train: 1.1612, accuracy_train: 0.4300, loss_valid: 1.1641, accuracy_valid: 0.4289, 29.4305sec\n",
      "epoch: 2, loss_train: 1.1498, accuracy_train: 0.4961, loss_valid: 1.1636, accuracy_valid: 0.4865, 29.4761sec\n",
      "epoch: 3, loss_train: 1.0616, accuracy_train: 0.5765, loss_valid: 1.1272, accuracy_valid: 0.5472, 30.4879sec\n",
      "epoch: 4, loss_train: 1.0951, accuracy_train: 0.5713, loss_valid: 1.1748, accuracy_valid: 0.5524, 29.5414sec\n",
      "epoch: 5, loss_train: 0.9229, accuracy_train: 0.6571, loss_valid: 1.0073, accuracy_valid: 0.6235, 29.5964sec\n",
      "epoch: 6, loss_train: 0.9056, accuracy_train: 0.6630, loss_valid: 0.9698, accuracy_valid: 0.6362, 29.6010sec\n",
      "epoch: 7, loss_train: 0.9921, accuracy_train: 0.6170, loss_valid: 1.0581, accuracy_valid: 0.5988, 29.9432sec\n",
      "epoch: 8, loss_train: 0.9747, accuracy_train: 0.6430, loss_valid: 1.0831, accuracy_valid: 0.6078, 29.5234sec\n",
      "epoch: 9, loss_train: 1.0062, accuracy_train: 0.6351, loss_valid: 1.0815, accuracy_valid: 0.6040, 29.5228sec\n"
     ]
    },
    {
     "name": "stderr",
     "output_type": "stream",
     "text": [
      "\u001b[32m[I 2022-01-30 22:19:29,627]\u001b[0m Trial 33 finished with value: 1.0464431191376315 and parameters: {'hidden_size': 50.0, 'num_layers': 5.0, 'batch_size': 64.0, 'min_lr': 0.0014780201588031445, 'optimizer': 'Adam', 'lr': 6.989285553862656e-05}. Best is trial 19 with value: 1.0049202118437002.\u001b[0m\n"
     ]
    },
    {
     "name": "stdout",
     "output_type": "stream",
     "text": [
      "epoch: 10, loss_train: 0.9229, accuracy_train: 0.6529, loss_valid: 1.0464, accuracy_valid: 0.6108, 29.4353sec\n",
      "epoch: 1, loss_train: 1.1621, accuracy_train: 0.4227, loss_valid: 1.1631, accuracy_valid: 0.4177, 29.2230sec\n",
      "epoch: 2, loss_train: 1.2331, accuracy_train: 0.4493, loss_valid: 1.2829, accuracy_valid: 0.4431, 29.2718sec\n",
      "epoch: 3, loss_train: 1.1436, accuracy_train: 0.5324, loss_valid: 1.1854, accuracy_valid: 0.5262, 29.1498sec\n",
      "epoch: 4, loss_train: 1.0269, accuracy_train: 0.6101, loss_valid: 1.0543, accuracy_valid: 0.5898, 29.2808sec\n",
      "epoch: 5, loss_train: 1.1792, accuracy_train: 0.4013, loss_valid: 1.1891, accuracy_valid: 0.3990, 29.2863sec\n",
      "epoch: 6, loss_train: 1.2169, accuracy_train: 0.3998, loss_valid: 1.2123, accuracy_valid: 0.4042, 29.1683sec\n",
      "epoch: 7, loss_train: 1.2019, accuracy_train: 0.4190, loss_valid: 1.2081, accuracy_valid: 0.4199, 29.2019sec\n",
      "epoch: 8, loss_train: 1.2088, accuracy_train: 0.4145, loss_valid: 1.1991, accuracy_valid: 0.4139, 29.2208sec\n",
      "epoch: 9, loss_train: 1.1874, accuracy_train: 0.4148, loss_valid: 1.1806, accuracy_valid: 0.4154, 29.3043sec\n"
     ]
    },
    {
     "name": "stderr",
     "output_type": "stream",
     "text": [
      "\u001b[32m[I 2022-01-30 22:24:21,948]\u001b[0m Trial 34 finished with value: 1.218660982381441 and parameters: {'hidden_size': 70.0, 'num_layers': 5.0, 'batch_size': 128.0, 'min_lr': 0.007636637093445076, 'optimizer': 'RMSprop', 'lr': 2.0432526028987777e-05}. Best is trial 19 with value: 1.0049202118437002.\u001b[0m\n"
     ]
    },
    {
     "name": "stdout",
     "output_type": "stream",
     "text": [
      "epoch: 10, loss_train: 1.2142, accuracy_train: 0.4146, loss_valid: 1.2187, accuracy_valid: 0.4162, 29.1703sec\n",
      "epoch: 1, loss_train: 1.1990, accuracy_train: 0.4259, loss_valid: 1.2050, accuracy_valid: 0.4154, 24.2134sec\n",
      "epoch: 2, loss_train: 1.1637, accuracy_train: 0.4271, loss_valid: 1.1680, accuracy_valid: 0.4064, 24.3863sec\n",
      "epoch: 3, loss_train: 1.1625, accuracy_train: 0.4157, loss_valid: 1.1677, accuracy_valid: 0.4072, 24.3718sec\n",
      "epoch: 4, loss_train: 1.1641, accuracy_train: 0.4177, loss_valid: 1.1722, accuracy_valid: 0.4064, 24.4405sec\n",
      "epoch: 5, loss_train: 1.1948, accuracy_train: 0.4197, loss_valid: 1.2228, accuracy_valid: 0.4072, 24.4380sec\n",
      "epoch: 6, loss_train: 1.1233, accuracy_train: 0.5400, loss_valid: 1.1723, accuracy_valid: 0.5090, 24.4769sec\n",
      "epoch: 7, loss_train: 1.1405, accuracy_train: 0.5386, loss_valid: 1.2208, accuracy_valid: 0.5090, 24.3969sec\n",
      "epoch: 8, loss_train: 1.1917, accuracy_train: 0.5225, loss_valid: 1.2762, accuracy_valid: 0.4948, 24.3961sec\n",
      "epoch: 9, loss_train: 1.0714, accuracy_train: 0.5877, loss_valid: 1.1841, accuracy_valid: 0.5389, 24.5128sec\n"
     ]
    },
    {
     "name": "stderr",
     "output_type": "stream",
     "text": [
      "\u001b[32m[I 2022-01-30 22:28:26,038]\u001b[0m Trial 35 finished with value: 1.2278939419409294 and parameters: {'hidden_size': 40.0, 'num_layers': 4.0, 'batch_size': 256.0, 'min_lr': 0.0005150483833004656, 'optimizer': 'Adam', 'lr': 5.624324344109957e-05}. Best is trial 19 with value: 1.0049202118437002.\u001b[0m\n"
     ]
    },
    {
     "name": "stdout",
     "output_type": "stream",
     "text": [
      "epoch: 10, loss_train: 1.1142, accuracy_train: 0.5621, loss_valid: 1.2279, accuracy_valid: 0.5262, 24.4132sec\n",
      "epoch: 1, loss_train: 1.1656, accuracy_train: 0.4133, loss_valid: 1.1661, accuracy_valid: 0.4057, 29.1617sec\n",
      "epoch: 2, loss_train: 1.1767, accuracy_train: 0.3978, loss_valid: 1.1795, accuracy_valid: 0.3892, 29.1812sec\n",
      "epoch: 3, loss_train: 1.1872, accuracy_train: 0.4101, loss_valid: 1.2014, accuracy_valid: 0.4124, 29.2902sec\n",
      "epoch: 4, loss_train: 1.1647, accuracy_train: 0.4582, loss_valid: 1.1854, accuracy_valid: 0.4618, 29.1126sec\n",
      "epoch: 5, loss_train: 1.1498, accuracy_train: 0.4880, loss_valid: 1.1608, accuracy_valid: 0.4948, 29.1532sec\n",
      "epoch: 6, loss_train: 1.1414, accuracy_train: 0.5036, loss_valid: 1.1543, accuracy_valid: 0.5090, 29.2353sec\n",
      "epoch: 7, loss_train: 1.0921, accuracy_train: 0.5488, loss_valid: 1.1048, accuracy_valid: 0.5442, 29.1964sec\n",
      "epoch: 8, loss_train: 1.1158, accuracy_train: 0.5381, loss_valid: 1.1296, accuracy_valid: 0.5397, 29.2670sec\n",
      "epoch: 9, loss_train: 1.0928, accuracy_train: 0.5525, loss_valid: 1.1118, accuracy_valid: 0.5546, 29.1390sec\n"
     ]
    },
    {
     "name": "stderr",
     "output_type": "stream",
     "text": [
      "\u001b[32m[I 2022-01-30 22:33:18,071]\u001b[0m Trial 36 finished with value: 1.0685292738908065 and parameters: {'hidden_size': 30.0, 'num_layers': 5.0, 'batch_size': 128.0, 'min_lr': 6.715283858250347e-05, 'optimizer': 'RMSprop', 'lr': 9.447707963451628e-05}. Best is trial 19 with value: 1.0049202118437002.\u001b[0m\n"
     ]
    },
    {
     "name": "stdout",
     "output_type": "stream",
     "text": [
      "epoch: 10, loss_train: 1.0555, accuracy_train: 0.5763, loss_valid: 1.0685, accuracy_valid: 0.5771, 29.2560sec\n",
      "epoch: 1, loss_train: 1.2996, accuracy_train: 0.4220, loss_valid: 1.2958, accuracy_valid: 0.4296, 20.5046sec\n",
      "epoch: 2, loss_train: 1.2209, accuracy_train: 0.4290, loss_valid: 1.2187, accuracy_valid: 0.4326, 20.5912sec\n",
      "epoch: 3, loss_train: 1.1673, accuracy_train: 0.4314, loss_valid: 1.1662, accuracy_valid: 0.4439, 20.5226sec\n",
      "epoch: 4, loss_train: 1.1590, accuracy_train: 0.4496, loss_valid: 1.1621, accuracy_valid: 0.4401, 20.5211sec\n",
      "epoch: 5, loss_train: 1.1756, accuracy_train: 0.4864, loss_valid: 1.2234, accuracy_valid: 0.4798, 20.4455sec\n",
      "epoch: 6, loss_train: 1.0646, accuracy_train: 0.5738, loss_valid: 1.0787, accuracy_valid: 0.5681, 20.3892sec\n",
      "epoch: 7, loss_train: 1.0176, accuracy_train: 0.6153, loss_valid: 1.0358, accuracy_valid: 0.6048, 20.5063sec\n",
      "epoch: 8, loss_train: 1.0251, accuracy_train: 0.6085, loss_valid: 1.0548, accuracy_valid: 0.5958, 20.3872sec\n",
      "epoch: 9, loss_train: 0.9571, accuracy_train: 0.6532, loss_valid: 0.9849, accuracy_valid: 0.6422, 20.4814sec\n"
     ]
    },
    {
     "name": "stderr",
     "output_type": "stream",
     "text": [
      "\u001b[32m[I 2022-01-30 22:36:42,902]\u001b[0m Trial 37 finished with value: 0.9934170393239774 and parameters: {'hidden_size': 60.0, 'num_layers': 3.0, 'batch_size': 192.0, 'min_lr': 0.00021948547301643226, 'optimizer': 'Adam', 'lr': 2.669319796719011e-05}. Best is trial 37 with value: 0.9934170393239774.\u001b[0m\n"
     ]
    },
    {
     "name": "stdout",
     "output_type": "stream",
     "text": [
      "epoch: 10, loss_train: 0.9563, accuracy_train: 0.6552, loss_valid: 0.9934, accuracy_valid: 0.6317, 20.4429sec\n",
      "epoch: 1, loss_train: 1.1863, accuracy_train: 0.4175, loss_valid: 1.1888, accuracy_valid: 0.4124, 20.9351sec\n",
      "epoch: 2, loss_train: 1.1626, accuracy_train: 0.4121, loss_valid: 1.1628, accuracy_valid: 0.4147, 20.9164sec\n",
      "epoch: 3, loss_train: 1.1592, accuracy_train: 0.4300, loss_valid: 1.1606, accuracy_valid: 0.4311, 20.8641sec\n",
      "epoch: 4, loss_train: 1.1605, accuracy_train: 0.4262, loss_valid: 1.1674, accuracy_valid: 0.4326, 20.9420sec\n",
      "epoch: 5, loss_train: 1.1611, accuracy_train: 0.4259, loss_valid: 1.1748, accuracy_valid: 0.4229, 20.9325sec\n"
     ]
    },
    {
     "name": "stderr",
     "output_type": "stream",
     "text": [
      "\u001b[32m[I 2022-01-30 22:38:48,392]\u001b[0m Trial 38 finished with value: 1.1950736164065179 and parameters: {'hidden_size': 60.0, 'num_layers': 3.0, 'batch_size': 64.0, 'min_lr': 2.4435102382465806e-05, 'optimizer': 'Adam', 'lr': 2.4628297070662166e-05}. Best is trial 37 with value: 0.9934170393239774.\u001b[0m\n"
     ]
    },
    {
     "name": "stdout",
     "output_type": "stream",
     "text": [
      "epoch: 6, loss_train: 1.1690, accuracy_train: 0.4186, loss_valid: 1.1951, accuracy_valid: 0.4154, 20.8627sec\n",
      "epoch: 1, loss_train: 1.2868, accuracy_train: 0.3956, loss_valid: 1.2811, accuracy_valid: 0.3975, 20.1315sec\n",
      "epoch: 2, loss_train: 1.3134, accuracy_train: 0.4151, loss_valid: 1.3014, accuracy_valid: 0.4162, 20.0189sec\n",
      "epoch: 3, loss_train: 1.3478, accuracy_train: 0.3858, loss_valid: 1.3570, accuracy_valid: 0.3728, 20.1424sec\n",
      "epoch: 4, loss_train: 1.3343, accuracy_train: 0.4306, loss_valid: 1.3410, accuracy_valid: 0.4169, 20.0470sec\n",
      "epoch: 5, loss_train: 1.2479, accuracy_train: 0.4946, loss_valid: 1.2488, accuracy_valid: 0.4820, 20.0733sec\n",
      "epoch: 6, loss_train: 1.2627, accuracy_train: 0.5089, loss_valid: 1.3000, accuracy_valid: 0.4903, 20.0493sec\n",
      "epoch: 7, loss_train: 1.2758, accuracy_train: 0.5018, loss_valid: 1.2915, accuracy_valid: 0.4940, 20.0765sec\n",
      "epoch: 8, loss_train: 1.2369, accuracy_train: 0.5504, loss_valid: 1.2620, accuracy_valid: 0.5397, 19.9036sec\n",
      "epoch: 9, loss_train: 1.2379, accuracy_train: 0.5547, loss_valid: 1.2665, accuracy_valid: 0.5329, 19.9666sec\n"
     ]
    },
    {
     "name": "stderr",
     "output_type": "stream",
     "text": [
      "\u001b[32m[I 2022-01-30 22:42:08,838]\u001b[0m Trial 39 finished with value: 1.2409049422106522 and parameters: {'hidden_size': 20.0, 'num_layers': 3.0, 'batch_size': 320.0, 'min_lr': 0.00022744499286517813, 'optimizer': 'Adam', 'lr': 0.010318716076160316}. Best is trial 37 with value: 0.9934170393239774.\u001b[0m\n"
     ]
    },
    {
     "name": "stdout",
     "output_type": "stream",
     "text": [
      "epoch: 10, loss_train: 1.2115, accuracy_train: 0.5699, loss_valid: 1.2409, accuracy_valid: 0.5389, 19.9991sec\n",
      "epoch: 1, loss_train: 1.5285, accuracy_train: 0.4072, loss_valid: 1.5489, accuracy_valid: 0.3945, 24.4622sec\n",
      "epoch: 2, loss_train: 1.2664, accuracy_train: 0.4235, loss_valid: 1.2665, accuracy_valid: 0.4229, 24.4111sec\n",
      "epoch: 3, loss_train: 1.2359, accuracy_train: 0.4251, loss_valid: 1.2338, accuracy_valid: 0.4244, 24.3892sec\n",
      "epoch: 4, loss_train: 1.1888, accuracy_train: 0.3966, loss_valid: 1.1865, accuracy_valid: 0.3960, 24.4073sec\n",
      "epoch: 5, loss_train: 1.3437, accuracy_train: 0.4238, loss_valid: 1.3419, accuracy_valid: 0.4237, 24.3360sec\n",
      "epoch: 6, loss_train: 1.1707, accuracy_train: 0.4248, loss_valid: 1.1683, accuracy_valid: 0.4244, 24.4723sec\n",
      "epoch: 7, loss_train: 1.2062, accuracy_train: 0.3964, loss_valid: 1.2037, accuracy_valid: 0.3960, 24.4403sec\n",
      "epoch: 8, loss_train: 1.1980, accuracy_train: 0.4227, loss_valid: 1.1966, accuracy_valid: 0.4222, 24.4221sec\n",
      "epoch: 9, loss_train: 1.1769, accuracy_train: 0.3964, loss_valid: 1.1755, accuracy_valid: 0.3960, 24.6102sec\n"
     ]
    },
    {
     "name": "stderr",
     "output_type": "stream",
     "text": [
      "\u001b[32m[I 2022-01-30 22:46:13,292]\u001b[0m Trial 40 finished with value: 1.1664477558193092 and parameters: {'hidden_size': 60.0, 'num_layers': 4.0, 'batch_size': 256.0, 'min_lr': 6.991561854860922e-05, 'optimizer': 'Adam', 'lr': 0.09468176903406506}. Best is trial 37 with value: 0.9934170393239774.\u001b[0m\n"
     ]
    },
    {
     "name": "stdout",
     "output_type": "stream",
     "text": [
      "epoch: 10, loss_train: 1.1678, accuracy_train: 0.4225, loss_valid: 1.1664, accuracy_valid: 0.4222, 24.4616sec\n",
      "epoch: 1, loss_train: 1.2263, accuracy_train: 0.4221, loss_valid: 1.2246, accuracy_valid: 0.4319, 20.4790sec\n",
      "epoch: 2, loss_train: 1.1722, accuracy_train: 0.4107, loss_valid: 1.1726, accuracy_valid: 0.3892, 20.5055sec\n",
      "epoch: 3, loss_train: 1.1686, accuracy_train: 0.3993, loss_valid: 1.1704, accuracy_valid: 0.3870, 20.4576sec\n",
      "epoch: 4, loss_train: 1.2016, accuracy_train: 0.4030, loss_valid: 1.2379, accuracy_valid: 0.4019, 20.5463sec\n",
      "epoch: 5, loss_train: 1.0568, accuracy_train: 0.5961, loss_valid: 1.0971, accuracy_valid: 0.5689, 20.6118sec\n",
      "epoch: 6, loss_train: 1.0386, accuracy_train: 0.6120, loss_valid: 1.1252, accuracy_valid: 0.5749, 20.4596sec\n",
      "epoch: 7, loss_train: 0.9960, accuracy_train: 0.6230, loss_valid: 1.0574, accuracy_valid: 0.5943, 20.4851sec\n",
      "epoch: 8, loss_train: 0.9690, accuracy_train: 0.6384, loss_valid: 1.0869, accuracy_valid: 0.5898, 20.4626sec\n",
      "epoch: 9, loss_train: 1.0192, accuracy_train: 0.6137, loss_valid: 1.1352, accuracy_valid: 0.5689, 20.4817sec\n"
     ]
    },
    {
     "name": "stderr",
     "output_type": "stream",
     "text": [
      "\u001b[32m[I 2022-01-30 22:49:38,331]\u001b[0m Trial 41 finished with value: 0.9859132645819002 and parameters: {'hidden_size': 50.0, 'num_layers': 3.0, 'batch_size': 192.0, 'min_lr': 0.0009601578702346814, 'optimizer': 'Adam', 'lr': 3.0434689497176263e-05}. Best is trial 41 with value: 0.9859132645819002.\u001b[0m\n"
     ]
    },
    {
     "name": "stdout",
     "output_type": "stream",
     "text": [
      "epoch: 10, loss_train: 0.9018, accuracy_train: 0.6849, loss_valid: 0.9859, accuracy_valid: 0.6482, 20.5099sec\n",
      "epoch: 1, loss_train: 1.3049, accuracy_train: 0.3664, loss_valid: 1.3075, accuracy_valid: 0.3660, 20.2257sec\n",
      "epoch: 2, loss_train: 1.2193, accuracy_train: 0.3861, loss_valid: 1.2222, accuracy_valid: 0.3900, 20.1866sec\n",
      "epoch: 3, loss_train: 1.1781, accuracy_train: 0.3904, loss_valid: 1.1811, accuracy_valid: 0.3997, 20.1974sec\n",
      "epoch: 4, loss_train: 1.1741, accuracy_train: 0.3918, loss_valid: 1.1789, accuracy_valid: 0.3997, 20.2761sec\n",
      "epoch: 5, loss_train: 1.1765, accuracy_train: 0.3953, loss_valid: 1.1838, accuracy_valid: 0.4004, 20.1954sec\n",
      "epoch: 6, loss_train: 1.1842, accuracy_train: 0.3980, loss_valid: 1.2005, accuracy_valid: 0.4027, 20.2115sec\n"
     ]
    },
    {
     "name": "stderr",
     "output_type": "stream",
     "text": [
      "\u001b[32m[I 2022-01-30 22:51:59,883]\u001b[0m Trial 42 finished with value: 1.2561698028828927 and parameters: {'hidden_size': 40.0, 'num_layers': 3.0, 'batch_size': 128.0, 'min_lr': 0.0001809485905877346, 'optimizer': 'Adam', 'lr': 3.135699033683953e-05}. Best is trial 41 with value: 0.9859132645819002.\u001b[0m\n"
     ]
    },
    {
     "name": "stdout",
     "output_type": "stream",
     "text": [
      "epoch: 7, loss_train: 1.2220, accuracy_train: 0.3969, loss_valid: 1.2562, accuracy_valid: 0.3945, 20.2243sec\n",
      "epoch: 1, loss_train: 1.3330, accuracy_train: 0.3645, loss_valid: 1.3275, accuracy_valid: 0.3735, 20.4296sec\n",
      "epoch: 2, loss_train: 1.2204, accuracy_train: 0.3990, loss_valid: 1.2163, accuracy_valid: 0.4199, 20.4098sec\n",
      "epoch: 3, loss_train: 1.1671, accuracy_train: 0.4072, loss_valid: 1.1651, accuracy_valid: 0.4214, 20.4249sec\n",
      "epoch: 4, loss_train: 1.1674, accuracy_train: 0.4024, loss_valid: 1.1697, accuracy_valid: 0.4072, 20.5093sec\n",
      "epoch: 5, loss_train: 1.2039, accuracy_train: 0.4266, loss_valid: 1.2445, accuracy_valid: 0.4266, 20.3440sec\n",
      "epoch: 6, loss_train: 1.1262, accuracy_train: 0.5429, loss_valid: 1.1660, accuracy_valid: 0.5322, 20.6123sec\n",
      "epoch: 7, loss_train: 1.1316, accuracy_train: 0.5769, loss_valid: 1.2148, accuracy_valid: 0.5539, 20.4363sec\n",
      "epoch: 8, loss_train: 1.0782, accuracy_train: 0.5954, loss_valid: 1.1774, accuracy_valid: 0.5606, 20.4632sec\n",
      "epoch: 9, loss_train: 0.9565, accuracy_train: 0.6479, loss_valid: 1.0304, accuracy_valid: 0.6138, 20.5245sec\n"
     ]
    },
    {
     "name": "stderr",
     "output_type": "stream",
     "text": [
      "\u001b[32m[I 2022-01-30 22:55:24,489]\u001b[0m Trial 43 finished with value: 1.017677895100174 and parameters: {'hidden_size': 50.0, 'num_layers': 3.0, 'batch_size': 192.0, 'min_lr': 0.0008641997700727135, 'optimizer': 'Adam', 'lr': 1.8027981344822243e-05}. Best is trial 41 with value: 0.9859132645819002.\u001b[0m\n"
     ]
    },
    {
     "name": "stdout",
     "output_type": "stream",
     "text": [
      "epoch: 10, loss_train: 0.9333, accuracy_train: 0.6604, loss_valid: 1.0177, accuracy_valid: 0.6175, 20.4110sec\n",
      "epoch: 1, loss_train: 1.3615, accuracy_train: 0.3264, loss_valid: 1.3605, accuracy_valid: 0.3151, 20.1276sec\n",
      "epoch: 2, loss_train: 1.3272, accuracy_train: 0.3806, loss_valid: 1.3273, accuracy_valid: 0.3698, 20.0771sec\n",
      "epoch: 3, loss_train: 1.2569, accuracy_train: 0.3934, loss_valid: 1.2585, accuracy_valid: 0.3982, 19.9941sec\n",
      "epoch: 4, loss_train: 1.1770, accuracy_train: 0.4005, loss_valid: 1.1781, accuracy_valid: 0.4012, 20.0764sec\n",
      "epoch: 5, loss_train: 1.1676, accuracy_train: 0.4055, loss_valid: 1.1685, accuracy_valid: 0.4147, 19.9314sec\n",
      "epoch: 6, loss_train: 1.1766, accuracy_train: 0.4003, loss_valid: 1.1812, accuracy_valid: 0.4042, 19.8790sec\n",
      "epoch: 7, loss_train: 1.2129, accuracy_train: 0.3969, loss_valid: 1.2306, accuracy_valid: 0.3990, 19.8976sec\n"
     ]
    },
    {
     "name": "stderr",
     "output_type": "stream",
     "text": [
      "\u001b[32m[I 2022-01-30 22:58:04,788]\u001b[0m Trial 44 finished with value: 1.2725985091915744 and parameters: {'hidden_size': 60.0, 'num_layers': 3.0, 'batch_size': 384.0, 'min_lr': 0.0003588889564784121, 'optimizer': 'Adam', 'lr': 1.0394506891087935e-05}. Best is trial 41 with value: 0.9859132645819002.\u001b[0m\n"
     ]
    },
    {
     "name": "stdout",
     "output_type": "stream",
     "text": [
      "epoch: 8, loss_train: 1.2248, accuracy_train: 0.4167, loss_valid: 1.2726, accuracy_valid: 0.4087, 20.2669sec\n",
      "epoch: 1, loss_train: 1.1625, accuracy_train: 0.4363, loss_valid: 1.1670, accuracy_valid: 0.4222, 26.4528sec\n",
      "epoch: 2, loss_train: 1.1823, accuracy_train: 0.4973, loss_valid: 1.2351, accuracy_valid: 0.4790, 26.5760sec\n",
      "epoch: 3, loss_train: 1.0113, accuracy_train: 0.6081, loss_valid: 1.0791, accuracy_valid: 0.5831, 26.4202sec\n",
      "epoch: 4, loss_train: 0.9559, accuracy_train: 0.6351, loss_valid: 1.0363, accuracy_valid: 0.6115, 26.7007sec\n",
      "epoch: 5, loss_train: 1.0235, accuracy_train: 0.6088, loss_valid: 1.0836, accuracy_valid: 0.5808, 26.5454sec\n",
      "epoch: 6, loss_train: 1.0311, accuracy_train: 0.6035, loss_valid: 1.0945, accuracy_valid: 0.5674, 26.6597sec\n"
     ]
    },
    {
     "name": "stderr",
     "output_type": "stream",
     "text": [
      "\u001b[32m[I 2022-01-30 23:01:10,780]\u001b[0m Trial 45 finished with value: 1.1529627608994166 and parameters: {'hidden_size': 70.0, 'num_layers': 4.0, 'batch_size': 64.0, 'min_lr': 0.0030551393623532695, 'optimizer': 'Adam', 'lr': 5.113861774392716e-05}. Best is trial 41 with value: 0.9859132645819002.\u001b[0m\n"
     ]
    },
    {
     "name": "stdout",
     "output_type": "stream",
     "text": [
      "epoch: 7, loss_train: 1.1050, accuracy_train: 0.5633, loss_valid: 1.1530, accuracy_valid: 0.5442, 26.5959sec\n",
      "epoch: 1, loss_train: 1.2039, accuracy_train: 0.4019, loss_valid: 1.2042, accuracy_valid: 0.4004, 20.2889sec\n",
      "epoch: 2, loss_train: 1.1697, accuracy_train: 0.4117, loss_valid: 1.1699, accuracy_valid: 0.4109, 20.5083sec\n",
      "epoch: 3, loss_train: 1.1674, accuracy_train: 0.4120, loss_valid: 1.1681, accuracy_valid: 0.4072, 20.4021sec\n",
      "epoch: 4, loss_train: 1.1734, accuracy_train: 0.3994, loss_valid: 1.1779, accuracy_valid: 0.4094, 20.3522sec\n",
      "epoch: 5, loss_train: 1.2085, accuracy_train: 0.3993, loss_valid: 1.2284, accuracy_valid: 0.3975, 20.5256sec\n",
      "epoch: 6, loss_train: 1.1564, accuracy_train: 0.4817, loss_valid: 1.1888, accuracy_valid: 0.4731, 20.4079sec\n",
      "epoch: 7, loss_train: 1.1211, accuracy_train: 0.5183, loss_valid: 1.1486, accuracy_valid: 0.5082, 20.4209sec\n",
      "epoch: 8, loss_train: 1.0988, accuracy_train: 0.5475, loss_valid: 1.1271, accuracy_valid: 0.5374, 20.4158sec\n",
      "epoch: 9, loss_train: 1.1185, accuracy_train: 0.5324, loss_valid: 1.1488, accuracy_valid: 0.5202, 20.3668sec\n"
     ]
    },
    {
     "name": "stderr",
     "output_type": "stream",
     "text": [
      "\u001b[32m[I 2022-01-30 23:04:34,949]\u001b[0m Trial 46 finished with value: 1.1223517092179038 and parameters: {'hidden_size': 40.0, 'num_layers': 3.0, 'batch_size': 192.0, 'min_lr': 8.826015155070352e-05, 'optimizer': 'Adam', 'lr': 0.00011499374531388927}. Best is trial 41 with value: 0.9859132645819002.\u001b[0m\n"
     ]
    },
    {
     "name": "stdout",
     "output_type": "stream",
     "text": [
      "epoch: 10, loss_train: 1.0922, accuracy_train: 0.5536, loss_valid: 1.1224, accuracy_valid: 0.5434, 20.4402sec\n",
      "epoch: 1, loss_train: 1.1663, accuracy_train: 0.4039, loss_valid: 1.1664, accuracy_valid: 0.4027, 24.4136sec\n",
      "epoch: 2, loss_train: 1.1625, accuracy_train: 0.4134, loss_valid: 1.1658, accuracy_valid: 0.4094, 24.4207sec\n",
      "epoch: 3, loss_train: 1.1695, accuracy_train: 0.4936, loss_valid: 1.2311, accuracy_valid: 0.4663, 24.4045sec\n",
      "epoch: 4, loss_train: 1.0932, accuracy_train: 0.5496, loss_valid: 1.1267, accuracy_valid: 0.5240, 24.4085sec\n",
      "epoch: 5, loss_train: 1.0880, accuracy_train: 0.5558, loss_valid: 1.1284, accuracy_valid: 0.5292, 24.4391sec\n",
      "epoch: 6, loss_train: 1.1034, accuracy_train: 0.5410, loss_valid: 1.1424, accuracy_valid: 0.5277, 24.4996sec\n"
     ]
    },
    {
     "name": "stderr",
     "output_type": "stream",
     "text": [
      "\u001b[32m[I 2022-01-30 23:07:25,921]\u001b[0m Trial 47 finished with value: 1.147947952318602 and parameters: {'hidden_size': 60.0, 'num_layers': 4.0, 'batch_size': 256.0, 'min_lr': 2.4646044016357885e-05, 'optimizer': 'Adam', 'lr': 0.00019649488861286387}. Best is trial 41 with value: 0.9859132645819002.\u001b[0m\n"
     ]
    },
    {
     "name": "stdout",
     "output_type": "stream",
     "text": [
      "epoch: 7, loss_train: 1.1023, accuracy_train: 0.5479, loss_valid: 1.1479, accuracy_valid: 0.5352, 24.3453sec\n",
      "epoch: 1, loss_train: 1.2204, accuracy_train: 0.4763, loss_valid: 1.2855, accuracy_valid: 0.4641, 20.8491sec\n",
      "epoch: 2, loss_train: 0.9959, accuracy_train: 0.6372, loss_valid: 1.0746, accuracy_valid: 0.5981, 20.9369sec\n",
      "epoch: 3, loss_train: 1.1601, accuracy_train: 0.5764, loss_valid: 1.2230, accuracy_valid: 0.5539, 20.7856sec\n",
      "epoch: 4, loss_train: 1.1002, accuracy_train: 0.5956, loss_valid: 1.1591, accuracy_valid: 0.5629, 20.9624sec\n",
      "epoch: 5, loss_train: 1.1659, accuracy_train: 0.5631, loss_valid: 1.2074, accuracy_valid: 0.5479, 20.8827sec\n",
      "epoch: 6, loss_train: 1.0910, accuracy_train: 0.5993, loss_valid: 1.1633, accuracy_valid: 0.5756, 20.8792sec\n",
      "epoch: 7, loss_train: 1.0034, accuracy_train: 0.6425, loss_valid: 1.0779, accuracy_valid: 0.6048, 21.0328sec\n",
      "epoch: 8, loss_train: 0.9947, accuracy_train: 0.6568, loss_valid: 1.0978, accuracy_valid: 0.6145, 20.8247sec\n",
      "epoch: 9, loss_train: 0.9695, accuracy_train: 0.6655, loss_valid: 1.0617, accuracy_valid: 0.6228, 20.8037sec\n"
     ]
    },
    {
     "name": "stderr",
     "output_type": "stream",
     "text": [
      "\u001b[32m[I 2022-01-30 23:10:54,771]\u001b[0m Trial 48 finished with value: 1.11529718135333 and parameters: {'hidden_size': 50.0, 'num_layers': 3.0, 'batch_size': 128.0, 'min_lr': 0.0005190273973492013, 'optimizer': 'Adam', 'lr': 0.0035283540885849155}. Best is trial 41 with value: 0.9859132645819002.\u001b[0m\n"
     ]
    },
    {
     "name": "stdout",
     "output_type": "stream",
     "text": [
      "epoch: 10, loss_train: 1.0045, accuracy_train: 0.6502, loss_valid: 1.1153, accuracy_valid: 0.6063, 20.8528sec\n",
      "epoch: 1, loss_train: 1.2030, accuracy_train: 0.4065, loss_valid: 1.2064, accuracy_valid: 0.4012, 20.5586sec\n",
      "epoch: 2, loss_train: 1.1701, accuracy_train: 0.4205, loss_valid: 1.1742, accuracy_valid: 0.4229, 20.5765sec\n",
      "epoch: 3, loss_train: 1.1647, accuracy_train: 0.4291, loss_valid: 1.1693, accuracy_valid: 0.4289, 20.7302sec\n",
      "epoch: 4, loss_train: 1.1718, accuracy_train: 0.4052, loss_valid: 1.1800, accuracy_valid: 0.4019, 20.6095sec\n",
      "epoch: 5, loss_train: 1.1935, accuracy_train: 0.4036, loss_valid: 1.2140, accuracy_valid: 0.4027, 20.6214sec\n",
      "epoch: 6, loss_train: 1.1625, accuracy_train: 0.4730, loss_valid: 1.1925, accuracy_valid: 0.4663, 20.6068sec\n",
      "epoch: 7, loss_train: 1.1141, accuracy_train: 0.5368, loss_valid: 1.1357, accuracy_valid: 0.5225, 20.5585sec\n",
      "epoch: 8, loss_train: 1.0573, accuracy_train: 0.5863, loss_valid: 1.0914, accuracy_valid: 0.5674, 20.6065sec\n",
      "epoch: 9, loss_train: 1.0891, accuracy_train: 0.5602, loss_valid: 1.1284, accuracy_valid: 0.5472, 20.6779sec\n"
     ]
    },
    {
     "name": "stderr",
     "output_type": "stream",
     "text": [
      "\u001b[32m[I 2022-01-30 23:14:20,931]\u001b[0m Trial 49 finished with value: 1.0945049356223044 and parameters: {'hidden_size': 30.0, 'num_layers': 3.0, 'batch_size': 64.0, 'min_lr': 0.00015597761307201317, 'optimizer': 'RMSprop', 'lr': 2.807370520845532e-05}. Best is trial 41 with value: 0.9859132645819002.\u001b[0m\n"
     ]
    },
    {
     "name": "stdout",
     "output_type": "stream",
     "text": [
      "epoch: 10, loss_train: 1.0521, accuracy_train: 0.5886, loss_valid: 1.0945, accuracy_valid: 0.5711, 20.5770sec\n",
      "epoch: 1, loss_train: 1.3708, accuracy_train: 0.3409, loss_valid: 1.3765, accuracy_valid: 0.3316, 15.9858sec\n",
      "epoch: 2, loss_train: 1.3577, accuracy_train: 0.3642, loss_valid: 1.3631, accuracy_valid: 0.3436, 15.9694sec\n",
      "epoch: 3, loss_train: 1.3349, accuracy_train: 0.3854, loss_valid: 1.3396, accuracy_valid: 0.3675, 15.9280sec\n",
      "epoch: 4, loss_train: 1.2973, accuracy_train: 0.4171, loss_valid: 1.3009, accuracy_valid: 0.4147, 15.8092sec\n",
      "epoch: 5, loss_train: 1.2436, accuracy_train: 0.4141, loss_valid: 1.2455, accuracy_valid: 0.4147, 15.9493sec\n",
      "epoch: 6, loss_train: 1.1853, accuracy_train: 0.3980, loss_valid: 1.1860, accuracy_valid: 0.4012, 15.8190sec\n",
      "epoch: 7, loss_train: 1.1671, accuracy_train: 0.3946, loss_valid: 1.1697, accuracy_valid: 0.3862, 15.9679sec\n",
      "epoch: 8, loss_train: 1.1644, accuracy_train: 0.4055, loss_valid: 1.1662, accuracy_valid: 0.3982, 15.8904sec\n",
      "epoch: 9, loss_train: 1.1651, accuracy_train: 0.3972, loss_valid: 1.1663, accuracy_valid: 0.4012, 15.8648sec\n"
     ]
    },
    {
     "name": "stderr",
     "output_type": "stream",
     "text": [
      "\u001b[32m[I 2022-01-30 23:17:00,028]\u001b[0m Trial 50 finished with value: 1.1641527009670607 and parameters: {'hidden_size': 70.0, 'num_layers': 2.0, 'batch_size': 960.0, 'min_lr': 0.0002595584723387551, 'optimizer': 'Adam', 'lr': 1.4278698439290606e-05}. Best is trial 41 with value: 0.9859132645819002.\u001b[0m\n"
     ]
    },
    {
     "name": "stdout",
     "output_type": "stream",
     "text": [
      "epoch: 10, loss_train: 1.1628, accuracy_train: 0.4075, loss_valid: 1.1642, accuracy_valid: 0.4117, 15.8735sec\n",
      "epoch: 1, loss_train: 1.2574, accuracy_train: 0.4245, loss_valid: 1.2606, accuracy_valid: 0.4109, 20.9361sec\n",
      "epoch: 2, loss_train: 1.1770, accuracy_train: 0.4232, loss_valid: 1.1798, accuracy_valid: 0.4192, 20.7883sec\n",
      "epoch: 3, loss_train: 1.1617, accuracy_train: 0.4144, loss_valid: 1.1638, accuracy_valid: 0.4132, 20.9585sec\n",
      "epoch: 4, loss_train: 1.2011, accuracy_train: 0.4042, loss_valid: 1.2331, accuracy_valid: 0.4004, 20.8381sec\n",
      "epoch: 5, loss_train: 1.0604, accuracy_train: 0.5807, loss_valid: 1.1177, accuracy_valid: 0.5524, 20.8642sec\n",
      "epoch: 6, loss_train: 1.1280, accuracy_train: 0.5380, loss_valid: 1.2127, accuracy_valid: 0.5142, 20.8251sec\n",
      "epoch: 7, loss_train: 1.0051, accuracy_train: 0.6210, loss_valid: 1.0917, accuracy_valid: 0.5831, 21.1640sec\n",
      "epoch: 8, loss_train: 0.9261, accuracy_train: 0.6485, loss_valid: 0.9837, accuracy_valid: 0.6213, 20.9851sec\n",
      "epoch: 9, loss_train: 0.9574, accuracy_train: 0.6178, loss_valid: 1.0375, accuracy_valid: 0.5816, 20.9987sec\n"
     ]
    },
    {
     "name": "stderr",
     "output_type": "stream",
     "text": [
      "\u001b[32m[I 2022-01-30 23:20:29,422]\u001b[0m Trial 51 finished with value: 1.0520573689234247 and parameters: {'hidden_size': 50.0, 'num_layers': 3.0, 'batch_size': 128.0, 'min_lr': 0.0009694059643228215, 'optimizer': 'Adam', 'lr': 1.9465596975750328e-05}. Best is trial 41 with value: 0.9859132645819002.\u001b[0m\n"
     ]
    },
    {
     "name": "stdout",
     "output_type": "stream",
     "text": [
      "epoch: 10, loss_train: 0.9411, accuracy_train: 0.6320, loss_valid: 1.0521, accuracy_valid: 0.5793, 20.9980sec\n",
      "epoch: 1, loss_train: 1.3124, accuracy_train: 0.4158, loss_valid: 1.3131, accuracy_valid: 0.4124, 20.4578sec\n",
      "epoch: 2, loss_train: 1.2520, accuracy_train: 0.4198, loss_valid: 1.2520, accuracy_valid: 0.4192, 20.4630sec\n",
      "epoch: 3, loss_train: 1.1708, accuracy_train: 0.3933, loss_valid: 1.1693, accuracy_valid: 0.4102, 20.4711sec\n",
      "epoch: 4, loss_train: 1.1576, accuracy_train: 0.4394, loss_valid: 1.1641, accuracy_valid: 0.4319, 20.5098sec\n",
      "epoch: 5, loss_train: 1.0982, accuracy_train: 0.5413, loss_valid: 1.1277, accuracy_valid: 0.5120, 20.4825sec\n",
      "epoch: 6, loss_train: 1.1499, accuracy_train: 0.5142, loss_valid: 1.1766, accuracy_valid: 0.5172, 20.5315sec\n",
      "epoch: 7, loss_train: 1.1343, accuracy_train: 0.5282, loss_valid: 1.1807, accuracy_valid: 0.5067, 20.5031sec\n",
      "epoch: 8, loss_train: 1.0920, accuracy_train: 0.5668, loss_valid: 1.1122, accuracy_valid: 0.5606, 20.3905sec\n",
      "epoch: 9, loss_train: 1.1266, accuracy_train: 0.5736, loss_valid: 1.2110, accuracy_valid: 0.5427, 20.4284sec\n"
     ]
    },
    {
     "name": "stderr",
     "output_type": "stream",
     "text": [
      "\u001b[32m[I 2022-01-30 23:23:54,243]\u001b[0m Trial 52 finished with value: 1.087208510041906 and parameters: {'hidden_size': 50.0, 'num_layers': 3.0, 'batch_size': 192.0, 'min_lr': 0.000726716781641367, 'optimizer': 'Adam', 'lr': 1.5087196177592174e-05}. Best is trial 41 with value: 0.9859132645819002.\u001b[0m\n"
     ]
    },
    {
     "name": "stdout",
     "output_type": "stream",
     "text": [
      "epoch: 10, loss_train: 1.0282, accuracy_train: 0.5980, loss_valid: 1.0872, accuracy_valid: 0.5808, 20.5431sec\n",
      "epoch: 1, loss_train: 1.3015, accuracy_train: 0.4119, loss_valid: 1.2961, accuracy_valid: 0.4087, 20.1704sec\n",
      "epoch: 2, loss_train: 1.1882, accuracy_train: 0.4243, loss_valid: 1.1862, accuracy_valid: 0.4207, 20.2838sec\n",
      "epoch: 3, loss_train: 1.1664, accuracy_train: 0.4093, loss_valid: 1.1656, accuracy_valid: 0.3990, 20.1593sec\n",
      "epoch: 4, loss_train: 1.1618, accuracy_train: 0.4228, loss_valid: 1.1609, accuracy_valid: 0.4109, 20.1906sec\n",
      "epoch: 5, loss_train: 1.1643, accuracy_train: 0.4211, loss_valid: 1.1819, accuracy_valid: 0.4207, 20.1707sec\n",
      "epoch: 6, loss_train: 1.1019, accuracy_train: 0.5276, loss_valid: 1.1188, accuracy_valid: 0.5120, 20.3533sec\n",
      "epoch: 7, loss_train: 1.1508, accuracy_train: 0.4992, loss_valid: 1.1875, accuracy_valid: 0.4873, 20.2734sec\n",
      "epoch: 8, loss_train: 1.0451, accuracy_train: 0.5905, loss_valid: 1.0849, accuracy_valid: 0.5659, 20.2614sec\n",
      "epoch: 9, loss_train: 1.1038, accuracy_train: 0.5524, loss_valid: 1.1558, accuracy_valid: 0.5367, 20.2797sec\n"
     ]
    },
    {
     "name": "stderr",
     "output_type": "stream",
     "text": [
      "\u001b[32m[I 2022-01-30 23:27:16,694]\u001b[0m Trial 53 finished with value: 1.139640604140248 and parameters: {'hidden_size': 60.0, 'num_layers': 3.0, 'batch_size': 256.0, 'min_lr': 0.00041395517564345554, 'optimizer': 'Adam', 'lr': 4.535102000442429e-05}. Best is trial 41 with value: 0.9859132645819002.\u001b[0m\n"
     ]
    },
    {
     "name": "stdout",
     "output_type": "stream",
     "text": [
      "epoch: 10, loss_train: 1.0887, accuracy_train: 0.5603, loss_valid: 1.1396, accuracy_valid: 0.5472, 20.2685sec\n",
      "epoch: 1, loss_train: 1.3904, accuracy_train: 0.2328, loss_valid: 1.4018, accuracy_valid: 0.2163, 19.7755sec\n",
      "epoch: 2, loss_train: 1.3399, accuracy_train: 0.3535, loss_valid: 1.3517, accuracy_valid: 0.3278, 19.8973sec\n",
      "epoch: 3, loss_train: 1.2342, accuracy_train: 0.4298, loss_valid: 1.2450, accuracy_valid: 0.4147, 19.9295sec\n",
      "epoch: 4, loss_train: 1.1647, accuracy_train: 0.4198, loss_valid: 1.1716, accuracy_valid: 0.4147, 19.9041sec\n",
      "epoch: 5, loss_train: 1.1828, accuracy_train: 0.4053, loss_valid: 1.1994, accuracy_valid: 0.3945, 19.9254sec\n",
      "epoch: 6, loss_train: 1.2670, accuracy_train: 0.3962, loss_valid: 1.3019, accuracy_valid: 0.3960, 19.9108sec\n",
      "epoch: 7, loss_train: 1.0898, accuracy_train: 0.5764, loss_valid: 1.1203, accuracy_valid: 0.5494, 19.9831sec\n",
      "epoch: 8, loss_train: 1.0885, accuracy_train: 0.5807, loss_valid: 1.1190, accuracy_valid: 0.5674, 20.1014sec\n",
      "epoch: 9, loss_train: 1.0831, accuracy_train: 0.6020, loss_valid: 1.1632, accuracy_valid: 0.5711, 19.8912sec\n"
     ]
    },
    {
     "name": "stderr",
     "output_type": "stream",
     "text": [
      "\u001b[32m[I 2022-01-30 23:30:36,113]\u001b[0m Trial 54 finished with value: 1.0602119535787733 and parameters: {'hidden_size': 40.0, 'num_layers': 3.0, 'batch_size': 384.0, 'min_lr': 0.0008754117457013085, 'optimizer': 'Adam', 'lr': 1.7223505465531594e-05}. Best is trial 41 with value: 0.9859132645819002.\u001b[0m\n"
     ]
    },
    {
     "name": "stdout",
     "output_type": "stream",
     "text": [
      "epoch: 10, loss_train: 0.9635, accuracy_train: 0.6585, loss_valid: 1.0602, accuracy_valid: 0.6160, 20.0615sec\n",
      "epoch: 1, loss_train: 1.1770, accuracy_train: 0.4199, loss_valid: 1.1789, accuracy_valid: 0.4244, 23.7338sec\n",
      "epoch: 2, loss_train: 1.1665, accuracy_train: 0.4083, loss_valid: 1.1709, accuracy_valid: 0.4049, 23.9208sec\n",
      "epoch: 3, loss_train: 1.2657, accuracy_train: 0.3876, loss_valid: 1.3174, accuracy_valid: 0.3690, 23.7263sec\n",
      "epoch: 4, loss_train: 1.1663, accuracy_train: 0.4527, loss_valid: 1.1889, accuracy_valid: 0.4401, 23.9466sec\n",
      "epoch: 5, loss_train: 1.1429, accuracy_train: 0.5295, loss_valid: 1.1574, accuracy_valid: 0.5037, 23.9106sec\n",
      "epoch: 6, loss_train: 1.1799, accuracy_train: 0.4916, loss_valid: 1.2062, accuracy_valid: 0.4835, 23.8544sec\n",
      "epoch: 7, loss_train: 1.1285, accuracy_train: 0.5482, loss_valid: 1.1538, accuracy_valid: 0.5240, 23.7628sec\n",
      "epoch: 8, loss_train: 1.0588, accuracy_train: 0.6096, loss_valid: 1.0843, accuracy_valid: 0.5831, 23.7960sec\n",
      "epoch: 9, loss_train: 1.0924, accuracy_train: 0.6009, loss_valid: 1.1145, accuracy_valid: 0.5786, 24.1101sec\n"
     ]
    },
    {
     "name": "stderr",
     "output_type": "stream",
     "text": [
      "\u001b[32m[I 2022-01-30 23:34:34,920]\u001b[0m Trial 55 finished with value: 1.099895188016092 and parameters: {'hidden_size': 50.0, 'num_layers': 4.0, 'batch_size': 768.0, 'min_lr': 0.0020328696615708355, 'optimizer': 'RMSprop', 'lr': 7.941460949323376e-05}. Best is trial 41 with value: 0.9859132645819002.\u001b[0m\n"
     ]
    },
    {
     "name": "stdout",
     "output_type": "stream",
     "text": [
      "epoch: 10, loss_train: 1.0878, accuracy_train: 0.6118, loss_valid: 1.0999, accuracy_valid: 0.6048, 24.0052sec\n",
      "epoch: 1, loss_train: 1.3031, accuracy_train: 0.3925, loss_valid: 1.3053, accuracy_valid: 0.3930, 20.2709sec\n",
      "epoch: 2, loss_train: 1.2088, accuracy_train: 0.3911, loss_valid: 1.2108, accuracy_valid: 0.4072, 20.1512sec\n",
      "epoch: 3, loss_train: 1.1681, accuracy_train: 0.4104, loss_valid: 1.1705, accuracy_valid: 0.4087, 20.0973sec\n",
      "epoch: 4, loss_train: 1.1631, accuracy_train: 0.4262, loss_valid: 1.1659, accuracy_valid: 0.4244, 20.1377sec\n",
      "epoch: 5, loss_train: 1.1771, accuracy_train: 0.4038, loss_valid: 1.1924, accuracy_valid: 0.4012, 20.1084sec\n",
      "epoch: 6, loss_train: 1.2035, accuracy_train: 0.4211, loss_valid: 1.2485, accuracy_valid: 0.4251, 20.0966sec\n",
      "epoch: 7, loss_train: 1.0889, accuracy_train: 0.5497, loss_valid: 1.1165, accuracy_valid: 0.5329, 20.0915sec\n",
      "epoch: 8, loss_train: 1.0393, accuracy_train: 0.5949, loss_valid: 1.0866, accuracy_valid: 0.5719, 20.0802sec\n",
      "epoch: 9, loss_train: 0.9765, accuracy_train: 0.6451, loss_valid: 1.0279, accuracy_valid: 0.6100, 20.0847sec\n"
     ]
    },
    {
     "name": "stderr",
     "output_type": "stream",
     "text": [
      "\u001b[32m[I 2022-01-30 23:37:56,217]\u001b[0m Trial 56 finished with value: 1.1389411195532648 and parameters: {'hidden_size': 40.0, 'num_layers': 3.0, 'batch_size': 128.0, 'min_lr': 0.00021425260874885724, 'optimizer': 'Adam', 'lr': 3.1749307793138636e-05}. Best is trial 41 with value: 0.9859132645819002.\u001b[0m\n"
     ]
    },
    {
     "name": "stdout",
     "output_type": "stream",
     "text": [
      "epoch: 10, loss_train: 1.0512, accuracy_train: 0.5996, loss_valid: 1.1389, accuracy_valid: 0.5726, 20.1403sec\n",
      "epoch: 1, loss_train: 2.2897, accuracy_train: 0.3406, loss_valid: 2.3275, accuracy_valid: 0.3510, 16.4097sec\n",
      "epoch: 2, loss_train: 4.6950, accuracy_train: 0.3958, loss_valid: 4.7185, accuracy_valid: 0.3937, 16.3945sec\n",
      "epoch: 3, loss_train: 1.7040, accuracy_train: 0.2961, loss_valid: 1.7236, accuracy_valid: 0.2919, 16.4363sec\n",
      "epoch: 4, loss_train: 2.0736, accuracy_train: 0.3838, loss_valid: 2.0805, accuracy_valid: 0.3810, 16.4112sec\n",
      "epoch: 5, loss_train: 1.4699, accuracy_train: 0.3997, loss_valid: 1.4654, accuracy_valid: 0.3990, 16.3648sec\n",
      "epoch: 6, loss_train: 1.5615, accuracy_train: 0.3682, loss_valid: 1.5585, accuracy_valid: 0.3765, 16.4844sec\n",
      "epoch: 7, loss_train: 1.8263, accuracy_train: 0.3413, loss_valid: 1.8419, accuracy_valid: 0.3308, 16.4389sec\n",
      "epoch: 8, loss_train: 1.4680, accuracy_train: 0.3707, loss_valid: 1.4793, accuracy_valid: 0.3660, 16.5695sec\n",
      "epoch: 9, loss_train: 1.6176, accuracy_train: 0.3352, loss_valid: 1.6035, accuracy_valid: 0.3481, 16.3674sec\n"
     ]
    },
    {
     "name": "stderr",
     "output_type": "stream",
     "text": [
      "\u001b[32m[I 2022-01-30 23:40:40,552]\u001b[0m Trial 57 finished with value: 1.7045740551443513 and parameters: {'hidden_size': 50.0, 'num_layers': 2.0, 'batch_size': 192.0, 'min_lr': 0.004170538675163241, 'optimizer': 'RMSprop', 'lr': 0.02357258246083096}. Best is trial 41 with value: 0.9859132645819002.\u001b[0m\n"
     ]
    },
    {
     "name": "stdout",
     "output_type": "stream",
     "text": [
      "epoch: 10, loss_train: 1.6881, accuracy_train: 0.3819, loss_valid: 1.7046, accuracy_valid: 0.3832, 16.4169sec\n",
      "epoch: 1, loss_train: 1.2412, accuracy_train: 0.3972, loss_valid: 1.2645, accuracy_valid: 0.3960, 25.0691sec\n",
      "epoch: 2, loss_train: 1.0395, accuracy_train: 0.5865, loss_valid: 1.0724, accuracy_valid: 0.5726, 25.1429sec\n",
      "epoch: 3, loss_train: 1.1551, accuracy_train: 0.5179, loss_valid: 1.1772, accuracy_valid: 0.5052, 25.1094sec\n",
      "epoch: 4, loss_train: 1.2075, accuracy_train: 0.4070, loss_valid: 1.2177, accuracy_valid: 0.4019, 25.1976sec\n",
      "epoch: 5, loss_train: 1.1894, accuracy_train: 0.4585, loss_valid: 1.1833, accuracy_valid: 0.4693, 25.0773sec\n",
      "epoch: 6, loss_train: 1.5329, accuracy_train: 0.3968, loss_valid: 1.5406, accuracy_valid: 0.3937, 24.9306sec\n",
      "epoch: 7, loss_train: 1.3266, accuracy_train: 0.3808, loss_valid: 1.3308, accuracy_valid: 0.3787, 25.0271sec\n",
      "epoch: 8, loss_train: 1.3178, accuracy_train: 0.4357, loss_valid: 1.3190, accuracy_valid: 0.4364, 25.1428sec\n",
      "epoch: 9, loss_train: 1.3273, accuracy_train: 0.3964, loss_valid: 1.3258, accuracy_valid: 0.3960, 25.0770sec\n"
     ]
    },
    {
     "name": "stderr",
     "output_type": "stream",
     "text": [
      "\u001b[32m[I 2022-01-30 23:44:51,437]\u001b[0m Trial 58 finished with value: 1.3360444211518159 and parameters: {'hidden_size': 60.0, 'num_layers': 4.0, 'batch_size': 64.0, 'min_lr': 0.015421503224566197, 'optimizer': 'RMSprop', 'lr': 0.00010270533081219331}. Best is trial 41 with value: 0.9859132645819002.\u001b[0m\n"
     ]
    },
    {
     "name": "stdout",
     "output_type": "stream",
     "text": [
      "epoch: 10, loss_train: 1.3374, accuracy_train: 0.4356, loss_valid: 1.3360, accuracy_valid: 0.4364, 25.0688sec\n",
      "epoch: 1, loss_train: 1.4534, accuracy_train: 0.0903, loss_valid: 1.4521, accuracy_valid: 0.0958, 20.0495sec\n",
      "epoch: 2, loss_train: 1.4515, accuracy_train: 0.0916, loss_valid: 1.4502, accuracy_valid: 0.0966, 20.0439sec\n",
      "epoch: 3, loss_train: 1.4488, accuracy_train: 0.0943, loss_valid: 1.4475, accuracy_valid: 0.0973, 20.0173sec\n",
      "epoch: 4, loss_train: 1.4450, accuracy_train: 0.0987, loss_valid: 1.4438, accuracy_valid: 0.0996, 20.0887sec\n",
      "epoch: 5, loss_train: 1.4400, accuracy_train: 0.1049, loss_valid: 1.4388, accuracy_valid: 0.1115, 20.0601sec\n",
      "epoch: 6, loss_train: 1.4336, accuracy_train: 0.1125, loss_valid: 1.4324, accuracy_valid: 0.1160, 20.1720sec\n",
      "epoch: 7, loss_train: 1.4260, accuracy_train: 0.1252, loss_valid: 1.4249, accuracy_valid: 0.1295, 20.0281sec\n",
      "epoch: 8, loss_train: 1.4174, accuracy_train: 0.1454, loss_valid: 1.4164, accuracy_valid: 0.1527, 20.1253sec\n",
      "epoch: 9, loss_train: 1.4083, accuracy_train: 0.1718, loss_valid: 1.4072, accuracy_valid: 0.1654, 20.0527sec\n"
     ]
    },
    {
     "name": "stderr",
     "output_type": "stream",
     "text": [
      "\u001b[32m[I 2022-01-30 23:48:12,259]\u001b[0m Trial 59 finished with value: 1.3979559297154764 and parameters: {'hidden_size': 90.0, 'num_layers': 3.0, 'batch_size': 320.0, 'min_lr': 0.0003102937207102577, 'optimizer': 'SGD', 'lr': 4.411455689116049e-05}. Best is trial 41 with value: 0.9859132645819002.\u001b[0m\n"
     ]
    },
    {
     "name": "stdout",
     "output_type": "stream",
     "text": [
      "epoch: 10, loss_train: 1.3989, accuracy_train: 0.2004, loss_valid: 1.3980, accuracy_valid: 0.2043, 20.1436sec\n",
      "epoch: 1, loss_train: 1.1896, accuracy_train: 0.4221, loss_valid: 1.2072, accuracy_valid: 0.4019, 23.9355sec\n",
      "epoch: 2, loss_train: 1.1930, accuracy_train: 0.4589, loss_valid: 1.2244, accuracy_valid: 0.4476, 23.9609sec\n",
      "epoch: 3, loss_train: 1.1678, accuracy_train: 0.4869, loss_valid: 1.1920, accuracy_valid: 0.4828, 24.0422sec\n",
      "epoch: 4, loss_train: 1.1088, accuracy_train: 0.5505, loss_valid: 1.1421, accuracy_valid: 0.5344, 23.9865sec\n",
      "epoch: 5, loss_train: 1.1035, accuracy_train: 0.5599, loss_valid: 1.1489, accuracy_valid: 0.5449, 24.1826sec\n",
      "epoch: 6, loss_train: 1.0996, accuracy_train: 0.5637, loss_valid: 1.1436, accuracy_valid: 0.5479, 24.0248sec\n",
      "epoch: 7, loss_train: 1.1270, accuracy_train: 0.5504, loss_valid: 1.1693, accuracy_valid: 0.5427, 23.9250sec\n",
      "epoch: 8, loss_train: 1.1199, accuracy_train: 0.5518, loss_valid: 1.1556, accuracy_valid: 0.5412, 24.0595sec\n",
      "epoch: 9, loss_train: 1.0697, accuracy_train: 0.5869, loss_valid: 1.1115, accuracy_valid: 0.5584, 24.1019sec\n"
     ]
    },
    {
     "name": "stderr",
     "output_type": "stream",
     "text": [
      "\u001b[32m[I 2022-01-30 23:52:12,584]\u001b[0m Trial 60 finished with value: 1.1165590233721598 and parameters: {'hidden_size': 40.0, 'num_layers': 4.0, 'batch_size': 448.0, 'min_lr': 0.00012177467253952866, 'optimizer': 'RMSprop', 'lr': 0.0004972851300387645}. Best is trial 41 with value: 0.9859132645819002.\u001b[0m\n"
     ]
    },
    {
     "name": "stdout",
     "output_type": "stream",
     "text": [
      "epoch: 10, loss_train: 1.0743, accuracy_train: 0.5854, loss_valid: 1.1166, accuracy_valid: 0.5554, 24.0552sec\n",
      "epoch: 1, loss_train: 1.1690, accuracy_train: 0.3972, loss_valid: 1.1724, accuracy_valid: 0.3937, 20.5403sec\n",
      "epoch: 2, loss_train: 1.1942, accuracy_train: 0.3957, loss_valid: 1.2174, accuracy_valid: 0.3930, 20.4326sec\n",
      "epoch: 3, loss_train: 1.2633, accuracy_train: 0.4145, loss_valid: 1.2773, accuracy_valid: 0.4117, 20.3903sec\n",
      "epoch: 4, loss_train: 1.2157, accuracy_train: 0.4804, loss_valid: 1.2517, accuracy_valid: 0.4708, 20.4414sec\n",
      "epoch: 5, loss_train: 1.0895, accuracy_train: 0.5436, loss_valid: 1.1259, accuracy_valid: 0.5292, 20.3565sec\n",
      "epoch: 6, loss_train: 1.1794, accuracy_train: 0.5003, loss_valid: 1.2343, accuracy_valid: 0.4873, 20.4417sec\n",
      "epoch: 7, loss_train: 0.9994, accuracy_train: 0.6085, loss_valid: 1.0566, accuracy_valid: 0.5853, 20.4592sec\n",
      "epoch: 8, loss_train: 1.1797, accuracy_train: 0.4574, loss_valid: 1.2336, accuracy_valid: 0.4296, 20.4004sec\n",
      "epoch: 9, loss_train: 0.9924, accuracy_train: 0.6158, loss_valid: 1.0611, accuracy_valid: 0.5786, 20.3538sec\n"
     ]
    },
    {
     "name": "stderr",
     "output_type": "stream",
     "text": [
      "\u001b[32m[I 2022-01-30 23:55:36,810]\u001b[0m Trial 61 finished with value: 1.1780070288742552 and parameters: {'hidden_size': 50.0, 'num_layers': 3.0, 'batch_size': 192.0, 'min_lr': 0.001692541592915118, 'optimizer': 'RMSprop', 'lr': 6.873721806316266e-05}. Best is trial 41 with value: 0.9859132645819002.\u001b[0m\n"
     ]
    },
    {
     "name": "stdout",
     "output_type": "stream",
     "text": [
      "epoch: 10, loss_train: 1.1302, accuracy_train: 0.5403, loss_valid: 1.1780, accuracy_valid: 0.5157, 20.3703sec\n",
      "epoch: 1, loss_train: 1.2151, accuracy_train: 0.3788, loss_valid: 1.2169, accuracy_valid: 0.3728, 20.1463sec\n",
      "epoch: 2, loss_train: 1.1702, accuracy_train: 0.4036, loss_valid: 1.1716, accuracy_valid: 0.3817, 20.2736sec\n",
      "epoch: 3, loss_train: 1.1645, accuracy_train: 0.3923, loss_valid: 1.1667, accuracy_valid: 0.3705, 20.2151sec\n",
      "epoch: 4, loss_train: 1.2013, accuracy_train: 0.3999, loss_valid: 1.2314, accuracy_valid: 0.4004, 20.1066sec\n",
      "epoch: 5, loss_train: 1.0986, accuracy_train: 0.5332, loss_valid: 1.1340, accuracy_valid: 0.5254, 20.2652sec\n",
      "epoch: 6, loss_train: 1.0727, accuracy_train: 0.5546, loss_valid: 1.1107, accuracy_valid: 0.5479, 20.1786sec\n",
      "epoch: 7, loss_train: 1.0027, accuracy_train: 0.6204, loss_valid: 1.0588, accuracy_valid: 0.6003, 20.1220sec\n",
      "epoch: 8, loss_train: 1.0245, accuracy_train: 0.6039, loss_valid: 1.0583, accuracy_valid: 0.5898, 20.1746sec\n",
      "epoch: 9, loss_train: 1.0238, accuracy_train: 0.5917, loss_valid: 1.0904, accuracy_valid: 0.5659, 20.1468sec\n"
     ]
    },
    {
     "name": "stderr",
     "output_type": "stream",
     "text": [
      "\u001b[32m[I 2022-01-30 23:58:58,690]\u001b[0m Trial 62 finished with value: 1.0275121539786547 and parameters: {'hidden_size': 50.0, 'num_layers': 3.0, 'batch_size': 256.0, 'min_lr': 0.0014429068845768667, 'optimizer': 'RMSprop', 'lr': 2.8271151871752375e-05}. Best is trial 41 with value: 0.9859132645819002.\u001b[0m\n"
     ]
    },
    {
     "name": "stdout",
     "output_type": "stream",
     "text": [
      "epoch: 10, loss_train: 0.9862, accuracy_train: 0.6417, loss_valid: 1.0275, accuracy_valid: 0.6160, 20.2116sec\n",
      "epoch: 1, loss_train: 1.1688, accuracy_train: 0.4352, loss_valid: 1.1703, accuracy_valid: 0.4311, 20.7951sec\n",
      "epoch: 2, loss_train: 1.1606, accuracy_train: 0.4335, loss_valid: 1.1628, accuracy_valid: 0.4222, 20.8482sec\n",
      "epoch: 3, loss_train: 1.0964, accuracy_train: 0.5415, loss_valid: 1.1148, accuracy_valid: 0.5292, 20.7722sec\n",
      "epoch: 4, loss_train: 1.0464, accuracy_train: 0.5955, loss_valid: 1.0971, accuracy_valid: 0.5636, 20.7973sec\n",
      "epoch: 5, loss_train: 1.1918, accuracy_train: 0.4866, loss_valid: 1.2309, accuracy_valid: 0.4723, 20.6918sec\n",
      "epoch: 6, loss_train: 0.9736, accuracy_train: 0.6244, loss_valid: 1.0367, accuracy_valid: 0.6048, 20.7544sec\n",
      "epoch: 7, loss_train: 1.0403, accuracy_train: 0.5729, loss_valid: 1.1153, accuracy_valid: 0.5584, 20.6823sec\n",
      "epoch: 8, loss_train: 1.0855, accuracy_train: 0.5779, loss_valid: 1.1865, accuracy_valid: 0.5546, 20.6275sec\n",
      "epoch: 9, loss_train: 1.0547, accuracy_train: 0.5913, loss_valid: 1.1465, accuracy_valid: 0.5606, 20.7981sec\n"
     ]
    },
    {
     "name": "stderr",
     "output_type": "stream",
     "text": [
      "\u001b[32m[I 2022-01-31 00:02:26,313]\u001b[0m Trial 63 finished with value: 1.1043480167912687 and parameters: {'hidden_size': 60.0, 'num_layers': 3.0, 'batch_size': 128.0, 'min_lr': 0.0011425157572648196, 'optimizer': 'RMSprop', 'lr': 2.7944570119316003e-05}. Best is trial 41 with value: 0.9859132645819002.\u001b[0m\n"
     ]
    },
    {
     "name": "stdout",
     "output_type": "stream",
     "text": [
      "epoch: 10, loss_train: 1.0249, accuracy_train: 0.5546, loss_valid: 1.1043, accuracy_valid: 0.4888, 20.8048sec\n",
      "epoch: 1, loss_train: 1.2703, accuracy_train: 0.4060, loss_valid: 1.2734, accuracy_valid: 0.4087, 20.2424sec\n",
      "epoch: 2, loss_train: 1.2025, accuracy_train: 0.4124, loss_valid: 1.2073, accuracy_valid: 0.4102, 20.1925sec\n",
      "epoch: 3, loss_train: 1.1740, accuracy_train: 0.4122, loss_valid: 1.1835, accuracy_valid: 0.4109, 20.2734sec\n",
      "epoch: 4, loss_train: 1.2425, accuracy_train: 0.4007, loss_valid: 1.3067, accuracy_valid: 0.3705, 20.1469sec\n",
      "epoch: 5, loss_train: 1.0723, accuracy_train: 0.5753, loss_valid: 1.1027, accuracy_valid: 0.5569, 20.3609sec\n",
      "epoch: 6, loss_train: 1.1193, accuracy_train: 0.5496, loss_valid: 1.1673, accuracy_valid: 0.5292, 20.2480sec\n",
      "epoch: 7, loss_train: 1.0799, accuracy_train: 0.5815, loss_valid: 1.1244, accuracy_valid: 0.5614, 20.2276sec\n",
      "epoch: 8, loss_train: 1.1491, accuracy_train: 0.5305, loss_valid: 1.1629, accuracy_valid: 0.5322, 20.2188sec\n",
      "epoch: 9, loss_train: 1.0684, accuracy_train: 0.5939, loss_valid: 1.1087, accuracy_valid: 0.5749, 20.2098sec\n"
     ]
    },
    {
     "name": "stderr",
     "output_type": "stream",
     "text": [
      "\u001b[32m[I 2022-01-31 00:05:48,679]\u001b[0m Trial 64 finished with value: 1.1745474092595414 and parameters: {'hidden_size': 50.0, 'num_layers': 3.0, 'batch_size': 256.0, 'min_lr': 0.0007254867657669687, 'optimizer': 'RMSprop', 'lr': 1.4754693534968781e-05}. Best is trial 41 with value: 0.9859132645819002.\u001b[0m\n"
     ]
    },
    {
     "name": "stdout",
     "output_type": "stream",
     "text": [
      "epoch: 10, loss_train: 1.1431, accuracy_train: 0.5535, loss_valid: 1.1745, accuracy_valid: 0.5457, 20.2051sec\n",
      "epoch: 1, loss_train: 1.3703, accuracy_train: 0.2615, loss_valid: 1.3818, accuracy_valid: 0.2455, 20.6995sec\n",
      "epoch: 2, loss_train: 1.3284, accuracy_train: 0.3414, loss_valid: 1.3410, accuracy_valid: 0.3256, 20.5610sec\n",
      "epoch: 3, loss_train: 1.2615, accuracy_train: 0.3878, loss_valid: 1.2746, accuracy_valid: 0.3720, 20.5899sec\n",
      "epoch: 4, loss_train: 1.1956, accuracy_train: 0.4159, loss_valid: 1.2050, accuracy_valid: 0.4079, 20.5859sec\n",
      "epoch: 5, loss_train: 1.1752, accuracy_train: 0.4214, loss_valid: 1.1834, accuracy_valid: 0.4244, 20.5188sec\n",
      "epoch: 6, loss_train: 1.1881, accuracy_train: 0.4248, loss_valid: 1.2080, accuracy_valid: 0.4154, 20.5179sec\n",
      "epoch: 7, loss_train: 1.1678, accuracy_train: 0.4783, loss_valid: 1.1924, accuracy_valid: 0.4641, 20.6938sec\n",
      "epoch: 8, loss_train: 1.1479, accuracy_train: 0.5134, loss_valid: 1.1761, accuracy_valid: 0.4940, 20.5683sec\n",
      "epoch: 9, loss_train: 1.1015, accuracy_train: 0.5511, loss_valid: 1.1217, accuracy_valid: 0.5352, 20.5228sec\n"
     ]
    },
    {
     "name": "stderr",
     "output_type": "stream",
     "text": [
      "\u001b[32m[I 2022-01-31 00:09:14,520]\u001b[0m Trial 65 finished with value: 1.1245842029725364 and parameters: {'hidden_size': 10.0, 'num_layers': 3.0, 'batch_size': 64.0, 'min_lr': 0.00046572520504240157, 'optimizer': 'RMSprop', 'lr': 1.924784877816043e-05}. Best is trial 41 with value: 0.9859132645819002.\u001b[0m\n"
     ]
    },
    {
     "name": "stdout",
     "output_type": "stream",
     "text": [
      "epoch: 10, loss_train: 1.0919, accuracy_train: 0.5643, loss_valid: 1.1246, accuracy_valid: 0.5442, 20.5439sec\n",
      "epoch: 1, loss_train: 1.2098, accuracy_train: 0.4231, loss_valid: 1.2075, accuracy_valid: 0.4319, 19.8155sec\n",
      "epoch: 2, loss_train: 1.1689, accuracy_train: 0.4335, loss_valid: 1.1664, accuracy_valid: 0.4349, 19.8627sec\n",
      "epoch: 3, loss_train: 1.1669, accuracy_train: 0.4288, loss_valid: 1.1673, accuracy_valid: 0.4409, 19.8968sec\n",
      "epoch: 4, loss_train: 1.1306, accuracy_train: 0.5082, loss_valid: 1.1523, accuracy_valid: 0.4918, 19.8044sec\n",
      "epoch: 5, loss_train: 1.1175, accuracy_train: 0.5240, loss_valid: 1.1382, accuracy_valid: 0.5135, 19.6880sec\n",
      "epoch: 6, loss_train: 1.0957, accuracy_train: 0.5501, loss_valid: 1.1196, accuracy_valid: 0.5225, 19.7602sec\n",
      "epoch: 7, loss_train: 1.0892, accuracy_train: 0.5740, loss_valid: 1.1271, accuracy_valid: 0.5479, 19.7780sec\n",
      "epoch: 8, loss_train: 1.1009, accuracy_train: 0.5978, loss_valid: 1.1359, accuracy_valid: 0.5546, 19.8199sec\n",
      "epoch: 9, loss_train: 1.0772, accuracy_train: 0.5978, loss_valid: 1.1102, accuracy_valid: 0.5569, 19.8851sec\n"
     ]
    },
    {
     "name": "stderr",
     "output_type": "stream",
     "text": [
      "\u001b[32m[I 2022-01-31 00:12:32,680]\u001b[0m Trial 66 finished with value: 1.0868822488777652 and parameters: {'hidden_size': 40.0, 'num_layers': 3.0, 'batch_size': 576.0, 'min_lr': 0.0024398046833166752, 'optimizer': 'RMSprop', 'lr': 3.603431667989255e-05}. Best is trial 41 with value: 0.9859132645819002.\u001b[0m\n"
     ]
    },
    {
     "name": "stdout",
     "output_type": "stream",
     "text": [
      "epoch: 10, loss_train: 1.0694, accuracy_train: 0.6214, loss_valid: 1.0869, accuracy_valid: 0.5973, 19.8090sec\n",
      "epoch: 1, loss_train: 1.3665, accuracy_train: 0.2428, loss_valid: 1.3640, accuracy_valid: 0.2537, 24.5378sec\n",
      "epoch: 2, loss_train: 1.3624, accuracy_train: 0.2551, loss_valid: 1.3600, accuracy_valid: 0.2657, 24.5402sec\n",
      "epoch: 3, loss_train: 1.3545, accuracy_train: 0.2803, loss_valid: 1.3523, accuracy_valid: 0.2807, 24.4299sec\n",
      "epoch: 4, loss_train: 1.3414, accuracy_train: 0.3185, loss_valid: 1.3396, accuracy_valid: 0.3211, 24.5695sec\n",
      "epoch: 5, loss_train: 1.3233, accuracy_train: 0.3624, loss_valid: 1.3219, accuracy_valid: 0.3608, 24.4060sec\n",
      "epoch: 6, loss_train: 1.3013, accuracy_train: 0.3978, loss_valid: 1.3005, accuracy_valid: 0.3825, 24.4650sec\n",
      "epoch: 7, loss_train: 1.2780, accuracy_train: 0.4125, loss_valid: 1.2778, accuracy_valid: 0.3907, 24.4170sec\n",
      "epoch: 8, loss_train: 1.2553, accuracy_train: 0.4153, loss_valid: 1.2557, accuracy_valid: 0.3930, 24.4568sec\n",
      "epoch: 9, loss_train: 1.2352, accuracy_train: 0.4174, loss_valid: 1.2361, accuracy_valid: 0.3945, 24.5087sec\n"
     ]
    },
    {
     "name": "stderr",
     "output_type": "stream",
     "text": [
      "\u001b[32m[I 2022-01-31 00:16:37,622]\u001b[0m Trial 67 finished with value: 1.2200031649031324 and parameters: {'hidden_size': 60.0, 'num_layers': 4.0, 'batch_size': 192.0, 'min_lr': 0.0011003852522187716, 'optimizer': 'SGD', 'lr': 5.058598975663492e-05}. Best is trial 41 with value: 0.9859132645819002.\u001b[0m\n"
     ]
    },
    {
     "name": "stdout",
     "output_type": "stream",
     "text": [
      "epoch: 10, loss_train: 1.2186, accuracy_train: 0.4166, loss_valid: 1.2200, accuracy_valid: 0.3892, 24.5702sec\n"
     ]
    }
   ],
   "source": [
    "# 最適化\n",
    "study = optuna.create_study()\n",
    "study.optimize(objective, timeout=14400)"
   ]
  },
  {
   "cell_type": "code",
   "execution_count": 53,
   "metadata": {},
   "outputs": [
    {
     "name": "stdout",
     "output_type": "stream",
     "text": [
      "Best trial:\n",
      "  Value: 0.986\n",
      "  Params: \n",
      "    hidden_size: 50.0\n",
      "    num_layers: 3.0\n",
      "    batch_size: 192.0\n",
      "    min_lr: 0.0009601578702346814\n",
      "    optimizer: Adam\n",
      "    lr: 3.0434689497176263e-05\n"
     ]
    }
   ],
   "source": [
    "# 結果の表示\n",
    "print('Best trial:')\n",
    "trial = study.best_trial\n",
    "print('  Value: {:.3f}'.format(trial.value))\n",
    "print('  Params: ')\n",
    "for key, value in trial.params.items():\n",
    "  print('    {}: {}'.format(key, value))"
   ]
  },
  {
   "cell_type": "code",
   "execution_count": 55,
   "metadata": {},
   "outputs": [
    {
     "name": "stdout",
     "output_type": "stream",
     "text": [
      "epoch: 1, loss_train: 1.3125, accuracy_train: 0.3740, loss_valid: 1.3227, accuracy_valid: 0.3496, 20.5725sec\n",
      "epoch: 2, loss_train: 1.1840, accuracy_train: 0.4236, loss_valid: 1.1900, accuracy_valid: 0.4222, 20.7124sec\n",
      "epoch: 3, loss_train: 1.1621, accuracy_train: 0.4203, loss_valid: 1.1709, accuracy_valid: 0.4192, 20.8751sec\n",
      "epoch: 4, loss_train: 1.1909, accuracy_train: 0.4366, loss_valid: 1.2563, accuracy_valid: 0.4207, 20.9563sec\n",
      "epoch: 5, loss_train: 1.0933, accuracy_train: 0.5496, loss_valid: 1.1454, accuracy_valid: 0.5217, 20.6818sec\n",
      "epoch: 6, loss_train: 1.1439, accuracy_train: 0.5429, loss_valid: 1.2025, accuracy_valid: 0.5202, 20.9452sec\n",
      "epoch: 7, loss_train: 1.0464, accuracy_train: 0.6105, loss_valid: 1.0789, accuracy_valid: 0.6010, 20.8663sec\n",
      "epoch: 8, loss_train: 1.0687, accuracy_train: 0.5993, loss_valid: 1.0946, accuracy_valid: 0.5951, 20.9683sec\n",
      "epoch: 9, loss_train: 1.0860, accuracy_train: 0.5842, loss_valid: 1.1112, accuracy_valid: 0.5704, 20.7839sec\n",
      "epoch: 10, loss_train: 1.0700, accuracy_train: 0.5953, loss_valid: 1.1264, accuracy_valid: 0.5689, 20.5832sec\n"
     ]
    }
   ],
   "source": [
    "VOCAB_SIZE = len(set(word2id.values())) + 1\n",
    "EMB_SIZE =300\n",
    "PADDING_IDX = len(set(word2id.values()))\n",
    "OUTPUT_SIZE = 4\n",
    "hidden_size = int(trial.params['hidden_size'])\n",
    "num_layers = int(trial.params['num_layers'])\n",
    "batch_size = int(trial.params['batch_size']) \n",
    "num_epochs = 10 \n",
    "num_eta_min = trial.params['min_lr']\n",
    "\n",
    "# デバイスの指定\n",
    "device = torch.device('cuda')\n",
    "\n",
    "# モデルの定義\n",
    "model = RNN(VOCAB_SIZE, EMB_SIZE, PADDING_IDX, OUTPUT_SIZE, hidden_size, num_layers, emb_weights=weights, bidirectional=True)\n",
    "    \n",
    "# 損失関数の定義\n",
    "criterion = nn.CrossEntropyLoss()\n",
    "    \n",
    "# オプティマイザの定義\n",
    "if trial.params['optimizer'] == 'Adam':\n",
    "    optimizer = torch.optim.Adam(model.parameters(),lr=trial.params['lr'])\n",
    "\n",
    "elif trial.params['optimizer'] == 'RMSprop':\n",
    "    optimizer = torch.optim.RMSprop(model.parameters(),lr=trial.params['lr'])\n",
    "\n",
    "else:\n",
    "    optimizer = torch.optim.SGD(model.parameters(),lr=trial.params['lr'])\n",
    "\n",
    "\n",
    "log = display_train_model(dataset_train, dataset_valid, batch_size, model, criterion, optimizer, num_epochs, num_eta_min, collate_fn=Padsequence(PADDING_IDX), device=device)"
   ]
  },
  {
   "cell_type": "code",
   "execution_count": 56,
   "metadata": {},
   "outputs": [
    {
     "data": {
      "image/png": "[encoded data removed]",
      "text/plain": [
       "<Figure size 1080x360 with 2 Axes>"
      ]
     },
     "metadata": {
      "needs_background": "light"
     },
     "output_type": "display_data"
    },
    {
     "name": "stdout",
     "output_type": "stream",
     "text": [
      "正解率（学習データ）：0.595\n",
      "正解率（評価データ）：0.564\n"
     ]
    }
   ],
   "source": [
    "# ログの可視化\n",
    "visualize_logs(log)\n",
    "\n",
    "# 正解率の算出\n",
    "_, acc_train = calculate_loss_and_accuracy(model, dataset_train, device)\n",
    "_, acc_test = calculate_loss_and_accuracy(model, dataset_test, device)\n",
    "print(f'正解率（学習データ）：{acc_train:.3f}')\n",
    "print(f'正解率（評価データ）：{acc_test:.3f}')"
   ]
  },
  {
   "cell_type": "markdown",
   "metadata": {},
   "source": [
    "### #87の方"
   ]
  },
  {
   "cell_type": "code",
   "execution_count": 16,
   "metadata": {},
   "outputs": [],
   "source": [
    "from torch.nn import functional as F\n",
    "\n",
    "class CNN(nn.Module): #drop_rateを追加\n",
    "  def __init__(self, vocab_size, emb_size, padding_idx, output_size, out_channels, kernel_heights, stride, padding, drop_rate, emb_weights=None):\n",
    "    super().__init__()\n",
    "    if emb_weights != None:  # 指定があれば埋め込み層の重みをemb_weightsで初期化\n",
    "      self.emb = nn.Embedding.from_pretrained(emb_weights, padding_idx=padding_idx)\n",
    "    else:\n",
    "      self.emb = nn.Embedding(vocab_size, emb_size, padding_idx=padding_idx)\n",
    "    self.conv = nn.Conv2d(1, out_channels, (kernel_heights, emb_size), stride, (padding, 0))\n",
    "    self.drop = nn.Dropout(drop_rate)\n",
    "    self.fc = nn.Linear(out_channels, output_size)\n",
    "    \n",
    "  def forward(self, x):\n",
    "    # x.size() = (batch_size, seq_len)\n",
    "    emb = self.emb(x).unsqueeze(1)\n",
    "    # emb.size() = (batch_size, 1, seq_len, emb_size)\n",
    "    conv = self.conv(emb)\n",
    "    # conv.size() = (batch_size, out_channels, seq_len, 1)\n",
    "    act = F.relu(conv.squeeze(3))\n",
    "    # act.size() = (batch_size, out_channels, seq_len)\n",
    "    max_pool = F.max_pool1d(act, act.size()[2])\n",
    "    # max_pool.size() = (batch_size, out_channels, 1) -> seq_len方向に最大値を取得\n",
    "    out = self.fc(self.drop(max_pool.squeeze(2)))\n",
    "    # out.size() = (batch_size, output_size)\n",
    "    return out"
   ]
  },
  {
   "cell_type": "code",
   "execution_count": 25,
   "metadata": {
    "tags": []
   },
   "outputs": [],
   "source": [
    "import optuna\n",
    "\n",
    "def objective(trial):\n",
    "  # チューニング対象パラメータのセット\n",
    "  emb_size = int(trial.suggest_discrete_uniform('emb_size', 100, 400, 100))\n",
    "  out_channels = int(trial.suggest_discrete_uniform('out_channels', 50, 200, 50))\n",
    "  drop_rate = trial.suggest_discrete_uniform('drop_rate', 0.0, 0.5, 0.1)\n",
    "  learning_rate = trial.suggest_loguniform('learning_rate', 5e-4, 5e-2)\n",
    "  momentum = trial.suggest_discrete_uniform('momentum', 0.5, 0.9, 0.1)\n",
    "  batch_size = int(trial.suggest_discrete_uniform('batch_size', 16, 128, 16))\n",
    "  num_eta_min = trial.suggest_loguniform('min_lr', 1e-5, 1e-1)#スケジューラの学習率の最小値\n",
    "\n",
    "\n",
    "\n",
    "  # 固定パラメータの設定\n",
    "  VOCAB_SIZE = len(set(word2id.values())) + 1\n",
    "  PADDING_IDX = len(set(word2id.values()))\n",
    "  OUTPUT_SIZE = 4\n",
    "  KERNEL_HEIGHTS = 3\n",
    "  STRIDE = 1\n",
    "  PADDING = 1\n",
    "  NUM_EPOCHS = 30\n",
    "\n",
    "  # モデルの定義\n",
    "  model = CNN(VOCAB_SIZE, EMB_SIZE, PADDING_IDX, OUTPUT_SIZE, out_channels, KERNEL_HEIGHTS, STRIDE, PADDING, drop_rate, emb_weights=weights)\n",
    "\n",
    "  # 損失関数の定義\n",
    "  criterion = nn.CrossEntropyLoss()\n",
    "\n",
    "  # オプティマイザの定義\n",
    "  optimizer = torch.optim.SGD(model.parameters(), lr=learning_rate, momentum=momentum)\n",
    "\n",
    "  # デバイスの指定\n",
    "  device = torch.device('cuda')\n",
    "\n",
    "\n",
    "  return train_model(dataset_train, dataset_valid, batch_size, model, criterion, optimizer, NUM_EPOCHS, num_eta_min, collate_fn=Padsequence(PADDING_IDX), device=device)[1][-1][0] #log_validの最後のlossを取得"
   ]
  },
  {
   "cell_type": "code",
   "execution_count": 26,
   "metadata": {
    "tags": []
   },
   "outputs": [
    {
     "name": "stderr",
     "output_type": "stream",
     "text": [
      "\u001b[32m[I 2022-01-31 16:48:34,155]\u001b[0m A new study created in memory with name: no-name-0312d188-730e-4698-b7ec-e241b75396d8\u001b[0m\n"
     ]
    },
    {
     "name": "stdout",
     "output_type": "stream",
     "text": [
      "epoch: 1, loss_train: 1.1358, accuracy_train: 0.5188, loss_valid: 1.1406, accuracy_valid: 0.5007, 7.8217sec\n",
      "epoch: 2, loss_train: 1.1036, accuracy_train: 0.5410, loss_valid: 1.1138, accuracy_valid: 0.5232, 7.6566sec\n",
      "epoch: 3, loss_train: 1.0814, accuracy_train: 0.5554, loss_valid: 1.0955, accuracy_valid: 0.5464, 7.6563sec\n",
      "epoch: 4, loss_train: 1.0616, accuracy_train: 0.5715, loss_valid: 1.0787, accuracy_valid: 0.5726, 7.6903sec\n",
      "epoch: 5, loss_train: 1.0417, accuracy_train: 0.5957, loss_valid: 1.0649, accuracy_valid: 0.5868, 7.5892sec\n",
      "epoch: 6, loss_train: 1.0212, accuracy_train: 0.6204, loss_valid: 1.0487, accuracy_valid: 0.6048, 7.5920sec\n",
      "epoch: 7, loss_train: 1.0002, accuracy_train: 0.6391, loss_valid: 1.0324, accuracy_valid: 0.6145, 7.5876sec\n",
      "epoch: 8, loss_train: 0.9792, accuracy_train: 0.6470, loss_valid: 1.0137, accuracy_valid: 0.6280, 7.5635sec\n",
      "epoch: 9, loss_train: 0.9586, accuracy_train: 0.6712, loss_valid: 0.9999, accuracy_valid: 0.6400, 7.5910sec\n",
      "epoch: 10, loss_train: 0.9388, accuracy_train: 0.6827, loss_valid: 0.9842, accuracy_valid: 0.6549, 7.6115sec\n",
      "epoch: 11, loss_train: 0.9200, accuracy_train: 0.6892, loss_valid: 0.9681, accuracy_valid: 0.6579, 7.5859sec\n",
      "epoch: 12, loss_train: 0.9033, accuracy_train: 0.6977, loss_valid: 0.9561, accuracy_valid: 0.6632, 7.5815sec\n",
      "epoch: 13, loss_train: 0.8882, accuracy_train: 0.7002, loss_valid: 0.9439, accuracy_valid: 0.6654, 7.6443sec\n",
      "epoch: 14, loss_train: 0.8739, accuracy_train: 0.7105, loss_valid: 0.9344, accuracy_valid: 0.6714, 7.6086sec\n",
      "epoch: 15, loss_train: 0.8615, accuracy_train: 0.7149, loss_valid: 0.9249, accuracy_valid: 0.6781, 7.5906sec\n",
      "epoch: 16, loss_train: 0.8507, accuracy_train: 0.7176, loss_valid: 0.9167, accuracy_valid: 0.6781, 7.6278sec\n",
      "epoch: 17, loss_train: 0.8411, accuracy_train: 0.7214, loss_valid: 0.9102, accuracy_valid: 0.6834, 7.5958sec\n",
      "epoch: 18, loss_train: 0.8331, accuracy_train: 0.7259, loss_valid: 0.9052, accuracy_valid: 0.6834, 7.5924sec\n",
      "epoch: 19, loss_train: 0.8258, accuracy_train: 0.7282, loss_valid: 0.8995, accuracy_valid: 0.6856, 7.5850sec\n",
      "epoch: 20, loss_train: 0.8199, accuracy_train: 0.7293, loss_valid: 0.8949, accuracy_valid: 0.6871, 7.5920sec\n",
      "epoch: 21, loss_train: 0.8148, accuracy_train: 0.7322, loss_valid: 0.8919, accuracy_valid: 0.6886, 7.6060sec\n",
      "epoch: 22, loss_train: 0.8106, accuracy_train: 0.7333, loss_valid: 0.8889, accuracy_valid: 0.6931, 7.5904sec\n",
      "epoch: 23, loss_train: 0.8074, accuracy_train: 0.7343, loss_valid: 0.8867, accuracy_valid: 0.6909, 7.5935sec\n",
      "epoch: 24, loss_train: 0.8049, accuracy_train: 0.7350, loss_valid: 0.8850, accuracy_valid: 0.6931, 7.6038sec\n",
      "epoch: 25, loss_train: 0.8030, accuracy_train: 0.7358, loss_valid: 0.8838, accuracy_valid: 0.6939, 7.6170sec\n",
      "epoch: 26, loss_train: 0.8016, accuracy_train: 0.7363, loss_valid: 0.8830, accuracy_valid: 0.6939, 7.6043sec\n",
      "epoch: 27, loss_train: 0.8008, accuracy_train: 0.7368, loss_valid: 0.8824, accuracy_valid: 0.6946, 7.6017sec\n",
      "epoch: 28, loss_train: 0.8002, accuracy_train: 0.7370, loss_valid: 0.8821, accuracy_valid: 0.6946, 7.6039sec\n",
      "epoch: 29, loss_train: 0.8000, accuracy_train: 0.7372, loss_valid: 0.8819, accuracy_valid: 0.6946, 7.5799sec\n"
     ]
    },
    {
     "name": "stderr",
     "output_type": "stream",
     "text": [
      "\u001b[32m[I 2022-01-31 16:52:25,348]\u001b[0m Trial 0 finished with value: 0.8818090000813046 and parameters: {'emb_size': 400.0, 'out_channels': 150.0, 'drop_rate': 0.5, 'learning_rate': 0.008836280393119098, 'momentum': 0.7, 'batch_size': 128.0, 'min_lr': 1.7167070011707362e-05}. Best is trial 0 with value: 0.8818090000813046.\u001b[0m\n"
     ]
    },
    {
     "name": "stdout",
     "output_type": "stream",
     "text": [
      "epoch: 30, loss_train: 0.7999, accuracy_train: 0.7372, loss_valid: 0.8818, accuracy_valid: 0.6946, 7.5836sec\n",
      "epoch: 1, loss_train: 0.9902, accuracy_train: 0.6291, loss_valid: 1.0312, accuracy_valid: 0.6123, 8.0223sec\n",
      "epoch: 2, loss_train: 0.8053, accuracy_train: 0.7239, loss_valid: 0.8935, accuracy_valid: 0.6811, 8.0484sec\n",
      "epoch: 3, loss_train: 0.6821, accuracy_train: 0.7629, loss_valid: 0.8227, accuracy_valid: 0.6984, 8.0113sec\n",
      "epoch: 4, loss_train: 0.5680, accuracy_train: 0.7983, loss_valid: 0.7452, accuracy_valid: 0.7290, 8.0022sec\n",
      "epoch: 5, loss_train: 0.4816, accuracy_train: 0.8354, loss_valid: 0.7047, accuracy_valid: 0.7395, 8.0420sec\n",
      "epoch: 6, loss_train: 0.4037, accuracy_train: 0.8643, loss_valid: 0.6428, accuracy_valid: 0.7657, 8.0142sec\n",
      "epoch: 7, loss_train: 0.3373, accuracy_train: 0.8939, loss_valid: 0.6232, accuracy_valid: 0.7769, 8.0066sec\n",
      "epoch: 8, loss_train: 0.2879, accuracy_train: 0.9341, loss_valid: 0.6080, accuracy_valid: 0.7912, 8.0246sec\n",
      "epoch: 9, loss_train: 0.2410, accuracy_train: 0.9314, loss_valid: 0.5681, accuracy_valid: 0.7979, 8.0536sec\n",
      "epoch: 10, loss_train: 0.2066, accuracy_train: 0.9628, loss_valid: 0.5729, accuracy_valid: 0.7972, 8.0301sec\n",
      "epoch: 11, loss_train: 0.1770, accuracy_train: 0.9732, loss_valid: 0.5609, accuracy_valid: 0.8076, 8.0360sec\n",
      "epoch: 12, loss_train: 0.1513, accuracy_train: 0.9765, loss_valid: 0.5411, accuracy_valid: 0.8121, 8.1754sec\n",
      "epoch: 13, loss_train: 0.1330, accuracy_train: 0.9832, loss_valid: 0.5405, accuracy_valid: 0.8076, 8.0125sec\n",
      "epoch: 14, loss_train: 0.1168, accuracy_train: 0.9874, loss_valid: 0.5243, accuracy_valid: 0.8181, 8.0206sec\n",
      "epoch: 15, loss_train: 0.1052, accuracy_train: 0.9905, loss_valid: 0.5211, accuracy_valid: 0.8256, 8.0041sec\n",
      "epoch: 16, loss_train: 0.0944, accuracy_train: 0.9931, loss_valid: 0.5177, accuracy_valid: 0.8181, 8.0279sec\n",
      "epoch: 17, loss_train: 0.0864, accuracy_train: 0.9943, loss_valid: 0.5167, accuracy_valid: 0.8204, 8.0120sec\n",
      "epoch: 18, loss_train: 0.0807, accuracy_train: 0.9953, loss_valid: 0.5149, accuracy_valid: 0.8226, 8.0297sec\n",
      "epoch: 19, loss_train: 0.0748, accuracy_train: 0.9962, loss_valid: 0.5144, accuracy_valid: 0.8226, 8.0316sec\n",
      "epoch: 20, loss_train: 0.0711, accuracy_train: 0.9962, loss_valid: 0.5137, accuracy_valid: 0.8249, 7.9872sec\n",
      "epoch: 21, loss_train: 0.0675, accuracy_train: 0.9965, loss_valid: 0.5106, accuracy_valid: 0.8271, 8.0132sec\n",
      "epoch: 22, loss_train: 0.0645, accuracy_train: 0.9977, loss_valid: 0.5135, accuracy_valid: 0.8249, 8.0422sec\n",
      "epoch: 23, loss_train: 0.0623, accuracy_train: 0.9979, loss_valid: 0.5109, accuracy_valid: 0.8226, 8.0532sec\n",
      "epoch: 24, loss_train: 0.0605, accuracy_train: 0.9978, loss_valid: 0.5089, accuracy_valid: 0.8263, 8.0392sec\n",
      "epoch: 25, loss_train: 0.0593, accuracy_train: 0.9978, loss_valid: 0.5053, accuracy_valid: 0.8249, 8.0547sec\n",
      "epoch: 26, loss_train: 0.0584, accuracy_train: 0.9978, loss_valid: 0.5073, accuracy_valid: 0.8263, 8.0376sec\n",
      "epoch: 27, loss_train: 0.0577, accuracy_train: 0.9981, loss_valid: 0.5083, accuracy_valid: 0.8241, 8.0346sec\n",
      "epoch: 28, loss_train: 0.0571, accuracy_train: 0.9980, loss_valid: 0.5079, accuracy_valid: 0.8241, 7.9995sec\n",
      "epoch: 29, loss_train: 0.0567, accuracy_train: 0.9981, loss_valid: 0.5083, accuracy_valid: 0.8256, 8.0555sec\n"
     ]
    },
    {
     "name": "stderr",
     "output_type": "stream",
     "text": [
      "\u001b[32m[I 2022-01-31 16:56:26,362]\u001b[0m Trial 1 finished with value: 0.5095011624558584 and parameters: {'emb_size': 300.0, 'out_channels': 200.0, 'drop_rate': 0.2, 'learning_rate': 0.0057765845988047475, 'momentum': 0.9, 'batch_size': 32.0, 'min_lr': 0.0001821321531853565}. Best is trial 1 with value: 0.5095011624558584.\u001b[0m\n"
     ]
    },
    {
     "name": "stdout",
     "output_type": "stream",
     "text": [
      "epoch: 30, loss_train: 0.0564, accuracy_train: 0.9983, loss_valid: 0.5095, accuracy_valid: 0.8256, 8.0664sec\n",
      "epoch: 1, loss_train: 1.1277, accuracy_train: 0.5186, loss_valid: 1.1327, accuracy_valid: 0.5082, 7.5678sec\n",
      "epoch: 2, loss_train: 1.0918, accuracy_train: 0.5402, loss_valid: 1.1051, accuracy_valid: 0.5329, 7.5746sec\n",
      "epoch: 3, loss_train: 1.0661, accuracy_train: 0.5628, loss_valid: 1.0860, accuracy_valid: 0.5546, 7.6104sec\n",
      "epoch: 4, loss_train: 1.0411, accuracy_train: 0.5833, loss_valid: 1.0680, accuracy_valid: 0.5801, 7.5831sec\n",
      "epoch: 5, loss_train: 1.0143, accuracy_train: 0.6177, loss_valid: 1.0472, accuracy_valid: 0.6063, 7.5749sec\n",
      "epoch: 6, loss_train: 0.9849, accuracy_train: 0.6424, loss_valid: 1.0235, accuracy_valid: 0.6243, 7.5854sec\n",
      "epoch: 7, loss_train: 0.9550, accuracy_train: 0.6744, loss_valid: 1.0020, accuracy_valid: 0.6445, 7.5816sec\n",
      "epoch: 8, loss_train: 0.9248, accuracy_train: 0.6784, loss_valid: 0.9764, accuracy_valid: 0.6534, 7.5666sec\n",
      "epoch: 9, loss_train: 0.8965, accuracy_train: 0.7003, loss_valid: 0.9572, accuracy_valid: 0.6632, 7.6138sec\n",
      "epoch: 10, loss_train: 0.8699, accuracy_train: 0.7068, loss_valid: 0.9360, accuracy_valid: 0.6737, 7.6386sec\n",
      "epoch: 11, loss_train: 0.8462, accuracy_train: 0.7212, loss_valid: 0.9211, accuracy_valid: 0.6856, 7.5833sec\n",
      "epoch: 12, loss_train: 0.8230, accuracy_train: 0.7301, loss_valid: 0.9043, accuracy_valid: 0.6864, 7.5950sec\n",
      "epoch: 13, loss_train: 0.8021, accuracy_train: 0.7326, loss_valid: 0.8889, accuracy_valid: 0.6879, 7.5958sec\n",
      "epoch: 14, loss_train: 0.7832, accuracy_train: 0.7392, loss_valid: 0.8776, accuracy_valid: 0.6961, 7.6237sec\n",
      "epoch: 15, loss_train: 0.7665, accuracy_train: 0.7458, loss_valid: 0.8654, accuracy_valid: 0.7051, 7.5854sec\n",
      "epoch: 16, loss_train: 0.7501, accuracy_train: 0.7505, loss_valid: 0.8559, accuracy_valid: 0.7043, 7.5642sec\n",
      "epoch: 17, loss_train: 0.7350, accuracy_train: 0.7536, loss_valid: 0.8458, accuracy_valid: 0.7073, 7.5964sec\n",
      "epoch: 18, loss_train: 0.7211, accuracy_train: 0.7568, loss_valid: 0.8364, accuracy_valid: 0.7096, 7.5956sec\n",
      "epoch: 19, loss_train: 0.7077, accuracy_train: 0.7614, loss_valid: 0.8267, accuracy_valid: 0.7103, 7.5909sec\n",
      "epoch: 20, loss_train: 0.6957, accuracy_train: 0.7631, loss_valid: 0.8194, accuracy_valid: 0.7111, 7.5960sec\n",
      "epoch: 21, loss_train: 0.6843, accuracy_train: 0.7647, loss_valid: 0.8117, accuracy_valid: 0.7141, 7.6108sec\n",
      "epoch: 22, loss_train: 0.6743, accuracy_train: 0.7683, loss_valid: 0.8055, accuracy_valid: 0.7118, 7.5816sec\n",
      "epoch: 23, loss_train: 0.6642, accuracy_train: 0.7707, loss_valid: 0.8001, accuracy_valid: 0.7141, 7.5870sec\n",
      "epoch: 24, loss_train: 0.6552, accuracy_train: 0.7751, loss_valid: 0.7952, accuracy_valid: 0.7208, 7.5907sec\n",
      "epoch: 25, loss_train: 0.6468, accuracy_train: 0.7744, loss_valid: 0.7887, accuracy_valid: 0.7238, 7.6019sec\n",
      "epoch: 26, loss_train: 0.6391, accuracy_train: 0.7783, loss_valid: 0.7855, accuracy_valid: 0.7246, 7.5850sec\n",
      "epoch: 27, loss_train: 0.6307, accuracy_train: 0.7800, loss_valid: 0.7792, accuracy_valid: 0.7268, 7.5807sec\n",
      "epoch: 28, loss_train: 0.6229, accuracy_train: 0.7821, loss_valid: 0.7744, accuracy_valid: 0.7290, 7.6375sec\n",
      "epoch: 29, loss_train: 0.6159, accuracy_train: 0.7840, loss_valid: 0.7691, accuracy_valid: 0.7283, 7.5946sec\n"
     ]
    },
    {
     "name": "stderr",
     "output_type": "stream",
     "text": [
      "\u001b[32m[I 2022-01-31 17:00:14,180]\u001b[0m Trial 2 finished with value: 0.7648476798589792 and parameters: {'emb_size': 100.0, 'out_channels': 150.0, 'drop_rate': 0.5, 'learning_rate': 0.004021579042206989, 'momentum': 0.9, 'batch_size': 128.0, 'min_lr': 0.0015716587334334354}. Best is trial 1 with value: 0.5095011624558584.\u001b[0m\n"
     ]
    },
    {
     "name": "stdout",
     "output_type": "stream",
     "text": [
      "epoch: 30, loss_train: 0.6081, accuracy_train: 0.7864, loss_valid: 0.7648, accuracy_valid: 0.7343, 7.6025sec\n",
      "epoch: 1, loss_train: 1.1602, accuracy_train: 0.5030, loss_valid: 1.1624, accuracy_valid: 0.4798, 7.6849sec\n",
      "epoch: 2, loss_train: 1.1354, accuracy_train: 0.5140, loss_valid: 1.1419, accuracy_valid: 0.4978, 7.7180sec\n",
      "epoch: 3, loss_train: 1.1183, accuracy_train: 0.5298, loss_valid: 1.1273, accuracy_valid: 0.5097, 7.6748sec\n",
      "epoch: 4, loss_train: 1.1042, accuracy_train: 0.5377, loss_valid: 1.1169, accuracy_valid: 0.5150, 7.6709sec\n",
      "epoch: 5, loss_train: 1.0926, accuracy_train: 0.5477, loss_valid: 1.1078, accuracy_valid: 0.5180, 7.7086sec\n",
      "epoch: 6, loss_train: 1.0822, accuracy_train: 0.5554, loss_valid: 1.0999, accuracy_valid: 0.5314, 7.6893sec\n",
      "epoch: 7, loss_train: 1.0727, accuracy_train: 0.5638, loss_valid: 1.0927, accuracy_valid: 0.5442, 7.6836sec\n",
      "epoch: 8, loss_train: 1.0635, accuracy_train: 0.5684, loss_valid: 1.0854, accuracy_valid: 0.5472, 7.6997sec\n",
      "epoch: 9, loss_train: 1.0545, accuracy_train: 0.5732, loss_valid: 1.0783, accuracy_valid: 0.5584, 7.7051sec\n",
      "epoch: 10, loss_train: 1.0457, accuracy_train: 0.5815, loss_valid: 1.0718, accuracy_valid: 0.5644, 7.6906sec\n",
      "epoch: 11, loss_train: 1.0370, accuracy_train: 0.5928, loss_valid: 1.0654, accuracy_valid: 0.5689, 7.6755sec\n",
      "epoch: 12, loss_train: 1.0285, accuracy_train: 0.5994, loss_valid: 1.0592, accuracy_valid: 0.5756, 7.6969sec\n",
      "epoch: 13, loss_train: 1.0203, accuracy_train: 0.6120, loss_valid: 1.0536, accuracy_valid: 0.5898, 7.6862sec\n",
      "epoch: 14, loss_train: 1.0123, accuracy_train: 0.6180, loss_valid: 1.0474, accuracy_valid: 0.6003, 7.7819sec\n",
      "epoch: 15, loss_train: 1.0049, accuracy_train: 0.6249, loss_valid: 1.0412, accuracy_valid: 0.6055, 7.6797sec\n",
      "epoch: 16, loss_train: 0.9975, accuracy_train: 0.6322, loss_valid: 1.0362, accuracy_valid: 0.6138, 7.7061sec\n",
      "epoch: 17, loss_train: 0.9908, accuracy_train: 0.6394, loss_valid: 1.0311, accuracy_valid: 0.6130, 7.6733sec\n",
      "epoch: 18, loss_train: 0.9845, accuracy_train: 0.6455, loss_valid: 1.0261, accuracy_valid: 0.6190, 7.6743sec\n",
      "epoch: 19, loss_train: 0.9786, accuracy_train: 0.6491, loss_valid: 1.0221, accuracy_valid: 0.6198, 7.7161sec\n",
      "epoch: 20, loss_train: 0.9734, accuracy_train: 0.6518, loss_valid: 1.0178, accuracy_valid: 0.6257, 7.7062sec\n",
      "epoch: 21, loss_train: 0.9685, accuracy_train: 0.6556, loss_valid: 1.0142, accuracy_valid: 0.6243, 7.6780sec\n",
      "epoch: 22, loss_train: 0.9642, accuracy_train: 0.6579, loss_valid: 1.0107, accuracy_valid: 0.6272, 7.6880sec\n",
      "epoch: 23, loss_train: 0.9602, accuracy_train: 0.6620, loss_valid: 1.0076, accuracy_valid: 0.6287, 7.7089sec\n",
      "epoch: 24, loss_train: 0.9566, accuracy_train: 0.6643, loss_valid: 1.0049, accuracy_valid: 0.6295, 7.6718sec\n",
      "epoch: 25, loss_train: 0.9534, accuracy_train: 0.6676, loss_valid: 1.0028, accuracy_valid: 0.6310, 7.7651sec\n",
      "epoch: 26, loss_train: 0.9505, accuracy_train: 0.6694, loss_valid: 1.0005, accuracy_valid: 0.6340, 7.7224sec\n",
      "epoch: 27, loss_train: 0.9479, accuracy_train: 0.6701, loss_valid: 0.9984, accuracy_valid: 0.6377, 7.7256sec\n",
      "epoch: 28, loss_train: 0.9455, accuracy_train: 0.6720, loss_valid: 0.9966, accuracy_valid: 0.6347, 7.7095sec\n",
      "epoch: 29, loss_train: 0.9432, accuracy_train: 0.6748, loss_valid: 0.9951, accuracy_valid: 0.6370, 7.6605sec\n"
     ]
    },
    {
     "name": "stderr",
     "output_type": "stream",
     "text": [
      "\u001b[32m[I 2022-01-31 17:04:05,324]\u001b[0m Trial 3 finished with value: 0.993278805930502 and parameters: {'emb_size': 100.0, 'out_channels': 200.0, 'drop_rate': 0.30000000000000004, 'learning_rate': 0.0017911099165667905, 'momentum': 0.8, 'batch_size': 80.0, 'min_lr': 0.0002916487869026352}. Best is trial 1 with value: 0.5095011624558584.\u001b[0m\n"
     ]
    },
    {
     "name": "stdout",
     "output_type": "stream",
     "text": [
      "epoch: 30, loss_train: 0.9411, accuracy_train: 0.6758, loss_valid: 0.9933, accuracy_valid: 0.6415, 7.8641sec\n",
      "epoch: 1, loss_train: 1.2233, accuracy_train: 0.4510, loss_valid: 1.2131, accuracy_valid: 0.4469, 7.6373sec\n",
      "epoch: 2, loss_train: 1.1755, accuracy_train: 0.5041, loss_valid: 1.1716, accuracy_valid: 0.5022, 7.6517sec\n",
      "epoch: 3, loss_train: 1.1516, accuracy_train: 0.5124, loss_valid: 1.1527, accuracy_valid: 0.5045, 7.6906sec\n",
      "epoch: 4, loss_train: 1.1326, accuracy_train: 0.5187, loss_valid: 1.1374, accuracy_valid: 0.5112, 7.6878sec\n",
      "epoch: 5, loss_train: 1.1159, accuracy_train: 0.5240, loss_valid: 1.1232, accuracy_valid: 0.5195, 7.6502sec\n",
      "epoch: 6, loss_train: 1.1009, accuracy_train: 0.5339, loss_valid: 1.1116, accuracy_valid: 0.5284, 7.6597sec\n",
      "epoch: 7, loss_train: 1.0860, accuracy_train: 0.5477, loss_valid: 1.1002, accuracy_valid: 0.5404, 7.6712sec\n",
      "epoch: 8, loss_train: 1.0699, accuracy_train: 0.5581, loss_valid: 1.0869, accuracy_valid: 0.5531, 7.6623sec\n",
      "epoch: 9, loss_train: 1.0490, accuracy_train: 0.5787, loss_valid: 1.0724, accuracy_valid: 0.5689, 7.6449sec\n",
      "epoch: 10, loss_train: 1.0238, accuracy_train: 0.5944, loss_valid: 1.0502, accuracy_valid: 0.5981, 7.6467sec\n",
      "epoch: 11, loss_train: 0.9905, accuracy_train: 0.6520, loss_valid: 1.0248, accuracy_valid: 0.6220, 7.7504sec\n",
      "epoch: 12, loss_train: 0.9511, accuracy_train: 0.6709, loss_valid: 0.9911, accuracy_valid: 0.6460, 7.6304sec\n",
      "epoch: 13, loss_train: 0.9057, accuracy_train: 0.6966, loss_valid: 0.9576, accuracy_valid: 0.6602, 7.6305sec\n",
      "epoch: 14, loss_train: 0.8618, accuracy_train: 0.7141, loss_valid: 0.9243, accuracy_valid: 0.6744, 7.6215sec\n",
      "epoch: 15, loss_train: 0.8171, accuracy_train: 0.7273, loss_valid: 0.8902, accuracy_valid: 0.6811, 7.6393sec\n",
      "epoch: 16, loss_train: 0.7730, accuracy_train: 0.7401, loss_valid: 0.8638, accuracy_valid: 0.6946, 7.6220sec\n",
      "epoch: 17, loss_train: 0.7296, accuracy_train: 0.7559, loss_valid: 0.8326, accuracy_valid: 0.7051, 7.6096sec\n",
      "epoch: 18, loss_train: 0.6870, accuracy_train: 0.7655, loss_valid: 0.8059, accuracy_valid: 0.7103, 7.6399sec\n",
      "epoch: 19, loss_train: 0.6465, accuracy_train: 0.7753, loss_valid: 0.7721, accuracy_valid: 0.7171, 7.6171sec\n",
      "epoch: 20, loss_train: 0.6101, accuracy_train: 0.7846, loss_valid: 0.7541, accuracy_valid: 0.7275, 7.5992sec\n",
      "epoch: 21, loss_train: 0.5711, accuracy_train: 0.8002, loss_valid: 0.7323, accuracy_valid: 0.7305, 7.6290sec\n",
      "epoch: 22, loss_train: 0.5347, accuracy_train: 0.8105, loss_valid: 0.7073, accuracy_valid: 0.7403, 7.6554sec\n",
      "epoch: 23, loss_train: 0.5052, accuracy_train: 0.8210, loss_valid: 0.6990, accuracy_valid: 0.7418, 7.6176sec\n",
      "epoch: 24, loss_train: 0.4710, accuracy_train: 0.8303, loss_valid: 0.6734, accuracy_valid: 0.7478, 7.6216sec\n",
      "epoch: 25, loss_train: 0.4454, accuracy_train: 0.8355, loss_valid: 0.6588, accuracy_valid: 0.7493, 7.6571sec\n",
      "epoch: 26, loss_train: 0.4063, accuracy_train: 0.8685, loss_valid: 0.6449, accuracy_valid: 0.7710, 7.7441sec\n",
      "epoch: 27, loss_train: 0.3835, accuracy_train: 0.8763, loss_valid: 0.6237, accuracy_valid: 0.7762, 7.6315sec\n",
      "epoch: 28, loss_train: 0.3550, accuracy_train: 0.8812, loss_valid: 0.6120, accuracy_valid: 0.7859, 7.6151sec\n",
      "epoch: 29, loss_train: 0.3299, accuracy_train: 0.8988, loss_valid: 0.6015, accuracy_valid: 0.7904, 7.6494sec\n"
     ]
    },
    {
     "name": "stderr",
     "output_type": "stream",
     "text": [
      "\u001b[32m[I 2022-01-31 17:07:54,747]\u001b[0m Trial 4 finished with value: 0.5916838077131745 and parameters: {'emb_size': 200.0, 'out_channels': 50.0, 'drop_rate': 0.5, 'learning_rate': 0.0006270272283580461, 'momentum': 0.9, 'batch_size': 96.0, 'min_lr': 0.012540551270501882}. Best is trial 1 with value: 0.5095011624558584.\u001b[0m\n"
     ]
    },
    {
     "name": "stdout",
     "output_type": "stream",
     "text": [
      "epoch: 30, loss_train: 0.3076, accuracy_train: 0.9032, loss_valid: 0.5917, accuracy_valid: 0.7897, 7.6181sec\n",
      "epoch: 1, loss_train: 1.3592, accuracy_train: 0.3804, loss_valid: 1.3557, accuracy_valid: 0.3840, 7.5481sec\n",
      "epoch: 2, loss_train: 1.3048, accuracy_train: 0.3965, loss_valid: 1.2970, accuracy_valid: 0.3960, 7.5919sec\n",
      "epoch: 3, loss_train: 1.2603, accuracy_train: 0.4029, loss_valid: 1.2507, accuracy_valid: 0.4057, 7.5879sec\n",
      "epoch: 4, loss_train: 1.2254, accuracy_train: 0.4452, loss_valid: 1.2165, accuracy_valid: 0.4349, 7.5690sec\n",
      "epoch: 5, loss_train: 1.1986, accuracy_train: 0.4953, loss_valid: 1.1924, accuracy_valid: 0.4678, 7.5802sec\n",
      "epoch: 6, loss_train: 1.1780, accuracy_train: 0.5066, loss_valid: 1.1754, accuracy_valid: 0.4633, 7.6899sec\n",
      "epoch: 7, loss_train: 1.1602, accuracy_train: 0.5110, loss_valid: 1.1613, accuracy_valid: 0.4775, 7.6026sec\n",
      "epoch: 8, loss_train: 1.1435, accuracy_train: 0.5245, loss_valid: 1.1473, accuracy_valid: 0.5135, 7.6161sec\n",
      "epoch: 9, loss_train: 1.1285, accuracy_train: 0.5295, loss_valid: 1.1348, accuracy_valid: 0.5247, 7.6372sec\n",
      "epoch: 10, loss_train: 1.1161, accuracy_train: 0.5269, loss_valid: 1.1242, accuracy_valid: 0.5254, 7.6348sec\n",
      "epoch: 11, loss_train: 1.1044, accuracy_train: 0.5379, loss_valid: 1.1143, accuracy_valid: 0.5314, 7.6169sec\n",
      "epoch: 12, loss_train: 1.0929, accuracy_train: 0.5430, loss_valid: 1.1047, accuracy_valid: 0.5397, 7.6208sec\n",
      "epoch: 13, loss_train: 1.0807, accuracy_train: 0.5605, loss_valid: 1.0958, accuracy_valid: 0.5569, 7.6314sec\n",
      "epoch: 14, loss_train: 1.0669, accuracy_train: 0.5690, loss_valid: 1.0853, accuracy_valid: 0.5644, 7.6054sec\n",
      "epoch: 15, loss_train: 1.0513, accuracy_train: 0.5786, loss_valid: 1.0724, accuracy_valid: 0.5704, 7.5994sec\n",
      "epoch: 16, loss_train: 1.0325, accuracy_train: 0.6076, loss_valid: 1.0585, accuracy_valid: 0.5838, 7.6440sec\n",
      "epoch: 17, loss_train: 1.0099, accuracy_train: 0.6157, loss_valid: 1.0402, accuracy_valid: 0.5973, 7.6771sec\n",
      "epoch: 18, loss_train: 0.9844, accuracy_train: 0.6462, loss_valid: 1.0200, accuracy_valid: 0.6220, 7.5669sec\n",
      "epoch: 19, loss_train: 0.9569, accuracy_train: 0.6600, loss_valid: 0.9980, accuracy_valid: 0.6302, 7.5668sec\n",
      "epoch: 20, loss_train: 0.9271, accuracy_train: 0.6845, loss_valid: 0.9773, accuracy_valid: 0.6519, 7.5986sec\n",
      "epoch: 21, loss_train: 0.8975, accuracy_train: 0.6856, loss_valid: 0.9517, accuracy_valid: 0.6490, 7.5937sec\n",
      "epoch: 22, loss_train: 0.8661, accuracy_train: 0.7079, loss_valid: 0.9294, accuracy_valid: 0.6692, 7.5911sec\n",
      "epoch: 23, loss_train: 0.8376, accuracy_train: 0.7161, loss_valid: 0.9082, accuracy_valid: 0.6774, 7.5960sec\n",
      "epoch: 24, loss_train: 0.8101, accuracy_train: 0.7254, loss_valid: 0.8897, accuracy_valid: 0.6841, 7.6027sec\n",
      "epoch: 25, loss_train: 0.7834, accuracy_train: 0.7353, loss_valid: 0.8736, accuracy_valid: 0.6894, 7.5614sec\n",
      "epoch: 26, loss_train: 0.7562, accuracy_train: 0.7440, loss_valid: 0.8549, accuracy_valid: 0.7043, 7.5903sec\n",
      "epoch: 27, loss_train: 0.7315, accuracy_train: 0.7495, loss_valid: 0.8381, accuracy_valid: 0.7028, 7.5980sec\n",
      "epoch: 28, loss_train: 0.7082, accuracy_train: 0.7580, loss_valid: 0.8262, accuracy_valid: 0.7118, 7.6211sec\n",
      "epoch: 29, loss_train: 0.6850, accuracy_train: 0.7619, loss_valid: 0.8122, accuracy_valid: 0.7081, 7.5740sec\n"
     ]
    },
    {
     "name": "stderr",
     "output_type": "stream",
     "text": [
      "\u001b[32m[I 2022-01-31 17:11:42,856]\u001b[0m Trial 5 finished with value: 0.7969816858286992 and parameters: {'emb_size': 400.0, 'out_channels': 50.0, 'drop_rate': 0.30000000000000004, 'learning_rate': 0.0007994326594031405, 'momentum': 0.6, 'batch_size': 128.0, 'min_lr': 0.021219335579060392}. Best is trial 1 with value: 0.5095011624558584.\u001b[0m\n"
     ]
    },
    {
     "name": "stdout",
     "output_type": "stream",
     "text": [
      "epoch: 30, loss_train: 0.6630, accuracy_train: 0.7689, loss_valid: 0.7970, accuracy_valid: 0.7133, 7.5748sec\n",
      "epoch: 1, loss_train: 1.2082, accuracy_train: 0.4433, loss_valid: 1.2025, accuracy_valid: 0.4461, 7.7156sec\n",
      "epoch: 2, loss_train: 1.1743, accuracy_train: 0.4819, loss_valid: 1.1721, accuracy_valid: 0.4723, 7.6627sec\n",
      "epoch: 3, loss_train: 1.1599, accuracy_train: 0.5004, loss_valid: 1.1604, accuracy_valid: 0.4835, 7.6338sec\n",
      "epoch: 4, loss_train: 1.1500, accuracy_train: 0.5025, loss_valid: 1.1522, accuracy_valid: 0.4828, 7.6293sec\n",
      "epoch: 5, loss_train: 1.1418, accuracy_train: 0.5042, loss_valid: 1.1453, accuracy_valid: 0.4895, 7.6649sec\n",
      "epoch: 6, loss_train: 1.1347, accuracy_train: 0.5067, loss_valid: 1.1395, accuracy_valid: 0.4925, 7.6354sec\n",
      "epoch: 7, loss_train: 1.1286, accuracy_train: 0.5092, loss_valid: 1.1345, accuracy_valid: 0.4963, 7.6628sec\n",
      "epoch: 8, loss_train: 1.1230, accuracy_train: 0.5132, loss_valid: 1.1297, accuracy_valid: 0.4993, 7.6555sec\n",
      "epoch: 9, loss_train: 1.1179, accuracy_train: 0.5159, loss_valid: 1.1257, accuracy_valid: 0.5037, 7.6694sec\n",
      "epoch: 10, loss_train: 1.1134, accuracy_train: 0.5199, loss_valid: 1.1220, accuracy_valid: 0.5097, 7.6529sec\n",
      "epoch: 11, loss_train: 1.1094, accuracy_train: 0.5218, loss_valid: 1.1189, accuracy_valid: 0.5120, 7.6479sec\n",
      "epoch: 12, loss_train: 1.1057, accuracy_train: 0.5266, loss_valid: 1.1157, accuracy_valid: 0.5142, 7.6611sec\n",
      "epoch: 13, loss_train: 1.1025, accuracy_train: 0.5282, loss_valid: 1.1135, accuracy_valid: 0.5142, 7.6812sec\n",
      "epoch: 14, loss_train: 1.0994, accuracy_train: 0.5328, loss_valid: 1.1112, accuracy_valid: 0.5150, 7.6176sec\n",
      "epoch: 15, loss_train: 1.0967, accuracy_train: 0.5346, loss_valid: 1.1091, accuracy_valid: 0.5202, 7.6935sec\n",
      "epoch: 16, loss_train: 1.0942, accuracy_train: 0.5369, loss_valid: 1.1074, accuracy_valid: 0.5187, 7.6871sec\n",
      "epoch: 17, loss_train: 1.0919, accuracy_train: 0.5394, loss_valid: 1.1055, accuracy_valid: 0.5232, 7.6309sec\n",
      "epoch: 18, loss_train: 1.0898, accuracy_train: 0.5417, loss_valid: 1.1038, accuracy_valid: 0.5232, 7.6730sec\n",
      "epoch: 19, loss_train: 1.0879, accuracy_train: 0.5431, loss_valid: 1.1024, accuracy_valid: 0.5262, 7.6998sec\n",
      "epoch: 20, loss_train: 1.0861, accuracy_train: 0.5452, loss_valid: 1.1011, accuracy_valid: 0.5277, 7.6949sec\n",
      "epoch: 21, loss_train: 1.0844, accuracy_train: 0.5460, loss_valid: 1.0998, accuracy_valid: 0.5292, 7.6362sec\n",
      "epoch: 22, loss_train: 1.0829, accuracy_train: 0.5485, loss_valid: 1.0986, accuracy_valid: 0.5314, 7.6508sec\n",
      "epoch: 23, loss_train: 1.0815, accuracy_train: 0.5498, loss_valid: 1.0976, accuracy_valid: 0.5329, 7.6764sec\n",
      "epoch: 24, loss_train: 1.0802, accuracy_train: 0.5505, loss_valid: 1.0967, accuracy_valid: 0.5337, 7.6445sec\n",
      "epoch: 25, loss_train: 1.0789, accuracy_train: 0.5518, loss_valid: 1.0958, accuracy_valid: 0.5352, 7.6501sec\n",
      "epoch: 26, loss_train: 1.0778, accuracy_train: 0.5529, loss_valid: 1.0949, accuracy_valid: 0.5367, 7.6722sec\n",
      "epoch: 27, loss_train: 1.0767, accuracy_train: 0.5536, loss_valid: 1.0942, accuracy_valid: 0.5389, 7.6682sec\n",
      "epoch: 28, loss_train: 1.0757, accuracy_train: 0.5547, loss_valid: 1.0935, accuracy_valid: 0.5404, 7.6456sec\n",
      "epoch: 29, loss_train: 1.0746, accuracy_train: 0.5561, loss_valid: 1.0927, accuracy_valid: 0.5397, 7.7122sec\n"
     ]
    },
    {
     "name": "stderr",
     "output_type": "stream",
     "text": [
      "\u001b[32m[I 2022-01-31 17:15:32,750]\u001b[0m Trial 6 finished with value: 1.0918978473651195 and parameters: {'emb_size': 400.0, 'out_channels': 200.0, 'drop_rate': 0.1, 'learning_rate': 0.0007421840412830439, 'momentum': 0.8, 'batch_size': 96.0, 'min_lr': 0.00021054234335148627}. Best is trial 1 with value: 0.5095011624558584.\u001b[0m\n"
     ]
    },
    {
     "name": "stdout",
     "output_type": "stream",
     "text": [
      "epoch: 30, loss_train: 1.0737, accuracy_train: 0.5564, loss_valid: 1.0919, accuracy_valid: 0.5457, 7.6466sec\n",
      "epoch: 1, loss_train: 1.1565, accuracy_train: 0.4985, loss_valid: 1.1594, accuracy_valid: 0.4738, 7.7234sec\n",
      "epoch: 2, loss_train: 1.1264, accuracy_train: 0.5170, loss_valid: 1.1331, accuracy_valid: 0.4948, 7.7420sec\n",
      "epoch: 3, loss_train: 1.1073, accuracy_train: 0.5317, loss_valid: 1.1178, accuracy_valid: 0.5165, 7.7402sec\n",
      "epoch: 4, loss_train: 1.0931, accuracy_train: 0.5405, loss_valid: 1.1067, accuracy_valid: 0.5314, 7.7723sec\n",
      "epoch: 5, loss_train: 1.0803, accuracy_train: 0.5527, loss_valid: 1.0975, accuracy_valid: 0.5427, 7.7224sec\n",
      "epoch: 6, loss_train: 1.0683, accuracy_train: 0.5586, loss_valid: 1.0878, accuracy_valid: 0.5479, 7.7257sec\n",
      "epoch: 7, loss_train: 1.0562, accuracy_train: 0.5697, loss_valid: 1.0794, accuracy_valid: 0.5614, 7.7341sec\n",
      "epoch: 8, loss_train: 1.0445, accuracy_train: 0.5782, loss_valid: 1.0709, accuracy_valid: 0.5696, 7.7322sec\n",
      "epoch: 9, loss_train: 1.0324, accuracy_train: 0.5939, loss_valid: 1.0622, accuracy_valid: 0.5823, 7.7039sec\n",
      "epoch: 10, loss_train: 1.0208, accuracy_train: 0.6043, loss_valid: 1.0539, accuracy_valid: 0.5898, 7.7221sec\n",
      "epoch: 11, loss_train: 1.0094, accuracy_train: 0.6177, loss_valid: 1.0455, accuracy_valid: 0.5958, 7.7498sec\n",
      "epoch: 12, loss_train: 0.9983, accuracy_train: 0.6300, loss_valid: 1.0373, accuracy_valid: 0.6010, 7.7303sec\n",
      "epoch: 13, loss_train: 0.9876, accuracy_train: 0.6394, loss_valid: 1.0288, accuracy_valid: 0.6063, 7.7244sec\n",
      "epoch: 14, loss_train: 0.9776, accuracy_train: 0.6439, loss_valid: 1.0209, accuracy_valid: 0.6130, 7.7445sec\n",
      "epoch: 15, loss_train: 0.9680, accuracy_train: 0.6568, loss_valid: 1.0144, accuracy_valid: 0.6190, 7.7334sec\n",
      "epoch: 16, loss_train: 0.9591, accuracy_train: 0.6623, loss_valid: 1.0069, accuracy_valid: 0.6272, 7.7325sec\n",
      "epoch: 17, loss_train: 0.9511, accuracy_train: 0.6645, loss_valid: 1.0004, accuracy_valid: 0.6295, 7.7421sec\n",
      "epoch: 18, loss_train: 0.9438, accuracy_train: 0.6732, loss_valid: 0.9959, accuracy_valid: 0.6392, 7.7470sec\n",
      "epoch: 19, loss_train: 0.9372, accuracy_train: 0.6742, loss_valid: 0.9903, accuracy_valid: 0.6422, 7.7364sec\n",
      "epoch: 20, loss_train: 0.9313, accuracy_train: 0.6778, loss_valid: 0.9857, accuracy_valid: 0.6437, 7.7924sec\n",
      "epoch: 21, loss_train: 0.9261, accuracy_train: 0.6811, loss_valid: 0.9823, accuracy_valid: 0.6475, 7.7587sec\n",
      "epoch: 22, loss_train: 0.9215, accuracy_train: 0.6825, loss_valid: 0.9784, accuracy_valid: 0.6475, 7.7518sec\n",
      "epoch: 23, loss_train: 0.9175, accuracy_train: 0.6847, loss_valid: 0.9756, accuracy_valid: 0.6519, 7.7244sec\n",
      "epoch: 24, loss_train: 0.9140, accuracy_train: 0.6852, loss_valid: 0.9728, accuracy_valid: 0.6504, 7.7398sec\n",
      "epoch: 25, loss_train: 0.9109, accuracy_train: 0.6874, loss_valid: 0.9707, accuracy_valid: 0.6534, 7.7529sec\n",
      "epoch: 26, loss_train: 0.9082, accuracy_train: 0.6889, loss_valid: 0.9688, accuracy_valid: 0.6534, 7.7301sec\n",
      "epoch: 27, loss_train: 0.9059, accuracy_train: 0.6905, loss_valid: 0.9670, accuracy_valid: 0.6549, 7.7289sec\n",
      "epoch: 28, loss_train: 0.9039, accuracy_train: 0.6918, loss_valid: 0.9656, accuracy_valid: 0.6557, 7.7510sec\n",
      "epoch: 29, loss_train: 0.9020, accuracy_train: 0.6923, loss_valid: 0.9641, accuracy_valid: 0.6572, 7.7531sec\n"
     ]
    },
    {
     "name": "stderr",
     "output_type": "stream",
     "text": [
      "\u001b[32m[I 2022-01-31 17:19:24,940]\u001b[0m Trial 7 finished with value: 0.9628207478114588 and parameters: {'emb_size': 400.0, 'out_channels': 150.0, 'drop_rate': 0.0, 'learning_rate': 0.0008300107872692856, 'momentum': 0.9, 'batch_size': 64.0, 'min_lr': 9.626297774270316e-05}. Best is trial 1 with value: 0.5095011624558584.\u001b[0m\n"
     ]
    },
    {
     "name": "stdout",
     "output_type": "stream",
     "text": [
      "epoch: 30, loss_train: 0.9002, accuracy_train: 0.6929, loss_valid: 0.9628, accuracy_valid: 0.6587, 7.7257sec\n",
      "epoch: 1, loss_train: 1.3595, accuracy_train: 0.3955, loss_valid: 1.3483, accuracy_valid: 0.3960, 7.5930sec\n",
      "epoch: 2, loss_train: 1.2966, accuracy_train: 0.3961, loss_valid: 1.2823, accuracy_valid: 0.3975, 7.6555sec\n",
      "epoch: 3, loss_train: 1.2563, accuracy_train: 0.3993, loss_valid: 1.2421, accuracy_valid: 0.3997, 7.6142sec\n",
      "epoch: 4, loss_train: 1.2302, accuracy_train: 0.4175, loss_valid: 1.2177, accuracy_valid: 0.4192, 7.5946sec\n",
      "epoch: 5, loss_train: 1.2124, accuracy_train: 0.4542, loss_valid: 1.2021, accuracy_valid: 0.4401, 7.6468sec\n",
      "epoch: 6, loss_train: 1.1995, accuracy_train: 0.4872, loss_valid: 1.1915, accuracy_valid: 0.4611, 7.5961sec\n",
      "epoch: 7, loss_train: 1.1896, accuracy_train: 0.5040, loss_valid: 1.1837, accuracy_valid: 0.4805, 7.6083sec\n",
      "epoch: 8, loss_train: 1.1816, accuracy_train: 0.5125, loss_valid: 1.1773, accuracy_valid: 0.4903, 7.6132sec\n",
      "epoch: 9, loss_train: 1.1748, accuracy_train: 0.5119, loss_valid: 1.1720, accuracy_valid: 0.4843, 7.6356sec\n",
      "epoch: 10, loss_train: 1.1691, accuracy_train: 0.5142, loss_valid: 1.1674, accuracy_valid: 0.4850, 7.6013sec\n",
      "epoch: 11, loss_train: 1.1641, accuracy_train: 0.5136, loss_valid: 1.1635, accuracy_valid: 0.4835, 7.5946sec\n",
      "epoch: 12, loss_train: 1.1597, accuracy_train: 0.5138, loss_valid: 1.1599, accuracy_valid: 0.4843, 7.6060sec\n",
      "epoch: 13, loss_train: 1.1560, accuracy_train: 0.5151, loss_valid: 1.1568, accuracy_valid: 0.4873, 7.6231sec\n",
      "epoch: 14, loss_train: 1.1527, accuracy_train: 0.5169, loss_valid: 1.1541, accuracy_valid: 0.4880, 7.6106sec\n",
      "epoch: 15, loss_train: 1.1498, accuracy_train: 0.5172, loss_valid: 1.1517, accuracy_valid: 0.4895, 7.6045sec\n",
      "epoch: 16, loss_train: 1.1472, accuracy_train: 0.5169, loss_valid: 1.1495, accuracy_valid: 0.4895, 7.6203sec\n",
      "epoch: 17, loss_train: 1.1451, accuracy_train: 0.5174, loss_valid: 1.1477, accuracy_valid: 0.4933, 7.6126sec\n",
      "epoch: 18, loss_train: 1.1432, accuracy_train: 0.5188, loss_valid: 1.1461, accuracy_valid: 0.4963, 7.5802sec\n",
      "epoch: 19, loss_train: 1.1416, accuracy_train: 0.5194, loss_valid: 1.1447, accuracy_valid: 0.4970, 7.6850sec\n",
      "epoch: 20, loss_train: 1.1403, accuracy_train: 0.5199, loss_valid: 1.1436, accuracy_valid: 0.4970, 7.7000sec\n",
      "epoch: 21, loss_train: 1.1391, accuracy_train: 0.5205, loss_valid: 1.1426, accuracy_valid: 0.4985, 7.7184sec\n",
      "epoch: 22, loss_train: 1.1382, accuracy_train: 0.5206, loss_valid: 1.1419, accuracy_valid: 0.4985, 7.6479sec\n",
      "epoch: 23, loss_train: 1.1375, accuracy_train: 0.5210, loss_valid: 1.1412, accuracy_valid: 0.4993, 7.6812sec\n",
      "epoch: 24, loss_train: 1.1369, accuracy_train: 0.5213, loss_valid: 1.1407, accuracy_valid: 0.5007, 7.6218sec\n",
      "epoch: 25, loss_train: 1.1364, accuracy_train: 0.5218, loss_valid: 1.1403, accuracy_valid: 0.5022, 7.6037sec\n",
      "epoch: 26, loss_train: 1.1361, accuracy_train: 0.5220, loss_valid: 1.1400, accuracy_valid: 0.5052, 7.6186sec\n",
      "epoch: 27, loss_train: 1.1359, accuracy_train: 0.5223, loss_valid: 1.1398, accuracy_valid: 0.5052, 7.6374sec\n",
      "epoch: 28, loss_train: 1.1357, accuracy_train: 0.5223, loss_valid: 1.1397, accuracy_valid: 0.5052, 7.6088sec\n",
      "epoch: 29, loss_train: 1.1356, accuracy_train: 0.5222, loss_valid: 1.1396, accuracy_valid: 0.5052, 7.6089sec\n"
     ]
    },
    {
     "name": "stderr",
     "output_type": "stream",
     "text": [
      "\u001b[32m[I 2022-01-31 17:23:13,726]\u001b[0m Trial 8 finished with value: 1.139564038014519 and parameters: {'emb_size': 300.0, 'out_channels': 50.0, 'drop_rate': 0.2, 'learning_rate': 0.001101039582957652, 'momentum': 0.5, 'batch_size': 112.0, 'min_lr': 1.660785840601899e-05}. Best is trial 1 with value: 0.5095011624558584.\u001b[0m\n"
     ]
    },
    {
     "name": "stdout",
     "output_type": "stream",
     "text": [
      "epoch: 30, loss_train: 1.1356, accuracy_train: 0.5222, loss_valid: 1.1396, accuracy_valid: 0.5052, 7.6209sec\n",
      "epoch: 1, loss_train: 1.0876, accuracy_train: 0.5306, loss_valid: 1.1019, accuracy_valid: 0.5165, 8.5753sec\n",
      "epoch: 2, loss_train: 1.0320, accuracy_train: 0.5899, loss_valid: 1.0581, accuracy_valid: 0.5823, 8.5701sec\n",
      "epoch: 3, loss_train: 0.9623, accuracy_train: 0.6622, loss_valid: 1.0021, accuracy_valid: 0.6407, 8.5782sec\n",
      "epoch: 4, loss_train: 0.8922, accuracy_train: 0.6998, loss_valid: 0.9490, accuracy_valid: 0.6737, 8.6093sec\n",
      "epoch: 5, loss_train: 0.8335, accuracy_train: 0.7216, loss_valid: 0.9027, accuracy_valid: 0.6879, 8.5929sec\n",
      "epoch: 6, loss_train: 0.7837, accuracy_train: 0.7352, loss_valid: 0.8688, accuracy_valid: 0.6961, 8.5889sec\n",
      "epoch: 7, loss_train: 0.7422, accuracy_train: 0.7427, loss_valid: 0.8429, accuracy_valid: 0.6946, 8.5974sec\n",
      "epoch: 8, loss_train: 0.7002, accuracy_train: 0.7578, loss_valid: 0.8152, accuracy_valid: 0.7096, 8.5844sec\n",
      "epoch: 9, loss_train: 0.6669, accuracy_train: 0.7661, loss_valid: 0.7964, accuracy_valid: 0.7141, 8.5752sec\n",
      "epoch: 10, loss_train: 0.6371, accuracy_train: 0.7765, loss_valid: 0.7771, accuracy_valid: 0.7193, 8.6057sec\n",
      "epoch: 11, loss_train: 0.6091, accuracy_train: 0.7859, loss_valid: 0.7598, accuracy_valid: 0.7208, 8.5897sec\n",
      "epoch: 12, loss_train: 0.5866, accuracy_train: 0.7941, loss_valid: 0.7483, accuracy_valid: 0.7275, 8.5618sec\n",
      "epoch: 13, loss_train: 0.5637, accuracy_train: 0.8081, loss_valid: 0.7351, accuracy_valid: 0.7380, 8.6049sec\n",
      "epoch: 14, loss_train: 0.5451, accuracy_train: 0.8116, loss_valid: 0.7234, accuracy_valid: 0.7373, 8.7676sec\n",
      "epoch: 15, loss_train: 0.5294, accuracy_train: 0.8148, loss_valid: 0.7132, accuracy_valid: 0.7388, 8.6197sec\n",
      "epoch: 16, loss_train: 0.5138, accuracy_train: 0.8285, loss_valid: 0.7076, accuracy_valid: 0.7485, 8.5745sec\n",
      "epoch: 17, loss_train: 0.5002, accuracy_train: 0.8299, loss_valid: 0.6996, accuracy_valid: 0.7493, 8.6031sec\n",
      "epoch: 18, loss_train: 0.4900, accuracy_train: 0.8321, loss_valid: 0.6934, accuracy_valid: 0.7552, 8.5783sec\n",
      "epoch: 19, loss_train: 0.4804, accuracy_train: 0.8388, loss_valid: 0.6910, accuracy_valid: 0.7522, 8.5814sec\n",
      "epoch: 20, loss_train: 0.4711, accuracy_train: 0.8413, loss_valid: 0.6836, accuracy_valid: 0.7537, 8.6131sec\n",
      "epoch: 21, loss_train: 0.4651, accuracy_train: 0.8479, loss_valid: 0.6828, accuracy_valid: 0.7605, 8.5952sec\n",
      "epoch: 22, loss_train: 0.4593, accuracy_train: 0.8454, loss_valid: 0.6777, accuracy_valid: 0.7567, 8.5750sec\n",
      "epoch: 23, loss_train: 0.4551, accuracy_train: 0.8470, loss_valid: 0.6763, accuracy_valid: 0.7567, 8.5822sec\n",
      "epoch: 24, loss_train: 0.4511, accuracy_train: 0.8485, loss_valid: 0.6748, accuracy_valid: 0.7575, 8.6006sec\n",
      "epoch: 25, loss_train: 0.4490, accuracy_train: 0.8496, loss_valid: 0.6742, accuracy_valid: 0.7575, 8.5802sec\n",
      "epoch: 26, loss_train: 0.4468, accuracy_train: 0.8517, loss_valid: 0.6727, accuracy_valid: 0.7575, 8.5577sec\n",
      "epoch: 27, loss_train: 0.4457, accuracy_train: 0.8523, loss_valid: 0.6720, accuracy_valid: 0.7590, 8.5908sec\n",
      "epoch: 28, loss_train: 0.4449, accuracy_train: 0.8523, loss_valid: 0.6714, accuracy_valid: 0.7590, 8.5774sec\n",
      "epoch: 29, loss_train: 0.4445, accuracy_train: 0.8523, loss_valid: 0.6713, accuracy_valid: 0.7590, 8.5809sec\n"
     ]
    },
    {
     "name": "stderr",
     "output_type": "stream",
     "text": [
      "\u001b[32m[I 2022-01-31 17:27:31,559]\u001b[0m Trial 9 finished with value: 0.6712489003305068 and parameters: {'emb_size': 100.0, 'out_channels': 50.0, 'drop_rate': 0.4, 'learning_rate': 0.004665862581604787, 'momentum': 0.6, 'batch_size': 16.0, 'min_lr': 1.1779786812023121e-05}. Best is trial 1 with value: 0.5095011624558584.\u001b[0m\n"
     ]
    },
    {
     "name": "stdout",
     "output_type": "stream",
     "text": [
      "epoch: 30, loss_train: 0.4444, accuracy_train: 0.8523, loss_valid: 0.6712, accuracy_valid: 0.7590, 8.6017sec\n",
      "epoch: 1, loss_train: 0.5890, accuracy_train: 0.8005, loss_valid: 0.7626, accuracy_valid: 0.7305, 8.6854sec\n",
      "epoch: 2, loss_train: 0.3515, accuracy_train: 0.9016, loss_valid: 0.6798, accuracy_valid: 0.7590, 8.6036sec\n",
      "epoch: 3, loss_train: 0.1852, accuracy_train: 0.9513, loss_valid: 0.6146, accuracy_valid: 0.7882, 8.6094sec\n",
      "epoch: 4, loss_train: 0.1088, accuracy_train: 0.9707, loss_valid: 0.6113, accuracy_valid: 0.8031, 8.6410sec\n",
      "epoch: 5, loss_train: 0.0719, accuracy_train: 0.9827, loss_valid: 0.6209, accuracy_valid: 0.8084, 8.5799sec\n",
      "epoch: 6, loss_train: 0.0378, accuracy_train: 0.9933, loss_valid: 0.6183, accuracy_valid: 0.8099, 8.5970sec\n",
      "epoch: 7, loss_train: 0.0305, accuracy_train: 0.9948, loss_valid: 0.6099, accuracy_valid: 0.8234, 8.6153sec\n",
      "epoch: 8, loss_train: 0.0267, accuracy_train: 0.9952, loss_valid: 0.6508, accuracy_valid: 0.8106, 8.6200sec\n",
      "epoch: 9, loss_train: 0.0165, accuracy_train: 0.9976, loss_valid: 0.6312, accuracy_valid: 0.8301, 8.6171sec\n",
      "epoch: 10, loss_train: 0.0171, accuracy_train: 0.9964, loss_valid: 0.6661, accuracy_valid: 0.8181, 8.6235sec\n",
      "epoch: 11, loss_train: 0.0139, accuracy_train: 0.9977, loss_valid: 0.6541, accuracy_valid: 0.8293, 8.6275sec\n",
      "epoch: 12, loss_train: 0.0118, accuracy_train: 0.9978, loss_valid: 0.6578, accuracy_valid: 0.8293, 8.6076sec\n",
      "epoch: 13, loss_train: 0.0103, accuracy_train: 0.9983, loss_valid: 0.6538, accuracy_valid: 0.8286, 8.6039sec\n",
      "epoch: 14, loss_train: 0.0089, accuracy_train: 0.9984, loss_valid: 0.6542, accuracy_valid: 0.8271, 8.6191sec\n",
      "epoch: 15, loss_train: 0.0092, accuracy_train: 0.9986, loss_valid: 0.6558, accuracy_valid: 0.8263, 8.5999sec\n"
     ]
    },
    {
     "name": "stderr",
     "output_type": "stream",
     "text": [
      "\u001b[32m[I 2022-01-31 17:29:49,459]\u001b[0m Trial 10 finished with value: 0.6575050162577178 and parameters: {'emb_size': 300.0, 'out_channels': 100.0, 'drop_rate': 0.1, 'learning_rate': 0.046193756543585235, 'momentum': 0.8, 'batch_size': 16.0, 'min_lr': 0.002912144027573002}. Best is trial 1 with value: 0.5095011624558584.\u001b[0m\n"
     ]
    },
    {
     "name": "stdout",
     "output_type": "stream",
     "text": [
      "epoch: 16, loss_train: 0.0082, accuracy_train: 0.9986, loss_valid: 0.6575, accuracy_valid: 0.8308, 8.6055sec\n",
      "epoch: 1, loss_train: 0.8702, accuracy_train: 0.6948, loss_valid: 0.9305, accuracy_valid: 0.6587, 7.8314sec\n",
      "epoch: 2, loss_train: 0.6627, accuracy_train: 0.7658, loss_valid: 0.7957, accuracy_valid: 0.7133, 7.8772sec\n",
      "epoch: 3, loss_train: 0.5206, accuracy_train: 0.8335, loss_valid: 0.7219, accuracy_valid: 0.7522, 7.8457sec\n",
      "epoch: 4, loss_train: 0.3897, accuracy_train: 0.8596, loss_valid: 0.6336, accuracy_valid: 0.7672, 7.8405sec\n",
      "epoch: 5, loss_train: 0.2869, accuracy_train: 0.9267, loss_valid: 0.6037, accuracy_valid: 0.7912, 7.8630sec\n",
      "epoch: 6, loss_train: 0.2100, accuracy_train: 0.9460, loss_valid: 0.5596, accuracy_valid: 0.8091, 7.8246sec\n",
      "epoch: 7, loss_train: 0.1541, accuracy_train: 0.9662, loss_valid: 0.5321, accuracy_valid: 0.8181, 7.8189sec\n",
      "epoch: 8, loss_train: 0.1103, accuracy_train: 0.9817, loss_valid: 0.5308, accuracy_valid: 0.8256, 7.8263sec\n",
      "epoch: 9, loss_train: 0.0797, accuracy_train: 0.9890, loss_valid: 0.5172, accuracy_valid: 0.8391, 7.8609sec\n",
      "epoch: 10, loss_train: 0.0692, accuracy_train: 0.9861, loss_valid: 0.5584, accuracy_valid: 0.8278, 7.8445sec\n",
      "epoch: 11, loss_train: 0.0557, accuracy_train: 0.9924, loss_valid: 0.5557, accuracy_valid: 0.8204, 7.8336sec\n",
      "epoch: 12, loss_train: 0.0423, accuracy_train: 0.9938, loss_valid: 0.5567, accuracy_valid: 0.8219, 7.8765sec\n",
      "epoch: 13, loss_train: 0.0413, accuracy_train: 0.9938, loss_valid: 0.5687, accuracy_valid: 0.8226, 7.8523sec\n"
     ]
    },
    {
     "name": "stderr",
     "output_type": "stream",
     "text": [
      "\u001b[32m[I 2022-01-31 17:31:39,362]\u001b[0m Trial 11 finished with value: 0.577805063531976 and parameters: {'emb_size': 200.0, 'out_channels': 100.0, 'drop_rate': 0.2, 'learning_rate': 0.016225874528430412, 'momentum': 0.9, 'batch_size': 48.0, 'min_lr': 0.07060268770757462}. Best is trial 1 with value: 0.5095011624558584.\u001b[0m\n"
     ]
    },
    {
     "name": "stdout",
     "output_type": "stream",
     "text": [
      "epoch: 14, loss_train: 0.0439, accuracy_train: 0.9917, loss_valid: 0.5778, accuracy_valid: 0.8189, 7.8663sec\n",
      "epoch: 1, loss_train: 0.8751, accuracy_train: 0.6992, loss_valid: 0.9330, accuracy_valid: 0.6722, 7.8517sec\n",
      "epoch: 2, loss_train: 0.6647, accuracy_train: 0.7632, loss_valid: 0.7958, accuracy_valid: 0.7058, 7.8796sec\n",
      "epoch: 3, loss_train: 0.5039, accuracy_train: 0.8224, loss_valid: 0.6993, accuracy_valid: 0.7448, 7.8587sec\n",
      "epoch: 4, loss_train: 0.3853, accuracy_train: 0.8737, loss_valid: 0.6435, accuracy_valid: 0.7642, 7.8639sec\n",
      "epoch: 5, loss_train: 0.2969, accuracy_train: 0.9016, loss_valid: 0.6171, accuracy_valid: 0.7695, 7.8700sec\n",
      "epoch: 6, loss_train: 0.2201, accuracy_train: 0.9525, loss_valid: 0.5784, accuracy_valid: 0.8076, 7.8643sec\n",
      "epoch: 7, loss_train: 0.1736, accuracy_train: 0.9702, loss_valid: 0.5897, accuracy_valid: 0.7942, 7.8654sec\n",
      "epoch: 8, loss_train: 0.1182, accuracy_train: 0.9833, loss_valid: 0.5587, accuracy_valid: 0.8076, 7.8624sec\n",
      "epoch: 9, loss_train: 0.0892, accuracy_train: 0.9901, loss_valid: 0.5408, accuracy_valid: 0.8181, 7.8592sec\n",
      "epoch: 10, loss_train: 0.0702, accuracy_train: 0.9895, loss_valid: 0.5399, accuracy_valid: 0.8159, 7.8457sec\n",
      "epoch: 11, loss_train: 0.0578, accuracy_train: 0.9923, loss_valid: 0.5617, accuracy_valid: 0.8151, 7.8667sec\n",
      "epoch: 12, loss_train: 0.0474, accuracy_train: 0.9927, loss_valid: 0.5504, accuracy_valid: 0.8144, 7.8699sec\n",
      "epoch: 13, loss_train: 0.0481, accuracy_train: 0.9939, loss_valid: 0.6173, accuracy_valid: 0.8046, 7.8381sec\n",
      "epoch: 14, loss_train: 0.0322, accuracy_train: 0.9957, loss_valid: 0.5693, accuracy_valid: 0.8204, 7.8421sec\n",
      "epoch: 15, loss_train: 0.0346, accuracy_train: 0.9948, loss_valid: 0.5921, accuracy_valid: 0.8099, 7.8716sec\n",
      "epoch: 16, loss_train: 0.0309, accuracy_train: 0.9946, loss_valid: 0.6096, accuracy_valid: 0.8316, 7.8631sec\n"
     ]
    },
    {
     "name": "stderr",
     "output_type": "stream",
     "text": [
      "\u001b[32m[I 2022-01-31 17:33:53,008]\u001b[0m Trial 12 finished with value: 0.6105827802675257 and parameters: {'emb_size': 200.0, 'out_channels': 100.0, 'drop_rate': 0.2, 'learning_rate': 0.01580415182869161, 'momentum': 0.9, 'batch_size': 48.0, 'min_lr': 0.04959144776482051}. Best is trial 1 with value: 0.5095011624558584.\u001b[0m\n"
     ]
    },
    {
     "name": "stdout",
     "output_type": "stream",
     "text": [
      "epoch: 17, loss_train: 0.0282, accuracy_train: 0.9957, loss_valid: 0.6106, accuracy_valid: 0.8159, 7.8293sec\n",
      "epoch: 1, loss_train: 0.9085, accuracy_train: 0.6835, loss_valid: 0.9642, accuracy_valid: 0.6422, 7.8504sec\n",
      "epoch: 2, loss_train: 0.7177, accuracy_train: 0.7491, loss_valid: 0.8355, accuracy_valid: 0.6886, 7.9042sec\n",
      "epoch: 3, loss_train: 0.5770, accuracy_train: 0.8096, loss_valid: 0.7591, accuracy_valid: 0.7313, 7.8365sec\n",
      "epoch: 4, loss_train: 0.4589, accuracy_train: 0.8465, loss_valid: 0.6898, accuracy_valid: 0.7515, 7.8552sec\n",
      "epoch: 5, loss_train: 0.3806, accuracy_train: 0.8797, loss_valid: 0.6713, accuracy_valid: 0.7590, 7.8379sec\n",
      "epoch: 6, loss_train: 0.2955, accuracy_train: 0.9150, loss_valid: 0.6184, accuracy_valid: 0.7874, 7.8576sec\n",
      "epoch: 7, loss_train: 0.2286, accuracy_train: 0.9495, loss_valid: 0.5953, accuracy_valid: 0.7987, 7.8467sec\n",
      "epoch: 8, loss_train: 0.1924, accuracy_train: 0.9616, loss_valid: 0.5980, accuracy_valid: 0.7942, 7.8567sec\n",
      "epoch: 9, loss_train: 0.1518, accuracy_train: 0.9793, loss_valid: 0.5905, accuracy_valid: 0.7987, 7.8840sec\n",
      "epoch: 10, loss_train: 0.1172, accuracy_train: 0.9863, loss_valid: 0.5586, accuracy_valid: 0.7964, 7.8554sec\n",
      "epoch: 11, loss_train: 0.0951, accuracy_train: 0.9900, loss_valid: 0.5403, accuracy_valid: 0.8129, 7.8440sec\n",
      "epoch: 12, loss_train: 0.0811, accuracy_train: 0.9927, loss_valid: 0.5370, accuracy_valid: 0.8136, 7.8458sec\n",
      "epoch: 13, loss_train: 0.0676, accuracy_train: 0.9953, loss_valid: 0.5492, accuracy_valid: 0.8099, 7.8646sec\n",
      "epoch: 14, loss_train: 0.0598, accuracy_train: 0.9964, loss_valid: 0.5591, accuracy_valid: 0.8061, 7.8267sec\n",
      "epoch: 15, loss_train: 0.0513, accuracy_train: 0.9975, loss_valid: 0.5354, accuracy_valid: 0.8166, 7.8391sec\n",
      "epoch: 16, loss_train: 0.0461, accuracy_train: 0.9976, loss_valid: 0.5524, accuracy_valid: 0.8129, 7.8595sec\n",
      "epoch: 17, loss_train: 0.0419, accuracy_train: 0.9982, loss_valid: 0.5488, accuracy_valid: 0.8189, 7.8817sec\n",
      "epoch: 18, loss_train: 0.0386, accuracy_train: 0.9979, loss_valid: 0.5605, accuracy_valid: 0.8121, 7.8373sec\n",
      "epoch: 19, loss_train: 0.0356, accuracy_train: 0.9980, loss_valid: 0.5593, accuracy_valid: 0.8106, 7.8411sec\n",
      "epoch: 20, loss_train: 0.0324, accuracy_train: 0.9985, loss_valid: 0.5472, accuracy_valid: 0.8136, 7.8901sec\n",
      "epoch: 21, loss_train: 0.0307, accuracy_train: 0.9983, loss_valid: 0.5515, accuracy_valid: 0.8136, 7.8993sec\n",
      "epoch: 22, loss_train: 0.0292, accuracy_train: 0.9986, loss_valid: 0.5532, accuracy_valid: 0.8181, 7.8616sec\n"
     ]
    },
    {
     "name": "stderr",
     "output_type": "stream",
     "text": [
      "\u001b[32m[I 2022-01-31 17:36:53,882]\u001b[0m Trial 13 finished with value: 0.5553046786759744 and parameters: {'emb_size': 200.0, 'out_channels': 100.0, 'drop_rate': 0.1, 'learning_rate': 0.024433578617988245, 'momentum': 0.8, 'batch_size': 48.0, 'min_lr': 0.005430564724241327}. Best is trial 1 with value: 0.5095011624558584.\u001b[0m\n"
     ]
    },
    {
     "name": "stdout",
     "output_type": "stream",
     "text": [
      "epoch: 23, loss_train: 0.0277, accuracy_train: 0.9990, loss_valid: 0.5553, accuracy_valid: 0.8151, 7.9556sec\n",
      "epoch: 1, loss_train: 0.8277, accuracy_train: 0.7105, loss_valid: 0.9254, accuracy_valid: 0.6564, 8.0672sec\n",
      "epoch: 2, loss_train: 0.5972, accuracy_train: 0.7797, loss_valid: 0.7576, accuracy_valid: 0.7290, 8.0776sec\n",
      "epoch: 3, loss_train: 0.4234, accuracy_train: 0.8556, loss_valid: 0.6544, accuracy_valid: 0.7567, 8.0896sec\n",
      "epoch: 4, loss_train: 0.2888, accuracy_train: 0.9293, loss_valid: 0.6115, accuracy_valid: 0.7927, 8.1108sec\n",
      "epoch: 5, loss_train: 0.2017, accuracy_train: 0.9688, loss_valid: 0.5898, accuracy_valid: 0.8031, 8.0585sec\n",
      "epoch: 6, loss_train: 0.1411, accuracy_train: 0.9825, loss_valid: 0.5832, accuracy_valid: 0.7964, 8.0656sec\n",
      "epoch: 7, loss_train: 0.0946, accuracy_train: 0.9920, loss_valid: 0.5610, accuracy_valid: 0.8159, 8.0907sec\n",
      "epoch: 8, loss_train: 0.0694, accuracy_train: 0.9954, loss_valid: 0.5600, accuracy_valid: 0.8219, 8.0566sec\n",
      "epoch: 9, loss_train: 0.0512, accuracy_train: 0.9983, loss_valid: 0.5588, accuracy_valid: 0.8226, 8.0921sec\n",
      "epoch: 10, loss_train: 0.0405, accuracy_train: 0.9987, loss_valid: 0.5607, accuracy_valid: 0.8204, 8.1015sec\n",
      "epoch: 11, loss_train: 0.0326, accuracy_train: 0.9988, loss_valid: 0.5600, accuracy_valid: 0.8174, 8.0850sec\n",
      "epoch: 12, loss_train: 0.0277, accuracy_train: 0.9992, loss_valid: 0.5609, accuracy_valid: 0.8211, 8.0715sec\n",
      "epoch: 13, loss_train: 0.0246, accuracy_train: 0.9991, loss_valid: 0.5640, accuracy_valid: 0.8204, 8.0907sec\n"
     ]
    },
    {
     "name": "stderr",
     "output_type": "stream",
     "text": [
      "\u001b[32m[I 2022-01-31 17:38:47,053]\u001b[0m Trial 14 finished with value: 0.570156206202231 and parameters: {'emb_size': 300.0, 'out_channels': 200.0, 'drop_rate': 0.0, 'learning_rate': 0.03273922668605318, 'momentum': 0.7, 'batch_size': 32.0, 'min_lr': 0.005564858428568574}. Best is trial 1 with value: 0.5095011624558584.\u001b[0m\n"
     ]
    },
    {
     "name": "stdout",
     "output_type": "stream",
     "text": [
      "epoch: 14, loss_train: 0.0221, accuracy_train: 0.9992, loss_valid: 0.5702, accuracy_valid: 0.8211, 8.0681sec\n",
      "epoch: 1, loss_train: 1.0591, accuracy_train: 0.5718, loss_valid: 1.0833, accuracy_valid: 0.5636, 7.8997sec\n",
      "epoch: 2, loss_train: 0.9569, accuracy_train: 0.6717, loss_valid: 1.0076, accuracy_valid: 0.6243, 7.8829sec\n",
      "epoch: 3, loss_train: 0.8477, accuracy_train: 0.7147, loss_valid: 0.9198, accuracy_valid: 0.6796, 7.9204sec\n",
      "epoch: 4, loss_train: 0.7634, accuracy_train: 0.7441, loss_valid: 0.8628, accuracy_valid: 0.6999, 7.8834sec\n",
      "epoch: 5, loss_train: 0.6978, accuracy_train: 0.7617, loss_valid: 0.8358, accuracy_valid: 0.7088, 7.8851sec\n",
      "epoch: 6, loss_train: 0.6343, accuracy_train: 0.7762, loss_valid: 0.7795, accuracy_valid: 0.7246, 7.8852sec\n",
      "epoch: 7, loss_train: 0.5782, accuracy_train: 0.7943, loss_valid: 0.7499, accuracy_valid: 0.7350, 7.9069sec\n",
      "epoch: 8, loss_train: 0.5291, accuracy_train: 0.8158, loss_valid: 0.7263, accuracy_valid: 0.7507, 7.8790sec\n",
      "epoch: 9, loss_train: 0.4866, accuracy_train: 0.8422, loss_valid: 0.7087, accuracy_valid: 0.7575, 7.8707sec\n",
      "epoch: 10, loss_train: 0.4452, accuracy_train: 0.8535, loss_valid: 0.6805, accuracy_valid: 0.7567, 7.9203sec\n",
      "epoch: 11, loss_train: 0.4093, accuracy_train: 0.8704, loss_valid: 0.6617, accuracy_valid: 0.7717, 7.9208sec\n",
      "epoch: 12, loss_train: 0.3834, accuracy_train: 0.8802, loss_valid: 0.6548, accuracy_valid: 0.7642, 7.8637sec\n",
      "epoch: 13, loss_train: 0.3507, accuracy_train: 0.8917, loss_valid: 0.6229, accuracy_valid: 0.7814, 7.8488sec\n",
      "epoch: 14, loss_train: 0.3251, accuracy_train: 0.9049, loss_valid: 0.6145, accuracy_valid: 0.7829, 7.8637sec\n",
      "epoch: 15, loss_train: 0.3061, accuracy_train: 0.9086, loss_valid: 0.6000, accuracy_valid: 0.7904, 7.8440sec\n",
      "epoch: 16, loss_train: 0.2861, accuracy_train: 0.9242, loss_valid: 0.5942, accuracy_valid: 0.7972, 7.8541sec\n",
      "epoch: 17, loss_train: 0.2712, accuracy_train: 0.9311, loss_valid: 0.5894, accuracy_valid: 0.7964, 7.8791sec\n",
      "epoch: 18, loss_train: 0.2573, accuracy_train: 0.9348, loss_valid: 0.5828, accuracy_valid: 0.7964, 7.8309sec\n",
      "epoch: 19, loss_train: 0.2460, accuracy_train: 0.9378, loss_valid: 0.5757, accuracy_valid: 0.8031, 7.8765sec\n",
      "epoch: 20, loss_train: 0.2366, accuracy_train: 0.9467, loss_valid: 0.5731, accuracy_valid: 0.8061, 7.8737sec\n",
      "epoch: 21, loss_train: 0.2279, accuracy_train: 0.9480, loss_valid: 0.5695, accuracy_valid: 0.8099, 7.8953sec\n",
      "epoch: 22, loss_train: 0.2207, accuracy_train: 0.9525, loss_valid: 0.5676, accuracy_valid: 0.8084, 7.8431sec\n",
      "epoch: 23, loss_train: 0.2151, accuracy_train: 0.9550, loss_valid: 0.5655, accuracy_valid: 0.8121, 7.8324sec\n",
      "epoch: 24, loss_train: 0.2103, accuracy_train: 0.9551, loss_valid: 0.5610, accuracy_valid: 0.8144, 7.8835sec\n",
      "epoch: 25, loss_train: 0.2063, accuracy_train: 0.9592, loss_valid: 0.5617, accuracy_valid: 0.8099, 7.8567sec\n",
      "epoch: 26, loss_train: 0.2032, accuracy_train: 0.9625, loss_valid: 0.5639, accuracy_valid: 0.8114, 7.8729sec\n",
      "epoch: 27, loss_train: 0.2001, accuracy_train: 0.9633, loss_valid: 0.5600, accuracy_valid: 0.8144, 7.8680sec\n",
      "epoch: 28, loss_train: 0.1980, accuracy_train: 0.9618, loss_valid: 0.5567, accuracy_valid: 0.8159, 7.8699sec\n",
      "epoch: 29, loss_train: 0.1959, accuracy_train: 0.9645, loss_valid: 0.5589, accuracy_valid: 0.8121, 7.8404sec\n"
     ]
    },
    {
     "name": "stderr",
     "output_type": "stream",
     "text": [
      "\u001b[32m[I 2022-01-31 17:42:43,302]\u001b[0m Trial 15 finished with value: 0.5584727670585301 and parameters: {'emb_size': 200.0, 'out_channels': 150.0, 'drop_rate': 0.1, 'learning_rate': 0.009305447406279976, 'momentum': 0.8, 'batch_size': 48.0, 'min_lr': 0.0007232998112143536}. Best is trial 1 with value: 0.5095011624558584.\u001b[0m\n"
     ]
    },
    {
     "name": "stdout",
     "output_type": "stream",
     "text": [
      "epoch: 30, loss_train: 0.1941, accuracy_train: 0.9655, loss_valid: 0.5585, accuracy_valid: 0.8129, 7.8504sec\n",
      "epoch: 1, loss_train: 1.1208, accuracy_train: 0.5156, loss_valid: 1.1291, accuracy_valid: 0.5075, 8.0532sec\n",
      "epoch: 2, loss_train: 1.0855, accuracy_train: 0.5444, loss_valid: 1.1006, accuracy_valid: 0.5427, 8.0411sec\n",
      "epoch: 3, loss_train: 1.0559, accuracy_train: 0.5686, loss_valid: 1.0790, accuracy_valid: 0.5666, 8.0643sec\n",
      "epoch: 4, loss_train: 1.0247, accuracy_train: 0.5931, loss_valid: 1.0559, accuracy_valid: 0.5838, 8.0460sec\n",
      "epoch: 5, loss_train: 0.9893, accuracy_train: 0.6396, loss_valid: 1.0269, accuracy_valid: 0.6115, 8.0444sec\n",
      "epoch: 6, loss_train: 0.9544, accuracy_train: 0.6723, loss_valid: 1.0017, accuracy_valid: 0.6430, 8.0220sec\n",
      "epoch: 7, loss_train: 0.9170, accuracy_train: 0.6867, loss_valid: 0.9717, accuracy_valid: 0.6542, 8.0411sec\n",
      "epoch: 8, loss_train: 0.8851, accuracy_train: 0.7005, loss_valid: 0.9497, accuracy_valid: 0.6647, 8.0550sec\n",
      "epoch: 9, loss_train: 0.8536, accuracy_train: 0.7110, loss_valid: 0.9231, accuracy_valid: 0.6789, 8.0518sec\n",
      "epoch: 10, loss_train: 0.8272, accuracy_train: 0.7196, loss_valid: 0.9057, accuracy_valid: 0.6841, 8.0165sec\n",
      "epoch: 11, loss_train: 0.8036, accuracy_train: 0.7292, loss_valid: 0.8901, accuracy_valid: 0.6931, 8.0652sec\n",
      "epoch: 12, loss_train: 0.7828, accuracy_train: 0.7351, loss_valid: 0.8778, accuracy_valid: 0.6931, 8.0368sec\n",
      "epoch: 13, loss_train: 0.7639, accuracy_train: 0.7430, loss_valid: 0.8634, accuracy_valid: 0.7006, 8.0109sec\n",
      "epoch: 14, loss_train: 0.7466, accuracy_train: 0.7487, loss_valid: 0.8521, accuracy_valid: 0.7021, 8.0192sec\n",
      "epoch: 15, loss_train: 0.7316, accuracy_train: 0.7525, loss_valid: 0.8425, accuracy_valid: 0.7021, 8.0900sec\n",
      "epoch: 16, loss_train: 0.7185, accuracy_train: 0.7562, loss_valid: 0.8356, accuracy_valid: 0.7036, 8.0297sec\n",
      "epoch: 17, loss_train: 0.7069, accuracy_train: 0.7606, loss_valid: 0.8263, accuracy_valid: 0.7066, 8.0217sec\n",
      "epoch: 18, loss_train: 0.6962, accuracy_train: 0.7620, loss_valid: 0.8206, accuracy_valid: 0.7081, 8.0384sec\n",
      "epoch: 19, loss_train: 0.6873, accuracy_train: 0.7647, loss_valid: 0.8150, accuracy_valid: 0.7096, 8.0423sec\n",
      "epoch: 20, loss_train: 0.6795, accuracy_train: 0.7669, loss_valid: 0.8104, accuracy_valid: 0.7103, 8.0212sec\n",
      "epoch: 21, loss_train: 0.6732, accuracy_train: 0.7685, loss_valid: 0.8071, accuracy_valid: 0.7141, 8.0196sec\n",
      "epoch: 22, loss_train: 0.6674, accuracy_train: 0.7705, loss_valid: 0.8043, accuracy_valid: 0.7156, 8.0701sec\n",
      "epoch: 23, loss_train: 0.6629, accuracy_train: 0.7712, loss_valid: 0.8019, accuracy_valid: 0.7156, 8.0504sec\n",
      "epoch: 24, loss_train: 0.6591, accuracy_train: 0.7710, loss_valid: 0.7990, accuracy_valid: 0.7163, 8.0207sec\n",
      "epoch: 25, loss_train: 0.6561, accuracy_train: 0.7725, loss_valid: 0.7970, accuracy_valid: 0.7163, 8.0434sec\n",
      "epoch: 26, loss_train: 0.6538, accuracy_train: 0.7729, loss_valid: 0.7958, accuracy_valid: 0.7163, 8.0866sec\n",
      "epoch: 27, loss_train: 0.6519, accuracy_train: 0.7733, loss_valid: 0.7947, accuracy_valid: 0.7156, 8.0252sec\n",
      "epoch: 28, loss_train: 0.6505, accuracy_train: 0.7739, loss_valid: 0.7938, accuracy_valid: 0.7156, 8.0426sec\n",
      "epoch: 29, loss_train: 0.6493, accuracy_train: 0.7744, loss_valid: 0.7933, accuracy_valid: 0.7171, 8.0592sec\n"
     ]
    },
    {
     "name": "stderr",
     "output_type": "stream",
     "text": [
      "\u001b[32m[I 2022-01-31 17:46:44,605]\u001b[0m Trial 16 finished with value: 0.7927281645720569 and parameters: {'emb_size': 300.0, 'out_channels': 100.0, 'drop_rate': 0.1, 'learning_rate': 0.0021273777363322076, 'momentum': 0.8, 'batch_size': 32.0, 'min_lr': 8.47494549233735e-05}. Best is trial 1 with value: 0.5095011624558584.\u001b[0m\n"
     ]
    },
    {
     "name": "stdout",
     "output_type": "stream",
     "text": [
      "epoch: 30, loss_train: 0.6484, accuracy_train: 0.7751, loss_valid: 0.7927, accuracy_valid: 0.7178, 8.0268sec\n",
      "epoch: 1, loss_train: 1.0378, accuracy_train: 0.5824, loss_valid: 1.0650, accuracy_valid: 0.5741, 7.7424sec\n",
      "epoch: 2, loss_train: 0.9047, accuracy_train: 0.6957, loss_valid: 0.9577, accuracy_valid: 0.6639, 7.7656sec\n",
      "epoch: 3, loss_train: 0.7877, accuracy_train: 0.7341, loss_valid: 0.8757, accuracy_valid: 0.6939, 7.7682sec\n",
      "epoch: 4, loss_train: 0.7066, accuracy_train: 0.7533, loss_valid: 0.8199, accuracy_valid: 0.7103, 7.7413sec\n",
      "epoch: 5, loss_train: 0.6175, accuracy_train: 0.7866, loss_valid: 0.7734, accuracy_valid: 0.7305, 7.7521sec\n",
      "epoch: 6, loss_train: 0.5467, accuracy_train: 0.8057, loss_valid: 0.7229, accuracy_valid: 0.7388, 7.7833sec\n",
      "epoch: 7, loss_train: 0.4894, accuracy_train: 0.8469, loss_valid: 0.6978, accuracy_valid: 0.7657, 7.7673sec\n",
      "epoch: 8, loss_train: 0.4366, accuracy_train: 0.8612, loss_valid: 0.6639, accuracy_valid: 0.7732, 7.7265sec\n",
      "epoch: 9, loss_train: 0.3887, accuracy_train: 0.8759, loss_valid: 0.6373, accuracy_valid: 0.7762, 7.7328sec\n",
      "epoch: 10, loss_train: 0.3503, accuracy_train: 0.8959, loss_valid: 0.6198, accuracy_valid: 0.7912, 7.7570sec\n",
      "epoch: 11, loss_train: 0.3146, accuracy_train: 0.9039, loss_valid: 0.5957, accuracy_valid: 0.7919, 7.7608sec\n",
      "epoch: 12, loss_train: 0.2847, accuracy_train: 0.9232, loss_valid: 0.5868, accuracy_valid: 0.8001, 7.7463sec\n",
      "epoch: 13, loss_train: 0.2598, accuracy_train: 0.9282, loss_valid: 0.5704, accuracy_valid: 0.8069, 7.7475sec\n",
      "epoch: 14, loss_train: 0.2382, accuracy_train: 0.9451, loss_valid: 0.5634, accuracy_valid: 0.8054, 7.7620sec\n",
      "epoch: 15, loss_train: 0.2217, accuracy_train: 0.9502, loss_valid: 0.5509, accuracy_valid: 0.8136, 7.7477sec\n",
      "epoch: 16, loss_train: 0.2073, accuracy_train: 0.9528, loss_valid: 0.5456, accuracy_valid: 0.8099, 7.7520sec\n",
      "epoch: 17, loss_train: 0.1933, accuracy_train: 0.9664, loss_valid: 0.5440, accuracy_valid: 0.8204, 7.7777sec\n",
      "epoch: 18, loss_train: 0.1808, accuracy_train: 0.9672, loss_valid: 0.5301, accuracy_valid: 0.8144, 7.7473sec\n",
      "epoch: 19, loss_train: 0.1715, accuracy_train: 0.9720, loss_valid: 0.5289, accuracy_valid: 0.8174, 7.7428sec\n",
      "epoch: 20, loss_train: 0.1636, accuracy_train: 0.9761, loss_valid: 0.5317, accuracy_valid: 0.8159, 7.7604sec\n",
      "epoch: 21, loss_train: 0.1570, accuracy_train: 0.9802, loss_valid: 0.5254, accuracy_valid: 0.8196, 7.7699sec\n",
      "epoch: 22, loss_train: 0.1519, accuracy_train: 0.9773, loss_valid: 0.5186, accuracy_valid: 0.8211, 7.7821sec\n",
      "epoch: 23, loss_train: 0.1478, accuracy_train: 0.9809, loss_valid: 0.5191, accuracy_valid: 0.8211, 7.7613sec\n",
      "epoch: 24, loss_train: 0.1439, accuracy_train: 0.9817, loss_valid: 0.5156, accuracy_valid: 0.8211, 7.7683sec\n",
      "epoch: 25, loss_train: 0.1411, accuracy_train: 0.9834, loss_valid: 0.5186, accuracy_valid: 0.8204, 7.7603sec\n",
      "epoch: 26, loss_train: 0.1385, accuracy_train: 0.9853, loss_valid: 0.5168, accuracy_valid: 0.8196, 7.7385sec\n",
      "epoch: 27, loss_train: 0.1366, accuracy_train: 0.9848, loss_valid: 0.5140, accuracy_valid: 0.8211, 7.7494sec\n",
      "epoch: 28, loss_train: 0.1351, accuracy_train: 0.9848, loss_valid: 0.5127, accuracy_valid: 0.8226, 7.7714sec\n",
      "epoch: 29, loss_train: 0.1340, accuracy_train: 0.9855, loss_valid: 0.5124, accuracy_valid: 0.8219, 7.7803sec\n"
     ]
    },
    {
     "name": "stderr",
     "output_type": "stream",
     "text": [
      "\u001b[32m[I 2022-01-31 17:50:37,381]\u001b[0m Trial 17 finished with value: 0.5127874283613707 and parameters: {'emb_size': 200.0, 'out_channels': 200.0, 'drop_rate': 0.30000000000000004, 'learning_rate': 0.024196779847072664, 'momentum': 0.7, 'batch_size': 64.0, 'min_lr': 0.0012621455157029767}. Best is trial 1 with value: 0.5095011624558584.\u001b[0m\n"
     ]
    },
    {
     "name": "stdout",
     "output_type": "stream",
     "text": [
      "epoch: 30, loss_train: 0.1330, accuracy_train: 0.9858, loss_valid: 0.5128, accuracy_valid: 0.8226, 7.7651sec\n",
      "epoch: 1, loss_train: 1.1215, accuracy_train: 0.5335, loss_valid: 1.1306, accuracy_valid: 0.5150, 7.7754sec\n",
      "epoch: 2, loss_train: 1.0863, accuracy_train: 0.5405, loss_valid: 1.1000, accuracy_valid: 0.5314, 7.7724sec\n",
      "epoch: 3, loss_train: 1.0589, accuracy_train: 0.5758, loss_valid: 1.0825, accuracy_valid: 0.5636, 7.7419sec\n",
      "epoch: 4, loss_train: 1.0313, accuracy_train: 0.6007, loss_valid: 1.0637, accuracy_valid: 0.5681, 7.7581sec\n",
      "epoch: 5, loss_train: 1.0001, accuracy_train: 0.6313, loss_valid: 1.0389, accuracy_valid: 0.6085, 7.7898sec\n",
      "epoch: 6, loss_train: 0.9678, accuracy_train: 0.6654, loss_valid: 1.0126, accuracy_valid: 0.6310, 7.7611sec\n",
      "epoch: 7, loss_train: 0.9354, accuracy_train: 0.6872, loss_valid: 0.9889, accuracy_valid: 0.6437, 7.7589sec\n",
      "epoch: 8, loss_train: 0.9033, accuracy_train: 0.6989, loss_valid: 0.9654, accuracy_valid: 0.6564, 7.8414sec\n",
      "epoch: 9, loss_train: 0.8736, accuracy_train: 0.7127, loss_valid: 0.9420, accuracy_valid: 0.6669, 7.7867sec\n",
      "epoch: 10, loss_train: 0.8469, accuracy_train: 0.7199, loss_valid: 0.9215, accuracy_valid: 0.6759, 7.7529sec\n",
      "epoch: 11, loss_train: 0.8232, accuracy_train: 0.7276, loss_valid: 0.9057, accuracy_valid: 0.6789, 7.7502sec\n",
      "epoch: 12, loss_train: 0.8013, accuracy_train: 0.7349, loss_valid: 0.8919, accuracy_valid: 0.6879, 7.8107sec\n",
      "epoch: 13, loss_train: 0.7818, accuracy_train: 0.7414, loss_valid: 0.8772, accuracy_valid: 0.6961, 7.7456sec\n",
      "epoch: 14, loss_train: 0.7649, accuracy_train: 0.7449, loss_valid: 0.8673, accuracy_valid: 0.6976, 7.7547sec\n",
      "epoch: 15, loss_train: 0.7493, accuracy_train: 0.7509, loss_valid: 0.8574, accuracy_valid: 0.6984, 7.7650sec\n",
      "epoch: 16, loss_train: 0.7356, accuracy_train: 0.7518, loss_valid: 0.8472, accuracy_valid: 0.7036, 7.7887sec\n",
      "epoch: 17, loss_train: 0.7236, accuracy_train: 0.7557, loss_valid: 0.8407, accuracy_valid: 0.7043, 7.7637sec\n",
      "epoch: 18, loss_train: 0.7130, accuracy_train: 0.7608, loss_valid: 0.8335, accuracy_valid: 0.7096, 7.7691sec\n",
      "epoch: 19, loss_train: 0.7035, accuracy_train: 0.7599, loss_valid: 0.8279, accuracy_valid: 0.7073, 7.7839sec\n",
      "epoch: 20, loss_train: 0.6953, accuracy_train: 0.7621, loss_valid: 0.8228, accuracy_valid: 0.7073, 7.7628sec\n",
      "epoch: 21, loss_train: 0.6880, accuracy_train: 0.7644, loss_valid: 0.8179, accuracy_valid: 0.7081, 7.7400sec\n",
      "epoch: 22, loss_train: 0.6819, accuracy_train: 0.7659, loss_valid: 0.8140, accuracy_valid: 0.7111, 7.7680sec\n",
      "epoch: 23, loss_train: 0.6768, accuracy_train: 0.7683, loss_valid: 0.8119, accuracy_valid: 0.7171, 7.7762sec\n",
      "epoch: 24, loss_train: 0.6726, accuracy_train: 0.7695, loss_valid: 0.8092, accuracy_valid: 0.7178, 7.7195sec\n",
      "epoch: 25, loss_train: 0.6690, accuracy_train: 0.7704, loss_valid: 0.8071, accuracy_valid: 0.7178, 7.7457sec\n",
      "epoch: 26, loss_train: 0.6661, accuracy_train: 0.7703, loss_valid: 0.8053, accuracy_valid: 0.7163, 7.7816sec\n",
      "epoch: 27, loss_train: 0.6637, accuracy_train: 0.7717, loss_valid: 0.8041, accuracy_valid: 0.7193, 7.7637sec\n",
      "epoch: 28, loss_train: 0.6617, accuracy_train: 0.7729, loss_valid: 0.8031, accuracy_valid: 0.7201, 7.7901sec\n",
      "epoch: 29, loss_train: 0.6599, accuracy_train: 0.7732, loss_valid: 0.8021, accuracy_valid: 0.7208, 7.8403sec\n"
     ]
    },
    {
     "name": "stderr",
     "output_type": "stream",
     "text": [
      "\u001b[32m[I 2022-01-31 17:54:30,556]\u001b[0m Trial 18 finished with value: 0.8009571421100767 and parameters: {'emb_size': 300.0, 'out_channels': 200.0, 'drop_rate': 0.4, 'learning_rate': 0.008373318955056558, 'momentum': 0.6, 'batch_size': 64.0, 'min_lr': 0.0005706182496548706}. Best is trial 1 with value: 0.5095011624558584.\u001b[0m\n"
     ]
    },
    {
     "name": "stdout",
     "output_type": "stream",
     "text": [
      "epoch: 30, loss_train: 0.6583, accuracy_train: 0.7735, loss_valid: 0.8010, accuracy_valid: 0.7201, 7.7650sec\n",
      "epoch: 1, loss_train: 1.1640, accuracy_train: 0.4876, loss_valid: 1.1661, accuracy_valid: 0.4581, 7.6947sec\n",
      "epoch: 2, loss_train: 1.1389, accuracy_train: 0.5102, loss_valid: 1.1444, accuracy_valid: 0.4978, 7.6880sec\n",
      "epoch: 3, loss_train: 1.1212, accuracy_train: 0.5178, loss_valid: 1.1292, accuracy_valid: 0.5045, 7.7121sec\n",
      "epoch: 4, loss_train: 1.1071, accuracy_train: 0.5282, loss_valid: 1.1185, accuracy_valid: 0.5120, 7.6972sec\n",
      "epoch: 5, loss_train: 1.0957, accuracy_train: 0.5370, loss_valid: 1.1095, accuracy_valid: 0.5307, 7.7007sec\n",
      "epoch: 6, loss_train: 1.0853, accuracy_train: 0.5449, loss_valid: 1.1025, accuracy_valid: 0.5269, 7.7034sec\n",
      "epoch: 7, loss_train: 1.0762, accuracy_train: 0.5536, loss_valid: 1.0960, accuracy_valid: 0.5419, 7.7365sec\n",
      "epoch: 8, loss_train: 1.0674, accuracy_train: 0.5606, loss_valid: 1.0896, accuracy_valid: 0.5464, 7.7030sec\n",
      "epoch: 9, loss_train: 1.0590, accuracy_train: 0.5709, loss_valid: 1.0824, accuracy_valid: 0.5621, 7.7301sec\n",
      "epoch: 10, loss_train: 1.0511, accuracy_train: 0.5798, loss_valid: 1.0768, accuracy_valid: 0.5711, 7.7108sec\n",
      "epoch: 11, loss_train: 1.0431, accuracy_train: 0.5867, loss_valid: 1.0711, accuracy_valid: 0.5726, 7.7229sec\n",
      "epoch: 12, loss_train: 1.0356, accuracy_train: 0.5950, loss_valid: 1.0651, accuracy_valid: 0.5816, 7.6982sec\n",
      "epoch: 13, loss_train: 1.0282, accuracy_train: 0.6021, loss_valid: 1.0599, accuracy_valid: 0.5876, 7.7019sec\n",
      "epoch: 14, loss_train: 1.0215, accuracy_train: 0.6089, loss_valid: 1.0542, accuracy_valid: 0.5943, 7.7348sec\n",
      "epoch: 15, loss_train: 1.0150, accuracy_train: 0.6156, loss_valid: 1.0493, accuracy_valid: 0.5996, 7.7105sec\n",
      "epoch: 16, loss_train: 1.0090, accuracy_train: 0.6233, loss_valid: 1.0455, accuracy_valid: 0.6040, 7.7151sec\n",
      "epoch: 17, loss_train: 1.0036, accuracy_train: 0.6267, loss_valid: 1.0408, accuracy_valid: 0.6085, 7.7025sec\n",
      "epoch: 18, loss_train: 0.9987, accuracy_train: 0.6307, loss_valid: 1.0370, accuracy_valid: 0.6108, 7.6957sec\n",
      "epoch: 19, loss_train: 0.9943, accuracy_train: 0.6338, loss_valid: 1.0337, accuracy_valid: 0.6153, 7.7032sec\n",
      "epoch: 20, loss_train: 0.9905, accuracy_train: 0.6379, loss_valid: 1.0312, accuracy_valid: 0.6190, 7.7072sec\n",
      "epoch: 21, loss_train: 0.9872, accuracy_train: 0.6416, loss_valid: 1.0285, accuracy_valid: 0.6205, 7.7791sec\n",
      "epoch: 22, loss_train: 0.9844, accuracy_train: 0.6437, loss_valid: 1.0263, accuracy_valid: 0.6213, 7.7455sec\n",
      "epoch: 23, loss_train: 0.9821, accuracy_train: 0.6459, loss_valid: 1.0247, accuracy_valid: 0.6213, 7.7398sec\n",
      "epoch: 24, loss_train: 0.9802, accuracy_train: 0.6468, loss_valid: 1.0231, accuracy_valid: 0.6220, 7.7289sec\n",
      "epoch: 25, loss_train: 0.9788, accuracy_train: 0.6483, loss_valid: 1.0220, accuracy_valid: 0.6228, 7.7894sec\n",
      "epoch: 26, loss_train: 0.9776, accuracy_train: 0.6489, loss_valid: 1.0211, accuracy_valid: 0.6235, 7.7448sec\n",
      "epoch: 27, loss_train: 0.9768, accuracy_train: 0.6494, loss_valid: 1.0204, accuracy_valid: 0.6228, 7.7500sec\n",
      "epoch: 28, loss_train: 0.9762, accuracy_train: 0.6499, loss_valid: 1.0199, accuracy_valid: 0.6228, 7.7718sec\n",
      "epoch: 29, loss_train: 0.9757, accuracy_train: 0.6503, loss_valid: 1.0196, accuracy_valid: 0.6235, 7.7753sec\n"
     ]
    },
    {
     "name": "stderr",
     "output_type": "stream",
     "text": [
      "\u001b[32m[I 2022-01-31 17:58:22,323]\u001b[0m Trial 19 finished with value: 1.0193180193856894 and parameters: {'emb_size': 200.0, 'out_channels': 200.0, 'drop_rate': 0.30000000000000004, 'learning_rate': 0.002548285120861104, 'momentum': 0.7, 'batch_size': 80.0, 'min_lr': 6.637479196228411e-05}. Best is trial 1 with value: 0.5095011624558584.\u001b[0m\n"
     ]
    },
    {
     "name": "stdout",
     "output_type": "stream",
     "text": [
      "epoch: 30, loss_train: 0.9753, accuracy_train: 0.6507, loss_valid: 1.0193, accuracy_valid: 0.6243, 7.7102sec\n",
      "epoch: 1, loss_train: 1.0669, accuracy_train: 0.5734, loss_valid: 1.0903, accuracy_valid: 0.5307, 8.0856sec\n",
      "epoch: 2, loss_train: 0.9796, accuracy_train: 0.6474, loss_valid: 1.0217, accuracy_valid: 0.6123, 8.1376sec\n",
      "epoch: 3, loss_train: 0.8843, accuracy_train: 0.7029, loss_valid: 0.9500, accuracy_valid: 0.6692, 8.1557sec\n",
      "epoch: 4, loss_train: 0.8038, accuracy_train: 0.7335, loss_valid: 0.8909, accuracy_valid: 0.6939, 8.0536sec\n",
      "epoch: 5, loss_train: 0.7385, accuracy_train: 0.7504, loss_valid: 0.8445, accuracy_valid: 0.7058, 8.0675sec\n",
      "epoch: 6, loss_train: 0.6802, accuracy_train: 0.7654, loss_valid: 0.8011, accuracy_valid: 0.7148, 8.1034sec\n",
      "epoch: 7, loss_train: 0.6296, accuracy_train: 0.7820, loss_valid: 0.7744, accuracy_valid: 0.7275, 8.0232sec\n",
      "epoch: 8, loss_train: 0.5832, accuracy_train: 0.7916, loss_valid: 0.7439, accuracy_valid: 0.7418, 8.0568sec\n",
      "epoch: 9, loss_train: 0.5406, accuracy_train: 0.8054, loss_valid: 0.7147, accuracy_valid: 0.7418, 8.0747sec\n",
      "epoch: 10, loss_train: 0.5036, accuracy_train: 0.8307, loss_valid: 0.6956, accuracy_valid: 0.7507, 8.0404sec\n",
      "epoch: 11, loss_train: 0.4676, accuracy_train: 0.8384, loss_valid: 0.6716, accuracy_valid: 0.7627, 8.0394sec\n",
      "epoch: 12, loss_train: 0.4381, accuracy_train: 0.8580, loss_valid: 0.6598, accuracy_valid: 0.7620, 8.0802sec\n",
      "epoch: 13, loss_train: 0.4127, accuracy_train: 0.8676, loss_valid: 0.6480, accuracy_valid: 0.7829, 8.0584sec\n",
      "epoch: 14, loss_train: 0.3885, accuracy_train: 0.8812, loss_valid: 0.6396, accuracy_valid: 0.7859, 8.0774sec\n",
      "epoch: 15, loss_train: 0.3651, accuracy_train: 0.8873, loss_valid: 0.6224, accuracy_valid: 0.7844, 8.0593sec\n",
      "epoch: 16, loss_train: 0.3466, accuracy_train: 0.8936, loss_valid: 0.6096, accuracy_valid: 0.7897, 8.0737sec\n",
      "epoch: 17, loss_train: 0.3309, accuracy_train: 0.9008, loss_valid: 0.6021, accuracy_valid: 0.7964, 8.0556sec\n",
      "epoch: 18, loss_train: 0.3173, accuracy_train: 0.9138, loss_valid: 0.5966, accuracy_valid: 0.8016, 8.0602sec\n",
      "epoch: 19, loss_train: 0.3057, accuracy_train: 0.9094, loss_valid: 0.5890, accuracy_valid: 0.7934, 8.0878sec\n",
      "epoch: 20, loss_train: 0.2948, accuracy_train: 0.9204, loss_valid: 0.5836, accuracy_valid: 0.8054, 8.0284sec\n",
      "epoch: 21, loss_train: 0.2843, accuracy_train: 0.9261, loss_valid: 0.5792, accuracy_valid: 0.8054, 8.0482sec\n",
      "epoch: 22, loss_train: 0.2763, accuracy_train: 0.9306, loss_valid: 0.5770, accuracy_valid: 0.8099, 8.0837sec\n",
      "epoch: 23, loss_train: 0.2696, accuracy_train: 0.9281, loss_valid: 0.5693, accuracy_valid: 0.7994, 8.0544sec\n",
      "epoch: 24, loss_train: 0.2641, accuracy_train: 0.9316, loss_valid: 0.5671, accuracy_valid: 0.8054, 8.0404sec\n",
      "epoch: 25, loss_train: 0.2589, accuracy_train: 0.9366, loss_valid: 0.5669, accuracy_valid: 0.8069, 8.0516sec\n",
      "epoch: 26, loss_train: 0.2549, accuracy_train: 0.9396, loss_valid: 0.5643, accuracy_valid: 0.8144, 8.0921sec\n",
      "epoch: 27, loss_train: 0.2509, accuracy_train: 0.9393, loss_valid: 0.5604, accuracy_valid: 0.8166, 8.0566sec\n",
      "epoch: 28, loss_train: 0.2475, accuracy_train: 0.9415, loss_valid: 0.5627, accuracy_valid: 0.8129, 8.0375sec\n",
      "epoch: 29, loss_train: 0.2451, accuracy_train: 0.9424, loss_valid: 0.5609, accuracy_valid: 0.8144, 8.0557sec\n"
     ]
    },
    {
     "name": "stderr",
     "output_type": "stream",
     "text": [
      "\u001b[32m[I 2022-01-31 18:02:24,382]\u001b[0m Trial 20 finished with value: 0.5592491326081344 and parameters: {'emb_size': 300.0, 'out_channels': 200.0, 'drop_rate': 0.4, 'learning_rate': 0.014146758506574153, 'momentum': 0.5, 'batch_size': 32.0, 'min_lr': 0.0016186326235746065}. Best is trial 1 with value: 0.5095011624558584.\u001b[0m\n"
     ]
    },
    {
     "name": "stdout",
     "output_type": "stream",
     "text": [
      "epoch: 30, loss_train: 0.2421, accuracy_train: 0.9437, loss_valid: 0.5592, accuracy_valid: 0.8129, 8.0686sec\n",
      "epoch: 1, loss_train: 0.9584, accuracy_train: 0.6585, loss_valid: 0.9958, accuracy_valid: 0.6310, 7.7366sec\n",
      "epoch: 2, loss_train: 0.7717, accuracy_train: 0.7304, loss_valid: 0.8748, accuracy_valid: 0.6901, 7.7312sec\n",
      "epoch: 3, loss_train: 0.6336, accuracy_train: 0.7808, loss_valid: 0.7796, accuracy_valid: 0.7298, 7.7531sec\n",
      "epoch: 4, loss_train: 0.5200, accuracy_train: 0.8195, loss_valid: 0.7118, accuracy_valid: 0.7560, 7.7392sec\n",
      "epoch: 5, loss_train: 0.4301, accuracy_train: 0.8501, loss_valid: 0.6673, accuracy_valid: 0.7597, 7.7222sec\n",
      "epoch: 6, loss_train: 0.3537, accuracy_train: 0.8940, loss_valid: 0.6398, accuracy_valid: 0.7792, 7.7321sec\n",
      "epoch: 7, loss_train: 0.2915, accuracy_train: 0.9074, loss_valid: 0.5910, accuracy_valid: 0.7957, 7.7456sec\n",
      "epoch: 8, loss_train: 0.2408, accuracy_train: 0.9469, loss_valid: 0.5835, accuracy_valid: 0.7994, 7.7115sec\n",
      "epoch: 9, loss_train: 0.2020, accuracy_train: 0.9496, loss_valid: 0.5627, accuracy_valid: 0.8061, 7.7271sec\n",
      "epoch: 10, loss_train: 0.1678, accuracy_train: 0.9700, loss_valid: 0.5503, accuracy_valid: 0.8151, 7.7524sec\n",
      "epoch: 11, loss_train: 0.1429, accuracy_train: 0.9825, loss_valid: 0.5456, accuracy_valid: 0.8234, 7.7244sec\n",
      "epoch: 12, loss_train: 0.1212, accuracy_train: 0.9839, loss_valid: 0.5241, accuracy_valid: 0.8204, 7.7391sec\n",
      "epoch: 13, loss_train: 0.1047, accuracy_train: 0.9906, loss_valid: 0.5259, accuracy_valid: 0.8263, 7.8328sec\n",
      "epoch: 14, loss_train: 0.0974, accuracy_train: 0.9862, loss_valid: 0.5384, accuracy_valid: 0.8129, 7.7925sec\n",
      "epoch: 15, loss_train: 0.0804, accuracy_train: 0.9957, loss_valid: 0.5219, accuracy_valid: 0.8234, 7.7403sec\n",
      "epoch: 16, loss_train: 0.0724, accuracy_train: 0.9967, loss_valid: 0.5293, accuracy_valid: 0.8166, 7.7459sec\n",
      "epoch: 17, loss_train: 0.0653, accuracy_train: 0.9968, loss_valid: 0.5128, accuracy_valid: 0.8308, 7.7600sec\n",
      "epoch: 18, loss_train: 0.0613, accuracy_train: 0.9970, loss_valid: 0.5147, accuracy_valid: 0.8286, 7.7483sec\n",
      "epoch: 19, loss_train: 0.0555, accuracy_train: 0.9980, loss_valid: 0.5131, accuracy_valid: 0.8226, 7.7459sec\n",
      "epoch: 20, loss_train: 0.0519, accuracy_train: 0.9978, loss_valid: 0.5173, accuracy_valid: 0.8241, 7.7538sec\n",
      "epoch: 21, loss_train: 0.0489, accuracy_train: 0.9980, loss_valid: 0.5117, accuracy_valid: 0.8256, 7.7718sec\n",
      "epoch: 22, loss_train: 0.0468, accuracy_train: 0.9978, loss_valid: 0.5145, accuracy_valid: 0.8293, 7.7402sec\n",
      "epoch: 23, loss_train: 0.0449, accuracy_train: 0.9982, loss_valid: 0.5094, accuracy_valid: 0.8308, 7.7129sec\n",
      "epoch: 24, loss_train: 0.0434, accuracy_train: 0.9984, loss_valid: 0.5143, accuracy_valid: 0.8293, 7.7367sec\n",
      "epoch: 25, loss_train: 0.0417, accuracy_train: 0.9983, loss_valid: 0.5144, accuracy_valid: 0.8286, 7.7537sec\n",
      "epoch: 26, loss_train: 0.0407, accuracy_train: 0.9984, loss_valid: 0.5125, accuracy_valid: 0.8316, 7.7313sec\n",
      "epoch: 27, loss_train: 0.0397, accuracy_train: 0.9983, loss_valid: 0.5162, accuracy_valid: 0.8271, 7.7650sec\n",
      "epoch: 28, loss_train: 0.0389, accuracy_train: 0.9983, loss_valid: 0.5142, accuracy_valid: 0.8301, 7.7628sec\n",
      "epoch: 29, loss_train: 0.0380, accuracy_train: 0.9986, loss_valid: 0.5141, accuracy_valid: 0.8263, 7.7656sec\n"
     ]
    },
    {
     "name": "stderr",
     "output_type": "stream",
     "text": [
      "\u001b[32m[I 2022-01-31 18:06:16,862]\u001b[0m Trial 21 finished with value: 0.5141643922685786 and parameters: {'emb_size': 200.0, 'out_channels': 150.0, 'drop_rate': 0.2, 'learning_rate': 0.026844793240436485, 'momentum': 0.8, 'batch_size': 64.0, 'min_lr': 0.0031597075858574237}. Best is trial 1 with value: 0.5095011624558584.\u001b[0m\n"
     ]
    },
    {
     "name": "stdout",
     "output_type": "stream",
     "text": [
      "epoch: 30, loss_train: 0.0376, accuracy_train: 0.9984, loss_valid: 0.5142, accuracy_valid: 0.8278, 7.7583sec\n",
      "epoch: 1, loss_train: 1.0439, accuracy_train: 0.5647, loss_valid: 1.0713, accuracy_valid: 0.5546, 7.7278sec\n",
      "epoch: 2, loss_train: 0.9112, accuracy_train: 0.6892, loss_valid: 0.9725, accuracy_valid: 0.6534, 7.7697sec\n",
      "epoch: 3, loss_train: 0.7956, accuracy_train: 0.7305, loss_valid: 0.8821, accuracy_valid: 0.6811, 7.7270sec\n",
      "epoch: 4, loss_train: 0.7028, accuracy_train: 0.7615, loss_valid: 0.8230, accuracy_valid: 0.7081, 7.7315sec\n",
      "epoch: 5, loss_train: 0.6285, accuracy_train: 0.7906, loss_valid: 0.7859, accuracy_valid: 0.7216, 7.7492sec\n",
      "epoch: 6, loss_train: 0.5586, accuracy_train: 0.8157, loss_valid: 0.7452, accuracy_valid: 0.7433, 7.6991sec\n",
      "epoch: 7, loss_train: 0.4980, accuracy_train: 0.8314, loss_valid: 0.7085, accuracy_valid: 0.7545, 7.7117sec\n",
      "epoch: 8, loss_train: 0.4454, accuracy_train: 0.8490, loss_valid: 0.6708, accuracy_valid: 0.7560, 7.7773sec\n",
      "epoch: 9, loss_train: 0.3993, accuracy_train: 0.8771, loss_valid: 0.6546, accuracy_valid: 0.7754, 7.7500sec\n",
      "epoch: 10, loss_train: 0.3615, accuracy_train: 0.8860, loss_valid: 0.6323, accuracy_valid: 0.7747, 7.7388sec\n",
      "epoch: 11, loss_train: 0.3265, accuracy_train: 0.9120, loss_valid: 0.6292, accuracy_valid: 0.7837, 7.7367sec\n",
      "epoch: 12, loss_train: 0.2940, accuracy_train: 0.9198, loss_valid: 0.5936, accuracy_valid: 0.7912, 7.7490sec\n",
      "epoch: 13, loss_train: 0.2694, accuracy_train: 0.9327, loss_valid: 0.5891, accuracy_valid: 0.7957, 7.7276sec\n",
      "epoch: 14, loss_train: 0.2465, accuracy_train: 0.9402, loss_valid: 0.5747, accuracy_valid: 0.7942, 7.7346sec\n",
      "epoch: 15, loss_train: 0.2321, accuracy_train: 0.9516, loss_valid: 0.5741, accuracy_valid: 0.8054, 7.7676sec\n",
      "epoch: 16, loss_train: 0.2141, accuracy_train: 0.9510, loss_valid: 0.5577, accuracy_valid: 0.8001, 7.7813sec\n",
      "epoch: 17, loss_train: 0.2007, accuracy_train: 0.9627, loss_valid: 0.5511, accuracy_valid: 0.8084, 7.7575sec\n",
      "epoch: 18, loss_train: 0.1902, accuracy_train: 0.9636, loss_valid: 0.5462, accuracy_valid: 0.8076, 7.7368sec\n",
      "epoch: 19, loss_train: 0.1806, accuracy_train: 0.9710, loss_valid: 0.5502, accuracy_valid: 0.8076, 7.7550sec\n",
      "epoch: 20, loss_train: 0.1734, accuracy_train: 0.9691, loss_valid: 0.5411, accuracy_valid: 0.8076, 7.7553sec\n",
      "epoch: 21, loss_train: 0.1666, accuracy_train: 0.9731, loss_valid: 0.5379, accuracy_valid: 0.8054, 7.7335sec\n",
      "epoch: 22, loss_train: 0.1620, accuracy_train: 0.9730, loss_valid: 0.5375, accuracy_valid: 0.8054, 7.7403sec\n",
      "epoch: 23, loss_train: 0.1579, accuracy_train: 0.9764, loss_valid: 0.5379, accuracy_valid: 0.8121, 7.7559sec\n",
      "epoch: 24, loss_train: 0.1547, accuracy_train: 0.9766, loss_valid: 0.5348, accuracy_valid: 0.8069, 7.7378sec\n",
      "epoch: 25, loss_train: 0.1523, accuracy_train: 0.9790, loss_valid: 0.5359, accuracy_valid: 0.8099, 7.7198sec\n",
      "epoch: 26, loss_train: 0.1506, accuracy_train: 0.9797, loss_valid: 0.5361, accuracy_valid: 0.8076, 7.7448sec\n",
      "epoch: 27, loss_train: 0.1496, accuracy_train: 0.9786, loss_valid: 0.5333, accuracy_valid: 0.8084, 7.7396sec\n",
      "epoch: 28, loss_train: 0.1487, accuracy_train: 0.9792, loss_valid: 0.5340, accuracy_valid: 0.8076, 7.7249sec\n",
      "epoch: 29, loss_train: 0.1482, accuracy_train: 0.9801, loss_valid: 0.5343, accuracy_valid: 0.8106, 7.7323sec\n"
     ]
    },
    {
     "name": "stderr",
     "output_type": "stream",
     "text": [
      "\u001b[32m[I 2022-01-31 18:10:09,180]\u001b[0m Trial 22 finished with value: 0.5338739498311941 and parameters: {'emb_size': 200.0, 'out_channels': 150.0, 'drop_rate': 0.2, 'learning_rate': 0.023587072570090524, 'momentum': 0.7, 'batch_size': 64.0, 'min_lr': 0.00027720024762362784}. Best is trial 1 with value: 0.5095011624558584.\u001b[0m\n"
     ]
    },
    {
     "name": "stdout",
     "output_type": "stream",
     "text": [
      "epoch: 30, loss_train: 0.1479, accuracy_train: 0.9799, loss_valid: 0.5339, accuracy_valid: 0.8106, 7.7569sec\n",
      "epoch: 1, loss_train: 0.9105, accuracy_train: 0.6872, loss_valid: 0.9674, accuracy_valid: 0.6504, 7.7568sec\n",
      "epoch: 2, loss_train: 0.6989, accuracy_train: 0.7590, loss_valid: 0.8245, accuracy_valid: 0.7126, 7.7004sec\n",
      "epoch: 3, loss_train: 0.5588, accuracy_train: 0.7932, loss_valid: 0.7366, accuracy_valid: 0.7178, 7.7306sec\n",
      "epoch: 4, loss_train: 0.4505, accuracy_train: 0.8591, loss_valid: 0.6819, accuracy_valid: 0.7605, 7.7222sec\n",
      "epoch: 5, loss_train: 0.3426, accuracy_train: 0.8857, loss_valid: 0.6217, accuracy_valid: 0.7710, 7.7022sec\n",
      "epoch: 6, loss_train: 0.2669, accuracy_train: 0.9212, loss_valid: 0.5795, accuracy_valid: 0.7979, 7.7052sec\n",
      "epoch: 7, loss_train: 0.2085, accuracy_train: 0.9484, loss_valid: 0.5579, accuracy_valid: 0.8024, 7.7291sec\n",
      "epoch: 8, loss_train: 0.1593, accuracy_train: 0.9751, loss_valid: 0.5361, accuracy_valid: 0.8054, 7.7090sec\n",
      "epoch: 9, loss_train: 0.1279, accuracy_train: 0.9805, loss_valid: 0.5182, accuracy_valid: 0.8144, 7.7035sec\n",
      "epoch: 10, loss_train: 0.1089, accuracy_train: 0.9905, loss_valid: 0.5380, accuracy_valid: 0.8129, 7.7038sec\n",
      "epoch: 11, loss_train: 0.0853, accuracy_train: 0.9944, loss_valid: 0.5266, accuracy_valid: 0.8181, 7.8329sec\n",
      "epoch: 12, loss_train: 0.0708, accuracy_train: 0.9954, loss_valid: 0.5101, accuracy_valid: 0.8249, 7.7251sec\n",
      "epoch: 13, loss_train: 0.0602, accuracy_train: 0.9971, loss_valid: 0.5131, accuracy_valid: 0.8226, 7.7297sec\n",
      "epoch: 14, loss_train: 0.0536, accuracy_train: 0.9967, loss_valid: 0.5088, accuracy_valid: 0.8226, 7.7016sec\n",
      "epoch: 15, loss_train: 0.0453, accuracy_train: 0.9984, loss_valid: 0.4996, accuracy_valid: 0.8301, 7.7575sec\n",
      "epoch: 16, loss_train: 0.0410, accuracy_train: 0.9980, loss_valid: 0.4935, accuracy_valid: 0.8293, 7.7044sec\n",
      "epoch: 17, loss_train: 0.0370, accuracy_train: 0.9983, loss_valid: 0.4938, accuracy_valid: 0.8361, 7.7498sec\n",
      "epoch: 18, loss_train: 0.0350, accuracy_train: 0.9985, loss_valid: 0.5038, accuracy_valid: 0.8256, 7.7032sec\n"
     ]
    },
    {
     "name": "stderr",
     "output_type": "stream",
     "text": [
      "\u001b[32m[I 2022-01-31 18:12:36,010]\u001b[0m Trial 23 finished with value: 0.506948028830008 and parameters: {'emb_size': 100.0, 'out_channels': 200.0, 'drop_rate': 0.30000000000000004, 'learning_rate': 0.04421981048677404, 'momentum': 0.8, 'batch_size': 80.0, 'min_lr': 0.004006586815817821}. Best is trial 23 with value: 0.506948028830008.\u001b[0m\n"
     ]
    },
    {
     "name": "stdout",
     "output_type": "stream",
     "text": [
      "epoch: 19, loss_train: 0.0319, accuracy_train: 0.9985, loss_valid: 0.5069, accuracy_valid: 0.8353, 7.7206sec\n",
      "epoch: 1, loss_train: 0.8799, accuracy_train: 0.6950, loss_valid: 0.9492, accuracy_valid: 0.6549, 7.6419sec\n",
      "epoch: 2, loss_train: 0.6574, accuracy_train: 0.7688, loss_valid: 0.8074, accuracy_valid: 0.7036, 7.6617sec\n",
      "epoch: 3, loss_train: 0.4980, accuracy_train: 0.8193, loss_valid: 0.7178, accuracy_valid: 0.7448, 7.6694sec\n",
      "epoch: 4, loss_train: 0.3820, accuracy_train: 0.8763, loss_valid: 0.6625, accuracy_valid: 0.7747, 7.6802sec\n",
      "epoch: 5, loss_train: 0.2825, accuracy_train: 0.9298, loss_valid: 0.6215, accuracy_valid: 0.7814, 7.6592sec\n",
      "epoch: 6, loss_train: 0.2037, accuracy_train: 0.9549, loss_valid: 0.5689, accuracy_valid: 0.8114, 7.6587sec\n",
      "epoch: 7, loss_train: 0.1702, accuracy_train: 0.9669, loss_valid: 0.5826, accuracy_valid: 0.8046, 7.6795sec\n",
      "epoch: 8, loss_train: 0.1170, accuracy_train: 0.9817, loss_valid: 0.5303, accuracy_valid: 0.8234, 7.6712sec\n",
      "epoch: 9, loss_train: 0.0884, accuracy_train: 0.9890, loss_valid: 0.5198, accuracy_valid: 0.8263, 7.6696sec\n",
      "epoch: 10, loss_train: 0.0698, accuracy_train: 0.9936, loss_valid: 0.5257, accuracy_valid: 0.8286, 7.6803sec\n",
      "epoch: 11, loss_train: 0.0554, accuracy_train: 0.9963, loss_valid: 0.5311, accuracy_valid: 0.8159, 7.6777sec\n",
      "epoch: 12, loss_train: 0.0452, accuracy_train: 0.9974, loss_valid: 0.5170, accuracy_valid: 0.8301, 7.6694sec\n",
      "epoch: 13, loss_train: 0.0393, accuracy_train: 0.9970, loss_valid: 0.5223, accuracy_valid: 0.8256, 7.6514sec\n",
      "epoch: 14, loss_train: 0.0335, accuracy_train: 0.9981, loss_valid: 0.5164, accuracy_valid: 0.8346, 7.6919sec\n",
      "epoch: 15, loss_train: 0.0282, accuracy_train: 0.9982, loss_valid: 0.5113, accuracy_valid: 0.8376, 7.6766sec\n",
      "epoch: 16, loss_train: 0.0250, accuracy_train: 0.9982, loss_valid: 0.5111, accuracy_valid: 0.8406, 7.6716sec\n",
      "epoch: 17, loss_train: 0.0223, accuracy_train: 0.9987, loss_valid: 0.5149, accuracy_valid: 0.8391, 7.6630sec\n",
      "epoch: 18, loss_train: 0.0201, accuracy_train: 0.9986, loss_valid: 0.5128, accuracy_valid: 0.8368, 7.6906sec\n",
      "epoch: 19, loss_train: 0.0185, accuracy_train: 0.9986, loss_valid: 0.5123, accuracy_valid: 0.8353, 7.6661sec\n",
      "epoch: 20, loss_train: 0.0174, accuracy_train: 0.9988, loss_valid: 0.5240, accuracy_valid: 0.8346, 7.6563sec\n",
      "epoch: 21, loss_train: 0.0162, accuracy_train: 0.9987, loss_valid: 0.5196, accuracy_valid: 0.8353, 7.6636sec\n",
      "epoch: 22, loss_train: 0.0150, accuracy_train: 0.9988, loss_valid: 0.5255, accuracy_valid: 0.8346, 7.6563sec\n",
      "epoch: 23, loss_train: 0.0135, accuracy_train: 0.9991, loss_valid: 0.5210, accuracy_valid: 0.8406, 7.6514sec\n",
      "epoch: 24, loss_train: 0.0131, accuracy_train: 0.9988, loss_valid: 0.5225, accuracy_valid: 0.8383, 7.6442sec\n",
      "epoch: 25, loss_train: 0.0125, accuracy_train: 0.9992, loss_valid: 0.5242, accuracy_valid: 0.8398, 7.6731sec\n",
      "epoch: 26, loss_train: 0.0121, accuracy_train: 0.9993, loss_valid: 0.5208, accuracy_valid: 0.8421, 7.6608sec\n",
      "epoch: 27, loss_train: 0.0115, accuracy_train: 0.9992, loss_valid: 0.5244, accuracy_valid: 0.8361, 7.6569sec\n",
      "epoch: 28, loss_train: 0.0108, accuracy_train: 0.9991, loss_valid: 0.5278, accuracy_valid: 0.8331, 7.6668sec\n",
      "epoch: 29, loss_train: 0.0105, accuracy_train: 0.9991, loss_valid: 0.5269, accuracy_valid: 0.8376, 7.7175sec\n"
     ]
    },
    {
     "name": "stderr",
     "output_type": "stream",
     "text": [
      "\u001b[32m[I 2022-01-31 18:16:26,092]\u001b[0m Trial 24 finished with value: 0.5316391878615848 and parameters: {'emb_size': 100.0, 'out_channels': 200.0, 'drop_rate': 0.30000000000000004, 'learning_rate': 0.032935602901594384, 'momentum': 0.9, 'batch_size': 96.0, 'min_lr': 0.014556980263808469}. Best is trial 23 with value: 0.506948028830008.\u001b[0m\n"
     ]
    },
    {
     "name": "stdout",
     "output_type": "stream",
     "text": [
      "epoch: 30, loss_train: 0.0102, accuracy_train: 0.9992, loss_valid: 0.5316, accuracy_valid: 0.8346, 7.6556sec\n",
      "epoch: 1, loss_train: 1.0031, accuracy_train: 0.6570, loss_valid: 1.0392, accuracy_valid: 0.6123, 7.6925sec\n",
      "epoch: 2, loss_train: 0.8380, accuracy_train: 0.7202, loss_valid: 0.9147, accuracy_valid: 0.6819, 7.7419sec\n",
      "epoch: 3, loss_train: 0.7195, accuracy_train: 0.7529, loss_valid: 0.8361, accuracy_valid: 0.6886, 7.7069sec\n",
      "epoch: 4, loss_train: 0.6252, accuracy_train: 0.7756, loss_valid: 0.7797, accuracy_valid: 0.7118, 7.6545sec\n",
      "epoch: 5, loss_train: 0.5376, accuracy_train: 0.8186, loss_valid: 0.7333, accuracy_valid: 0.7425, 7.6868sec\n",
      "epoch: 6, loss_train: 0.4598, accuracy_train: 0.8480, loss_valid: 0.6824, accuracy_valid: 0.7612, 7.7120sec\n",
      "epoch: 7, loss_train: 0.3943, accuracy_train: 0.8717, loss_valid: 0.6405, accuracy_valid: 0.7754, 7.7305sec\n",
      "epoch: 8, loss_train: 0.3477, accuracy_train: 0.8944, loss_valid: 0.6134, accuracy_valid: 0.7874, 7.6951sec\n",
      "epoch: 9, loss_train: 0.3071, accuracy_train: 0.9163, loss_valid: 0.6076, accuracy_valid: 0.7897, 7.7405sec\n",
      "epoch: 10, loss_train: 0.2638, accuracy_train: 0.9242, loss_valid: 0.5647, accuracy_valid: 0.8076, 7.7248sec\n",
      "epoch: 11, loss_train: 0.2319, accuracy_train: 0.9556, loss_valid: 0.5678, accuracy_valid: 0.8076, 7.7683sec\n",
      "epoch: 12, loss_train: 0.2057, accuracy_train: 0.9598, loss_valid: 0.5521, accuracy_valid: 0.8136, 7.7288sec\n",
      "epoch: 13, loss_train: 0.1855, accuracy_train: 0.9595, loss_valid: 0.5300, accuracy_valid: 0.8136, 7.7691sec\n",
      "epoch: 14, loss_train: 0.1645, accuracy_train: 0.9724, loss_valid: 0.5225, accuracy_valid: 0.8181, 7.7225sec\n",
      "epoch: 15, loss_train: 0.1494, accuracy_train: 0.9783, loss_valid: 0.5202, accuracy_valid: 0.8226, 7.7462sec\n",
      "epoch: 16, loss_train: 0.1373, accuracy_train: 0.9832, loss_valid: 0.5127, accuracy_valid: 0.8278, 7.7304sec\n",
      "epoch: 17, loss_train: 0.1267, accuracy_train: 0.9860, loss_valid: 0.5056, accuracy_valid: 0.8323, 7.7014sec\n",
      "epoch: 18, loss_train: 0.1188, accuracy_train: 0.9874, loss_valid: 0.5010, accuracy_valid: 0.8323, 7.6999sec\n",
      "epoch: 19, loss_train: 0.1114, accuracy_train: 0.9890, loss_valid: 0.5033, accuracy_valid: 0.8323, 7.7207sec\n",
      "epoch: 20, loss_train: 0.1055, accuracy_train: 0.9918, loss_valid: 0.5018, accuracy_valid: 0.8353, 7.7135sec\n",
      "epoch: 21, loss_train: 0.1026, accuracy_train: 0.9894, loss_valid: 0.4943, accuracy_valid: 0.8338, 7.6812sec\n",
      "epoch: 22, loss_train: 0.0975, accuracy_train: 0.9925, loss_valid: 0.4942, accuracy_valid: 0.8361, 7.6942sec\n",
      "epoch: 23, loss_train: 0.0945, accuracy_train: 0.9934, loss_valid: 0.4972, accuracy_valid: 0.8383, 7.7262sec\n",
      "epoch: 24, loss_train: 0.0921, accuracy_train: 0.9952, loss_valid: 0.4947, accuracy_valid: 0.8406, 7.7043sec\n",
      "epoch: 25, loss_train: 0.0902, accuracy_train: 0.9948, loss_valid: 0.4940, accuracy_valid: 0.8398, 7.6796sec\n",
      "epoch: 26, loss_train: 0.0887, accuracy_train: 0.9952, loss_valid: 0.4929, accuracy_valid: 0.8406, 7.7287sec\n",
      "epoch: 27, loss_train: 0.0878, accuracy_train: 0.9952, loss_valid: 0.4907, accuracy_valid: 0.8391, 7.7233sec\n",
      "epoch: 28, loss_train: 0.0871, accuracy_train: 0.9957, loss_valid: 0.4916, accuracy_valid: 0.8376, 7.6896sec\n",
      "epoch: 29, loss_train: 0.0866, accuracy_train: 0.9957, loss_valid: 0.4914, accuracy_valid: 0.8391, 7.6948sec\n"
     ]
    },
    {
     "name": "stderr",
     "output_type": "stream",
     "text": [
      "\u001b[32m[I 2022-01-31 18:20:17,585]\u001b[0m Trial 25 finished with value: 0.4914871058913727 and parameters: {'emb_size': 100.0, 'out_channels': 200.0, 'drop_rate': 0.4, 'learning_rate': 0.039763717021454634, 'momentum': 0.7, 'batch_size': 80.0, 'min_lr': 0.0008468303698464773}. Best is trial 25 with value: 0.4914871058913727.\u001b[0m\n"
     ]
    },
    {
     "name": "stdout",
     "output_type": "stream",
     "text": [
      "epoch: 30, loss_train: 0.0861, accuracy_train: 0.9959, loss_valid: 0.4915, accuracy_valid: 0.8406, 7.7313sec\n",
      "epoch: 1, loss_train: 1.0312, accuracy_train: 0.5768, loss_valid: 1.0546, accuracy_valid: 0.5599, 7.6852sec\n",
      "epoch: 2, loss_train: 0.8939, accuracy_train: 0.6919, loss_valid: 0.9534, accuracy_valid: 0.6549, 7.8255sec\n",
      "epoch: 3, loss_train: 0.7793, accuracy_train: 0.7430, loss_valid: 0.8741, accuracy_valid: 0.6999, 7.7267sec\n",
      "epoch: 4, loss_train: 0.6909, accuracy_train: 0.7641, loss_valid: 0.8094, accuracy_valid: 0.7163, 7.7225sec\n",
      "epoch: 5, loss_train: 0.6131, accuracy_train: 0.7858, loss_valid: 0.7708, accuracy_valid: 0.7328, 7.6927sec\n",
      "epoch: 6, loss_train: 0.5441, accuracy_train: 0.8081, loss_valid: 0.7297, accuracy_valid: 0.7335, 7.7052sec\n",
      "epoch: 7, loss_train: 0.4865, accuracy_train: 0.8277, loss_valid: 0.6950, accuracy_valid: 0.7455, 7.7061sec\n",
      "epoch: 8, loss_train: 0.4319, accuracy_train: 0.8537, loss_valid: 0.6633, accuracy_valid: 0.7635, 7.7074sec\n",
      "epoch: 9, loss_train: 0.3917, accuracy_train: 0.8757, loss_valid: 0.6472, accuracy_valid: 0.7814, 7.6930sec\n",
      "epoch: 10, loss_train: 0.3496, accuracy_train: 0.8799, loss_valid: 0.6142, accuracy_valid: 0.7777, 7.6948sec\n",
      "epoch: 11, loss_train: 0.3100, accuracy_train: 0.9132, loss_valid: 0.5919, accuracy_valid: 0.8061, 7.7152sec\n",
      "epoch: 12, loss_train: 0.2821, accuracy_train: 0.9209, loss_valid: 0.5739, accuracy_valid: 0.8024, 7.7034sec\n",
      "epoch: 13, loss_train: 0.2563, accuracy_train: 0.9355, loss_valid: 0.5659, accuracy_valid: 0.8016, 7.6986sec\n",
      "epoch: 14, loss_train: 0.2351, accuracy_train: 0.9465, loss_valid: 0.5558, accuracy_valid: 0.8084, 7.7085sec\n",
      "epoch: 15, loss_train: 0.2173, accuracy_train: 0.9551, loss_valid: 0.5423, accuracy_valid: 0.8174, 7.6937sec\n",
      "epoch: 16, loss_train: 0.2024, accuracy_train: 0.9607, loss_valid: 0.5419, accuracy_valid: 0.8204, 7.7216sec\n",
      "epoch: 17, loss_train: 0.1891, accuracy_train: 0.9637, loss_valid: 0.5299, accuracy_valid: 0.8219, 7.6899sec\n",
      "epoch: 18, loss_train: 0.1779, accuracy_train: 0.9722, loss_valid: 0.5303, accuracy_valid: 0.8241, 7.7318sec\n",
      "epoch: 19, loss_train: 0.1699, accuracy_train: 0.9692, loss_valid: 0.5217, accuracy_valid: 0.8234, 7.7027sec\n",
      "epoch: 20, loss_train: 0.1620, accuracy_train: 0.9755, loss_valid: 0.5236, accuracy_valid: 0.8286, 7.7005sec\n",
      "epoch: 21, loss_train: 0.1555, accuracy_train: 0.9763, loss_valid: 0.5168, accuracy_valid: 0.8323, 7.7162sec\n",
      "epoch: 22, loss_train: 0.1501, accuracy_train: 0.9810, loss_valid: 0.5207, accuracy_valid: 0.8256, 7.8113sec\n",
      "epoch: 23, loss_train: 0.1461, accuracy_train: 0.9817, loss_valid: 0.5157, accuracy_valid: 0.8293, 7.7183sec\n",
      "epoch: 24, loss_train: 0.1435, accuracy_train: 0.9802, loss_valid: 0.5126, accuracy_valid: 0.8316, 7.7165sec\n",
      "epoch: 25, loss_train: 0.1413, accuracy_train: 0.9828, loss_valid: 0.5128, accuracy_valid: 0.8301, 7.7662sec\n",
      "epoch: 26, loss_train: 0.1395, accuracy_train: 0.9834, loss_valid: 0.5126, accuracy_valid: 0.8308, 7.7409sec\n",
      "epoch: 27, loss_train: 0.1383, accuracy_train: 0.9839, loss_valid: 0.5116, accuracy_valid: 0.8293, 7.7301sec\n",
      "epoch: 28, loss_train: 0.1377, accuracy_train: 0.9837, loss_valid: 0.5116, accuracy_valid: 0.8286, 7.7418sec\n",
      "epoch: 29, loss_train: 0.1372, accuracy_train: 0.9840, loss_valid: 0.5104, accuracy_valid: 0.8301, 7.7532sec\n"
     ]
    },
    {
     "name": "stderr",
     "output_type": "stream",
     "text": [
      "\u001b[32m[I 2022-01-31 18:24:09,296]\u001b[0m Trial 26 finished with value: 0.5102919341657758 and parameters: {'emb_size': 100.0, 'out_channels': 200.0, 'drop_rate': 0.4, 'learning_rate': 0.04279079773346237, 'momentum': 0.6, 'batch_size': 80.0, 'min_lr': 0.0003818101968042539}. Best is trial 25 with value: 0.4914871058913727.\u001b[0m\n"
     ]
    },
    {
     "name": "stdout",
     "output_type": "stream",
     "text": [
      "epoch: 30, loss_train: 0.1370, accuracy_train: 0.9838, loss_valid: 0.5103, accuracy_valid: 0.8308, 7.7330sec\n",
      "epoch: 1, loss_train: 1.1271, accuracy_train: 0.5226, loss_valid: 1.1330, accuracy_valid: 0.5105, 7.6891sec\n",
      "epoch: 2, loss_train: 1.0934, accuracy_train: 0.5296, loss_valid: 1.1048, accuracy_valid: 0.5232, 7.6591sec\n",
      "epoch: 3, loss_train: 1.0660, accuracy_train: 0.5572, loss_valid: 1.0842, accuracy_valid: 0.5561, 7.5955sec\n",
      "epoch: 4, loss_train: 1.0384, accuracy_train: 0.5945, loss_valid: 1.0630, accuracy_valid: 0.5853, 7.5963sec\n",
      "epoch: 5, loss_train: 1.0089, accuracy_train: 0.6219, loss_valid: 1.0415, accuracy_valid: 0.6033, 7.6307sec\n",
      "epoch: 6, loss_train: 0.9787, accuracy_train: 0.6481, loss_valid: 1.0171, accuracy_valid: 0.6265, 7.6318sec\n",
      "epoch: 7, loss_train: 0.9483, accuracy_train: 0.6747, loss_valid: 0.9921, accuracy_valid: 0.6475, 7.6076sec\n",
      "epoch: 8, loss_train: 0.9190, accuracy_train: 0.6888, loss_valid: 0.9701, accuracy_valid: 0.6602, 7.6123sec\n",
      "epoch: 9, loss_train: 0.8922, accuracy_train: 0.6968, loss_valid: 0.9523, accuracy_valid: 0.6617, 7.6387sec\n",
      "epoch: 10, loss_train: 0.8674, accuracy_train: 0.7106, loss_valid: 0.9338, accuracy_valid: 0.6781, 7.6058sec\n",
      "epoch: 11, loss_train: 0.8454, accuracy_train: 0.7206, loss_valid: 0.9169, accuracy_valid: 0.6879, 7.6276sec\n",
      "epoch: 12, loss_train: 0.8262, accuracy_train: 0.7263, loss_valid: 0.9056, accuracy_valid: 0.6916, 7.6309sec\n",
      "epoch: 13, loss_train: 0.8088, accuracy_train: 0.7315, loss_valid: 0.8924, accuracy_valid: 0.6954, 7.6298sec\n",
      "epoch: 14, loss_train: 0.7934, accuracy_train: 0.7356, loss_valid: 0.8826, accuracy_valid: 0.6954, 7.6006sec\n",
      "epoch: 15, loss_train: 0.7796, accuracy_train: 0.7407, loss_valid: 0.8732, accuracy_valid: 0.7006, 7.6215sec\n",
      "epoch: 16, loss_train: 0.7676, accuracy_train: 0.7434, loss_valid: 0.8666, accuracy_valid: 0.7043, 7.6165sec\n",
      "epoch: 17, loss_train: 0.7569, accuracy_train: 0.7468, loss_valid: 0.8585, accuracy_valid: 0.7051, 7.6464sec\n",
      "epoch: 18, loss_train: 0.7479, accuracy_train: 0.7493, loss_valid: 0.8527, accuracy_valid: 0.7051, 7.6036sec\n",
      "epoch: 19, loss_train: 0.7399, accuracy_train: 0.7514, loss_valid: 0.8482, accuracy_valid: 0.7111, 7.6082sec\n",
      "epoch: 20, loss_train: 0.7333, accuracy_train: 0.7537, loss_valid: 0.8439, accuracy_valid: 0.7073, 7.6393sec\n",
      "epoch: 21, loss_train: 0.7276, accuracy_train: 0.7553, loss_valid: 0.8403, accuracy_valid: 0.7103, 7.6167sec\n",
      "epoch: 22, loss_train: 0.7229, accuracy_train: 0.7566, loss_valid: 0.8377, accuracy_valid: 0.7118, 7.6154sec\n",
      "epoch: 23, loss_train: 0.7193, accuracy_train: 0.7577, loss_valid: 0.8354, accuracy_valid: 0.7148, 7.6223sec\n",
      "epoch: 24, loss_train: 0.7164, accuracy_train: 0.7585, loss_valid: 0.8334, accuracy_valid: 0.7141, 7.6334sec\n",
      "epoch: 25, loss_train: 0.7143, accuracy_train: 0.7589, loss_valid: 0.8322, accuracy_valid: 0.7133, 7.6234sec\n",
      "epoch: 26, loss_train: 0.7126, accuracy_train: 0.7591, loss_valid: 0.8313, accuracy_valid: 0.7141, 7.6219sec\n",
      "epoch: 27, loss_train: 0.7115, accuracy_train: 0.7590, loss_valid: 0.8305, accuracy_valid: 0.7148, 7.6291sec\n",
      "epoch: 28, loss_train: 0.7109, accuracy_train: 0.7591, loss_valid: 0.8301, accuracy_valid: 0.7148, 7.6510sec\n",
      "epoch: 29, loss_train: 0.7105, accuracy_train: 0.7592, loss_valid: 0.8299, accuracy_valid: 0.7148, 7.6074sec\n"
     ]
    },
    {
     "name": "stderr",
     "output_type": "stream",
     "text": [
      "\u001b[32m[I 2022-01-31 18:27:58,179]\u001b[0m Trial 27 finished with value: 0.8298160015758055 and parameters: {'emb_size': 100.0, 'out_channels': 200.0, 'drop_rate': 0.4, 'learning_rate': 0.006503329027431639, 'momentum': 0.8, 'batch_size': 112.0, 'min_lr': 4.044237054975867e-05}. Best is trial 25 with value: 0.4914871058913727.\u001b[0m\n"
     ]
    },
    {
     "name": "stdout",
     "output_type": "stream",
     "text": [
      "epoch: 30, loss_train: 0.7103, accuracy_train: 0.7593, loss_valid: 0.8298, accuracy_valid: 0.7148, 7.7234sec\n",
      "epoch: 1, loss_train: 1.1139, accuracy_train: 0.5178, loss_valid: 1.1246, accuracy_valid: 0.4858, 7.7390sec\n",
      "epoch: 2, loss_train: 1.0735, accuracy_train: 0.5648, loss_valid: 1.0901, accuracy_valid: 0.5554, 7.7266sec\n",
      "epoch: 3, loss_train: 1.0375, accuracy_train: 0.5971, loss_valid: 1.0637, accuracy_valid: 0.5763, 7.7823sec\n",
      "epoch: 4, loss_train: 1.0003, accuracy_train: 0.6085, loss_valid: 1.0315, accuracy_valid: 0.5943, 7.7558sec\n",
      "epoch: 5, loss_train: 0.9558, accuracy_train: 0.6641, loss_valid: 1.0001, accuracy_valid: 0.6370, 7.7259sec\n",
      "epoch: 6, loss_train: 0.9143, accuracy_train: 0.6923, loss_valid: 0.9703, accuracy_valid: 0.6564, 7.7609sec\n",
      "epoch: 7, loss_train: 0.8754, accuracy_train: 0.7069, loss_valid: 0.9396, accuracy_valid: 0.6669, 7.7205sec\n",
      "epoch: 8, loss_train: 0.8410, accuracy_train: 0.7211, loss_valid: 0.9141, accuracy_valid: 0.6811, 7.8343sec\n",
      "epoch: 9, loss_train: 0.8109, accuracy_train: 0.7303, loss_valid: 0.8941, accuracy_valid: 0.6856, 7.6799sec\n",
      "epoch: 10, loss_train: 0.7854, accuracy_train: 0.7359, loss_valid: 0.8790, accuracy_valid: 0.6984, 7.6615sec\n",
      "epoch: 11, loss_train: 0.7579, accuracy_train: 0.7455, loss_valid: 0.8594, accuracy_valid: 0.6984, 7.6883sec\n",
      "epoch: 12, loss_train: 0.7358, accuracy_train: 0.7516, loss_valid: 0.8443, accuracy_valid: 0.6999, 7.6809sec\n",
      "epoch: 13, loss_train: 0.7166, accuracy_train: 0.7573, loss_valid: 0.8330, accuracy_valid: 0.7058, 7.6570sec\n",
      "epoch: 14, loss_train: 0.6984, accuracy_train: 0.7638, loss_valid: 0.8229, accuracy_valid: 0.7088, 7.6563sec\n",
      "epoch: 15, loss_train: 0.6830, accuracy_train: 0.7670, loss_valid: 0.8124, accuracy_valid: 0.7148, 7.7003sec\n",
      "epoch: 16, loss_train: 0.6680, accuracy_train: 0.7712, loss_valid: 0.8016, accuracy_valid: 0.7133, 7.6676sec\n",
      "epoch: 17, loss_train: 0.6554, accuracy_train: 0.7757, loss_valid: 0.7949, accuracy_valid: 0.7178, 7.7023sec\n",
      "epoch: 18, loss_train: 0.6442, accuracy_train: 0.7790, loss_valid: 0.7886, accuracy_valid: 0.7186, 7.8165sec\n",
      "epoch: 19, loss_train: 0.6343, accuracy_train: 0.7811, loss_valid: 0.7818, accuracy_valid: 0.7201, 7.7141sec\n",
      "epoch: 20, loss_train: 0.6262, accuracy_train: 0.7824, loss_valid: 0.7790, accuracy_valid: 0.7193, 7.6776sec\n",
      "epoch: 21, loss_train: 0.6187, accuracy_train: 0.7859, loss_valid: 0.7735, accuracy_valid: 0.7246, 7.6786sec\n",
      "epoch: 22, loss_train: 0.6130, accuracy_train: 0.7877, loss_valid: 0.7709, accuracy_valid: 0.7268, 7.7059sec\n",
      "epoch: 23, loss_train: 0.6075, accuracy_train: 0.7888, loss_valid: 0.7674, accuracy_valid: 0.7246, 7.6771sec\n",
      "epoch: 24, loss_train: 0.6036, accuracy_train: 0.7895, loss_valid: 0.7641, accuracy_valid: 0.7260, 7.6933sec\n",
      "epoch: 25, loss_train: 0.5999, accuracy_train: 0.7907, loss_valid: 0.7620, accuracy_valid: 0.7238, 7.6919sec\n",
      "epoch: 26, loss_train: 0.5973, accuracy_train: 0.7914, loss_valid: 0.7605, accuracy_valid: 0.7246, 7.7055sec\n",
      "epoch: 27, loss_train: 0.5952, accuracy_train: 0.7916, loss_valid: 0.7590, accuracy_valid: 0.7238, 7.6628sec\n",
      "epoch: 28, loss_train: 0.5936, accuracy_train: 0.7920, loss_valid: 0.7583, accuracy_valid: 0.7260, 7.6696sec\n",
      "epoch: 29, loss_train: 0.5922, accuracy_train: 0.7928, loss_valid: 0.7573, accuracy_valid: 0.7260, 7.6879sec\n"
     ]
    },
    {
     "name": "stderr",
     "output_type": "stream",
     "text": [
      "\u001b[32m[I 2022-01-31 18:31:49,427]\u001b[0m Trial 28 finished with value: 0.7566728009490302 and parameters: {'emb_size': 100.0, 'out_channels': 150.0, 'drop_rate': 0.30000000000000004, 'learning_rate': 0.0031684429045205804, 'momentum': 0.9, 'batch_size': 80.0, 'min_lr': 0.00013872261424322812}. Best is trial 25 with value: 0.4914871058913727.\u001b[0m\n"
     ]
    },
    {
     "name": "stdout",
     "output_type": "stream",
     "text": [
      "epoch: 30, loss_train: 0.5911, accuracy_train: 0.7930, loss_valid: 0.7567, accuracy_valid: 0.7238, 7.6796sec\n",
      "epoch: 1, loss_train: 1.1151, accuracy_train: 0.5267, loss_valid: 1.1261, accuracy_valid: 0.5037, 7.6435sec\n",
      "epoch: 2, loss_train: 1.0768, accuracy_train: 0.5584, loss_valid: 1.0964, accuracy_valid: 0.5344, 7.6532sec\n",
      "epoch: 3, loss_train: 1.0422, accuracy_train: 0.5943, loss_valid: 1.0698, accuracy_valid: 0.5719, 7.6905sec\n",
      "epoch: 4, loss_train: 1.0059, accuracy_train: 0.6078, loss_valid: 1.0390, accuracy_valid: 0.6040, 7.6687sec\n",
      "epoch: 5, loss_train: 0.9639, accuracy_train: 0.6650, loss_valid: 1.0076, accuracy_valid: 0.6310, 7.6587sec\n",
      "epoch: 6, loss_train: 0.9229, accuracy_train: 0.6826, loss_valid: 0.9740, accuracy_valid: 0.6519, 7.6686sec\n",
      "epoch: 7, loss_train: 0.8839, accuracy_train: 0.7069, loss_valid: 0.9469, accuracy_valid: 0.6722, 7.6548sec\n",
      "epoch: 8, loss_train: 0.8488, accuracy_train: 0.7172, loss_valid: 0.9195, accuracy_valid: 0.6804, 7.6472sec\n",
      "epoch: 9, loss_train: 0.8184, accuracy_train: 0.7298, loss_valid: 0.8992, accuracy_valid: 0.6946, 7.6369sec\n",
      "epoch: 10, loss_train: 0.7903, accuracy_train: 0.7360, loss_valid: 0.8800, accuracy_valid: 0.7028, 7.6590sec\n",
      "epoch: 11, loss_train: 0.7705, accuracy_train: 0.7395, loss_valid: 0.8705, accuracy_valid: 0.6909, 7.6340sec\n",
      "epoch: 12, loss_train: 0.7449, accuracy_train: 0.7492, loss_valid: 0.8514, accuracy_valid: 0.7021, 7.6472sec\n",
      "epoch: 13, loss_train: 0.7236, accuracy_train: 0.7561, loss_valid: 0.8338, accuracy_valid: 0.7126, 7.6768sec\n",
      "epoch: 14, loss_train: 0.7060, accuracy_train: 0.7603, loss_valid: 0.8222, accuracy_valid: 0.7193, 7.6329sec\n",
      "epoch: 15, loss_train: 0.6892, accuracy_train: 0.7644, loss_valid: 0.8115, accuracy_valid: 0.7163, 7.6413sec\n",
      "epoch: 16, loss_train: 0.6757, accuracy_train: 0.7688, loss_valid: 0.8029, accuracy_valid: 0.7223, 7.6344sec\n",
      "epoch: 17, loss_train: 0.6628, accuracy_train: 0.7733, loss_valid: 0.7952, accuracy_valid: 0.7178, 7.6691sec\n",
      "epoch: 18, loss_train: 0.6518, accuracy_train: 0.7770, loss_valid: 0.7891, accuracy_valid: 0.7260, 7.6737sec\n",
      "epoch: 19, loss_train: 0.6417, accuracy_train: 0.7779, loss_valid: 0.7822, accuracy_valid: 0.7216, 7.6315sec\n",
      "epoch: 20, loss_train: 0.6334, accuracy_train: 0.7805, loss_valid: 0.7768, accuracy_valid: 0.7260, 7.6655sec\n",
      "epoch: 21, loss_train: 0.6254, accuracy_train: 0.7821, loss_valid: 0.7708, accuracy_valid: 0.7260, 7.6644sec\n",
      "epoch: 22, loss_train: 0.6195, accuracy_train: 0.7838, loss_valid: 0.7670, accuracy_valid: 0.7275, 7.6415sec\n",
      "epoch: 23, loss_train: 0.6144, accuracy_train: 0.7857, loss_valid: 0.7642, accuracy_valid: 0.7305, 7.6144sec\n",
      "epoch: 24, loss_train: 0.6103, accuracy_train: 0.7873, loss_valid: 0.7627, accuracy_valid: 0.7305, 7.6413sec\n",
      "epoch: 25, loss_train: 0.6068, accuracy_train: 0.7880, loss_valid: 0.7599, accuracy_valid: 0.7305, 7.6587sec\n",
      "epoch: 26, loss_train: 0.6039, accuracy_train: 0.7887, loss_valid: 0.7579, accuracy_valid: 0.7298, 7.6531sec\n",
      "epoch: 27, loss_train: 0.6014, accuracy_train: 0.7898, loss_valid: 0.7566, accuracy_valid: 0.7305, 7.6616sec\n",
      "epoch: 28, loss_train: 0.5995, accuracy_train: 0.7907, loss_valid: 0.7557, accuracy_valid: 0.7320, 7.6732sec\n",
      "epoch: 29, loss_train: 0.5980, accuracy_train: 0.7908, loss_valid: 0.7549, accuracy_valid: 0.7335, 7.6507sec\n"
     ]
    },
    {
     "name": "stderr",
     "output_type": "stream",
     "text": [
      "\u001b[32m[I 2022-01-31 18:35:39,047]\u001b[0m Trial 29 finished with value: 0.7540391923168369 and parameters: {'emb_size': 100.0, 'out_channels': 150.0, 'drop_rate': 0.5, 'learning_rate': 0.012008342675275565, 'momentum': 0.7, 'batch_size': 96.0, 'min_lr': 0.0006466759412424248}. Best is trial 25 with value: 0.4914871058913727.\u001b[0m\n"
     ]
    },
    {
     "name": "stdout",
     "output_type": "stream",
     "text": [
      "epoch: 30, loss_train: 0.5966, accuracy_train: 0.7912, loss_valid: 0.7540, accuracy_valid: 0.7335, 7.6264sec\n",
      "epoch: 1, loss_train: 1.1909, accuracy_train: 0.4905, loss_valid: 1.1861, accuracy_valid: 0.4716, 7.6580sec\n",
      "epoch: 2, loss_train: 1.1613, accuracy_train: 0.5016, loss_valid: 1.1627, accuracy_valid: 0.4738, 7.6414sec\n",
      "epoch: 3, loss_train: 1.1461, accuracy_train: 0.5081, loss_valid: 1.1500, accuracy_valid: 0.4858, 7.6302sec\n",
      "epoch: 4, loss_train: 1.1344, accuracy_train: 0.5144, loss_valid: 1.1405, accuracy_valid: 0.4910, 7.6301sec\n",
      "epoch: 5, loss_train: 1.1244, accuracy_train: 0.5183, loss_valid: 1.1318, accuracy_valid: 0.5007, 7.6779sec\n",
      "epoch: 6, loss_train: 1.1156, accuracy_train: 0.5261, loss_valid: 1.1243, accuracy_valid: 0.5210, 7.6689sec\n",
      "epoch: 7, loss_train: 1.1074, accuracy_train: 0.5328, loss_valid: 1.1184, accuracy_valid: 0.5127, 7.6611sec\n",
      "epoch: 8, loss_train: 1.1000, accuracy_train: 0.5358, loss_valid: 1.1121, accuracy_valid: 0.5232, 7.7003sec\n",
      "epoch: 9, loss_train: 1.0930, accuracy_train: 0.5433, loss_valid: 1.1070, accuracy_valid: 0.5307, 7.6622sec\n",
      "epoch: 10, loss_train: 1.0864, accuracy_train: 0.5500, loss_valid: 1.1030, accuracy_valid: 0.5344, 7.6266sec\n",
      "epoch: 11, loss_train: 1.0795, accuracy_train: 0.5547, loss_valid: 1.0971, accuracy_valid: 0.5464, 7.6372sec\n",
      "epoch: 12, loss_train: 1.0727, accuracy_train: 0.5610, loss_valid: 1.0925, accuracy_valid: 0.5449, 7.7010sec\n",
      "epoch: 13, loss_train: 1.0655, accuracy_train: 0.5667, loss_valid: 1.0865, accuracy_valid: 0.5561, 7.6239sec\n",
      "epoch: 14, loss_train: 1.0576, accuracy_train: 0.5716, loss_valid: 1.0813, accuracy_valid: 0.5629, 7.6461sec\n",
      "epoch: 15, loss_train: 1.0496, accuracy_train: 0.5802, loss_valid: 1.0753, accuracy_valid: 0.5771, 7.7134sec\n",
      "epoch: 16, loss_train: 1.0408, accuracy_train: 0.5851, loss_valid: 1.0678, accuracy_valid: 0.5868, 7.7232sec\n",
      "epoch: 17, loss_train: 1.0314, accuracy_train: 0.5993, loss_valid: 1.0607, accuracy_valid: 0.5981, 7.6732sec\n",
      "epoch: 18, loss_train: 1.0211, accuracy_train: 0.6058, loss_valid: 1.0529, accuracy_valid: 0.6040, 7.6580sec\n",
      "epoch: 19, loss_train: 1.0101, accuracy_train: 0.6189, loss_valid: 1.0431, accuracy_valid: 0.6100, 7.6923sec\n",
      "epoch: 20, loss_train: 0.9982, accuracy_train: 0.6367, loss_valid: 1.0351, accuracy_valid: 0.6243, 7.6860sec\n",
      "epoch: 21, loss_train: 0.9855, accuracy_train: 0.6454, loss_valid: 1.0253, accuracy_valid: 0.6332, 7.6753sec\n",
      "epoch: 22, loss_train: 0.9722, accuracy_train: 0.6556, loss_valid: 1.0159, accuracy_valid: 0.6347, 7.7046sec\n",
      "epoch: 23, loss_train: 0.9587, accuracy_train: 0.6711, loss_valid: 1.0062, accuracy_valid: 0.6422, 7.6546sec\n",
      "epoch: 24, loss_train: 0.9439, accuracy_train: 0.6742, loss_valid: 0.9928, accuracy_valid: 0.6422, 7.6360sec\n",
      "epoch: 25, loss_train: 0.9293, accuracy_train: 0.6838, loss_valid: 0.9824, accuracy_valid: 0.6512, 7.6374sec\n",
      "epoch: 26, loss_train: 0.9146, accuracy_train: 0.6931, loss_valid: 0.9717, accuracy_valid: 0.6587, 7.6610sec\n",
      "epoch: 27, loss_train: 0.8997, accuracy_train: 0.7016, loss_valid: 0.9601, accuracy_valid: 0.6692, 7.6426sec\n",
      "epoch: 28, loss_train: 0.8855, accuracy_train: 0.7056, loss_valid: 0.9507, accuracy_valid: 0.6707, 7.6068sec\n",
      "epoch: 29, loss_train: 0.8713, accuracy_train: 0.7135, loss_valid: 0.9393, accuracy_valid: 0.6729, 7.6474sec\n"
     ]
    },
    {
     "name": "stderr",
     "output_type": "stream",
     "text": [
      "\u001b[32m[I 2022-01-31 18:39:28,952]\u001b[0m Trial 30 finished with value: 0.9290286808436413 and parameters: {'emb_size': 400.0, 'out_channels': 200.0, 'drop_rate': 0.4, 'learning_rate': 0.001316240907298135, 'momentum': 0.8, 'batch_size': 112.0, 'min_lr': 0.0030191667637242056}. Best is trial 25 with value: 0.4914871058913727.\u001b[0m\n"
     ]
    },
    {
     "name": "stdout",
     "output_type": "stream",
     "text": [
      "epoch: 30, loss_train: 0.8572, accuracy_train: 0.7198, loss_valid: 0.9290, accuracy_valid: 0.6796, 7.6792sec\n",
      "epoch: 1, loss_train: 1.0179, accuracy_train: 0.5661, loss_valid: 1.0478, accuracy_valid: 0.5576, 7.6770sec\n",
      "epoch: 2, loss_train: 0.8572, accuracy_train: 0.7113, loss_valid: 0.9358, accuracy_valid: 0.6639, 7.6804sec\n",
      "epoch: 3, loss_train: 0.7371, accuracy_train: 0.7463, loss_valid: 0.8510, accuracy_valid: 0.6954, 7.7119sec\n",
      "epoch: 4, loss_train: 0.6381, accuracy_train: 0.7801, loss_valid: 0.7915, accuracy_valid: 0.7275, 7.7320sec\n",
      "epoch: 5, loss_train: 0.5552, accuracy_train: 0.8191, loss_valid: 0.7434, accuracy_valid: 0.7522, 7.6542sec\n",
      "epoch: 6, loss_train: 0.4817, accuracy_train: 0.8342, loss_valid: 0.6874, accuracy_valid: 0.7620, 7.6813sec\n",
      "epoch: 7, loss_train: 0.4235, accuracy_train: 0.8661, loss_valid: 0.6661, accuracy_valid: 0.7687, 7.7241sec\n",
      "epoch: 8, loss_train: 0.3759, accuracy_train: 0.8871, loss_valid: 0.6420, accuracy_valid: 0.7747, 7.6858sec\n",
      "epoch: 9, loss_train: 0.3301, accuracy_train: 0.8995, loss_valid: 0.6084, accuracy_valid: 0.7897, 7.6657sec\n",
      "epoch: 10, loss_train: 0.2946, accuracy_train: 0.9106, loss_valid: 0.5866, accuracy_valid: 0.7927, 7.6734sec\n",
      "epoch: 11, loss_train: 0.2606, accuracy_train: 0.9364, loss_valid: 0.5705, accuracy_valid: 0.8114, 7.6852sec\n",
      "epoch: 12, loss_train: 0.2355, accuracy_train: 0.9425, loss_valid: 0.5583, accuracy_valid: 0.8099, 7.6643sec\n",
      "epoch: 13, loss_train: 0.2114, accuracy_train: 0.9569, loss_valid: 0.5447, accuracy_valid: 0.8181, 7.6847sec\n",
      "epoch: 14, loss_train: 0.1944, accuracy_train: 0.9647, loss_valid: 0.5472, accuracy_valid: 0.8166, 7.6788sec\n",
      "epoch: 15, loss_train: 0.1752, accuracy_train: 0.9656, loss_valid: 0.5209, accuracy_valid: 0.8196, 7.6581sec\n",
      "epoch: 16, loss_train: 0.1632, accuracy_train: 0.9797, loss_valid: 0.5348, accuracy_valid: 0.8144, 7.6545sec\n",
      "epoch: 17, loss_train: 0.1509, accuracy_train: 0.9772, loss_valid: 0.5122, accuracy_valid: 0.8271, 7.7025sec\n",
      "epoch: 18, loss_train: 0.1398, accuracy_train: 0.9827, loss_valid: 0.5087, accuracy_valid: 0.8353, 7.6758sec\n",
      "epoch: 19, loss_train: 0.1319, accuracy_train: 0.9857, loss_valid: 0.5025, accuracy_valid: 0.8278, 7.6830sec\n",
      "epoch: 20, loss_train: 0.1254, accuracy_train: 0.9887, loss_valid: 0.5023, accuracy_valid: 0.8308, 7.6823sec\n",
      "epoch: 21, loss_train: 0.1198, accuracy_train: 0.9876, loss_valid: 0.4957, accuracy_valid: 0.8301, 7.6975sec\n",
      "epoch: 22, loss_train: 0.1159, accuracy_train: 0.9905, loss_valid: 0.4986, accuracy_valid: 0.8301, 7.6926sec\n",
      "epoch: 23, loss_train: 0.1126, accuracy_train: 0.9901, loss_valid: 0.4926, accuracy_valid: 0.8323, 7.6971sec\n",
      "epoch: 24, loss_train: 0.1102, accuracy_train: 0.9901, loss_valid: 0.4936, accuracy_valid: 0.8293, 7.6910sec\n",
      "epoch: 25, loss_train: 0.1081, accuracy_train: 0.9908, loss_valid: 0.4927, accuracy_valid: 0.8331, 7.7019sec\n",
      "epoch: 26, loss_train: 0.1068, accuracy_train: 0.9913, loss_valid: 0.4940, accuracy_valid: 0.8346, 7.6733sec\n",
      "epoch: 27, loss_train: 0.1057, accuracy_train: 0.9913, loss_valid: 0.4914, accuracy_valid: 0.8353, 7.6888sec\n",
      "epoch: 28, loss_train: 0.1050, accuracy_train: 0.9913, loss_valid: 0.4914, accuracy_valid: 0.8331, 7.6992sec\n",
      "epoch: 29, loss_train: 0.1047, accuracy_train: 0.9911, loss_valid: 0.4908, accuracy_valid: 0.8353, 7.6616sec\n"
     ]
    },
    {
     "name": "stderr",
     "output_type": "stream",
     "text": [
      "\u001b[32m[I 2022-01-31 18:43:19,531]\u001b[0m Trial 31 finished with value: 0.49080891312852637 and parameters: {'emb_size': 100.0, 'out_channels': 200.0, 'drop_rate': 0.4, 'learning_rate': 0.049340262103789244, 'momentum': 0.6, 'batch_size': 80.0, 'min_lr': 0.000420917937230997}. Best is trial 31 with value: 0.49080891312852637.\u001b[0m\n"
     ]
    },
    {
     "name": "stdout",
     "output_type": "stream",
     "text": [
      "epoch: 30, loss_train: 0.1045, accuracy_train: 0.9912, loss_valid: 0.4908, accuracy_valid: 0.8338, 7.6717sec\n",
      "epoch: 1, loss_train: 1.0374, accuracy_train: 0.5808, loss_valid: 1.0703, accuracy_valid: 0.5412, 7.7053sec\n",
      "epoch: 2, loss_train: 0.9112, accuracy_train: 0.6887, loss_valid: 0.9623, accuracy_valid: 0.6549, 7.7266sec\n",
      "epoch: 3, loss_train: 0.8056, accuracy_train: 0.7315, loss_valid: 0.8839, accuracy_valid: 0.6939, 7.6772sec\n",
      "epoch: 4, loss_train: 0.7200, accuracy_train: 0.7558, loss_valid: 0.8284, accuracy_valid: 0.7058, 7.7005sec\n",
      "epoch: 5, loss_train: 0.6559, accuracy_train: 0.7676, loss_valid: 0.7927, accuracy_valid: 0.7088, 7.7079sec\n",
      "epoch: 6, loss_train: 0.5887, accuracy_train: 0.7961, loss_valid: 0.7505, accuracy_valid: 0.7358, 7.6989sec\n",
      "epoch: 7, loss_train: 0.5406, accuracy_train: 0.8120, loss_valid: 0.7368, accuracy_valid: 0.7358, 7.6910sec\n",
      "epoch: 8, loss_train: 0.4846, accuracy_train: 0.8282, loss_valid: 0.6902, accuracy_valid: 0.7470, 7.7205sec\n",
      "epoch: 9, loss_train: 0.4422, accuracy_train: 0.8483, loss_valid: 0.6679, accuracy_valid: 0.7597, 7.7264sec\n",
      "epoch: 10, loss_train: 0.4051, accuracy_train: 0.8609, loss_valid: 0.6496, accuracy_valid: 0.7627, 7.6581sec\n",
      "epoch: 11, loss_train: 0.3709, accuracy_train: 0.8837, loss_valid: 0.6238, accuracy_valid: 0.7784, 7.6667sec\n",
      "epoch: 12, loss_train: 0.3440, accuracy_train: 0.8967, loss_valid: 0.6165, accuracy_valid: 0.7957, 7.7076sec\n",
      "epoch: 13, loss_train: 0.3202, accuracy_train: 0.8968, loss_valid: 0.5978, accuracy_valid: 0.7904, 7.6559sec\n",
      "epoch: 14, loss_train: 0.2971, accuracy_train: 0.9131, loss_valid: 0.5883, accuracy_valid: 0.7994, 7.6332sec\n",
      "epoch: 15, loss_train: 0.2808, accuracy_train: 0.9174, loss_valid: 0.5791, accuracy_valid: 0.8001, 7.6851sec\n",
      "epoch: 16, loss_train: 0.2637, accuracy_train: 0.9288, loss_valid: 0.5725, accuracy_valid: 0.8054, 7.6949sec\n",
      "epoch: 17, loss_train: 0.2489, accuracy_train: 0.9376, loss_valid: 0.5670, accuracy_valid: 0.8091, 7.6643sec\n",
      "epoch: 18, loss_train: 0.2369, accuracy_train: 0.9425, loss_valid: 0.5590, accuracy_valid: 0.8136, 7.6635sec\n",
      "epoch: 19, loss_train: 0.2277, accuracy_train: 0.9486, loss_valid: 0.5554, accuracy_valid: 0.8099, 7.6799sec\n",
      "epoch: 20, loss_train: 0.2193, accuracy_train: 0.9542, loss_valid: 0.5542, accuracy_valid: 0.8211, 7.6679sec\n",
      "epoch: 21, loss_train: 0.2126, accuracy_train: 0.9508, loss_valid: 0.5452, accuracy_valid: 0.8136, 7.6754sec\n",
      "epoch: 22, loss_train: 0.2070, accuracy_train: 0.9555, loss_valid: 0.5454, accuracy_valid: 0.8189, 7.6726sec\n",
      "epoch: 23, loss_train: 0.2020, accuracy_train: 0.9599, loss_valid: 0.5441, accuracy_valid: 0.8226, 7.7136sec\n",
      "epoch: 24, loss_train: 0.1985, accuracy_train: 0.9607, loss_valid: 0.5426, accuracy_valid: 0.8234, 7.6922sec\n",
      "epoch: 25, loss_train: 0.1955, accuracy_train: 0.9625, loss_valid: 0.5417, accuracy_valid: 0.8241, 7.6793sec\n",
      "epoch: 26, loss_train: 0.1936, accuracy_train: 0.9632, loss_valid: 0.5417, accuracy_valid: 0.8219, 7.7102sec\n",
      "epoch: 27, loss_train: 0.1926, accuracy_train: 0.9632, loss_valid: 0.5413, accuracy_valid: 0.8241, 7.6867sec\n",
      "epoch: 28, loss_train: 0.1919, accuracy_train: 0.9636, loss_valid: 0.5411, accuracy_valid: 0.8241, 7.6764sec\n",
      "epoch: 29, loss_train: 0.1915, accuracy_train: 0.9640, loss_valid: 0.5410, accuracy_valid: 0.8241, 7.6655sec\n"
     ]
    },
    {
     "name": "stderr",
     "output_type": "stream",
     "text": [
      "\u001b[32m[I 2022-01-31 18:47:10,194]\u001b[0m Trial 32 finished with value: 0.5409719987387498 and parameters: {'emb_size': 100.0, 'out_channels': 200.0, 'drop_rate': 0.5, 'learning_rate': 0.03893677340544491, 'momentum': 0.6, 'batch_size': 80.0, 'min_lr': 3.1656993505949537e-05}. Best is trial 31 with value: 0.49080891312852637.\u001b[0m\n"
     ]
    },
    {
     "name": "stdout",
     "output_type": "stream",
     "text": [
      "epoch: 30, loss_train: 0.1914, accuracy_train: 0.9639, loss_valid: 0.5410, accuracy_valid: 0.8241, 7.7095sec\n",
      "epoch: 1, loss_train: 1.0500, accuracy_train: 0.5978, loss_valid: 1.0763, accuracy_valid: 0.5412, 7.6737sec\n",
      "epoch: 2, loss_train: 0.9301, accuracy_train: 0.6765, loss_valid: 0.9743, accuracy_valid: 0.6437, 7.6826sec\n",
      "epoch: 3, loss_train: 0.8226, accuracy_train: 0.7296, loss_valid: 0.8975, accuracy_valid: 0.6826, 7.7126sec\n",
      "epoch: 4, loss_train: 0.7361, accuracy_train: 0.7481, loss_valid: 0.8418, accuracy_valid: 0.6954, 7.7253sec\n",
      "epoch: 5, loss_train: 0.6636, accuracy_train: 0.7654, loss_valid: 0.7881, accuracy_valid: 0.7118, 7.6907sec\n",
      "epoch: 6, loss_train: 0.5944, accuracy_train: 0.7924, loss_valid: 0.7486, accuracy_valid: 0.7403, 7.6748sec\n",
      "epoch: 7, loss_train: 0.5389, accuracy_train: 0.8110, loss_valid: 0.7103, accuracy_valid: 0.7537, 7.7261sec\n",
      "epoch: 8, loss_train: 0.4872, accuracy_train: 0.8298, loss_valid: 0.6758, accuracy_valid: 0.7485, 7.6985sec\n",
      "epoch: 9, loss_train: 0.4412, accuracy_train: 0.8493, loss_valid: 0.6541, accuracy_valid: 0.7657, 7.6890sec\n",
      "epoch: 10, loss_train: 0.4019, accuracy_train: 0.8673, loss_valid: 0.6367, accuracy_valid: 0.7680, 7.7194sec\n",
      "epoch: 11, loss_train: 0.3651, accuracy_train: 0.8813, loss_valid: 0.6126, accuracy_valid: 0.7799, 7.7176sec\n",
      "epoch: 12, loss_train: 0.3360, accuracy_train: 0.8952, loss_valid: 0.5977, accuracy_valid: 0.7814, 7.6742sec\n",
      "epoch: 13, loss_train: 0.3104, accuracy_train: 0.9077, loss_valid: 0.5828, accuracy_valid: 0.7979, 7.6836sec\n",
      "epoch: 14, loss_train: 0.2879, accuracy_train: 0.9162, loss_valid: 0.5694, accuracy_valid: 0.8001, 7.7092sec\n",
      "epoch: 15, loss_train: 0.2708, accuracy_train: 0.9288, loss_valid: 0.5678, accuracy_valid: 0.7979, 7.6995sec\n",
      "epoch: 16, loss_train: 0.2534, accuracy_train: 0.9295, loss_valid: 0.5568, accuracy_valid: 0.8024, 7.6724sec\n",
      "epoch: 17, loss_train: 0.2382, accuracy_train: 0.9402, loss_valid: 0.5523, accuracy_valid: 0.8001, 7.7012sec\n",
      "epoch: 18, loss_train: 0.2254, accuracy_train: 0.9512, loss_valid: 0.5449, accuracy_valid: 0.8031, 7.7054sec\n",
      "epoch: 19, loss_train: 0.2150, accuracy_train: 0.9556, loss_valid: 0.5409, accuracy_valid: 0.8151, 7.6878sec\n",
      "epoch: 20, loss_train: 0.2062, accuracy_train: 0.9580, loss_valid: 0.5364, accuracy_valid: 0.8114, 7.6843sec\n",
      "epoch: 21, loss_train: 0.1990, accuracy_train: 0.9643, loss_valid: 0.5371, accuracy_valid: 0.8106, 7.7265sec\n",
      "epoch: 22, loss_train: 0.1933, accuracy_train: 0.9640, loss_valid: 0.5309, accuracy_valid: 0.8136, 7.7040sec\n",
      "epoch: 23, loss_train: 0.1893, accuracy_train: 0.9682, loss_valid: 0.5334, accuracy_valid: 0.8121, 7.6866sec\n",
      "epoch: 24, loss_train: 0.1854, accuracy_train: 0.9658, loss_valid: 0.5270, accuracy_valid: 0.8159, 7.7195sec\n",
      "epoch: 25, loss_train: 0.1822, accuracy_train: 0.9693, loss_valid: 0.5261, accuracy_valid: 0.8114, 7.7155sec\n",
      "epoch: 26, loss_train: 0.1805, accuracy_train: 0.9688, loss_valid: 0.5248, accuracy_valid: 0.8136, 7.7075sec\n",
      "epoch: 27, loss_train: 0.1786, accuracy_train: 0.9695, loss_valid: 0.5240, accuracy_valid: 0.8159, 7.6852sec\n",
      "epoch: 28, loss_train: 0.1773, accuracy_train: 0.9700, loss_valid: 0.5235, accuracy_valid: 0.8144, 7.7083sec\n",
      "epoch: 29, loss_train: 0.1765, accuracy_train: 0.9710, loss_valid: 0.5233, accuracy_valid: 0.8166, 7.6815sec\n"
     ]
    },
    {
     "name": "stderr",
     "output_type": "stream",
     "text": [
      "\u001b[32m[I 2022-01-31 18:51:01,198]\u001b[0m Trial 33 finished with value: 0.5225804572929474 and parameters: {'emb_size': 100.0, 'out_channels': 200.0, 'drop_rate': 0.4, 'learning_rate': 0.04660414200238097, 'momentum': 0.5, 'batch_size': 80.0, 'min_lr': 0.0010986545036449295}. Best is trial 31 with value: 0.49080891312852637.\u001b[0m\n"
     ]
    },
    {
     "name": "stdout",
     "output_type": "stream",
     "text": [
      "epoch: 30, loss_train: 0.1758, accuracy_train: 0.9713, loss_valid: 0.5226, accuracy_valid: 0.8159, 7.6906sec\n",
      "epoch: 1, loss_train: 1.0991, accuracy_train: 0.5381, loss_valid: 1.1122, accuracy_valid: 0.5180, 7.6370sec\n",
      "epoch: 2, loss_train: 1.0540, accuracy_train: 0.5763, loss_valid: 1.0792, accuracy_valid: 0.5524, 7.6877sec\n",
      "epoch: 3, loss_train: 1.0072, accuracy_train: 0.6198, loss_valid: 1.0435, accuracy_valid: 0.6048, 7.6363sec\n",
      "epoch: 4, loss_train: 0.9534, accuracy_train: 0.6608, loss_valid: 1.0024, accuracy_valid: 0.6325, 7.6521sec\n",
      "epoch: 5, loss_train: 0.9003, accuracy_train: 0.6871, loss_valid: 0.9600, accuracy_valid: 0.6497, 7.6763sec\n",
      "epoch: 6, loss_train: 0.8512, accuracy_train: 0.7147, loss_valid: 0.9276, accuracy_valid: 0.6737, 7.6729sec\n",
      "epoch: 7, loss_train: 0.8071, accuracy_train: 0.7325, loss_valid: 0.8984, accuracy_valid: 0.6916, 7.7208sec\n",
      "epoch: 8, loss_train: 0.7672, accuracy_train: 0.7438, loss_valid: 0.8714, accuracy_valid: 0.6976, 7.6764sec\n",
      "epoch: 9, loss_train: 0.7341, accuracy_train: 0.7505, loss_valid: 0.8472, accuracy_valid: 0.6894, 7.6898sec\n",
      "epoch: 10, loss_train: 0.7025, accuracy_train: 0.7594, loss_valid: 0.8309, accuracy_valid: 0.7066, 7.6585sec\n",
      "epoch: 11, loss_train: 0.6760, accuracy_train: 0.7686, loss_valid: 0.8156, accuracy_valid: 0.7156, 7.6842sec\n",
      "epoch: 12, loss_train: 0.6495, accuracy_train: 0.7749, loss_valid: 0.7980, accuracy_valid: 0.7201, 7.6786sec\n",
      "epoch: 13, loss_train: 0.6278, accuracy_train: 0.7788, loss_valid: 0.7852, accuracy_valid: 0.7171, 7.6955sec\n",
      "epoch: 14, loss_train: 0.6062, accuracy_train: 0.7892, loss_valid: 0.7746, accuracy_valid: 0.7290, 7.6572sec\n",
      "epoch: 15, loss_train: 0.5876, accuracy_train: 0.7929, loss_valid: 0.7588, accuracy_valid: 0.7268, 7.6542sec\n",
      "epoch: 16, loss_train: 0.5714, accuracy_train: 0.8001, loss_valid: 0.7473, accuracy_valid: 0.7268, 7.6730sec\n",
      "epoch: 17, loss_train: 0.5573, accuracy_train: 0.8094, loss_valid: 0.7422, accuracy_valid: 0.7395, 7.6667sec\n",
      "epoch: 18, loss_train: 0.5451, accuracy_train: 0.8128, loss_valid: 0.7343, accuracy_valid: 0.7358, 7.6644sec\n",
      "epoch: 19, loss_train: 0.5337, accuracy_train: 0.8170, loss_valid: 0.7269, accuracy_valid: 0.7403, 7.6545sec\n",
      "epoch: 20, loss_train: 0.5246, accuracy_train: 0.8221, loss_valid: 0.7212, accuracy_valid: 0.7433, 7.6799sec\n",
      "epoch: 21, loss_train: 0.5169, accuracy_train: 0.8232, loss_valid: 0.7164, accuracy_valid: 0.7455, 7.6533sec\n",
      "epoch: 22, loss_train: 0.5104, accuracy_train: 0.8293, loss_valid: 0.7130, accuracy_valid: 0.7425, 7.6411sec\n",
      "epoch: 23, loss_train: 0.5053, accuracy_train: 0.8330, loss_valid: 0.7113, accuracy_valid: 0.7463, 7.6623sec\n",
      "epoch: 24, loss_train: 0.5013, accuracy_train: 0.8327, loss_valid: 0.7073, accuracy_valid: 0.7455, 7.6510sec\n",
      "epoch: 25, loss_train: 0.4983, accuracy_train: 0.8341, loss_valid: 0.7061, accuracy_valid: 0.7500, 7.6674sec\n",
      "epoch: 26, loss_train: 0.4961, accuracy_train: 0.8360, loss_valid: 0.7050, accuracy_valid: 0.7500, 7.6666sec\n",
      "epoch: 27, loss_train: 0.4947, accuracy_train: 0.8363, loss_valid: 0.7042, accuracy_valid: 0.7478, 7.6958sec\n",
      "epoch: 28, loss_train: 0.4937, accuracy_train: 0.8365, loss_valid: 0.7037, accuracy_valid: 0.7470, 7.6355sec\n",
      "epoch: 29, loss_train: 0.4932, accuracy_train: 0.8368, loss_valid: 0.7034, accuracy_valid: 0.7478, 7.6328sec\n"
     ]
    },
    {
     "name": "stderr",
     "output_type": "stream",
     "text": [
      "\u001b[32m[I 2022-01-31 18:54:51,228]\u001b[0m Trial 34 finished with value: 0.7032431780237253 and parameters: {'emb_size': 100.0, 'out_channels': 200.0, 'drop_rate': 0.30000000000000004, 'learning_rate': 0.01937165523956748, 'momentum': 0.6, 'batch_size': 96.0, 'min_lr': 0.00014786548813518235}. Best is trial 31 with value: 0.49080891312852637.\u001b[0m\n"
     ]
    },
    {
     "name": "stdout",
     "output_type": "stream",
     "text": [
      "epoch: 30, loss_train: 0.4929, accuracy_train: 0.8368, loss_valid: 0.7032, accuracy_valid: 0.7478, 7.6595sec\n",
      "epoch: 1, loss_train: 1.0308, accuracy_train: 0.6307, loss_valid: 1.0593, accuracy_valid: 0.6010, 7.6634sec\n",
      "epoch: 2, loss_train: 0.8883, accuracy_train: 0.6965, loss_valid: 0.9465, accuracy_valid: 0.6557, 7.6863sec\n",
      "epoch: 3, loss_train: 0.7769, accuracy_train: 0.7350, loss_valid: 0.8684, accuracy_valid: 0.6916, 7.6761sec\n",
      "epoch: 4, loss_train: 0.6782, accuracy_train: 0.7641, loss_valid: 0.8043, accuracy_valid: 0.7171, 7.7201sec\n",
      "epoch: 5, loss_train: 0.6105, accuracy_train: 0.7857, loss_valid: 0.7625, accuracy_valid: 0.7141, 7.6800sec\n",
      "epoch: 6, loss_train: 0.5331, accuracy_train: 0.8151, loss_valid: 0.7188, accuracy_valid: 0.7388, 7.6599sec\n",
      "epoch: 7, loss_train: 0.4739, accuracy_train: 0.8449, loss_valid: 0.6932, accuracy_valid: 0.7552, 7.6910sec\n",
      "epoch: 8, loss_train: 0.4206, accuracy_train: 0.8625, loss_valid: 0.6565, accuracy_valid: 0.7627, 7.6756sec\n",
      "epoch: 9, loss_train: 0.3755, accuracy_train: 0.8746, loss_valid: 0.6268, accuracy_valid: 0.7732, 7.6798sec\n",
      "epoch: 10, loss_train: 0.3377, accuracy_train: 0.9050, loss_valid: 0.6194, accuracy_valid: 0.7927, 7.6726sec\n",
      "epoch: 11, loss_train: 0.3034, accuracy_train: 0.9121, loss_valid: 0.5933, accuracy_valid: 0.7942, 7.7015sec\n",
      "epoch: 12, loss_train: 0.2751, accuracy_train: 0.9314, loss_valid: 0.5841, accuracy_valid: 0.7987, 7.6859sec\n",
      "epoch: 13, loss_train: 0.2496, accuracy_train: 0.9394, loss_valid: 0.5675, accuracy_valid: 0.8054, 7.6397sec\n",
      "epoch: 14, loss_train: 0.2293, accuracy_train: 0.9515, loss_valid: 0.5660, accuracy_valid: 0.8091, 7.7026sec\n",
      "epoch: 15, loss_train: 0.2109, accuracy_train: 0.9580, loss_valid: 0.5526, accuracy_valid: 0.8106, 7.6815sec\n",
      "epoch: 16, loss_train: 0.1950, accuracy_train: 0.9632, loss_valid: 0.5510, accuracy_valid: 0.8159, 7.6841sec\n",
      "epoch: 17, loss_train: 0.1830, accuracy_train: 0.9642, loss_valid: 0.5391, accuracy_valid: 0.8136, 7.6699sec\n",
      "epoch: 18, loss_train: 0.1720, accuracy_train: 0.9708, loss_valid: 0.5378, accuracy_valid: 0.8159, 7.6990sec\n",
      "epoch: 19, loss_train: 0.1630, accuracy_train: 0.9756, loss_valid: 0.5334, accuracy_valid: 0.8234, 7.6789sec\n",
      "epoch: 20, loss_train: 0.1564, accuracy_train: 0.9752, loss_valid: 0.5320, accuracy_valid: 0.8144, 7.6573sec\n",
      "epoch: 21, loss_train: 0.1504, accuracy_train: 0.9774, loss_valid: 0.5284, accuracy_valid: 0.8196, 7.6667sec\n",
      "epoch: 22, loss_train: 0.1448, accuracy_train: 0.9822, loss_valid: 0.5277, accuracy_valid: 0.8241, 7.6719sec\n",
      "epoch: 23, loss_train: 0.1411, accuracy_train: 0.9844, loss_valid: 0.5297, accuracy_valid: 0.8181, 7.6635sec\n",
      "epoch: 24, loss_train: 0.1377, accuracy_train: 0.9843, loss_valid: 0.5242, accuracy_valid: 0.8211, 7.6714sec\n",
      "epoch: 25, loss_train: 0.1357, accuracy_train: 0.9841, loss_valid: 0.5237, accuracy_valid: 0.8189, 7.7304sec\n",
      "epoch: 26, loss_train: 0.1342, accuracy_train: 0.9840, loss_valid: 0.5208, accuracy_valid: 0.8249, 7.6756sec\n",
      "epoch: 27, loss_train: 0.1327, accuracy_train: 0.9851, loss_valid: 0.5230, accuracy_valid: 0.8204, 7.6823sec\n",
      "epoch: 28, loss_train: 0.1320, accuracy_train: 0.9847, loss_valid: 0.5216, accuracy_valid: 0.8211, 7.7202sec\n",
      "epoch: 29, loss_train: 0.1315, accuracy_train: 0.9850, loss_valid: 0.5216, accuracy_valid: 0.8226, 7.6973sec\n"
     ]
    },
    {
     "name": "stderr",
     "output_type": "stream",
     "text": [
      "\u001b[32m[I 2022-01-31 18:58:41,744]\u001b[0m Trial 35 finished with value: 0.5224048272906935 and parameters: {'emb_size': 100.0, 'out_channels': 150.0, 'drop_rate': 0.30000000000000004, 'learning_rate': 0.03244201167051521, 'momentum': 0.7, 'batch_size': 80.0, 'min_lr': 0.0004691951466078275}. Best is trial 31 with value: 0.49080891312852637.\u001b[0m\n"
     ]
    },
    {
     "name": "stdout",
     "output_type": "stream",
     "text": [
      "epoch: 30, loss_train: 0.1311, accuracy_train: 0.9856, loss_valid: 0.5224, accuracy_valid: 0.8211, 7.6824sec\n",
      "epoch: 1, loss_train: 0.8322, accuracy_train: 0.7114, loss_valid: 0.9057, accuracy_valid: 0.6766, 7.6568sec\n",
      "epoch: 2, loss_train: 0.6386, accuracy_train: 0.7620, loss_valid: 0.7902, accuracy_valid: 0.6976, 7.7038sec\n",
      "epoch: 3, loss_train: 0.4477, accuracy_train: 0.8491, loss_valid: 0.6734, accuracy_valid: 0.7530, 7.6852sec\n",
      "epoch: 4, loss_train: 0.3394, accuracy_train: 0.9012, loss_valid: 0.6115, accuracy_valid: 0.8039, 7.6617sec\n",
      "epoch: 5, loss_train: 0.2555, accuracy_train: 0.9143, loss_valid: 0.5630, accuracy_valid: 0.8076, 7.6757sec\n",
      "epoch: 6, loss_train: 0.1872, accuracy_train: 0.9581, loss_valid: 0.5516, accuracy_valid: 0.8166, 7.6908sec\n",
      "epoch: 7, loss_train: 0.1498, accuracy_train: 0.9672, loss_valid: 0.5377, accuracy_valid: 0.8256, 7.6723sec\n",
      "epoch: 8, loss_train: 0.1114, accuracy_train: 0.9789, loss_valid: 0.4979, accuracy_valid: 0.8383, 7.7126sec\n",
      "epoch: 9, loss_train: 0.0885, accuracy_train: 0.9890, loss_valid: 0.4992, accuracy_valid: 0.8323, 7.6716sec\n",
      "epoch: 10, loss_train: 0.0709, accuracy_train: 0.9910, loss_valid: 0.4860, accuracy_valid: 0.8376, 7.6597sec\n",
      "epoch: 11, loss_train: 0.0592, accuracy_train: 0.9935, loss_valid: 0.4932, accuracy_valid: 0.8458, 7.6318sec\n",
      "epoch: 12, loss_train: 0.0476, accuracy_train: 0.9948, loss_valid: 0.4914, accuracy_valid: 0.8413, 7.6533sec\n",
      "epoch: 13, loss_train: 0.0409, accuracy_train: 0.9954, loss_valid: 0.4897, accuracy_valid: 0.8391, 7.6769sec\n",
      "epoch: 14, loss_train: 0.0365, accuracy_train: 0.9953, loss_valid: 0.5003, accuracy_valid: 0.8398, 7.6602sec\n",
      "epoch: 15, loss_train: 0.0325, accuracy_train: 0.9963, loss_valid: 0.4895, accuracy_valid: 0.8398, 7.6415sec\n",
      "epoch: 16, loss_train: 0.0296, accuracy_train: 0.9968, loss_valid: 0.4853, accuracy_valid: 0.8383, 7.6547sec\n",
      "epoch: 17, loss_train: 0.0264, accuracy_train: 0.9977, loss_valid: 0.4769, accuracy_valid: 0.8406, 7.6327sec\n",
      "epoch: 18, loss_train: 0.0261, accuracy_train: 0.9976, loss_valid: 0.4965, accuracy_valid: 0.8451, 7.6355sec\n",
      "epoch: 19, loss_train: 0.0222, accuracy_train: 0.9976, loss_valid: 0.4851, accuracy_valid: 0.8413, 7.6482sec\n",
      "epoch: 20, loss_train: 0.0208, accuracy_train: 0.9969, loss_valid: 0.4800, accuracy_valid: 0.8510, 7.6637sec\n",
      "epoch: 21, loss_train: 0.0200, accuracy_train: 0.9972, loss_valid: 0.4870, accuracy_valid: 0.8451, 7.6454sec\n",
      "epoch: 22, loss_train: 0.0180, accuracy_train: 0.9980, loss_valid: 0.4842, accuracy_valid: 0.8451, 7.6434sec\n",
      "epoch: 23, loss_train: 0.0178, accuracy_train: 0.9979, loss_valid: 0.4901, accuracy_valid: 0.8421, 7.6652sec\n",
      "epoch: 24, loss_train: 0.0168, accuracy_train: 0.9983, loss_valid: 0.4910, accuracy_valid: 0.8503, 7.6470sec\n",
      "epoch: 25, loss_train: 0.0164, accuracy_train: 0.9984, loss_valid: 0.4870, accuracy_valid: 0.8481, 7.6308sec\n",
      "epoch: 26, loss_train: 0.0156, accuracy_train: 0.9984, loss_valid: 0.4831, accuracy_valid: 0.8443, 7.6473sec\n",
      "epoch: 27, loss_train: 0.0151, accuracy_train: 0.9984, loss_valid: 0.4821, accuracy_valid: 0.8503, 7.6688sec\n",
      "epoch: 28, loss_train: 0.0148, accuracy_train: 0.9984, loss_valid: 0.4822, accuracy_valid: 0.8488, 7.6305sec\n",
      "epoch: 29, loss_train: 0.0146, accuracy_train: 0.9986, loss_valid: 0.4807, accuracy_valid: 0.8503, 7.6414sec\n"
     ]
    },
    {
     "name": "stderr",
     "output_type": "stream",
     "text": [
      "\u001b[32m[I 2022-01-31 19:02:31,564]\u001b[0m Trial 36 finished with value: 0.47842385283445915 and parameters: {'emb_size': 100.0, 'out_channels': 200.0, 'drop_rate': 0.5, 'learning_rate': 0.04781979114301873, 'momentum': 0.9, 'batch_size': 96.0, 'min_lr': 0.006627828195871481}. Best is trial 36 with value: 0.47842385283445915.\u001b[0m\n"
     ]
    },
    {
     "name": "stdout",
     "output_type": "stream",
     "text": [
      "epoch: 30, loss_train: 0.0145, accuracy_train: 0.9986, loss_valid: 0.4784, accuracy_valid: 0.8518, 7.6645sec\n",
      "epoch: 1, loss_train: 1.0560, accuracy_train: 0.5532, loss_valid: 1.0778, accuracy_valid: 0.5442, 7.6443sec\n",
      "epoch: 2, loss_train: 0.9496, accuracy_train: 0.6751, loss_valid: 0.9997, accuracy_valid: 0.6370, 7.6218sec\n",
      "epoch: 3, loss_train: 0.8416, accuracy_train: 0.7201, loss_valid: 0.9226, accuracy_valid: 0.6826, 7.6033sec\n",
      "epoch: 4, loss_train: 0.7558, accuracy_train: 0.7440, loss_valid: 0.8565, accuracy_valid: 0.6886, 7.6447sec\n",
      "epoch: 5, loss_train: 0.6877, accuracy_train: 0.7632, loss_valid: 0.8096, accuracy_valid: 0.7013, 7.6232sec\n",
      "epoch: 6, loss_train: 0.6241, accuracy_train: 0.7788, loss_valid: 0.7716, accuracy_valid: 0.7253, 7.6020sec\n",
      "epoch: 7, loss_train: 0.5684, accuracy_train: 0.8004, loss_valid: 0.7411, accuracy_valid: 0.7328, 7.6113sec\n",
      "epoch: 8, loss_train: 0.5191, accuracy_train: 0.8191, loss_valid: 0.7075, accuracy_valid: 0.7440, 7.6357sec\n",
      "epoch: 9, loss_train: 0.4720, accuracy_train: 0.8442, loss_valid: 0.6835, accuracy_valid: 0.7552, 7.6179sec\n",
      "epoch: 10, loss_train: 0.4352, accuracy_train: 0.8585, loss_valid: 0.6624, accuracy_valid: 0.7642, 7.6042sec\n",
      "epoch: 11, loss_train: 0.4019, accuracy_train: 0.8611, loss_valid: 0.6386, accuracy_valid: 0.7590, 7.6376sec\n",
      "epoch: 12, loss_train: 0.3721, accuracy_train: 0.8786, loss_valid: 0.6265, accuracy_valid: 0.7725, 7.6074sec\n",
      "epoch: 13, loss_train: 0.3434, accuracy_train: 0.8907, loss_valid: 0.6083, accuracy_valid: 0.7882, 7.5917sec\n",
      "epoch: 14, loss_train: 0.3188, accuracy_train: 0.9178, loss_valid: 0.6028, accuracy_valid: 0.8001, 7.6045sec\n",
      "epoch: 15, loss_train: 0.2973, accuracy_train: 0.9188, loss_valid: 0.5853, accuracy_valid: 0.8039, 7.6565sec\n",
      "epoch: 16, loss_train: 0.2782, accuracy_train: 0.9267, loss_valid: 0.5710, accuracy_valid: 0.8084, 7.7239sec\n",
      "epoch: 17, loss_train: 0.2614, accuracy_train: 0.9309, loss_valid: 0.5646, accuracy_valid: 0.8159, 7.6369sec\n",
      "epoch: 18, loss_train: 0.2481, accuracy_train: 0.9393, loss_valid: 0.5565, accuracy_valid: 0.8166, 7.6575sec\n",
      "epoch: 19, loss_train: 0.2361, accuracy_train: 0.9449, loss_valid: 0.5557, accuracy_valid: 0.8084, 7.6339sec\n",
      "epoch: 20, loss_train: 0.2243, accuracy_train: 0.9524, loss_valid: 0.5495, accuracy_valid: 0.8189, 7.6249sec\n",
      "epoch: 21, loss_train: 0.2152, accuracy_train: 0.9493, loss_valid: 0.5421, accuracy_valid: 0.8189, 7.6275sec\n",
      "epoch: 22, loss_train: 0.2069, accuracy_train: 0.9587, loss_valid: 0.5380, accuracy_valid: 0.8196, 7.6414sec\n",
      "epoch: 23, loss_train: 0.2005, accuracy_train: 0.9619, loss_valid: 0.5366, accuracy_valid: 0.8241, 7.6189sec\n",
      "epoch: 24, loss_train: 0.1946, accuracy_train: 0.9623, loss_valid: 0.5287, accuracy_valid: 0.8226, 7.6074sec\n",
      "epoch: 25, loss_train: 0.1891, accuracy_train: 0.9647, loss_valid: 0.5287, accuracy_valid: 0.8241, 7.6217sec\n",
      "epoch: 26, loss_train: 0.1848, accuracy_train: 0.9659, loss_valid: 0.5255, accuracy_valid: 0.8286, 7.6257sec\n",
      "epoch: 27, loss_train: 0.1807, accuracy_train: 0.9707, loss_valid: 0.5298, accuracy_valid: 0.8256, 7.6122sec\n",
      "epoch: 28, loss_train: 0.1769, accuracy_train: 0.9718, loss_valid: 0.5268, accuracy_valid: 0.8293, 7.6256sec\n",
      "epoch: 29, loss_train: 0.1736, accuracy_train: 0.9723, loss_valid: 0.5244, accuracy_valid: 0.8316, 7.6488sec\n"
     ]
    },
    {
     "name": "stderr",
     "output_type": "stream",
     "text": [
      "\u001b[32m[I 2022-01-31 19:06:20,448]\u001b[0m Trial 37 finished with value: 0.5225803465074748 and parameters: {'emb_size': 100.0, 'out_channels': 200.0, 'drop_rate': 0.5, 'learning_rate': 0.04968315444461186, 'momentum': 0.6, 'batch_size': 112.0, 'min_lr': 0.007746194989395374}. Best is trial 36 with value: 0.47842385283445915.\u001b[0m\n"
     ]
    },
    {
     "name": "stdout",
     "output_type": "stream",
     "text": [
      "epoch: 30, loss_train: 0.1701, accuracy_train: 0.9721, loss_valid: 0.5226, accuracy_valid: 0.8308, 7.6232sec\n",
      "epoch: 1, loss_train: 0.8838, accuracy_train: 0.6973, loss_valid: 0.9391, accuracy_valid: 0.6677, 7.6540sec\n",
      "epoch: 2, loss_train: 0.6906, accuracy_train: 0.7576, loss_valid: 0.8156, accuracy_valid: 0.7163, 7.6725sec\n",
      "epoch: 3, loss_train: 0.5438, accuracy_train: 0.8204, loss_valid: 0.7215, accuracy_valid: 0.7485, 7.6752sec\n",
      "epoch: 4, loss_train: 0.4400, accuracy_train: 0.8441, loss_valid: 0.6541, accuracy_valid: 0.7642, 7.6471sec\n",
      "epoch: 5, loss_train: 0.3581, accuracy_train: 0.8729, loss_valid: 0.6030, accuracy_valid: 0.7807, 7.6474sec\n",
      "epoch: 6, loss_train: 0.2878, accuracy_train: 0.9060, loss_valid: 0.5777, accuracy_valid: 0.7927, 7.6878sec\n",
      "epoch: 7, loss_train: 0.2333, accuracy_train: 0.9269, loss_valid: 0.5486, accuracy_valid: 0.8069, 7.6602sec\n",
      "epoch: 8, loss_train: 0.1836, accuracy_train: 0.9587, loss_valid: 0.5379, accuracy_valid: 0.8106, 7.6480sec\n",
      "epoch: 9, loss_train: 0.1537, accuracy_train: 0.9624, loss_valid: 0.5189, accuracy_valid: 0.8174, 7.6644sec\n",
      "epoch: 10, loss_train: 0.1254, accuracy_train: 0.9799, loss_valid: 0.5274, accuracy_valid: 0.8144, 7.6756sec\n",
      "epoch: 11, loss_train: 0.1066, accuracy_train: 0.9829, loss_valid: 0.5080, accuracy_valid: 0.8181, 7.6355sec\n",
      "epoch: 12, loss_train: 0.0903, accuracy_train: 0.9880, loss_valid: 0.5016, accuracy_valid: 0.8226, 7.6383sec\n",
      "epoch: 13, loss_train: 0.0776, accuracy_train: 0.9927, loss_valid: 0.4975, accuracy_valid: 0.8241, 7.6614sec\n",
      "epoch: 14, loss_train: 0.0682, accuracy_train: 0.9919, loss_valid: 0.4987, accuracy_valid: 0.8278, 7.6424sec\n",
      "epoch: 15, loss_train: 0.0603, accuracy_train: 0.9935, loss_valid: 0.4884, accuracy_valid: 0.8361, 7.6337sec\n",
      "epoch: 16, loss_train: 0.0522, accuracy_train: 0.9948, loss_valid: 0.4924, accuracy_valid: 0.8338, 7.6460sec\n",
      "epoch: 17, loss_train: 0.0467, accuracy_train: 0.9956, loss_valid: 0.4891, accuracy_valid: 0.8361, 7.6835sec\n",
      "epoch: 18, loss_train: 0.0424, accuracy_train: 0.9964, loss_valid: 0.4847, accuracy_valid: 0.8316, 7.6428sec\n",
      "epoch: 19, loss_train: 0.0395, accuracy_train: 0.9966, loss_valid: 0.4779, accuracy_valid: 0.8436, 7.6286sec\n",
      "epoch: 20, loss_train: 0.0353, accuracy_train: 0.9968, loss_valid: 0.4906, accuracy_valid: 0.8398, 7.6646sec\n",
      "epoch: 21, loss_train: 0.0331, accuracy_train: 0.9973, loss_valid: 0.4837, accuracy_valid: 0.8413, 7.6441sec\n",
      "epoch: 22, loss_train: 0.0310, accuracy_train: 0.9974, loss_valid: 0.4894, accuracy_valid: 0.8391, 7.6418sec\n",
      "epoch: 23, loss_train: 0.0294, accuracy_train: 0.9975, loss_valid: 0.4927, accuracy_valid: 0.8338, 7.6396sec\n"
     ]
    },
    {
     "name": "stderr",
     "output_type": "stream",
     "text": [
      "\u001b[32m[I 2022-01-31 19:09:24,191]\u001b[0m Trial 38 finished with value: 0.49336335545635673 and parameters: {'emb_size': 100.0, 'out_channels': 150.0, 'drop_rate': 0.5, 'learning_rate': 0.034790608888047476, 'momentum': 0.9, 'batch_size': 96.0, 'min_lr': 0.009918861104463772}. Best is trial 36 with value: 0.47842385283445915.\u001b[0m\n"
     ]
    },
    {
     "name": "stdout",
     "output_type": "stream",
     "text": [
      "epoch: 24, loss_train: 0.0275, accuracy_train: 0.9981, loss_valid: 0.4934, accuracy_valid: 0.8413, 7.6613sec\n",
      "epoch: 1, loss_train: 0.9997, accuracy_train: 0.6230, loss_valid: 1.0363, accuracy_valid: 0.6070, 7.6294sec\n",
      "epoch: 2, loss_train: 0.8173, accuracy_train: 0.7215, loss_valid: 0.9021, accuracy_valid: 0.6804, 7.6271sec\n",
      "epoch: 3, loss_train: 0.6934, accuracy_train: 0.7579, loss_valid: 0.8125, accuracy_valid: 0.7021, 7.6491sec\n",
      "epoch: 4, loss_train: 0.5818, accuracy_train: 0.7929, loss_valid: 0.7433, accuracy_valid: 0.7275, 7.6823sec\n",
      "epoch: 5, loss_train: 0.5019, accuracy_train: 0.8235, loss_valid: 0.6940, accuracy_valid: 0.7440, 7.6479sec\n",
      "epoch: 6, loss_train: 0.4246, accuracy_train: 0.8541, loss_valid: 0.6534, accuracy_valid: 0.7567, 7.6290sec\n",
      "epoch: 7, loss_train: 0.3732, accuracy_train: 0.8606, loss_valid: 0.6163, accuracy_valid: 0.7665, 7.6748sec\n",
      "epoch: 8, loss_train: 0.3125, accuracy_train: 0.8950, loss_valid: 0.5916, accuracy_valid: 0.7889, 7.6524sec\n",
      "epoch: 9, loss_train: 0.2654, accuracy_train: 0.9160, loss_valid: 0.5591, accuracy_valid: 0.8076, 7.6656sec\n",
      "epoch: 10, loss_train: 0.2328, accuracy_train: 0.9435, loss_valid: 0.5534, accuracy_valid: 0.8159, 7.6428sec\n",
      "epoch: 11, loss_train: 0.1904, accuracy_train: 0.9593, loss_valid: 0.5353, accuracy_valid: 0.8226, 7.6671sec\n",
      "epoch: 12, loss_train: 0.1646, accuracy_train: 0.9614, loss_valid: 0.5163, accuracy_valid: 0.8271, 7.6480sec\n",
      "epoch: 13, loss_train: 0.1381, accuracy_train: 0.9770, loss_valid: 0.5143, accuracy_valid: 0.8211, 7.6358sec\n",
      "epoch: 14, loss_train: 0.1230, accuracy_train: 0.9775, loss_valid: 0.5123, accuracy_valid: 0.8181, 7.6626sec\n",
      "epoch: 15, loss_train: 0.1039, accuracy_train: 0.9845, loss_valid: 0.5087, accuracy_valid: 0.8249, 7.6585sec\n",
      "epoch: 16, loss_train: 0.0915, accuracy_train: 0.9861, loss_valid: 0.5048, accuracy_valid: 0.8316, 7.6453sec\n",
      "epoch: 17, loss_train: 0.0793, accuracy_train: 0.9902, loss_valid: 0.4997, accuracy_valid: 0.8278, 7.6990sec\n",
      "epoch: 18, loss_train: 0.0687, accuracy_train: 0.9920, loss_valid: 0.5082, accuracy_valid: 0.8271, 7.6628sec\n",
      "epoch: 19, loss_train: 0.0619, accuracy_train: 0.9939, loss_valid: 0.4939, accuracy_valid: 0.8346, 7.6722sec\n",
      "epoch: 20, loss_train: 0.0521, accuracy_train: 0.9953, loss_valid: 0.4921, accuracy_valid: 0.8353, 7.6332sec\n",
      "epoch: 21, loss_train: 0.0498, accuracy_train: 0.9951, loss_valid: 0.4915, accuracy_valid: 0.8316, 7.6729sec\n",
      "epoch: 22, loss_train: 0.0447, accuracy_train: 0.9962, loss_valid: 0.4913, accuracy_valid: 0.8316, 7.6676sec\n",
      "epoch: 23, loss_train: 0.0398, accuracy_train: 0.9965, loss_valid: 0.5022, accuracy_valid: 0.8361, 7.6674sec\n",
      "epoch: 24, loss_train: 0.0358, accuracy_train: 0.9968, loss_valid: 0.4936, accuracy_valid: 0.8421, 7.6748sec\n",
      "epoch: 25, loss_train: 0.0348, accuracy_train: 0.9961, loss_valid: 0.4968, accuracy_valid: 0.8376, 7.6977sec\n",
      "epoch: 26, loss_train: 0.0360, accuracy_train: 0.9960, loss_valid: 0.5240, accuracy_valid: 0.8301, 7.6677sec\n",
      "epoch: 27, loss_train: 0.0319, accuracy_train: 0.9962, loss_valid: 0.5089, accuracy_valid: 0.8376, 7.6479sec\n",
      "epoch: 28, loss_train: 0.0277, accuracy_train: 0.9970, loss_valid: 0.5063, accuracy_valid: 0.8406, 7.6702sec\n",
      "epoch: 29, loss_train: 0.0267, accuracy_train: 0.9971, loss_valid: 0.5190, accuracy_valid: 0.8361, 7.6842sec\n"
     ]
    },
    {
     "name": "stderr",
     "output_type": "stream",
     "text": [
      "\u001b[32m[I 2022-01-31 19:13:14,028]\u001b[0m Trial 39 finished with value: 0.5252995623458027 and parameters: {'emb_size': 100.0, 'out_channels': 150.0, 'drop_rate': 0.5, 'learning_rate': 0.019856926743425568, 'momentum': 0.9, 'batch_size': 96.0, 'min_lr': 0.033239663541307904}. Best is trial 36 with value: 0.47842385283445915.\u001b[0m\n"
     ]
    },
    {
     "name": "stdout",
     "output_type": "stream",
     "text": [
      "epoch: 30, loss_train: 0.0234, accuracy_train: 0.9978, loss_valid: 0.5253, accuracy_valid: 0.8338, 7.6539sec\n",
      "epoch: 1, loss_train: 0.9926, accuracy_train: 0.6431, loss_valid: 1.0330, accuracy_valid: 0.6063, 7.6114sec\n",
      "epoch: 2, loss_train: 0.8075, accuracy_train: 0.7276, loss_valid: 0.8953, accuracy_valid: 0.6804, 7.6374sec\n",
      "epoch: 3, loss_train: 0.6780, accuracy_train: 0.7610, loss_valid: 0.8094, accuracy_valid: 0.7193, 7.6106sec\n",
      "epoch: 4, loss_train: 0.5714, accuracy_train: 0.8025, loss_valid: 0.7547, accuracy_valid: 0.7313, 7.5973sec\n",
      "epoch: 5, loss_train: 0.4917, accuracy_train: 0.8211, loss_valid: 0.6930, accuracy_valid: 0.7463, 7.6051sec\n",
      "epoch: 6, loss_train: 0.4159, accuracy_train: 0.8576, loss_valid: 0.6604, accuracy_valid: 0.7687, 7.6372sec\n",
      "epoch: 7, loss_train: 0.3491, accuracy_train: 0.8832, loss_valid: 0.6094, accuracy_valid: 0.7829, 7.5981sec\n",
      "epoch: 8, loss_train: 0.2958, accuracy_train: 0.9123, loss_valid: 0.5875, accuracy_valid: 0.7949, 7.5968sec\n",
      "epoch: 9, loss_train: 0.2512, accuracy_train: 0.9355, loss_valid: 0.5655, accuracy_valid: 0.8084, 7.6416sec\n",
      "epoch: 10, loss_train: 0.2133, accuracy_train: 0.9492, loss_valid: 0.5470, accuracy_valid: 0.8091, 7.6211sec\n",
      "epoch: 11, loss_train: 0.1867, accuracy_train: 0.9552, loss_valid: 0.5287, accuracy_valid: 0.8204, 7.5839sec\n",
      "epoch: 12, loss_train: 0.1610, accuracy_train: 0.9745, loss_valid: 0.5212, accuracy_valid: 0.8219, 7.6615sec\n",
      "epoch: 13, loss_train: 0.1403, accuracy_train: 0.9804, loss_valid: 0.5132, accuracy_valid: 0.8226, 7.6537sec\n",
      "epoch: 14, loss_train: 0.1230, accuracy_train: 0.9840, loss_valid: 0.5072, accuracy_valid: 0.8263, 7.6291sec\n",
      "epoch: 15, loss_train: 0.1084, accuracy_train: 0.9850, loss_valid: 0.5033, accuracy_valid: 0.8316, 7.6060sec\n",
      "epoch: 16, loss_train: 0.0976, accuracy_train: 0.9890, loss_valid: 0.4980, accuracy_valid: 0.8346, 7.6364sec\n",
      "epoch: 17, loss_train: 0.0910, accuracy_train: 0.9915, loss_valid: 0.5004, accuracy_valid: 0.8323, 7.6280sec\n",
      "epoch: 18, loss_train: 0.0785, accuracy_train: 0.9932, loss_valid: 0.4924, accuracy_valid: 0.8368, 7.6200sec\n",
      "epoch: 19, loss_train: 0.0723, accuracy_train: 0.9940, loss_valid: 0.4863, accuracy_valid: 0.8361, 7.6380sec\n",
      "epoch: 20, loss_train: 0.0657, accuracy_train: 0.9949, loss_valid: 0.4882, accuracy_valid: 0.8338, 7.6471sec\n",
      "epoch: 21, loss_train: 0.0613, accuracy_train: 0.9949, loss_valid: 0.4859, accuracy_valid: 0.8293, 7.6479sec\n",
      "epoch: 22, loss_train: 0.0550, accuracy_train: 0.9961, loss_valid: 0.4842, accuracy_valid: 0.8323, 7.6294sec\n",
      "epoch: 23, loss_train: 0.0518, accuracy_train: 0.9964, loss_valid: 0.4757, accuracy_valid: 0.8413, 7.6496sec\n",
      "epoch: 24, loss_train: 0.0490, accuracy_train: 0.9972, loss_valid: 0.4807, accuracy_valid: 0.8413, 7.6366sec\n",
      "epoch: 25, loss_train: 0.0466, accuracy_train: 0.9973, loss_valid: 0.4783, accuracy_valid: 0.8406, 7.6191sec\n",
      "epoch: 26, loss_train: 0.0447, accuracy_train: 0.9976, loss_valid: 0.4753, accuracy_valid: 0.8361, 7.6716sec\n",
      "epoch: 27, loss_train: 0.0418, accuracy_train: 0.9975, loss_valid: 0.4745, accuracy_valid: 0.8376, 7.6595sec\n",
      "epoch: 28, loss_train: 0.0396, accuracy_train: 0.9978, loss_valid: 0.4720, accuracy_valid: 0.8458, 7.6431sec\n",
      "epoch: 29, loss_train: 0.0378, accuracy_train: 0.9980, loss_valid: 0.4758, accuracy_valid: 0.8361, 7.6377sec\n"
     ]
    },
    {
     "name": "stderr",
     "output_type": "stream",
     "text": [
      "\u001b[32m[I 2022-01-31 19:17:02,987]\u001b[0m Trial 40 finished with value: 0.47829401142125477 and parameters: {'emb_size': 100.0, 'out_channels': 150.0, 'drop_rate': 0.5, 'learning_rate': 0.030245226689486267, 'momentum': 0.9, 'batch_size': 128.0, 'min_lr': 0.010572247621496533}. Best is trial 40 with value: 0.47829401142125477.\u001b[0m\n"
     ]
    },
    {
     "name": "stdout",
     "output_type": "stream",
     "text": [
      "epoch: 30, loss_train: 0.0363, accuracy_train: 0.9978, loss_valid: 0.4783, accuracy_valid: 0.8361, 7.6560sec\n",
      "epoch: 1, loss_train: 0.9869, accuracy_train: 0.6396, loss_valid: 1.0338, accuracy_valid: 0.5846, 7.6377sec\n",
      "epoch: 2, loss_train: 0.7761, accuracy_train: 0.7357, loss_valid: 0.8749, accuracy_valid: 0.6954, 7.6413sec\n",
      "epoch: 3, loss_train: 0.6408, accuracy_train: 0.7741, loss_valid: 0.7875, accuracy_valid: 0.7186, 7.6401sec\n",
      "epoch: 4, loss_train: 0.5322, accuracy_train: 0.8222, loss_valid: 0.7163, accuracy_valid: 0.7507, 7.6521sec\n",
      "epoch: 5, loss_train: 0.4473, accuracy_train: 0.8420, loss_valid: 0.6708, accuracy_valid: 0.7567, 7.6189sec\n",
      "epoch: 6, loss_train: 0.3746, accuracy_train: 0.8797, loss_valid: 0.6413, accuracy_valid: 0.7769, 7.6258sec\n",
      "epoch: 7, loss_train: 0.3198, accuracy_train: 0.8972, loss_valid: 0.6116, accuracy_valid: 0.7859, 7.6807sec\n",
      "epoch: 8, loss_train: 0.2708, accuracy_train: 0.9156, loss_valid: 0.5824, accuracy_valid: 0.7919, 7.6443sec\n",
      "epoch: 9, loss_train: 0.2288, accuracy_train: 0.9410, loss_valid: 0.5619, accuracy_valid: 0.8031, 7.6276sec\n",
      "epoch: 10, loss_train: 0.1958, accuracy_train: 0.9581, loss_valid: 0.5465, accuracy_valid: 0.8039, 7.6156sec\n",
      "epoch: 11, loss_train: 0.1775, accuracy_train: 0.9486, loss_valid: 0.5326, accuracy_valid: 0.8024, 7.6543sec\n",
      "epoch: 12, loss_train: 0.1465, accuracy_train: 0.9708, loss_valid: 0.5278, accuracy_valid: 0.8106, 7.6712sec\n",
      "epoch: 13, loss_train: 0.1289, accuracy_train: 0.9802, loss_valid: 0.5198, accuracy_valid: 0.8144, 7.6267sec\n",
      "epoch: 14, loss_train: 0.1140, accuracy_train: 0.9825, loss_valid: 0.5111, accuracy_valid: 0.8211, 7.6394sec\n",
      "epoch: 15, loss_train: 0.0991, accuracy_train: 0.9895, loss_valid: 0.5148, accuracy_valid: 0.8204, 7.6646sec\n",
      "epoch: 16, loss_train: 0.0883, accuracy_train: 0.9916, loss_valid: 0.5108, accuracy_valid: 0.8301, 7.6429sec\n",
      "epoch: 17, loss_train: 0.0786, accuracy_train: 0.9912, loss_valid: 0.5023, accuracy_valid: 0.8226, 7.5656sec\n",
      "epoch: 18, loss_train: 0.0707, accuracy_train: 0.9949, loss_valid: 0.4988, accuracy_valid: 0.8338, 7.6123sec\n",
      "epoch: 19, loss_train: 0.0660, accuracy_train: 0.9950, loss_valid: 0.5097, accuracy_valid: 0.8308, 7.6128sec\n",
      "epoch: 20, loss_train: 0.0591, accuracy_train: 0.9967, loss_valid: 0.5035, accuracy_valid: 0.8346, 7.6028sec\n",
      "epoch: 21, loss_train: 0.0545, accuracy_train: 0.9967, loss_valid: 0.5007, accuracy_valid: 0.8293, 7.5741sec\n",
      "epoch: 22, loss_train: 0.0512, accuracy_train: 0.9966, loss_valid: 0.4977, accuracy_valid: 0.8271, 7.6092sec\n",
      "epoch: 23, loss_train: 0.0471, accuracy_train: 0.9967, loss_valid: 0.4976, accuracy_valid: 0.8271, 7.5843sec\n",
      "epoch: 24, loss_train: 0.0458, accuracy_train: 0.9972, loss_valid: 0.4913, accuracy_valid: 0.8338, 7.5726sec\n",
      "epoch: 25, loss_train: 0.0415, accuracy_train: 0.9977, loss_valid: 0.4962, accuracy_valid: 0.8323, 7.5927sec\n",
      "epoch: 26, loss_train: 0.0401, accuracy_train: 0.9978, loss_valid: 0.4901, accuracy_valid: 0.8368, 7.6082sec\n",
      "epoch: 27, loss_train: 0.0375, accuracy_train: 0.9981, loss_valid: 0.4869, accuracy_valid: 0.8361, 7.5930sec\n",
      "epoch: 28, loss_train: 0.0363, accuracy_train: 0.9981, loss_valid: 0.4945, accuracy_valid: 0.8413, 7.6360sec\n",
      "epoch: 29, loss_train: 0.0344, accuracy_train: 0.9981, loss_valid: 0.4841, accuracy_valid: 0.8376, 7.5861sec\n"
     ]
    },
    {
     "name": "stderr",
     "output_type": "stream",
     "text": [
      "\u001b[32m[I 2022-01-31 19:20:51,673]\u001b[0m Trial 41 finished with value: 0.4894165436152426 and parameters: {'emb_size': 100.0, 'out_channels': 150.0, 'drop_rate': 0.5, 'learning_rate': 0.03327726232961686, 'momentum': 0.9, 'batch_size': 128.0, 'min_lr': 0.012128645470630734}. Best is trial 40 with value: 0.47829401142125477.\u001b[0m\n"
     ]
    },
    {
     "name": "stdout",
     "output_type": "stream",
     "text": [
      "epoch: 30, loss_train: 0.0334, accuracy_train: 0.9980, loss_valid: 0.4894, accuracy_valid: 0.8338, 7.6052sec\n",
      "epoch: 1, loss_train: 0.9894, accuracy_train: 0.6487, loss_valid: 1.0214, accuracy_valid: 0.6220, 7.5968sec\n",
      "epoch: 2, loss_train: 0.8095, accuracy_train: 0.7273, loss_valid: 0.8940, accuracy_valid: 0.6856, 7.6001sec\n",
      "epoch: 3, loss_train: 0.6772, accuracy_train: 0.7653, loss_valid: 0.8091, accuracy_valid: 0.7021, 7.6456sec\n",
      "epoch: 4, loss_train: 0.5811, accuracy_train: 0.7858, loss_valid: 0.7488, accuracy_valid: 0.7275, 7.6196sec\n",
      "epoch: 5, loss_train: 0.4920, accuracy_train: 0.8188, loss_valid: 0.6954, accuracy_valid: 0.7522, 7.6030sec\n",
      "epoch: 6, loss_train: 0.4213, accuracy_train: 0.8599, loss_valid: 0.6609, accuracy_valid: 0.7642, 7.6020sec\n",
      "epoch: 7, loss_train: 0.3598, accuracy_train: 0.8819, loss_valid: 0.6256, accuracy_valid: 0.7867, 7.6251sec\n",
      "epoch: 8, loss_train: 0.3045, accuracy_train: 0.9042, loss_valid: 0.5895, accuracy_valid: 0.7882, 7.6119sec\n",
      "epoch: 9, loss_train: 0.2589, accuracy_train: 0.9241, loss_valid: 0.5662, accuracy_valid: 0.8001, 7.5851sec\n",
      "epoch: 10, loss_train: 0.2262, accuracy_train: 0.9502, loss_valid: 0.5628, accuracy_valid: 0.8144, 7.6033sec\n",
      "epoch: 11, loss_train: 0.1902, accuracy_train: 0.9648, loss_valid: 0.5403, accuracy_valid: 0.8219, 7.6280sec\n",
      "epoch: 12, loss_train: 0.1643, accuracy_train: 0.9666, loss_valid: 0.5236, accuracy_valid: 0.8159, 7.6128sec\n",
      "epoch: 13, loss_train: 0.1418, accuracy_train: 0.9790, loss_valid: 0.5263, accuracy_valid: 0.8219, 7.5998sec\n",
      "epoch: 14, loss_train: 0.1277, accuracy_train: 0.9784, loss_valid: 0.5067, accuracy_valid: 0.8211, 7.6961sec\n",
      "epoch: 15, loss_train: 0.1126, accuracy_train: 0.9862, loss_valid: 0.5175, accuracy_valid: 0.8196, 7.6271sec\n",
      "epoch: 16, loss_train: 0.0972, accuracy_train: 0.9870, loss_valid: 0.5024, accuracy_valid: 0.8278, 7.6223sec\n",
      "epoch: 17, loss_train: 0.0862, accuracy_train: 0.9917, loss_valid: 0.5024, accuracy_valid: 0.8346, 7.6273sec\n",
      "epoch: 18, loss_train: 0.0785, accuracy_train: 0.9936, loss_valid: 0.4945, accuracy_valid: 0.8301, 7.6510sec\n",
      "epoch: 19, loss_train: 0.0737, accuracy_train: 0.9939, loss_valid: 0.4975, accuracy_valid: 0.8368, 7.6363sec\n",
      "epoch: 20, loss_train: 0.0679, accuracy_train: 0.9940, loss_valid: 0.4902, accuracy_valid: 0.8368, 7.6296sec\n",
      "epoch: 21, loss_train: 0.0614, accuracy_train: 0.9956, loss_valid: 0.4935, accuracy_valid: 0.8398, 7.6897sec\n",
      "epoch: 22, loss_train: 0.0552, accuracy_train: 0.9956, loss_valid: 0.4897, accuracy_valid: 0.8398, 7.6390sec\n",
      "epoch: 23, loss_train: 0.0506, accuracy_train: 0.9966, loss_valid: 0.4929, accuracy_valid: 0.8353, 7.6325sec\n",
      "epoch: 24, loss_train: 0.0473, accuracy_train: 0.9967, loss_valid: 0.4910, accuracy_valid: 0.8338, 7.6527sec\n",
      "epoch: 25, loss_train: 0.0430, accuracy_train: 0.9971, loss_valid: 0.4888, accuracy_valid: 0.8406, 7.6796sec\n",
      "epoch: 26, loss_train: 0.0407, accuracy_train: 0.9974, loss_valid: 0.4843, accuracy_valid: 0.8406, 7.6041sec\n",
      "epoch: 27, loss_train: 0.0378, accuracy_train: 0.9983, loss_valid: 0.4883, accuracy_valid: 0.8376, 7.5910sec\n",
      "epoch: 28, loss_train: 0.0356, accuracy_train: 0.9981, loss_valid: 0.4898, accuracy_valid: 0.8421, 7.6141sec\n",
      "epoch: 29, loss_train: 0.0337, accuracy_train: 0.9983, loss_valid: 0.4781, accuracy_valid: 0.8406, 7.6543sec\n"
     ]
    },
    {
     "name": "stderr",
     "output_type": "stream",
     "text": [
      "\u001b[32m[I 2022-01-31 19:24:40,499]\u001b[0m Trial 42 finished with value: 0.4792954047289547 and parameters: {'emb_size': 100.0, 'out_channels': 150.0, 'drop_rate': 0.5, 'learning_rate': 0.02849052916589668, 'momentum': 0.9, 'batch_size': 128.0, 'min_lr': 0.016887415890325847}. Best is trial 40 with value: 0.47829401142125477.\u001b[0m\n"
     ]
    },
    {
     "name": "stdout",
     "output_type": "stream",
     "text": [
      "epoch: 30, loss_train: 0.0325, accuracy_train: 0.9981, loss_valid: 0.4793, accuracy_valid: 0.8481, 7.5988sec\n",
      "epoch: 1, loss_train: 0.9959, accuracy_train: 0.6420, loss_valid: 1.0298, accuracy_valid: 0.6287, 7.5910sec\n",
      "epoch: 2, loss_train: 0.8060, accuracy_train: 0.7268, loss_valid: 0.8917, accuracy_valid: 0.6871, 7.6163sec\n",
      "epoch: 3, loss_train: 0.6829, accuracy_train: 0.7597, loss_valid: 0.8043, accuracy_valid: 0.7058, 7.5886sec\n",
      "epoch: 4, loss_train: 0.5838, accuracy_train: 0.7927, loss_valid: 0.7518, accuracy_valid: 0.7238, 7.5734sec\n",
      "epoch: 5, loss_train: 0.4925, accuracy_train: 0.8235, loss_valid: 0.6940, accuracy_valid: 0.7515, 7.5932sec\n",
      "epoch: 6, loss_train: 0.4186, accuracy_train: 0.8559, loss_valid: 0.6596, accuracy_valid: 0.7612, 7.6011sec\n",
      "epoch: 7, loss_train: 0.3581, accuracy_train: 0.8861, loss_valid: 0.6222, accuracy_valid: 0.7912, 7.5842sec\n",
      "epoch: 8, loss_train: 0.3119, accuracy_train: 0.8889, loss_valid: 0.5939, accuracy_valid: 0.7859, 7.5848sec\n",
      "epoch: 9, loss_train: 0.2590, accuracy_train: 0.9293, loss_valid: 0.5726, accuracy_valid: 0.8076, 7.6157sec\n",
      "epoch: 10, loss_train: 0.2287, accuracy_train: 0.9492, loss_valid: 0.5656, accuracy_valid: 0.8204, 7.5867sec\n",
      "epoch: 11, loss_train: 0.1931, accuracy_train: 0.9506, loss_valid: 0.5390, accuracy_valid: 0.8219, 7.5872sec\n",
      "epoch: 12, loss_train: 0.1645, accuracy_train: 0.9653, loss_valid: 0.5284, accuracy_valid: 0.8278, 7.5858sec\n",
      "epoch: 13, loss_train: 0.1419, accuracy_train: 0.9801, loss_valid: 0.5271, accuracy_valid: 0.8256, 7.5904sec\n",
      "epoch: 14, loss_train: 0.1215, accuracy_train: 0.9837, loss_valid: 0.5161, accuracy_valid: 0.8241, 7.5742sec\n",
      "epoch: 15, loss_train: 0.1063, accuracy_train: 0.9852, loss_valid: 0.5034, accuracy_valid: 0.8308, 7.6142sec\n",
      "epoch: 16, loss_train: 0.0940, accuracy_train: 0.9896, loss_valid: 0.5030, accuracy_valid: 0.8316, 7.6236sec\n",
      "epoch: 17, loss_train: 0.0881, accuracy_train: 0.9926, loss_valid: 0.4990, accuracy_valid: 0.8323, 7.5949sec\n",
      "epoch: 18, loss_train: 0.0748, accuracy_train: 0.9939, loss_valid: 0.4953, accuracy_valid: 0.8308, 7.5764sec\n",
      "epoch: 19, loss_train: 0.0667, accuracy_train: 0.9943, loss_valid: 0.4939, accuracy_valid: 0.8301, 7.5819sec\n",
      "epoch: 20, loss_train: 0.0613, accuracy_train: 0.9951, loss_valid: 0.4987, accuracy_valid: 0.8293, 7.5901sec\n",
      "epoch: 21, loss_train: 0.0580, accuracy_train: 0.9950, loss_valid: 0.5081, accuracy_valid: 0.8391, 7.5746sec\n",
      "epoch: 22, loss_train: 0.0504, accuracy_train: 0.9965, loss_valid: 0.4965, accuracy_valid: 0.8398, 7.5786sec\n",
      "epoch: 23, loss_train: 0.0475, accuracy_train: 0.9965, loss_valid: 0.4941, accuracy_valid: 0.8368, 7.6020sec\n",
      "epoch: 24, loss_train: 0.0442, accuracy_train: 0.9969, loss_valid: 0.4879, accuracy_valid: 0.8383, 7.6071sec\n",
      "epoch: 25, loss_train: 0.0408, accuracy_train: 0.9975, loss_valid: 0.4935, accuracy_valid: 0.8406, 7.5889sec\n",
      "epoch: 26, loss_train: 0.0373, accuracy_train: 0.9978, loss_valid: 0.4847, accuracy_valid: 0.8466, 7.5896sec\n",
      "epoch: 27, loss_train: 0.0358, accuracy_train: 0.9980, loss_valid: 0.4865, accuracy_valid: 0.8406, 7.6222sec\n",
      "epoch: 28, loss_train: 0.0339, accuracy_train: 0.9980, loss_valid: 0.4913, accuracy_valid: 0.8436, 7.6023sec\n"
     ]
    },
    {
     "name": "stderr",
     "output_type": "stream",
     "text": [
      "\u001b[32m[I 2022-01-31 19:28:20,726]\u001b[0m Trial 43 finished with value: 0.49220786919715326 and parameters: {'emb_size': 100.0, 'out_channels': 150.0, 'drop_rate': 0.5, 'learning_rate': 0.029010884617006908, 'momentum': 0.9, 'batch_size': 128.0, 'min_lr': 0.02017048027558604}. Best is trial 40 with value: 0.47829401142125477.\u001b[0m\n"
     ]
    },
    {
     "name": "stdout",
     "output_type": "stream",
     "text": [
      "epoch: 29, loss_train: 0.0316, accuracy_train: 0.9979, loss_valid: 0.4922, accuracy_valid: 0.8413, 7.5613sec\n",
      "epoch: 1, loss_train: 1.0519, accuracy_train: 0.5628, loss_valid: 1.0741, accuracy_valid: 0.5606, 7.5918sec\n",
      "epoch: 2, loss_train: 0.9144, accuracy_train: 0.6854, loss_valid: 0.9736, accuracy_valid: 0.6497, 7.6324sec\n",
      "epoch: 3, loss_train: 0.7904, accuracy_train: 0.7317, loss_valid: 0.8821, accuracy_valid: 0.6909, 7.5863sec\n",
      "epoch: 4, loss_train: 0.6930, accuracy_train: 0.7602, loss_valid: 0.8120, accuracy_valid: 0.7186, 7.5756sec\n",
      "epoch: 5, loss_train: 0.6093, accuracy_train: 0.7839, loss_valid: 0.7620, accuracy_valid: 0.7283, 7.6096sec\n",
      "epoch: 6, loss_train: 0.5364, accuracy_train: 0.8149, loss_valid: 0.7213, accuracy_valid: 0.7440, 7.5847sec\n",
      "epoch: 7, loss_train: 0.4708, accuracy_train: 0.8375, loss_valid: 0.6785, accuracy_valid: 0.7567, 7.5888sec\n",
      "epoch: 8, loss_train: 0.4120, accuracy_train: 0.8694, loss_valid: 0.6483, accuracy_valid: 0.7769, 7.6018sec\n",
      "epoch: 9, loss_train: 0.3583, accuracy_train: 0.8840, loss_valid: 0.6156, accuracy_valid: 0.7837, 7.6143sec\n",
      "epoch: 10, loss_train: 0.3201, accuracy_train: 0.9157, loss_valid: 0.6052, accuracy_valid: 0.7949, 7.5892sec\n",
      "epoch: 11, loss_train: 0.2798, accuracy_train: 0.9172, loss_valid: 0.5825, accuracy_valid: 0.7964, 7.5758sec\n",
      "epoch: 12, loss_train: 0.2375, accuracy_train: 0.9386, loss_valid: 0.5593, accuracy_valid: 0.8084, 7.6068sec\n",
      "epoch: 13, loss_train: 0.2072, accuracy_train: 0.9491, loss_valid: 0.5352, accuracy_valid: 0.8181, 7.5868sec\n",
      "epoch: 14, loss_train: 0.1854, accuracy_train: 0.9572, loss_valid: 0.5355, accuracy_valid: 0.8166, 7.5906sec\n",
      "epoch: 15, loss_train: 0.1626, accuracy_train: 0.9733, loss_valid: 0.5293, accuracy_valid: 0.8091, 7.5982sec\n",
      "epoch: 16, loss_train: 0.1405, accuracy_train: 0.9787, loss_valid: 0.5150, accuracy_valid: 0.8286, 7.6164sec\n",
      "epoch: 17, loss_train: 0.1200, accuracy_train: 0.9816, loss_valid: 0.5117, accuracy_valid: 0.8241, 7.6002sec\n",
      "epoch: 18, loss_train: 0.1088, accuracy_train: 0.9836, loss_valid: 0.5004, accuracy_valid: 0.8219, 7.6058sec\n",
      "epoch: 19, loss_train: 0.0964, accuracy_train: 0.9858, loss_valid: 0.5053, accuracy_valid: 0.8249, 7.6127sec\n",
      "epoch: 20, loss_train: 0.0859, accuracy_train: 0.9904, loss_valid: 0.5049, accuracy_valid: 0.8234, 7.6139sec\n",
      "epoch: 21, loss_train: 0.0756, accuracy_train: 0.9926, loss_valid: 0.5019, accuracy_valid: 0.8383, 7.6046sec\n",
      "epoch: 22, loss_train: 0.0682, accuracy_train: 0.9938, loss_valid: 0.4987, accuracy_valid: 0.8271, 7.5924sec\n",
      "epoch: 23, loss_train: 0.0600, accuracy_train: 0.9954, loss_valid: 0.4946, accuracy_valid: 0.8331, 7.7245sec\n",
      "epoch: 24, loss_train: 0.0543, accuracy_train: 0.9944, loss_valid: 0.4865, accuracy_valid: 0.8301, 7.5962sec\n",
      "epoch: 25, loss_train: 0.0469, accuracy_train: 0.9963, loss_valid: 0.4846, accuracy_valid: 0.8338, 8.0645sec\n",
      "epoch: 26, loss_train: 0.0442, accuracy_train: 0.9963, loss_valid: 0.5094, accuracy_valid: 0.8256, 7.6830sec\n",
      "epoch: 27, loss_train: 0.0402, accuracy_train: 0.9971, loss_valid: 0.4997, accuracy_valid: 0.8308, 7.6484sec\n",
      "epoch: 28, loss_train: 0.0386, accuracy_train: 0.9965, loss_valid: 0.5037, accuracy_valid: 0.8346, 7.6125sec\n",
      "epoch: 29, loss_train: 0.0341, accuracy_train: 0.9966, loss_valid: 0.4944, accuracy_valid: 0.8331, 7.6066sec\n"
     ]
    },
    {
     "name": "stderr",
     "output_type": "stream",
     "text": [
      "\u001b[32m[I 2022-01-31 19:32:09,514]\u001b[0m Trial 44 finished with value: 0.5036338381255481 and parameters: {'emb_size': 100.0, 'out_channels': 150.0, 'drop_rate': 0.5, 'learning_rate': 0.01954242553360237, 'momentum': 0.9, 'batch_size': 128.0, 'min_lr': 0.031867111284802525}. Best is trial 40 with value: 0.47829401142125477.\u001b[0m\n"
     ]
    },
    {
     "name": "stdout",
     "output_type": "stream",
     "text": [
      "epoch: 30, loss_train: 0.0307, accuracy_train: 0.9975, loss_valid: 0.5036, accuracy_valid: 0.8406, 7.6264sec\n",
      "epoch: 1, loss_train: 1.0038, accuracy_train: 0.6012, loss_valid: 1.0376, accuracy_valid: 0.5928, 7.6053sec\n",
      "epoch: 2, loss_train: 0.8183, accuracy_train: 0.7234, loss_valid: 0.8993, accuracy_valid: 0.6744, 7.5754sec\n",
      "epoch: 3, loss_train: 0.7053, accuracy_train: 0.7553, loss_valid: 0.8263, accuracy_valid: 0.7156, 7.6036sec\n",
      "epoch: 4, loss_train: 0.5990, accuracy_train: 0.7886, loss_valid: 0.7597, accuracy_valid: 0.7246, 7.6157sec\n",
      "epoch: 5, loss_train: 0.5176, accuracy_train: 0.8158, loss_valid: 0.7076, accuracy_valid: 0.7365, 7.5735sec\n",
      "epoch: 6, loss_train: 0.4451, accuracy_train: 0.8438, loss_valid: 0.6734, accuracy_valid: 0.7560, 7.5946sec\n",
      "epoch: 7, loss_train: 0.3972, accuracy_train: 0.8692, loss_valid: 0.6464, accuracy_valid: 0.7680, 7.6003sec\n",
      "epoch: 8, loss_train: 0.3335, accuracy_train: 0.8797, loss_valid: 0.6057, accuracy_valid: 0.7829, 7.5870sec\n",
      "epoch: 9, loss_train: 0.2892, accuracy_train: 0.9031, loss_valid: 0.5864, accuracy_valid: 0.7792, 7.5861sec\n",
      "epoch: 10, loss_train: 0.2427, accuracy_train: 0.9418, loss_valid: 0.5684, accuracy_valid: 0.8054, 7.5844sec\n",
      "epoch: 11, loss_train: 0.2128, accuracy_train: 0.9430, loss_valid: 0.5418, accuracy_valid: 0.8084, 7.5895sec\n",
      "epoch: 12, loss_train: 0.1810, accuracy_train: 0.9563, loss_valid: 0.5406, accuracy_valid: 0.8174, 7.5778sec\n",
      "epoch: 13, loss_train: 0.1514, accuracy_train: 0.9699, loss_valid: 0.5199, accuracy_valid: 0.8249, 7.5772sec\n",
      "epoch: 14, loss_train: 0.1397, accuracy_train: 0.9674, loss_valid: 0.5128, accuracy_valid: 0.8271, 7.6060sec\n",
      "epoch: 15, loss_train: 0.1186, accuracy_train: 0.9806, loss_valid: 0.5334, accuracy_valid: 0.8211, 7.6120sec\n",
      "epoch: 16, loss_train: 0.1060, accuracy_train: 0.9808, loss_valid: 0.5254, accuracy_valid: 0.8278, 7.5851sec\n",
      "epoch: 17, loss_train: 0.0975, accuracy_train: 0.9849, loss_valid: 0.5297, accuracy_valid: 0.8166, 7.5979sec\n",
      "epoch: 18, loss_train: 0.0843, accuracy_train: 0.9861, loss_valid: 0.5388, accuracy_valid: 0.8234, 7.5957sec\n",
      "epoch: 19, loss_train: 0.0814, accuracy_train: 0.9862, loss_valid: 0.5311, accuracy_valid: 0.8249, 7.5868sec\n",
      "epoch: 20, loss_train: 0.0696, accuracy_train: 0.9887, loss_valid: 0.5195, accuracy_valid: 0.8331, 7.6446sec\n",
      "epoch: 21, loss_train: 0.0628, accuracy_train: 0.9890, loss_valid: 0.5472, accuracy_valid: 0.8301, 7.5976sec\n",
      "epoch: 22, loss_train: 0.0655, accuracy_train: 0.9881, loss_valid: 0.5532, accuracy_valid: 0.8219, 7.5808sec\n"
     ]
    },
    {
     "name": "stderr",
     "output_type": "stream",
     "text": [
      "\u001b[32m[I 2022-01-31 19:35:04,218]\u001b[0m Trial 45 finished with value: 0.5661340639684902 and parameters: {'emb_size': 100.0, 'out_channels': 100.0, 'drop_rate': 0.5, 'learning_rate': 0.02822946301284815, 'momentum': 0.9, 'batch_size': 128.0, 'min_lr': 0.09118568996049314}. Best is trial 40 with value: 0.47829401142125477.\u001b[0m\n"
     ]
    },
    {
     "name": "stdout",
     "output_type": "stream",
     "text": [
      "epoch: 23, loss_train: 0.0576, accuracy_train: 0.9908, loss_valid: 0.5661, accuracy_valid: 0.8166, 7.5810sec\n",
      "epoch: 1, loss_train: 1.0692, accuracy_train: 0.5556, loss_valid: 1.0899, accuracy_valid: 0.5524, 7.5976sec\n",
      "epoch: 2, loss_train: 0.9751, accuracy_train: 0.6487, loss_valid: 1.0128, accuracy_valid: 0.6213, 7.6270sec\n",
      "epoch: 3, loss_train: 0.8763, accuracy_train: 0.6991, loss_valid: 0.9369, accuracy_valid: 0.6677, 7.5972sec\n",
      "epoch: 4, loss_train: 0.7916, accuracy_train: 0.7323, loss_valid: 0.8773, accuracy_valid: 0.6954, 7.5828sec\n",
      "epoch: 5, loss_train: 0.7251, accuracy_train: 0.7549, loss_valid: 0.8368, accuracy_valid: 0.7051, 7.6209sec\n",
      "epoch: 6, loss_train: 0.6650, accuracy_train: 0.7720, loss_valid: 0.7980, accuracy_valid: 0.7156, 7.6021sec\n",
      "epoch: 7, loss_train: 0.6129, accuracy_train: 0.7851, loss_valid: 0.7687, accuracy_valid: 0.7238, 7.5789sec\n",
      "epoch: 8, loss_train: 0.5651, accuracy_train: 0.7975, loss_valid: 0.7369, accuracy_valid: 0.7275, 7.6269sec\n",
      "epoch: 9, loss_train: 0.5234, accuracy_train: 0.8153, loss_valid: 0.7076, accuracy_valid: 0.7418, 7.6741sec\n",
      "epoch: 10, loss_train: 0.4854, accuracy_train: 0.8360, loss_valid: 0.6869, accuracy_valid: 0.7522, 7.6311sec\n",
      "epoch: 11, loss_train: 0.4525, accuracy_train: 0.8469, loss_valid: 0.6644, accuracy_valid: 0.7642, 7.6288sec\n",
      "epoch: 12, loss_train: 0.4208, accuracy_train: 0.8610, loss_valid: 0.6476, accuracy_valid: 0.7665, 7.6524sec\n",
      "epoch: 13, loss_train: 0.3967, accuracy_train: 0.8755, loss_valid: 0.6442, accuracy_valid: 0.7784, 7.6436sec\n",
      "epoch: 14, loss_train: 0.3722, accuracy_train: 0.8800, loss_valid: 0.6205, accuracy_valid: 0.7814, 7.6233sec\n",
      "epoch: 15, loss_train: 0.3506, accuracy_train: 0.8885, loss_valid: 0.6074, accuracy_valid: 0.7867, 7.6328sec\n",
      "epoch: 16, loss_train: 0.3327, accuracy_train: 0.8960, loss_valid: 0.5999, accuracy_valid: 0.7964, 7.6424sec\n",
      "epoch: 17, loss_train: 0.3164, accuracy_train: 0.8992, loss_valid: 0.5844, accuracy_valid: 0.7994, 7.6361sec\n",
      "epoch: 18, loss_train: 0.3000, accuracy_train: 0.9188, loss_valid: 0.5843, accuracy_valid: 0.7994, 7.6192sec\n",
      "epoch: 19, loss_train: 0.2866, accuracy_train: 0.9241, loss_valid: 0.5747, accuracy_valid: 0.8061, 7.6518sec\n",
      "epoch: 20, loss_train: 0.2776, accuracy_train: 0.9229, loss_valid: 0.5688, accuracy_valid: 0.8091, 7.6516sec\n",
      "epoch: 21, loss_train: 0.2670, accuracy_train: 0.9284, loss_valid: 0.5625, accuracy_valid: 0.8091, 7.6117sec\n",
      "epoch: 22, loss_train: 0.2585, accuracy_train: 0.9358, loss_valid: 0.5557, accuracy_valid: 0.8129, 7.6115sec\n",
      "epoch: 23, loss_train: 0.2508, accuracy_train: 0.9375, loss_valid: 0.5540, accuracy_valid: 0.8151, 7.6418sec\n",
      "epoch: 24, loss_train: 0.2442, accuracy_train: 0.9404, loss_valid: 0.5518, accuracy_valid: 0.8129, 7.6353sec\n",
      "epoch: 25, loss_train: 0.2385, accuracy_train: 0.9421, loss_valid: 0.5487, accuracy_valid: 0.8099, 7.5986sec\n",
      "epoch: 26, loss_train: 0.2331, accuracy_train: 0.9458, loss_valid: 0.5447, accuracy_valid: 0.8151, 7.6341sec\n",
      "epoch: 27, loss_train: 0.2291, accuracy_train: 0.9508, loss_valid: 0.5480, accuracy_valid: 0.8129, 7.6276sec\n",
      "epoch: 28, loss_train: 0.2251, accuracy_train: 0.9477, loss_valid: 0.5406, accuracy_valid: 0.8151, 7.6470sec\n",
      "epoch: 29, loss_train: 0.2217, accuracy_train: 0.9516, loss_valid: 0.5400, accuracy_valid: 0.8129, 7.6104sec\n"
     ]
    },
    {
     "name": "stderr",
     "output_type": "stream",
     "text": [
      "\u001b[32m[I 2022-01-31 19:38:53,059]\u001b[0m Trial 46 finished with value: 0.5394539149956115 and parameters: {'emb_size': 100.0, 'out_channels': 150.0, 'drop_rate': 0.5, 'learning_rate': 0.0117273076075863, 'momentum': 0.9, 'batch_size': 112.0, 'min_lr': 0.0017837826039431173}. Best is trial 40 with value: 0.47829401142125477.\u001b[0m\n"
     ]
    },
    {
     "name": "stdout",
     "output_type": "stream",
     "text": [
      "epoch: 30, loss_train: 0.2186, accuracy_train: 0.9522, loss_valid: 0.5395, accuracy_valid: 0.8114, 7.6551sec\n",
      "epoch: 1, loss_train: 0.8841, accuracy_train: 0.6962, loss_valid: 0.9426, accuracy_valid: 0.6617, 7.5952sec\n",
      "epoch: 2, loss_train: 0.6993, accuracy_train: 0.7441, loss_valid: 0.8403, accuracy_valid: 0.6804, 7.5995sec\n",
      "epoch: 3, loss_train: 0.5419, accuracy_train: 0.8039, loss_valid: 0.7308, accuracy_valid: 0.7208, 7.6158sec\n",
      "epoch: 4, loss_train: 0.4363, accuracy_train: 0.8549, loss_valid: 0.6795, accuracy_valid: 0.7582, 7.6331sec\n",
      "epoch: 5, loss_train: 0.3329, accuracy_train: 0.8927, loss_valid: 0.6107, accuracy_valid: 0.7897, 7.5829sec\n",
      "epoch: 6, loss_train: 0.2647, accuracy_train: 0.9265, loss_valid: 0.5799, accuracy_valid: 0.7964, 7.6048sec\n",
      "epoch: 7, loss_train: 0.2091, accuracy_train: 0.9503, loss_valid: 0.5474, accuracy_valid: 0.8166, 7.6128sec\n",
      "epoch: 8, loss_train: 0.1722, accuracy_train: 0.9651, loss_valid: 0.5323, accuracy_valid: 0.8174, 7.5924sec\n",
      "epoch: 9, loss_train: 0.1407, accuracy_train: 0.9773, loss_valid: 0.5263, accuracy_valid: 0.8219, 7.5926sec\n",
      "epoch: 10, loss_train: 0.1169, accuracy_train: 0.9833, loss_valid: 0.5229, accuracy_valid: 0.8174, 7.6171sec\n",
      "epoch: 11, loss_train: 0.0977, accuracy_train: 0.9857, loss_valid: 0.5069, accuracy_valid: 0.8256, 7.6403sec\n",
      "epoch: 12, loss_train: 0.0824, accuracy_train: 0.9872, loss_valid: 0.4993, accuracy_valid: 0.8323, 7.5824sec\n",
      "epoch: 13, loss_train: 0.0700, accuracy_train: 0.9920, loss_valid: 0.4945, accuracy_valid: 0.8308, 7.6003sec\n",
      "epoch: 14, loss_train: 0.0615, accuracy_train: 0.9937, loss_valid: 0.4992, accuracy_valid: 0.8331, 7.6442sec\n",
      "epoch: 15, loss_train: 0.0538, accuracy_train: 0.9946, loss_valid: 0.5039, accuracy_valid: 0.8368, 7.6000sec\n",
      "epoch: 16, loss_train: 0.0475, accuracy_train: 0.9957, loss_valid: 0.4928, accuracy_valid: 0.8338, 7.5987sec\n",
      "epoch: 17, loss_train: 0.0437, accuracy_train: 0.9952, loss_valid: 0.4903, accuracy_valid: 0.8338, 7.6202sec\n",
      "epoch: 18, loss_train: 0.0393, accuracy_train: 0.9969, loss_valid: 0.4941, accuracy_valid: 0.8338, 7.6117sec\n",
      "epoch: 19, loss_train: 0.0348, accuracy_train: 0.9968, loss_valid: 0.4963, accuracy_valid: 0.8368, 7.5949sec\n"
     ]
    },
    {
     "name": "stderr",
     "output_type": "stream",
     "text": [
      "\u001b[32m[I 2022-01-31 19:41:25,225]\u001b[0m Trial 47 finished with value: 0.5001276683304459 and parameters: {'emb_size': 100.0, 'out_channels': 150.0, 'drop_rate': 0.5, 'learning_rate': 0.04993309089478649, 'momentum': 0.9, 'batch_size': 128.0, 'min_lr': 0.015988253749345645}. Best is trial 40 with value: 0.47829401142125477.\u001b[0m\n"
     ]
    },
    {
     "name": "stdout",
     "output_type": "stream",
     "text": [
      "epoch: 20, loss_train: 0.0331, accuracy_train: 0.9965, loss_valid: 0.5001, accuracy_valid: 0.8383, 7.5827sec\n",
      "epoch: 1, loss_train: 1.0187, accuracy_train: 0.5986, loss_valid: 1.0528, accuracy_valid: 0.5936, 7.6205sec\n",
      "epoch: 2, loss_train: 0.8410, accuracy_train: 0.7186, loss_valid: 0.9108, accuracy_valid: 0.6826, 7.6044sec\n",
      "epoch: 3, loss_train: 0.7330, accuracy_train: 0.7374, loss_valid: 0.8506, accuracy_valid: 0.6796, 7.5896sec\n",
      "epoch: 4, loss_train: 0.6275, accuracy_train: 0.7746, loss_valid: 0.7740, accuracy_valid: 0.7253, 7.5955sec\n",
      "epoch: 5, loss_train: 0.5386, accuracy_train: 0.8084, loss_valid: 0.7228, accuracy_valid: 0.7433, 7.6302sec\n",
      "epoch: 6, loss_train: 0.4651, accuracy_train: 0.8413, loss_valid: 0.6824, accuracy_valid: 0.7597, 7.5936sec\n",
      "epoch: 7, loss_train: 0.4010, accuracy_train: 0.8663, loss_valid: 0.6441, accuracy_valid: 0.7754, 7.5895sec\n",
      "epoch: 8, loss_train: 0.3512, accuracy_train: 0.8854, loss_valid: 0.6149, accuracy_valid: 0.7897, 7.6052sec\n",
      "epoch: 9, loss_train: 0.3056, accuracy_train: 0.8948, loss_valid: 0.5914, accuracy_valid: 0.7987, 7.6159sec\n",
      "epoch: 10, loss_train: 0.2647, accuracy_train: 0.9220, loss_valid: 0.5787, accuracy_valid: 0.8069, 7.5996sec\n",
      "epoch: 11, loss_train: 0.2245, accuracy_train: 0.9541, loss_valid: 0.5594, accuracy_valid: 0.8084, 7.6073sec\n",
      "epoch: 12, loss_train: 0.1977, accuracy_train: 0.9588, loss_valid: 0.5547, accuracy_valid: 0.8106, 7.6128sec\n",
      "epoch: 13, loss_train: 0.1707, accuracy_train: 0.9733, loss_valid: 0.5350, accuracy_valid: 0.8234, 7.5965sec\n",
      "epoch: 14, loss_train: 0.1474, accuracy_train: 0.9776, loss_valid: 0.5311, accuracy_valid: 0.8308, 7.6040sec\n",
      "epoch: 15, loss_train: 0.1279, accuracy_train: 0.9831, loss_valid: 0.5344, accuracy_valid: 0.8129, 7.6171sec\n",
      "epoch: 16, loss_train: 0.1142, accuracy_train: 0.9861, loss_valid: 0.5284, accuracy_valid: 0.8166, 7.6238sec\n",
      "epoch: 17, loss_train: 0.1001, accuracy_train: 0.9862, loss_valid: 0.5254, accuracy_valid: 0.8174, 7.5913sec\n",
      "epoch: 18, loss_train: 0.0873, accuracy_train: 0.9900, loss_valid: 0.5249, accuracy_valid: 0.8241, 7.6232sec\n",
      "epoch: 19, loss_train: 0.0757, accuracy_train: 0.9918, loss_valid: 0.5185, accuracy_valid: 0.8263, 7.6387sec\n",
      "epoch: 20, loss_train: 0.0715, accuracy_train: 0.9931, loss_valid: 0.5204, accuracy_valid: 0.8316, 7.6183sec\n",
      "epoch: 21, loss_train: 0.0593, accuracy_train: 0.9954, loss_valid: 0.5101, accuracy_valid: 0.8256, 7.6014sec\n",
      "epoch: 22, loss_train: 0.0563, accuracy_train: 0.9949, loss_valid: 0.5072, accuracy_valid: 0.8421, 7.6124sec\n",
      "epoch: 23, loss_train: 0.0527, accuracy_train: 0.9952, loss_valid: 0.5177, accuracy_valid: 0.8331, 7.6334sec\n",
      "epoch: 24, loss_train: 0.0450, accuracy_train: 0.9965, loss_valid: 0.5198, accuracy_valid: 0.8286, 7.6072sec\n",
      "epoch: 25, loss_train: 0.0416, accuracy_train: 0.9962, loss_valid: 0.5085, accuracy_valid: 0.8301, 7.6000sec\n",
      "epoch: 26, loss_train: 0.0370, accuracy_train: 0.9970, loss_valid: 0.5127, accuracy_valid: 0.8436, 7.6608sec\n",
      "epoch: 27, loss_train: 0.0367, accuracy_train: 0.9967, loss_valid: 0.5184, accuracy_valid: 0.8346, 7.6117sec\n",
      "epoch: 28, loss_train: 0.0335, accuracy_train: 0.9965, loss_valid: 0.5149, accuracy_valid: 0.8361, 7.6052sec\n",
      "epoch: 29, loss_train: 0.0300, accuracy_train: 0.9974, loss_valid: 0.5198, accuracy_valid: 0.8361, 7.6227sec\n"
     ]
    },
    {
     "name": "stderr",
     "output_type": "stream",
     "text": [
      "\u001b[32m[I 2022-01-31 19:45:13,642]\u001b[0m Trial 48 finished with value: 0.528180202732104 and parameters: {'emb_size': 200.0, 'out_channels': 150.0, 'drop_rate': 0.5, 'learning_rate': 0.02120407213379293, 'momentum': 0.9, 'batch_size': 112.0, 'min_lr': 0.02882104727995301}. Best is trial 40 with value: 0.47829401142125477.\u001b[0m\n"
     ]
    },
    {
     "name": "stdout",
     "output_type": "stream",
     "text": [
      "epoch: 30, loss_train: 0.0279, accuracy_train: 0.9974, loss_valid: 0.5282, accuracy_valid: 0.8398, 7.6382sec\n",
      "epoch: 1, loss_train: 0.9571, accuracy_train: 0.6551, loss_valid: 1.0034, accuracy_valid: 0.6190, 7.5983sec\n",
      "epoch: 2, loss_train: 0.7539, accuracy_train: 0.7355, loss_valid: 0.8481, accuracy_valid: 0.6939, 7.5787sec\n",
      "epoch: 3, loss_train: 0.6152, accuracy_train: 0.7819, loss_valid: 0.7675, accuracy_valid: 0.7223, 7.5873sec\n",
      "epoch: 4, loss_train: 0.4994, accuracy_train: 0.8264, loss_valid: 0.6894, accuracy_valid: 0.7567, 7.6091sec\n",
      "epoch: 5, loss_train: 0.4176, accuracy_train: 0.8574, loss_valid: 0.6470, accuracy_valid: 0.7680, 7.5756sec\n",
      "epoch: 6, loss_train: 0.3437, accuracy_train: 0.8858, loss_valid: 0.6136, accuracy_valid: 0.7792, 7.5912sec\n",
      "epoch: 7, loss_train: 0.2913, accuracy_train: 0.9053, loss_valid: 0.5911, accuracy_valid: 0.7904, 7.6246sec\n",
      "epoch: 8, loss_train: 0.2488, accuracy_train: 0.9346, loss_valid: 0.5636, accuracy_valid: 0.8009, 7.6355sec\n",
      "epoch: 9, loss_train: 0.2086, accuracy_train: 0.9485, loss_valid: 0.5462, accuracy_valid: 0.7972, 7.5764sec\n",
      "epoch: 10, loss_train: 0.1773, accuracy_train: 0.9598, loss_valid: 0.5309, accuracy_valid: 0.8091, 7.5942sec\n",
      "epoch: 11, loss_train: 0.1521, accuracy_train: 0.9697, loss_valid: 0.5260, accuracy_valid: 0.8219, 7.6068sec\n",
      "epoch: 12, loss_train: 0.1344, accuracy_train: 0.9791, loss_valid: 0.5228, accuracy_valid: 0.8099, 7.5946sec\n",
      "epoch: 13, loss_train: 0.1173, accuracy_train: 0.9833, loss_valid: 0.5158, accuracy_valid: 0.8181, 7.6001sec\n",
      "epoch: 14, loss_train: 0.1033, accuracy_train: 0.9868, loss_valid: 0.5077, accuracy_valid: 0.8219, 7.6186sec\n",
      "epoch: 15, loss_train: 0.0914, accuracy_train: 0.9870, loss_valid: 0.5070, accuracy_valid: 0.8234, 7.5972sec\n",
      "epoch: 16, loss_train: 0.0829, accuracy_train: 0.9902, loss_valid: 0.5084, accuracy_valid: 0.8211, 7.5864sec\n",
      "epoch: 17, loss_train: 0.0723, accuracy_train: 0.9937, loss_valid: 0.4958, accuracy_valid: 0.8331, 7.5939sec\n",
      "epoch: 18, loss_train: 0.0677, accuracy_train: 0.9937, loss_valid: 0.5036, accuracy_valid: 0.8226, 7.6217sec\n",
      "epoch: 19, loss_train: 0.0606, accuracy_train: 0.9955, loss_valid: 0.4923, accuracy_valid: 0.8308, 7.5921sec\n",
      "epoch: 20, loss_train: 0.0584, accuracy_train: 0.9945, loss_valid: 0.4925, accuracy_valid: 0.8331, 7.5821sec\n",
      "epoch: 21, loss_train: 0.0533, accuracy_train: 0.9963, loss_valid: 0.4880, accuracy_valid: 0.8308, 7.5833sec\n",
      "epoch: 22, loss_train: 0.0502, accuracy_train: 0.9965, loss_valid: 0.4906, accuracy_valid: 0.8256, 7.6243sec\n",
      "epoch: 23, loss_train: 0.0465, accuracy_train: 0.9970, loss_valid: 0.4893, accuracy_valid: 0.8398, 7.5827sec\n",
      "epoch: 24, loss_train: 0.0441, accuracy_train: 0.9973, loss_valid: 0.4874, accuracy_valid: 0.8338, 7.5826sec\n",
      "epoch: 25, loss_train: 0.0418, accuracy_train: 0.9973, loss_valid: 0.4925, accuracy_valid: 0.8278, 7.5979sec\n",
      "epoch: 26, loss_train: 0.0404, accuracy_train: 0.9979, loss_valid: 0.4850, accuracy_valid: 0.8376, 7.6112sec\n",
      "epoch: 27, loss_train: 0.0385, accuracy_train: 0.9979, loss_valid: 0.4858, accuracy_valid: 0.8368, 7.5979sec\n",
      "epoch: 28, loss_train: 0.0370, accuracy_train: 0.9974, loss_valid: 0.4849, accuracy_valid: 0.8406, 7.6849sec\n",
      "epoch: 29, loss_train: 0.0361, accuracy_train: 0.9974, loss_valid: 0.4846, accuracy_valid: 0.8398, 7.6369sec\n"
     ]
    },
    {
     "name": "stderr",
     "output_type": "stream",
     "text": [
      "\u001b[32m[I 2022-01-31 19:49:01,766]\u001b[0m Trial 49 finished with value: 0.4859130257650926 and parameters: {'emb_size': 200.0, 'out_channels': 100.0, 'drop_rate': 0.4, 'learning_rate': 0.036127258591402374, 'momentum': 0.9, 'batch_size': 128.0, 'min_lr': 0.009224559985170489}. Best is trial 40 with value: 0.47829401142125477.\u001b[0m\n"
     ]
    },
    {
     "name": "stdout",
     "output_type": "stream",
     "text": [
      "epoch: 30, loss_train: 0.0347, accuracy_train: 0.9975, loss_valid: 0.4859, accuracy_valid: 0.8353, 7.6119sec\n"
     ]
    }
   ],
   "source": [
    "# 最適化\n",
    "study = optuna.create_study()\n",
    "study.optimize(objective, timeout=10800)"
   ]
  },
  {
   "cell_type": "code",
   "execution_count": 27,
   "metadata": {},
   "outputs": [
    {
     "name": "stdout",
     "output_type": "stream",
     "text": [
      "Best trial:\n",
      "  Value: 0.478\n",
      "  Params: \n",
      "    emb_size: 100.0\n",
      "    out_channels: 150.0\n",
      "    drop_rate: 0.5\n",
      "    learning_rate: 0.030245226689486267\n",
      "    momentum: 0.9\n",
      "    batch_size: 128.0\n",
      "    min_lr: 0.010572247621496533\n"
     ]
    }
   ],
   "source": [
    "# 結果の表示\n",
    "print('Best trial:')\n",
    "trial = study.best_trial\n",
    "print('  Value: {:.3f}'.format(trial.value))\n",
    "print('  Params: ')\n",
    "for key, value in trial.params.items():\n",
    "  print('    {}: {}'.format(key, value))"
   ]
  },
  {
   "cell_type": "code",
   "execution_count": 28,
   "metadata": {},
   "outputs": [
    {
     "name": "stdout",
     "output_type": "stream",
     "text": [
      "epoch: 1, loss_train: 0.9962, accuracy_train: 0.6100, loss_valid: 1.0266, accuracy_valid: 0.6040, 7.6053sec\n",
      "epoch: 2, loss_train: 0.8005, accuracy_train: 0.7281, loss_valid: 0.8850, accuracy_valid: 0.6924, 7.6292sec\n",
      "epoch: 3, loss_train: 0.6760, accuracy_train: 0.7611, loss_valid: 0.7990, accuracy_valid: 0.7066, 7.6961sec\n",
      "epoch: 4, loss_train: 0.5669, accuracy_train: 0.8024, loss_valid: 0.7321, accuracy_valid: 0.7448, 7.6504sec\n",
      "epoch: 5, loss_train: 0.4771, accuracy_train: 0.8419, loss_valid: 0.6929, accuracy_valid: 0.7507, 7.6277sec\n",
      "epoch: 6, loss_train: 0.4019, accuracy_train: 0.8605, loss_valid: 0.6417, accuracy_valid: 0.7665, 7.6282sec\n",
      "epoch: 7, loss_train: 0.3422, accuracy_train: 0.8856, loss_valid: 0.6089, accuracy_valid: 0.7859, 7.6658sec\n",
      "epoch: 8, loss_train: 0.2930, accuracy_train: 0.9095, loss_valid: 0.5887, accuracy_valid: 0.7994, 7.6430sec\n",
      "epoch: 9, loss_train: 0.2519, accuracy_train: 0.9365, loss_valid: 0.5771, accuracy_valid: 0.8009, 7.5819sec\n",
      "epoch: 10, loss_train: 0.2173, accuracy_train: 0.9518, loss_valid: 0.5612, accuracy_valid: 0.8039, 7.5804sec\n",
      "epoch: 11, loss_train: 0.1855, accuracy_train: 0.9622, loss_valid: 0.5370, accuracy_valid: 0.8159, 7.5903sec\n",
      "epoch: 12, loss_train: 0.1657, accuracy_train: 0.9686, loss_valid: 0.5274, accuracy_valid: 0.8174, 7.6316sec\n",
      "epoch: 13, loss_train: 0.1449, accuracy_train: 0.9807, loss_valid: 0.5326, accuracy_valid: 0.8189, 7.6245sec\n",
      "epoch: 14, loss_train: 0.1271, accuracy_train: 0.9807, loss_valid: 0.5035, accuracy_valid: 0.8301, 7.5968sec\n",
      "epoch: 15, loss_train: 0.1124, accuracy_train: 0.9872, loss_valid: 0.5106, accuracy_valid: 0.8271, 7.6223sec\n",
      "epoch: 16, loss_train: 0.0988, accuracy_train: 0.9899, loss_valid: 0.5001, accuracy_valid: 0.8353, 7.6050sec\n",
      "epoch: 17, loss_train: 0.0900, accuracy_train: 0.9900, loss_valid: 0.4874, accuracy_valid: 0.8361, 7.5954sec\n",
      "epoch: 18, loss_train: 0.0819, accuracy_train: 0.9914, loss_valid: 0.4933, accuracy_valid: 0.8286, 7.5871sec\n",
      "epoch: 19, loss_train: 0.0749, accuracy_train: 0.9939, loss_valid: 0.4883, accuracy_valid: 0.8346, 7.5835sec\n",
      "epoch: 20, loss_train: 0.0706, accuracy_train: 0.9934, loss_valid: 0.4889, accuracy_valid: 0.8406, 7.6417sec\n",
      "epoch: 21, loss_train: 0.0631, accuracy_train: 0.9949, loss_valid: 0.4757, accuracy_valid: 0.8353, 7.5936sec\n",
      "epoch: 22, loss_train: 0.0589, accuracy_train: 0.9956, loss_valid: 0.4804, accuracy_valid: 0.8383, 7.6042sec\n",
      "epoch: 23, loss_train: 0.0548, accuracy_train: 0.9962, loss_valid: 0.4791, accuracy_valid: 0.8383, 7.6392sec\n",
      "epoch: 24, loss_train: 0.0522, accuracy_train: 0.9968, loss_valid: 0.4781, accuracy_valid: 0.8443, 7.6119sec\n",
      "epoch: 25, loss_train: 0.0491, accuracy_train: 0.9970, loss_valid: 0.4795, accuracy_valid: 0.8406, 7.5944sec\n",
      "epoch: 26, loss_train: 0.0464, accuracy_train: 0.9971, loss_valid: 0.4811, accuracy_valid: 0.8421, 7.5865sec\n",
      "epoch: 27, loss_train: 0.0434, accuracy_train: 0.9973, loss_valid: 0.4823, accuracy_valid: 0.8428, 7.6114sec\n"
     ]
    }
   ],
   "source": [
    "emb_size = int(trial.params['emb_size']) \n",
    "out_channels = int(trial.params['out_channels']) \n",
    "drop_rate = trial.params['drop_rate']\n",
    "learning_rate = trial.params['learning_rate']\n",
    "momentum = trial.params['momentum']\n",
    "batch_size = int(trial.params['batch_size']) \n",
    "num_eta_min = trial.params['min_lr']\n",
    "\n",
    "VOCAB_SIZE = len(set(word2id.values())) + 1\n",
    "PADDING_IDX = len(set(word2id.values()))\n",
    "OUTPUT_SIZE = 4\n",
    "KERNEL_HEIGHTS = 3\n",
    "STRIDE = 1\n",
    "PADDING = 1\n",
    "NUM_EPOCHS = 30 \n",
    "\n",
    "\n",
    "# デバイスの指定\n",
    "device = torch.device('cuda')\n",
    "\n",
    "# モデルの定義\n",
    "model = CNN(VOCAB_SIZE, EMB_SIZE, PADDING_IDX, OUTPUT_SIZE, out_channels, KERNEL_HEIGHTS, STRIDE, PADDING, drop_rate, emb_weights=weights)\n",
    "    \n",
    "# 損失関数の定義\n",
    "criterion = nn.CrossEntropyLoss()\n",
    "    \n",
    "# オプティマイザの定義\n",
    "optimizer = torch.optim.SGD(model.parameters(), lr=learning_rate, momentum=momentum)\n",
    "\n",
    "log = display_train_model(dataset_train, dataset_valid, batch_size, model, criterion, optimizer, NUM_EPOCHS, num_eta_min, collate_fn=Padsequence(PADDING_IDX), device=device)"
   ]
  },
  {
   "cell_type": "code",
   "execution_count": 29,
   "metadata": {},
   "outputs": [
    {
     "data": {
      "image/png": "[encoded data removed]",
      "text/plain": [
       "<Figure size 1080x360 with 2 Axes>"
      ]
     },
     "metadata": {
      "needs_background": "light"
     },
     "output_type": "display_data"
    },
    {
     "name": "stdout",
     "output_type": "stream",
     "text": [
      "正解率（学習データ）：0.997\n",
      "正解率（評価データ）：0.850\n"
     ]
    }
   ],
   "source": [
    "# ログの可視化\n",
    "visualize_logs(log)\n",
    "\n",
    "# 正解率の算出\n",
    "_, acc_train = calculate_loss_and_accuracy(model, dataset_train, device)\n",
    "_, acc_test = calculate_loss_and_accuracy(model, dataset_test, device)\n",
    "print(f'正解率（学習データ）：{acc_train:.3f}')\n",
    "print(f'正解率（評価データ）：{acc_test:.3f}')"
   ]
  },
  {
   "cell_type": "markdown",
   "metadata": {},
   "source": [
    "## #89"
   ]
  },
  {
   "cell_type": "code",
   "execution_count": 16,
   "metadata": {},
   "outputs": [
    {
     "name": "stdout",
     "output_type": "stream",
     "text": [
      "\u001b[33mWARNING: Value for scheme.headers does not match. Please report this to <https://github.com/pypa/pip/issues/9617>\n",
      "distutils: /opt/conda/include/python3.8/UNKNOWN\n",
      "sysconfig: /opt/conda/include/python3.8\u001b[0m\n",
      "\u001b[33mWARNING: Additional context:\n",
      "user = False\n",
      "home = None\n",
      "root = None\n",
      "prefix = None\u001b[0m\n",
      "Requirement already satisfied: transformers==2.11.0 in /opt/conda/lib/python3.8/site-packages (2.11.0)\n",
      "Requirement already satisfied: filelock in /opt/conda/lib/python3.8/site-packages (from transformers==2.11.0) (3.4.2)\n",
      "Requirement already satisfied: requests in /opt/conda/lib/python3.8/site-packages (from transformers==2.11.0) (2.25.1)\n",
      "Requirement already satisfied: tokenizers==0.7.0 in /opt/conda/lib/python3.8/site-packages (from transformers==2.11.0) (0.7.0)\n",
      "Requirement already satisfied: sentencepiece in /opt/conda/lib/python3.8/site-packages (from transformers==2.11.0) (0.1.96)\n",
      "Requirement already satisfied: numpy in /opt/conda/lib/python3.8/site-packages (from transformers==2.11.0) (1.19.5)\n",
      "Requirement already satisfied: sacremoses in /opt/conda/lib/python3.8/site-packages (from transformers==2.11.0) (0.0.47)\n",
      "Requirement already satisfied: tqdm>=4.27 in /opt/conda/lib/python3.8/site-packages (from transformers==2.11.0) (4.60.0)\n",
      "Requirement already satisfied: regex!=2019.12.17 in /opt/conda/lib/python3.8/site-packages (from transformers==2.11.0) (2022.1.18)\n",
      "Requirement already satisfied: packaging in /opt/conda/lib/python3.8/site-packages (from transformers==2.11.0) (20.9)\n",
      "Requirement already satisfied: pyparsing>=2.0.2 in /opt/conda/lib/python3.8/site-packages (from packaging->transformers==2.11.0) (2.4.7)\n",
      "Requirement already satisfied: chardet<5,>=3.0.2 in /opt/conda/lib/python3.8/site-packages (from requests->transformers==2.11.0) (4.0.0)\n",
      "Requirement already satisfied: urllib3<1.27,>=1.21.1 in /opt/conda/lib/python3.8/site-packages (from requests->transformers==2.11.0) (1.26.4)\n",
      "Requirement already satisfied: idna<3,>=2.5 in /opt/conda/lib/python3.8/site-packages (from requests->transformers==2.11.0) (2.10)\n",
      "Requirement already satisfied: certifi>=2017.4.17 in /opt/conda/lib/python3.8/site-packages (from requests->transformers==2.11.0) (2020.12.5)\n",
      "Requirement already satisfied: six in /opt/conda/lib/python3.8/site-packages (from sacremoses->transformers==2.11.0) (1.15.0)\n",
      "Requirement already satisfied: click in /opt/conda/lib/python3.8/site-packages (from sacremoses->transformers==2.11.0) (7.1.2)\n",
      "Requirement already satisfied: joblib in /opt/conda/lib/python3.8/site-packages (from sacremoses->transformers==2.11.0) (1.0.1)\n",
      "\u001b[33mWARNING: Value for scheme.headers does not match. Please report this to <https://github.com/pypa/pip/issues/9617>\n",
      "distutils: /opt/conda/include/python3.8/UNKNOWN\n",
      "sysconfig: /opt/conda/include/python3.8\u001b[0m\n",
      "\u001b[33mWARNING: Additional context:\n",
      "user = False\n",
      "home = None\n",
      "root = None\n",
      "prefix = None\u001b[0m\n"
     ]
    }
   ],
   "source": [
    "#89\n",
    "!pip install transformers==2.11.0"
   ]
  },
  {
   "cell_type": "code",
   "execution_count": 17,
   "metadata": {},
   "outputs": [],
   "source": [
    "import numpy as np\n",
    "import transformers\n",
    "import torch\n",
    "from torch.utils.data import Dataset, DataLoader\n",
    "from transformers import BertTokenizer, BertModel\n",
    "from torch import optim\n",
    "from torch import cuda\n",
    "import time\n",
    "from matplotlib import pyplot as plt"
   ]
  },
  {
   "cell_type": "code",
   "execution_count": 18,
   "metadata": {},
   "outputs": [],
   "source": [
    "# Datasetの定義\n",
    "class CreateDataset(Dataset):\n",
    "  def __init__(self, X, y, tokenizer, max_len):\n",
    "    self.X = X\n",
    "    self.y = y\n",
    "    self.tokenizer = tokenizer\n",
    "    self.max_len = max_len\n",
    "\n",
    "  def __len__(self):  # len(Dataset)で返す値を指定\n",
    "    return len(self.y)\n",
    "\n",
    "  def __getitem__(self, index):  # Dataset[index]で返す値を指定\n",
    "    text = self.X[index]\n",
    "    inputs = self.tokenizer.encode_plus(\n",
    "      text,\n",
    "      add_special_tokens=True,\n",
    "      max_length=self.max_len,\n",
    "      pad_to_max_length=True\n",
    "    )\n",
    "    ids = inputs['input_ids']\n",
    "    mask = inputs['attention_mask']\n",
    "\n",
    "    return {\n",
    "      'ids': torch.LongTensor(ids),\n",
    "      'mask': torch.LongTensor(mask),\n",
    "      'labels': torch.Tensor(self.y[index])\n",
    "    }"
   ]
  },
  {
   "cell_type": "code",
   "execution_count": 19,
   "metadata": {},
   "outputs": [
    {
     "name": "stdout",
     "output_type": "stream",
     "text": [
      "ids: tensor([  101, 10651,  1015,  1011, 11642,  4677, 19461, 15460,  6764,  2005,\n",
      "        10528,  3860,   102,     0,     0,     0,     0,     0,     0,     0])\n",
      "mask: tensor([1, 1, 1, 1, 1, 1, 1, 1, 1, 1, 1, 1, 1, 0, 0, 0, 0, 0, 0, 0])\n",
      "labels: tensor([1., 0., 0., 0.])\n"
     ]
    }
   ],
   "source": [
    "# 正解ラベルのone-hot化\n",
    "y_train = pd.get_dummies(train, columns=['CATEGORY'])[['CATEGORY_b', 'CATEGORY_e', 'CATEGORY_t', 'CATEGORY_m']].values\n",
    "y_valid = pd.get_dummies(valid, columns=['CATEGORY'])[['CATEGORY_b', 'CATEGORY_e', 'CATEGORY_t', 'CATEGORY_m']].values\n",
    "y_test = pd.get_dummies(test, columns=['CATEGORY'])[['CATEGORY_b', 'CATEGORY_e', 'CATEGORY_t', 'CATEGORY_m']].values\n",
    "\n",
    "# Datasetの作成\n",
    "max_len = 20\n",
    "tokenizer = BertTokenizer.from_pretrained('bert-base-uncased',truncation=False)\n",
    "dataset_train = CreateDataset(train['TITLE'], y_train, tokenizer, max_len)\n",
    "dataset_valid = CreateDataset(valid['TITLE'], y_valid, tokenizer, max_len)\n",
    "dataset_test = CreateDataset(test['TITLE'], y_test, tokenizer, max_len)\n",
    "\n",
    "for var in dataset_train[0]:\n",
    "  print(f'{var}: {dataset_train[0][var]}')"
   ]
  },
  {
   "cell_type": "code",
   "execution_count": 20,
   "metadata": {},
   "outputs": [],
   "source": [
    "# BERT分類モデルの定義\n",
    "class BERTClass(torch.nn.Module):\n",
    "  def __init__(self, drop_rate, otuput_size):\n",
    "    super().__init__()\n",
    "    self.bert = BertModel.from_pretrained('bert-base-uncased')\n",
    "    self.drop = torch.nn.Dropout(drop_rate)\n",
    "    self.fc = torch.nn.Linear(768, otuput_size)\n",
    "    \n",
    "  def forward(self, ids, mask):\n",
    "    _, out = self.bert(ids, attention_mask=mask)\n",
    "    out = self.fc(self.drop(out))\n",
    "    return out"
   ]
  },
  {
   "cell_type": "code",
   "execution_count": 21,
   "metadata": {},
   "outputs": [],
   "source": [
    "def calculate_loss_and_accuracy(model, criterion, loader, device):\n",
    "  \"\"\" 損失・正解率を計算\"\"\"\n",
    "  model.eval()\n",
    "  loss = 0.0\n",
    "  total = 0\n",
    "  correct = 0\n",
    "  with torch.no_grad():\n",
    "    for data in loader:\n",
    "      # デバイスの指定\n",
    "      ids = data['ids'].to(device)\n",
    "      mask = data['mask'].to(device)\n",
    "      labels = data['labels'].to(device)\n",
    "\n",
    "      # 順伝播\n",
    "      outputs = model.forward(ids, mask)\n",
    "\n",
    "      # 損失計算\n",
    "      loss += criterion(outputs, labels).item()\n",
    "\n",
    "      # 正解率計算\n",
    "      pred = torch.argmax(outputs, dim=-1).cpu().numpy() # バッチサイズの長さの予測ラベル配列\n",
    "      labels = torch.argmax(labels, dim=-1).cpu().numpy()  # バッチサイズの長さの正解ラベル配列\n",
    "      total += len(labels)\n",
    "      correct += (pred == labels).sum().item()\n",
    "      \n",
    "  return loss / len(loader), correct / total\n",
    "  \n",
    "\n",
    "def train_model(dataset_train, dataset_valid, batch_size, model, criterion, optimizer, num_epochs, device=None):\n",
    "  \"\"\"モデルの学習を実行し、損失・正解率のログを返す\"\"\"\n",
    "  # デバイスの指定\n",
    "  model.to(device)\n",
    "\n",
    "  # dataloaderの作成\n",
    "  dataloader_train = DataLoader(dataset_train, batch_size=batch_size, shuffle=True)\n",
    "  dataloader_valid = DataLoader(dataset_valid, batch_size=len(dataset_valid), shuffle=False)\n",
    "\n",
    "  # 学習\n",
    "  log_train = []\n",
    "  log_valid = []\n",
    "  for epoch in range(num_epochs):\n",
    "    # 開始時刻の記録\n",
    "    s_time = time.time()\n",
    "\n",
    "    # 訓練モードに設定\n",
    "    model.train()\n",
    "    for data in dataloader_train:\n",
    "      # デバイスの指定\n",
    "      ids = data['ids'].to(device)\n",
    "      mask = data['mask'].to(device)\n",
    "      labels = data['labels'].to(device)\n",
    "\n",
    "      # 勾配をゼロで初期化\n",
    "      optimizer.zero_grad()\n",
    "\n",
    "      # 順伝播 + 誤差逆伝播 + 重み更新\n",
    "      outputs = model.forward(ids, mask)\n",
    "      loss = criterion(outputs, labels)\n",
    "      loss.backward()\n",
    "      optimizer.step()\n",
    "      \n",
    "    # 損失と正解率の算出\n",
    "    loss_train, acc_train = calculate_loss_and_accuracy(model, criterion, dataloader_train, device)\n",
    "    loss_valid, acc_valid = calculate_loss_and_accuracy(model, criterion, dataloader_valid, device)\n",
    "    log_train.append([loss_train, acc_train])\n",
    "    log_valid.append([loss_valid, acc_valid])\n",
    "\n",
    "    # チェックポイントの保存\n",
    "    torch.save({'epoch': epoch, 'model_state_dict': model.state_dict(), 'optimizer_state_dict': optimizer.state_dict()}, f'checkpoint{epoch + 1}.pt')\n",
    "\n",
    "    # 終了時刻の記録\n",
    "    e_time = time.time()\n",
    "\n",
    "    # ログを出力\n",
    "    print(f'epoch: {epoch + 1}, loss_train: {loss_train:.4f}, accuracy_train: {acc_train:.4f}, loss_valid: {loss_valid:.4f}, accuracy_valid: {acc_valid:.4f}, {(e_time - s_time):.4f}sec') \n",
    "\n",
    "  return {'train': log_train, 'valid': log_valid}"
   ]
  },
  {
   "cell_type": "code",
   "execution_count": 22,
   "metadata": {},
   "outputs": [
    {
     "name": "stdout",
     "output_type": "stream",
     "text": [
      "epoch: 1, loss_train: 0.0861, accuracy_train: 0.9542, loss_valid: 0.1063, accuracy_valid: 0.9334, 48.0517sec\n",
      "epoch: 2, loss_train: 0.0450, accuracy_train: 0.9774, loss_valid: 0.0918, accuracy_valid: 0.9379, 50.7589sec\n",
      "epoch: 3, loss_train: 0.0281, accuracy_train: 0.9854, loss_valid: 0.1005, accuracy_valid: 0.9326, 50.8258sec\n",
      "epoch: 4, loss_train: 0.0209, accuracy_train: 0.9887, loss_valid: 0.1045, accuracy_valid: 0.9356, 51.0184sec\n"
     ]
    }
   ],
   "source": [
    "# パラメータの設定\n",
    "DROP_RATE = 0.4\n",
    "OUTPUT_SIZE = 4\n",
    "BATCH_SIZE = 32\n",
    "NUM_EPOCHS = 4\n",
    "LEARNING_RATE = 2e-5\n",
    "\n",
    "# モデルの定義\n",
    "model = BERTClass(DROP_RATE, OUTPUT_SIZE)\n",
    "\n",
    "# 損失関数の定義\n",
    "criterion = torch.nn.BCEWithLogitsLoss()\n",
    "\n",
    "# オプティマイザの定義\n",
    "optimizer = torch.optim.AdamW(params=model.parameters(), lr=LEARNING_RATE)\n",
    "\n",
    "# デバイスの指定\n",
    "device = 'cuda' if cuda.is_available() else 'cpu'\n",
    "\n",
    "# モデルの学習\n",
    "log = train_model(dataset_train, dataset_valid, BATCH_SIZE, model, criterion, optimizer, NUM_EPOCHS, device=device)"
   ]
  },
  {
   "cell_type": "code",
   "execution_count": 23,
   "metadata": {},
   "outputs": [
    {
     "data": {
      "image/png": "[encoded data removed]",
      "text/plain": [
       "<Figure size 1080x360 with 2 Axes>"
      ]
     },
     "metadata": {
      "needs_background": "light"
     },
     "output_type": "display_data"
    }
   ],
   "source": [
    "# ログの可視化\n",
    "fig, ax = plt.subplots(1, 2, figsize=(15, 5))\n",
    "ax[0].plot(np.array(log['train']).T[0], label='train')\n",
    "ax[0].plot(np.array(log['valid']).T[0], label='valid')\n",
    "ax[0].set_xlabel('epoch')\n",
    "ax[0].set_ylabel('loss')\n",
    "ax[0].legend()\n",
    "ax[1].plot(np.array(log['train']).T[1], label='train')\n",
    "ax[1].plot(np.array(log['valid']).T[1], label='valid')\n",
    "ax[1].set_xlabel('epoch')\n",
    "ax[1].set_ylabel('accuracy')\n",
    "ax[1].legend()\n",
    "plt.show()"
   ]
  },
  {
   "cell_type": "code",
   "execution_count": 27,
   "metadata": {},
   "outputs": [
    {
     "name": "stdout",
     "output_type": "stream",
     "text": [
      "正解率（学習データ）：0.989\n",
      "正解率（検証データ）：0.936\n",
      "正解率（評価データ）：0.942\n"
     ]
    }
   ],
   "source": [
    "# 正解率の算出\n",
    "def calculate_accuracy(model, dataset, device):\n",
    "  # Dataloaderの作成\n",
    "  loader = DataLoader(dataset, batch_size=len(dataset), shuffle=False)\n",
    "\n",
    "  model.eval()\n",
    "  total = 0\n",
    "  correct = 0\n",
    "  with torch.no_grad():\n",
    "    for data in loader:\n",
    "      # デバイスの指定\n",
    "      ids = data['ids'].to(device)\n",
    "      mask = data['mask'].to(device)\n",
    "      labels = data['labels'].to(device)\n",
    "\n",
    "      # 順伝播 + 予測値の取得 + 正解数のカウント\n",
    "      outputs = model.forward(ids, mask)\n",
    "      pred = torch.argmax(outputs, dim=-1).cpu().numpy()\n",
    "      labels = torch.argmax(labels, dim=-1).cpu().numpy()\n",
    "      total += len(labels)\n",
    "      correct += (pred == labels).sum().item()\n",
    "\n",
    "  return correct / total\n",
    "\n",
    "device = 'cuda:2' if cuda.is_available() else 'cpu'\n",
    "model.to(device)\n",
    "\n",
    "print(f'正解率（学習データ）：{calculate_accuracy(model, dataset_train, device):.3f}')\n",
    "print(f'正解率（検証データ）：{calculate_accuracy(model, dataset_valid, device):.3f}')\n",
    "print(f'正解率（評価データ）：{calculate_accuracy(model, dataset_test, device):.3f}')"
   ]
  },
  {
   "cell_type": "code",
   "execution_count": null,
   "metadata": {},
   "outputs": [],
   "source": []
  }
 ],
 "metadata": {
  "kernelspec": {
   "display_name": "Python 3",
   "language": "python",
   "name": "python3"
  },
  "language_info": {
   "codemirror_mode": {
    "name": "ipython",
    "version": 3
   },
   "file_extension": ".py",
   "mimetype": "text/x-python",
   "name": "python",
   "nbconvert_exporter": "python",
   "pygments_lexer": "ipython3",
   "version": "3.8.8"
  }
 },
 "nbformat": 4,
 "nbformat_minor": 4
}
