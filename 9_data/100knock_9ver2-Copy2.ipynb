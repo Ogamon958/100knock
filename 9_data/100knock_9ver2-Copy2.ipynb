{
 "cells": [
  {
   "cell_type": "code",
   "execution_count": 1,
   "metadata": {},
   "outputs": [
    {
     "name": "stdout",
     "output_type": "stream",
     "text": [
      "--2022-01-30 16:12:27--  https://archive.ics.uci.edu/ml/machine-learning-databases/00359/NewsAggregatorDataset.zip\n",
      "Resolving archive.ics.uci.edu (archive.ics.uci.edu)... 128.195.10.252\n",
      "Connecting to archive.ics.uci.edu (archive.ics.uci.edu)|128.195.10.252|:443... connected.\n",
      "HTTP request sent, awaiting response... 200 OK\n",
      "Length: 29224203 (28M) [application/x-httpd-php]\n",
      "Saving to: ‘NewsAggregatorDataset.zip’\n",
      "\n",
      "NewsAggregatorDatas 100%[===================>]  27.87M  14.8MB/s    in 1.9s    \n",
      "\n",
      "2022-01-30 16:12:29 (14.8 MB/s) - ‘NewsAggregatorDataset.zip’ saved [29224203/29224203]\n",
      "\n",
      "Archive:  NewsAggregatorDataset.zip\n",
      "  inflating: 2pageSessions.csv       \n",
      "   creating: __MACOSX/\n",
      "  inflating: __MACOSX/._2pageSessions.csv  \n",
      "  inflating: newsCorpora.csv         \n",
      "  inflating: __MACOSX/._newsCorpora.csv  \n",
      "  inflating: readme.txt              \n",
      "  inflating: __MACOSX/._readme.txt   \n"
     ]
    }
   ],
   "source": [
    "#80\n",
    "#途中まで50と同じ\n",
    "\n",
    "#データダウンロード\n",
    "!wget https://archive.ics.uci.edu/ml/machine-learning-databases/00359/NewsAggregatorDataset.zip\n",
    "!unzip NewsAggregatorDataset.zip"
   ]
  },
  {
   "cell_type": "code",
   "execution_count": 2,
   "metadata": {},
   "outputs": [],
   "source": [
    "# 読込時のエラー回避のためダブルクォーテーションをシングルクォーテーションに置換\n",
    "!sed -e 's/\"/'\\''/g' ./newsCorpora.csv > ./newsCorpora_re.csv"
   ]
  },
  {
   "cell_type": "code",
   "execution_count": 3,
   "metadata": {},
   "outputs": [
    {
     "name": "stdout",
     "output_type": "stream",
     "text": [
      "【学習データ】\n",
      "b    4501\n",
      "e    4235\n",
      "t    1220\n",
      "m     728\n",
      "Name: CATEGORY, dtype: int64\n",
      "【検証データ】\n",
      "b    563\n",
      "e    529\n",
      "t    153\n",
      "m     91\n",
      "Name: CATEGORY, dtype: int64\n",
      "【評価データ】\n",
      "b    563\n",
      "e    530\n",
      "t    152\n",
      "m     91\n",
      "Name: CATEGORY, dtype: int64\n"
     ]
    }
   ],
   "source": [
    "import pandas as pd\n",
    "from sklearn.model_selection import train_test_split\n",
    "\n",
    "# データの読込\n",
    "df = pd.read_csv('./newsCorpora_re.csv', header=None, sep='\\t', names=['ID', 'TITLE', 'URL', 'PUBLISHER', 'CATEGORY', 'STORY', 'HOSTNAME', 'TIMESTAMP']) #具体例からこのように分ける\n",
    "\n",
    "# データの抽出\n",
    "df = df.loc[df['PUBLISHER'].isin(['Reuters', 'Huffington Post', 'Businessweek', 'Contactmusic.com', 'Daily Mail']), ['TITLE', 'CATEGORY']] #publisherが”Reuters”, “Huffington Post”, “Businessweek”, “Contactmusic.com”, “Daily Mail”であるものの、そのカテゴリ名と記事見出しを抽出 isin https://vector-ium.com/pandas-isin/  loc(列ラベル) https://note.nkmk.me/python-pandas-at-iat-loc-iloc/\n",
    "\n",
    "# データの分割\n",
    "train, valid_test = train_test_split(df, test_size=0.2, shuffle=True, random_state=42, stratify=df['CATEGORY']) #学習データ80%とその他20%に分ける train_test_splitについて https://qiita.com/KyleKatarn/items/2afa6787f04f28e2cd2d\n",
    "valid, test = train_test_split(valid_test, test_size=0.5, shuffle=True, random_state=42, stratify=valid_test['CATEGORY']) #その他に分けられたデータを半分ずつ検証データと評価データに分類(全体から見ると10%,10%)\n",
    "\n",
    "train.reset_index(drop=True, inplace=True)\n",
    "valid.reset_index(drop=True, inplace=True)\n",
    "test.reset_index(drop=True, inplace=True)\n",
    "\n",
    "\n",
    "# データの保存\n",
    "train.to_csv('./train.txt', sep='\\t', index=False)\n",
    "valid.to_csv('./valid.txt', sep='\\t', index=False)\n",
    "test.to_csv('./test.txt', sep='\\t', index=False)\n",
    "\n",
    "# 事例数の確認\n",
    "print('【学習データ】')\n",
    "print(train['CATEGORY'].value_counts())\n",
    "print('【検証データ】')\n",
    "print(valid['CATEGORY'].value_counts())\n",
    "print('【評価データ】')\n",
    "print(test['CATEGORY'].value_counts())"
   ]
  },
  {
   "cell_type": "code",
   "execution_count": 4,
   "metadata": {},
   "outputs": [
    {
     "name": "stdout",
     "output_type": "stream",
     "text": [
      "ID数: 9374\n",
      "\n",
      "---頻度上位20語---\n",
      "to: 1 出現回数:2141\n",
      "s: 2 出現回数:1907\n",
      "in: 3 出現回数:1423\n",
      "UPDATE: 4 出現回数:1074\n",
      "on: 5 出現回数:1065\n",
      "as: 6 出現回数:1018\n",
      "US: 7 出現回数:998\n",
      "The: 8 出現回数:975\n",
      "of: 9 出現回数:967\n",
      "for: 10 出現回数:942\n",
      "1: 11 出現回数:860\n",
      "To: 12 出現回数:737\n",
      "2: 13 出現回数:678\n",
      "the: 14 出現回数:611\n",
      "and: 15 出現回数:577\n",
      "In: 16 出現回数:509\n",
      "Of: 17 出現回数:478\n",
      "at: 18 出現回数:466\n",
      "a: 19 出現回数:449\n",
      "A: 20 出現回数:442\n"
     ]
    }
   ],
   "source": [
    "from collections import defaultdict\n",
    "import string\n",
    "\n",
    "# 単語の頻度集計\n",
    "d = defaultdict(int)\n",
    "table = str.maketrans(string.punctuation, ' '*len(string.punctuation))  # 記号をスペースに置換するテーブル\n",
    "for text in train['TITLE']:\n",
    "  for word in text.translate(table).split():\n",
    "    d[word] += 1\n",
    "d = sorted(d.items(), key=lambda x:x[1], reverse=True)\n",
    "\n",
    "# 単語ID辞書の作成\n",
    "word2id = {word: i + 1 for i, (word, cnt) in enumerate(d) if cnt > 1}  # 出現頻度が2回以上の単語を登録\n",
    "\n",
    "print(f'ID数: {len(set(word2id.values()))}\\n')\n",
    "print('---頻度上位20語---')\n",
    "for key in list(word2id)[:20]:\n",
    "    print(f'{key}: {word2id[key]} 出現回数:{d[word2id[key]-1][1]}')"
   ]
  },
  {
   "cell_type": "markdown",
   "metadata": {},
   "source": [
    "### defaultdictについて\n",
    "https://qiita.com/xza/items/"
   ]
  },
  {
   "cell_type": "code",
   "execution_count": 5,
   "metadata": {},
   "outputs": [],
   "source": [
    "def tokenizer(text, word2id=word2id, unk=0):\n",
    "  \"\"\" 入力テキストをスペースで分割しID列に変換(辞書になければunkで指定した数字を設定)\"\"\"\n",
    "  table = str.maketrans(string.punctuation, ' '*len(string.punctuation))\n",
    "  return [word2id.get(word, unk) for word in text.translate(table).split()]"
   ]
  },
  {
   "cell_type": "code",
   "execution_count": 6,
   "metadata": {},
   "outputs": [
    {
     "name": "stdout",
     "output_type": "stream",
     "text": [
      "テキスト: UPDATE 1-Sandwich chain Quiznos files for bankruptcy protection\n",
      "ID列: [4, 11, 0, 1717, 0, 790, 10, 1238, 3532]\n"
     ]
    }
   ],
   "source": [
    "#確認\n",
    "text = train.iloc[0, train.columns.get_loc('TITLE')]\n",
    "print(f'テキスト: {text}')\n",
    "print(f'ID列: {tokenizer(text)}')"
   ]
  },
  {
   "cell_type": "code",
   "execution_count": 7,
   "metadata": {},
   "outputs": [],
   "source": [
    "#81\n",
    "import torch\n",
    "from torch import nn\n",
    "\n",
    "class RNN(nn.Module):\n",
    "  def __init__(self, vocab_size, emb_size, padding_idx, output_size, hidden_size):\n",
    "    super().__init__()\n",
    "    self.hidden_size = hidden_size\n",
    "    self.emb = nn.Embedding(vocab_size, emb_size, padding_idx=padding_idx)\n",
    "    self.rnn = nn.RNN(emb_size, hidden_size, nonlinearity='tanh', batch_first=True)\n",
    "    self.fc = nn.Linear(hidden_size, output_size)\n",
    "    \n",
    "  def forward(self, x):\n",
    "    self.batch_size = x.size()[0]\n",
    "    hidden = self.init_hidden()  # h0のゼロベクトルを作成\n",
    "    emb = self.emb(x)\n",
    "    # emb.size() = (batch_size, seq_len, emb_size)\n",
    "    out, hidden = self.rnn(emb, hidden)\n",
    "    # out.size() = (batch_size, seq_len, hidden_size)\n",
    "    out = self.fc(out[:, -1, :])\n",
    "    # out.size() = (batch_size, output_size)\n",
    "    return out\n",
    "    \n",
    "  def init_hidden(self):\n",
    "    hidden = torch.zeros(1, self.batch_size, self.hidden_size).to(device)\n",
    "    return hidden"
   ]
  },
  {
   "cell_type": "code",
   "execution_count": 8,
   "metadata": {},
   "outputs": [],
   "source": [
    "from torch.utils.data import Dataset\n",
    "\n",
    "class CreateDataset(Dataset):\n",
    "  def __init__(self, X, y, tokenizer):\n",
    "    self.X = X\n",
    "    self.y = y\n",
    "    self.tokenizer = tokenizer\n",
    "\n",
    "  def __len__(self):  # len(Dataset)で返す値を指定\n",
    "    return len(self.y)\n",
    "\n",
    "  def __getitem__(self, index):  # Dataset[index]で返す値を指定\n",
    "    text = self.X[index]\n",
    "    inputs = self.tokenizer(text)\n",
    "\n",
    "    return {\n",
    "      'inputs': torch.tensor(inputs, dtype=torch.int64),\n",
    "      'labels': torch.tensor(self.y[index], dtype=torch.int64)\n",
    "    }"
   ]
  },
  {
   "cell_type": "code",
   "execution_count": 9,
   "metadata": {},
   "outputs": [
    {
     "name": "stdout",
     "output_type": "stream",
     "text": [
      "len(Dataset)の出力: 10684\n",
      "Dataset[index]の出力:\n",
      "  inputs: tensor([ 195,  557, 1078,  389, 3022,   87,  288,  605,   94,   41, 2657,  214])\n",
      "  labels: 0\n"
     ]
    }
   ],
   "source": [
    "# ラベルベクトルの作成\n",
    "category_dict = {'b': 0, 't': 1, 'e':2, 'm':3}\n",
    "y_train = train['CATEGORY'].map(lambda x: category_dict[x]).values\n",
    "y_valid = valid['CATEGORY'].map(lambda x: category_dict[x]).values\n",
    "y_test = test['CATEGORY'].map(lambda x: category_dict[x]).values\n",
    "\n",
    "# Datasetの作成\n",
    "dataset_train = CreateDataset(train['TITLE'], y_train, tokenizer)\n",
    "dataset_valid = CreateDataset(valid['TITLE'], y_valid, tokenizer)\n",
    "dataset_test = CreateDataset(test['TITLE'], y_test, tokenizer)\n",
    "\n",
    "print(f'len(Dataset)の出力: {len(dataset_train)}')\n",
    "print('Dataset[index]の出力:')\n",
    "for var in dataset_train[1]:\n",
    "  print(f'  {var}: {dataset_train[1][var]}')"
   ]
  },
  {
   "cell_type": "code",
   "execution_count": 10,
   "metadata": {},
   "outputs": [
    {
     "name": "stdout",
     "output_type": "stream",
     "text": [
      "tensor([[0.2002, 0.1881, 0.4442, 0.1675]], grad_fn=<SoftmaxBackward>)\n",
      "tensor([[0.2572, 0.1767, 0.2209, 0.3452]], grad_fn=<SoftmaxBackward>)\n",
      "tensor([[0.1384, 0.1692, 0.2700, 0.4224]], grad_fn=<SoftmaxBackward>)\n",
      "tensor([[0.2864, 0.2315, 0.3094, 0.1727]], grad_fn=<SoftmaxBackward>)\n",
      "tensor([[0.3836, 0.1411, 0.3698, 0.1055]], grad_fn=<SoftmaxBackward>)\n",
      "tensor([[0.3987, 0.2660, 0.1305, 0.2049]], grad_fn=<SoftmaxBackward>)\n",
      "tensor([[0.3175, 0.2368, 0.2245, 0.2211]], grad_fn=<SoftmaxBackward>)\n",
      "tensor([[0.2527, 0.2921, 0.1963, 0.2590]], grad_fn=<SoftmaxBackward>)\n",
      "tensor([[0.4239, 0.1625, 0.1527, 0.2609]], grad_fn=<SoftmaxBackward>)\n",
      "tensor([[0.2733, 0.2108, 0.1451, 0.3708]], grad_fn=<SoftmaxBackward>)\n"
     ]
    }
   ],
   "source": [
    "# パラメータの設定\n",
    "VOCAB_SIZE = len(set(word2id.values())) + 1  # 辞書のID数 + パディングID\n",
    "EMB_SIZE = 300\n",
    "PADDING_IDX = len(set(word2id.values()))\n",
    "OUTPUT_SIZE = 4\n",
    "HIDDEN_SIZE = 50\n",
    "\n",
    "# デバイスの指定\n",
    "device = torch.device(\"cpu\")\n",
    "\n",
    "# モデルの定義\n",
    "model = RNN(VOCAB_SIZE, EMB_SIZE, PADDING_IDX, OUTPUT_SIZE, HIDDEN_SIZE)\n",
    "\n",
    "# 先頭10件の予測値取得\n",
    "for i in range(10):\n",
    "  X = dataset_train[i]['inputs']\n",
    "  print(torch.softmax(model(X.unsqueeze(0)), dim=-1))"
   ]
  },
  {
   "cell_type": "code",
   "execution_count": 11,
   "metadata": {},
   "outputs": [],
   "source": [
    "#82\n",
    "from torch.utils.data import DataLoader\n",
    "import time\n",
    "from torch import optim\n",
    "\n",
    "def calculate_loss_and_accuracy(model, dataset, device=None, criterion=None):\n",
    "  \"\"\"損失・正解率を計算\"\"\"\n",
    "  dataloader = DataLoader(dataset, batch_size=1, shuffle=False)\n",
    "  loss = 0.0\n",
    "  total = 0\n",
    "  correct = 0\n",
    "  with torch.no_grad():\n",
    "    for data in dataloader:\n",
    "      # デバイスの指定\n",
    "      inputs = data['inputs'].to(device)\n",
    "      labels = data['labels'].to(device)\n",
    "\n",
    "      # 順伝播\n",
    "      outputs = model(inputs)\n",
    "\n",
    "      # 損失計算\n",
    "      if criterion != None:\n",
    "        loss += criterion(outputs, labels).item()\n",
    "\n",
    "      # 正解率計算\n",
    "      pred = torch.argmax(outputs, dim=-1)\n",
    "      total += len(inputs)\n",
    "      correct += (pred == labels).sum().item()\n",
    "\n",
    "  return loss / len(dataset), correct / total\n",
    "\n",
    "\n",
    "def train_model(dataset_train, dataset_valid, batch_size, model, criterion, optimizer, num_epochs, collate_fn=None, device=None):\n",
    "  \"\"\"モデルの学習を実行し、損失・正解率のログを返す\"\"\"\n",
    "  # デバイスの指定\n",
    "  model.to(device)\n",
    "\n",
    "  # dataloaderの作成\n",
    "  dataloader_train = DataLoader(dataset_train, batch_size=batch_size, shuffle=True, collate_fn=collate_fn)\n",
    "  dataloader_valid = DataLoader(dataset_valid, batch_size=1, shuffle=False)\n",
    "\n",
    "  # スケジューラの設定\n",
    "  scheduler = optim.lr_scheduler.CosineAnnealingLR(optimizer, num_epochs, eta_min=1e-5, last_epoch=-1)\n",
    "\n",
    "  # 学習\n",
    "  log_train = []\n",
    "  log_valid = []\n",
    "  for epoch in range(num_epochs):\n",
    "    # 開始時刻の記録\n",
    "    s_time = time.time()\n",
    "\n",
    "    # 訓練モードに設定\n",
    "    model.train()\n",
    "    for data in dataloader_train:\n",
    "        \n",
    "      # 勾配をゼロで初期化\n",
    "      optimizer.zero_grad()\n",
    "\n",
    "      # 順伝播 + 誤差逆伝播 + 重み更新\n",
    "      inputs = data['inputs'].to(device)\n",
    "      labels = data['labels'].to(device)\n",
    "      outputs = model.forward(inputs)\n",
    "      loss = criterion(outputs, labels)\n",
    "      loss.backward()\n",
    "      optimizer.step()\n",
    "\n",
    "    # 評価モードに設定\n",
    "    model.eval()\n",
    "\n",
    "    # 損失と正解率の算出\n",
    "    loss_train, acc_train = calculate_loss_and_accuracy(model, dataset_train, device, criterion=criterion)\n",
    "    loss_valid, acc_valid = calculate_loss_and_accuracy(model, dataset_valid, device, criterion=criterion)\n",
    "    log_train.append([loss_train, acc_train])\n",
    "    log_valid.append([loss_valid, acc_valid])\n",
    "\n",
    "    # チェックポイントの保存\n",
    "    torch.save({'epoch': epoch, 'model_state_dict': model.state_dict(), 'optimizer_state_dict': optimizer.state_dict()}, f'checkpoint{epoch + 1}.pt')\n",
    "\n",
    "    # 終了時刻の記録\n",
    "    e_time = time.time()\n",
    "\n",
    "    # ログを出力\n",
    "    print(f'epoch: {epoch + 1}, loss_train: {loss_train:.4f}, accuracy_train: {acc_train:.4f}, loss_valid: {loss_valid:.4f}, accuracy_valid: {acc_valid:.4f}, {(e_time - s_time):.4f}sec') \n",
    "\n",
    "    # 検証データの損失が3エポック連続で低下しなかった場合は学習終了\n",
    "    if epoch > 2 and log_valid[epoch - 3][0] <= log_valid[epoch - 2][0] <= log_valid[epoch - 1][0] <= log_valid[epoch][0]:\n",
    "      break\n",
    "\n",
    "    # スケジューラを1ステップ進める\n",
    "    scheduler.step()\n",
    "\n",
    "  return {'train': log_train, 'valid': log_valid}"
   ]
  },
  {
   "cell_type": "code",
   "execution_count": 12,
   "metadata": {},
   "outputs": [],
   "source": [
    "import numpy as np\n",
    "from matplotlib import pyplot as plt\n",
    "\n",
    "def visualize_logs(log):\n",
    "  fig, ax = plt.subplots(1, 2, figsize=(15, 5))\n",
    "  ax[0].plot(np.array(log['train']).T[0], label='train')\n",
    "  ax[0].plot(np.array(log['valid']).T[0], label='valid')\n",
    "  ax[0].set_xlabel('epoch')\n",
    "  ax[0].set_ylabel('loss')\n",
    "  ax[0].legend()\n",
    "  ax[1].plot(np.array(log['train']).T[1], label='train')\n",
    "  ax[1].plot(np.array(log['valid']).T[1], label='valid')\n",
    "  ax[1].set_xlabel('epoch')\n",
    "  ax[1].set_ylabel('accuracy')\n",
    "  ax[1].legend()\n",
    "  plt.show()"
   ]
  },
  {
   "cell_type": "code",
   "execution_count": 13,
   "metadata": {},
   "outputs": [
    {
     "name": "stdout",
     "output_type": "stream",
     "text": [
      "epoch: 1, loss_train: 1.1052, accuracy_train: 0.5209, loss_valid: 1.1255, accuracy_valid: 0.5195, 65.5820sec\n",
      "epoch: 2, loss_train: 1.0197, accuracy_train: 0.5899, loss_valid: 1.0633, accuracy_valid: 0.5726, 70.7429sec\n",
      "epoch: 3, loss_train: 0.8792, accuracy_train: 0.6722, loss_valid: 0.9464, accuracy_valid: 0.6497, 64.4233sec\n",
      "epoch: 4, loss_train: 0.7269, accuracy_train: 0.7397, loss_valid: 0.8351, accuracy_valid: 0.7021, 71.4232sec\n",
      "epoch: 5, loss_train: 0.6323, accuracy_train: 0.7756, loss_valid: 0.7665, accuracy_valid: 0.7320, 63.7325sec\n",
      "epoch: 6, loss_train: 0.5615, accuracy_train: 0.7974, loss_valid: 0.7191, accuracy_valid: 0.7433, 72.6375sec\n",
      "epoch: 7, loss_train: 0.5074, accuracy_train: 0.8157, loss_valid: 0.6877, accuracy_valid: 0.7493, 72.9867sec\n",
      "epoch: 8, loss_train: 0.4868, accuracy_train: 0.8230, loss_valid: 0.6816, accuracy_valid: 0.7575, 72.8820sec\n",
      "epoch: 9, loss_train: 0.4644, accuracy_train: 0.8327, loss_valid: 0.6739, accuracy_valid: 0.7552, 63.5258sec\n",
      "epoch: 10, loss_train: 0.4562, accuracy_train: 0.8331, loss_valid: 0.6629, accuracy_valid: 0.7597, 72.9719sec\n"
     ]
    }
   ],
   "source": [
    "# パラメータの設定\n",
    "VOCAB_SIZE = len(set(word2id.values())) + 1 \n",
    "EMB_SIZE = 300\n",
    "PADDING_IDX = len(set(word2id.values()))\n",
    "OUTPUT_SIZE = 4\n",
    "HIDDEN_SIZE = 50\n",
    "LEARNING_RATE = 1e-3\n",
    "BATCH_SIZE = 1\n",
    "NUM_EPOCHS = 10\n",
    "\n",
    "# デバイスの指定\n",
    "device = torch.device(\"cpu\")\n",
    "\n",
    "# モデルの定義\n",
    "model = RNN(VOCAB_SIZE, EMB_SIZE, PADDING_IDX, OUTPUT_SIZE, HIDDEN_SIZE)\n",
    "\n",
    "# 損失関数の定義\n",
    "criterion = nn.CrossEntropyLoss()\n",
    "\n",
    "# オプティマイザの定義\n",
    "optimizer = torch.optim.SGD(model.parameters(), lr=LEARNING_RATE)\n",
    "\n",
    "# モデルの学習\n",
    "log = train_model(dataset_train, dataset_valid, BATCH_SIZE, model, criterion, optimizer, NUM_EPOCHS, device=device)"
   ]
  },
  {
   "cell_type": "code",
   "execution_count": 14,
   "metadata": {},
   "outputs": [
    {
     "data": {
      "image/png": "[encoded data removed]",
      "text/plain": [
       "<Figure size 1080x360 with 2 Axes>"
      ]
     },
     "metadata": {
      "needs_background": "light"
     },
     "output_type": "display_data"
    },
    {
     "name": "stdout",
     "output_type": "stream",
     "text": [
      "正解率（学習データ）：0.833\n",
      "正解率（評価データ）：0.772\n"
     ]
    }
   ],
   "source": [
    "# ログの可視化\n",
    "visualize_logs(log)\n",
    "\n",
    "# 正解率の算出\n",
    "_, acc_train = calculate_loss_and_accuracy(model, dataset_train)\n",
    "_, acc_test = calculate_loss_and_accuracy(model, dataset_test)\n",
    "print(f'正解率（学習データ）：{acc_train:.3f}')\n",
    "print(f'正解率（評価データ）：{acc_test:.3f}')"
   ]
  },
  {
   "cell_type": "code",
   "execution_count": 15,
   "metadata": {},
   "outputs": [],
   "source": [
    "#83\n",
    "class Padsequence():\n",
    "  \"\"\"Dataloaderからミニバッチを取り出すごとに最大系列長でパディング\"\"\"\n",
    "  def __init__(self, padding_idx):\n",
    "    self.padding_idx = padding_idx\n",
    "\n",
    "  def __call__(self, batch):\n",
    "    sorted_batch = sorted(batch, key=lambda x: x['inputs'].shape[0], reverse=True)\n",
    "    sequences = [x['inputs'] for x in sorted_batch]\n",
    "    sequences_padded = torch.nn.utils.rnn.pad_sequence(sequences, batch_first=True, padding_value=self.padding_idx)\n",
    "    labels = torch.LongTensor([x['labels'] for x in sorted_batch])\n",
    "\n",
    "    return {'inputs': sequences_padded, 'labels': labels}"
   ]
  },
  {
   "cell_type": "markdown",
   "metadata": {},
   "source": [
    "## GPUの確認"
   ]
  },
  {
   "cell_type": "code",
   "execution_count": 16,
   "metadata": {},
   "outputs": [
    {
     "name": "stdout",
     "output_type": "stream",
     "text": [
      "Sun Jan 30 16:24:14 2022       \n",
      "+-----------------------------------------------------------------------------+\n",
      "| NVIDIA-SMI 470.82.00    Driver Version: 470.82.00    CUDA Version: 11.4     |\n",
      "|-------------------------------+----------------------+----------------------+\n",
      "| GPU  Name        Persistence-M| Bus-Id        Disp.A | Volatile Uncorr. ECC |\n",
      "| Fan  Temp  Perf  Pwr:Usage/Cap|         Memory-Usage | GPU-Util  Compute M. |\n",
      "|                               |                      |               MIG M. |\n",
      "|===============================+======================+======================|\n",
      "|   0  NVIDIA TITAN X ...  On   | 00000000:04:00.0 Off |                  N/A |\n",
      "| 23%   24C    P8     8W / 250W |      8MiB / 12196MiB |      0%      Default |\n",
      "|                               |                      |                  N/A |\n",
      "+-------------------------------+----------------------+----------------------+\n",
      "|   1  NVIDIA TITAN X ...  On   | 00000000:05:00.0 Off |                  N/A |\n",
      "| 23%   27C    P8     8W / 250W |      8MiB / 12196MiB |      0%      Default |\n",
      "|                               |                      |                  N/A |\n",
      "+-------------------------------+----------------------+----------------------+\n",
      "|   2  NVIDIA TITAN X ...  On   | 00000000:08:00.0 Off |                  N/A |\n",
      "| 23%   23C    P8     7W / 250W |      8MiB / 12196MiB |      0%      Default |\n",
      "|                               |                      |                  N/A |\n",
      "+-------------------------------+----------------------+----------------------+\n",
      "|   3  NVIDIA TITAN X ...  On   | 00000000:09:00.0 Off |                  N/A |\n",
      "| 23%   26C    P8     9W / 250W |      8MiB / 12196MiB |      0%      Default |\n",
      "|                               |                      |                  N/A |\n",
      "+-------------------------------+----------------------+----------------------+\n",
      "|   4  NVIDIA TITAN X ...  On   | 00000000:84:00.0 Off |                  N/A |\n",
      "| 23%   28C    P8     8W / 250W |      8MiB / 12196MiB |      0%      Default |\n",
      "|                               |                      |                  N/A |\n",
      "+-------------------------------+----------------------+----------------------+\n",
      "|   5  NVIDIA TITAN X ...  On   | 00000000:85:00.0 Off |                  N/A |\n",
      "| 23%   25C    P8     8W / 250W |      8MiB / 12196MiB |      0%      Default |\n",
      "|                               |                      |                  N/A |\n",
      "+-------------------------------+----------------------+----------------------+\n",
      "|   6  NVIDIA TITAN X ...  On   | 00000000:88:00.0 Off |                  N/A |\n",
      "| 23%   25C    P8     8W / 250W |      8MiB / 12196MiB |      0%      Default |\n",
      "|                               |                      |                  N/A |\n",
      "+-------------------------------+----------------------+----------------------+\n",
      "|   7  NVIDIA TITAN X ...  On   | 00000000:89:00.0 Off |                  N/A |\n",
      "| 23%   25C    P8     8W / 250W |      8MiB / 12196MiB |      0%      Default |\n",
      "|                               |                      |                  N/A |\n",
      "+-------------------------------+----------------------+----------------------+\n",
      "                                                                               \n",
      "+-----------------------------------------------------------------------------+\n",
      "| Processes:                                                                  |\n",
      "|  GPU   GI   CI        PID   Type   Process name                  GPU Memory |\n",
      "|        ID   ID                                                   Usage      |\n",
      "|=============================================================================|\n",
      "+-----------------------------------------------------------------------------+\n"
     ]
    }
   ],
   "source": [
    "!nvidia-smi"
   ]
  },
  {
   "cell_type": "code",
   "execution_count": 17,
   "metadata": {},
   "outputs": [
    {
     "name": "stdout",
     "output_type": "stream",
     "text": [
      "epoch: 1, loss_train: 1.2604, accuracy_train: 0.4056, loss_valid: 1.2629, accuracy_valid: 0.4072, 10.0428sec\n",
      "epoch: 2, loss_train: 1.2696, accuracy_train: 0.4086, loss_valid: 1.2843, accuracy_valid: 0.4019, 10.0283sec\n",
      "epoch: 3, loss_train: 1.1659, accuracy_train: 0.4963, loss_valid: 1.1762, accuracy_valid: 0.4798, 9.9935sec\n",
      "epoch: 4, loss_train: 1.0956, accuracy_train: 0.5671, loss_valid: 1.1211, accuracy_valid: 0.5240, 10.1462sec\n",
      "epoch: 5, loss_train: 1.0144, accuracy_train: 0.6353, loss_valid: 1.0663, accuracy_valid: 0.5861, 10.7708sec\n",
      "epoch: 6, loss_train: 0.9934, accuracy_train: 0.6465, loss_valid: 1.0409, accuracy_valid: 0.5921, 10.7953sec\n",
      "epoch: 7, loss_train: 0.9584, accuracy_train: 0.6660, loss_valid: 1.0156, accuracy_valid: 0.6115, 10.1055sec\n",
      "epoch: 8, loss_train: 0.9278, accuracy_train: 0.6846, loss_valid: 0.9840, accuracy_valid: 0.6295, 10.0323sec\n",
      "epoch: 9, loss_train: 0.8989, accuracy_train: 0.6982, loss_valid: 0.9677, accuracy_valid: 0.6310, 10.0533sec\n",
      "epoch: 10, loss_train: 0.8862, accuracy_train: 0.7050, loss_valid: 0.9542, accuracy_valid: 0.6400, 10.0298sec\n"
     ]
    }
   ],
   "source": [
    "# パラメータの設定\n",
    "VOCAB_SIZE = len(set(word2id.values())) + 1\n",
    "EMB_SIZE = 300\n",
    "PADDING_IDX = len(set(word2id.values()))\n",
    "OUTPUT_SIZE = 4\n",
    "HIDDEN_SIZE = 50\n",
    "LEARNING_RATE = 5e-2\n",
    "BATCH_SIZE = 32\n",
    "NUM_EPOCHS = 10\n",
    "\n",
    "# デバイスの指定\n",
    "device = torch.device(\"cuda\")\n",
    "\n",
    "# モデルの定義\n",
    "model = RNN(VOCAB_SIZE, EMB_SIZE, PADDING_IDX, OUTPUT_SIZE, HIDDEN_SIZE)\n",
    "\n",
    "# 損失関数の定義\n",
    "criterion = nn.CrossEntropyLoss()\n",
    "\n",
    "# オプティマイザの定義\n",
    "optimizer = torch.optim.SGD(model.parameters(), lr=LEARNING_RATE)\n",
    "\n",
    "# モデルの学習\n",
    "log = train_model(dataset_train, dataset_valid, BATCH_SIZE, model, criterion, optimizer, NUM_EPOCHS, collate_fn=Padsequence(PADDING_IDX), device=device)"
   ]
  },
  {
   "cell_type": "code",
   "execution_count": 18,
   "metadata": {},
   "outputs": [
    {
     "data": {
      "image/png": "[encoded data removed]",
      "text/plain": [
       "<Figure size 1080x360 with 2 Axes>"
      ]
     },
     "metadata": {
      "needs_background": "light"
     },
     "output_type": "display_data"
    },
    {
     "name": "stdout",
     "output_type": "stream",
     "text": [
      "正解率（学習データ）：0.705\n",
      "正解率（評価データ）：0.661\n"
     ]
    }
   ],
   "source": [
    "# ログの可視化\n",
    "visualize_logs(log)\n",
    "\n",
    "# 正解率の算出\n",
    "_, acc_train = calculate_loss_and_accuracy(model, dataset_train, device)\n",
    "_, acc_test = calculate_loss_and_accuracy(model, dataset_test, device)\n",
    "print(f'正解率（学習データ）：{acc_train:.3f}')\n",
    "print(f'正解率（評価データ）：{acc_test:.3f}')"
   ]
  },
  {
   "cell_type": "code",
   "execution_count": 19,
   "metadata": {},
   "outputs": [
    {
     "name": "stdout",
     "output_type": "stream",
     "text": [
      "--2022-01-30 16:26:08--  https://s3.amazonaws.com/dl4j-distribution/GoogleNews-vectors-negative300.bin.gz\n",
      "Resolving s3.amazonaws.com (s3.amazonaws.com)... 52.217.73.86\n",
      "Connecting to s3.amazonaws.com (s3.amazonaws.com)|52.217.73.86|:443... connected.\n",
      "HTTP request sent, awaiting response... 200 OK\n",
      "Length: 1647046227 (1.5G) [application/x-gzip]\n",
      "Saving to: ‘GoogleNews-vectors-negative300.bin.gz’\n",
      "\n",
      "GoogleNews-vectors- 100%[===================>]   1.53G  17.4MB/s    in 1m 55s  \n",
      "\n",
      "2022-01-30 16:28:03 (13.7 MB/s) - ‘GoogleNews-vectors-negative300.bin.gz’ saved [1647046227/1647046227]\n",
      "\n"
     ]
    }
   ],
   "source": [
    "#84\n",
    "!wget https://s3.amazonaws.com/dl4j-distribution/GoogleNews-vectors-negative300.bin.gz"
   ]
  },
  {
   "cell_type": "code",
   "execution_count": 20,
   "metadata": {},
   "outputs": [
    {
     "name": "stdout",
     "output_type": "stream",
     "text": [
      "\u001b[33mWARNING: Value for scheme.headers does not match. Please report this to <https://github.com/pypa/pip/issues/9617>\n",
      "distutils: /opt/conda/include/python3.8/UNKNOWN\n",
      "sysconfig: /opt/conda/include/python3.8\u001b[0m\n",
      "\u001b[33mWARNING: Additional context:\n",
      "user = False\n",
      "home = None\n",
      "root = None\n",
      "prefix = None\u001b[0m\n",
      "Collecting gensim\n",
      "  Downloading gensim-4.1.2-cp38-cp38-manylinux_2_12_x86_64.manylinux2010_x86_64.whl (24.1 MB)\n",
      "\u001b[K     |████████████████████████████████| 24.1 MB 6.7 MB/s eta 0:00:01\n",
      "\u001b[?25hCollecting smart-open>=1.8.1\n",
      "  Downloading smart_open-5.2.1-py3-none-any.whl (58 kB)\n",
      "\u001b[K     |████████████████████████████████| 58 kB 11.4 MB/s eta 0:00:01\n",
      "\u001b[?25hRequirement already satisfied: numpy>=1.17.0 in /opt/conda/lib/python3.8/site-packages (from gensim) (1.19.5)\n",
      "Requirement already satisfied: scipy>=0.18.1 in /opt/conda/lib/python3.8/site-packages (from gensim) (1.6.2)\n",
      "Installing collected packages: smart-open, gensim\n",
      "\u001b[33mWARNING: Value for scheme.headers does not match. Please report this to <https://github.com/pypa/pip/issues/9617>\n",
      "distutils: /opt/conda/include/python3.8/UNKNOWN\n",
      "sysconfig: /opt/conda/include/python3.8\u001b[0m\n",
      "\u001b[33mWARNING: Additional context:\n",
      "user = False\n",
      "home = None\n",
      "root = None\n",
      "prefix = None\u001b[0m\n",
      "Successfully installed gensim-4.1.2 smart-open-5.2.1\n"
     ]
    }
   ],
   "source": [
    "!pip install gensim"
   ]
  },
  {
   "cell_type": "code",
   "execution_count": 21,
   "metadata": {},
   "outputs": [
    {
     "name": "stdout",
     "output_type": "stream",
     "text": [
      "学習済みベクトル利用単語数: 9130 / 9375\n",
      "torch.Size([9375, 300])\n"
     ]
    }
   ],
   "source": [
    "from gensim.models import KeyedVectors\n",
    "\n",
    "# 学習済みモデルのロード\n",
    "model = KeyedVectors.load_word2vec_format('./GoogleNews-vectors-negative300.bin.gz', binary=True)\n",
    "\n",
    "# 学習済み単語ベクトルの取得\n",
    "VOCAB_SIZE = len(set(word2id.values())) + 1\n",
    "EMB_SIZE = 300\n",
    "weights = np.zeros((VOCAB_SIZE, EMB_SIZE))\n",
    "words_in_pretrained = 0\n",
    "for i, word in enumerate(word2id.keys()):\n",
    "  try:\n",
    "    weights[i] = torch.tensor(model[word])\n",
    "    words_in_pretrained += 1\n",
    "  except KeyError:\n",
    "    weights[i] = np.random.normal(scale=0.4, size=(EMB_SIZE,))\n",
    "weights = torch.from_numpy(weights.astype((np.float32)))\n",
    "\n",
    "print(f'学習済みベクトル利用単語数: {words_in_pretrained} / {VOCAB_SIZE}')\n",
    "print(weights.size())"
   ]
  },
  {
   "cell_type": "code",
   "execution_count": 22,
   "metadata": {},
   "outputs": [],
   "source": [
    "class RNN(nn.Module):\n",
    "  def __init__(self, vocab_size, emb_size, padding_idx, output_size, hidden_size, num_layers, emb_weights=None, bidirectional=False):\n",
    "    super().__init__()\n",
    "    self.hidden_size = hidden_size\n",
    "    self.num_layers = num_layers\n",
    "    self.num_directions = bidirectional + 1  # 単方向：1、双方向：2\n",
    "    if emb_weights != None:  # 指定があれば埋め込み層の重みをemb_weightsで初期化\n",
    "      self.emb = nn.Embedding.from_pretrained(emb_weights, padding_idx=padding_idx)\n",
    "    else:\n",
    "      self.emb = nn.Embedding(vocab_size, emb_size, padding_idx=padding_idx)\n",
    "    self.rnn = nn.RNN(emb_size, hidden_size, num_layers, nonlinearity='tanh', bidirectional=bidirectional, batch_first=True)\n",
    "    self.fc = nn.Linear(hidden_size * self.num_directions, output_size)\n",
    "\n",
    "  def forward(self, x):\n",
    "    self.batch_size = x.size()[0]\n",
    "    hidden = self.init_hidden() # h0のゼロベクトルを作成\n",
    "    emb = self.emb(x)\n",
    "    # emb.size() = (batch_size, seq_len, emb_size)\n",
    "    out, hidden = self.rnn(emb, hidden)\n",
    "    # out.size() = (batch_size, seq_len, hidden_size * num_directions)\n",
    "    out = self.fc(out[:, -1, :])\n",
    "    # out.size() = (batch_size, output_size)\n",
    "    return out\n",
    "\n",
    "  def init_hidden(self):\n",
    "    hidden = torch.zeros(self.num_layers * self.num_directions, self.batch_size, self.hidden_size).to(device)\n",
    "    return hidden"
   ]
  },
  {
   "cell_type": "code",
   "execution_count": 23,
   "metadata": {},
   "outputs": [
    {
     "name": "stdout",
     "output_type": "stream",
     "text": [
      "epoch: 1, loss_train: 1.1695, accuracy_train: 0.4334, loss_valid: 1.1703, accuracy_valid: 0.4341, 10.5173sec\n",
      "epoch: 2, loss_train: 1.1243, accuracy_train: 0.5177, loss_valid: 1.1461, accuracy_valid: 0.4955, 10.2129sec\n",
      "epoch: 3, loss_train: 1.0495, accuracy_train: 0.6012, loss_valid: 1.0725, accuracy_valid: 0.5793, 10.1368sec\n",
      "epoch: 4, loss_train: 1.0171, accuracy_train: 0.6340, loss_valid: 1.0453, accuracy_valid: 0.6055, 10.1480sec\n",
      "epoch: 5, loss_train: 1.0453, accuracy_train: 0.6014, loss_valid: 1.0933, accuracy_valid: 0.5786, 10.1659sec\n",
      "epoch: 6, loss_train: 1.0462, accuracy_train: 0.5979, loss_valid: 1.0806, accuracy_valid: 0.5734, 10.1781sec\n",
      "epoch: 7, loss_train: 0.9947, accuracy_train: 0.6326, loss_valid: 1.0390, accuracy_valid: 0.6018, 10.1465sec\n",
      "epoch: 8, loss_train: 0.9435, accuracy_train: 0.6628, loss_valid: 0.9770, accuracy_valid: 0.6400, 10.1524sec\n",
      "epoch: 9, loss_train: 0.9380, accuracy_train: 0.6633, loss_valid: 0.9788, accuracy_valid: 0.6317, 10.1998sec\n",
      "epoch: 10, loss_train: 0.9413, accuracy_train: 0.6598, loss_valid: 0.9805, accuracy_valid: 0.6310, 10.1302sec\n"
     ]
    }
   ],
   "source": [
    "# パラメータの設定\n",
    "VOCAB_SIZE = len(set(word2id.values())) + 1\n",
    "EMB_SIZE = 300\n",
    "PADDING_IDX = len(set(word2id.values()))\n",
    "OUTPUT_SIZE = 4\n",
    "HIDDEN_SIZE = 50\n",
    "NUM_LAYERS = 1\n",
    "LEARNING_RATE = 5e-2\n",
    "BATCH_SIZE = 32\n",
    "NUM_EPOCHS = 10\n",
    "\n",
    "# デバイスの指定\n",
    "device = torch.device('cuda')\n",
    "\n",
    "# モデルの定義\n",
    "model = RNN(VOCAB_SIZE, EMB_SIZE, PADDING_IDX, OUTPUT_SIZE, HIDDEN_SIZE, NUM_LAYERS, emb_weights=weights)\n",
    "\n",
    "# 損失関数の定義\n",
    "criterion = nn.CrossEntropyLoss()\n",
    "\n",
    "# オプティマイザの定義\n",
    "optimizer = torch.optim.SGD(model.parameters(), lr=LEARNING_RATE)\n",
    "\n",
    "# モデルの学習\n",
    "log = train_model(dataset_train, dataset_valid, BATCH_SIZE, model, criterion, optimizer, NUM_EPOCHS, collate_fn=Padsequence(PADDING_IDX), device=device)"
   ]
  },
  {
   "cell_type": "code",
   "execution_count": 24,
   "metadata": {},
   "outputs": [
    {
     "data": {
      "image/png": "[encoded data removed]",
      "text/plain": [
       "<Figure size 1080x360 with 2 Axes>"
      ]
     },
     "metadata": {
      "needs_background": "light"
     },
     "output_type": "display_data"
    },
    {
     "name": "stdout",
     "output_type": "stream",
     "text": [
      "正解率（学習データ）：0.660\n",
      "正解率（評価データ）：0.650\n"
     ]
    }
   ],
   "source": [
    "# ログの可視化\n",
    "visualize_logs(log)\n",
    "\n",
    "# 正解率の算出\n",
    "_, acc_train = calculate_loss_and_accuracy(model, dataset_train, device)\n",
    "_, acc_test = calculate_loss_and_accuracy(model, dataset_test, device)\n",
    "print(f'正解率（学習データ）：{acc_train:.3f}')\n",
    "print(f'正解率（評価データ）：{acc_test:.3f}')"
   ]
  },
  {
   "cell_type": "code",
   "execution_count": 25,
   "metadata": {},
   "outputs": [
    {
     "name": "stdout",
     "output_type": "stream",
     "text": [
      "epoch: 1, loss_train: 1.1634, accuracy_train: 0.4320, loss_valid: 1.1697, accuracy_valid: 0.4244, 16.6420sec\n",
      "epoch: 2, loss_train: 1.1332, accuracy_train: 0.5201, loss_valid: 1.1867, accuracy_valid: 0.4895, 16.7660sec\n",
      "epoch: 3, loss_train: 1.1028, accuracy_train: 0.5432, loss_valid: 1.1435, accuracy_valid: 0.5187, 16.1593sec\n",
      "epoch: 4, loss_train: 1.0508, accuracy_train: 0.6018, loss_valid: 1.1057, accuracy_valid: 0.5636, 16.5220sec\n",
      "epoch: 5, loss_train: 1.1369, accuracy_train: 0.5590, loss_valid: 1.1901, accuracy_valid: 0.5404, 16.0659sec\n",
      "epoch: 6, loss_train: 1.0243, accuracy_train: 0.6200, loss_valid: 1.1106, accuracy_valid: 0.5838, 16.1330sec\n",
      "epoch: 7, loss_train: 0.9550, accuracy_train: 0.6432, loss_valid: 1.0346, accuracy_valid: 0.6025, 16.4069sec\n",
      "epoch: 8, loss_train: 0.9688, accuracy_train: 0.6409, loss_valid: 1.0576, accuracy_valid: 0.6040, 16.1417sec\n",
      "epoch: 9, loss_train: 0.9592, accuracy_train: 0.6460, loss_valid: 1.0543, accuracy_valid: 0.6108, 16.8892sec\n",
      "epoch: 10, loss_train: 0.9524, accuracy_train: 0.6449, loss_valid: 1.0407, accuracy_valid: 0.6123, 16.1786sec\n"
     ]
    }
   ],
   "source": [
    "#85\n",
    "# パラメータの設定\n",
    "VOCAB_SIZE = len(set(word2id.values())) + 1  # 辞書のID数 + パディングID\n",
    "EMB_SIZE = 300\n",
    "PADDING_IDX = len(set(word2id.values()))\n",
    "OUTPUT_SIZE = 4\n",
    "HIDDEN_SIZE = 50\n",
    "NUM_LAYERS = 2\n",
    "LEARNING_RATE = 5e-2\n",
    "BATCH_SIZE = 32\n",
    "NUM_EPOCHS = 10\n",
    "\n",
    "# デバイスの指定\n",
    "device = torch.device('cuda')\n",
    "\n",
    "# モデルの定義\n",
    "model = RNN(VOCAB_SIZE, EMB_SIZE, PADDING_IDX, OUTPUT_SIZE, HIDDEN_SIZE, NUM_LAYERS, emb_weights=weights, bidirectional=True)\n",
    "\n",
    "# 損失関数の定義\n",
    "criterion = nn.CrossEntropyLoss()\n",
    "\n",
    "# オプティマイザの定義\n",
    "optimizer = torch.optim.SGD(model.parameters(), lr=LEARNING_RATE)\n",
    "\n",
    "# モデルの学習\n",
    "log = train_model(dataset_train, dataset_valid, BATCH_SIZE, model, criterion, optimizer, NUM_EPOCHS, collate_fn=Padsequence(PADDING_IDX), device=device)"
   ]
  },
  {
   "cell_type": "code",
   "execution_count": 26,
   "metadata": {},
   "outputs": [
    {
     "data": {
      "image/png": "[encoded data removed]",
      "text/plain": [
       "<Figure size 1080x360 with 2 Axes>"
      ]
     },
     "metadata": {
      "needs_background": "light"
     },
     "output_type": "display_data"
    },
    {
     "name": "stdout",
     "output_type": "stream",
     "text": [
      "正解率（学習データ）：0.645\n",
      "正解率（評価データ）：0.635\n"
     ]
    }
   ],
   "source": [
    "# ログの可視化\n",
    "visualize_logs(log)\n",
    "\n",
    "# 正解率の算出\n",
    "_, acc_train = calculate_loss_and_accuracy(model, dataset_train, device)\n",
    "_, acc_test = calculate_loss_and_accuracy(model, dataset_test, device)\n",
    "print(f'正解率（学習データ）：{acc_train:.3f}')\n",
    "print(f'正解率（評価データ）：{acc_test:.3f}')"
   ]
  },
  {
   "cell_type": "code",
   "execution_count": 27,
   "metadata": {},
   "outputs": [],
   "source": [
    "#86\n",
    "\n",
    "from torch.nn import functional as F\n",
    "\n",
    "class CNN(nn.Module):\n",
    "  def __init__(self, vocab_size, emb_size, padding_idx, output_size, out_channels, kernel_heights, stride, padding, emb_weights=None):\n",
    "    super().__init__()\n",
    "    if emb_weights != None:  # 指定があれば埋め込み層の重みをemb_weightsで初期化\n",
    "      self.emb = nn.Embedding.from_pretrained(emb_weights, padding_idx=padding_idx)\n",
    "    else:\n",
    "      self.emb = nn.Embedding(vocab_size, emb_size, padding_idx=padding_idx)\n",
    "    self.conv = nn.Conv2d(1, out_channels, (kernel_heights, emb_size), stride, (padding, 0))\n",
    "    self.drop = nn.Dropout(0.3)\n",
    "    self.fc = nn.Linear(out_channels, output_size)\n",
    "    \n",
    "  def forward(self, x):\n",
    "    # x.size() = (batch_size, seq_len)\n",
    "    emb = self.emb(x).unsqueeze(1)\n",
    "    # emb.size() = (batch_size, 1, seq_len, emb_size)\n",
    "    conv = self.conv(emb)\n",
    "    # conv.size() = (batch_size, out_channels, seq_len, 1)\n",
    "    act = F.relu(conv.squeeze(3))\n",
    "    # act.size() = (batch_size, out_channels, seq_len)\n",
    "    max_pool = F.max_pool1d(act, act.size()[2])\n",
    "    # max_pool.size() = (batch_size, out_channels, 1) -> seq_len方向に最大値を取得\n",
    "    out = self.fc(self.drop(max_pool.squeeze(2)))\n",
    "    # out.size() = (batch_size, output_size)\n",
    "    return out"
   ]
  },
  {
   "cell_type": "code",
   "execution_count": 28,
   "metadata": {},
   "outputs": [
    {
     "name": "stdout",
     "output_type": "stream",
     "text": [
      "tensor([[0.2229, 0.3275, 0.1748, 0.2748]], grad_fn=<SoftmaxBackward>)\n",
      "tensor([[0.2635, 0.2269, 0.2131, 0.2965]], grad_fn=<SoftmaxBackward>)\n",
      "tensor([[0.2216, 0.2451, 0.1980, 0.3353]], grad_fn=<SoftmaxBackward>)\n",
      "tensor([[0.2412, 0.2842, 0.2107, 0.2638]], grad_fn=<SoftmaxBackward>)\n",
      "tensor([[0.2485, 0.2746, 0.2039, 0.2730]], grad_fn=<SoftmaxBackward>)\n",
      "tensor([[0.2696, 0.2742, 0.1877, 0.2684]], grad_fn=<SoftmaxBackward>)\n",
      "tensor([[0.2590, 0.2768, 0.1879, 0.2762]], grad_fn=<SoftmaxBackward>)\n",
      "tensor([[0.2565, 0.2441, 0.2106, 0.2888]], grad_fn=<SoftmaxBackward>)\n",
      "tensor([[0.2450, 0.2529, 0.2219, 0.2802]], grad_fn=<SoftmaxBackward>)\n",
      "tensor([[0.2064, 0.2359, 0.2488, 0.3089]], grad_fn=<SoftmaxBackward>)\n"
     ]
    }
   ],
   "source": [
    "# パラメータの設定\n",
    "VOCAB_SIZE = len(set(word2id.values())) + 1  # 辞書のID数 + パディングID\n",
    "EMB_SIZE = 300\n",
    "PADDING_IDX = len(set(word2id.values()))\n",
    "OUTPUT_SIZE = 4\n",
    "OUT_CHANNELS = 100\n",
    "KERNEL_HEIGHTS = 3\n",
    "STRIDE = 1\n",
    "PADDING = 1\n",
    "\n",
    "# モデルの定義\n",
    "model = CNN(VOCAB_SIZE, EMB_SIZE, PADDING_IDX, OUTPUT_SIZE, OUT_CHANNELS, KERNEL_HEIGHTS, STRIDE, PADDING, emb_weights=weights)\n",
    "\n",
    "# 先頭10件の予測値取得\n",
    "for i in range(10):\n",
    "  X = dataset_train[i]['inputs']\n",
    "  print(torch.softmax(model(X.unsqueeze(0)), dim=-1))"
   ]
  },
  {
   "cell_type": "code",
   "execution_count": 29,
   "metadata": {},
   "outputs": [
    {
     "name": "stdout",
     "output_type": "stream",
     "text": [
      "epoch: 1, loss_train: 1.0728, accuracy_train: 0.5572, loss_valid: 1.0893, accuracy_valid: 0.5531, 7.9598sec\n",
      "epoch: 2, loss_train: 0.9988, accuracy_train: 0.6246, loss_valid: 1.0329, accuracy_valid: 0.6010, 7.9088sec\n",
      "epoch: 3, loss_train: 0.9244, accuracy_train: 0.6797, loss_valid: 0.9731, accuracy_valid: 0.6400, 7.8834sec\n",
      "epoch: 4, loss_train: 0.8622, accuracy_train: 0.7085, loss_valid: 0.9268, accuracy_valid: 0.6654, 7.8559sec\n",
      "epoch: 5, loss_train: 0.8163, accuracy_train: 0.7221, loss_valid: 0.8900, accuracy_valid: 0.6744, 7.8554sec\n",
      "epoch: 6, loss_train: 0.7848, accuracy_train: 0.7367, loss_valid: 0.8710, accuracy_valid: 0.6916, 7.8573sec\n",
      "epoch: 7, loss_train: 0.7621, accuracy_train: 0.7421, loss_valid: 0.8552, accuracy_valid: 0.6976, 7.8268sec\n",
      "epoch: 8, loss_train: 0.7494, accuracy_train: 0.7459, loss_valid: 0.8458, accuracy_valid: 0.7028, 7.8381sec\n",
      "epoch: 9, loss_train: 0.7437, accuracy_train: 0.7471, loss_valid: 0.8422, accuracy_valid: 0.7028, 7.8611sec\n",
      "epoch: 10, loss_train: 0.7421, accuracy_train: 0.7477, loss_valid: 0.8411, accuracy_valid: 0.7036, 7.9816sec\n"
     ]
    }
   ],
   "source": [
    "#87\n",
    "\n",
    "# パラメータの設定\n",
    "VOCAB_SIZE = len(set(word2id.values())) + 1\n",
    "EMB_SIZE = 300\n",
    "PADDING_IDX = len(set(word2id.values()))\n",
    "OUTPUT_SIZE = 4\n",
    "OUT_CHANNELS = 100\n",
    "KERNEL_HEIGHTS = 3\n",
    "STRIDE = 1\n",
    "PADDING = 1\n",
    "LEARNING_RATE = 5e-2\n",
    "BATCH_SIZE = 64\n",
    "NUM_EPOCHS = 10\n",
    "\n",
    "# デバイスの指定\n",
    "device = torch.device('cuda')\n",
    "\n",
    "# モデルの定義\n",
    "model = CNN(VOCAB_SIZE, EMB_SIZE, PADDING_IDX, OUTPUT_SIZE, OUT_CHANNELS, KERNEL_HEIGHTS, STRIDE, PADDING, emb_weights=weights)\n",
    "\n",
    "# 損失関数の定義\n",
    "criterion = nn.CrossEntropyLoss()\n",
    "\n",
    "# オプティマイザの定義\n",
    "optimizer = torch.optim.SGD(model.parameters(), lr=LEARNING_RATE)\n",
    "\n",
    "# モデルの学習\n",
    "log = train_model(dataset_train, dataset_valid, BATCH_SIZE, model, criterion, optimizer, NUM_EPOCHS, collate_fn=Padsequence(PADDING_IDX), device=device)"
   ]
  },
  {
   "cell_type": "code",
   "execution_count": 30,
   "metadata": {},
   "outputs": [
    {
     "data": {
      "image/png": "[encoded data removed]",
      "text/plain": [
       "<Figure size 1080x360 with 2 Axes>"
      ]
     },
     "metadata": {
      "needs_background": "light"
     },
     "output_type": "display_data"
    },
    {
     "name": "stdout",
     "output_type": "stream",
     "text": [
      "正解率（学習データ）：0.748\n",
      "正解率（評価データ）：0.707\n"
     ]
    }
   ],
   "source": [
    "# ログの可視化\n",
    "visualize_logs(log)\n",
    "\n",
    "# 正解率の算出\n",
    "_, acc_train = calculate_loss_and_accuracy(model, dataset_train, device)\n",
    "_, acc_test = calculate_loss_and_accuracy(model, dataset_test, device)\n",
    "print(f'正解率（学習データ）：{acc_train:.3f}')\n",
    "print(f'正解率（評価データ）：{acc_test:.3f}')"
   ]
  },
  {
   "cell_type": "markdown",
   "metadata": {},
   "source": [
    "## #88\n",
    "まず #85のハイパーパラメータ探索を行う"
   ]
  },
  {
   "cell_type": "code",
   "execution_count": 31,
   "metadata": {},
   "outputs": [
    {
     "name": "stdout",
     "output_type": "stream",
     "text": [
      "\u001b[33mWARNING: Value for scheme.headers does not match. Please report this to <https://github.com/pypa/pip/issues/9617>\n",
      "distutils: /opt/conda/include/python3.8/UNKNOWN\n",
      "sysconfig: /opt/conda/include/python3.8\u001b[0m\n",
      "\u001b[33mWARNING: Additional context:\n",
      "user = False\n",
      "home = None\n",
      "root = None\n",
      "prefix = None\u001b[0m\n",
      "Collecting optuna\n",
      "  Downloading optuna-2.10.0-py3-none-any.whl (308 kB)\n",
      "\u001b[K     |████████████████████████████████| 308 kB 6.4 MB/s eta 0:00:01\n",
      "\u001b[?25hCollecting colorlog\n",
      "  Downloading colorlog-6.6.0-py2.py3-none-any.whl (11 kB)\n",
      "Collecting cliff\n",
      "  Downloading cliff-3.10.0-py3-none-any.whl (80 kB)\n",
      "\u001b[K     |████████████████████████████████| 80 kB 22.6 MB/s eta 0:00:01\n",
      "\u001b[?25hCollecting cmaes>=0.8.2\n",
      "  Downloading cmaes-0.8.2-py3-none-any.whl (15 kB)\n",
      "Requirement already satisfied: numpy in /opt/conda/lib/python3.8/site-packages (from optuna) (1.19.5)\n",
      "Requirement already satisfied: PyYAML in /opt/conda/lib/python3.8/site-packages (from optuna) (5.4.1)\n",
      "Requirement already satisfied: sqlalchemy>=1.1.0 in /opt/conda/lib/python3.8/site-packages (from optuna) (1.4.11)\n",
      "Requirement already satisfied: packaging>=20.0 in /opt/conda/lib/python3.8/site-packages (from optuna) (20.9)\n",
      "Requirement already satisfied: alembic in /opt/conda/lib/python3.8/site-packages (from optuna) (1.5.8)\n",
      "Requirement already satisfied: scipy!=1.4.0 in /opt/conda/lib/python3.8/site-packages (from optuna) (1.6.2)\n",
      "Requirement already satisfied: tqdm in /opt/conda/lib/python3.8/site-packages (from optuna) (4.60.0)\n",
      "Requirement already satisfied: pyparsing>=2.0.2 in /opt/conda/lib/python3.8/site-packages (from packaging>=20.0->optuna) (2.4.7)\n",
      "Requirement already satisfied: greenlet!=0.4.17 in /opt/conda/lib/python3.8/site-packages (from sqlalchemy>=1.1.0->optuna) (1.0.0)\n",
      "Requirement already satisfied: python-editor>=0.3 in /opt/conda/lib/python3.8/site-packages (from alembic->optuna) (1.0.4)\n",
      "Requirement already satisfied: Mako in /opt/conda/lib/python3.8/site-packages (from alembic->optuna) (1.1.4)\n",
      "Requirement already satisfied: python-dateutil in /opt/conda/lib/python3.8/site-packages (from alembic->optuna) (2.8.1)\n",
      "Collecting PrettyTable>=0.7.2\n",
      "  Downloading prettytable-3.0.0-py3-none-any.whl (24 kB)\n",
      "Collecting stevedore>=2.0.1\n",
      "  Downloading stevedore-3.5.0-py3-none-any.whl (49 kB)\n",
      "\u001b[K     |████████████████████████████████| 49 kB 18.7 MB/s eta 0:00:01\n",
      "\u001b[?25hCollecting autopage>=0.4.0\n",
      "  Downloading autopage-0.5.0-py3-none-any.whl (29 kB)\n",
      "Collecting cmd2>=1.0.0\n",
      "  Downloading cmd2-2.3.3-py3-none-any.whl (149 kB)\n",
      "\u001b[K     |████████████████████████████████| 149 kB 42.5 MB/s eta 0:00:01\n",
      "\u001b[?25hCollecting pbr!=2.1.0,>=2.0.0\n",
      "  Downloading pbr-5.8.0-py2.py3-none-any.whl (112 kB)\n",
      "\u001b[K     |████████████████████████████████| 112 kB 42.4 MB/s eta 0:00:01\n",
      "\u001b[?25hCollecting pyperclip>=1.6\n",
      "  Downloading pyperclip-1.8.2.tar.gz (20 kB)\n",
      "Requirement already satisfied: attrs>=16.3.0 in /opt/conda/lib/python3.8/site-packages (from cmd2>=1.0.0->cliff->optuna) (20.3.0)\n",
      "Requirement already satisfied: wcwidth>=0.1.7 in /opt/conda/lib/python3.8/site-packages (from cmd2>=1.0.0->cliff->optuna) (0.2.5)\n",
      "Requirement already satisfied: MarkupSafe>=0.9.2 in /opt/conda/lib/python3.8/site-packages (from Mako->alembic->optuna) (1.1.1)\n",
      "Requirement already satisfied: six>=1.5 in /opt/conda/lib/python3.8/site-packages (from python-dateutil->alembic->optuna) (1.15.0)\n",
      "Building wheels for collected packages: pyperclip\n",
      "  Building wheel for pyperclip (setup.py) ... \u001b[?25ldone\n",
      "\u001b[?25h  Created wheel for pyperclip: filename=pyperclip-1.8.2-py3-none-any.whl size=11107 sha256=162f965532b651244ab6300e3e2f4979feb3a18f550a43e1dd09ab149597e0fb\n",
      "  Stored in directory: /home/jovyan/.cache/pip/wheels/7f/1a/65/84ff8c386bec21fca6d220ea1f5498a0367883a78dd5ba6122\n",
      "Successfully built pyperclip\n",
      "Installing collected packages: pyperclip, pbr, stevedore, PrettyTable, cmd2, autopage, colorlog, cmaes, cliff, optuna\n",
      "\u001b[33mWARNING: Value for scheme.headers does not match. Please report this to <https://github.com/pypa/pip/issues/9617>\n",
      "distutils: /opt/conda/include/python3.8/UNKNOWN\n",
      "sysconfig: /opt/conda/include/python3.8\u001b[0m\n",
      "\u001b[33mWARNING: Additional context:\n",
      "user = False\n",
      "home = None\n",
      "root = None\n",
      "prefix = None\u001b[0m\n",
      "Successfully installed PrettyTable-3.0.0 autopage-0.5.0 cliff-3.10.0 cmaes-0.8.2 cmd2-2.3.3 colorlog-6.6.0 optuna-2.10.0 pbr-5.8.0 pyperclip-1.8.2 stevedore-3.5.0\n"
     ]
    }
   ],
   "source": [
    "!pip install optuna"
   ]
  },
  {
   "cell_type": "code",
   "execution_count": 32,
   "metadata": {},
   "outputs": [],
   "source": [
    "class Padsequence():\n",
    "  \"\"\"Dataloaderからミニバッチを取り出すごとに最大系列長でパディング\"\"\"\n",
    "  def __init__(self, padding_idx):\n",
    "    self.padding_idx = padding_idx\n",
    "\n",
    "  def __call__(self, batch):\n",
    "    sorted_batch = sorted(batch, key=lambda x: x['inputs'].shape[0], reverse=True)\n",
    "    sequences = [x['inputs'] for x in sorted_batch]\n",
    "    sequences_padded = torch.nn.utils.rnn.pad_sequence(sequences, batch_first=True, padding_value=self.padding_idx)\n",
    "    labels = torch.LongTensor([x['labels'] for x in sorted_batch])\n",
    "\n",
    "    return {'inputs': sequences_padded, 'labels': labels}"
   ]
  },
  {
   "cell_type": "code",
   "execution_count": 33,
   "metadata": {},
   "outputs": [],
   "source": [
    "class RNN(nn.Module):\n",
    "  def __init__(self, vocab_size, emb_size, padding_idx, output_size, hidden_size, num_layers, emb_weights=None, bidirectional=False):\n",
    "    super().__init__()\n",
    "    self.hidden_size = hidden_size\n",
    "    self.num_layers = num_layers\n",
    "    self.num_directions = bidirectional + 1  # 単方向：1、双方向：2\n",
    "    if emb_weights != None:  # 指定があれば埋め込み層の重みをemb_weightsで初期化\n",
    "      self.emb = nn.Embedding.from_pretrained(emb_weights, padding_idx=padding_idx)\n",
    "    else:\n",
    "      self.emb = nn.Embedding(vocab_size, emb_size, padding_idx=padding_idx)\n",
    "    self.rnn = nn.RNN(emb_size, hidden_size, num_layers, nonlinearity='tanh', bidirectional=bidirectional, batch_first=True)\n",
    "    self.fc = nn.Linear(hidden_size * self.num_directions, output_size)\n",
    "\n",
    "  def forward(self, x):\n",
    "    self.batch_size = x.size()[0]\n",
    "    hidden = self.init_hidden() # h0のゼロベクトルを作成\n",
    "    emb = self.emb(x)\n",
    "    # emb.size() = (batch_size, seq_len, emb_size)\n",
    "    out, hidden = self.rnn(emb, hidden)\n",
    "    # out.size() = (batch_size, seq_len, hidden_size * num_directions)\n",
    "    out = self.fc(out[:, -1, :])\n",
    "    # out.size() = (batch_size, output_size)\n",
    "    return out\n",
    "\n",
    "  def init_hidden(self):\n",
    "    hidden = torch.zeros(self.num_layers * self.num_directions, self.batch_size, self.hidden_size).to(device)\n",
    "    return hidden"
   ]
  },
  {
   "cell_type": "code",
   "execution_count": 34,
   "metadata": {},
   "outputs": [],
   "source": [
    "from torch.utils.data import DataLoader\n",
    "import time\n",
    "from torch import optim\n",
    "\n",
    "def calculate_loss_and_accuracy(model, dataset, device=None, criterion=None):\n",
    "  \"\"\"損失・正解率を計算\"\"\"\n",
    "  dataloader = DataLoader(dataset, batch_size=1, shuffle=False)\n",
    "  loss = 0.0\n",
    "  total = 0\n",
    "  correct = 0\n",
    "  with torch.no_grad():\n",
    "    for data in dataloader:\n",
    "      # デバイスの指定\n",
    "      inputs = data['inputs'].to(device)\n",
    "      labels = data['labels'].to(device)\n",
    "\n",
    "      # 順伝播\n",
    "      outputs = model(inputs)\n",
    "\n",
    "      # 損失計算\n",
    "      if criterion != None:\n",
    "        loss += criterion(outputs, labels).item()\n",
    "\n",
    "      # 正解率計算\n",
    "      pred = torch.argmax(outputs, dim=-1)\n",
    "      total += len(inputs)\n",
    "      correct += (pred == labels).sum().item()\n",
    "\n",
    "  return loss / len(dataset), correct / total\n",
    "\n",
    "\n",
    "def train_model(dataset_train, dataset_valid, batch_size, model, criterion, optimizer, num_epochs, num_eta_min, collate_fn=None, device=None):\n",
    "  \"\"\"モデルの学習を実行し、損失・正解率を返す\"\"\"\n",
    "  # デバイスの指定\n",
    "  model.to(device)\n",
    "\n",
    "  # dataloaderの作成\n",
    "  dataloader_train = DataLoader(dataset_train, batch_size=batch_size, shuffle=True, collate_fn=collate_fn)\n",
    "  dataloader_valid = DataLoader(dataset_valid, batch_size=1, shuffle=False)\n",
    "\n",
    "  # スケジューラの設定\n",
    "  scheduler = optim.lr_scheduler.CosineAnnealingLR(optimizer, num_epochs, eta_min=num_eta_min, last_epoch=-1)\n",
    "\n",
    "  # 学習\n",
    "  log_train = []\n",
    "  log_valid = []\n",
    "  for epoch in range(num_epochs):\n",
    "    # 開始時刻の記録\n",
    "    s_time = time.time()\n",
    "\n",
    "    # 訓練モードに設定\n",
    "    model.train()\n",
    "    for data in dataloader_train:\n",
    "      # 勾配をゼロで初期化\n",
    "      optimizer.zero_grad()\n",
    "\n",
    "      # 順伝播 + 誤差逆伝播 + 重み更新\n",
    "      inputs = data['inputs'].to(device)\n",
    "      labels = data['labels'].to(device)\n",
    "      outputs = model.forward(inputs)\n",
    "      loss = criterion(outputs, labels)\n",
    "      loss.backward()\n",
    "      optimizer.step()\n",
    "\n",
    "    # 評価モードに設定\n",
    "    model.eval()\n",
    "\n",
    "    # 損失と正解率の算出\n",
    "    loss_train, acc_train = calculate_loss_and_accuracy(model, dataset_train, device, criterion=criterion)\n",
    "    loss_valid, acc_valid = calculate_loss_and_accuracy(model, dataset_valid, device, criterion=criterion)\n",
    "    log_train.append([loss_train, acc_train])\n",
    "    log_valid.append([loss_valid, acc_valid])\n",
    "    \n",
    "    # チェックポイントの保存\n",
    "    torch.save({'epoch': epoch, 'model_state_dict': model.state_dict(), 'optimizer_state_dict': optimizer.state_dict()}, f'checkpoint{epoch + 1}.pt')\n",
    "    \n",
    "    # 終了時刻の記録\n",
    "    e_time = time.time()\n",
    "    \n",
    "    # ログを出力\n",
    "    print(f'epoch: {epoch + 1}, loss_train: {loss_train:.4f}, accuracy_train: {acc_train:.4f}, loss_valid: {loss_valid:.4f}, accuracy_valid: {acc_valid:.4f}, {(e_time - s_time):.4f}sec') \n",
    "    \n",
    "    \n",
    "    # 検証データの損失が3エポック連続で低下しなかった場合は学習終了\n",
    "    if epoch > 2 and log_valid[epoch - 3][0] <= log_valid[epoch - 2][0] <= log_valid[epoch - 1][0] <= log_valid[epoch][0]:\n",
    "      break\n",
    "\n",
    "    # スケジューラを1ステップ進める\n",
    "    scheduler.step()\n",
    "\n",
    "  return log_train, log_valid\n",
    "\n",
    "\n",
    "\n",
    "def display_train_model(dataset_train, dataset_valid, batch_size, model, criterion, optimizer, num_epochs, num_eta_min, collate_fn=None, device=None):\n",
    "  \"\"\"モデルの学習を実行し、損失・正解率を返す\"\"\"\n",
    "  # デバイスの指定\n",
    "  model.to(device)\n",
    "\n",
    "  # dataloaderの作成\n",
    "  dataloader_train = DataLoader(dataset_train, batch_size=batch_size, shuffle=True, collate_fn=collate_fn)\n",
    "  dataloader_valid = DataLoader(dataset_valid, batch_size=1, shuffle=False)\n",
    "\n",
    "  # スケジューラの設定\n",
    "  scheduler = optim.lr_scheduler.CosineAnnealingLR(optimizer, num_epochs, eta_min=num_eta_min, last_epoch=-1)\n",
    "\n",
    "  # 学習\n",
    "  log_train = []\n",
    "  log_valid = []\n",
    "  for epoch in range(num_epochs):\n",
    "    # 開始時刻の記録\n",
    "    s_time = time.time()\n",
    "\n",
    "    # 訓練モードに設定\n",
    "    model.train()\n",
    "    for data in dataloader_train:\n",
    "      # 勾配をゼロで初期化\n",
    "      optimizer.zero_grad()\n",
    "\n",
    "      # 順伝播 + 誤差逆伝播 + 重み更新\n",
    "      inputs = data['inputs'].to(device)\n",
    "      labels = data['labels'].to(device)\n",
    "      outputs = model.forward(inputs)\n",
    "      loss = criterion(outputs, labels)\n",
    "      loss.backward()\n",
    "      optimizer.step()\n",
    "\n",
    "    # 評価モードに設定\n",
    "    model.eval()\n",
    "\n",
    "    # 損失と正解率の算出\n",
    "    loss_train, acc_train = calculate_loss_and_accuracy(model, dataset_train, device, criterion=criterion)\n",
    "    loss_valid, acc_valid = calculate_loss_and_accuracy(model, dataset_valid, device, criterion=criterion)\n",
    "    log_train.append([loss_train, acc_train])\n",
    "    log_valid.append([loss_valid, acc_valid])\n",
    "    \n",
    "    # チェックポイントの保存\n",
    "    torch.save({'epoch': epoch, 'model_state_dict': model.state_dict(), 'optimizer_state_dict': optimizer.state_dict()}, f'checkpoint{epoch + 1}.pt')\n",
    "    \n",
    "    # 終了時刻の記録\n",
    "    e_time = time.time()\n",
    "    \n",
    "    # ログを出力\n",
    "    print(f'epoch: {epoch + 1}, loss_train: {loss_train:.4f}, accuracy_train: {acc_train:.4f}, loss_valid: {loss_valid:.4f}, accuracy_valid: {acc_valid:.4f}, {(e_time - s_time):.4f}sec') \n",
    "    \n",
    "    \n",
    "    # 検証データの損失が3エポック連続で低下しなかった場合は学習終了\n",
    "    if epoch > 2 and log_valid[epoch - 3][0] <= log_valid[epoch - 2][0] <= log_valid[epoch - 1][0] <= log_valid[epoch][0]:\n",
    "      break\n",
    "\n",
    "    # スケジューラを1ステップ進める\n",
    "    scheduler.step()\n",
    "\n",
    "  return {'train': log_train, 'valid': log_valid}"
   ]
  },
  {
   "cell_type": "code",
   "execution_count": 37,
   "metadata": {},
   "outputs": [],
   "source": [
    "import optuna\n",
    "\n",
    "def Get_Optimizer(trial, model): #optimizerの最適化関数\n",
    "    # Generate the optimizers.\n",
    "    optimizer_name = trial.suggest_categorical('optimizer', ['Adam', 'RMSprop', 'SGD']) \n",
    "    lr = trial.suggest_loguniform('lr', 1e-5, 1e-1) #学習率の初期値を変更\n",
    "    optimizer = getattr(optim, optimizer_name)(model.parameters(), lr=lr)\n",
    "    return optimizer\n",
    "\n",
    "# デバイスの指定\n",
    "device = torch.device('cuda')\n",
    "\n",
    "def objective(trial): \n",
    "       \n",
    "    # デバイスの指定\n",
    "    device = torch.device('cuda')\n",
    "    \n",
    "    #パラメータの設定(小文字はハイパーパラメータチューニングを行う)\n",
    "    VOCAB_SIZE = len(set(word2id.values())) + 1\n",
    "    EMB_SIZE =300\n",
    "    PADDING_IDX = len(set(word2id.values()))\n",
    "    OUTPUT_SIZE = 4\n",
    "    hidden_size = int(trial.suggest_discrete_uniform('hidden_size', 10, 100, 10))\n",
    "    #hidden_size = 50\n",
    "    num_layers = int(trial.suggest_discrete_uniform('num_layers', 2, 5, 1))\n",
    "    batch_size = int(trial.suggest_discrete_uniform('batch_size', 64, 1024, 64)) #適切なバッチサイズを64-1024の間で64刻みで探す\n",
    "    #num_epochs = trial.suggest_int('num_epochs', 5, 50) #適切なエポック数を探す\n",
    "    num_epochs = 10\n",
    "    num_eta_min = trial.suggest_loguniform('min_lr', 1e-5, 1e-1)#スケジューラの学習率の最小値\n",
    "    \n",
    "    \n",
    "    # モデルの定義\n",
    "    model = RNN(VOCAB_SIZE, EMB_SIZE, PADDING_IDX, OUTPUT_SIZE, hidden_size, num_layers, emb_weights=weights, bidirectional=True)\n",
    "    \n",
    "    # 損失関数の定義\n",
    "    criterion = nn.CrossEntropyLoss()\n",
    "    \n",
    "    # オプティマイザの定義\n",
    "    #optimizer = torch.optim.SGD(model.parameters(), lr=1e-3)\n",
    "    optimizer = Get_Optimizer(trial,model)\n",
    "\n",
    "    \n",
    "    return train_model(dataset_train, dataset_valid, batch_size, model, criterion, optimizer, num_epochs, num_eta_min, collate_fn=Padsequence(PADDING_IDX), device=device)[1][-1][0] #log_validの最後のlossを取得\n",
    "    #return train_model(dataset_train, dataset_valid, batch_size, model, criterion, optimizer, num_epochs, num_eta_min, device)[1][-3][0] #log_validの最後から3番目のlossを取得（最小値)"
   ]
  },
  {
   "cell_type": "code",
   "execution_count": 38,
   "metadata": {},
   "outputs": [
    {
     "name": "stderr",
     "output_type": "stream",
     "text": [
      "\u001b[32m[I 2022-01-30 16:50:54,245]\u001b[0m A new study created in memory with name: no-name-804bb310-5c8d-4380-bac6-604d8bbacfe9\u001b[0m\n"
     ]
    },
    {
     "name": "stdout",
     "output_type": "stream",
     "text": [
      "epoch: 1, loss_train: 1.3645, accuracy_train: 0.3265, loss_valid: 1.3645, accuracy_valid: 0.3308, 27.1271sec\n",
      "epoch: 2, loss_train: 1.3397, accuracy_train: 0.3823, loss_valid: 1.3403, accuracy_valid: 0.3847, 27.2013sec\n",
      "epoch: 3, loss_train: 1.3161, accuracy_train: 0.3952, loss_valid: 1.3171, accuracy_valid: 0.3952, 26.7361sec\n",
      "epoch: 4, loss_train: 1.2923, accuracy_train: 0.3962, loss_valid: 1.2938, accuracy_valid: 0.3945, 26.8710sec\n",
      "epoch: 5, loss_train: 1.2682, accuracy_train: 0.3963, loss_valid: 1.2701, accuracy_valid: 0.3960, 26.7279sec\n",
      "epoch: 6, loss_train: 1.2442, accuracy_train: 0.3963, loss_valid: 1.2463, accuracy_valid: 0.3997, 27.0310sec\n",
      "epoch: 7, loss_train: 1.2216, accuracy_train: 0.3999, loss_valid: 1.2239, accuracy_valid: 0.3937, 27.1561sec\n",
      "epoch: 8, loss_train: 1.2023, accuracy_train: 0.4010, loss_valid: 1.2047, accuracy_valid: 0.3967, 26.8132sec\n",
      "epoch: 9, loss_train: 1.1874, accuracy_train: 0.4048, loss_valid: 1.1896, accuracy_valid: 0.3907, 26.8897sec\n",
      "epoch: 10, loss_train: 1.1773, accuracy_train: 0.4072, loss_valid: 1.1793, accuracy_valid: 0.3877, 27.2314sec\n",
      "epoch: 11, loss_train: 1.1713, accuracy_train: 0.4094, loss_valid: 1.1731, accuracy_valid: 0.3937, 27.1952sec\n",
      "epoch: 12, loss_train: 1.1684, accuracy_train: 0.4099, loss_valid: 1.1701, accuracy_valid: 0.3915, 26.7225sec\n",
      "epoch: 13, loss_train: 1.1665, accuracy_train: 0.4125, loss_valid: 1.1680, accuracy_valid: 0.3952, 26.8787sec\n",
      "epoch: 14, loss_train: 1.1657, accuracy_train: 0.4120, loss_valid: 1.1671, accuracy_valid: 0.3982, 26.7120sec\n",
      "epoch: 15, loss_train: 1.1652, accuracy_train: 0.4105, loss_valid: 1.1665, accuracy_valid: 0.3937, 27.3489sec\n",
      "epoch: 16, loss_train: 1.1647, accuracy_train: 0.4138, loss_valid: 1.1660, accuracy_valid: 0.4027, 27.1388sec\n",
      "epoch: 17, loss_train: 1.1649, accuracy_train: 0.4039, loss_valid: 1.1662, accuracy_valid: 0.3975, 26.7148sec\n",
      "epoch: 18, loss_train: 1.1647, accuracy_train: 0.4108, loss_valid: 1.1660, accuracy_valid: 0.3952, 26.8892sec\n",
      "epoch: 19, loss_train: 1.1646, accuracy_train: 0.4162, loss_valid: 1.1658, accuracy_valid: 0.4034, 27.0698sec\n",
      "epoch: 20, loss_train: 1.1645, accuracy_train: 0.4116, loss_valid: 1.1658, accuracy_valid: 0.3945, 27.1592sec\n",
      "epoch: 21, loss_train: 1.1648, accuracy_train: 0.4017, loss_valid: 1.1661, accuracy_valid: 0.3930, 26.6314sec\n",
      "epoch: 22, loss_train: 1.1642, accuracy_train: 0.4158, loss_valid: 1.1654, accuracy_valid: 0.4064, 26.8732sec\n",
      "epoch: 23, loss_train: 1.1644, accuracy_train: 0.4095, loss_valid: 1.1657, accuracy_valid: 0.4004, 26.7078sec\n",
      "epoch: 24, loss_train: 1.1644, accuracy_train: 0.4052, loss_valid: 1.1657, accuracy_valid: 0.3892, 27.3156sec\n",
      "epoch: 25, loss_train: 1.1648, accuracy_train: 0.4061, loss_valid: 1.1661, accuracy_valid: 0.3930, 27.1198sec\n",
      "epoch: 26, loss_train: 1.1645, accuracy_train: 0.4057, loss_valid: 1.1658, accuracy_valid: 0.3915, 27.2359sec\n"
     ]
    },
    {
     "name": "stderr",
     "output_type": "stream",
     "text": [
      "\u001b[32m[I 2022-01-30 17:03:02,944]\u001b[0m Trial 0 finished with value: 1.166155842116136 and parameters: {'hidden_size': 60.0, 'num_layers': 5.0, 'batch_size': 320.0, 'num_epochs': 27, 'min_lr': 0.012270732126854244, 'optimizer': 'SGD', 'lr': 0.0007472317540535216}. Best is trial 0 with value: 1.166155842116136.\u001b[0m\n"
     ]
    },
    {
     "name": "stdout",
     "output_type": "stream",
     "text": [
      "epoch: 27, loss_train: 1.1648, accuracy_train: 0.4024, loss_valid: 1.1662, accuracy_valid: 0.3930, 27.1651sec\n",
      "epoch: 1, loss_train: 1.3224, accuracy_train: 0.4035, loss_valid: 1.3186, accuracy_valid: 0.4064, 27.0358sec\n",
      "epoch: 2, loss_train: 1.2832, accuracy_train: 0.4116, loss_valid: 1.2803, accuracy_valid: 0.4281, 27.5349sec\n",
      "epoch: 3, loss_train: 1.2345, accuracy_train: 0.4151, loss_valid: 1.2326, accuracy_valid: 0.4289, 27.1389sec\n",
      "epoch: 4, loss_train: 1.1920, accuracy_train: 0.4161, loss_valid: 1.1905, accuracy_valid: 0.4326, 27.1795sec\n",
      "epoch: 5, loss_train: 1.1714, accuracy_train: 0.4174, loss_valid: 1.1699, accuracy_valid: 0.4289, 27.1767sec\n",
      "epoch: 6, loss_train: 1.1661, accuracy_train: 0.4183, loss_valid: 1.1645, accuracy_valid: 0.4274, 28.4172sec\n",
      "epoch: 7, loss_train: 1.1645, accuracy_train: 0.4181, loss_valid: 1.1629, accuracy_valid: 0.4296, 28.4040sec\n",
      "epoch: 8, loss_train: 1.1654, accuracy_train: 0.4146, loss_valid: 1.1638, accuracy_valid: 0.4281, 27.9587sec\n",
      "epoch: 9, loss_train: 1.1639, accuracy_train: 0.4189, loss_valid: 1.1626, accuracy_valid: 0.4289, 27.9516sec\n",
      "epoch: 10, loss_train: 1.1642, accuracy_train: 0.4104, loss_valid: 1.1626, accuracy_valid: 0.4132, 28.2128sec\n",
      "epoch: 11, loss_train: 1.1644, accuracy_train: 0.4159, loss_valid: 1.1633, accuracy_valid: 0.4304, 28.2697sec\n",
      "epoch: 12, loss_train: 1.1642, accuracy_train: 0.4176, loss_valid: 1.1634, accuracy_valid: 0.4214, 27.9383sec\n",
      "epoch: 13, loss_train: 1.1652, accuracy_train: 0.4187, loss_valid: 1.1648, accuracy_valid: 0.4169, 27.9108sec\n",
      "epoch: 14, loss_train: 1.1642, accuracy_train: 0.4286, loss_valid: 1.1646, accuracy_valid: 0.4222, 27.9896sec\n",
      "epoch: 15, loss_train: 1.1677, accuracy_train: 0.4161, loss_valid: 1.1702, accuracy_valid: 0.4184, 28.4349sec\n",
      "epoch: 16, loss_train: 1.1744, accuracy_train: 0.4237, loss_valid: 1.1852, accuracy_valid: 0.4319, 28.2578sec\n",
      "epoch: 17, loss_train: 1.1575, accuracy_train: 0.4662, loss_valid: 1.1725, accuracy_valid: 0.4603, 27.6543sec\n",
      "epoch: 18, loss_train: 1.2003, accuracy_train: 0.4164, loss_valid: 1.2167, accuracy_valid: 0.4207, 27.9123sec\n",
      "epoch: 19, loss_train: 1.1391, accuracy_train: 0.4865, loss_valid: 1.1457, accuracy_valid: 0.4790, 28.4722sec\n",
      "epoch: 20, loss_train: 1.2001, accuracy_train: 0.4302, loss_valid: 1.2122, accuracy_valid: 0.4214, 28.3120sec\n",
      "epoch: 21, loss_train: 1.1474, accuracy_train: 0.4874, loss_valid: 1.1635, accuracy_valid: 0.4783, 28.1027sec\n"
     ]
    },
    {
     "name": "stderr",
     "output_type": "stream",
     "text": [
      "\u001b[32m[I 2022-01-30 17:13:17,443]\u001b[0m Trial 1 finished with value: 1.2853429777224263 and parameters: {'hidden_size': 80.0, 'num_layers': 5.0, 'batch_size': 256.0, 'num_epochs': 22, 'min_lr': 0.055759396797777284, 'optimizer': 'SGD', 'lr': 0.0007562053780672063}. Best is trial 0 with value: 1.166155842116136.\u001b[0m\n"
     ]
    },
    {
     "name": "stdout",
     "output_type": "stream",
     "text": [
      "epoch: 22, loss_train: 1.2785, accuracy_train: 0.4204, loss_valid: 1.2853, accuracy_valid: 0.4237, 28.2049sec\n",
      "epoch: 1, loss_train: 1.1800, accuracy_train: 0.3931, loss_valid: 1.1810, accuracy_valid: 0.3922, 20.3833sec\n",
      "epoch: 2, loss_train: 1.1739, accuracy_train: 0.3896, loss_valid: 1.1748, accuracy_valid: 0.3945, 20.4772sec\n",
      "epoch: 3, loss_train: 1.1724, accuracy_train: 0.3969, loss_valid: 1.1732, accuracy_valid: 0.4072, 20.3057sec\n",
      "epoch: 4, loss_train: 1.1729, accuracy_train: 0.3854, loss_valid: 1.1736, accuracy_valid: 0.3892, 20.4576sec\n",
      "epoch: 5, loss_train: 1.1721, accuracy_train: 0.3927, loss_valid: 1.1727, accuracy_valid: 0.4004, 20.3326sec\n",
      "epoch: 6, loss_train: 1.1716, accuracy_train: 0.3918, loss_valid: 1.1722, accuracy_valid: 0.3975, 20.6897sec\n",
      "epoch: 7, loss_train: 1.1712, accuracy_train: 0.3982, loss_valid: 1.1717, accuracy_valid: 0.4027, 20.4010sec\n",
      "epoch: 8, loss_train: 1.1717, accuracy_train: 0.3916, loss_valid: 1.1721, accuracy_valid: 0.3937, 20.4371sec\n",
      "epoch: 9, loss_train: 1.1723, accuracy_train: 0.3876, loss_valid: 1.1727, accuracy_valid: 0.3907, 20.3226sec\n",
      "epoch: 10, loss_train: 1.1713, accuracy_train: 0.3954, loss_valid: 1.1717, accuracy_valid: 0.4019, 20.3175sec\n",
      "epoch: 11, loss_train: 1.1707, accuracy_train: 0.3979, loss_valid: 1.1710, accuracy_valid: 0.4064, 20.2903sec\n",
      "epoch: 12, loss_train: 1.1704, accuracy_train: 0.3976, loss_valid: 1.1707, accuracy_valid: 0.4019, 20.3743sec\n",
      "epoch: 13, loss_train: 1.1721, accuracy_train: 0.3913, loss_valid: 1.1726, accuracy_valid: 0.3847, 20.3713sec\n",
      "epoch: 14, loss_train: 1.1701, accuracy_train: 0.3969, loss_valid: 1.1705, accuracy_valid: 0.4042, 20.3733sec\n",
      "epoch: 15, loss_train: 1.1700, accuracy_train: 0.3977, loss_valid: 1.1704, accuracy_valid: 0.4034, 20.3776sec\n",
      "epoch: 16, loss_train: 1.1700, accuracy_train: 0.3982, loss_valid: 1.1705, accuracy_valid: 0.4049, 20.3657sec\n",
      "epoch: 17, loss_train: 1.1704, accuracy_train: 0.3980, loss_valid: 1.1711, accuracy_valid: 0.4102, 20.3654sec\n",
      "epoch: 18, loss_train: 1.1701, accuracy_train: 0.3990, loss_valid: 1.1709, accuracy_valid: 0.4094, 20.4412sec\n",
      "epoch: 19, loss_train: 1.1693, accuracy_train: 0.4026, loss_valid: 1.1702, accuracy_valid: 0.4154, 20.3491sec\n",
      "epoch: 20, loss_train: 1.1702, accuracy_train: 0.4011, loss_valid: 1.1714, accuracy_valid: 0.4034, 20.3700sec\n",
      "epoch: 21, loss_train: 1.1695, accuracy_train: 0.4028, loss_valid: 1.1707, accuracy_valid: 0.4117, 20.3604sec\n",
      "epoch: 22, loss_train: 1.1695, accuracy_train: 0.4049, loss_valid: 1.1708, accuracy_valid: 0.4117, 20.3888sec\n",
      "epoch: 23, loss_train: 1.1694, accuracy_train: 0.4062, loss_valid: 1.1708, accuracy_valid: 0.4132, 20.4853sec\n"
     ]
    },
    {
     "name": "stderr",
     "output_type": "stream",
     "text": [
      "\u001b[32m[I 2022-01-30 17:21:26,961]\u001b[0m Trial 2 finished with value: 1.171309498211224 and parameters: {'hidden_size': 50.0, 'num_layers': 3.0, 'batch_size': 64.0, 'num_epochs': 24, 'min_lr': 0.0012184053277417728, 'optimizer': 'SGD', 'lr': 0.006319324619000979}. Best is trial 0 with value: 1.166155842116136.\u001b[0m\n"
     ]
    },
    {
     "name": "stdout",
     "output_type": "stream",
     "text": [
      "epoch: 24, loss_train: 1.1696, accuracy_train: 0.4058, loss_valid: 1.1713, accuracy_valid: 0.4109, 20.4570sec\n",
      "epoch: 1, loss_train: 1.2985, accuracy_train: 0.3608, loss_valid: 1.3234, accuracy_valid: 0.3234, 24.1350sec\n",
      "epoch: 2, loss_train: 1.1775, accuracy_train: 0.4165, loss_valid: 1.1877, accuracy_valid: 0.4049, 24.2064sec\n",
      "epoch: 3, loss_train: 1.1666, accuracy_train: 0.4228, loss_valid: 1.1742, accuracy_valid: 0.4042, 24.1149sec\n",
      "epoch: 4, loss_train: 1.1706, accuracy_train: 0.4220, loss_valid: 1.1837, accuracy_valid: 0.4064, 23.9868sec\n",
      "epoch: 5, loss_train: 1.2199, accuracy_train: 0.3829, loss_valid: 1.2538, accuracy_valid: 0.3578, 24.1117sec\n",
      "epoch: 6, loss_train: 1.1822, accuracy_train: 0.4979, loss_valid: 1.2591, accuracy_valid: 0.4760, 24.3540sec\n",
      "epoch: 7, loss_train: 1.0748, accuracy_train: 0.5873, loss_valid: 1.1542, accuracy_valid: 0.5569, 24.1399sec\n",
      "epoch: 8, loss_train: 1.0022, accuracy_train: 0.6208, loss_valid: 1.0716, accuracy_valid: 0.5943, 24.0367sec\n",
      "epoch: 9, loss_train: 0.9824, accuracy_train: 0.6561, loss_valid: 1.0869, accuracy_valid: 0.6138, 24.0476sec\n",
      "epoch: 10, loss_train: 0.9932, accuracy_train: 0.6268, loss_valid: 1.1099, accuracy_valid: 0.5763, 24.0460sec\n",
      "epoch: 11, loss_train: 1.0408, accuracy_train: 0.5994, loss_valid: 1.1877, accuracy_valid: 0.5240, 23.9664sec\n",
      "epoch: 12, loss_train: 0.9395, accuracy_train: 0.6530, loss_valid: 1.0039, accuracy_valid: 0.6183, 24.2943sec\n",
      "epoch: 13, loss_train: 0.9510, accuracy_train: 0.6250, loss_valid: 1.0548, accuracy_valid: 0.5981, 23.9763sec\n",
      "epoch: 14, loss_train: 1.1056, accuracy_train: 0.5640, loss_valid: 1.1221, accuracy_valid: 0.5367, 23.7380sec\n",
      "epoch: 15, loss_train: 1.1510, accuracy_train: 0.5392, loss_valid: 1.1505, accuracy_valid: 0.5359, 24.0147sec\n",
      "epoch: 16, loss_train: 1.3178, accuracy_train: 0.4059, loss_valid: 1.3338, accuracy_valid: 0.4004, 24.0360sec\n",
      "epoch: 17, loss_train: 1.1833, accuracy_train: 0.5062, loss_valid: 1.1923, accuracy_valid: 0.4865, 24.2380sec\n",
      "epoch: 18, loss_train: 1.1996, accuracy_train: 0.4578, loss_valid: 1.2118, accuracy_valid: 0.4469, 24.0894sec\n",
      "epoch: 19, loss_train: 1.2511, accuracy_train: 0.3618, loss_valid: 1.2445, accuracy_valid: 0.3638, 24.0134sec\n",
      "epoch: 20, loss_train: 1.1812, accuracy_train: 0.3943, loss_valid: 1.1811, accuracy_valid: 0.4034, 24.0356sec\n",
      "epoch: 21, loss_train: 1.2332, accuracy_train: 0.3984, loss_valid: 1.2246, accuracy_valid: 0.4027, 24.2958sec\n",
      "epoch: 22, loss_train: 1.2184, accuracy_train: 0.4043, loss_valid: 1.2148, accuracy_valid: 0.4154, 24.2982sec\n",
      "epoch: 23, loss_train: 1.2064, accuracy_train: 0.4028, loss_valid: 1.2022, accuracy_valid: 0.4027, 24.1207sec\n",
      "epoch: 24, loss_train: 1.3181, accuracy_train: 0.4405, loss_valid: 1.3152, accuracy_valid: 0.4319, 24.0195sec\n",
      "epoch: 25, loss_train: 1.3735, accuracy_train: 0.4033, loss_valid: 1.3537, accuracy_valid: 0.4004, 24.1611sec\n",
      "epoch: 26, loss_train: 1.2610, accuracy_train: 0.3986, loss_valid: 1.2525, accuracy_valid: 0.3855, 24.1869sec\n",
      "epoch: 27, loss_train: 1.3634, accuracy_train: 0.3902, loss_valid: 1.3422, accuracy_valid: 0.3810, 24.2911sec\n",
      "epoch: 28, loss_train: 1.3101, accuracy_train: 0.3993, loss_valid: 1.3014, accuracy_valid: 0.3892, 24.1945sec\n",
      "epoch: 29, loss_train: 1.3954, accuracy_train: 0.3914, loss_valid: 1.4143, accuracy_valid: 0.3990, 23.9213sec\n",
      "epoch: 30, loss_train: 1.3581, accuracy_train: 0.3940, loss_valid: 1.3830, accuracy_valid: 0.3802, 24.0744sec\n",
      "epoch: 31, loss_train: 1.3508, accuracy_train: 0.3959, loss_valid: 1.3703, accuracy_valid: 0.3982, 24.1576sec\n",
      "epoch: 32, loss_train: 1.3728, accuracy_train: 0.3469, loss_valid: 1.3965, accuracy_valid: 0.3428, 24.3602sec\n",
      "epoch: 33, loss_train: 1.3366, accuracy_train: 0.3882, loss_valid: 1.3509, accuracy_valid: 0.3930, 24.0685sec\n",
      "epoch: 34, loss_train: 1.2840, accuracy_train: 0.3952, loss_valid: 1.2922, accuracy_valid: 0.3982, 23.8895sec\n",
      "epoch: 35, loss_train: 1.3063, accuracy_train: 0.3763, loss_valid: 1.3221, accuracy_valid: 0.3795, 24.0180sec\n",
      "epoch: 36, loss_train: 1.3331, accuracy_train: 0.3639, loss_valid: 1.3540, accuracy_valid: 0.3570, 24.3069sec\n",
      "epoch: 37, loss_train: 1.3707, accuracy_train: 0.3692, loss_valid: 1.3919, accuracy_valid: 0.3705, 24.3671sec\n",
      "epoch: 38, loss_train: 1.3938, accuracy_train: 0.3834, loss_valid: 1.4110, accuracy_valid: 0.3772, 24.1683sec\n",
      "epoch: 39, loss_train: 1.4293, accuracy_train: 0.3831, loss_valid: 1.4497, accuracy_valid: 0.3817, 24.0844sec\n",
      "epoch: 40, loss_train: 1.4979, accuracy_train: 0.3657, loss_valid: 1.5220, accuracy_valid: 0.3570, 24.0771sec\n",
      "epoch: 41, loss_train: 1.4132, accuracy_train: 0.3734, loss_valid: 1.4384, accuracy_valid: 0.3630, 24.1037sec\n",
      "epoch: 42, loss_train: 1.5993, accuracy_train: 0.3958, loss_valid: 1.6296, accuracy_valid: 0.3922, 24.1487sec\n"
     ]
    },
    {
     "name": "stderr",
     "output_type": "stream",
     "text": [
      "\u001b[32m[I 2022-01-30 17:38:44,062]\u001b[0m Trial 3 finished with value: 1.4327901413519226 and parameters: {'hidden_size': 20.0, 'num_layers': 4.0, 'batch_size': 320.0, 'num_epochs': 43, 'min_lr': 0.049060175509034194, 'optimizer': 'Adam', 'lr': 0.00014947244529742949}. Best is trial 0 with value: 1.166155842116136.\u001b[0m\n"
     ]
    },
    {
     "name": "stdout",
     "output_type": "stream",
     "text": [
      "epoch: 43, loss_train: 1.4163, accuracy_train: 0.3617, loss_valid: 1.4328, accuracy_valid: 0.3533, 24.1756sec\n",
      "epoch: 1, loss_train: 1.3872, accuracy_train: 0.2999, loss_valid: 1.3987, accuracy_valid: 0.2934, 15.5750sec\n",
      "epoch: 2, loss_train: 1.3865, accuracy_train: 0.3006, loss_valid: 1.3980, accuracy_valid: 0.2934, 15.7612sec\n",
      "epoch: 3, loss_train: 1.3858, accuracy_train: 0.3008, loss_valid: 1.3972, accuracy_valid: 0.2942, 15.8252sec\n",
      "epoch: 4, loss_train: 1.3850, accuracy_train: 0.3021, loss_valid: 1.3965, accuracy_valid: 0.2942, 15.7936sec\n",
      "epoch: 5, loss_train: 1.3843, accuracy_train: 0.3031, loss_valid: 1.3958, accuracy_valid: 0.2964, 15.8238sec\n",
      "epoch: 6, loss_train: 1.3836, accuracy_train: 0.3037, loss_valid: 1.3950, accuracy_valid: 0.2972, 15.8407sec\n",
      "epoch: 7, loss_train: 1.3829, accuracy_train: 0.3049, loss_valid: 1.3943, accuracy_valid: 0.2987, 15.9438sec\n",
      "epoch: 8, loss_train: 1.3822, accuracy_train: 0.3053, loss_valid: 1.3936, accuracy_valid: 0.3001, 15.8226sec\n",
      "epoch: 9, loss_train: 1.3815, accuracy_train: 0.3056, loss_valid: 1.3930, accuracy_valid: 0.3016, 15.6020sec\n",
      "epoch: 10, loss_train: 1.3809, accuracy_train: 0.3067, loss_valid: 1.3923, accuracy_valid: 0.3024, 15.6655sec\n",
      "epoch: 11, loss_train: 1.3802, accuracy_train: 0.3077, loss_valid: 1.3917, accuracy_valid: 0.3024, 15.7284sec\n",
      "epoch: 12, loss_train: 1.3796, accuracy_train: 0.3080, loss_valid: 1.3910, accuracy_valid: 0.3016, 15.8379sec\n",
      "epoch: 13, loss_train: 1.3790, accuracy_train: 0.3087, loss_valid: 1.3904, accuracy_valid: 0.3031, 15.7334sec\n",
      "epoch: 14, loss_train: 1.3784, accuracy_train: 0.3093, loss_valid: 1.3899, accuracy_valid: 0.3039, 15.8727sec\n",
      "epoch: 15, loss_train: 1.3778, accuracy_train: 0.3103, loss_valid: 1.3893, accuracy_valid: 0.3039, 15.8537sec\n",
      "epoch: 16, loss_train: 1.3773, accuracy_train: 0.3110, loss_valid: 1.3887, accuracy_valid: 0.3039, 15.7891sec\n",
      "epoch: 17, loss_train: 1.3768, accuracy_train: 0.3111, loss_valid: 1.3882, accuracy_valid: 0.3039, 15.6460sec\n",
      "epoch: 18, loss_train: 1.3763, accuracy_train: 0.3124, loss_valid: 1.3877, accuracy_valid: 0.3039, 15.8050sec\n",
      "epoch: 19, loss_train: 1.3758, accuracy_train: 0.3133, loss_valid: 1.3872, accuracy_valid: 0.3039, 15.9877sec\n",
      "epoch: 20, loss_train: 1.3753, accuracy_train: 0.3135, loss_valid: 1.3868, accuracy_valid: 0.3046, 15.7804sec\n",
      "epoch: 21, loss_train: 1.3749, accuracy_train: 0.3136, loss_valid: 1.3864, accuracy_valid: 0.3054, 15.8687sec\n",
      "epoch: 22, loss_train: 1.3745, accuracy_train: 0.3141, loss_valid: 1.3860, accuracy_valid: 0.3054, 15.7848sec\n",
      "epoch: 23, loss_train: 1.3741, accuracy_train: 0.3146, loss_valid: 1.3856, accuracy_valid: 0.3054, 15.8000sec\n",
      "epoch: 24, loss_train: 1.3738, accuracy_train: 0.3151, loss_valid: 1.3852, accuracy_valid: 0.3061, 15.6113sec\n",
      "epoch: 25, loss_train: 1.3734, accuracy_train: 0.3155, loss_valid: 1.3849, accuracy_valid: 0.3069, 15.7917sec\n",
      "epoch: 26, loss_train: 1.3731, accuracy_train: 0.3161, loss_valid: 1.3846, accuracy_valid: 0.3076, 16.0939sec\n",
      "epoch: 27, loss_train: 1.3728, accuracy_train: 0.3164, loss_valid: 1.3843, accuracy_valid: 0.3084, 15.7794sec\n",
      "epoch: 28, loss_train: 1.3726, accuracy_train: 0.3165, loss_valid: 1.3840, accuracy_valid: 0.3091, 15.7207sec\n",
      "epoch: 29, loss_train: 1.3723, accuracy_train: 0.3168, loss_valid: 1.3838, accuracy_valid: 0.3091, 15.8079sec\n",
      "epoch: 30, loss_train: 1.3721, accuracy_train: 0.3172, loss_valid: 1.3835, accuracy_valid: 0.3091, 15.7606sec\n",
      "epoch: 31, loss_train: 1.3719, accuracy_train: 0.3172, loss_valid: 1.3833, accuracy_valid: 0.3091, 15.9295sec\n",
      "epoch: 32, loss_train: 1.3717, accuracy_train: 0.3175, loss_valid: 1.3831, accuracy_valid: 0.3091, 15.6899sec\n",
      "epoch: 33, loss_train: 1.3715, accuracy_train: 0.3177, loss_valid: 1.3829, accuracy_valid: 0.3084, 15.7369sec\n",
      "epoch: 34, loss_train: 1.3713, accuracy_train: 0.3180, loss_valid: 1.3828, accuracy_valid: 0.3084, 15.8937sec\n",
      "epoch: 35, loss_train: 1.3712, accuracy_train: 0.3184, loss_valid: 1.3826, accuracy_valid: 0.3091, 15.8612sec\n",
      "epoch: 36, loss_train: 1.3710, accuracy_train: 0.3184, loss_valid: 1.3825, accuracy_valid: 0.3091, 15.7216sec\n",
      "epoch: 37, loss_train: 1.3709, accuracy_train: 0.3186, loss_valid: 1.3824, accuracy_valid: 0.3091, 15.7741sec\n",
      "epoch: 38, loss_train: 1.3708, accuracy_train: 0.3188, loss_valid: 1.3823, accuracy_valid: 0.3091, 15.8770sec\n",
      "epoch: 39, loss_train: 1.3707, accuracy_train: 0.3190, loss_valid: 1.3821, accuracy_valid: 0.3091, 15.9160sec\n",
      "epoch: 40, loss_train: 1.3706, accuracy_train: 0.3190, loss_valid: 1.3820, accuracy_valid: 0.3091, 15.8110sec\n",
      "epoch: 41, loss_train: 1.3705, accuracy_train: 0.3190, loss_valid: 1.3820, accuracy_valid: 0.3091, 15.8509sec\n",
      "epoch: 42, loss_train: 1.3704, accuracy_train: 0.3190, loss_valid: 1.3819, accuracy_valid: 0.3091, 15.7218sec\n"
     ]
    },
    {
     "name": "stderr",
     "output_type": "stream",
     "text": [
      "\u001b[32m[I 2022-01-30 17:50:03,550]\u001b[0m Trial 4 finished with value: 1.3817820789035922 and parameters: {'hidden_size': 10.0, 'num_layers': 2.0, 'batch_size': 832.0, 'num_epochs': 43, 'min_lr': 1.5034061301231408e-05, 'optimizer': 'SGD', 'lr': 0.00012054247014975063}. Best is trial 0 with value: 1.166155842116136.\u001b[0m\n"
     ]
    },
    {
     "name": "stdout",
     "output_type": "stream",
     "text": [
      "epoch: 43, loss_train: 1.3703, accuracy_train: 0.3191, loss_valid: 1.3818, accuracy_valid: 0.3091, 15.9742sec\n",
      "epoch: 1, loss_train: 1.5319, accuracy_train: 0.4213, loss_valid: 1.5292, accuracy_valid: 0.4214, 19.7035sec\n",
      "epoch: 2, loss_train: 1.2534, accuracy_train: 0.4189, loss_valid: 1.2572, accuracy_valid: 0.4214, 19.6446sec\n",
      "epoch: 3, loss_train: 1.1792, accuracy_train: 0.4041, loss_valid: 1.1771, accuracy_valid: 0.4199, 19.7088sec\n",
      "epoch: 4, loss_train: 1.1823, accuracy_train: 0.4221, loss_valid: 1.1815, accuracy_valid: 0.4229, 19.6620sec\n",
      "epoch: 5, loss_train: 1.1814, accuracy_train: 0.4217, loss_valid: 1.1815, accuracy_valid: 0.4229, 19.6229sec\n",
      "epoch: 6, loss_train: 1.2191, accuracy_train: 0.4212, loss_valid: 1.2175, accuracy_valid: 0.4214, 19.7602sec\n",
      "epoch: 7, loss_train: 1.2394, accuracy_train: 0.3958, loss_valid: 1.2383, accuracy_valid: 0.3967, 19.7511sec\n",
      "epoch: 8, loss_train: 1.1748, accuracy_train: 0.4149, loss_valid: 1.1777, accuracy_valid: 0.4027, 19.7641sec\n",
      "epoch: 9, loss_train: 1.1757, accuracy_train: 0.4218, loss_valid: 1.1737, accuracy_valid: 0.4266, 19.6078sec\n",
      "epoch: 10, loss_train: 1.1717, accuracy_train: 0.4218, loss_valid: 1.1704, accuracy_valid: 0.4281, 19.4652sec\n",
      "epoch: 11, loss_train: 1.1682, accuracy_train: 0.4103, loss_valid: 1.1672, accuracy_valid: 0.4214, 19.5073sec\n",
      "epoch: 12, loss_train: 1.1733, accuracy_train: 0.4173, loss_valid: 1.1730, accuracy_valid: 0.4139, 19.6870sec\n",
      "epoch: 13, loss_train: 1.1656, accuracy_train: 0.4221, loss_valid: 1.1644, accuracy_valid: 0.4244, 19.8381sec\n",
      "epoch: 14, loss_train: 1.1712, accuracy_train: 0.4224, loss_valid: 1.1708, accuracy_valid: 0.4214, 19.6334sec\n",
      "epoch: 15, loss_train: 1.1642, accuracy_train: 0.4190, loss_valid: 1.1646, accuracy_valid: 0.4124, 19.6311sec\n",
      "epoch: 16, loss_train: 1.1657, accuracy_train: 0.4232, loss_valid: 1.1653, accuracy_valid: 0.4251, 19.6606sec\n",
      "epoch: 17, loss_train: 1.1638, accuracy_train: 0.4205, loss_valid: 1.1628, accuracy_valid: 0.4266, 19.7057sec\n",
      "epoch: 18, loss_train: 1.1635, accuracy_train: 0.4165, loss_valid: 1.1624, accuracy_valid: 0.4251, 19.6483sec\n"
     ]
    },
    {
     "name": "stderr",
     "output_type": "stream",
     "text": [
      "\u001b[32m[I 2022-01-30 17:56:17,292]\u001b[0m Trial 5 finished with value: 1.1621097504735707 and parameters: {'hidden_size': 30.0, 'num_layers': 3.0, 'batch_size': 960.0, 'num_epochs': 19, 'min_lr': 0.0001700711157429873, 'optimizer': 'RMSprop', 'lr': 0.011251574824952065}. Best is trial 5 with value: 1.1621097504735707.\u001b[0m\n"
     ]
    },
    {
     "name": "stdout",
     "output_type": "stream",
     "text": [
      "epoch: 19, loss_train: 1.1633, accuracy_train: 0.4197, loss_valid: 1.1621, accuracy_valid: 0.4244, 19.7185sec\n",
      "epoch: 1, loss_train: 1.1785, accuracy_train: 0.4213, loss_valid: 1.1788, accuracy_valid: 0.4214, 23.7620sec\n",
      "epoch: 2, loss_train: 1.1732, accuracy_train: 0.3964, loss_valid: 1.1754, accuracy_valid: 0.3960, 23.6551sec\n",
      "epoch: 3, loss_train: 1.2173, accuracy_train: 0.3948, loss_valid: 1.2215, accuracy_valid: 0.3922, 23.8709sec\n",
      "epoch: 4, loss_train: 1.3225, accuracy_train: 0.3745, loss_valid: 1.3197, accuracy_valid: 0.3645, 23.9020sec\n",
      "epoch: 5, loss_train: 1.2293, accuracy_train: 0.4019, loss_valid: 1.2356, accuracy_valid: 0.3907, 23.8011sec\n",
      "epoch: 6, loss_train: 1.3287, accuracy_train: 0.3706, loss_valid: 1.3324, accuracy_valid: 0.3623, 23.8471sec\n",
      "epoch: 7, loss_train: 1.1796, accuracy_train: 0.4316, loss_valid: 1.1869, accuracy_valid: 0.4229, 23.9009sec\n",
      "epoch: 8, loss_train: 1.2549, accuracy_train: 0.3958, loss_valid: 1.2578, accuracy_valid: 0.3960, 23.8781sec\n",
      "epoch: 9, loss_train: 1.2809, accuracy_train: 0.3818, loss_valid: 1.2912, accuracy_valid: 0.3720, 23.8303sec\n",
      "epoch: 10, loss_train: 1.2196, accuracy_train: 0.4611, loss_valid: 1.2256, accuracy_valid: 0.4581, 23.8418sec\n",
      "epoch: 11, loss_train: 1.2068, accuracy_train: 0.5010, loss_valid: 1.2204, accuracy_valid: 0.4970, 23.9605sec\n",
      "epoch: 12, loss_train: 1.1443, accuracy_train: 0.5480, loss_valid: 1.1703, accuracy_valid: 0.5382, 23.7399sec\n",
      "epoch: 13, loss_train: 1.1504, accuracy_train: 0.5586, loss_valid: 1.1651, accuracy_valid: 0.5487, 23.8133sec\n",
      "epoch: 14, loss_train: 1.4196, accuracy_train: 0.4381, loss_valid: 1.4462, accuracy_valid: 0.4281, 23.7945sec\n",
      "epoch: 15, loss_train: 1.1944, accuracy_train: 0.5593, loss_valid: 1.2312, accuracy_valid: 0.5404, 23.8782sec\n",
      "epoch: 16, loss_train: 1.0702, accuracy_train: 0.6023, loss_valid: 1.1094, accuracy_valid: 0.5756, 23.8239sec\n",
      "epoch: 17, loss_train: 1.2304, accuracy_train: 0.5691, loss_valid: 1.2878, accuracy_valid: 0.5531, 23.8937sec\n",
      "epoch: 18, loss_train: 1.1397, accuracy_train: 0.5867, loss_valid: 1.1828, accuracy_valid: 0.5719, 23.8346sec\n",
      "epoch: 19, loss_train: 1.0505, accuracy_train: 0.6116, loss_valid: 1.1006, accuracy_valid: 0.5853, 23.8736sec\n",
      "epoch: 20, loss_train: 1.1445, accuracy_train: 0.5842, loss_valid: 1.1942, accuracy_valid: 0.5644, 23.8302sec\n",
      "epoch: 21, loss_train: 1.2874, accuracy_train: 0.5384, loss_valid: 1.3405, accuracy_valid: 0.5225, 23.9216sec\n",
      "epoch: 22, loss_train: 1.1577, accuracy_train: 0.5842, loss_valid: 1.2430, accuracy_valid: 0.5606, 23.8194sec\n",
      "epoch: 23, loss_train: 1.1180, accuracy_train: 0.6072, loss_valid: 1.1942, accuracy_valid: 0.5816, 23.8632sec\n",
      "epoch: 24, loss_train: 1.2165, accuracy_train: 0.5843, loss_valid: 1.2968, accuracy_valid: 0.5629, 23.9203sec\n",
      "epoch: 25, loss_train: 1.0945, accuracy_train: 0.6119, loss_valid: 1.1665, accuracy_valid: 0.5936, 23.8486sec\n",
      "epoch: 26, loss_train: 1.0733, accuracy_train: 0.6279, loss_valid: 1.1669, accuracy_valid: 0.5958, 23.8393sec\n",
      "epoch: 27, loss_train: 1.0551, accuracy_train: 0.6206, loss_valid: 1.1178, accuracy_valid: 0.5928, 23.9696sec\n",
      "epoch: 28, loss_train: 1.0502, accuracy_train: 0.6300, loss_valid: 1.1183, accuracy_valid: 0.6040, 23.8708sec\n",
      "epoch: 29, loss_train: 1.1358, accuracy_train: 0.5952, loss_valid: 1.2093, accuracy_valid: 0.5689, 23.7654sec\n",
      "epoch: 30, loss_train: 1.0487, accuracy_train: 0.6131, loss_valid: 1.1198, accuracy_valid: 0.5778, 23.8101sec\n",
      "epoch: 31, loss_train: 1.0443, accuracy_train: 0.6179, loss_valid: 1.1091, accuracy_valid: 0.5921, 23.7888sec\n",
      "epoch: 32, loss_train: 1.0878, accuracy_train: 0.6265, loss_valid: 1.1849, accuracy_valid: 0.5988, 23.7524sec\n",
      "epoch: 33, loss_train: 1.1247, accuracy_train: 0.6161, loss_valid: 1.2233, accuracy_valid: 0.5741, 23.8389sec\n",
      "epoch: 34, loss_train: 1.0548, accuracy_train: 0.6296, loss_valid: 1.1407, accuracy_valid: 0.5906, 23.9962sec\n",
      "epoch: 35, loss_train: 1.1650, accuracy_train: 0.6075, loss_valid: 1.2425, accuracy_valid: 0.5756, 23.7857sec\n",
      "epoch: 36, loss_train: 1.0871, accuracy_train: 0.6221, loss_valid: 1.1669, accuracy_valid: 0.5823, 23.8332sec\n",
      "epoch: 37, loss_train: 1.0298, accuracy_train: 0.6287, loss_valid: 1.1035, accuracy_valid: 0.5966, 23.9067sec\n",
      "epoch: 38, loss_train: 1.0505, accuracy_train: 0.6226, loss_valid: 1.1318, accuracy_valid: 0.5831, 23.7325sec\n",
      "epoch: 39, loss_train: 1.0118, accuracy_train: 0.6315, loss_valid: 1.0783, accuracy_valid: 0.6010, 23.8574sec\n",
      "epoch: 40, loss_train: 1.0854, accuracy_train: 0.6200, loss_valid: 1.1543, accuracy_valid: 0.5838, 23.8389sec\n"
     ]
    },
    {
     "name": "stderr",
     "output_type": "stream",
     "text": [
      "\u001b[32m[I 2022-01-30 18:12:34,714]\u001b[0m Trial 6 finished with value: 1.0500580046303616 and parameters: {'hidden_size': 10.0, 'num_layers': 4.0, 'batch_size': 704.0, 'num_epochs': 41, 'min_lr': 0.0016229996446132987, 'optimizer': 'RMSprop', 'lr': 0.005336989180585703}. Best is trial 6 with value: 1.0500580046303616.\u001b[0m\n"
     ]
    },
    {
     "name": "stdout",
     "output_type": "stream",
     "text": [
      "epoch: 41, loss_train: 0.9887, accuracy_train: 0.6323, loss_valid: 1.0501, accuracy_valid: 0.6025, 23.7025sec\n",
      "epoch: 1, loss_train: 1.1861, accuracy_train: 0.4289, loss_valid: 1.2182, accuracy_valid: 0.4289, 16.1152sec\n",
      "epoch: 2, loss_train: 1.0958, accuracy_train: 0.5772, loss_valid: 1.1220, accuracy_valid: 0.5531, 16.2116sec\n",
      "epoch: 3, loss_train: 1.1067, accuracy_train: 0.5732, loss_valid: 1.1426, accuracy_valid: 0.5569, 15.9619sec\n",
      "epoch: 4, loss_train: 1.2962, accuracy_train: 0.4442, loss_valid: 1.3220, accuracy_valid: 0.4349, 16.1100sec\n",
      "epoch: 5, loss_train: 1.1023, accuracy_train: 0.5917, loss_valid: 1.1372, accuracy_valid: 0.5734, 15.9340sec\n",
      "epoch: 6, loss_train: 1.1477, accuracy_train: 0.5503, loss_valid: 1.1753, accuracy_valid: 0.5254, 15.8786sec\n",
      "epoch: 7, loss_train: 1.0681, accuracy_train: 0.6192, loss_valid: 1.1075, accuracy_valid: 0.5861, 15.9078sec\n",
      "epoch: 8, loss_train: 1.1659, accuracy_train: 0.5742, loss_valid: 1.2222, accuracy_valid: 0.5479, 15.8973sec\n",
      "epoch: 9, loss_train: 1.2986, accuracy_train: 0.3896, loss_valid: 1.2933, accuracy_valid: 0.3855, 15.9129sec\n",
      "epoch: 10, loss_train: 1.1459, accuracy_train: 0.5649, loss_valid: 1.1967, accuracy_valid: 0.5389, 15.9450sec\n",
      "epoch: 11, loss_train: 1.2435, accuracy_train: 0.4875, loss_valid: 1.2470, accuracy_valid: 0.4790, 15.9990sec\n",
      "epoch: 12, loss_train: 1.1127, accuracy_train: 0.6003, loss_valid: 1.1409, accuracy_valid: 0.5681, 15.8617sec\n",
      "epoch: 13, loss_train: 1.1585, accuracy_train: 0.5264, loss_valid: 1.1914, accuracy_valid: 0.4963, 15.9511sec\n",
      "epoch: 14, loss_train: 1.1639, accuracy_train: 0.5401, loss_valid: 1.2034, accuracy_valid: 0.5142, 16.0035sec\n",
      "epoch: 15, loss_train: 1.4359, accuracy_train: 0.3132, loss_valid: 1.4447, accuracy_valid: 0.3308, 15.8570sec\n",
      "epoch: 16, loss_train: 1.2397, accuracy_train: 0.4802, loss_valid: 1.2453, accuracy_valid: 0.4813, 16.1283sec\n",
      "epoch: 17, loss_train: 1.1500, accuracy_train: 0.5447, loss_valid: 1.1760, accuracy_valid: 0.5247, 15.9457sec\n",
      "epoch: 18, loss_train: 1.2271, accuracy_train: 0.4744, loss_valid: 1.2348, accuracy_valid: 0.4805, 15.9669sec\n",
      "epoch: 19, loss_train: 1.9646, accuracy_train: 0.4382, loss_valid: 1.9859, accuracy_valid: 0.4334, 16.0927sec\n",
      "epoch: 20, loss_train: 1.2992, accuracy_train: 0.4315, loss_valid: 1.3048, accuracy_valid: 0.4274, 15.8761sec\n",
      "epoch: 21, loss_train: 1.6884, accuracy_train: 0.3420, loss_valid: 1.6549, accuracy_valid: 0.3570, 15.9075sec\n",
      "epoch: 22, loss_train: 1.4953, accuracy_train: 0.4288, loss_valid: 1.4980, accuracy_valid: 0.4274, 16.0047sec\n",
      "epoch: 23, loss_train: 1.6457, accuracy_train: 0.3259, loss_valid: 1.6197, accuracy_valid: 0.3398, 15.9975sec\n",
      "epoch: 24, loss_train: 1.6837, accuracy_train: 0.4193, loss_valid: 1.6827, accuracy_valid: 0.4162, 15.8797sec\n",
      "epoch: 25, loss_train: 1.5455, accuracy_train: 0.3475, loss_valid: 1.5272, accuracy_valid: 0.3623, 15.9706sec\n",
      "epoch: 26, loss_train: 1.5359, accuracy_train: 0.2946, loss_valid: 1.5330, accuracy_valid: 0.3001, 16.0468sec\n"
     ]
    },
    {
     "name": "stderr",
     "output_type": "stream",
     "text": [
      "\u001b[32m[I 2022-01-30 18:19:46,082]\u001b[0m Trial 7 finished with value: 1.7216150925611844 and parameters: {'hidden_size': 100.0, 'num_layers': 2.0, 'batch_size': 512.0, 'num_epochs': 27, 'min_lr': 0.00888962068032808, 'optimizer': 'RMSprop', 'lr': 0.00025909816352262066}. Best is trial 6 with value: 1.0500580046303616.\u001b[0m\n"
     ]
    },
    {
     "name": "stdout",
     "output_type": "stream",
     "text": [
      "epoch: 27, loss_train: 1.7443, accuracy_train: 0.3478, loss_valid: 1.7216, accuracy_valid: 0.3585, 15.9813sec\n",
      "epoch: 1, loss_train: 1.3783, accuracy_train: 0.3881, loss_valid: 1.4183, accuracy_valid: 0.3743, 15.8783sec\n",
      "epoch: 2, loss_train: 1.1334, accuracy_train: 0.5510, loss_valid: 1.1633, accuracy_valid: 0.5187, 15.8530sec\n",
      "epoch: 3, loss_train: 1.1922, accuracy_train: 0.5305, loss_valid: 1.2362, accuracy_valid: 0.5060, 15.9297sec\n",
      "epoch: 4, loss_train: 1.1660, accuracy_train: 0.5485, loss_valid: 1.2230, accuracy_valid: 0.5202, 16.0808sec\n",
      "epoch: 5, loss_train: 1.1532, accuracy_train: 0.5623, loss_valid: 1.2263, accuracy_valid: 0.5329, 15.9591sec\n"
     ]
    },
    {
     "name": "stderr",
     "output_type": "stream",
     "text": [
      "\u001b[32m[I 2022-01-30 18:21:21,634]\u001b[0m Trial 8 finished with value: 1.1956832023772472 and parameters: {'hidden_size': 80.0, 'num_layers': 2.0, 'batch_size': 640.0, 'num_epochs': 6, 'min_lr': 2.165881894185051e-05, 'optimizer': 'Adam', 'lr': 0.0019429753551819602}. Best is trial 6 with value: 1.0500580046303616.\u001b[0m\n"
     ]
    },
    {
     "name": "stdout",
     "output_type": "stream",
     "text": [
      "epoch: 6, loss_train: 1.1426, accuracy_train: 0.5618, loss_valid: 1.1957, accuracy_valid: 0.5419, 15.8361sec\n",
      "epoch: 1, loss_train: 1.3194, accuracy_train: 0.3966, loss_valid: 1.3276, accuracy_valid: 0.3960, 20.3242sec\n",
      "epoch: 2, loss_train: 1.2790, accuracy_train: 0.4443, loss_valid: 1.3175, accuracy_valid: 0.4341, 20.2815sec\n",
      "epoch: 3, loss_train: 1.2542, accuracy_train: 0.4914, loss_valid: 1.2951, accuracy_valid: 0.4723, 20.2219sec\n",
      "epoch: 4, loss_train: 1.1934, accuracy_train: 0.5501, loss_valid: 1.2438, accuracy_valid: 0.5090, 20.3044sec\n",
      "epoch: 5, loss_train: 1.2055, accuracy_train: 0.5551, loss_valid: 1.3015, accuracy_valid: 0.5232, 20.2365sec\n",
      "epoch: 6, loss_train: 1.0296, accuracy_train: 0.6432, loss_valid: 1.1024, accuracy_valid: 0.6003, 20.2115sec\n",
      "epoch: 7, loss_train: 1.1838, accuracy_train: 0.5724, loss_valid: 1.2494, accuracy_valid: 0.5404, 20.2791sec\n",
      "epoch: 8, loss_train: 1.1326, accuracy_train: 0.5940, loss_valid: 1.2065, accuracy_valid: 0.5629, 20.2223sec\n",
      "epoch: 9, loss_train: 1.1848, accuracy_train: 0.5904, loss_valid: 1.3309, accuracy_valid: 0.5359, 20.1662sec\n",
      "epoch: 10, loss_train: 1.0090, accuracy_train: 0.6328, loss_valid: 1.1078, accuracy_valid: 0.5853, 20.1886sec\n",
      "epoch: 11, loss_train: 1.0260, accuracy_train: 0.6250, loss_valid: 1.1275, accuracy_valid: 0.5644, 20.2102sec\n",
      "epoch: 12, loss_train: 1.0886, accuracy_train: 0.6089, loss_valid: 1.1805, accuracy_valid: 0.5704, 20.1635sec\n",
      "epoch: 13, loss_train: 1.0900, accuracy_train: 0.6089, loss_valid: 1.2010, accuracy_valid: 0.5659, 20.3193sec\n",
      "epoch: 14, loss_train: 1.0705, accuracy_train: 0.6191, loss_valid: 1.1928, accuracy_valid: 0.5696, 20.2292sec\n",
      "epoch: 15, loss_train: 1.1198, accuracy_train: 0.5982, loss_valid: 1.2157, accuracy_valid: 0.5584, 20.2469sec\n",
      "epoch: 16, loss_train: 1.1206, accuracy_train: 0.5850, loss_valid: 1.2596, accuracy_valid: 0.5337, 20.0884sec\n",
      "epoch: 17, loss_train: 1.1054, accuracy_train: 0.5972, loss_valid: 1.2351, accuracy_valid: 0.5487, 20.2360sec\n",
      "epoch: 18, loss_train: 1.0021, accuracy_train: 0.6541, loss_valid: 1.1441, accuracy_valid: 0.6085, 20.1589sec\n",
      "epoch: 19, loss_train: 1.0742, accuracy_train: 0.6420, loss_valid: 1.1642, accuracy_valid: 0.5853, 20.3404sec\n",
      "epoch: 20, loss_train: 1.1112, accuracy_train: 0.6432, loss_valid: 1.3070, accuracy_valid: 0.5883, 20.2762sec\n",
      "epoch: 21, loss_train: 1.1475, accuracy_train: 0.5774, loss_valid: 1.2827, accuracy_valid: 0.5329, 20.1870sec\n",
      "epoch: 22, loss_train: 1.3465, accuracy_train: 0.4723, loss_valid: 1.3601, accuracy_valid: 0.4409, 20.2354sec\n",
      "epoch: 23, loss_train: 1.2025, accuracy_train: 0.4839, loss_valid: 1.2373, accuracy_valid: 0.4566, 20.1693sec\n",
      "epoch: 24, loss_train: 1.2807, accuracy_train: 0.3778, loss_valid: 1.2921, accuracy_valid: 0.3743, 20.1540sec\n",
      "epoch: 25, loss_train: 1.2392, accuracy_train: 0.4025, loss_valid: 1.2585, accuracy_valid: 0.3810, 20.2444sec\n",
      "epoch: 26, loss_train: 1.1914, accuracy_train: 0.4264, loss_valid: 1.2087, accuracy_valid: 0.3975, 20.1862sec\n",
      "epoch: 27, loss_train: 1.4199, accuracy_train: 0.3744, loss_valid: 1.4247, accuracy_valid: 0.3683, 20.1573sec\n",
      "epoch: 28, loss_train: 1.5889, accuracy_train: 0.3457, loss_valid: 1.5865, accuracy_valid: 0.3488, 20.2012sec\n",
      "epoch: 29, loss_train: 1.6097, accuracy_train: 0.3807, loss_valid: 1.6311, accuracy_valid: 0.3847, 20.2754sec\n",
      "epoch: 30, loss_train: 1.3832, accuracy_train: 0.3810, loss_valid: 1.3988, accuracy_valid: 0.3772, 20.1820sec\n",
      "epoch: 31, loss_train: 1.6013, accuracy_train: 0.3595, loss_valid: 1.5972, accuracy_valid: 0.3585, 20.2045sec\n",
      "epoch: 32, loss_train: 1.6090, accuracy_train: 0.3699, loss_valid: 1.6338, accuracy_valid: 0.3548, 20.1593sec\n",
      "epoch: 33, loss_train: 1.6197, accuracy_train: 0.3733, loss_valid: 1.6682, accuracy_valid: 0.3600, 20.2571sec\n",
      "epoch: 34, loss_train: 1.2509, accuracy_train: 0.4393, loss_valid: 1.3003, accuracy_valid: 0.4102, 20.2876sec\n",
      "epoch: 35, loss_train: 1.3053, accuracy_train: 0.4602, loss_valid: 1.3609, accuracy_valid: 0.4326, 20.1606sec\n",
      "epoch: 36, loss_train: 1.3989, accuracy_train: 0.4115, loss_valid: 1.4439, accuracy_valid: 0.4027, 20.2984sec\n",
      "epoch: 37, loss_train: 1.4225, accuracy_train: 0.3791, loss_valid: 1.4665, accuracy_valid: 0.3765, 20.0181sec\n",
      "epoch: 38, loss_train: 1.5766, accuracy_train: 0.3750, loss_valid: 1.6327, accuracy_valid: 0.3630, 20.2427sec\n",
      "epoch: 39, loss_train: 1.6364, accuracy_train: 0.3713, loss_valid: 1.6954, accuracy_valid: 0.3548, 20.1608sec\n",
      "epoch: 40, loss_train: 1.4648, accuracy_train: 0.3925, loss_valid: 1.5000, accuracy_valid: 0.3787, 20.1462sec\n",
      "epoch: 41, loss_train: 1.8546, accuracy_train: 0.3589, loss_valid: 1.9235, accuracy_valid: 0.3473, 20.1590sec\n",
      "epoch: 42, loss_train: 1.8103, accuracy_train: 0.3923, loss_valid: 1.8756, accuracy_valid: 0.3750, 20.1818sec\n",
      "epoch: 43, loss_train: 1.4242, accuracy_train: 0.4173, loss_valid: 1.4638, accuracy_valid: 0.3922, 20.2159sec\n"
     ]
    },
    {
     "name": "stderr",
     "output_type": "stream",
     "text": [
      "\u001b[32m[I 2022-01-30 18:36:11,020]\u001b[0m Trial 9 finished with value: 1.6491592639923363 and parameters: {'hidden_size': 30.0, 'num_layers': 3.0, 'batch_size': 256.0, 'num_epochs': 44, 'min_lr': 0.012319546694638884, 'optimizer': 'Adam', 'lr': 0.003613671800268675}. Best is trial 6 with value: 1.0500580046303616.\u001b[0m\n"
     ]
    },
    {
     "name": "stdout",
     "output_type": "stream",
     "text": [
      "epoch: 44, loss_train: 1.5918, accuracy_train: 0.4039, loss_valid: 1.6492, accuracy_valid: 0.3832, 20.1613sec\n",
      "epoch: 1, loss_train: 4.6681, accuracy_train: 0.3455, loss_valid: 4.8716, accuracy_valid: 0.3241, 23.9042sec\n",
      "epoch: 2, loss_train: 9.2382, accuracy_train: 0.4069, loss_valid: 9.3270, accuracy_valid: 0.3945, 23.7993sec\n",
      "epoch: 3, loss_train: 3.2458, accuracy_train: 0.2288, loss_valid: 3.5466, accuracy_valid: 0.2268, 23.9424sec\n",
      "epoch: 4, loss_train: 1.9707, accuracy_train: 0.3921, loss_valid: 2.2207, accuracy_valid: 0.3675, 24.0017sec\n",
      "epoch: 5, loss_train: 2.9759, accuracy_train: 0.1551, loss_valid: 3.0387, accuracy_valid: 0.1707, 23.8923sec\n",
      "epoch: 6, loss_train: 2.8137, accuracy_train: 0.3902, loss_valid: 3.0780, accuracy_valid: 0.3683, 23.8864sec\n",
      "epoch: 7, loss_train: 3.3350, accuracy_train: 0.4245, loss_valid: 3.4300, accuracy_valid: 0.4199, 23.8621sec\n",
      "epoch: 8, loss_train: 2.4968, accuracy_train: 0.1560, loss_valid: 2.7081, accuracy_valid: 0.1714, 23.8819sec\n",
      "epoch: 9, loss_train: 2.0964, accuracy_train: 0.3768, loss_valid: 2.3031, accuracy_valid: 0.3653, 23.9496sec\n",
      "epoch: 10, loss_train: 1.8592, accuracy_train: 0.3873, loss_valid: 2.0530, accuracy_valid: 0.3787, 23.8826sec\n",
      "epoch: 11, loss_train: 3.0343, accuracy_train: 0.3775, loss_valid: 3.1784, accuracy_valid: 0.3683, 23.8612sec\n",
      "epoch: 12, loss_train: 1.4777, accuracy_train: 0.3968, loss_valid: 1.6661, accuracy_valid: 0.3765, 23.8456sec\n",
      "epoch: 13, loss_train: 2.1831, accuracy_train: 0.2846, loss_valid: 2.2573, accuracy_valid: 0.2912, 23.9573sec\n",
      "epoch: 14, loss_train: 1.8493, accuracy_train: 0.4214, loss_valid: 2.0269, accuracy_valid: 0.4072, 23.9333sec\n",
      "epoch: 15, loss_train: 1.5482, accuracy_train: 0.3985, loss_valid: 1.8097, accuracy_valid: 0.3765, 23.9020sec\n",
      "epoch: 16, loss_train: 2.0963, accuracy_train: 0.3206, loss_valid: 2.2198, accuracy_valid: 0.3241, 23.8509sec\n",
      "epoch: 17, loss_train: 1.8673, accuracy_train: 0.4321, loss_valid: 2.0518, accuracy_valid: 0.4259, 23.9339sec\n",
      "epoch: 18, loss_train: 1.8493, accuracy_train: 0.2929, loss_valid: 2.0072, accuracy_valid: 0.2792, 23.9343sec\n",
      "epoch: 19, loss_train: 1.7864, accuracy_train: 0.4308, loss_valid: 1.9856, accuracy_valid: 0.4169, 23.9352sec\n",
      "epoch: 20, loss_train: 1.4220, accuracy_train: 0.4241, loss_valid: 1.6687, accuracy_valid: 0.4057, 23.8829sec\n",
      "epoch: 21, loss_train: 1.5583, accuracy_train: 0.4318, loss_valid: 1.7864, accuracy_valid: 0.4177, 23.8994sec\n",
      "epoch: 22, loss_train: 1.4907, accuracy_train: 0.4262, loss_valid: 1.7210, accuracy_valid: 0.4124, 23.9052sec\n",
      "epoch: 23, loss_train: 1.4609, accuracy_train: 0.3790, loss_valid: 1.6909, accuracy_valid: 0.3645, 23.7366sec\n",
      "epoch: 24, loss_train: 1.4149, accuracy_train: 0.4253, loss_valid: 1.6287, accuracy_valid: 0.4162, 24.0567sec\n",
      "epoch: 25, loss_train: 1.3952, accuracy_train: 0.4239, loss_valid: 1.6003, accuracy_valid: 0.4154, 23.8012sec\n",
      "epoch: 26, loss_train: 1.3683, accuracy_train: 0.4238, loss_valid: 1.5748, accuracy_valid: 0.4199, 23.9592sec\n",
      "epoch: 27, loss_train: 1.4650, accuracy_train: 0.3780, loss_valid: 1.6934, accuracy_valid: 0.3698, 23.8891sec\n",
      "epoch: 28, loss_train: 1.4053, accuracy_train: 0.4099, loss_valid: 1.6250, accuracy_valid: 0.3922, 23.9746sec\n",
      "epoch: 29, loss_train: 1.3934, accuracy_train: 0.4066, loss_valid: 1.6296, accuracy_valid: 0.3922, 23.9657sec\n",
      "epoch: 30, loss_train: 1.3793, accuracy_train: 0.4194, loss_valid: 1.5849, accuracy_valid: 0.4184, 23.8776sec\n",
      "epoch: 31, loss_train: 1.4119, accuracy_train: 0.3792, loss_valid: 1.6284, accuracy_valid: 0.3757, 23.9782sec\n",
      "epoch: 32, loss_train: 1.4166, accuracy_train: 0.3805, loss_valid: 1.6657, accuracy_valid: 0.3668, 23.8976sec\n",
      "epoch: 33, loss_train: 1.3916, accuracy_train: 0.3973, loss_valid: 1.6536, accuracy_valid: 0.3870, 23.8916sec\n",
      "epoch: 34, loss_train: 1.3848, accuracy_train: 0.3959, loss_valid: 1.6380, accuracy_valid: 0.3855, 23.9979sec\n"
     ]
    },
    {
     "name": "stderr",
     "output_type": "stream",
     "text": [
      "\u001b[32m[I 2022-01-30 18:50:07,868]\u001b[0m Trial 10 finished with value: 1.645724595308363 and parameters: {'hidden_size': 50.0, 'num_layers': 4.0, 'batch_size': 704.0, 'num_epochs': 35, 'min_lr': 0.0007418398077282413, 'optimizer': 'RMSprop', 'lr': 0.04371783642706578}. Best is trial 6 with value: 1.0500580046303616.\u001b[0m\n"
     ]
    },
    {
     "name": "stdout",
     "output_type": "stream",
     "text": [
      "epoch: 35, loss_train: 1.3873, accuracy_train: 0.4019, loss_valid: 1.6457, accuracy_valid: 0.3825, 23.9277sec\n",
      "epoch: 1, loss_train: 4.3870, accuracy_train: 0.3923, loss_valid: 4.3945, accuracy_valid: 0.3900, 23.7717sec\n",
      "epoch: 2, loss_train: 5.3238, accuracy_train: 0.3956, loss_valid: 5.3499, accuracy_valid: 0.3960, 23.7185sec\n",
      "epoch: 3, loss_train: 3.7487, accuracy_train: 0.3953, loss_valid: 3.8149, accuracy_valid: 0.3975, 23.7607sec\n",
      "epoch: 4, loss_train: 2.2162, accuracy_train: 0.4231, loss_valid: 2.1401, accuracy_valid: 0.4349, 23.8483sec\n",
      "epoch: 5, loss_train: 1.7543, accuracy_train: 0.3944, loss_valid: 1.8541, accuracy_valid: 0.3975, 23.7130sec\n",
      "epoch: 6, loss_train: 1.6539, accuracy_train: 0.4343, loss_valid: 1.6564, accuracy_valid: 0.4409, 23.7331sec\n",
      "epoch: 7, loss_train: 1.4724, accuracy_train: 0.3944, loss_valid: 1.5741, accuracy_valid: 0.3990, 23.7803sec\n",
      "epoch: 8, loss_train: 1.3300, accuracy_train: 0.4338, loss_valid: 1.4049, accuracy_valid: 0.4439, 23.8473sec\n",
      "epoch: 9, loss_train: 1.3285, accuracy_train: 0.4346, loss_valid: 1.4050, accuracy_valid: 0.4409, 23.8539sec\n",
      "epoch: 10, loss_train: 1.3342, accuracy_train: 0.4295, loss_valid: 1.4132, accuracy_valid: 0.4356, 23.8063sec\n",
      "epoch: 11, loss_train: 1.3335, accuracy_train: 0.4304, loss_valid: 1.4124, accuracy_valid: 0.4371, 23.6061sec\n",
      "epoch: 12, loss_train: 1.3330, accuracy_train: 0.4310, loss_valid: 1.4126, accuracy_valid: 0.4364, 23.8582sec\n",
      "epoch: 13, loss_train: 1.3338, accuracy_train: 0.4313, loss_valid: 1.4139, accuracy_valid: 0.4356, 23.7409sec\n"
     ]
    },
    {
     "name": "stderr",
     "output_type": "stream",
     "text": [
      "\u001b[32m[I 2022-01-30 18:55:40,788]\u001b[0m Trial 11 finished with value: 1.4101248111556324 and parameters: {'hidden_size': 30.0, 'num_layers': 4.0, 'batch_size': 1024.0, 'num_epochs': 14, 'min_lr': 0.0002051880071973658, 'optimizer': 'RMSprop', 'lr': 0.04013383297251044}. Best is trial 6 with value: 1.0500580046303616.\u001b[0m\n"
     ]
    },
    {
     "name": "stdout",
     "output_type": "stream",
     "text": [
      "epoch: 14, loss_train: 1.3314, accuracy_train: 0.4334, loss_valid: 1.4101, accuracy_valid: 0.4244, 23.8385sec\n",
      "epoch: 1, loss_train: 1.1769, accuracy_train: 0.3959, loss_valid: 1.1769, accuracy_valid: 0.3960, 19.7303sec\n",
      "epoch: 2, loss_train: 1.1945, accuracy_train: 0.3824, loss_valid: 1.1863, accuracy_valid: 0.3892, 19.6097sec\n",
      "epoch: 3, loss_train: 1.2096, accuracy_train: 0.3857, loss_valid: 1.2020, accuracy_valid: 0.3698, 19.5637sec\n",
      "epoch: 4, loss_train: 1.2230, accuracy_train: 0.3745, loss_valid: 1.2151, accuracy_valid: 0.3698, 19.6222sec\n",
      "epoch: 5, loss_train: 1.2618, accuracy_train: 0.3677, loss_valid: 1.2514, accuracy_valid: 0.3660, 19.6315sec\n",
      "epoch: 6, loss_train: 1.3463, accuracy_train: 0.3765, loss_valid: 1.3292, accuracy_valid: 0.3690, 19.6423sec\n",
      "epoch: 7, loss_train: 1.2034, accuracy_train: 0.4251, loss_valid: 1.1981, accuracy_valid: 0.4192, 19.6094sec\n",
      "epoch: 8, loss_train: 1.2128, accuracy_train: 0.4083, loss_valid: 1.2084, accuracy_valid: 0.4094, 19.6423sec\n",
      "epoch: 9, loss_train: 1.2120, accuracy_train: 0.4132, loss_valid: 1.2060, accuracy_valid: 0.4124, 19.7122sec\n",
      "epoch: 10, loss_train: 1.2214, accuracy_train: 0.3977, loss_valid: 1.2160, accuracy_valid: 0.3952, 19.7356sec\n",
      "epoch: 11, loss_train: 1.2233, accuracy_train: 0.3949, loss_valid: 1.2179, accuracy_valid: 0.3862, 19.6637sec\n",
      "epoch: 12, loss_train: 1.2203, accuracy_train: 0.3973, loss_valid: 1.2162, accuracy_valid: 0.3765, 19.6352sec\n",
      "epoch: 13, loss_train: 1.2336, accuracy_train: 0.3787, loss_valid: 1.2300, accuracy_valid: 0.3683, 19.6422sec\n",
      "epoch: 14, loss_train: 1.2364, accuracy_train: 0.3817, loss_valid: 1.2330, accuracy_valid: 0.3713, 19.6984sec\n",
      "epoch: 15, loss_train: 1.2368, accuracy_train: 0.3798, loss_valid: 1.2337, accuracy_valid: 0.3705, 19.6705sec\n"
     ]
    },
    {
     "name": "stderr",
     "output_type": "stream",
     "text": [
      "\u001b[32m[I 2022-01-30 19:00:55,163]\u001b[0m Trial 12 finished with value: 1.2339318356738833 and parameters: {'hidden_size': 10.0, 'num_layers': 3.0, 'batch_size': 1024.0, 'num_epochs': 16, 'min_lr': 0.0001578372147860975, 'optimizer': 'RMSprop', 'lr': 0.013684582831251619}. Best is trial 6 with value: 1.0500580046303616.\u001b[0m\n"
     ]
    },
    {
     "name": "stdout",
     "output_type": "stream",
     "text": [
      "epoch: 16, loss_train: 1.2372, accuracy_train: 0.3808, loss_valid: 1.2339, accuracy_valid: 0.3735, 19.5242sec\n",
      "epoch: 1, loss_train: 6.0281, accuracy_train: 0.4204, loss_valid: 6.0788, accuracy_valid: 0.4184, 23.7341sec\n",
      "epoch: 2, loss_train: 9.9353, accuracy_train: 0.4208, loss_valid: 9.8666, accuracy_valid: 0.4207, 23.8298sec\n",
      "epoch: 3, loss_train: 9.9750, accuracy_train: 0.3779, loss_valid: 10.0849, accuracy_valid: 0.3555, 23.8500sec\n",
      "epoch: 4, loss_train: 9.4563, accuracy_train: 0.4203, loss_valid: 9.4774, accuracy_valid: 0.4199, 23.9906sec\n",
      "epoch: 5, loss_train: 3.7420, accuracy_train: 0.3778, loss_valid: 3.9215, accuracy_valid: 0.3600, 23.8152sec\n",
      "epoch: 6, loss_train: 5.6797, accuracy_train: 0.4067, loss_valid: 5.9294, accuracy_valid: 0.3945, 23.8528sec\n",
      "epoch: 7, loss_train: 5.1168, accuracy_train: 0.4158, loss_valid: 5.2771, accuracy_valid: 0.4117, 23.9144sec\n",
      "epoch: 8, loss_train: 4.2194, accuracy_train: 0.4173, loss_valid: 4.3078, accuracy_valid: 0.4177, 23.9077sec\n",
      "epoch: 9, loss_train: 5.9024, accuracy_train: 0.3946, loss_valid: 5.8765, accuracy_valid: 0.3930, 23.8161sec\n",
      "epoch: 10, loss_train: 3.4264, accuracy_train: 0.3715, loss_valid: 3.6666, accuracy_valid: 0.3488, 23.8814sec\n",
      "epoch: 11, loss_train: 1.8287, accuracy_train: 0.4095, loss_valid: 2.0833, accuracy_valid: 0.3982, 23.8099sec\n",
      "epoch: 12, loss_train: 2.9181, accuracy_train: 0.3713, loss_valid: 3.1736, accuracy_valid: 0.3510, 23.8748sec\n",
      "epoch: 13, loss_train: 2.7813, accuracy_train: 0.4147, loss_valid: 2.9696, accuracy_valid: 0.4117, 23.7773sec\n",
      "epoch: 14, loss_train: 2.6710, accuracy_train: 0.3842, loss_valid: 2.8182, accuracy_valid: 0.3698, 23.6954sec\n",
      "epoch: 15, loss_train: 2.5524, accuracy_train: 0.4148, loss_valid: 2.7321, accuracy_valid: 0.4124, 23.8289sec\n",
      "epoch: 16, loss_train: 1.7099, accuracy_train: 0.3833, loss_valid: 1.8511, accuracy_valid: 0.3705, 23.8586sec\n",
      "epoch: 17, loss_train: 2.5796, accuracy_train: 0.4151, loss_valid: 2.7763, accuracy_valid: 0.4132, 23.9530sec\n",
      "epoch: 18, loss_train: 2.6201, accuracy_train: 0.3852, loss_valid: 2.8644, accuracy_valid: 0.3720, 23.8315sec\n",
      "epoch: 19, loss_train: 2.2166, accuracy_train: 0.4168, loss_valid: 2.4290, accuracy_valid: 0.4139, 23.8928sec\n",
      "epoch: 20, loss_train: 1.7509, accuracy_train: 0.3858, loss_valid: 1.9782, accuracy_valid: 0.3720, 23.8744sec\n",
      "epoch: 21, loss_train: 1.8648, accuracy_train: 0.4160, loss_valid: 2.0875, accuracy_valid: 0.4139, 23.9300sec\n",
      "epoch: 22, loss_train: 1.5225, accuracy_train: 0.3858, loss_valid: 1.7440, accuracy_valid: 0.3743, 23.9618sec\n",
      "epoch: 23, loss_train: 1.5309, accuracy_train: 0.4161, loss_valid: 1.7351, accuracy_valid: 0.4147, 23.9169sec\n",
      "epoch: 24, loss_train: 1.3564, accuracy_train: 0.3881, loss_valid: 1.5632, accuracy_valid: 0.3750, 23.8137sec\n",
      "epoch: 25, loss_train: 1.3219, accuracy_train: 0.4162, loss_valid: 1.5272, accuracy_valid: 0.4154, 23.7043sec\n",
      "epoch: 26, loss_train: 1.3217, accuracy_train: 0.4159, loss_valid: 1.5237, accuracy_valid: 0.4154, 23.8777sec\n",
      "epoch: 27, loss_train: 1.3227, accuracy_train: 0.4159, loss_valid: 1.5310, accuracy_valid: 0.4162, 23.9144sec\n",
      "epoch: 28, loss_train: 1.3240, accuracy_train: 0.4162, loss_valid: 1.5272, accuracy_valid: 0.4154, 23.8291sec\n",
      "epoch: 29, loss_train: 1.3198, accuracy_train: 0.4163, loss_valid: 1.5237, accuracy_valid: 0.4154, 23.8974sec\n",
      "epoch: 30, loss_train: 1.3185, accuracy_train: 0.4163, loss_valid: 1.5216, accuracy_valid: 0.4154, 23.7581sec\n",
      "epoch: 31, loss_train: 1.3200, accuracy_train: 0.4161, loss_valid: 1.5261, accuracy_valid: 0.4162, 23.7681sec\n",
      "epoch: 32, loss_train: 1.3196, accuracy_train: 0.4159, loss_valid: 1.5253, accuracy_valid: 0.4154, 23.8491sec\n",
      "epoch: 33, loss_train: 1.3195, accuracy_train: 0.4162, loss_valid: 1.5238, accuracy_valid: 0.4162, 23.9199sec\n",
      "epoch: 34, loss_train: 1.3188, accuracy_train: 0.4161, loss_valid: 1.5233, accuracy_valid: 0.4162, 23.8242sec\n"
     ]
    },
    {
     "name": "stderr",
     "output_type": "stream",
     "text": [
      "\u001b[32m[I 2022-01-30 19:14:50,103]\u001b[0m Trial 13 finished with value: 1.5232665786285748 and parameters: {'hidden_size': 30.0, 'num_layers': 4.0, 'batch_size': 832.0, 'num_epochs': 35, 'min_lr': 0.0013967083738484036, 'optimizer': 'RMSprop', 'lr': 0.09753152402537114}. Best is trial 6 with value: 1.0500580046303616.\u001b[0m\n"
     ]
    },
    {
     "name": "stdout",
     "output_type": "stream",
     "text": [
      "epoch: 35, loss_train: 1.3186, accuracy_train: 0.4163, loss_valid: 1.5233, accuracy_valid: 0.4162, 23.9320sec\n",
      "epoch: 1, loss_train: 1.3179, accuracy_train: 0.3941, loss_valid: 1.3192, accuracy_valid: 0.3892, 19.7726sec\n",
      "epoch: 2, loss_train: 1.2714, accuracy_train: 0.4207, loss_valid: 1.2735, accuracy_valid: 0.4281, 19.7888sec\n",
      "epoch: 3, loss_train: 1.2390, accuracy_train: 0.4287, loss_valid: 1.2419, accuracy_valid: 0.4326, 19.6984sec\n",
      "epoch: 4, loss_train: 1.2156, accuracy_train: 0.4307, loss_valid: 1.2187, accuracy_valid: 0.4207, 19.7269sec\n",
      "epoch: 5, loss_train: 1.1984, accuracy_train: 0.4325, loss_valid: 1.2017, accuracy_valid: 0.4274, 19.6962sec\n",
      "epoch: 6, loss_train: 1.1866, accuracy_train: 0.4344, loss_valid: 1.1903, accuracy_valid: 0.4341, 19.9016sec\n",
      "epoch: 7, loss_train: 1.1782, accuracy_train: 0.4348, loss_valid: 1.1825, accuracy_valid: 0.4454, 19.8077sec\n",
      "epoch: 8, loss_train: 1.1728, accuracy_train: 0.4363, loss_valid: 1.1782, accuracy_valid: 0.4581, 19.6294sec\n",
      "epoch: 9, loss_train: 1.1691, accuracy_train: 0.4386, loss_valid: 1.1760, accuracy_valid: 0.4566, 19.7446sec\n",
      "epoch: 10, loss_train: 1.1668, accuracy_train: 0.4398, loss_valid: 1.1763, accuracy_valid: 0.4603, 19.7156sec\n",
      "epoch: 11, loss_train: 1.1672, accuracy_train: 0.4420, loss_valid: 1.1816, accuracy_valid: 0.4596, 19.7488sec\n",
      "epoch: 12, loss_train: 1.1680, accuracy_train: 0.4443, loss_valid: 1.1883, accuracy_valid: 0.4566, 19.7382sec\n",
      "epoch: 13, loss_train: 1.1706, accuracy_train: 0.4492, loss_valid: 1.1973, accuracy_valid: 0.4484, 19.8188sec\n",
      "epoch: 14, loss_train: 1.1741, accuracy_train: 0.4565, loss_valid: 1.2084, accuracy_valid: 0.4491, 19.7305sec\n",
      "epoch: 15, loss_train: 1.1763, accuracy_train: 0.4602, loss_valid: 1.2163, accuracy_valid: 0.4446, 19.8434sec\n",
      "epoch: 16, loss_train: 1.1823, accuracy_train: 0.4642, loss_valid: 1.2292, accuracy_valid: 0.4394, 19.6952sec\n",
      "epoch: 17, loss_train: 1.1835, accuracy_train: 0.4644, loss_valid: 1.2314, accuracy_valid: 0.4536, 19.6988sec\n",
      "epoch: 18, loss_train: 1.1799, accuracy_train: 0.4759, loss_valid: 1.2270, accuracy_valid: 0.4671, 19.9359sec\n",
      "epoch: 19, loss_train: 1.1806, accuracy_train: 0.4730, loss_valid: 1.2215, accuracy_valid: 0.4686, 19.7900sec\n",
      "epoch: 20, loss_train: 1.1734, accuracy_train: 0.4811, loss_valid: 1.2078, accuracy_valid: 0.4753, 19.6843sec\n",
      "epoch: 21, loss_train: 1.1631, accuracy_train: 0.4901, loss_valid: 1.1929, accuracy_valid: 0.4850, 19.7163sec\n",
      "epoch: 22, loss_train: 1.1567, accuracy_train: 0.4938, loss_valid: 1.1822, accuracy_valid: 0.4903, 19.7691sec\n",
      "epoch: 23, loss_train: 1.1492, accuracy_train: 0.5036, loss_valid: 1.1774, accuracy_valid: 0.4925, 19.7080sec\n",
      "epoch: 24, loss_train: 1.1547, accuracy_train: 0.4987, loss_valid: 1.1844, accuracy_valid: 0.4918, 19.6986sec\n",
      "epoch: 25, loss_train: 1.1401, accuracy_train: 0.5150, loss_valid: 1.1686, accuracy_valid: 0.5060, 19.7246sec\n",
      "epoch: 26, loss_train: 1.1377, accuracy_train: 0.5211, loss_valid: 1.1675, accuracy_valid: 0.5112, 19.7245sec\n",
      "epoch: 27, loss_train: 1.1460, accuracy_train: 0.5158, loss_valid: 1.1770, accuracy_valid: 0.5067, 19.7351sec\n",
      "epoch: 28, loss_train: 1.1193, accuracy_train: 0.5398, loss_valid: 1.1496, accuracy_valid: 0.5262, 19.7940sec\n",
      "epoch: 29, loss_train: 1.1572, accuracy_train: 0.5152, loss_valid: 1.1922, accuracy_valid: 0.5067, 19.7026sec\n",
      "epoch: 30, loss_train: 1.1396, accuracy_train: 0.5280, loss_valid: 1.1753, accuracy_valid: 0.5180, 19.8284sec\n",
      "epoch: 31, loss_train: 1.1452, accuracy_train: 0.5259, loss_valid: 1.1844, accuracy_valid: 0.5127, 19.6809sec\n",
      "epoch: 32, loss_train: 1.1633, accuracy_train: 0.5156, loss_valid: 1.2013, accuracy_valid: 0.5067, 19.8039sec\n",
      "epoch: 33, loss_train: 1.1721, accuracy_train: 0.5128, loss_valid: 1.2149, accuracy_valid: 0.5030, 19.6185sec\n"
     ]
    },
    {
     "name": "stderr",
     "output_type": "stream",
     "text": [
      "\u001b[32m[I 2022-01-30 19:26:01,521]\u001b[0m Trial 14 finished with value: 1.239674749109381 and parameters: {'hidden_size': 40.0, 'num_layers': 3.0, 'batch_size': 832.0, 'num_epochs': 34, 'min_lr': 9.23398905445486e-05, 'optimizer': 'RMSprop', 'lr': 3.2318801961014806e-05}. Best is trial 6 with value: 1.0500580046303616.\u001b[0m\n"
     ]
    },
    {
     "name": "stdout",
     "output_type": "stream",
     "text": [
      "epoch: 34, loss_train: 1.1904, accuracy_train: 0.5116, loss_valid: 1.2397, accuracy_valid: 0.5015, 19.6965sec\n",
      "epoch: 1, loss_train: 1.1638, accuracy_train: 0.4213, loss_valid: 1.1651, accuracy_valid: 0.4214, 27.9069sec\n",
      "epoch: 2, loss_train: 1.1750, accuracy_train: 0.4213, loss_valid: 1.1758, accuracy_valid: 0.4214, 28.1284sec\n",
      "epoch: 3, loss_train: 1.1667, accuracy_train: 0.3951, loss_valid: 1.1670, accuracy_valid: 0.3945, 27.8360sec\n",
      "epoch: 4, loss_train: 1.1801, accuracy_train: 0.4098, loss_valid: 1.1761, accuracy_valid: 0.4087, 27.8871sec\n",
      "epoch: 5, loss_train: 1.1764, accuracy_train: 0.4145, loss_valid: 1.1682, accuracy_valid: 0.4169, 27.7936sec\n",
      "epoch: 6, loss_train: 1.1963, accuracy_train: 0.4066, loss_valid: 1.1850, accuracy_valid: 0.4087, 28.0262sec\n",
      "epoch: 7, loss_train: 1.1993, accuracy_train: 0.4032, loss_valid: 1.1899, accuracy_valid: 0.4027, 27.8977sec\n",
      "epoch: 8, loss_train: 1.1985, accuracy_train: 0.4022, loss_valid: 1.1878, accuracy_valid: 0.4012, 28.0127sec\n",
      "epoch: 9, loss_train: 1.1950, accuracy_train: 0.4115, loss_valid: 1.1930, accuracy_valid: 0.4274, 27.8150sec\n",
      "epoch: 10, loss_train: 1.2411, accuracy_train: 0.3595, loss_valid: 1.2457, accuracy_valid: 0.3533, 28.0801sec\n",
      "epoch: 11, loss_train: 1.1753, accuracy_train: 0.4624, loss_valid: 1.1744, accuracy_valid: 0.4678, 27.9283sec\n",
      "epoch: 12, loss_train: 1.3047, accuracy_train: 0.3574, loss_valid: 1.2958, accuracy_valid: 0.3578, 27.9029sec\n",
      "epoch: 13, loss_train: 1.2779, accuracy_train: 0.3790, loss_valid: 1.2607, accuracy_valid: 0.3922, 28.0448sec\n",
      "epoch: 14, loss_train: 1.2754, accuracy_train: 0.3835, loss_valid: 1.2608, accuracy_valid: 0.3930, 27.9701sec\n",
      "epoch: 15, loss_train: 1.2707, accuracy_train: 0.3837, loss_valid: 1.2637, accuracy_valid: 0.3855, 27.9599sec\n",
      "epoch: 16, loss_train: 1.2875, accuracy_train: 0.3790, loss_valid: 1.2835, accuracy_valid: 0.3772, 27.8316sec\n"
     ]
    },
    {
     "name": "stderr",
     "output_type": "stream",
     "text": [
      "\u001b[32m[I 2022-01-30 19:33:56,522]\u001b[0m Trial 15 finished with value: 1.2693795764339184 and parameters: {'hidden_size': 10.0, 'num_layers': 5.0, 'batch_size': 512.0, 'num_epochs': 17, 'min_lr': 0.00046373221156828786, 'optimizer': 'RMSprop', 'lr': 0.009873203185463116}. Best is trial 6 with value: 1.0500580046303616.\u001b[0m\n"
     ]
    },
    {
     "name": "stdout",
     "output_type": "stream",
     "text": [
      "epoch: 17, loss_train: 1.2695, accuracy_train: 0.3988, loss_valid: 1.2694, accuracy_valid: 0.3945, 27.9330sec\n",
      "epoch: 1, loss_train: 1.8548, accuracy_train: 0.3825, loss_valid: 1.8784, accuracy_valid: 0.3668, 19.6237sec\n",
      "epoch: 2, loss_train: 1.4212, accuracy_train: 0.3869, loss_valid: 1.4602, accuracy_valid: 0.3802, 19.6718sec\n",
      "epoch: 3, loss_train: 1.3250, accuracy_train: 0.3794, loss_valid: 1.3568, accuracy_valid: 0.3675, 19.6953sec\n",
      "epoch: 4, loss_train: 1.4185, accuracy_train: 0.3694, loss_valid: 1.4370, accuracy_valid: 0.3698, 19.6121sec\n",
      "epoch: 5, loss_train: 1.3119, accuracy_train: 0.3743, loss_valid: 1.3367, accuracy_valid: 0.3660, 19.6003sec\n",
      "epoch: 6, loss_train: 1.4214, accuracy_train: 0.3480, loss_valid: 1.4537, accuracy_valid: 0.3308, 19.7741sec\n",
      "epoch: 7, loss_train: 1.3224, accuracy_train: 0.3501, loss_valid: 1.3109, accuracy_valid: 0.3473, 19.6304sec\n",
      "epoch: 8, loss_train: 1.3837, accuracy_train: 0.3779, loss_valid: 1.3637, accuracy_valid: 0.3772, 19.4972sec\n",
      "epoch: 9, loss_train: 1.4120, accuracy_train: 0.3261, loss_valid: 1.3861, accuracy_valid: 0.3481, 19.6303sec\n",
      "epoch: 10, loss_train: 1.4503, accuracy_train: 0.2996, loss_valid: 1.4175, accuracy_valid: 0.3054, 19.6626sec\n",
      "epoch: 11, loss_train: 1.4013, accuracy_train: 0.3388, loss_valid: 1.3785, accuracy_valid: 0.3458, 19.5704sec\n",
      "epoch: 12, loss_train: 1.3696, accuracy_train: 0.3338, loss_valid: 1.3319, accuracy_valid: 0.3376, 19.6915sec\n",
      "epoch: 13, loss_train: 1.3743, accuracy_train: 0.3371, loss_valid: 1.3435, accuracy_valid: 0.3458, 19.5411sec\n",
      "epoch: 14, loss_train: 1.3741, accuracy_train: 0.3540, loss_valid: 1.3421, accuracy_valid: 0.3660, 19.7278sec\n",
      "epoch: 15, loss_train: 1.3889, accuracy_train: 0.3359, loss_valid: 1.3558, accuracy_valid: 0.3518, 19.6513sec\n",
      "epoch: 16, loss_train: 1.3898, accuracy_train: 0.3406, loss_valid: 1.3594, accuracy_valid: 0.3473, 19.6797sec\n",
      "epoch: 17, loss_train: 1.5223, accuracy_train: 0.2917, loss_valid: 1.4967, accuracy_valid: 0.3031, 19.6249sec\n",
      "epoch: 18, loss_train: 1.4396, accuracy_train: 0.3227, loss_valid: 1.4112, accuracy_valid: 0.3398, 19.6081sec\n",
      "epoch: 19, loss_train: 1.5246, accuracy_train: 0.3023, loss_valid: 1.5053, accuracy_valid: 0.3106, 19.7268sec\n",
      "epoch: 20, loss_train: 1.4736, accuracy_train: 0.3276, loss_valid: 1.4617, accuracy_valid: 0.3346, 19.7593sec\n",
      "epoch: 21, loss_train: 1.4635, accuracy_train: 0.3107, loss_valid: 1.4450, accuracy_valid: 0.3293, 19.6066sec\n",
      "epoch: 22, loss_train: 1.4728, accuracy_train: 0.3147, loss_valid: 1.4511, accuracy_valid: 0.3346, 19.6749sec\n",
      "epoch: 23, loss_train: 1.5564, accuracy_train: 0.2879, loss_valid: 1.5289, accuracy_valid: 0.3069, 19.6446sec\n",
      "epoch: 24, loss_train: 1.5007, accuracy_train: 0.3292, loss_valid: 1.4639, accuracy_valid: 0.3368, 19.5714sec\n",
      "epoch: 25, loss_train: 1.5240, accuracy_train: 0.3267, loss_valid: 1.4839, accuracy_valid: 0.3473, 19.6929sec\n",
      "epoch: 26, loss_train: 1.4825, accuracy_train: 0.3451, loss_valid: 1.4501, accuracy_valid: 0.3653, 19.7303sec\n",
      "epoch: 27, loss_train: 1.5478, accuracy_train: 0.3373, loss_valid: 1.5504, accuracy_valid: 0.3278, 19.6052sec\n",
      "epoch: 28, loss_train: 1.5169, accuracy_train: 0.3337, loss_valid: 1.5019, accuracy_valid: 0.3466, 19.6741sec\n",
      "epoch: 29, loss_train: 1.6348, accuracy_train: 0.2947, loss_valid: 1.6113, accuracy_valid: 0.2957, 19.5230sec\n",
      "epoch: 30, loss_train: 1.6966, accuracy_train: 0.2839, loss_valid: 1.6676, accuracy_valid: 0.2829, 19.5679sec\n",
      "epoch: 31, loss_train: 1.6807, accuracy_train: 0.3177, loss_valid: 1.6513, accuracy_valid: 0.3174, 19.6037sec\n",
      "epoch: 32, loss_train: 1.6848, accuracy_train: 0.2979, loss_valid: 1.6294, accuracy_valid: 0.3001, 19.7081sec\n",
      "epoch: 33, loss_train: 1.5796, accuracy_train: 0.3165, loss_valid: 1.5350, accuracy_valid: 0.3406, 19.6551sec\n",
      "epoch: 34, loss_train: 1.6130, accuracy_train: 0.2876, loss_valid: 1.5686, accuracy_valid: 0.3024, 19.6846sec\n",
      "epoch: 35, loss_train: 1.6369, accuracy_train: 0.2786, loss_valid: 1.6072, accuracy_valid: 0.2957, 19.5272sec\n",
      "epoch: 36, loss_train: 1.5991, accuracy_train: 0.3069, loss_valid: 1.5872, accuracy_valid: 0.3226, 19.6467sec\n",
      "epoch: 37, loss_train: 1.6619, accuracy_train: 0.2965, loss_valid: 1.6452, accuracy_valid: 0.3114, 19.6767sec\n",
      "epoch: 38, loss_train: 1.6710, accuracy_train: 0.3004, loss_valid: 1.6501, accuracy_valid: 0.3039, 19.5321sec\n",
      "epoch: 39, loss_train: 1.6475, accuracy_train: 0.3046, loss_valid: 1.6158, accuracy_valid: 0.3234, 19.5904sec\n",
      "epoch: 40, loss_train: 1.7197, accuracy_train: 0.2812, loss_valid: 1.6645, accuracy_valid: 0.2987, 19.5596sec\n",
      "epoch: 41, loss_train: 1.7320, accuracy_train: 0.2975, loss_valid: 1.6893, accuracy_valid: 0.3039, 19.5828sec\n",
      "epoch: 42, loss_train: 1.7485, accuracy_train: 0.2946, loss_valid: 1.7110, accuracy_valid: 0.3054, 19.5311sec\n",
      "epoch: 43, loss_train: 1.7146, accuracy_train: 0.3021, loss_valid: 1.6556, accuracy_valid: 0.3263, 19.6952sec\n",
      "epoch: 44, loss_train: 1.7022, accuracy_train: 0.3000, loss_valid: 1.6501, accuracy_valid: 0.3226, 19.6592sec\n",
      "epoch: 45, loss_train: 1.7485, accuracy_train: 0.2935, loss_valid: 1.6710, accuracy_valid: 0.3174, 19.5499sec\n",
      "epoch: 46, loss_train: 1.7227, accuracy_train: 0.2915, loss_valid: 1.6587, accuracy_valid: 0.3189, 19.5585sec\n",
      "epoch: 47, loss_train: 1.7496, accuracy_train: 0.2941, loss_valid: 1.6854, accuracy_valid: 0.3293, 19.6851sec\n",
      "epoch: 48, loss_train: 1.8005, accuracy_train: 0.3012, loss_valid: 1.7380, accuracy_valid: 0.3024, 19.6180sec\n",
      "epoch: 49, loss_train: 1.7474, accuracy_train: 0.2994, loss_valid: 1.6772, accuracy_valid: 0.3234, 19.5571sec\n"
     ]
    },
    {
     "name": "stderr",
     "output_type": "stream",
     "text": [
      "\u001b[32m[I 2022-01-30 19:50:17,970]\u001b[0m Trial 16 finished with value: 1.6610376351306628 and parameters: {'hidden_size': 20.0, 'num_layers': 3.0, 'batch_size': 896.0, 'num_epochs': 50, 'min_lr': 0.004506914040214682, 'optimizer': 'RMSprop', 'lr': 0.017945906349134007}. Best is trial 6 with value: 1.0500580046303616.\u001b[0m\n"
     ]
    },
    {
     "name": "stdout",
     "output_type": "stream",
     "text": [
      "epoch: 50, loss_train: 1.7120, accuracy_train: 0.2868, loss_valid: 1.6610, accuracy_valid: 0.3211, 19.5035sec\n",
      "epoch: 1, loss_train: 1.1675, accuracy_train: 0.3955, loss_valid: 1.1712, accuracy_valid: 0.3960, 23.7581sec\n",
      "epoch: 2, loss_train: 1.1811, accuracy_train: 0.3965, loss_valid: 1.1869, accuracy_valid: 0.3960, 24.0044sec\n",
      "epoch: 3, loss_train: 1.1734, accuracy_train: 0.4219, loss_valid: 1.1782, accuracy_valid: 0.4139, 23.8856sec\n",
      "epoch: 4, loss_train: 1.2373, accuracy_train: 0.3720, loss_valid: 1.2449, accuracy_valid: 0.3593, 23.7984sec\n",
      "epoch: 5, loss_train: 1.1903, accuracy_train: 0.3849, loss_valid: 1.1970, accuracy_valid: 0.3630, 23.8350sec\n",
      "epoch: 6, loss_train: 1.2959, accuracy_train: 0.3892, loss_valid: 1.3070, accuracy_valid: 0.3892, 23.8456sec\n",
      "epoch: 7, loss_train: 1.3699, accuracy_train: 0.3799, loss_valid: 1.3797, accuracy_valid: 0.3713, 23.8092sec\n"
     ]
    },
    {
     "name": "stderr",
     "output_type": "stream",
     "text": [
      "\u001b[32m[I 2022-01-30 19:53:29,002]\u001b[0m Trial 17 finished with value: 1.3698862249221273 and parameters: {'hidden_size': 40.0, 'num_layers': 4.0, 'batch_size': 704.0, 'num_epochs': 8, 'min_lr': 4.791831703493401e-05, 'optimizer': 'RMSprop', 'lr': 0.002230879852634009}. Best is trial 6 with value: 1.0500580046303616.\u001b[0m\n"
     ]
    },
    {
     "name": "stdout",
     "output_type": "stream",
     "text": [
      "epoch: 8, loss_train: 1.3557, accuracy_train: 0.3861, loss_valid: 1.3699, accuracy_valid: 0.3802, 24.0580sec\n"
     ]
    }
   ],
   "source": [
    "# 最適化\n",
    "study = optuna.create_study()\n",
    "study.optimize(objective, timeout=10800)"
   ]
  },
  {
   "cell_type": "code",
   "execution_count": 39,
   "metadata": {},
   "outputs": [
    {
     "name": "stdout",
     "output_type": "stream",
     "text": [
      "Best trial:\n",
      "  Value: 1.050\n",
      "  Params: \n",
      "    hidden_size: 10.0\n",
      "    num_layers: 4.0\n",
      "    batch_size: 704.0\n",
      "    num_epochs: 41\n",
      "    min_lr: 0.0016229996446132987\n",
      "    optimizer: RMSprop\n",
      "    lr: 0.005336989180585703\n"
     ]
    }
   ],
   "source": [
    "# 結果の表示\n",
    "print('Best trial:')\n",
    "trial = study.best_trial\n",
    "print('  Value: {:.3f}'.format(trial.value))\n",
    "print('  Params: ')\n",
    "for key, value in trial.params.items():\n",
    "  print('    {}: {}'.format(key, value))"
   ]
  },
  {
   "cell_type": "code",
   "execution_count": 41,
   "metadata": {},
   "outputs": [
    {
     "name": "stdout",
     "output_type": "stream",
     "text": [
      "epoch: 1, loss_train: 1.1672, accuracy_train: 0.3859, loss_valid: 1.1677, accuracy_valid: 0.3937, 23.7476sec\n",
      "epoch: 2, loss_train: 1.1739, accuracy_train: 0.4203, loss_valid: 1.1745, accuracy_valid: 0.4094, 23.9483sec\n",
      "epoch: 3, loss_train: 1.1874, accuracy_train: 0.4100, loss_valid: 1.1905, accuracy_valid: 0.4274, 23.9579sec\n",
      "epoch: 4, loss_train: 1.2233, accuracy_train: 0.3839, loss_valid: 1.2207, accuracy_valid: 0.3922, 23.8560sec\n",
      "epoch: 5, loss_train: 1.2671, accuracy_train: 0.3553, loss_valid: 1.2605, accuracy_valid: 0.3630, 23.8555sec\n",
      "epoch: 6, loss_train: 1.2625, accuracy_train: 0.3518, loss_valid: 1.2628, accuracy_valid: 0.3533, 23.8177sec\n",
      "epoch: 7, loss_train: 1.1896, accuracy_train: 0.3715, loss_valid: 1.1908, accuracy_valid: 0.3817, 23.9013sec\n",
      "epoch: 8, loss_train: 1.3243, accuracy_train: 0.3687, loss_valid: 1.3249, accuracy_valid: 0.3743, 23.8892sec\n",
      "epoch: 9, loss_train: 1.2985, accuracy_train: 0.3813, loss_valid: 1.3021, accuracy_valid: 0.3795, 23.8407sec\n",
      "epoch: 10, loss_train: 1.3250, accuracy_train: 0.3921, loss_valid: 1.3283, accuracy_valid: 0.3945, 23.8814sec\n",
      "epoch: 11, loss_train: 1.2095, accuracy_train: 0.3937, loss_valid: 1.2258, accuracy_valid: 0.3922, 23.8354sec\n",
      "epoch: 12, loss_train: 1.3204, accuracy_train: 0.3838, loss_valid: 1.3402, accuracy_valid: 0.3832, 23.7033sec\n",
      "epoch: 13, loss_train: 1.2306, accuracy_train: 0.3819, loss_valid: 1.2493, accuracy_valid: 0.3870, 23.8674sec\n",
      "epoch: 14, loss_train: 1.1622, accuracy_train: 0.4314, loss_valid: 1.1858, accuracy_valid: 0.4214, 23.9258sec\n",
      "epoch: 15, loss_train: 1.2549, accuracy_train: 0.3980, loss_valid: 1.2932, accuracy_valid: 0.3945, 23.9634sec\n",
      "epoch: 16, loss_train: 1.2401, accuracy_train: 0.4048, loss_valid: 1.2832, accuracy_valid: 0.3862, 23.9701sec\n",
      "epoch: 17, loss_train: 1.2217, accuracy_train: 0.4126, loss_valid: 1.2764, accuracy_valid: 0.3982, 23.8235sec\n",
      "epoch: 18, loss_train: 1.2317, accuracy_train: 0.4378, loss_valid: 1.2811, accuracy_valid: 0.4012, 23.9494sec\n",
      "epoch: 19, loss_train: 1.3326, accuracy_train: 0.3838, loss_valid: 1.3925, accuracy_valid: 0.3780, 23.8208sec\n",
      "epoch: 20, loss_train: 1.1942, accuracy_train: 0.4949, loss_valid: 1.2651, accuracy_valid: 0.4551, 23.9321sec\n",
      "epoch: 21, loss_train: 1.1980, accuracy_train: 0.4651, loss_valid: 1.2638, accuracy_valid: 0.4311, 23.8435sec\n",
      "epoch: 22, loss_train: 1.2468, accuracy_train: 0.4500, loss_valid: 1.3241, accuracy_valid: 0.4281, 23.8337sec\n",
      "epoch: 23, loss_train: 1.1085, accuracy_train: 0.5822, loss_valid: 1.1685, accuracy_valid: 0.5337, 23.8343sec\n",
      "epoch: 24, loss_train: 1.2337, accuracy_train: 0.4698, loss_valid: 1.3345, accuracy_valid: 0.4416, 23.8326sec\n",
      "epoch: 25, loss_train: 1.1582, accuracy_train: 0.5134, loss_valid: 1.2188, accuracy_valid: 0.4760, 23.8463sec\n",
      "epoch: 26, loss_train: 1.2242, accuracy_train: 0.4549, loss_valid: 1.3052, accuracy_valid: 0.4266, 23.9608sec\n",
      "epoch: 27, loss_train: 1.2703, accuracy_train: 0.4758, loss_valid: 1.3764, accuracy_valid: 0.4558, 23.7927sec\n",
      "epoch: 28, loss_train: 1.1029, accuracy_train: 0.5832, loss_valid: 1.2055, accuracy_valid: 0.5397, 24.0072sec\n",
      "epoch: 29, loss_train: 1.1979, accuracy_train: 0.5166, loss_valid: 1.2995, accuracy_valid: 0.4783, 23.8644sec\n",
      "epoch: 30, loss_train: 1.1286, accuracy_train: 0.5555, loss_valid: 1.2174, accuracy_valid: 0.5045, 23.9260sec\n",
      "epoch: 31, loss_train: 1.1156, accuracy_train: 0.5750, loss_valid: 1.2158, accuracy_valid: 0.5217, 24.0890sec\n",
      "epoch: 32, loss_train: 1.1785, accuracy_train: 0.5431, loss_valid: 1.3036, accuracy_valid: 0.5037, 23.9555sec\n",
      "epoch: 33, loss_train: 1.1126, accuracy_train: 0.5821, loss_valid: 1.2193, accuracy_valid: 0.5359, 23.9521sec\n",
      "epoch: 34, loss_train: 1.2026, accuracy_train: 0.5147, loss_valid: 1.3170, accuracy_valid: 0.4760, 23.7860sec\n",
      "epoch: 35, loss_train: 1.1427, accuracy_train: 0.5484, loss_valid: 1.2589, accuracy_valid: 0.5052, 23.9142sec\n",
      "epoch: 36, loss_train: 1.1598, accuracy_train: 0.5446, loss_valid: 1.2823, accuracy_valid: 0.5030, 23.9240sec\n",
      "epoch: 37, loss_train: 1.2260, accuracy_train: 0.5157, loss_valid: 1.3445, accuracy_valid: 0.4798, 23.8313sec\n",
      "epoch: 38, loss_train: 1.2270, accuracy_train: 0.4993, loss_valid: 1.3513, accuracy_valid: 0.4693, 23.9265sec\n",
      "epoch: 39, loss_train: 1.1970, accuracy_train: 0.5200, loss_valid: 1.3223, accuracy_valid: 0.4820, 23.8764sec\n",
      "epoch: 40, loss_train: 1.1604, accuracy_train: 0.5530, loss_valid: 1.3002, accuracy_valid: 0.5037, 23.9259sec\n",
      "epoch: 41, loss_train: 1.0917, accuracy_train: 0.5932, loss_valid: 1.1989, accuracy_valid: 0.5509, 23.8915sec\n"
     ]
    }
   ],
   "source": [
    "VOCAB_SIZE = len(set(word2id.values())) + 1\n",
    "EMB_SIZE =300\n",
    "PADDING_IDX = len(set(word2id.values()))\n",
    "OUTPUT_SIZE = 4\n",
    "hidden_size = int(trial.params['hidden_size'])\n",
    "num_layers = int(trial.params['num_layers'])\n",
    "batch_size = int(trial.params['batch_size']) \n",
    "num_epochs = int(trial.params['num_epochs']) \n",
    "num_eta_min = trial.params['min_lr']\n",
    "\n",
    "# デバイスの指定\n",
    "device = torch.device('cuda')\n",
    "\n",
    "# モデルの定義\n",
    "model = RNN(VOCAB_SIZE, EMB_SIZE, PADDING_IDX, OUTPUT_SIZE, hidden_size, num_layers, emb_weights=weights, bidirectional=True)\n",
    "    \n",
    "# 損失関数の定義\n",
    "criterion = nn.CrossEntropyLoss()\n",
    "    \n",
    "# オプティマイザの定義\n",
    "if trial.params['optimizer'] == 'Adam':\n",
    "    optimizer = torch.optim.Adam(model.parameters(),lr=trial.params['lr'])\n",
    "\n",
    "elif trial.params['optimizer'] == 'RMSprop':\n",
    "    optimizer = torch.optim.RMSprop(model.parameters(),lr=trial.params['lr'])\n",
    "\n",
    "else:\n",
    "    optimizer = torch.optim.SGD(model.parameters(),lr=trial.params['lr'])\n",
    "\n",
    "\n",
    "log = display_train_model(dataset_train, dataset_valid, batch_size, model, criterion, optimizer, num_epochs, num_eta_min, collate_fn=Padsequence(PADDING_IDX), device=device)"
   ]
  },
  {
   "cell_type": "code",
   "execution_count": 42,
   "metadata": {},
   "outputs": [
    {
     "data": {
      "image/png": "[encoded data removed]",
      "text/plain": [
       "<Figure size 1080x360 with 2 Axes>"
      ]
     },
     "metadata": {
      "needs_background": "light"
     },
     "output_type": "display_data"
    },
    {
     "name": "stdout",
     "output_type": "stream",
     "text": [
      "正解率（学習データ）：0.593\n",
      "正解率（評価データ）：0.552\n"
     ]
    }
   ],
   "source": [
    "# ログの可視化\n",
    "visualize_logs(log)\n",
    "\n",
    "# 正解率の算出\n",
    "_, acc_train = calculate_loss_and_accuracy(model, dataset_train, device)\n",
    "_, acc_test = calculate_loss_and_accuracy(model, dataset_test, device)\n",
    "print(f'正解率（学習データ）：{acc_train:.3f}')\n",
    "print(f'正解率（評価データ）：{acc_test:.3f}')"
   ]
  },
  {
   "cell_type": "markdown",
   "metadata": {},
   "source": [
    "### #87の方"
   ]
  },
  {
   "cell_type": "code",
   "execution_count": 43,
   "metadata": {},
   "outputs": [],
   "source": [
    "from torch.nn import functional as F\n",
    "\n",
    "class textCNN(nn.Module):\n",
    "  def __init__(self, vocab_size, emb_size, padding_idx, output_size, out_channels, conv_params, drop_rate, emb_weights=None):\n",
    "    super().__init__()\n",
    "    if emb_weights != None:  # 指定があれば埋め込み層の重みをemb_weightsで初期化\n",
    "      self.emb = nn.Embedding.from_pretrained(emb_weights, padding_idx=padding_idx)\n",
    "    else:\n",
    "      self.emb = nn.Embedding(vocab_size, emb_size, padding_idx=padding_idx)\n",
    "    self.convs = nn.ModuleList([nn.Conv2d(1, out_channels, (kernel_height, emb_size), padding=(padding, 0)) for kernel_height, padding in conv_params])\n",
    "    self.drop = nn.Dropout(drop_rate)\n",
    "    self.fc = nn.Linear(len(conv_params) * out_channels, output_size)\n",
    "    \n",
    "  def forward(self, x):\n",
    "    # x.size() = (batch_size, seq_len)\n",
    "    emb = self.emb(x).unsqueeze(1)\n",
    "    # emb.size() = (batch_size, 1, seq_len, emb_size)\n",
    "    conv = [F.relu(conv(emb)).squeeze(3) for i, conv in enumerate(self.convs)]\n",
    "    # conv[i].size() = (batch_size, out_channels, seq_len + padding * 2 - kernel_height + 1)\n",
    "    max_pool = [F.max_pool1d(i, i.size(2)) for i in conv]\n",
    "    # max_pool[i].size() = (batch_size, out_channels, 1) -> seq_len方向に最大値を取得\n",
    "    max_pool_cat = torch.cat(max_pool, 1)\n",
    "    # max_pool_cat.size() = (batch_size, len(conv_params) * out_channels, 1)  -> フィルター別の結果を結合\n",
    "    out = self.fc(self.drop(max_pool_cat.squeeze(2)))\n",
    "    # out.size() = (batch_size, output_size)\n",
    "    return out"
   ]
  },
  {
   "cell_type": "code",
   "execution_count": 44,
   "metadata": {},
   "outputs": [],
   "source": [
    "from torch.utils.data import DataLoader\n",
    "import time\n",
    "from torch import optim\n",
    "\n",
    "def calculate_loss_and_accuracy(model, dataset, device=None, criterion=None):\n",
    "  \"\"\"損失・正解率を計算\"\"\"\n",
    "  dataloader = DataLoader(dataset, batch_size=1, shuffle=False)\n",
    "  loss = 0.0\n",
    "  total = 0\n",
    "  correct = 0\n",
    "  with torch.no_grad():\n",
    "    for data in dataloader:\n",
    "      # デバイスの指定\n",
    "      inputs = data['inputs'].to(device)\n",
    "      labels = data['labels'].to(device)\n",
    "\n",
    "      # 順伝播\n",
    "      outputs = model(inputs)\n",
    "\n",
    "      # 損失計算\n",
    "      if criterion != None:\n",
    "        loss += criterion(outputs, labels).item()\n",
    "\n",
    "      # 正解率計算\n",
    "      pred = torch.argmax(outputs, dim=-1)\n",
    "      total += len(inputs)\n",
    "      correct += (pred == labels).sum().item()\n",
    "      \n",
    "  return loss / len(dataset), correct / total\n",
    "  \n",
    "\n",
    "def train_model(dataset_train, dataset_valid, batch_size, model, criterion, optimizer, num_epochs, collate_fn=None, device=None):\n",
    "  \"\"\"モデルの学習を実行し、損失・正解率のログを返す\"\"\"\n",
    "  # デバイスの指定\n",
    "  model.to(device)\n",
    "\n",
    "  # dataloaderの作成\n",
    "  dataloader_train = DataLoader(dataset_train, batch_size=batch_size, shuffle=True, collate_fn=collate_fn)\n",
    "  dataloader_valid = DataLoader(dataset_valid, batch_size=1, shuffle=False)\n",
    "\n",
    "  # スケジューラの設定\n",
    "  scheduler = optim.lr_scheduler.CosineAnnealingLR(optimizer, num_epochs, eta_min=1e-5, last_epoch=-1)\n",
    "\n",
    "  # 学習\n",
    "  log_train = []\n",
    "  log_valid = []\n",
    "  for epoch in range(num_epochs):\n",
    "    # 開始時刻の記録\n",
    "    s_time = time.time()\n",
    "\n",
    "    # 訓練モードに設定\n",
    "    model.train()\n",
    "    for data in dataloader_train:\n",
    "      # 勾配をゼロで初期化\n",
    "      optimizer.zero_grad()\n",
    "\n",
    "      # 順伝播 + 誤差逆伝播 + 重み更新\n",
    "      inputs = data['inputs'].to(device)\n",
    "      labels = data['labels'].to(device)\n",
    "      outputs = model.forward(inputs)\n",
    "      loss = criterion(outputs, labels)\n",
    "      loss.backward()\n",
    "      optimizer.step()\n",
    "    \n",
    "    # 評価モードに設定\n",
    "    model.eval()\n",
    "\n",
    "    # 損失と正解率の算出\n",
    "    loss_train, acc_train = calculate_loss_and_accuracy(model, dataset_train, device, criterion=criterion)\n",
    "    loss_valid, acc_valid = calculate_loss_and_accuracy(model, dataset_valid, device, criterion=criterion)\n",
    "    log_train.append([loss_train, acc_train])\n",
    "    log_valid.append([loss_valid, acc_valid])\n",
    "\n",
    "    # チェックポイントの保存\n",
    "    torch.save({'epoch': epoch, 'model_state_dict': model.state_dict(), 'optimizer_state_dict': optimizer.state_dict()}, f'checkpoint{epoch + 1}.pt')\n",
    "\n",
    "    # 終了時刻の記録\n",
    "    e_time = time.time()\n",
    "\n",
    "    # ログを出力\n",
    "    print(f'epoch: {epoch + 1}, loss_train: {loss_train:.4f}, accuracy_train: {acc_train:.4f}, loss_valid: {loss_valid:.4f}, accuracy_valid: {acc_valid:.4f}, {(e_time - s_time):.4f}sec') \n",
    "\n",
    "    # 検証データの損失が3エポック連続で低下しなかった場合は学習終了\n",
    "    if epoch > 2 and log_valid[epoch - 3][0] <= log_valid[epoch - 2][0] <= log_valid[epoch - 1][0] <= log_valid[epoch][0]:\n",
    "      break\n",
    "      \n",
    "    # スケジューラを1ステップ進める\n",
    "    scheduler.step()\n",
    "\n",
    "  return {'train': log_train, 'valid': log_valid}"
   ]
  },
  {
   "cell_type": "code",
   "execution_count": 45,
   "metadata": {},
   "outputs": [],
   "source": [
    "import optuna\n",
    "\n",
    "def objective(trial):\n",
    "  # チューニング対象パラメータのセット\n",
    "  emb_size = int(trial.suggest_discrete_uniform('emb_size', 100, 400, 100))\n",
    "  out_channels = int(trial.suggest_discrete_uniform('out_channels', 50, 200, 50))\n",
    "  drop_rate = trial.suggest_discrete_uniform('drop_rate', 0.0, 0.5, 0.1)\n",
    "  learning_rate = trial.suggest_loguniform('learning_rate', 5e-4, 5e-2)\n",
    "  momentum = trial.suggest_discrete_uniform('momentum', 0.5, 0.9, 0.1)\n",
    "  batch_size = int(trial.suggest_discrete_uniform('batch_size', 16, 128, 16))\n",
    "\n",
    "\n",
    "  # 固定パラメータの設定\n",
    "  VOCAB_SIZE = len(set(word2id.values())) + 1\n",
    "  PADDING_IDX = len(set(word2id.values()))\n",
    "  OUTPUT_SIZE = 4\n",
    "  CONV_PARAMS = [[2, 0], [3, 1], [4, 2]]\n",
    "  NUM_EPOCHS = 30\n",
    "\n",
    "  # モデルの定義\n",
    "  model = textCNN(VOCAB_SIZE, EMB_SIZE, PADDING_IDX, OUTPUT_SIZE, out_channels, CONV_PARAMS, drop_rate, emb_weights=weights)\n",
    "\n",
    "  # 損失関数の定義\n",
    "  criterion = nn.CrossEntropyLoss()\n",
    "\n",
    "  # オプティマイザの定義\n",
    "  optimizer = torch.optim.SGD(model.parameters(), lr=learning_rate, momentum=momentum)\n",
    "\n",
    "  # デバイスの指定\n",
    "  device = torch.device('cuda')\n",
    "\n",
    "  # モデルの学習\n",
    "  log = train_model(dataset_train, dataset_valid, batch_size, model, criterion, optimizer, NUM_EPOCHS, collate_fn=Padsequence(PADDING_IDX), device=device)\n",
    "\n",
    "  # 損失の算出\n",
    "  loss_valid, _ = calculate_loss_and_accuracy(model, dataset_valid, device, criterion=criterion) \n",
    "\n",
    "  return loss_valid "
   ]
  },
  {
   "cell_type": "code",
   "execution_count": 47,
   "metadata": {},
   "outputs": [
    {
     "name": "stderr",
     "output_type": "stream",
     "text": [
      "\u001b[32m[I 2022-01-30 20:15:16,040]\u001b[0m A new study created in memory with name: no-name-d8d327fa-7aec-4320-8ee0-ace57428aba6\u001b[0m\n"
     ]
    },
    {
     "name": "stdout",
     "output_type": "stream",
     "text": [
      "epoch: 1, loss_train: 1.1640, accuracy_train: 0.4997, loss_valid: 1.1659, accuracy_valid: 0.4723, 11.6693sec\n"
     ]
    },
    {
     "ename": "KeyboardInterrupt",
     "evalue": "",
     "output_type": "error",
     "traceback": [
      "\u001b[0;31m\u001b[0m",
      "\u001b[0;31mKeyboardInterrupt\u001b[0mTraceback (most recent call last)",
      "\u001b[0;32m<ipython-input-47-e66916fabb70>\u001b[0m in \u001b[0;36m<module>\u001b[0;34m\u001b[0m\n\u001b[1;32m      1\u001b[0m \u001b[0;31m# 最適化\u001b[0m\u001b[0;34m\u001b[0m\u001b[0;34m\u001b[0m\u001b[0;34m\u001b[0m\u001b[0m\n\u001b[1;32m      2\u001b[0m \u001b[0mstudy\u001b[0m \u001b[0;34m=\u001b[0m \u001b[0moptuna\u001b[0m\u001b[0;34m.\u001b[0m\u001b[0mcreate_study\u001b[0m\u001b[0;34m(\u001b[0m\u001b[0;34m)\u001b[0m\u001b[0;34m\u001b[0m\u001b[0;34m\u001b[0m\u001b[0m\n\u001b[0;32m----> 3\u001b[0;31m \u001b[0mstudy\u001b[0m\u001b[0;34m.\u001b[0m\u001b[0moptimize\u001b[0m\u001b[0;34m(\u001b[0m\u001b[0mobjective\u001b[0m\u001b[0;34m,\u001b[0m \u001b[0mtimeout\u001b[0m\u001b[0;34m=\u001b[0m\u001b[0;36m18000\u001b[0m\u001b[0;34m)\u001b[0m\u001b[0;34m\u001b[0m\u001b[0;34m\u001b[0m\u001b[0m\n\u001b[0m\u001b[1;32m      4\u001b[0m \u001b[0;34m\u001b[0m\u001b[0m\n\u001b[1;32m      5\u001b[0m \u001b[0;31m# 結果の表示\u001b[0m\u001b[0;34m\u001b[0m\u001b[0;34m\u001b[0m\u001b[0;34m\u001b[0m\u001b[0m\n",
      "\u001b[0;32m/opt/conda/lib/python3.8/site-packages/optuna/study/study.py\u001b[0m in \u001b[0;36moptimize\u001b[0;34m(self, func, n_trials, timeout, n_jobs, catch, callbacks, gc_after_trial, show_progress_bar)\u001b[0m\n\u001b[1;32m    398\u001b[0m             )\n\u001b[1;32m    399\u001b[0m \u001b[0;34m\u001b[0m\u001b[0m\n\u001b[0;32m--> 400\u001b[0;31m         _optimize(\n\u001b[0m\u001b[1;32m    401\u001b[0m             \u001b[0mstudy\u001b[0m\u001b[0;34m=\u001b[0m\u001b[0mself\u001b[0m\u001b[0;34m,\u001b[0m\u001b[0;34m\u001b[0m\u001b[0;34m\u001b[0m\u001b[0m\n\u001b[1;32m    402\u001b[0m             \u001b[0mfunc\u001b[0m\u001b[0;34m=\u001b[0m\u001b[0mfunc\u001b[0m\u001b[0;34m,\u001b[0m\u001b[0;34m\u001b[0m\u001b[0;34m\u001b[0m\u001b[0m\n",
      "\u001b[0;32m/opt/conda/lib/python3.8/site-packages/optuna/study/_optimize.py\u001b[0m in \u001b[0;36m_optimize\u001b[0;34m(study, func, n_trials, timeout, n_jobs, catch, callbacks, gc_after_trial, show_progress_bar)\u001b[0m\n\u001b[1;32m     64\u001b[0m     \u001b[0;32mtry\u001b[0m\u001b[0;34m:\u001b[0m\u001b[0;34m\u001b[0m\u001b[0;34m\u001b[0m\u001b[0m\n\u001b[1;32m     65\u001b[0m         \u001b[0;32mif\u001b[0m \u001b[0mn_jobs\u001b[0m \u001b[0;34m==\u001b[0m \u001b[0;36m1\u001b[0m\u001b[0;34m:\u001b[0m\u001b[0;34m\u001b[0m\u001b[0;34m\u001b[0m\u001b[0m\n\u001b[0;32m---> 66\u001b[0;31m             _optimize_sequential(\n\u001b[0m\u001b[1;32m     67\u001b[0m                 \u001b[0mstudy\u001b[0m\u001b[0;34m,\u001b[0m\u001b[0;34m\u001b[0m\u001b[0;34m\u001b[0m\u001b[0m\n\u001b[1;32m     68\u001b[0m                 \u001b[0mfunc\u001b[0m\u001b[0;34m,\u001b[0m\u001b[0;34m\u001b[0m\u001b[0;34m\u001b[0m\u001b[0m\n",
      "\u001b[0;32m/opt/conda/lib/python3.8/site-packages/optuna/study/_optimize.py\u001b[0m in \u001b[0;36m_optimize_sequential\u001b[0;34m(study, func, n_trials, timeout, catch, callbacks, gc_after_trial, reseed_sampler_rng, time_start, progress_bar)\u001b[0m\n\u001b[1;32m    161\u001b[0m \u001b[0;34m\u001b[0m\u001b[0m\n\u001b[1;32m    162\u001b[0m         \u001b[0;32mtry\u001b[0m\u001b[0;34m:\u001b[0m\u001b[0;34m\u001b[0m\u001b[0;34m\u001b[0m\u001b[0m\n\u001b[0;32m--> 163\u001b[0;31m             \u001b[0mtrial\u001b[0m \u001b[0;34m=\u001b[0m \u001b[0m_run_trial\u001b[0m\u001b[0;34m(\u001b[0m\u001b[0mstudy\u001b[0m\u001b[0;34m,\u001b[0m \u001b[0mfunc\u001b[0m\u001b[0;34m,\u001b[0m \u001b[0mcatch\u001b[0m\u001b[0;34m)\u001b[0m\u001b[0;34m\u001b[0m\u001b[0;34m\u001b[0m\u001b[0m\n\u001b[0m\u001b[1;32m    164\u001b[0m         \u001b[0;32mexcept\u001b[0m \u001b[0mException\u001b[0m\u001b[0;34m:\u001b[0m\u001b[0;34m\u001b[0m\u001b[0;34m\u001b[0m\u001b[0m\n\u001b[1;32m    165\u001b[0m             \u001b[0;32mraise\u001b[0m\u001b[0;34m\u001b[0m\u001b[0;34m\u001b[0m\u001b[0m\n",
      "\u001b[0;32m/opt/conda/lib/python3.8/site-packages/optuna/study/_optimize.py\u001b[0m in \u001b[0;36m_run_trial\u001b[0;34m(study, func, catch)\u001b[0m\n\u001b[1;32m    211\u001b[0m \u001b[0;34m\u001b[0m\u001b[0m\n\u001b[1;32m    212\u001b[0m     \u001b[0;32mtry\u001b[0m\u001b[0;34m:\u001b[0m\u001b[0;34m\u001b[0m\u001b[0;34m\u001b[0m\u001b[0m\n\u001b[0;32m--> 213\u001b[0;31m         \u001b[0mvalue_or_values\u001b[0m \u001b[0;34m=\u001b[0m \u001b[0mfunc\u001b[0m\u001b[0;34m(\u001b[0m\u001b[0mtrial\u001b[0m\u001b[0;34m)\u001b[0m\u001b[0;34m\u001b[0m\u001b[0;34m\u001b[0m\u001b[0m\n\u001b[0m\u001b[1;32m    214\u001b[0m     \u001b[0;32mexcept\u001b[0m \u001b[0mexceptions\u001b[0m\u001b[0;34m.\u001b[0m\u001b[0mTrialPruned\u001b[0m \u001b[0;32mas\u001b[0m \u001b[0me\u001b[0m\u001b[0;34m:\u001b[0m\u001b[0;34m\u001b[0m\u001b[0;34m\u001b[0m\u001b[0m\n\u001b[1;32m    215\u001b[0m         \u001b[0;31m# TODO(mamu): Handle multi-objective cases.\u001b[0m\u001b[0;34m\u001b[0m\u001b[0;34m\u001b[0m\u001b[0;34m\u001b[0m\u001b[0m\n",
      "\u001b[0;32m<ipython-input-45-309879d8857e>\u001b[0m in \u001b[0;36mobjective\u001b[0;34m(trial)\u001b[0m\n\u001b[1;32m     31\u001b[0m \u001b[0;34m\u001b[0m\u001b[0m\n\u001b[1;32m     32\u001b[0m   \u001b[0;31m# モデルの学習\u001b[0m\u001b[0;34m\u001b[0m\u001b[0;34m\u001b[0m\u001b[0;34m\u001b[0m\u001b[0m\n\u001b[0;32m---> 33\u001b[0;31m   \u001b[0mlog\u001b[0m \u001b[0;34m=\u001b[0m \u001b[0mtrain_model\u001b[0m\u001b[0;34m(\u001b[0m\u001b[0mdataset_train\u001b[0m\u001b[0;34m,\u001b[0m \u001b[0mdataset_valid\u001b[0m\u001b[0;34m,\u001b[0m \u001b[0mbatch_size\u001b[0m\u001b[0;34m,\u001b[0m \u001b[0mmodel\u001b[0m\u001b[0;34m,\u001b[0m \u001b[0mcriterion\u001b[0m\u001b[0;34m,\u001b[0m \u001b[0moptimizer\u001b[0m\u001b[0;34m,\u001b[0m \u001b[0mNUM_EPOCHS\u001b[0m\u001b[0;34m,\u001b[0m \u001b[0mcollate_fn\u001b[0m\u001b[0;34m=\u001b[0m\u001b[0mPadsequence\u001b[0m\u001b[0;34m(\u001b[0m\u001b[0mPADDING_IDX\u001b[0m\u001b[0;34m)\u001b[0m\u001b[0;34m,\u001b[0m \u001b[0mdevice\u001b[0m\u001b[0;34m=\u001b[0m\u001b[0mdevice\u001b[0m\u001b[0;34m)\u001b[0m\u001b[0;34m\u001b[0m\u001b[0;34m\u001b[0m\u001b[0m\n\u001b[0m\u001b[1;32m     34\u001b[0m \u001b[0;34m\u001b[0m\u001b[0m\n\u001b[1;32m     35\u001b[0m   \u001b[0;31m# 損失の算出\u001b[0m\u001b[0;34m\u001b[0m\u001b[0;34m\u001b[0m\u001b[0;34m\u001b[0m\u001b[0m\n",
      "\u001b[0;32m<ipython-input-44-3e2ee090210c>\u001b[0m in \u001b[0;36mtrain_model\u001b[0;34m(dataset_train, dataset_valid, batch_size, model, criterion, optimizer, num_epochs, collate_fn, device)\u001b[0m\n\u001b[1;32m     67\u001b[0m \u001b[0;34m\u001b[0m\u001b[0m\n\u001b[1;32m     68\u001b[0m     \u001b[0;31m# 損失と正解率の算出\u001b[0m\u001b[0;34m\u001b[0m\u001b[0;34m\u001b[0m\u001b[0;34m\u001b[0m\u001b[0m\n\u001b[0;32m---> 69\u001b[0;31m     \u001b[0mloss_train\u001b[0m\u001b[0;34m,\u001b[0m \u001b[0macc_train\u001b[0m \u001b[0;34m=\u001b[0m \u001b[0mcalculate_loss_and_accuracy\u001b[0m\u001b[0;34m(\u001b[0m\u001b[0mmodel\u001b[0m\u001b[0;34m,\u001b[0m \u001b[0mdataset_train\u001b[0m\u001b[0;34m,\u001b[0m \u001b[0mdevice\u001b[0m\u001b[0;34m,\u001b[0m \u001b[0mcriterion\u001b[0m\u001b[0;34m=\u001b[0m\u001b[0mcriterion\u001b[0m\u001b[0;34m)\u001b[0m\u001b[0;34m\u001b[0m\u001b[0;34m\u001b[0m\u001b[0m\n\u001b[0m\u001b[1;32m     70\u001b[0m     \u001b[0mloss_valid\u001b[0m\u001b[0;34m,\u001b[0m \u001b[0macc_valid\u001b[0m \u001b[0;34m=\u001b[0m \u001b[0mcalculate_loss_and_accuracy\u001b[0m\u001b[0;34m(\u001b[0m\u001b[0mmodel\u001b[0m\u001b[0;34m,\u001b[0m \u001b[0mdataset_valid\u001b[0m\u001b[0;34m,\u001b[0m \u001b[0mdevice\u001b[0m\u001b[0;34m,\u001b[0m \u001b[0mcriterion\u001b[0m\u001b[0;34m=\u001b[0m\u001b[0mcriterion\u001b[0m\u001b[0;34m)\u001b[0m\u001b[0;34m\u001b[0m\u001b[0;34m\u001b[0m\u001b[0m\n\u001b[1;32m     71\u001b[0m     \u001b[0mlog_train\u001b[0m\u001b[0;34m.\u001b[0m\u001b[0mappend\u001b[0m\u001b[0;34m(\u001b[0m\u001b[0;34m[\u001b[0m\u001b[0mloss_train\u001b[0m\u001b[0;34m,\u001b[0m \u001b[0macc_train\u001b[0m\u001b[0;34m]\u001b[0m\u001b[0;34m)\u001b[0m\u001b[0;34m\u001b[0m\u001b[0;34m\u001b[0m\u001b[0m\n",
      "\u001b[0;32m<ipython-input-44-3e2ee090210c>\u001b[0m in \u001b[0;36mcalculate_loss_and_accuracy\u001b[0;34m(model, dataset, device, criterion)\u001b[0m\n\u001b[1;32m     16\u001b[0m \u001b[0;34m\u001b[0m\u001b[0m\n\u001b[1;32m     17\u001b[0m       \u001b[0;31m# 順伝播\u001b[0m\u001b[0;34m\u001b[0m\u001b[0;34m\u001b[0m\u001b[0;34m\u001b[0m\u001b[0m\n\u001b[0;32m---> 18\u001b[0;31m       \u001b[0moutputs\u001b[0m \u001b[0;34m=\u001b[0m \u001b[0mmodel\u001b[0m\u001b[0;34m(\u001b[0m\u001b[0minputs\u001b[0m\u001b[0;34m)\u001b[0m\u001b[0;34m\u001b[0m\u001b[0;34m\u001b[0m\u001b[0m\n\u001b[0m\u001b[1;32m     19\u001b[0m \u001b[0;34m\u001b[0m\u001b[0m\n\u001b[1;32m     20\u001b[0m       \u001b[0;31m# 損失計算\u001b[0m\u001b[0;34m\u001b[0m\u001b[0;34m\u001b[0m\u001b[0;34m\u001b[0m\u001b[0m\n",
      "\u001b[0;32m/opt/conda/lib/python3.8/site-packages/torch/nn/modules/module.py\u001b[0m in \u001b[0;36m_call_impl\u001b[0;34m(self, *input, **kwargs)\u001b[0m\n\u001b[1;32m    866\u001b[0m     \u001b[0;32mdef\u001b[0m \u001b[0m_call_impl\u001b[0m\u001b[0;34m(\u001b[0m\u001b[0mself\u001b[0m\u001b[0;34m,\u001b[0m \u001b[0;34m*\u001b[0m\u001b[0minput\u001b[0m\u001b[0;34m,\u001b[0m \u001b[0;34m**\u001b[0m\u001b[0mkwargs\u001b[0m\u001b[0;34m)\u001b[0m\u001b[0;34m:\u001b[0m\u001b[0;34m\u001b[0m\u001b[0;34m\u001b[0m\u001b[0m\n\u001b[1;32m    867\u001b[0m         \u001b[0;31m# Do not call functions when jit is used\u001b[0m\u001b[0;34m\u001b[0m\u001b[0;34m\u001b[0m\u001b[0;34m\u001b[0m\u001b[0m\n\u001b[0;32m--> 868\u001b[0;31m         \u001b[0mfull_backward_hooks\u001b[0m\u001b[0;34m,\u001b[0m \u001b[0mnon_full_backward_hooks\u001b[0m \u001b[0;34m=\u001b[0m \u001b[0;34m[\u001b[0m\u001b[0;34m]\u001b[0m\u001b[0;34m,\u001b[0m \u001b[0;34m[\u001b[0m\u001b[0;34m]\u001b[0m\u001b[0;34m\u001b[0m\u001b[0;34m\u001b[0m\u001b[0m\n\u001b[0m\u001b[1;32m    869\u001b[0m         \u001b[0;32mif\u001b[0m \u001b[0mlen\u001b[0m\u001b[0;34m(\u001b[0m\u001b[0mself\u001b[0m\u001b[0;34m.\u001b[0m\u001b[0m_backward_hooks\u001b[0m\u001b[0;34m)\u001b[0m \u001b[0;34m>\u001b[0m \u001b[0;36m0\u001b[0m \u001b[0;32mor\u001b[0m \u001b[0mlen\u001b[0m\u001b[0;34m(\u001b[0m\u001b[0m_global_backward_hooks\u001b[0m\u001b[0;34m)\u001b[0m \u001b[0;34m>\u001b[0m \u001b[0;36m0\u001b[0m\u001b[0;34m:\u001b[0m\u001b[0;34m\u001b[0m\u001b[0;34m\u001b[0m\u001b[0m\n\u001b[1;32m    870\u001b[0m             \u001b[0mfull_backward_hooks\u001b[0m\u001b[0;34m,\u001b[0m \u001b[0mnon_full_backward_hooks\u001b[0m \u001b[0;34m=\u001b[0m \u001b[0mself\u001b[0m\u001b[0;34m.\u001b[0m\u001b[0m_get_backward_hooks\u001b[0m\u001b[0;34m(\u001b[0m\u001b[0;34m)\u001b[0m\u001b[0;34m\u001b[0m\u001b[0;34m\u001b[0m\u001b[0m\n",
      "\u001b[0;31mKeyboardInterrupt\u001b[0m: "
     ]
    }
   ],
   "source": [
    "# 最適化\n",
    "study = optuna.create_study()\n",
    "study.optimize(objective, timeout=10800)\n",
    "\n",
    "# 結果の表示\n",
    "print('Best trial:')\n",
    "trial = study.best_trial\n",
    "print('  Value: {:.3f}'.format(trial.value))\n",
    "print('  Params: ')\n",
    "for key, value in trial.params.items():\n",
    "  print('    {}: {}'.format(key, value))"
   ]
  },
  {
   "cell_type": "code",
   "execution_count": null,
   "metadata": {},
   "outputs": [],
   "source": [
    "# パラメータの設定\n",
    "VOCAB_SIZE = len(set(word2id.values())) + 1\n",
    "EMB_SIZE = int(trial.params['emb_size'])\n",
    "PADDING_IDX = len(set(word2id.values()))\n",
    "OUTPUT_SIZE = 4\n",
    "OUT_CHANNELS = int(trial.params['out_channels'])\n",
    "CONV_PARAMS = [[2, 0], [3, 1], [4, 2]]\n",
    "DROP_RATE = trial.params['drop_rate']\n",
    "LEARNING_RATE = trial.params['learning_rate']\n",
    "BATCH_SIZE = int(trial.params['batch_size'])\n",
    "NUM_EPOCHS = 30\n",
    "\n",
    "# モデルの定義\n",
    "model = textCNN(VOCAB_SIZE, EMB_SIZE, PADDING_IDX, OUTPUT_SIZE, OUT_CHANNELS, CONV_PARAMS, DROP_RATE, emb_weights=weights)\n",
    "print(model)\n",
    "\n",
    "# 損失関数の定義\n",
    "criterion = nn.CrossEntropyLoss()\n",
    "\n",
    "# オプティマイザの定義\n",
    "optimizer = torch.optim.SGD(model.parameters(), lr=LEARNING_RATE, momentum=0.9)\n",
    "\n",
    "# デバイスの指定\n",
    "device = torch.device('cuda')\n",
    "\n",
    "# モデルの学習\n",
    "log = train_model(dataset_train, dataset_valid, BATCH_SIZE, model, criterion, optimizer, NUM_EPOCHS, collate_fn=Padsequence(PADDING_IDX), device=device)"
   ]
  },
  {
   "cell_type": "code",
   "execution_count": null,
   "metadata": {},
   "outputs": [],
   "source": [
    "# ログの可視化\n",
    "visualize_logs(log)\n",
    "\n",
    "# 正解率の算出\n",
    "_, acc_train = calculate_loss_and_accuracy(model, dataset_train, device)\n",
    "_, acc_test = calculate_loss_and_accuracy(model, dataset_test, device)\n",
    "print(f'正解率（学習データ）：{acc_train:.3f}')\n",
    "print(f'正解率（評価データ）：{acc_test:.3f}')"
   ]
  },
  {
   "cell_type": "code",
   "execution_count": null,
   "metadata": {},
   "outputs": [],
   "source": []
  }
 ],
 "metadata": {
  "kernelspec": {
   "display_name": "Python 3",
   "language": "python",
   "name": "python3"
  },
  "language_info": {
   "codemirror_mode": {
    "name": "ipython",
    "version": 3
   },
   "file_extension": ".py",
   "mimetype": "text/x-python",
   "name": "python",
   "nbconvert_exporter": "python",
   "pygments_lexer": "ipython3",
   "version": "3.8.8"
  }
 },
 "nbformat": 4,
 "nbformat_minor": 4
}
